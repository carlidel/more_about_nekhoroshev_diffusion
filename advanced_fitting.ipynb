{
 "cells": [
  {
   "cell_type": "markdown",
   "id": "ecc00248",
   "metadata": {},
   "source": [
    "**Are we in SWAN?**"
   ]
  },
  {
   "cell_type": "code",
   "execution_count": null,
   "id": "b96ab1bd",
   "metadata": {},
   "outputs": [],
   "source": [
    "%pip install --user crank-nicolson-numba"
   ]
  },
  {
   "cell_type": "markdown",
   "id": "819b5117",
   "metadata": {},
   "source": [
    "# More complete studies on the fitting procedures"
   ]
  },
  {
   "cell_type": "code",
   "execution_count": 1,
   "id": "692a58d0",
   "metadata": {},
   "outputs": [],
   "source": [
    "%matplotlib widget"
   ]
  },
  {
   "cell_type": "code",
   "execution_count": 3,
   "id": "657c7f05",
   "metadata": {},
   "outputs": [],
   "source": [
    "import numpy as np\n",
    "import matplotlib.pyplot as plt\n",
    "import scipy\n",
    "import scipy.integrate\n",
    "from tqdm.notebook import tqdm\n",
    "import crank_nicolson_numba.generic as cn\n",
    "import itertools\n",
    "# For parallelization\n",
    "from joblib import Parallel, delayed"
   ]
  },
  {
   "cell_type": "markdown",
   "id": "5cb6ffa6",
   "metadata": {},
   "source": [
    "## First, we need to define a realistic initial distribution"
   ]
  },
  {
   "cell_type": "markdown",
   "id": "3d592603",
   "metadata": {},
   "source": [
    "It's very simple and direct: if we decide to work in normalized emittance variables, and we work with a gaussian beam distribution with it's characteristic emittance, we have that\n",
    "$$\\rho_0(I) = e^{-I}$$\n",
    "Where $I$, from now on, is expessed in sigma units."
   ]
  },
  {
   "cell_type": "code",
   "execution_count": 11,
   "id": "2950f4b1",
   "metadata": {},
   "outputs": [],
   "source": [
    "def rho_0(I, damping_position=np.nan, l=np.nan):\n",
    "    if np.isnan(damping_position) or np.isnan(l):\n",
    "        return np.exp(-I)\n",
    "    else:\n",
    "        return np.exp(-I) / (1 + np.exp((I - damping_position)/l))"
   ]
  },
  {
   "cell_type": "code",
   "execution_count": 14,
   "id": "adea72cf",
   "metadata": {},
   "outputs": [
    {
     "data": {
      "text/plain": [
       "[<matplotlib.lines.Line2D at 0x7fe96b8c20d0>]"
      ]
     },
     "execution_count": 14,
     "metadata": {},
     "output_type": "execute_result"
    },
    {
     "data": {
      "image/png": "[encoded data removed]",
      "text/plain": [
       "<Figure size 432x288 with 1 Axes>"
      ]
     },
     "metadata": {
      "needs_background": "light"
     },
     "output_type": "display_data"
    }
   ],
   "source": [
    "I = np.linspace(0, 5, 1000)\n",
    "plt.plot(I, rho_0(I, 4, 0.01))"
   ]
  },
  {
   "cell_type": "code",
   "execution_count": null,
   "id": "687e6592",
   "metadata": {},
   "outputs": [],
   "source": []
  }
 ],
 "metadata": {
  "kernelspec": {
   "display_name": "Python 3",
   "language": "python",
   "name": "python3"
  },
  "language_info": {
   "codemirror_mode": {
    "name": "ipython",
    "version": 3
   },
   "file_extension": ".py",
   "mimetype": "text/x-python",
   "name": "python",
   "nbconvert_exporter": "python",
   "pygments_lexer": "ipython3",
   "version": "3.8.8"
  }
 },
 "nbformat": 4,
 "nbformat_minor": 5
}
