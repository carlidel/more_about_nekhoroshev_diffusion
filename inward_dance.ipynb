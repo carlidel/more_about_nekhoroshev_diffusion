{
 "cells": [
  {
   "cell_type": "markdown",
   "id": "c3c180a0-cfc0-4673-b704-03703e4ff96e",
   "metadata": {},
   "source": [
    "# Going outwards with the collimator works! But how about going inwards?"
   ]
  },
  {
   "cell_type": "code",
   "execution_count": 37,
   "id": "88a50b09-d2ec-4d52-8e24-1582dd1a3c37",
   "metadata": {},
   "outputs": [],
   "source": [
    "%matplotlib widget"
   ]
  },
  {
   "cell_type": "markdown",
   "id": "a6e065b3-f54b-4015-bbb0-aa9cf4f4d6be",
   "metadata": {},
   "source": [
    "**Library Import**"
   ]
  },
  {
   "cell_type": "code",
   "execution_count": 38,
   "id": "7aa8cccf-a964-432b-86e2-6d10c727e01a",
   "metadata": {},
   "outputs": [],
   "source": [
    "import numpy as np\n",
    "import matplotlib.pyplot as plt\n",
    "import scipy\n",
    "import scipy.integrate\n",
    "from tqdm.notebook import tqdm\n",
    "import crank_nicolson_numba.generic as cn\n",
    "import itertools\n",
    "# For parallelization\n",
    "from joblib import Parallel, delayed\n",
    "\n",
    "import nekhoroshev_tools as nt"
   ]
  },
  {
   "cell_type": "code",
   "execution_count": 39,
   "id": "25f7a969-5445-4ef8-b699-cf486e9d58a3",
   "metadata": {},
   "outputs": [],
   "source": [
    "def afpt(I_min, I_max, I_star, exponent, c=None):\n",
    "    if c is None:\n",
    "        c = nt.standard_c(0.0, I_max, I_star, exponent)\n",
    "    return scipy.integrate.quad(\n",
    "        lambda x: 2*x/nt.D(x, I_star, exponent, c=c),\n",
    "        I_min,\n",
    "        I_max\n",
    "    )[0]"
   ]
  },
  {
   "cell_type": "markdown",
   "id": "0f27e974-3738-45f0-bb04-5a5aafb0516e",
   "metadata": {},
   "source": [
    "## First, we need to define a realistic initial distribution"
   ]
  },
  {
   "cell_type": "markdown",
   "id": "d3375cec-4aea-47a4-837d-915fd19a7aa4",
   "metadata": {},
   "source": [
    "It's very simple and direct: if we decide to work in normalized emittance variables, and we work with a gaussian beam distribution with it's characteristic emittance, we have that\n",
    "$$\\rho_0(I) = e^{-I}$$\n",
    "Where $I$, from now on, is expessed in sigma units."
   ]
  },
  {
   "cell_type": "code",
   "execution_count": 40,
   "id": "960a1860-3b4c-4032-868a-47a80e39556b",
   "metadata": {},
   "outputs": [],
   "source": [
    "def rho_0(I, damping_position=np.nan, l=np.nan):\n",
    "    if np.isnan(damping_position) or np.isnan(l):\n",
    "        return np.exp(-I)\n",
    "    else:\n",
    "        return np.exp(-I) / (1 + np.exp((I - damping_position)/l))"
   ]
  },
  {
   "cell_type": "markdown",
   "id": "db420b79-240b-4e7d-ab87-ea1333e49139",
   "metadata": {},
   "source": [
    "## Setting up a regular scenario"
   ]
  },
  {
   "cell_type": "code",
   "execution_count": 41,
   "id": "ec0da5be-975b-43ae-ade9-09ec63e9e0d2",
   "metadata": {},
   "outputs": [],
   "source": [
    "I_damping = 2.95\n",
    "I_max = 3.0\n",
    "I_star = 8.0\n",
    "k = 0.33\n",
    "exponent = 1/(2*k)\n",
    "\n",
    "c = nt.standard_c(0.0, I_max, I_star, exponent)"
   ]
  },
  {
   "cell_type": "code",
   "execution_count": 42,
   "id": "6f2698eb-79bf-48a8-bf5e-2f5849a32783",
   "metadata": {},
   "outputs": [],
   "source": [
    "cn_sampling = 10000\n",
    "I_list, dI = np.linspace(0.0, I_max, cn_sampling, retstep=True)\n",
    "\n",
    "cn_time_steps = 50\n",
    "dt = nt.current_peak_time(I_damping, I_max, I_star, exponent, c)/cn_time_steps"
   ]
  },
  {
   "cell_type": "markdown",
   "id": "6601f813-a701-4a87-b9e1-91475c6f6599",
   "metadata": {},
   "source": [
    "# \"Long enough\" tracking"
   ]
  },
  {
   "cell_type": "markdown",
   "id": "a97f0dc8-72a4-4da5-8e51-b6efe87bf5a9",
   "metadata": {},
   "source": [
    "## Working in the semi-stable region"
   ]
  },
  {
   "cell_type": "markdown",
   "id": "e6734f6b-a26e-4e2e-b6fa-c8de97355e59",
   "metadata": {},
   "source": [
    "Given $I_*=10.0$, we will firstly analyze the semi-stable region $[5.0-8.0]$ where we have the beginning of the saturation phase for $D(I)$."
   ]
  },
  {
   "cell_type": "code",
   "execution_count": 43,
   "id": "2d5ca31b-ac3d-45ff-8a06-ae6fe8f9f168",
   "metadata": {},
   "outputs": [],
   "source": [
    "steps_per_sample = 10\n",
    "\n",
    "steps_per_iteration = 15000\n",
    "iterations = 7\n",
    "macro_iterations = 2\n",
    "long_track_steps = steps_per_iteration * iterations * (macro_iterations + 1)"
   ]
  },
  {
   "cell_type": "markdown",
   "id": "e30d925d-8c5d-44e0-92d5-3a31a517d1ce",
   "metadata": {},
   "source": [
    "## How's the regular current for a single, constant $I_a$?"
   ]
  },
  {
   "cell_type": "code",
   "execution_count": 44,
   "id": "137d2298-5637-4d23-b6d7-2c0a5fcb097c",
   "metadata": {},
   "outputs": [
    {
     "name": "stderr",
     "output_type": "stream",
     "text": [
      "/home/camontan/Insync/carlo.montanari3@studio.unibo.it/OneDrive_Biz/projects/new_games_with_diffusion/nekhoroshev_tools.py:37: RuntimeWarning: divide by zero encountered in double_scalars\n",
      "  return c * np.exp(-2*np.power(I_star/I, exponent)) * (0.5 if halved else 1.0)\n",
      "100%|██████████| 315000/315000 [07:43<00:00, 679.50it/s]\n"
     ]
    }
   ],
   "source": [
    "engine = cn.cn_generic(0, I_max, rho_0(I_list, I_damping, dI*5), dt, lambda x: nt.D(x, I_star, exponent, c, True))\n",
    "data_0 = engine.get_data_with_x()\n",
    "\n",
    "times_long, current_long = engine.current(long_track_steps, steps_per_sample, False)\n",
    "data_long = engine.get_data_with_x()"
   ]
  },
  {
   "cell_type": "markdown",
   "id": "de4bb27e-391e-4231-946f-6119c5196d2f",
   "metadata": {},
   "source": [
    "**That's how our distribution (slowly) evolves...**\n",
    "\n",
    "(In order to see things it's necessary to work with matplotlib interactive mode and zoom a lot)"
   ]
  },
  {
   "cell_type": "code",
   "execution_count": 45,
   "id": "d38daa93-730a-4979-9823-7b142c57bde2",
   "metadata": {},
   "outputs": [
    {
     "data": {
      "application/vnd.jupyter.widget-view+json": {
       "model_id": "5d59eca40b0242f9ac8928b9008fba3f",
       "version_major": 2,
       "version_minor": 0
      },
      "text/plain": [
       "Canvas(toolbar=Toolbar(toolitems=[('Home', 'Reset original view', 'home', 'home'), ('Back', 'Back to previous …"
      ]
     },
     "metadata": {},
     "output_type": "display_data"
    },
    {
     "data": {
      "text/plain": [
       "<matplotlib.legend.Legend at 0x7ff6c75aa7c0>"
      ]
     },
     "execution_count": 45,
     "metadata": {},
     "output_type": "execute_result"
    }
   ],
   "source": [
    "plt.figure()\n",
    "plt.plot(data_0[0], data_0[1], label=\"Initial condition\")\n",
    "plt.plot(data_long[0], data_long[1], label=\"After iterations\")\n",
    "plt.axvline(I_max, color=\"black\", label=\"$I_a$\")\n",
    "plt.xlabel(\"$I$\")\n",
    "plt.ylabel(\"$\\\\rho$\")\n",
    "plt.legend()"
   ]
  },
  {
   "cell_type": "markdown",
   "id": "dd09d40f-cec1-405b-83f0-1d5d0d231080",
   "metadata": {},
   "source": [
    "**And here's the current!**"
   ]
  },
  {
   "cell_type": "code",
   "execution_count": 46,
   "id": "92f8f442-443b-4ad3-9f90-bd3de960eb61",
   "metadata": {},
   "outputs": [
    {
     "data": {
      "application/vnd.jupyter.widget-view+json": {
       "model_id": "1d3f5bbef9e846078ea546ba2a443843",
       "version_major": 2,
       "version_minor": 0
      },
      "text/plain": [
       "Canvas(toolbar=Toolbar(toolitems=[('Home', 'Reset original view', 'home', 'home'), ('Back', 'Back to previous …"
      ]
     },
     "metadata": {},
     "output_type": "display_data"
    }
   ],
   "source": [
    "plt.figure()\n",
    "plt.plot(times_long, current_long)\n",
    "plt.xlabel(\"$t$\")\n",
    "plt.ylabel(\"$J$\")\n",
    "plt.yscale(\"log\")"
   ]
  },
  {
   "cell_type": "markdown",
   "id": "97414eec-4a6a-4895-b0e8-a17f2239cbb1",
   "metadata": {},
   "source": [
    "## Experimenting with a bit of dancing!"
   ]
  },
  {
   "cell_type": "code",
   "execution_count": 52,
   "id": "ab80aa41-160e-462f-8493-74477db7cdd3",
   "metadata": {
    "scrolled": true,
    "tags": []
   },
   "outputs": [
    {
     "name": "stderr",
     "output_type": "stream",
     "text": [
      "/home/camontan/Insync/carlo.montanari3@studio.unibo.it/OneDrive_Biz/projects/new_games_with_diffusion/nekhoroshev_tools.py:37: RuntimeWarning: divide by zero encountered in double_scalars\n",
      "  return c * np.exp(-2*np.power(I_star/I, exponent)) * (0.5 if halved else 1.0)\n"
     ]
    },
    {
     "data": {
      "application/vnd.jupyter.widget-view+json": {
       "model_id": "3b7491d706e34373bca486f8052ac34b",
       "version_major": 2,
       "version_minor": 0
      },
      "text/plain": [
       "  0%|          | 0/3 [00:00<?, ?it/s]"
      ]
     },
     "metadata": {},
     "output_type": "display_data"
    },
    {
     "data": {
      "application/vnd.jupyter.widget-view+json": {
       "model_id": "aff7e9a71a0b4dc592a0cef7ca300500",
       "version_major": 2,
       "version_minor": 0
      },
      "text/plain": [
       "  0%|          | 0/7 [00:00<?, ?it/s]"
      ]
     },
     "metadata": {},
     "output_type": "display_data"
    },
    {
     "data": {
      "application/vnd.jupyter.widget-view+json": {
       "model_id": "20bbc5d8781e4643acca99e3eaf7f427",
       "version_major": 2,
       "version_minor": 0
      },
      "text/plain": [
       "  0%|          | 0/7 [00:00<?, ?it/s]"
      ]
     },
     "metadata": {},
     "output_type": "display_data"
    },
    {
     "data": {
      "application/vnd.jupyter.widget-view+json": {
       "model_id": "a704c86f70d7405fac546d10fbf8df67",
       "version_major": 2,
       "version_minor": 0
      },
      "text/plain": [
       "  0%|          | 0/7 [00:00<?, ?it/s]"
      ]
     },
     "metadata": {},
     "output_type": "display_data"
    }
   ],
   "source": [
    "engine = cn.cn_generic(0, I_max, rho_0(I_list, I_damping, dI*5), dt, lambda x: nt.D(x, I_star, exponent, c, True))\n",
    "\n",
    "t_absolute_out = []\n",
    "t_relative_out = []\n",
    "c_out = []\n",
    "I_max_list = []\n",
    "set_list = []\n",
    "\n",
    "t_absolute_out_partial = []\n",
    "t_relative_out_partial = []\n",
    "c_out_partial = []\n",
    "I_max_list_partial = []\n",
    "set_list_partial = []\n",
    "\n",
    "for j in tqdm(range(macro_iterations + 1)):\n",
    "    if j != 0:\n",
    "        engine.move_barrier_forward(0.05 * iterations)\n",
    "\n",
    "    for i in tqdm(range(iterations)):\n",
    "        time, current = engine.current(steps_per_iteration, steps_per_sample)\n",
    "        if len(t_absolute_out) > 0:\n",
    "            absolute_time = time + t_absolute_out[-1][-1]\n",
    "        else:\n",
    "            absolute_time = time.copy()\n",
    "        t_relative_out.append(time)\n",
    "        t_absolute_out.append(absolute_time)\n",
    "        c_out.append(current)\n",
    "        I_max_list.append(engine.I_max)\n",
    "        set_list.append(i)\n",
    "        if i != 0:\n",
    "            t_relative_out_partial.append(time)\n",
    "            t_absolute_out_partial.append(absolute_time)\n",
    "            c_out_partial.append(current)\n",
    "            I_max_list_partial.append(engine.I_max)\n",
    "            set_list_partial.append(i)\n",
    "        engine.move_barrier_backward(0.05)"
   ]
  },
  {
   "cell_type": "code",
   "execution_count": 53,
   "id": "20abc4c5-9ee5-4964-aca1-8d1b0947e286",
   "metadata": {},
   "outputs": [
    {
     "data": {
      "application/vnd.jupyter.widget-view+json": {
       "model_id": "e5542902359a452c91957ff23691edfe",
       "version_major": 2,
       "version_minor": 0
      },
      "text/plain": [
       "Canvas(toolbar=Toolbar(toolitems=[('Home', 'Reset original view', 'home', 'home'), ('Back', 'Back to previous …"
      ]
     },
     "metadata": {},
     "output_type": "display_data"
    },
    {
     "data": {
      "text/plain": [
       "Text(0, 0.5, 'Barrier position')"
      ]
     },
     "execution_count": 53,
     "metadata": {},
     "output_type": "execute_result"
    }
   ],
   "source": [
    "fig, ax1 = plt.subplots()\n",
    "ax2 = ax1.twinx()\n",
    "for i in range(len(t_absolute_out)):\n",
    "    ax2.plot(\n",
    "        [t_absolute_out[i][0],t_absolute_out[i][-1], t_absolute_out[i][-1]],\n",
    "        [I_max_list[i],I_max_list[i],(I_max_list[i+1] if i+1 != len(I_max_list) else I_max_list[i])],\n",
    "        c=\"black\", alpha=0.5\n",
    "    )\n",
    "    ax1.plot(t_absolute_out[i], c_out[i])\n",
    "    if i != len(t_absolute_out) - 1:\n",
    "        ax1.plot(\n",
    "            [t_absolute_out[i][-1], t_absolute_out[i][-1]],\n",
    "            [c_out[i][-1], c_out[i+1][0]],\n",
    "            c=\"black\"\n",
    "        )\n",
    "\n",
    "ax1.plot(times_long, current_long, c=\"C0\", linestyle=\"dashed\")\n",
    "\n",
    "ax1.set_yscale(\"log\")\n",
    "ax1.set_ylabel(\"Current\")\n",
    "ax1.set_xlabel(\"time\")\n",
    "ax2.set_ylabel(\"Barrier position\")"
   ]
  },
  {
   "cell_type": "code",
   "execution_count": 54,
   "id": "30ecab1e-81c5-4f62-a248-ae821839a1bf",
   "metadata": {},
   "outputs": [
    {
     "data": {
      "application/vnd.jupyter.widget-view+json": {
       "model_id": "0ab4fa85849b41a2ae77851c9f8efc9b",
       "version_major": 2,
       "version_minor": 0
      },
      "text/plain": [
       "Canvas(toolbar=Toolbar(toolitems=[('Home', 'Reset original view', 'home', 'home'), ('Back', 'Back to previous …"
      ]
     },
     "metadata": {},
     "output_type": "display_data"
    },
    {
     "data": {
      "text/plain": [
       "Text(0, 0.5, 'Barrier position')"
      ]
     },
     "execution_count": 54,
     "metadata": {},
     "output_type": "execute_result"
    }
   ],
   "source": [
    "fig, ax1 = plt.subplots()\n",
    "\n",
    "slice_size = len(current_long) // len(t_absolute_out)\n",
    "\n",
    "c_normalized_out = []\n",
    "c_normalized_out_partial = []\n",
    "\n",
    "ax2 = ax1.twinx()\n",
    "for i in range(len(t_absolute_out)):\n",
    "    ax2.plot(\n",
    "        [t_absolute_out[i][0],t_absolute_out[i][-1], t_absolute_out[i][-1]],\n",
    "        [I_max_list[i],I_max_list[i],(I_max_list[i+1] if i+1 != len(I_max_list) else I_max_list[i])],\n",
    "        c=\"black\", alpha=0.5\n",
    "    )\n",
    "    ax1.plot(t_absolute_out[i], c_out[i]/(current_long[slice_size * i:slice_size * (i+1)]))\n",
    "    c_normalized_out.append(c_out[i]/(current_long[slice_size * i:slice_size * (i+1)]))\n",
    "    if i != len(t_absolute_out) - 1:\n",
    "        ax1.plot(\n",
    "            [t_absolute_out[i][-1], t_absolute_out[i][-1]],\n",
    "            np.array([c_out[i][-1], c_out[i+1][0]])/current_long[slice_size*(i+1)],\n",
    "            c=\"black\"\n",
    "        )\n",
    "\n",
    "#ax1.plot(times_long, current_long, c=\"C0\", linestyle=\"dashed\")\n",
    "\n",
    "#ax1.set_yscale(\"log\")\n",
    "ax1.set_ylabel(\"`Normalized` Current\")\n",
    "ax1.set_xlabel(\"time\")\n",
    "ax2.set_ylabel(\"Barrier position\")"
   ]
  },
  {
   "cell_type": "code",
   "execution_count": 57,
   "id": "02ba84aa-5299-4795-add4-3fa11e077274",
   "metadata": {},
   "outputs": [
    {
     "data": {
      "application/vnd.jupyter.widget-view+json": {
       "model_id": "5f23093c53e4479c9f8d9559a3d9c0c2",
       "version_major": 2,
       "version_minor": 0
      },
      "text/plain": [
       "Canvas(toolbar=Toolbar(toolitems=[('Home', 'Reset original view', 'home', 'home'), ('Back', 'Back to previous …"
      ]
     },
     "metadata": {},
     "output_type": "display_data"
    }
   ],
   "source": [
    "plt.figure()\n",
    "for i in range(1, len(c_normalized_out)):\n",
    "    if i%7==1 and i != 1:\n",
    "        plt.plot(t_absolute_out[0], c_out[i], c=\"C0\")\n",
    "    elif i%7==2 and i != 2:\n",
    "        plt.plot(t_absolute_out[0], c_out[i], c=\"C1\")\n",
    "    elif i%7==3 and i != 3:\n",
    "        plt.plot(t_absolute_out[0], c_out[i], c=\"C2\")\n",
    "    elif i%7==4 and i != 4:\n",
    "        plt.plot(t_absolute_out[0], c_out[i], c=\"C3\")\n",
    "    elif i%7==5 and i != 5:\n",
    "        plt.plot(t_absolute_out[0], c_out[i], c=\"C4\")\n",
    "    else:\n",
    "        pass\n",
    "    \n",
    "plt.xscale(\"log\")"
   ]
  },
  {
   "cell_type": "code",
   "execution_count": 61,
   "id": "d8c2cd05-58e1-4781-9e03-f824bf8b9f51",
   "metadata": {},
   "outputs": [
    {
     "data": {
      "application/vnd.jupyter.widget-view+json": {
       "model_id": "a40c26816cd94f21adde83f370a43b56",
       "version_major": 2,
       "version_minor": 0
      },
      "text/plain": [
       "Canvas(toolbar=Toolbar(toolitems=[('Home', 'Reset original view', 'home', 'home'), ('Back', 'Back to previous …"
      ]
     },
     "metadata": {},
     "output_type": "display_data"
    }
   ],
   "source": [
    "plt.figure()\n",
    "for i in range(1, len(c_normalized_out)):\n",
    "    if i%7==1 and i != 1:\n",
    "        plt.plot(t_absolute_out[0], c_normalized_out[i], c=\"C0\")\n",
    "    elif i%7==2 and i != 2:\n",
    "        plt.plot(t_absolute_out[0], c_normalized_out[i], c=\"C1\")\n",
    "    elif i%7==3 and i != 3:\n",
    "        plt.plot(t_absolute_out[0], c_normalized_out[i], c=\"C2\")\n",
    "    elif i%7==4 and i != 4:\n",
    "        plt.plot(t_absolute_out[0], c_normalized_out[i], c=\"C3\")\n",
    "    elif i%7==5 and i != 5:\n",
    "        plt.plot(t_absolute_out[0], c_normalized_out[i], c=\"C4\")\n",
    "    else:\n",
    "        pass\n",
    "    \n",
    "plt.axvline(afpt(I_max_list[1], I_max_list[0], I_star, exponent, c), c=\"C0\")\n",
    "plt.axvline(afpt(I_max_list[2], I_max_list[1], I_star, exponent, c), c=\"C1\")\n",
    "plt.axvline(afpt(I_max_list[3], I_max_list[2], I_star, exponent, c), c=\"C2\")\n",
    "plt.axvline(afpt(I_max_list[4], I_max_list[3], I_star, exponent, c), c=\"C3\")\n",
    "plt.axvline(afpt(I_max_list[5], I_max_list[4], I_star, exponent, c), c=\"C4\")\n",
    "\n",
    "plt.axhline(1.0, c=\"grey\")\n",
    "\n",
    "plt.xscale(\"log\")\n",
    "#plt.yscale(\"log\")"
   ]
  },
  {
   "cell_type": "code",
   "execution_count": 18,
   "id": "609adcea-b5cb-4ca5-8822-181bd0164da8",
   "metadata": {},
   "outputs": [
    {
     "data": {
      "application/vnd.jupyter.widget-view+json": {
       "model_id": "96befb2b1b79441e8cfe7c378dff8571",
       "version_major": 2,
       "version_minor": 0
      },
      "text/plain": [
       "Canvas(toolbar=Toolbar(toolitems=[('Home', 'Reset original view', 'home', 'home'), ('Back', 'Back to previous …"
      ]
     },
     "metadata": {},
     "output_type": "display_data"
    },
    {
     "data": {
      "text/plain": [
       "[<matplotlib.lines.Line2D at 0x7ff6c75c5b80>]"
      ]
     },
     "execution_count": 18,
     "metadata": {},
     "output_type": "execute_result"
    }
   ],
   "source": [
    "x_list = np.linspace(4.0, 5.2, 1000)\n",
    "\n",
    "def weirder_func(x_list):\n",
    "    return (\n",
    "        1 - np.array([afpt(x, 5.2, 8.0, exponent, nt.standard_c(0.0, 5.0, 8.0, exponent)) for x in x_list])/afpt(5.0, 5.2, 8.0, exponent, nt.standard_c(0.0, 5.0, 8.0, exponent))\n",
    "    )\n",
    "\n",
    "plt.figure()\n",
    "plt.plot(x_list, [afpt(x, 5.2, 8.0, exponent, nt.standard_c(0.0, 5.0, 8.0, exponent)) for x in x_list])\n",
    "#plt.plot(x_list, weirder_func(x_list))"
   ]
  },
  {
   "cell_type": "code",
   "execution_count": 18,
   "id": "eb9aaa4e-2cbf-4a58-8649-fac6cd3782c3",
   "metadata": {},
   "outputs": [
    {
     "data": {
      "application/vnd.jupyter.widget-view+json": {
       "model_id": "b12338ea04b14e048194907facc32569",
       "version_major": 2,
       "version_minor": 0
      },
      "text/plain": [
       "Canvas(toolbar=Toolbar(toolitems=[('Home', 'Reset original view', 'home', 'home'), ('Back', 'Back to previous …"
      ]
     },
     "metadata": {},
     "output_type": "display_data"
    },
    {
     "data": {
      "text/plain": [
       "array([9.8468968])"
      ]
     },
     "execution_count": 18,
     "metadata": {},
     "output_type": "execute_result"
    }
   ],
   "source": [
    "def weird_func(t, k):\n",
    "    return -(np.exp(-k*t)-1)\n",
    "\n",
    "plt.figure()\n",
    "\n",
    "popt, pcov = scipy.optimize.curve_fit(\n",
    "    weird_func,\n",
    "    t_absolute_out[2],\n",
    "    c_normalized_out[2],\n",
    "    p0=5\n",
    ")\n",
    "plt.plot(t_absolute_out[0], c_normalized_out[2])\n",
    "#plt.yscale(\"log\")\n",
    "plt.plot(t_absolute_out[0], weird_func(t_absolute_out[0], popt[0]))\n",
    "plt.plot(t_absolute_out[0], weird_func(t_absolute_out[0], 3))\n",
    "popt"
   ]
  },
  {
   "cell_type": "code",
   "execution_count": 19,
   "id": "d76050a7-f22f-4049-b12b-3947f6787368",
   "metadata": {},
   "outputs": [
    {
     "data": {
      "application/vnd.jupyter.widget-view+json": {
       "model_id": "d2bc4c8620314dbf890926dbd6bdc522",
       "version_major": 2,
       "version_minor": 0
      },
      "text/plain": [
       "Canvas(toolbar=Toolbar(toolitems=[('Home', 'Reset original view', 'home', 'home'), ('Back', 'Back to previous …"
      ]
     },
     "metadata": {},
     "output_type": "display_data"
    },
    {
     "data": {
      "text/plain": [
       "array([9.8468968])"
      ]
     },
     "execution_count": 19,
     "metadata": {},
     "output_type": "execute_result"
    }
   ],
   "source": [
    "plt.figure()\n",
    "\n",
    "plt.plot(t_absolute_out[0], c_normalized_out[2])\n",
    "#plt.yscale(\"log\")\n",
    "plt.plot(t_absolute_out[0], weird_func(t_absolute_out[0], popt[0]))\n",
    "popt"
   ]
  },
  {
   "cell_type": "code",
   "execution_count": 20,
   "id": "9efeb87e-189f-476a-8727-65fd22c88c75",
   "metadata": {},
   "outputs": [
    {
     "data": {
      "application/vnd.jupyter.widget-view+json": {
       "model_id": "678c53376286460da65da2887402c409",
       "version_major": 2,
       "version_minor": 0
      },
      "text/plain": [
       "Canvas(toolbar=Toolbar(toolitems=[('Home', 'Reset original view', 'home', 'home'), ('Back', 'Back to previous …"
      ]
     },
     "metadata": {},
     "output_type": "display_data"
    },
    {
     "data": {
      "text/plain": [
       "<matplotlib.lines.Line2D at 0x7f9850f7ac40>"
      ]
     },
     "execution_count": 20,
     "metadata": {},
     "output_type": "execute_result"
    }
   ],
   "source": [
    "plt.figure()\n",
    "plt.plot(t_absolute_out[0], c_normalized_out[2])\n",
    "plt.axvline(afpt(\n",
    "    5.2,\n",
    "    5.4,\n",
    "    I_star,\n",
    "    exponent,\n",
    "    c=nt.standard_c(0.0, I_max, I_star, exponent)\n",
    "))\n",
    "\n",
    "plt.plot(t_absolute_out[0], c_normalized_out[3])\n",
    "plt.axvline(afpt(\n",
    "    5.4,\n",
    "    5.6,\n",
    "    I_star,\n",
    "    exponent,\n",
    "    c=nt.standard_c(0.0, I_max, I_star, exponent)\n",
    "), c=\"C1\")"
   ]
  },
  {
   "cell_type": "code",
   "execution_count": 21,
   "id": "b9f8d30e-8a16-4b35-8fae-e81ed713a36c",
   "metadata": {},
   "outputs": [
    {
     "data": {
      "application/vnd.jupyter.widget-view+json": {
       "model_id": "f4dd1a2ae5da45469202b63b8643ec11",
       "version_major": 2,
       "version_minor": 0
      },
      "text/plain": [
       "Canvas(toolbar=Toolbar(toolitems=[('Home', 'Reset original view', 'home', 'home'), ('Back', 'Back to previous …"
      ]
     },
     "metadata": {},
     "output_type": "display_data"
    },
    {
     "data": {
      "text/plain": [
       "<matplotlib.collections.PathCollection at 0x7f9850ebcf70>"
      ]
     },
     "execution_count": 21,
     "metadata": {},
     "output_type": "execute_result"
    }
   ],
   "source": [
    "plt.figure()\n",
    "plt.scatter(\n",
    "    I_max_list_partial,\n",
    "    [t_absolute_out_partial[i][np.argmax(c_out_partial[i])] - (t_absolute_out[i-1][-1] if i != 0 else 0) for i in range(len(t_absolute_out_partial))]\n",
    ")"
   ]
  },
  {
   "cell_type": "code",
   "execution_count": null,
   "id": "09fd9264-0bbe-4dc1-bfb4-22a1568d5d60",
   "metadata": {},
   "outputs": [],
   "source": []
  }
 ],
 "metadata": {
  "kernelspec": {
   "display_name": "Python 3",
   "language": "python",
   "name": "python3"
  },
  "language_info": {
   "codemirror_mode": {
    "name": "ipython",
    "version": 3
   },
   "file_extension": ".py",
   "mimetype": "text/x-python",
   "name": "python",
   "nbconvert_exporter": "python",
   "pygments_lexer": "ipython3",
   "version": "3.8.10"
  }
 },
 "nbformat": 4,
 "nbformat_minor": 5
}
