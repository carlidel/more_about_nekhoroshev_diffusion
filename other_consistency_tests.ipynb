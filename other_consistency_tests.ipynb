{
 "cells": [
  {
   "cell_type": "markdown",
   "id": "7530fd40",
   "metadata": {},
   "source": [
    "**Are we in SWAN?**"
   ]
  },
  {
   "cell_type": "code",
   "execution_count": null,
   "id": "24a7832d",
   "metadata": {},
   "outputs": [],
   "source": [
    "%pip install --user crank-nicolson-numba"
   ]
  },
  {
   "cell_type": "markdown",
   "id": "88ad5c3c",
   "metadata": {},
   "source": [
    "libraries and matplotlib magicness"
   ]
  },
  {
   "cell_type": "code",
   "execution_count": 1,
   "id": "0b133236",
   "metadata": {},
   "outputs": [],
   "source": [
    "%matplotlib widget"
   ]
  },
  {
   "cell_type": "code",
   "execution_count": 2,
   "id": "38027e1b",
   "metadata": {},
   "outputs": [],
   "source": [
    "import numpy as np\n",
    "import matplotlib.pyplot as plt\n",
    "import scipy\n",
    "import scipy.integrate\n",
    "from tqdm.notebook import tqdm\n",
    "import crank_nicolson_numba.generic as cn"
   ]
  },
  {
   "cell_type": "code",
   "execution_count": 3,
   "id": "57ed9d4b",
   "metadata": {},
   "outputs": [
    {
     "name": "stdout",
     "output_type": "stream",
     "text": [
      "(0.9999999999999136, 4.133399435305709e-11)\n"
     ]
    }
   ],
   "source": [
    "I_star = 25.0\n",
    "kappa = 0.33\n",
    "exponent = 1 / (2*kappa)\n",
    "\n",
    "I_damp = 4.7\n",
    "I_max = 5.0\n",
    "I_min = 0.0\n",
    "\n",
    "def D(I):\n",
    "    return np.exp(-2*np.power(I_star/I, exponent))\n",
    "\n",
    "norm = 1/scipy.integrate.quad(\n",
    "    D, I_min, I_max\n",
    ")[0]\n",
    "\n",
    "def normed_D(I):\n",
    "    return np.exp(-2*np.power(I_star/I, exponent)) * norm\n",
    "\n",
    "check = scipy.integrate.quad(\n",
    "    normed_D, I_min, I_max\n",
    ")\n",
    "print(check)"
   ]
  },
  {
   "cell_type": "code",
   "execution_count": 4,
   "id": "c75f80ab",
   "metadata": {},
   "outputs": [],
   "source": [
    "def approx_current_fixed(t, I_0, I_max, c, I_star, exponent):\n",
    "    J0 = - scipy.integrate.quad(\n",
    "        lambda x: 1/np.sqrt(c) * np.exp(np.power(I_star / x, exponent)),\n",
    "        I_0,\n",
    "        I_max\n",
    "    )[0]\n",
    "    nu = (\n",
    "        np.sqrt(c) * (exponent / I_0)\n",
    "        * np.power(I_star / I_0, exponent)\n",
    "        * np.exp(- np.power(I_star / I_0, exponent))\n",
    "    )\n",
    "    return (\n",
    "        - (J0) / (t * np.sqrt(4 * np.pi * 0.5 * t))\n",
    "        * np.exp(- (np.power(J0 + (nu/2) * t, 2)) / (4 * 0.5 * t))\n",
    "    )\n",
    "\n",
    "\n",
    "def approx_current_constant_fixed(t, I_0, I_max, c, I_star, exponent, I_min=0.1, tqdm_flag=False):\n",
    "    return np.array([scipy.integrate.quad(\n",
    "        lambda x: approx_current_fixed(t, x, I_max, c, I_star, exponent), I_min, I_0, limit=5000)[0]\n",
    "        for t in (tqdm(t) if tqdm_flag else t)])\n"
   ]
  },
  {
   "cell_type": "code",
   "execution_count": 5,
   "id": "72d18153",
   "metadata": {},
   "outputs": [
    {
     "data": {
      "application/vnd.jupyter.widget-view+json": {
       "model_id": "6104c11040a64bd091e1b6ee75770458",
       "version_major": 2,
       "version_minor": 0
      },
      "text/plain": [
       "Canvas(toolbar=Toolbar(toolitems=[('Home', 'Reset original view', 'home', 'home'), ('Back', 'Back to previous …"
      ]
     },
     "metadata": {},
     "output_type": "display_data"
    },
    {
     "data": {
      "text/plain": [
       "[<matplotlib.lines.Line2D at 0x7f6bf8159af0>]"
      ]
     },
     "execution_count": 5,
     "metadata": {},
     "output_type": "execute_result"
    }
   ],
   "source": [
    "plt.figure()\n",
    "\n",
    "ts = np.linspace(0.01, 0.10, 100)\n",
    "cur = approx_current_constant_fixed(ts, I_damp, I_max, norm, I_star, exponent, I_min=2.5)\n",
    "plt.plot(ts, cur)\n",
    "cur = approx_current_constant_fixed(ts, I_damp, I_max, norm, I_star, exponent, I_min=1.5)\n",
    "plt.plot(ts, cur)"
   ]
  },
  {
   "cell_type": "code",
   "execution_count": 7,
   "id": "377e8fc2",
   "metadata": {},
   "outputs": [
    {
     "data": {
      "application/vnd.jupyter.widget-view+json": {
       "model_id": "3368da23213a4fbab0b551bfd6a4f1e3",
       "version_major": 2,
       "version_minor": 0
      },
      "text/plain": [
       "Canvas(toolbar=Toolbar(toolitems=[('Home', 'Reset original view', 'home', 'home'), ('Back', 'Back to previous …"
      ]
     },
     "metadata": {},
     "output_type": "display_data"
    },
    {
     "ename": "TypeError",
     "evalue": "'float' object is not subscriptable",
     "output_type": "error",
     "traceback": [
      "\u001b[0;31m---------------------------------------------------------------------------\u001b[0m",
      "\u001b[0;31mTypeError\u001b[0m                                 Traceback (most recent call last)",
      "\u001b[0;32m<ipython-input-7-c986c3260d5a>\u001b[0m in \u001b[0;36m<module>\u001b[0;34m\u001b[0m\n\u001b[1;32m      2\u001b[0m \u001b[0;34m\u001b[0m\u001b[0m\n\u001b[1;32m      3\u001b[0m \u001b[0mts\u001b[0m \u001b[0;34m=\u001b[0m \u001b[0mnp\u001b[0m\u001b[0;34m.\u001b[0m\u001b[0mlinspace\u001b[0m\u001b[0;34m(\u001b[0m\u001b[0;36m0\u001b[0m\u001b[0;34m,\u001b[0m \u001b[0;36m1\u001b[0m\u001b[0;34m,\u001b[0m \u001b[0;36m10\u001b[0m\u001b[0;34m)\u001b[0m\u001b[0;34m\u001b[0m\u001b[0;34m\u001b[0m\u001b[0m\n\u001b[0;32m----> 4\u001b[0;31m \u001b[0mcur\u001b[0m \u001b[0;34m=\u001b[0m \u001b[0mapprox_current_constant_fixed\u001b[0m\u001b[0;34m(\u001b[0m\u001b[0mts\u001b[0m\u001b[0;34m,\u001b[0m \u001b[0mI_damp\u001b[0m\u001b[0;34m,\u001b[0m \u001b[0mI_max\u001b[0m\u001b[0;34m,\u001b[0m \u001b[0;36m1\u001b[0m\u001b[0;34m/\u001b[0m\u001b[0mnorm\u001b[0m\u001b[0;34m[\u001b[0m\u001b[0;36m0\u001b[0m\u001b[0;34m]\u001b[0m\u001b[0;34m,\u001b[0m \u001b[0mI_star\u001b[0m\u001b[0;34m,\u001b[0m \u001b[0;36m1\u001b[0m\u001b[0;34m/\u001b[0m\u001b[0;34m(\u001b[0m\u001b[0;36m2\u001b[0m\u001b[0;34m*\u001b[0m\u001b[0mkappa\u001b[0m\u001b[0;34m)\u001b[0m\u001b[0;34m,\u001b[0m \u001b[0mI_min\u001b[0m\u001b[0;34m=\u001b[0m\u001b[0;36m2.5\u001b[0m\u001b[0;34m)\u001b[0m\u001b[0;34m\u001b[0m\u001b[0;34m\u001b[0m\u001b[0m\n\u001b[0m\u001b[1;32m      5\u001b[0m \u001b[0mplt\u001b[0m\u001b[0;34m.\u001b[0m\u001b[0mplot\u001b[0m\u001b[0;34m(\u001b[0m\u001b[0mts\u001b[0m\u001b[0;34m,\u001b[0m \u001b[0mcur\u001b[0m\u001b[0;34m)\u001b[0m\u001b[0;34m\u001b[0m\u001b[0;34m\u001b[0m\u001b[0m\n\u001b[1;32m      6\u001b[0m \u001b[0mcur\u001b[0m \u001b[0;34m=\u001b[0m \u001b[0mapprox_current_constant_fixed\u001b[0m\u001b[0;34m(\u001b[0m\u001b[0mts\u001b[0m\u001b[0;34m,\u001b[0m \u001b[0mI_damp\u001b[0m\u001b[0;34m,\u001b[0m \u001b[0mI_max\u001b[0m\u001b[0;34m,\u001b[0m \u001b[0;36m1\u001b[0m\u001b[0;34m/\u001b[0m\u001b[0mnorm\u001b[0m\u001b[0;34m[\u001b[0m\u001b[0;36m0\u001b[0m\u001b[0;34m]\u001b[0m\u001b[0;34m,\u001b[0m \u001b[0mI_star\u001b[0m\u001b[0;34m,\u001b[0m \u001b[0;36m1\u001b[0m\u001b[0;34m/\u001b[0m\u001b[0;34m(\u001b[0m\u001b[0;36m2\u001b[0m\u001b[0;34m*\u001b[0m\u001b[0mkappa\u001b[0m\u001b[0;34m)\u001b[0m\u001b[0;34m,\u001b[0m \u001b[0mI_min\u001b[0m\u001b[0;34m=\u001b[0m\u001b[0;36m3.0\u001b[0m\u001b[0;34m)\u001b[0m\u001b[0;34m\u001b[0m\u001b[0;34m\u001b[0m\u001b[0m\n",
      "\u001b[0;31mTypeError\u001b[0m: 'float' object is not subscriptable"
     ]
    }
   ],
   "source": [
    "plt.figure()\n",
    "\n",
    "ts = np.linspace(0, 1, 10)\n",
    "cur = approx_current_constant_fixed(ts, I_damp, I_max, 1/norm[0], I_star, 1/(2*kappa), I_min=2.5)\n",
    "plt.plot(ts, cur)\n",
    "cur = approx_current_constant_fixed(ts, I_damp, I_max, 1/norm[0], I_star, 1/(2*kappa), I_min=3.0)\n",
    "plt.plot(ts, cur)"
   ]
  },
  {
   "cell_type": "code",
   "execution_count": 8,
   "id": "56f5b6e5",
   "metadata": {},
   "outputs": [
    {
     "data": {
      "application/vnd.jupyter.widget-view+json": {
       "model_id": "1c9493f55c814224ba8ffc5d49ebef17",
       "version_major": 2,
       "version_minor": 0
      },
      "text/plain": [
       "Canvas(toolbar=Toolbar(toolitems=[('Home', 'Reset original view', 'home', 'home'), ('Back', 'Back to previous …"
      ]
     },
     "metadata": {},
     "output_type": "display_data"
    },
    {
     "ename": "NameError",
     "evalue": "name 'I_linspace' is not defined",
     "output_type": "error",
     "traceback": [
      "\u001b[0;31m---------------------------------------------------------------------------\u001b[0m",
      "\u001b[0;31mNameError\u001b[0m                                 Traceback (most recent call last)",
      "\u001b[0;32m<ipython-input-8-a2e8f61d300b>\u001b[0m in \u001b[0;36m<module>\u001b[0;34m\u001b[0m\n\u001b[1;32m      1\u001b[0m \u001b[0mplt\u001b[0m\u001b[0;34m.\u001b[0m\u001b[0mfigure\u001b[0m\u001b[0;34m(\u001b[0m\u001b[0;34m)\u001b[0m\u001b[0;34m\u001b[0m\u001b[0;34m\u001b[0m\u001b[0m\n\u001b[1;32m      2\u001b[0m \u001b[0;34m\u001b[0m\u001b[0m\n\u001b[0;32m----> 3\u001b[0;31m \u001b[0mplt\u001b[0m\u001b[0;34m.\u001b[0m\u001b[0mplot\u001b[0m\u001b[0;34m(\u001b[0m\u001b[0mI_linspace\u001b[0m\u001b[0;34m[\u001b[0m\u001b[0;36m500\u001b[0m\u001b[0;34m:\u001b[0m\u001b[0;34m]\u001b[0m\u001b[0;34m,\u001b[0m \u001b[0;34m[\u001b[0m\u001b[0mapprox_current_fixed\u001b[0m\u001b[0;34m(\u001b[0m\u001b[0;36m0.001\u001b[0m\u001b[0;34m,\u001b[0m \u001b[0mx\u001b[0m\u001b[0;34m,\u001b[0m \u001b[0mI_max\u001b[0m\u001b[0;34m,\u001b[0m \u001b[0mnorm\u001b[0m\u001b[0;34m[\u001b[0m\u001b[0;36m0\u001b[0m\u001b[0;34m]\u001b[0m\u001b[0;34m,\u001b[0m \u001b[0mI_star\u001b[0m\u001b[0;34m,\u001b[0m \u001b[0;36m1\u001b[0m\u001b[0;34m/\u001b[0m\u001b[0;34m(\u001b[0m\u001b[0;36m2\u001b[0m\u001b[0;34m*\u001b[0m\u001b[0mkappa\u001b[0m\u001b[0;34m)\u001b[0m\u001b[0;34m)\u001b[0m \u001b[0;32mfor\u001b[0m \u001b[0mx\u001b[0m \u001b[0;32min\u001b[0m \u001b[0mtqdm\u001b[0m\u001b[0;34m(\u001b[0m\u001b[0mI_linspace\u001b[0m\u001b[0;34m[\u001b[0m\u001b[0;36m500\u001b[0m\u001b[0;34m:\u001b[0m\u001b[0;34m]\u001b[0m\u001b[0;34m)\u001b[0m\u001b[0;34m]\u001b[0m\u001b[0;34m)\u001b[0m\u001b[0;34m\u001b[0m\u001b[0;34m\u001b[0m\u001b[0m\n\u001b[0m",
      "\u001b[0;31mNameError\u001b[0m: name 'I_linspace' is not defined"
     ]
    }
   ],
   "source": [
    "plt.figure()\n",
    "\n",
    "plt.plot(I_linspace[500:], [approx_current_fixed(0.001, x, I_max, norm[0], I_star, 1/(2*kappa)) for x in tqdm(I_linspace[500:])])"
   ]
  },
  {
   "cell_type": "code",
   "execution_count": null,
   "id": "8f8da063",
   "metadata": {},
   "outputs": [],
   "source": [
    "I_min = 0.0\n",
    "I_max = 5.0\n",
    "\n",
    "I_star = 25.0\n",
    "kappa = 0.33\n",
    "\n",
    "def D(I, I_star, kappa):\n",
    "    return np.exp(-2*np.power(I_star/I, 1/(2*kappa)))\n",
    "\n",
    "norm = scipy.integrate.quad(\n",
    "    D, I_min, I_max, args=(I_star, kappa)\n",
    ")\n",
    "\n",
    "def normed_D(I):\n",
    "    return np.exp(-2*np.power(I_star/I, 1/(2*kappa))) / norm[0]\n"
   ]
  },
  {
   "cell_type": "code",
   "execution_count": null,
   "id": "a7050593",
   "metadata": {},
   "outputs": [],
   "source": [
    "samples = 2000\n",
    "I_linspace = np.linspace(I_min, I_max, samples)"
   ]
  },
  {
   "cell_type": "code",
   "execution_count": null,
   "id": "a85e14f0",
   "metadata": {},
   "outputs": [],
   "source": [
    "I_damp = 4.9\n",
    "\n",
    "def rho_0(I_linspace):\n",
    "    return 1 / (1 + np.exp((I_linspace - I_damp)/0.01))"
   ]
  },
  {
   "cell_type": "code",
   "execution_count": null,
   "id": "e951f16e",
   "metadata": {},
   "outputs": [],
   "source": [
    "plt.figure()\n",
    "plt.plot(I_linspace, normed_D(I_linspace))"
   ]
  },
  {
   "cell_type": "code",
   "execution_count": 36,
   "id": "b91db854",
   "metadata": {},
   "outputs": [
    {
     "data": {
      "application/vnd.jupyter.widget-view+json": {
       "model_id": "4826903937304570812d8a58a71bcbd0",
       "version_major": 2,
       "version_minor": 0
      },
      "text/plain": [
       "Canvas(toolbar=Toolbar(toolitems=[('Home', 'Reset original view', 'home', 'home'), ('Back', 'Back to previous …"
      ]
     },
     "metadata": {},
     "output_type": "display_data"
    },
    {
     "data": {
      "text/plain": [
       "[<matplotlib.lines.Line2D at 0x7f5fc7854d00>]"
      ]
     },
     "execution_count": 36,
     "metadata": {},
     "output_type": "execute_result"
    }
   ],
   "source": [
    "plt.figure()\n",
    "plt.plot(I_linspace, rho_0(I_linspace))"
   ]
  },
  {
   "cell_type": "code",
   "execution_count": 185,
   "id": "73e5e0fd",
   "metadata": {},
   "outputs": [
    {
     "name": "stderr",
     "output_type": "stream",
     "text": [
      "<ipython-input-184-7926e86e49ea>:17: RuntimeWarning: divide by zero encountered in double_scalars\n",
      "  return 0.25 * np.exp(-2*np.power(I_star/I, exponent)) * norm\n"
     ]
    }
   ],
   "source": [
    "dt_1 = 0.0001\n",
    "engine_1 = cn.cn_generic(I_min, I_max, rho_0(I_linspace), dt_1, normed_D)\n"
   ]
  },
  {
   "cell_type": "code",
   "execution_count": 186,
   "id": "59d10685",
   "metadata": {},
   "outputs": [
    {
     "data": {
      "application/vnd.jupyter.widget-view+json": {
       "model_id": "042f96c4c51d4ad685517ad36a8e4251",
       "version_major": 2,
       "version_minor": 0
      },
      "text/plain": [
       "Canvas(toolbar=Toolbar(toolitems=[('Home', 'Reset original view', 'home', 'home'), ('Back', 'Back to previous …"
      ]
     },
     "metadata": {},
     "output_type": "display_data"
    },
    {
     "data": {
      "application/vnd.jupyter.widget-view+json": {
       "model_id": "f19ad4d7b1304f69a75931cee683ef04",
       "version_major": 2,
       "version_minor": 0
      },
      "text/plain": [
       "  0%|          | 0/100 [00:00<?, ?it/s]"
      ]
     },
     "metadata": {},
     "output_type": "display_data"
    },
    {
     "name": "stderr",
     "output_type": "stream",
     "text": [
      "<ipython-input-166-afd810c08041>:13: RuntimeWarning: divide by zero encountered in double_scalars\n",
      "  - (J0) / (t * np.sqrt(4 * np.pi * 0.5 * t))\n",
      "<ipython-input-166-afd810c08041>:14: RuntimeWarning: divide by zero encountered in double_scalars\n",
      "  * np.exp(- (np.power(J0 + (nu/2) * t, 2)) / (4 * 0.5 * t))\n",
      "<ipython-input-166-afd810c08041>:13: RuntimeWarning: invalid value encountered in double_scalars\n",
      "  - (J0) / (t * np.sqrt(4 * np.pi * 0.5 * t))\n",
      "<ipython-input-166-afd810c08041>:19: IntegrationWarning: The occurrence of roundoff error is detected, which prevents \n",
      "  the requested tolerance from being achieved.  The error may be \n",
      "  underestimated.\n",
      "  return np.array([scipy.integrate.quad(\n"
     ]
    },
    {
     "data": {
      "text/plain": [
       "[<matplotlib.lines.Line2D at 0x7f5fbe9bc370>]"
      ]
     },
     "execution_count": 186,
     "metadata": {},
     "output_type": "execute_result"
    }
   ],
   "source": [
    "times, current = engine_1.current(samples=100, it_per_sample=10)\n",
    "plt.figure()\n",
    "plt.plot(times, current)\n",
    "\n",
    "an_current = approx_current_constant_fixed(times, I_damp, I_max, norm, I_star, exponent, I_min=1.0, tqdm_flag=True)\n",
    "\n",
    "plt.plot(times, an_current)\n"
   ]
  },
  {
   "cell_type": "code",
   "execution_count": 132,
   "id": "a9c60a72",
   "metadata": {},
   "outputs": [
    {
     "data": {
      "application/vnd.jupyter.widget-view+json": {
       "model_id": "c3a461efaed646019ae879e206a504dc",
       "version_major": 2,
       "version_minor": 0
      },
      "text/plain": [
       "Canvas(toolbar=Toolbar(toolitems=[('Home', 'Reset original view', 'home', 'home'), ('Back', 'Back to previous …"
      ]
     },
     "metadata": {},
     "output_type": "display_data"
    },
    {
     "data": {
      "text/plain": [
       "[<matplotlib.lines.Line2D at 0x7f5fc0ac8a30>]"
      ]
     },
     "execution_count": 132,
     "metadata": {},
     "output_type": "execute_result"
    }
   ],
   "source": [
    "coso = engine_1.get_data_with_x()\n",
    "plt.figure()\n",
    "plt.plot(coso[0], coso[1])\n",
    "engine_1.iterate(1000)\n",
    "coso = engine_1.get_data_with_x()\n",
    "plt.plot(coso[0], coso[1])"
   ]
  },
  {
   "cell_type": "code",
   "execution_count": 134,
   "id": "4c0d6250",
   "metadata": {},
   "outputs": [
    {
     "data": {
      "application/vnd.jupyter.widget-view+json": {
       "model_id": "e0dc7c6307264f2b9737b732bf98dd8b",
       "version_major": 2,
       "version_minor": 0
      },
      "text/plain": [
       "Canvas(toolbar=Toolbar(toolitems=[('Home', 'Reset original view', 'home', 'home'), ('Back', 'Back to previous …"
      ]
     },
     "metadata": {},
     "output_type": "display_data"
    },
    {
     "data": {
      "text/plain": [
       "[<matplotlib.lines.Line2D at 0x7f5fc08d8550>]"
      ]
     },
     "execution_count": 134,
     "metadata": {},
     "output_type": "execute_result"
    }
   ],
   "source": [
    "plt.figure()\n",
    "plt.plot(I_linspace, engine_1.diffusion)"
   ]
  },
  {
   "cell_type": "code",
   "execution_count": null,
   "id": "9eed2417",
   "metadata": {},
   "outputs": [],
   "source": []
  },
  {
   "cell_type": "code",
   "execution_count": 130,
   "id": "a776c88a",
   "metadata": {},
   "outputs": [
    {
     "data": {
      "application/vnd.jupyter.widget-view+json": {
       "model_id": "7334daeccb8e4a969caf053692cb059b",
       "version_major": 2,
       "version_minor": 0
      },
      "text/plain": [
       "Canvas(toolbar=Toolbar(toolitems=[('Home', 'Reset original view', 'home', 'home'), ('Back', 'Back to previous …"
      ]
     },
     "metadata": {},
     "output_type": "display_data"
    },
    {
     "name": "stderr",
     "output_type": "stream",
     "text": [
      "<ipython-input-18-b4a1727ae451>:5: RuntimeWarning: divide by zero encountered in true_divide\n",
      "  return np.exp(-2*np.power(1/q, kappa))\n"
     ]
    },
    {
     "data": {
      "text/plain": [
       "[<matplotlib.lines.Line2D at 0x7f5fbf7194c0>]"
      ]
     },
     "execution_count": 130,
     "metadata": {},
     "output_type": "execute_result"
    }
   ],
   "source": [
    "plt.figure()\n",
    "x = np.linspace(0,0.01, 1000)\n",
    "plt.plot(x, D_alt(x, 0.33))"
   ]
  },
  {
   "cell_type": "code",
   "execution_count": 17,
   "id": "2c776f09",
   "metadata": {},
   "outputs": [
    {
     "data": {
      "application/vnd.jupyter.widget-view+json": {
       "model_id": "ea73aa9aa41b4d769f76a0165c28b306",
       "version_major": 2,
       "version_minor": 0
      },
      "text/plain": [
       "Canvas(toolbar=Toolbar(toolitems=[('Home', 'Reset original view', 'home', 'home'), ('Back', 'Back to previous …"
      ]
     },
     "metadata": {},
     "output_type": "display_data"
    },
    {
     "name": "stderr",
     "output_type": "stream",
     "text": [
      "<ipython-input-4-a2908c711c8c>:2: RuntimeWarning: divide by zero encountered in true_divide\n",
      "  return np.exp(-2*np.power(I_ast/I, kappa))\n"
     ]
    },
    {
     "data": {
      "text/plain": [
       "[<matplotlib.lines.Line2D at 0x7f5fd02aa250>]"
      ]
     },
     "execution_count": 17,
     "metadata": {},
     "output_type": "execute_result"
    }
   ],
   "source": [
    "plt.figure()\n",
    "x = np.linspace(0, 1, 10000)\n",
    "plt.plot(x, D(x, 25, 0.33))"
   ]
  },
  {
   "cell_type": "code",
   "execution_count": null,
   "id": "5f34c4cd",
   "metadata": {},
   "outputs": [],
   "source": []
  }
 ],
 "metadata": {
  "kernelspec": {
   "display_name": "Python 3",
   "language": "python",
   "name": "python3"
  },
  "language_info": {
   "codemirror_mode": {
    "name": "ipython",
    "version": 3
   },
   "file_extension": ".py",
   "mimetype": "text/x-python",
   "name": "python",
   "nbconvert_exporter": "python",
   "pygments_lexer": "ipython3",
   "version": "3.8.8"
  }
 },
 "nbformat": 4,
 "nbformat_minor": 5
}
