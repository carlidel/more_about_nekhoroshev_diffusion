{
 "cells": [
  {
   "cell_type": "markdown",
   "id": "1f0ed8c2-fe96-4d7e-8873-49dbf77366ee",
   "metadata": {},
   "source": [
    "**Are we in SWAN?**"
   ]
  },
  {
   "cell_type": "code",
   "execution_count": null,
   "id": "def3c0e4-f362-4745-93ca-f8deac8c8fa7",
   "metadata": {},
   "outputs": [],
   "source": [
    "%pip install --user crank-nicolson-numba\n",
    "%pip install --user joblib\n",
    "%pip install --user lmfit\n",
    "%pip install --user tqdm"
   ]
  },
  {
   "cell_type": "markdown",
   "id": "93aa80ce-e3dc-48b6-9d64-628b20dccda0",
   "metadata": {},
   "source": [
    "**Do we want the matplotlib interactive magicness?**"
   ]
  },
  {
   "cell_type": "code",
   "execution_count": 1,
   "id": "62d3816b-c144-4d13-864f-3d939ef4e067",
   "metadata": {},
   "outputs": [],
   "source": [
    "%matplotlib widget"
   ]
  },
  {
   "cell_type": "markdown",
   "id": "43b0762e-2016-4c12-b4ed-40c34c96cc2d",
   "metadata": {},
   "source": [
    "**Library Import**"
   ]
  },
  {
   "cell_type": "code",
   "execution_count": 2,
   "id": "8d943c8f-a498-44ac-8fa2-c99348137a2d",
   "metadata": {},
   "outputs": [],
   "source": [
    "N_JOBS = 4"
   ]
  },
  {
   "cell_type": "code",
   "execution_count": 3,
   "id": "fc62dda3-5ffc-48f4-a7dd-5615a3abbb3e",
   "metadata": {},
   "outputs": [],
   "source": [
    "import numpy as np\n",
    "import matplotlib.pyplot as plt\n",
    "import scipy\n",
    "import scipy.integrate\n",
    "from tqdm.notebook import tqdm\n",
    "import crank_nicolson_numba.generic as cn\n",
    "import itertools\n",
    "# For parallelization\n",
    "from joblib import Parallel, delayed\n",
    "\n",
    "import nekhoroshev_tools as nt\n",
    "import expo_tools as et\n",
    "import poly_tools as pt\n",
    "\n",
    "from lmfit import minimize, Parameters\n"
   ]
  },
  {
   "cell_type": "markdown",
   "id": "5b78b1e8-3025-4e8c-90f7-fadfe06b71bf",
   "metadata": {},
   "source": [
    "# The final fit showdown\n",
    "\n",
    "## The situation\n",
    "\n",
    "In a few words, we have that with our equations and our analytical estimation we are (somewhat) able to reconstruct the Nekhoroshev coefficients $\\kappa$ and $I_*$ from an outgoing current obtained from a Fokker-Planck process with known Nekhoroshev diffusion. This is promising, but we still have to verify an extremely important thing:\n",
    "\n",
    "Right now, we are fitting the \"correct\" diffusion coefficient shape on a process with known diffusion coefficient. But when we are working with an \"unknown\" Fokker-Planck process in which we don't know the shape of $D(I)$, can we be sure that, when attempting a $\\kappa$ and $I_*$ reconstruction, it will be good enough to confirm us that this Fokker-Planck process is an actual Nekhoroshev-like Fokker-Planck process and not, instead an exponential-like or polynomial-like diffusion process?"
   ]
  },
  {
   "cell_type": "markdown",
   "id": "55f4d0a8-7f78-4a08-a380-32202c1210a1",
   "metadata": {},
   "source": [
    "### What can we do to tackle this question?"
   ]
  },
  {
   "cell_type": "markdown",
   "id": "246b13db-95d6-4327-a24e-3876fab734b1",
   "metadata": {},
   "source": [
    "1. We consider a FP process with Nekhoroshev-like $D(I)$ and initial distribution $\\rho_0(I) = \\exp(-I)$ (i.e. we are working in normalized units)\n",
    "2. We consider the outgoing current of this process, given the position of the absorbing barrier $I_a$ and the position of a logistic cut $I_0$\n",
    "3. We consider the following point of interest of the current:\n",
    "    1. The current peak;\n",
    "    2. The ramp-up at 10%;\n",
    "4. We fit these multiple point of interest considering 3 typologies of slices:\n",
    "    1. $I_0$ constant, $I_a$ varying;\n",
    "    2. $I_a$ constant, $I_0$ varying;\n",
    "    3. $I_a - I_0$ constant, both varying;\n",
    "5. For fitting them, we consider these three typologies of diffusion coefficient shapes:\n",
    "    1. Nekhoroshev-like (i.e. the \"correct\" one)\n",
    "        $$D(I) = \\exp\\left[-2\\left(\\frac{I_*}{I}\\right)^{\\frac{1}{2\\kappa}}\\right]$$\n",
    "    2. Exponential-like\n",
    "        $$D(I) = \\exp\\left[-aI\\right]$$\n",
    "    3. Polynomial-like (i.e. the \"correct\" one)\n",
    "        $$D(I) = I^a$$\n",
    "   where we consider the same normalization standard for all the shapes.\n",
    "6. We consider them various quality measurements for the fitting results, in order to prove the fact that, if an unknown FP process is indeed a Nekhoroshev-like FP process, our approximate fitting procedure based on the analytical linearization of $D(I)$ is capable of highlighting such shape with enough confidence."
   ]
  },
  {
   "cell_type": "markdown",
   "id": "59e637bb-ceb0-4f01-9194-edd4dde42c9f",
   "metadata": {},
   "source": [
    "## Initial distribution"
   ]
  },
  {
   "cell_type": "code",
   "execution_count": 3,
   "id": "1465273c-f678-4ddc-96e3-5fb0164fd21d",
   "metadata": {},
   "outputs": [],
   "source": [
    "def rho_0(I, damping_position=np.nan, l=np.nan):\n",
    "    if np.isnan(damping_position) or np.isnan(l):\n",
    "        return np.exp(-I)\n",
    "    else:\n",
    "        return np.exp(-I) / (1 + np.exp((I - damping_position)/l))"
   ]
  },
  {
   "cell_type": "code",
   "execution_count": 4,
   "id": "90d4f093-83c8-4753-a9a9-c7b0536afd1b",
   "metadata": {},
   "outputs": [],
   "source": [
    "cn_sampling = 50000\n",
    "cn_time_steps = 100"
   ]
  },
  {
   "cell_type": "markdown",
   "id": "c4da632f-e11e-41bd-a9d3-03986bcff1b9",
   "metadata": {},
   "source": [
    "# First, let's quickly analyze the results for a current of the 3 different shapes"
   ]
  },
  {
   "cell_type": "markdown",
   "id": "7f1c73ca-aafa-44e2-90b1-e74947cc4aff",
   "metadata": {},
   "source": [
    "I will choose some values that will give a \"similar\" form for the three diffusion coefficient..."
   ]
  },
  {
   "cell_type": "code",
   "execution_count": 5,
   "id": "8fc22ca0-1144-4516-84ca-29834c33fe19",
   "metadata": {},
   "outputs": [],
   "source": [
    "I_max = 5.0\n",
    "I_0 = 4.8\n",
    "\n",
    "I_star = 10.0\n",
    "k = 0.33\n",
    "nek_exponent = 1/(2*k)\n",
    "\n",
    "exp_scale = 1.5\n",
    "pol_pow = 8.0\n",
    "\n",
    "I_list, dI = np.linspace(0.0, I_max, cn_sampling, retstep=True)"
   ]
  },
  {
   "cell_type": "code",
   "execution_count": 6,
   "id": "351c994b-7e28-48a9-a458-539910fec20e",
   "metadata": {},
   "outputs": [],
   "source": [
    "c_nek = nt.standard_c(0.0, I_max, I_star, nek_exponent)\n",
    "c_exp = et.standard_c(0.0, I_max, exp_scale)\n",
    "c_pol = pt.standard_c(0.0, I_max, pol_pow)"
   ]
  },
  {
   "cell_type": "code",
   "execution_count": 7,
   "id": "1e1d9936-d310-4cda-b51b-65d7a8438240",
   "metadata": {},
   "outputs": [
    {
     "name": "stderr",
     "output_type": "stream",
     "text": [
      "/home/camontan/Insync/carlo.montanari3@studio.unibo.it/OneDrive_Biz/projects/new_games_with_diffusion/nekhoroshev_tools.py:37: RuntimeWarning: divide by zero encountered in true_divide\n",
      "  return c * np.exp(-2*np.power(I_star/I, exponent)) * (0.5 if halved else 1.0)\n"
     ]
    },
    {
     "data": {
      "text/plain": [
       "Text(0.5, 1.0, 'Different (but similar) diffusion coefficient shapes')"
      ]
     },
     "execution_count": 7,
     "metadata": {},
     "output_type": "execute_result"
    },
    {
     "data": {
      "image/png": "[encoded data removed]",
      "text/plain": [
       "<Figure size 432x288 with 1 Axes>"
      ]
     },
     "metadata": {
      "needs_background": "light"
     },
     "output_type": "display_data"
    }
   ],
   "source": [
    "plt.figure()\n",
    "plt.plot(I_list, nt.D(I_list, I_star, nek_exponent, c_nek), label=\"Nekhoroshev-like\")\n",
    "plt.plot(I_list, et.D(I_list, exp_scale, c_exp), label=\"Exponential\")\n",
    "plt.plot(I_list, pt.D(I_list, pol_pow, c_pol), label=\"Polynomial\")\n",
    "plt.legend()\n",
    "plt.xlabel(\"I\")\n",
    "plt.ylabel(\"D(I)\")\n",
    "plt.title(\"Different (but similar) diffusion coefficient shapes\")"
   ]
  },
  {
   "cell_type": "markdown",
   "id": "c93e2423-6bea-497a-8307-08b54fb6ead4",
   "metadata": {},
   "source": [
    "**Nekhoroshev-like**"
   ]
  },
  {
   "cell_type": "code",
   "execution_count": 8,
   "id": "1923682a-a979-4de9-8c92-90f78338c4f7",
   "metadata": {},
   "outputs": [
    {
     "name": "stderr",
     "output_type": "stream",
     "text": [
      "/home/camontan/Insync/carlo.montanari3@studio.unibo.it/OneDrive_Biz/projects/new_games_with_diffusion/nekhoroshev_tools.py:37: RuntimeWarning: divide by zero encountered in double_scalars\n",
      "  return c * np.exp(-2*np.power(I_star/I, exponent)) * (0.5 if halved else 1.0)\n",
      "100%|██████████| 1000/1000 [00:04<00:00, 214.72it/s]\n"
     ]
    }
   ],
   "source": [
    "dt_nek = nt.current_peak_time(I_0, I_max, I_star, nek_exponent, c_nek)/cn_time_steps\n",
    "engine_nek = cn.cn_generic(\n",
    "    0, I_max,\n",
    "    rho_0(I_list, I_0, dI*5),\n",
    "    dt_nek,\n",
    "    lambda x: nt.D(x, I_star, nek_exponent, c_nek, True)\n",
    ")\n",
    "\n",
    "times_nek, current_nek = engine_nek.current(cn_time_steps*10, 1, False)"
   ]
  },
  {
   "cell_type": "code",
   "execution_count": 9,
   "id": "f47a3476-eb60-4f52-b95c-f4f458c85bd2",
   "metadata": {},
   "outputs": [
    {
     "name": "stderr",
     "output_type": "stream",
     "text": [
      "/home/camontan/Insync/carlo.montanari3@studio.unibo.it/OneDrive_Biz/projects/new_games_with_diffusion/nekhoroshev_tools.py:240: IntegrationWarning: The integral is probably divergent, or slowly convergent.\n",
      "  scipy.integrate.quad(\n"
     ]
    }
   ],
   "source": [
    "ana_current_nek = nt.current_generic(\n",
    "    times_nek[::10],\n",
    "    lambda x: rho_0(x, I_0, dI*5),\n",
    "    I_max,\n",
    "    1.0,\n",
    "    I_star,\n",
    "    nek_exponent,\n",
    "    c_nek\n",
    ")"
   ]
  },
  {
   "cell_type": "code",
   "execution_count": 10,
   "id": "56ff1b2d-2c31-453a-ac32-89b231ad3afa",
   "metadata": {},
   "outputs": [
    {
     "data": {
      "text/plain": [
       "Text(0.5, 1.0, 'Nekhoroshev-like current')"
      ]
     },
     "execution_count": 10,
     "metadata": {},
     "output_type": "execute_result"
    },
    {
     "data": {
      "image/png": "[encoded data removed]",
      "text/plain": [
       "<Figure size 432x288 with 1 Axes>"
      ]
     },
     "metadata": {
      "needs_background": "light"
     },
     "output_type": "display_data"
    }
   ],
   "source": [
    "plt.figure()\n",
    "plt.plot(times_nek, current_nek)\n",
    "plt.plot(times_nek[::10], ana_current_nek)\n",
    "\n",
    "plt.xlabel(\"$t$\")\n",
    "plt.ylabel(\"$J(t)$\")\n",
    "plt.title(\"Nekhoroshev-like current\")"
   ]
  },
  {
   "cell_type": "markdown",
   "id": "ac75af88-21c2-4ddb-8463-fb470a6240b9",
   "metadata": {},
   "source": [
    "**Exponential**"
   ]
  },
  {
   "cell_type": "code",
   "execution_count": 11,
   "id": "3628397b-9cdf-45c2-a645-d1bac637af38",
   "metadata": {},
   "outputs": [
    {
     "name": "stderr",
     "output_type": "stream",
     "text": [
      "100%|██████████| 1000/1000 [00:01<00:00, 543.33it/s]\n"
     ]
    }
   ],
   "source": [
    "dt_exp = et.current_peak_time(I_0, I_max, exp_scale, c_exp)/cn_time_steps\n",
    "engine_exp = cn.cn_generic(\n",
    "    0, I_max,\n",
    "    rho_0(I_list, I_0, dI*5),\n",
    "    dt_exp,\n",
    "    lambda x: et.D(x, exp_scale, c_exp, True)\n",
    ")\n",
    "\n",
    "times_exp, current_exp = engine_exp.current(cn_time_steps*10, 1, False)"
   ]
  },
  {
   "cell_type": "code",
   "execution_count": 12,
   "id": "b65dd910-641f-4b41-8656-4e2ac4b68677",
   "metadata": {},
   "outputs": [
    {
     "name": "stderr",
     "output_type": "stream",
     "text": [
      "/home/camontan/Insync/carlo.montanari3@studio.unibo.it/OneDrive_Biz/projects/new_games_with_diffusion/expo_tools.py:65: IntegrationWarning: The integral is probably divergent, or slowly convergent.\n",
      "  scipy.integrate.quad(\n"
     ]
    }
   ],
   "source": [
    "ana_current_exp = et.current_generic(\n",
    "    times_exp[::10],\n",
    "    lambda x: rho_0(x, I_0, dI*5),\n",
    "    I_max,\n",
    "    1.0,\n",
    "    exp_scale,\n",
    "    c_exp\n",
    ")"
   ]
  },
  {
   "cell_type": "code",
   "execution_count": 13,
   "id": "fd19c544-6a40-424c-b1a1-97f8b03005b8",
   "metadata": {},
   "outputs": [
    {
     "data": {
      "text/plain": [
       "Text(0.5, 1.0, 'Exponential-like current')"
      ]
     },
     "execution_count": 13,
     "metadata": {},
     "output_type": "execute_result"
    },
    {
     "data": {
      "image/png": "[encoded data removed]",
      "text/plain": [
       "<Figure size 432x288 with 1 Axes>"
      ]
     },
     "metadata": {
      "needs_background": "light"
     },
     "output_type": "display_data"
    }
   ],
   "source": [
    "plt.figure()\n",
    "plt.plot(times_exp, current_exp)\n",
    "plt.plot(times_exp[::10], ana_current_exp)\n",
    "\n",
    "plt.xlabel(\"$t$\")\n",
    "plt.ylabel(\"$J(t)$\")\n",
    "plt.title(\"Exponential-like current\")"
   ]
  },
  {
   "cell_type": "markdown",
   "id": "bab6785c-63c1-45f4-b660-ba5d8e59822b",
   "metadata": {},
   "source": [
    "**Polynomial**"
   ]
  },
  {
   "cell_type": "code",
   "execution_count": 14,
   "id": "4f68dddf-dcb0-4d28-b0e3-da32376f3096",
   "metadata": {},
   "outputs": [
    {
     "name": "stderr",
     "output_type": "stream",
     "text": [
      "100%|██████████| 1000/1000 [00:01<00:00, 552.59it/s]\n"
     ]
    }
   ],
   "source": [
    "dt_pol = pt.current_peak_time(I_0, I_max, pol_pow, c_pol)/cn_time_steps\n",
    "engine_pol = cn.cn_generic(\n",
    "    0, I_max,\n",
    "    rho_0(I_list, I_0, dI*5),\n",
    "    dt_pol,\n",
    "    lambda x: pt.D(x, pol_pow, c_pol, True)\n",
    ")\n",
    "\n",
    "times_pol, current_pol = engine_pol.current(cn_time_steps*10, 1, False)"
   ]
  },
  {
   "cell_type": "code",
   "execution_count": 15,
   "id": "fb35c888-23b7-4c7d-bc13-8bb5aa1ba78d",
   "metadata": {},
   "outputs": [
    {
     "name": "stderr",
     "output_type": "stream",
     "text": [
      "/home/camontan/Insync/carlo.montanari3@studio.unibo.it/OneDrive_Biz/projects/new_games_with_diffusion/poly_tools.py:65: IntegrationWarning: The integral is probably divergent, or slowly convergent.\n",
      "  scipy.integrate.quad(\n"
     ]
    }
   ],
   "source": [
    "ana_current_pol = pt.current_generic(\n",
    "    times_pol[::10],\n",
    "    lambda x: rho_0(x, I_0, dI*5),\n",
    "    I_max,\n",
    "    1.0,\n",
    "    pol_pow,\n",
    "    c_pol\n",
    ")"
   ]
  },
  {
   "cell_type": "code",
   "execution_count": 16,
   "id": "8f717208-c897-45c4-a2d2-7d48ba60a580",
   "metadata": {},
   "outputs": [
    {
     "data": {
      "text/plain": [
       "Text(0.5, 1.0, 'Polynomial-like current')"
      ]
     },
     "execution_count": 16,
     "metadata": {},
     "output_type": "execute_result"
    },
    {
     "data": {
      "image/png": "[encoded data removed]",
      "text/plain": [
       "<Figure size 432x288 with 1 Axes>"
      ]
     },
     "metadata": {
      "needs_background": "light"
     },
     "output_type": "display_data"
    }
   ],
   "source": [
    "plt.figure()\n",
    "plt.plot(times_pol, current_pol)\n",
    "plt.plot(times_pol[::10], ana_current_pol)\n",
    "\n",
    "plt.xlabel(\"$t$\")\n",
    "plt.ylabel(\"$J(t)$\")\n",
    "plt.title(\"Polynomial-like current\")"
   ]
  },
  {
   "cell_type": "markdown",
   "id": "f49df12b-2fb3-49d3-b71c-19f4bf5b0b30",
   "metadata": {},
   "source": [
    "### A little consideration"
   ]
  },
  {
   "cell_type": "markdown",
   "id": "598ec7b9-da84-4704-b342-49395b92cf0b",
   "metadata": {},
   "source": [
    "As expected, we have qualitatively the same current shape for the three processes, this is no surprise, but it implies of course that if we want to have any hope to \"prove\" that a Fokker-Plank process is best described with a Nekhoroshev-Like shape, we have to operate via multile samplings!"
   ]
  },
  {
   "cell_type": "markdown",
   "id": "b229ee7d-df98-47e8-9282-cc5493cb338f",
   "metadata": {},
   "source": [
    "# Multiple samplings"
   ]
  },
  {
   "cell_type": "code",
   "execution_count": 17,
   "id": "440ccdef-b999-4602-8413-d9528910ab59",
   "metadata": {},
   "outputs": [],
   "source": [
    "def lmfit_nek(params, x, data):\n",
    "    I_star = params[\"I_star\"]\n",
    "    exponent = params[\"exponent\"]\n",
    "    print(I_star/1, 1/exponent/2)\n",
    "    I_0 = [d[0] for d in x]\n",
    "    I_a = [d[1] for d in x]\n",
    "    model = Parallel(n_jobs=N_JOBS)(\n",
    "        delayed(nt.current_peak_time)(\n",
    "            I_0[i],\n",
    "            I_a[i],\n",
    "            I_star/1,\n",
    "            exponent/1,\n",
    "            nt.standard_c(0.0, I_a[i], I_star/1, exponent/1)\n",
    "        ) for i in range(len(I_a_list))\n",
    "    )\n",
    "    model = np.asarray(model)\n",
    "    return data-model\n",
    "\n",
    "\n",
    "def lmfit_nek_10_percent(params, x, data):\n",
    "    I_star = params[\"I_star\"]\n",
    "    exponent = params[\"exponent\"]\n",
    "    print(I_star/1, 1/exponent/2)\n",
    "    I_0 = [d[0] for d in x]\n",
    "    I_a = [d[1] for d in x]\n",
    "    model = Parallel(n_jobs=N_JOBS)(\n",
    "        delayed(nt.analytical_recover)(\n",
    "            I_0[i],\n",
    "            I_a[i],\n",
    "            I_star/1,\n",
    "            exponent/1,\n",
    "            ratio=0.1\n",
    "        ) for i in range(len(I_a_list))\n",
    "    )\n",
    "    model = np.asarray(model)\n",
    "    return data-model"
   ]
  },
  {
   "cell_type": "code",
   "execution_count": 18,
   "id": "5e2c6fea-a4df-4b6f-9598-2cfec356cfa8",
   "metadata": {},
   "outputs": [],
   "source": [
    "def lmfit_poly(params, x, data):\n",
    "    coeff = params[\"poly_coeff\"]\n",
    "    print(coeff/1)\n",
    "    I_0 = [d[0] for d in x]\n",
    "    I_a = [d[1] for d in x]\n",
    "    model = Parallel(n_jobs=N_JOBS)(\n",
    "        delayed(pt.current_peak_time)(\n",
    "            I_0[i],\n",
    "            I_a[i],\n",
    "            coeff/1,\n",
    "            pt.standard_c(0.0, I_a[i], coeff/1)\n",
    "        ) for i in range(len(I_a_list))\n",
    "    )\n",
    "    model = np.asarray(model)\n",
    "    return data-model\n",
    "\n",
    "\n",
    "def lmfit_poly_10_percent(params, x, data):\n",
    "    coeff = params[\"poly_coeff\"]\n",
    "    print(coeff/1)\n",
    "    I_0 = [d[0] for d in x]\n",
    "    I_a = [d[1] for d in x]\n",
    "    model = Parallel(n_jobs=N_JOBS)(\n",
    "        delayed(pt.analytical_recover)(\n",
    "            I_0[i],\n",
    "            I_a[i],\n",
    "            coeff/1,\n",
    "            ratio=0.1\n",
    "        ) for i in range(len(I_a_list))\n",
    "    )\n",
    "    model = np.asarray(model)\n",
    "    return data-model"
   ]
  },
  {
   "cell_type": "code",
   "execution_count": 19,
   "id": "f361759d-addf-4465-8e00-0b8990ca5651",
   "metadata": {},
   "outputs": [],
   "source": [
    "def lmfit_exp(params, x, data):\n",
    "    coeff = params[\"exp_coeff\"]\n",
    "    print(coeff/1)\n",
    "    I_0 = [d[0] for d in x]\n",
    "    I_a = [d[1] for d in x]\n",
    "    model = Parallel(n_jobs=N_JOBS)(\n",
    "        delayed(et.current_peak_time)(\n",
    "            I_0[i],\n",
    "            I_a[i],\n",
    "            coeff/1,\n",
    "            et.standard_c(0.0, I_a[i], coeff/1)\n",
    "        ) for i in range(len(I_a_list))\n",
    "    )\n",
    "    model = np.asarray(model)\n",
    "    return data-model\n",
    "\n",
    "\n",
    "def lmfit_exp_10_percent(params, x, data):\n",
    "    coeff = params[\"exp_coeff\"]\n",
    "    print(coeff/1)\n",
    "    I_0 = [d[0] for d in x]\n",
    "    I_a = [d[1] for d in x]\n",
    "    model = Parallel(n_jobs=N_JOBS)(\n",
    "        delayed(et.analytical_recover)(\n",
    "            I_0[i],\n",
    "            I_a[i],\n",
    "            coeff/1,\n",
    "            ratio=0.1\n",
    "        ) for i in range(len(I_a_list))\n",
    "    )\n",
    "    model = np.asarray(model)\n",
    "    return data-model"
   ]
  },
  {
   "cell_type": "code",
   "execution_count": 20,
   "id": "85e37f98-2833-49d4-9338-42c3d3c80590",
   "metadata": {},
   "outputs": [],
   "source": [
    "cn_sampling = 50000\n",
    "cn_time_steps = 1000"
   ]
  },
  {
   "cell_type": "markdown",
   "id": "ecc48fdd-34d7-482f-a9b2-85003819e430",
   "metadata": {},
   "source": [
    "## A little attempt (fixed $I_0$, moving $I_a$)"
   ]
  },
  {
   "cell_type": "markdown",
   "id": "5b27a57d-28ba-4763-87d2-79c541656114",
   "metadata": {},
   "source": [
    "### Setup"
   ]
  },
  {
   "cell_type": "code",
   "execution_count": 21,
   "id": "9a2cee2e-5c15-40c3-b9cb-d03f6facb767",
   "metadata": {},
   "outputs": [],
   "source": [
    "I_0 = 3.9\n",
    "\n",
    "I_a_min = 4.0\n",
    "I_a_max = 6.0\n",
    "I_a_samples = 30\n",
    "I_a_list, I_a_step = np.linspace(I_a_min, I_a_max, I_a_samples, retstep=True)"
   ]
  },
  {
   "cell_type": "code",
   "execution_count": 22,
   "id": "fcf92148-185b-46c4-99e5-8de2167841f3",
   "metadata": {},
   "outputs": [],
   "source": [
    "I_star = 7.0\n",
    "k = 0.33\n",
    "exponent = 1/(2*k)"
   ]
  },
  {
   "cell_type": "code",
   "execution_count": 23,
   "id": "a1015d7f-bfb7-4184-93f4-76964f44434d",
   "metadata": {},
   "outputs": [],
   "source": [
    "data_0 = Parallel(n_jobs=N_JOBS)(\n",
    "    delayed(nt.compute_current_with_peak)(\n",
    "        I_0,\n",
    "        I_max,\n",
    "        I_star,\n",
    "        exponent,\n",
    "        t_sampling=cn_time_steps,\n",
    "        I_sampling=cn_sampling,\n",
    "        I_min=0.0\n",
    "    ) for I_max in I_a_list\n",
    ")"
   ]
  },
  {
   "cell_type": "markdown",
   "id": "09124cb4-0aa4-4657-a513-0cbda96ddbb3",
   "metadata": {},
   "source": [
    "delta"
   ]
  },
  {
   "cell_type": "code",
   "execution_count": 24,
   "id": "15d22cb9-371d-4409-b0dc-3b7c65b5982c",
   "metadata": {},
   "outputs": [],
   "source": [
    "d0_times = []\n",
    "d0_current = []\n",
    "d0_ana_current_time = []\n",
    "d0_ana_current_peak = []\n",
    "d0_num_current_time = []\n",
    "d0_num_current_peak = []\n",
    "for d in data_0:\n",
    "    d0_times.append(d[0])\n",
    "    d0_current.append(d[1])\n",
    "    d0_ana_current_time.append(d[2])\n",
    "    d0_ana_current_peak.append(d[3])\n",
    "    d0_num_current_time.append(d[4])\n",
    "    d0_num_current_peak.append(d[5])\n"
   ]
  },
  {
   "cell_type": "code",
   "execution_count": 25,
   "id": "dd1d47ed-42fc-402e-aa10-74deaf4c33a9",
   "metadata": {},
   "outputs": [],
   "source": [
    "d0_10_percent_time = []\n",
    "for i in range(len(data_0)):\n",
    "    d0_10_percent_time.append(\n",
    "        d0_times[i][\n",
    "            np.argmin(np.absolute(d0_current[i]-d0_num_current_peak[i]*0.1))\n",
    "        ]\n",
    "    )"
   ]
  },
  {
   "cell_type": "code",
   "execution_count": 30,
   "id": "86b122ce-d068-44b9-8bce-d2139e5a2f61",
   "metadata": {},
   "outputs": [
    {
     "data": {
      "text/plain": [
       "Text(0.5, 1.0, 'Different current shapes for different $I_a$ positions and fixed $I_0$')"
      ]
     },
     "execution_count": 30,
     "metadata": {},
     "output_type": "execute_result"
    },
    {
     "data": {
      "image/png": "[encoded data removed]",
      "text/plain": [
       "<Figure size 432x288 with 1 Axes>"
      ]
     },
     "metadata": {
      "needs_background": "light"
     },
     "output_type": "display_data"
    }
   ],
   "source": [
    "plt.figure()\n",
    "for i in range(I_a_samples):\n",
    "    plt.plot(d0_times[i], d0_current[i])\n",
    "    plt.scatter(d0_num_current_time[i], d0_num_current_peak[i], s=25, marker=\"x\", color=\"black\", label=\"peak position\")\n",
    "    #plt.scatter(d0_num_current_time[i], d0_num_current_peak[i], s=25, marker=\"x\", color=\"black\")\n",
    "    plt.scatter(d0_10_percent_time[i], d0_ana_current_peak[i]*0.1, s=25, marker=\"x\", color=\"grey\", label=\"10% position\")\n",
    "\n",
    "plt.xscale(\"log\")\n",
    "plt.yscale(\"log\")\n",
    "\n",
    "plt.xlabel(\"t\")\n",
    "plt.ylabel(\"Current\")\n",
    "\n",
    "plt.title(\"Different current shapes for different $I_a$ positions and fixed $I_0$\")"
   ]
  },
  {
   "cell_type": "markdown",
   "id": "78108101-edb6-4d82-856b-6fd0269689fb",
   "metadata": {},
   "source": [
    "### Fitting the data"
   ]
  },
  {
   "cell_type": "code",
   "execution_count": 31,
   "id": "9fd4a4c8-6149-474b-a4ab-13323cc0e8d7",
   "metadata": {
    "scrolled": true,
    "tags": []
   },
   "outputs": [
    {
     "name": "stdout",
     "output_type": "stream",
     "text": [
      "8.0 0.3333333333333333\n",
      "8.0 0.3333333333333333\n",
      "8.0 0.3333333333333333\n",
      "8.00000011920929 0.3333333333333333\n",
      "8.0 0.33333332836627966\n",
      "7.516136435611724 0.34732364909134866\n",
      "7.516136547610884 0.34732364909134866\n",
      "7.516136435611724 0.34732364391582304\n",
      "6.526078572159678 0.3207554497103003\n",
      "6.526078669405827 0.3207554497103003\n",
      "6.526078572159678 0.3207554449306717\n",
      "5.851494117354595 0.28168443391800674\n",
      "6.158489762760012 0.29546166812669145\n",
      "6.158489854528661 0.29546166812669145\n",
      "6.158489762760012 0.29546166372396954\n",
      "5.908784567746695 0.278860167454411\n",
      "5.908784655794446 0.278860167454411\n",
      "5.908784567746695 0.27886016329907076\n",
      "5.989162921917266 0.282747063231313\n",
      "5.9891630111627485 0.282747063231313\n",
      "5.989162921917266 0.28274705901805347\n",
      "5.9995519867193705 0.2832918734587818\n",
      "5.999552076119662 0.2832918734587818\n",
      "5.9995519867193705 0.283291869237404\n",
      "5.999390031744297 0.28327928830540827\n",
      "5.9993901211421745 0.28327928830540827\n",
      "5.999390031744297 0.283279284084218\n",
      "5.99951470897036 0.28328721293345\n",
      "5.99951470897036 0.28328721293345\n"
     ]
    }
   ],
   "source": [
    "x_data = [(I_0, I_max) for I_max in I_a_list]\n",
    "\n",
    "params = Parameters()\n",
    "params.add('I_star', value=8.0)\n",
    "params.add('exponent', value=1.5)\n",
    "\n",
    "nek_out = minimize(lmfit_nek, params, args=(x_data, d0_num_current_time))"
   ]
  },
  {
   "cell_type": "code",
   "execution_count": 32,
   "id": "2b457ae7-8d45-4ac6-8e8e-3fd114f89fa3",
   "metadata": {
    "scrolled": true,
    "tags": []
   },
   "outputs": [
    {
     "name": "stdout",
     "output_type": "stream",
     "text": [
      "7.0\n",
      "7.0\n",
      "7.0\n",
      "7.000000104308128\n",
      "5.325340486860457\n",
      "5.325340566214214\n",
      "4.532237176588593\n",
      "4.53223724412419\n",
      "4.462649676183013\n",
      "4.462649742681675\n",
      "4.506395136163432\n",
      "4.506395203313953\n",
      "4.477055637825609\n",
      "4.4770557045389365\n",
      "4.496011245378184\n",
      "4.496011312373972\n",
      "4.48343823366012\n",
      "4.483438300468556\n",
      "4.491641284094315\n",
      "4.4916413510249855\n",
      "4.486229075578152\n",
      "4.486229142428175\n",
      "4.489774999263707\n",
      "4.489775066166568\n",
      "4.487440539359292\n",
      "4.487440606227366\n",
      "4.488972826890402\n",
      "4.48897289378131\n",
      "4.487965015487443\n",
      "4.487965082363333\n",
      "4.488627181040191\n",
      "4.488627247925948\n",
      "4.488191428077431\n",
      "4.488191494956695\n",
      "4.488478030378734\n",
      "4.488478097262268\n",
      "4.488289665023727\n",
      "4.488289665023727\n"
     ]
    }
   ],
   "source": [
    "x_data = [(I_0, I_max) for I_max in I_a_list]\n",
    "\n",
    "params = Parameters()\n",
    "params.add('poly_coeff', value=7.0)\n",
    "\n",
    "poly_out = minimize(lmfit_poly, params, args=(x_data, d0_num_current_time))"
   ]
  },
  {
   "cell_type": "code",
   "execution_count": 33,
   "id": "19497cc6-2935-4587-9112-7a608eff71d0",
   "metadata": {
    "scrolled": true,
    "tags": []
   },
   "outputs": [
    {
     "name": "stdout",
     "output_type": "stream",
     "text": [
      "2.0\n",
      "2.0\n",
      "2.0\n",
      "2.0000000298023224\n",
      "1.4232292779164335\n",
      "1.4232292991242024\n",
      "1.0122684769112031\n",
      "1.012268491995179\n",
      "0.8303118756877382\n",
      "0.8303118756877382\n",
      "0.9601677717251883\n",
      "0.9601677860328031\n",
      "0.9893594755242118\n",
      "0.970207652224836\n",
      "0.9702076666820566\n",
      "0.9655208961978922\n",
      "0.9655209105852747\n",
      "0.9669861551879153\n",
      "0.966513000183395\n",
      "0.96581049261711\n",
      "0.9658105070088079\n",
      "0.9658109615602706\n",
      "0.96581049261711\n"
     ]
    }
   ],
   "source": [
    "x_data = [(I_0, I_max) for I_max in I_a_list]\n",
    "\n",
    "params = Parameters()\n",
    "params.add('exp_coeff', value=2.0)\n",
    "\n",
    "exp_out = minimize(lmfit_exp, params, args=(x_data, d0_num_current_time))"
   ]
  },
  {
   "cell_type": "code",
   "execution_count": 34,
   "id": "173e6bda-bdd8-49ac-8ee0-931ccde0d59b",
   "metadata": {},
   "outputs": [
    {
     "data": {
      "text/plain": [
       "Text(0.5, 1.0, 'Overview of the fitting performance (current peak)')"
      ]
     },
     "execution_count": 34,
     "metadata": {},
     "output_type": "execute_result"
    },
    {
     "data": {
      "image/png": "[encoded data removed]",
      "text/plain": [
       "<Figure size 432x288 with 1 Axes>"
      ]
     },
     "metadata": {
      "needs_background": "light"
     },
     "output_type": "display_data"
    }
   ],
   "source": [
    "plt.figure()\n",
    "plt.scatter(I_a_list, nek_out.residual, label=\"Nekhoroshev fit\")\n",
    "plt.scatter(I_a_list, poly_out.residual, label=\"Polynomial fit\")\n",
    "plt.scatter(I_a_list, exp_out.residual, label=\"Exponential fit\")\n",
    "\n",
    "plt.xlabel(\"$I_a$ position\")\n",
    "plt.ylabel(\"Residual for the single sample\")\n",
    "\n",
    "plt.title(\"Overview of the fitting performance (current peak)\")"
   ]
  },
  {
   "cell_type": "code",
   "execution_count": 35,
   "id": "a2b941d5-08fe-4444-a828-5cc45adfbd09",
   "metadata": {
    "scrolled": true,
    "tags": []
   },
   "outputs": [
    {
     "name": "stdout",
     "output_type": "stream",
     "text": [
      "8.0 0.3333333333333333\n",
      "8.0 0.3333333333333333\n",
      "8.0 0.3333333333333333\n",
      "8.000000117346646 0.3333333333333333\n",
      "8.0 0.3333333267657846\n",
      "7.601299580765504 0.3487877938994417\n",
      "7.601299692073351 0.3487877938994417\n",
      "7.601299580765504 0.3487877869927805\n",
      "6.693326826465739 0.32319919671801456\n",
      "6.69332692397781 0.32319919671801456\n",
      "6.693326826465739 0.3231991903723833\n",
      "6.513683628563602 0.3082829575309501\n",
      "6.513683723337381 0.3082829575309501\n",
      "6.513683628563602 0.3082829515111615\n",
      "6.491906635305574 0.307265182932479\n",
      "6.491906729747177 0.307265182932479\n",
      "6.491906635305574 0.3072651769348849\n",
      "6.486770682490509 0.3069801726051573\n",
      "6.4867707768537635 0.3069801726051573\n",
      "6.486770682490509 0.3069801666137775\n",
      "6.487885566089077 0.30704053378465024\n",
      "6.487885660469339 0.30704053378465024\n",
      "6.487885566089077 0.30704052779195445\n",
      "6.487674440984713 0.3070290064229877\n",
      "6.487674440984713 0.3070290064229877\n"
     ]
    }
   ],
   "source": [
    "x_data = [(I_0, I_max) for I_max in I_a_list]\n",
    "\n",
    "params = Parameters()\n",
    "params.add('I_star', value=8.0, min=1.0)\n",
    "params.add('exponent', value=1.5, min=0.1)\n",
    "\n",
    "nek_out_10 = minimize(lmfit_nek_10_percent, params, args=(x_data, d0_10_percent_time))"
   ]
  },
  {
   "cell_type": "code",
   "execution_count": 36,
   "id": "9aa43006-cad8-48e5-89ce-57086590bb1e",
   "metadata": {
    "scrolled": true,
    "tags": []
   },
   "outputs": [
    {
     "name": "stdout",
     "output_type": "stream",
     "text": [
      "5.0\n",
      "5.0\n",
      "5.0\n",
      "5.000000074505806\n",
      "4.740984958252599\n",
      "4.7409850288987805\n",
      "4.774543506928704\n",
      "4.774543578074947\n",
      "4.765543673458591\n",
      "4.765543744470726\n",
      "4.767399718201794\n",
      "4.767399789241586\n",
      "4.767005653023051\n",
      "4.767005724056971\n",
      "4.767089033955587\n",
      "4.767089033955587\n"
     ]
    }
   ],
   "source": [
    "x_data = [(I_0, I_max) for I_max in I_a_list]\n",
    "\n",
    "params = Parameters()\n",
    "params.add('poly_coeff', value=5.0)\n",
    "\n",
    "poly_out_10 = minimize(lmfit_poly_10_percent, params, args=(x_data, d0_10_percent_time))"
   ]
  },
  {
   "cell_type": "code",
   "execution_count": 37,
   "id": "4a4a0526-afab-4cfd-8443-fd15374b49df",
   "metadata": {
    "scrolled": true,
    "tags": []
   },
   "outputs": [
    {
     "name": "stdout",
     "output_type": "stream",
     "text": [
      "1.0\n",
      "1.0\n",
      "1.0\n",
      "1.0000000149011612\n",
      "0.9232224837647962\n",
      "0.9742993926904162\n",
      "0.9742994072086085\n",
      "0.9913892217446136\n",
      "0.9817417536740269\n",
      "0.9757788385289886\n",
      "0.97456182528093\n",
      "0.9745618398030329\n",
      "0.9750700282621158\n",
      "0.9750700427917914\n",
      "0.9760172800968232\n",
      "0.975170932209009\n",
      "0.9751709467401882\n",
      "0.9753697698415924\n",
      "0.97519108289704\n",
      "0.9751910974285196\n",
      "0.9752312636685236\n",
      "0.9752312782006018\n",
      "0.9753111412177171\n",
      "0.9752392949565051\n",
      "0.975239309488703\n",
      "0.975255338054377\n",
      "0.9752553525868141\n",
      "0.9752873462320807\n",
      "0.97525854589206\n",
      "0.9752585604245447\n",
      "0.9752649584391211\n",
      "0.9752649729717014\n",
      "0.9752777710129387\n",
      "0.9752662408232201\n",
      "0.9752662553558196\n",
      "0.9752688050901194\n",
      "0.975266497295026\n",
      "0.9752662408232201\n"
     ]
    }
   ],
   "source": [
    "x_data = [(I_0, I_max) for I_max in I_a_list]\n",
    "\n",
    "params = Parameters()\n",
    "params.add('exp_coeff', value=1.0)\n",
    "\n",
    "exp_out_10 = minimize(lmfit_exp_10_percent, params, args=(x_data, d0_10_percent_time))"
   ]
  },
  {
   "cell_type": "code",
   "execution_count": 38,
   "id": "144cca59-5a66-48e8-8447-29079d4da209",
   "metadata": {},
   "outputs": [
    {
     "data": {
      "text/plain": [
       "Text(0.5, 1.0, 'Overview of the fitting performance (current 10%)')"
      ]
     },
     "execution_count": 38,
     "metadata": {},
     "output_type": "execute_result"
    },
    {
     "data": {
      "image/png": "[encoded data removed]",
      "text/plain": [
       "<Figure size 432x288 with 1 Axes>"
      ]
     },
     "metadata": {
      "needs_background": "light"
     },
     "output_type": "display_data"
    }
   ],
   "source": [
    "plt.figure()\n",
    "plt.scatter(I_a_list, nek_out_10.residual, label=\"Nekhoroshev fit\")\n",
    "plt.scatter(I_a_list, poly_out_10.residual, label=\"Polynomial fit\")\n",
    "plt.scatter(I_a_list, exp_out_10.residual, label=\"Exponential fit\")\n",
    "\n",
    "plt.legend()\n",
    "plt.xlabel(\"$I_a$ position\")\n",
    "plt.ylabel(\"Residual for the single sample\")\n",
    "\n",
    "plt.title(\"Overview of the fitting performance (current 10%)\")"
   ]
  },
  {
   "cell_type": "markdown",
   "id": "d34165ef-bea6-40eb-a27d-2fa35dd4d2d9",
   "metadata": {},
   "source": [
    "## A little attempt (fixed $I_a$, moving $I_0$)"
   ]
  },
  {
   "cell_type": "markdown",
   "id": "96443223-2843-4ce1-bd66-a7f648a911d3",
   "metadata": {},
   "source": [
    "### Setup"
   ]
  },
  {
   "cell_type": "code",
   "execution_count": 39,
   "id": "fff591c0-1ed9-425d-a9b6-b4a8764ed4b3",
   "metadata": {},
   "outputs": [],
   "source": [
    "I_star = 7.5\n",
    "k = 0.33\n",
    "exponent = 1/(2*k)"
   ]
  },
  {
   "cell_type": "code",
   "execution_count": 40,
   "id": "79595921-988d-4e41-844b-e6de9f8def9e",
   "metadata": {},
   "outputs": [],
   "source": [
    "I_a = 6.0\n",
    "\n",
    "I_0_min = 4.0\n",
    "I_0_max = 5.9\n",
    "I_0_samples = 30\n",
    "I_0_list, I_0_step = np.linspace(I_0_min, I_0_max, I_0_samples, retstep=True)"
   ]
  },
  {
   "cell_type": "code",
   "execution_count": 41,
   "id": "1db124de-7e69-4f03-9ed4-6a44acb8b4ef",
   "metadata": {},
   "outputs": [],
   "source": [
    "data_1 = Parallel(n_jobs=N_JOBS)(\n",
    "    delayed(nt.compute_current_with_peak)(\n",
    "        I_0,\n",
    "        I_a,\n",
    "        I_star,\n",
    "        exponent,\n",
    "        t_sampling=cn_time_steps,\n",
    "        I_sampling=cn_sampling,\n",
    "        I_min=0.0\n",
    "    ) for I_0 in I_0_list\n",
    ")"
   ]
  },
  {
   "cell_type": "markdown",
   "id": "2322a954-cdae-44f0-9fbe-bafc8fd5b274",
   "metadata": {},
   "source": [
    "delta"
   ]
  },
  {
   "cell_type": "code",
   "execution_count": 42,
   "id": "3f55b82e-4a2f-4311-b0df-13178df60df2",
   "metadata": {},
   "outputs": [],
   "source": [
    "d1_times = []\n",
    "d1_current = []\n",
    "d1_ana_current_time = []\n",
    "d1_ana_current_peak = []\n",
    "d1_num_current_time = []\n",
    "d1_num_current_peak = []\n",
    "for d in data_1:\n",
    "    d1_times.append(d[0])\n",
    "    d1_current.append(d[1])\n",
    "    d1_ana_current_time.append(d[2])\n",
    "    d1_ana_current_peak.append(d[3])\n",
    "    d1_num_current_time.append(d[4])\n",
    "    d1_num_current_peak.append(d[5])\n"
   ]
  },
  {
   "cell_type": "code",
   "execution_count": 43,
   "id": "6fbc12cb-584d-416f-9f57-eccf9dbc4a74",
   "metadata": {},
   "outputs": [],
   "source": [
    "d1_10_percent_time = []\n",
    "for i in range(len(data_1)):\n",
    "    d1_10_percent_time.append(\n",
    "        d1_times[i][\n",
    "            np.argmin(np.absolute(d1_current[i]-d1_num_current_peak[i]*0.1))\n",
    "        ]\n",
    "    )"
   ]
  },
  {
   "cell_type": "code",
   "execution_count": 44,
   "id": "c47b224c-e90a-4b64-8888-e6e516136358",
   "metadata": {},
   "outputs": [
    {
     "data": {
      "text/plain": [
       "Text(0.5, 1.0, 'Different current shapes for different $I_0$ positions and fixed $I_a$')"
      ]
     },
     "execution_count": 44,
     "metadata": {},
     "output_type": "execute_result"
    },
    {
     "data": {
      "image/png": "[encoded data removed]",
      "text/plain": [
       "<Figure size 432x288 with 1 Axes>"
      ]
     },
     "metadata": {
      "needs_background": "light"
     },
     "output_type": "display_data"
    }
   ],
   "source": [
    "plt.figure()\n",
    "for i in range(I_a_samples):\n",
    "    plt.plot(d1_times[i], d1_current[i])\n",
    "    plt.scatter(d1_num_current_time[i], d1_num_current_peak[i], s=25, marker=\"x\", color=\"black\")\n",
    "    plt.scatter(d1_10_percent_time[i], d1_ana_current_peak[i]*0.1, s=25, marker=\"x\", color=\"grey\")\n",
    "\n",
    "plt.xscale(\"log\")\n",
    "\n",
    "plt.xlabel(\"t\")\n",
    "plt.ylabel(\"Current\")\n",
    "\n",
    "plt.title(\"Different current shapes for different $I_0$ positions and fixed $I_a$\")"
   ]
  },
  {
   "cell_type": "markdown",
   "id": "ce832832-f68b-4ca2-90fa-49d1a7397219",
   "metadata": {},
   "source": [
    "### Fitting the data"
   ]
  },
  {
   "cell_type": "code",
   "execution_count": 45,
   "id": "f860a2f3-43b5-4f6d-af1f-d8696b06ad23",
   "metadata": {},
   "outputs": [],
   "source": [
    "x_data = [(I_0, I_a) for I_0 in I_0_list]"
   ]
  },
  {
   "cell_type": "code",
   "execution_count": 46,
   "id": "7c9adfa6-64b1-4e2e-b8dc-2cab8480b859",
   "metadata": {
    "scrolled": true,
    "tags": []
   },
   "outputs": [
    {
     "name": "stdout",
     "output_type": "stream",
     "text": [
      "8.000000000000002 0.3333333333333333\n",
      "8.000000000000002 0.3333333333333333\n",
      "8.000000000000002 0.3333333333333333\n",
      "8.000000130946047 0.3333333333333333\n",
      "8.000000000000002 0.3333333267657846\n",
      "7.213222844105433 0.3246203843647525\n",
      "7.213222963165222 0.3246203843647525\n",
      "7.213222844105433 0.3246203779880244\n",
      "6.638319203825889 0.30149589734600063\n",
      "6.888146969908418 0.31187561537001096\n",
      "6.888147084047539 0.31187561537001096\n",
      "6.888146969908418 0.31187560927183616\n",
      "6.695396491902139 0.30142887279634173\n",
      "6.695396603120499 0.30142887279634173\n",
      "6.695396491902139 0.3014288669259159\n",
      "6.705791524591626 0.30144282403175665\n",
      "6.7057916359675644 0.30144282403175665\n",
      "6.705791524591626 0.30144281816102686\n",
      "6.706260530030674 0.30147047503618607\n",
      "6.7062606414137225 0.30147047503618607\n",
      "6.706260530030674 0.30147046916485426\n",
      "6.706249847047426 0.30146989476399044\n",
      "6.706249847047426 0.30146989476399044\n"
     ]
    }
   ],
   "source": [
    "params = Parameters()\n",
    "params.add('I_star', value=8.0, min=0.1)\n",
    "params.add('exponent', value=1.5, min=0.1)\n",
    "\n",
    "nek_out = minimize(lmfit_nek, params, args=(x_data, d1_num_current_time))"
   ]
  },
  {
   "cell_type": "code",
   "execution_count": 47,
   "id": "643ada7f-4329-46df-b92f-cdf1d34b3a5e",
   "metadata": {
    "scrolled": true,
    "tags": []
   },
   "outputs": [
    {
     "name": "stdout",
     "output_type": "stream",
     "text": [
      "7.0\n",
      "7.0\n",
      "7.0\n",
      "7.000000117346646\n",
      "5.390208504413608\n",
      "5.3902085973032605\n",
      "4.7619805528051256\n",
      "4.761980636079208\n",
      "5.144281122371441\n",
      "5.144281122371441\n",
      "5.0131079193301895\n",
      "5.013108006454366\n",
      "4.877471071496254\n",
      "4.877471156542097\n",
      "4.999177399668846\n",
      "4.9396824263164785\n",
      "4.939682512315898\n",
      "4.936894247363871\n",
      "4.936894333320565\n",
      "4.939446457069282\n",
      "4.939446543065084\n",
      "4.937109537121306\n",
      "4.937109623081298\n",
      "4.939249076884445\n",
      "4.939249162877223\n",
      "4.937506464272233\n",
      "4.937506550238307\n",
      "4.9388845318526915\n",
      "4.938884617839883\n",
      "4.938013225241886\n",
      "4.938013311215727\n",
      "4.938419600062853\n",
      "4.93841968604292\n",
      "4.93804749437107\n",
      "4.938047580345435\n",
      "4.938265320710675\n",
      "4.938265320710675\n"
     ]
    }
   ],
   "source": [
    "params = Parameters()\n",
    "params.add('poly_coeff', value=7.0, min=0.0)\n",
    "\n",
    "poly_out = minimize(lmfit_poly, params, args=(x_data, d1_num_current_time))"
   ]
  },
  {
   "cell_type": "code",
   "execution_count": 48,
   "id": "a28d08cb-18dd-4f7f-9d15-ff74164f0f00",
   "metadata": {
    "scrolled": true,
    "tags": []
   },
   "outputs": [
    {
     "name": "stdout",
     "output_type": "stream",
     "text": [
      "2.0000000000000004\n",
      "2.0000000000000004\n",
      "2.0000000000000004\n",
      "2.00000003973643\n",
      "1.4251293007564394\n",
      "1.425129330749201\n",
      "1.0094054769402185\n",
      "1.009405499466987\n",
      "1.0267797243267145\n",
      "1.0267797243267145\n",
      "1.0154577503923794\n",
      "1.0154577730316028\n",
      "1.0124308676558962\n",
      "1.0124308902388948\n",
      "1.013594831112722\n",
      "1.0130021981172939\n",
      "1.0126506151135746\n",
      "1.0126506377006566\n",
      "1.0126506151135746\n"
     ]
    }
   ],
   "source": [
    "params = Parameters()\n",
    "params.add('exp_coeff', value=2.0, min=0.0)\n",
    "\n",
    "exp_out = minimize(lmfit_exp, params, args=(x_data, d1_num_current_time))"
   ]
  },
  {
   "cell_type": "code",
   "execution_count": 49,
   "id": "71c5894e-7f1e-451c-bd02-5a0724fc9f45",
   "metadata": {},
   "outputs": [
    {
     "data": {
      "text/plain": [
       "Text(0.5, 1.0, 'Overview of the fitting performance (current peak)')"
      ]
     },
     "execution_count": 49,
     "metadata": {},
     "output_type": "execute_result"
    },
    {
     "data": {
      "image/png": "[encoded data removed]",
      "text/plain": [
       "<Figure size 432x288 with 1 Axes>"
      ]
     },
     "metadata": {
      "needs_background": "light"
     },
     "output_type": "display_data"
    }
   ],
   "source": [
    "plt.figure()\n",
    "plt.scatter(I_a_list, nek_out.residual, label=\"Nekhoroshev fit\")\n",
    "plt.scatter(I_a_list, poly_out.residual, label=\"Polynomial fit\")\n",
    "plt.scatter(I_a_list, exp_out.residual, label=\"Exponential fit\")\n",
    "\n",
    "plt.legend()\n",
    "plt.xlabel(\"$I_0$ position\")\n",
    "plt.ylabel(\"Residual for single sample\")\n",
    "plt.title(\"Overview of the fitting performance (current peak)\")"
   ]
  },
  {
   "cell_type": "code",
   "execution_count": 50,
   "id": "dfcfee97-2d2f-4b1e-ab10-4c5a708ef334",
   "metadata": {
    "scrolled": true,
    "tags": []
   },
   "outputs": [
    {
     "name": "stdout",
     "output_type": "stream",
     "text": [
      "8.0 0.3333333333333333\n",
      "8.0 0.3333333333333333\n",
      "8.0 0.3333333333333333\n",
      "8.000000117346646 0.3333333333333333\n",
      "8.0 0.3333333267657846\n",
      "7.354093608327426 0.32654812461924854\n",
      "7.35409371588572 0.32654812461924854\n",
      "7.354093608327426 0.32654811820032664\n",
      "7.122217539626336 0.31708394790746414\n",
      "7.12221764366344 0.31708394790746414\n",
      "7.122217539626336 0.3170839416955421\n",
      "7.129621078626232 0.3170071462018559\n",
      "7.1296211827758285 0.3170071462018559\n",
      "7.129621078626232 0.31700713999161206\n",
      "7.125780995358539 0.31683329972877095\n",
      "7.125781099449789 0.31683329972877095\n",
      "7.125780995358539 0.3168332935223258\n",
      "7.125813859701424 0.31683468975367235\n",
      "7.125813859701424 0.31683468975367235\n"
     ]
    }
   ],
   "source": [
    "params = Parameters()\n",
    "params.add('I_star', value=8.0, min=1.0)\n",
    "params.add('exponent', value=1.5, min=0.1)\n",
    "\n",
    "nek_out_10 = minimize(lmfit_nek_10_percent, params, args=(x_data, d1_10_percent_time))"
   ]
  },
  {
   "cell_type": "code",
   "execution_count": 51,
   "id": "62c87d50-5e44-4a42-a71c-6e19f12421c9",
   "metadata": {
    "scrolled": true,
    "tags": []
   },
   "outputs": [
    {
     "name": "stdout",
     "output_type": "stream",
     "text": [
      "5.0\n",
      "5.0\n",
      "5.0\n",
      "5.000000074505806\n",
      "5.2353033822241395\n",
      "5.235303460236239\n",
      "5.13262496477573\n",
      "5.1326250412578025\n",
      "5.144236833845637\n",
      "5.144236833845637\n",
      "5.135541810960829\n",
      "5.13291664939424\n",
      "5.1329167258806585\n",
      "5.133471065659449\n",
      "5.133471142154129\n",
      "5.134472449585371\n",
      "5.133580771764783\n",
      "5.133580848261097\n",
      "5.133795549388968\n",
      "5.133602665741855\n",
      "5.133602742238496\n",
      "5.133646265323865\n",
      "5.133646341821155\n",
      "5.133732715778562\n",
      "5.1336549776948655\n",
      "5.133655054192285\n",
      "5.133672372295498\n",
      "5.1336724487931775\n",
      "5.133707041243227\n",
      "5.133707117741423\n",
      "5.1337759006129735\n",
      "5.133713970217608\n",
      "5.133714046715907\n",
      "5.133727808924873\n",
      "5.1337278854233785\n",
      "5.133755409532017\n",
      "5.13373057589633\n",
      "5.133727808924873\n"
     ]
    }
   ],
   "source": [
    "params = Parameters()\n",
    "params.add('poly_coeff', value=5.0)\n",
    "\n",
    "poly_out_10 = minimize(lmfit_poly_10_percent, params, args=(x_data, d1_10_percent_time))"
   ]
  },
  {
   "cell_type": "code",
   "execution_count": 52,
   "id": "e1b623fd-1015-408b-836a-36aeb21d1807",
   "metadata": {
    "scrolled": true,
    "tags": []
   },
   "outputs": [
    {
     "name": "stdout",
     "output_type": "stream",
     "text": [
      "1.0\n",
      "1.0\n",
      "1.0\n",
      "1.0000000149011612\n",
      "1.1255779904752987\n",
      "1.023310747378162\n",
      "1.0233107626266804\n",
      "1.037063276766122\n",
      "1.0259030333216839\n",
      "1.0236839719373458\n",
      "1.0236839871914256\n",
      "1.024386502265097\n",
      "1.0237633584574217\n",
      "1.0237633737126846\n",
      "1.0239199865588524\n",
      "1.0239200018164492\n",
      "1.0242245015844365\n",
      "1.024224516846571\n",
      "1.0247971544065946\n",
      "1.0242849865921217\n",
      "1.0242850018551575\n",
      "1.0244044069881253\n",
      "1.0242970665573974\n",
      "1.0242970818206132\n",
      "1.024321163696737\n",
      "1.0242994818680067\n",
      "1.0242994971312585\n",
      "1.0243043099693725\n",
      "1.0242999649026545\n",
      "1.0242999649026545\n"
     ]
    }
   ],
   "source": [
    "params = Parameters()\n",
    "params.add('exp_coeff', value=1.0)\n",
    "\n",
    "exp_out_10 = minimize(lmfit_exp_10_percent, params, args=(x_data, d1_10_percent_time))"
   ]
  },
  {
   "cell_type": "code",
   "execution_count": 53,
   "id": "c32e3876-9037-4c79-bf9e-ccfc53438e6c",
   "metadata": {},
   "outputs": [
    {
     "data": {
      "text/plain": [
       "Text(0.5, 1.0, 'Overview of fitting performance (current 10%)')"
      ]
     },
     "execution_count": 53,
     "metadata": {},
     "output_type": "execute_result"
    },
    {
     "data": {
      "image/png": "[encoded data removed]",
      "text/plain": [
       "<Figure size 432x288 with 1 Axes>"
      ]
     },
     "metadata": {
      "needs_background": "light"
     },
     "output_type": "display_data"
    }
   ],
   "source": [
    "plt.figure()\n",
    "plt.scatter(I_a_list, nek_out_10.residual, label=\"Nekhoroshev fit\")\n",
    "plt.scatter(I_a_list, poly_out_10.residual, label=\"Polynomial fit\")\n",
    "plt.scatter(I_a_list, exp_out_10.residual, label=\"Exponential fit\")\n",
    "\n",
    "plt.xlabel(\"$I_0$ position\")\n",
    "plt.ylabel(\"Residual for single sample\")\n",
    "plt.title(\"Overview of fitting performance (current 10%)\")"
   ]
  },
  {
   "cell_type": "markdown",
   "id": "da78dac8-04d9-4096-a53e-9dd841f8de20",
   "metadata": {},
   "source": [
    "## A little attempt (moving $I_a$, moving $I_0$, constant $I_a - I_0$)"
   ]
  },
  {
   "cell_type": "markdown",
   "id": "377422c9-9114-4cf4-b0a4-7b66159c0480",
   "metadata": {},
   "source": [
    "### Setup"
   ]
  },
  {
   "cell_type": "code",
   "execution_count": 54,
   "id": "67873b68-2de6-4612-a9d2-eb645d181d32",
   "metadata": {},
   "outputs": [],
   "source": [
    "I_star = 7.5\n",
    "k = 0.33\n",
    "exponent = 1/(2*k)"
   ]
  },
  {
   "cell_type": "code",
   "execution_count": 55,
   "id": "66a72d30-fd54-4a22-a86e-95ef13c7035b",
   "metadata": {},
   "outputs": [],
   "source": [
    "delta = 0.1\n",
    "\n",
    "I_0_min = 4.0\n",
    "I_0_max = 6.0\n",
    "I_0_samples = 30\n",
    "I_0_list, I_0_step = np.linspace(I_0_min, I_0_max, I_0_samples, retstep=True)\n",
    "I_a_list = I_0_list + delta"
   ]
  },
  {
   "cell_type": "code",
   "execution_count": 56,
   "id": "56d8b881-770c-4b2e-a672-f16048c22735",
   "metadata": {},
   "outputs": [],
   "source": [
    "data_2 = Parallel(n_jobs=N_JOBS)(\n",
    "    delayed(nt.compute_current_with_peak)(\n",
    "        I_0_list[i],\n",
    "        I_a_list[i],\n",
    "        I_star,\n",
    "        exponent,\n",
    "        t_sampling=cn_time_steps,\n",
    "        I_sampling=cn_sampling,\n",
    "        I_min=0.0\n",
    "    ) for i in range(len(I_0_list))\n",
    ")"
   ]
  },
  {
   "cell_type": "markdown",
   "id": "b99cae29-487e-4aad-9c83-6dcaea90406b",
   "metadata": {},
   "source": [
    "delta"
   ]
  },
  {
   "cell_type": "code",
   "execution_count": 57,
   "id": "5bf6378a-1a3f-462f-a12c-94de95fa29d3",
   "metadata": {},
   "outputs": [],
   "source": [
    "d2_times = []\n",
    "d2_current = []\n",
    "d2_ana_current_time = []\n",
    "d2_ana_current_peak = []\n",
    "d2_num_current_time = []\n",
    "d2_num_current_peak = []\n",
    "for d in data_2:\n",
    "    d2_times.append(d[0])\n",
    "    d2_current.append(d[1])\n",
    "    d2_ana_current_time.append(d[2])\n",
    "    d2_ana_current_peak.append(d[3])\n",
    "    d2_num_current_time.append(d[4])\n",
    "    d2_num_current_peak.append(d[5])\n"
   ]
  },
  {
   "cell_type": "code",
   "execution_count": 58,
   "id": "10cdbba1-35dc-4a22-acf0-b7ff9f0ff322",
   "metadata": {},
   "outputs": [],
   "source": [
    "d2_10_percent_time = []\n",
    "for i in range(len(data_1)):\n",
    "    d2_10_percent_time.append(\n",
    "        d2_times[i][\n",
    "            np.argmin(np.absolute(d2_current[i]-d2_num_current_peak[i]*0.1))\n",
    "        ]\n",
    "    )"
   ]
  },
  {
   "cell_type": "code",
   "execution_count": 59,
   "id": "dc59a0ea-47d8-43be-8eca-874a2b5ee726",
   "metadata": {},
   "outputs": [
    {
     "data": {
      "text/plain": [
       "Text(0.5, 1.0, 'Different current shapes for different $I_0$ positions with fixed distance from $I_a$')"
      ]
     },
     "execution_count": 59,
     "metadata": {},
     "output_type": "execute_result"
    },
    {
     "data": {
      "image/png": "[encoded data removed]",
      "text/plain": [
       "<Figure size 432x288 with 1 Axes>"
      ]
     },
     "metadata": {
      "needs_background": "light"
     },
     "output_type": "display_data"
    }
   ],
   "source": [
    "plt.figure()\n",
    "for i in range(I_a_samples):\n",
    "    plt.plot(d2_times[i], d2_current[i])\n",
    "    plt.scatter(d2_num_current_time[i], d2_num_current_peak[i], s=25, marker=\"x\", color=\"black\")\n",
    "    plt.scatter(d2_10_percent_time[i], d2_ana_current_peak[i]*0.1, s=25, marker=\"x\", color=\"grey\")\n",
    "\n",
    "plt.xscale(\"log\")\n",
    "#plt.yscale(\"log\")\n",
    "\n",
    "plt.xlabel(\"t\")\n",
    "plt.ylabel(\"Current\")\n",
    "\n",
    "plt.title(\"Different current shapes for different $I_0$ positions with fixed distance from $I_a$\")"
   ]
  },
  {
   "cell_type": "markdown",
   "id": "14cb7927-0368-456a-ad81-8e0c3af79636",
   "metadata": {},
   "source": [
    "### Fitting the data"
   ]
  },
  {
   "cell_type": "code",
   "execution_count": 60,
   "id": "6b6a8667-a3ee-4e61-9b55-e07314825e7b",
   "metadata": {},
   "outputs": [],
   "source": [
    "x_data = [(I_0_list[i], I_a_list[i]) for i in range(len(I_0_list))]"
   ]
  },
  {
   "cell_type": "code",
   "execution_count": 61,
   "id": "7a636aad-b88e-4b8a-9e44-ca1bcf61b10f",
   "metadata": {
    "scrolled": true,
    "tags": []
   },
   "outputs": [
    {
     "name": "stdout",
     "output_type": "stream",
     "text": [
      "8.000000000000002 0.3333333333333333\n",
      "8.000000000000002 0.3333333333333333\n",
      "8.000000000000002 0.3333333333333333\n",
      "8.000000130946047 0.3333333333333333\n",
      "8.000000000000002 0.3333333267657846\n",
      "7.423077377299251 0.32881396131052204\n",
      "7.423077499532427 0.32881396131052204\n",
      "7.423077377299251 0.32881395484198755\n",
      "7.4554378415498626 0.32867092290281286\n",
      "7.45543796427218 0.32867092290281286\n",
      "7.4554378415498626 0.3286709164374109\n",
      "7.455476097187727 0.3286673353174064\n",
      "7.455476219910622 0.3286673353174064\n",
      "7.455476097187727 0.328667328852083\n",
      "7.455479459375761 0.3286674657804023\n",
      "7.455479459375761 0.3286674657804023\n"
     ]
    }
   ],
   "source": [
    "params = Parameters()\n",
    "params.add('I_star', value=8.0, min=0.1)\n",
    "params.add('exponent', value=1.5, min=0.1)\n",
    "\n",
    "nek_out = minimize(lmfit_nek, params, args=(x_data, d2_num_current_time))"
   ]
  },
  {
   "cell_type": "code",
   "execution_count": 62,
   "id": "4083c20f-adc7-492c-9956-3c33c38f4664",
   "metadata": {
    "scrolled": true,
    "tags": []
   },
   "outputs": [
    {
     "name": "stdout",
     "output_type": "stream",
     "text": [
      "7.0\n",
      "7.0\n",
      "7.0\n",
      "7.000000117346646\n",
      "6.3764540296843535\n",
      "6.3764541375819865\n",
      "6.4211937047485765\n",
      "6.42119381332506\n",
      "6.421459657886758\n",
      "6.421459657886758\n"
     ]
    }
   ],
   "source": [
    "params = Parameters()\n",
    "params.add('poly_coeff', value=7.0, min=0.0)\n",
    "\n",
    "poly_out = minimize(lmfit_poly, params, args=(x_data, d2_num_current_time))"
   ]
  },
  {
   "cell_type": "code",
   "execution_count": 63,
   "id": "194fc1fd-1a49-48cb-887b-b3333249f84d",
   "metadata": {
    "scrolled": true,
    "tags": []
   },
   "outputs": [
    {
     "name": "stdout",
     "output_type": "stream",
     "text": [
      "2.0000000000000004\n",
      "2.0000000000000004\n",
      "2.0000000000000004\n",
      "2.00000003973643\n",
      "1.330435238065847\n",
      "1.3304352663978842\n",
      "1.473197871602689\n",
      "1.473197902431151\n",
      "1.4896170831866211\n",
      "1.489617114299484\n",
      "1.4898809279922713\n",
      "1.4898809591097004\n",
      "1.4898824050110888\n",
      "1.4898824050110888\n"
     ]
    }
   ],
   "source": [
    "params = Parameters()\n",
    "params.add('exp_coeff', value=2.0, min=0.0)\n",
    "\n",
    "exp_out = minimize(lmfit_exp, params, args=(x_data, d2_num_current_time))"
   ]
  },
  {
   "cell_type": "code",
   "execution_count": 65,
   "id": "c774b661-3f21-4f91-a150-c32443b07468",
   "metadata": {},
   "outputs": [
    {
     "data": {
      "text/plain": [
       "Text(0.5, 1.0, 'Fit performance overview (current peak)')"
      ]
     },
     "execution_count": 65,
     "metadata": {},
     "output_type": "execute_result"
    },
    {
     "data": {
      "image/png": "[encoded data removed]",
      "text/plain": [
       "<Figure size 432x288 with 1 Axes>"
      ]
     },
     "metadata": {
      "needs_background": "light"
     },
     "output_type": "display_data"
    }
   ],
   "source": [
    "plt.figure()\n",
    "plt.scatter(I_0_list, nek_out.residual, label=\"Nekhoroshev fit\")\n",
    "plt.scatter(I_0_list, poly_out.residual, label=\"Polynomial fit\")\n",
    "plt.scatter(I_0_list, exp_out.residual, label=\"Exponential fit\")\n",
    "\n",
    "plt.xlabel(\"I_0 position\")\n",
    "plt.ylabel(\"Residual for single sample\")\n",
    "plt.title(\"Fit performance overview (current peak)\")"
   ]
  },
  {
   "cell_type": "code",
   "execution_count": 66,
   "id": "968e1884-3e7e-476f-b050-c553c1be9f70",
   "metadata": {
    "scrolled": true,
    "tags": []
   },
   "outputs": [
    {
     "name": "stdout",
     "output_type": "stream",
     "text": [
      "8.0 0.3333333333333333\n",
      "8.0 0.3333333333333333\n",
      "8.0 0.3333333333333333\n",
      "8.000000117346646 0.3333333333333333\n",
      "8.0 0.3333333267657846\n",
      "7.463265627382779 0.33001956084447853\n",
      "7.463265736597503 0.33001956084447853\n",
      "7.463265627382779 0.3300195543495382\n",
      "7.489498347331163 0.32984055380756866\n",
      "7.489498456943778 0.32984055380756866\n",
      "7.489498347331163 0.3298405473165493\n",
      "7.489439790901603 0.3298349970733193\n",
      "7.48943990051333 0.3298349970733193\n",
      "7.489439790901603 0.32983499058242177\n",
      "7.489439699648796 0.32983499339464506\n",
      "7.489439699648796 0.32983499339464506\n"
     ]
    }
   ],
   "source": [
    "params = Parameters()\n",
    "params.add('I_star', value=8.0, min=1.0)\n",
    "params.add('exponent', value=1.5, min=0.1)\n",
    "\n",
    "nek_out_10 = minimize(lmfit_nek_10_percent, params, args=(x_data, d2_10_percent_time))"
   ]
  },
  {
   "cell_type": "code",
   "execution_count": 67,
   "id": "c745b153-f40e-4ebf-bec2-b7d7ac7ae572",
   "metadata": {
    "scrolled": true,
    "tags": []
   },
   "outputs": [
    {
     "name": "stdout",
     "output_type": "stream",
     "text": [
      "5.0\n",
      "5.0\n",
      "5.0\n",
      "5.000000074505806\n",
      "6.151486651857469\n",
      "6.151486743521763\n",
      "6.415609338823181\n",
      "6.41560943442321\n",
      "6.425711882944153\n",
      "6.425711978694721\n",
      "6.425742881765773\n",
      "6.425742881765773\n"
     ]
    }
   ],
   "source": [
    "params = Parameters()\n",
    "params.add('poly_coeff', value=5.0)\n",
    "\n",
    "poly_out_10 = minimize(lmfit_poly_10_percent, params, args=(x_data, d2_10_percent_time))"
   ]
  },
  {
   "cell_type": "code",
   "execution_count": 68,
   "id": "e7a8a09e-9aa3-47ed-823b-a1f43017895a",
   "metadata": {
    "scrolled": true,
    "tags": []
   },
   "outputs": [
    {
     "name": "stdout",
     "output_type": "stream",
     "text": [
      "1.0\n",
      "1.0\n",
      "1.0\n",
      "1.0000000149011612\n",
      "1.3334458088252754\n",
      "1.3334458286951663\n",
      "1.4735649193911695\n",
      "1.473564941348998\n",
      "1.490438545581364\n",
      "1.490438567790629\n",
      "1.4907449582099435\n",
      "1.4907449804237745\n",
      "1.490746681142035\n",
      "1.490746681142035\n"
     ]
    }
   ],
   "source": [
    "params = Parameters()\n",
    "params.add('exp_coeff', value=1.0)\n",
    "\n",
    "exp_out_10 = minimize(lmfit_exp_10_percent, params, args=(x_data, d2_10_percent_time))"
   ]
  },
  {
   "cell_type": "code",
   "execution_count": 69,
   "id": "b90be50f-0226-4763-a890-bbe0825461dc",
   "metadata": {},
   "outputs": [
    {
     "data": {
      "text/plain": [
       "Text(0.5, 1.0, 'Fit performance overview (current peak)')"
      ]
     },
     "execution_count": 69,
     "metadata": {},
     "output_type": "execute_result"
    },
    {
     "data": {
      "image/png": "[encoded data removed]",
      "text/plain": [
       "<Figure size 432x288 with 1 Axes>"
      ]
     },
     "metadata": {
      "needs_background": "light"
     },
     "output_type": "display_data"
    }
   ],
   "source": [
    "plt.figure()\n",
    "plt.scatter(I_0_list, nek_out_10.residual, label=\"Nekhoroshev fit\")\n",
    "plt.scatter(I_0_list, poly_out_10.residual, label=\"Polynomial fit\")\n",
    "plt.scatter(I_0_list, exp_out_10.residual, label=\"Exponential fit\")\n",
    "\n",
    "plt.xlabel(\"I_0 position\")\n",
    "plt.ylabel(\"Residual for single sample\")\n",
    "plt.title(\"Fit performance overview (current peak)\")"
   ]
  },
  {
   "cell_type": "markdown",
   "id": "8f15add7-4fc4-40ef-a027-f2bf82e23867",
   "metadata": {},
   "source": [
    "## Another little consideration\n",
    "\n",
    "We observe (as expected) that the Nekhoroshev fit based on the analytical approximation has the best performance when compared to the fitting performance of the other two models. It is however necessary to test this performance against 2-parameter models just to be sure of its efficacy in detecting actual Nekhoroshev-like processes.\n",
    "\n",
    "Moreover, the inverse test has to be done: if we try to fit a non Nekhoroshev-like process, can we get poor enough performances in order to be able to estrablish that the thing we are trying to fit is **not** a Nekhoroshev process?"
   ]
  },
  {
   "cell_type": "code",
   "execution_count": null,
   "id": "69fbafe5-985e-4e99-9800-d40d0011a612",
   "metadata": {},
   "outputs": [],
   "source": []
  }
 ],
 "metadata": {
  "kernelspec": {
   "display_name": "Python 3",
   "language": "python",
   "name": "python3"
  },
  "language_info": {
   "codemirror_mode": {
    "name": "ipython",
    "version": 3
   },
   "file_extension": ".py",
   "mimetype": "text/x-python",
   "name": "python",
   "nbconvert_exporter": "python",
   "pygments_lexer": "ipython3",
   "version": "3.8.8"
  }
 },
 "nbformat": 4,
 "nbformat_minor": 5
}
