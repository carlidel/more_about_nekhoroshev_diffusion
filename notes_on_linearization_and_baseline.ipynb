{
 "cells": [
  {
   "cell_type": "markdown",
   "id": "d49e0dcd",
   "metadata": {},
   "source": [
    "**Are we in SWAN?**"
   ]
  },
  {
   "cell_type": "code",
   "execution_count": null,
   "id": "bfa6b823",
   "metadata": {},
   "outputs": [],
   "source": [
    "%pip install --user crank-nicolson-numba"
   ]
  },
  {
   "cell_type": "markdown",
   "id": "bcd56c90",
   "metadata": {},
   "source": [
    "Libraries and matplotlib magicness"
   ]
  },
  {
   "cell_type": "code",
   "execution_count": 1,
   "id": "d4479682",
   "metadata": {},
   "outputs": [],
   "source": [
    "%matplotlib widget"
   ]
  },
  {
   "cell_type": "code",
   "execution_count": 2,
   "id": "0dc03f28",
   "metadata": {},
   "outputs": [],
   "source": [
    "import numpy as np\n",
    "import matplotlib.pyplot as plt\n",
    "import scipy\n",
    "import scipy.integrate\n",
    "from tqdm.notebook import tqdm\n",
    "import crank_nicolson_numba.generic as cn"
   ]
  },
  {
   "cell_type": "markdown",
   "id": "dfcdef0e",
   "metadata": {},
   "source": [
    "# Theoretical notes\n",
    "\n",
    "We operate with the following Fokker-Planck equation:\n",
    "\n",
    "$$\\frac{\\partial \\rho}{\\partial t}=\\frac{1}{2} \\frac{\\partial}{\\partial I} {D}(I) \\frac{\\partial}{\\partial I} \\rho(I, t)$$\n",
    "\n",
    "We define $h(I) = D^{1/2}(I)$. By applying\n",
    "\n",
    "$$ x = -\\int_I^{I_\\mathrm{a}} \\frac{1}{D^{1/2}(I')}\\,\\mathrm{d}I'$$ \n",
    "\n",
    "$$ \\frac{\\mathrm{d}I(x)}{\\mathrm{d}x} = h(I(x))$$\n",
    "\n",
    "$$ \\rho'(x, t)=\\rho(I, t)\\frac{\\mathrm{d}I}{\\mathrm{d}x}$$\n",
    "\n",
    "We reach\n",
    "\n",
    "$$\\frac{\\partial\\rho'}{\\partial t} = \\frac{1}{2}\\frac{\\partial}{\\partial x} \\frac{\\mathrm{d}V(x)}{\\mathrm{d}x} \\rho'+\\frac{1}{2}\\frac{\\partial^2}{\\partial\\rho'^2}{x}$$\n",
    "\n",
    "where $V(x) = -\\ln(D^{1/2}(x))$\n",
    "\n",
    "## Current estimation\n",
    "\n",
    "**IF** $V(x) = -\\nu x$ with $\\nu>0$, we have\n",
    "\n",
    "$$J(I, t) = \\frac{|x(I)|}{t\\sqrt{2\\pi t}}\\exp\\left(-\\frac{(x(I)+\\frac{\\nu}{2} t)^2}{2 t}\\right)$$"
   ]
  },
  {
   "cell_type": "markdown",
   "id": "725f63ab",
   "metadata": {},
   "source": [
    "This allows us to compute analytically (with `sympy`) the timing of the current peak!\n",
    "\n",
    "$$t_{J_\\text{max}}(I) = \\frac{2(\\sqrt{\\nu^2 x(I)^2 + 9} - 3)}{\\nu^2}$$"
   ]
  },
  {
   "cell_type": "markdown",
   "id": "5e80a084",
   "metadata": {},
   "source": [
    "# Linear potential (just for testing things...)\n",
    "\n",
    "Let's consider\n",
    "\n",
    "$$\\frac{\\partial \\rho}{\\partial t}=\\frac{1}{2} \\frac{\\partial}{\\partial I} \\nu^2 I^2 \\frac{\\partial}{\\partial I} \\rho(I, t)$$\n",
    "\n",
    "with $\\nu>0$. We have the following\n",
    "\n",
    "$$h(I) = \\nu I$$\n",
    "\n",
    "$$x(I) = -\\int_I^{I_\\mathrm{a}} \\frac{1}{\\nu I'}\\,\\mathrm{d}I' = \\frac{1}{\\nu}\\ln\\left(\\frac{I}{I_\\mathrm{a}}\\right)$$\n",
    "\n",
    "$$I(x) = I_\\mathrm{a}\\exp(\\nu x)$$\n",
    "\n",
    "$$V(x) = -ln(\\nu I(x)) = -\\ln(\\nu I_\\mathrm{a}\\exp(\\nu x)) = -\\nu x -\\ln(\\nu I_\\mathrm{a})$$\n",
    "\n",
    "$$\\frac{\\mathrm{d}V(x)}{\\mathrm{d}x} = -\\nu$$"
   ]
  },
  {
   "cell_type": "markdown",
   "id": "5d52c2f9",
   "metadata": {},
   "source": [
    "## Let's integrate it"
   ]
  },
  {
   "cell_type": "code",
   "execution_count": 3,
   "id": "ccf57f6c",
   "metadata": {},
   "outputs": [],
   "source": [
    "I_min = 0.0\n",
    "I_max = 50.0\n",
    "I_0 = 10.0\n",
    "samples = 2000\n",
    "I_linspace, dI = np.linspace(I_min, I_max, samples, retstep=True)\n",
    "l = dI * 5"
   ]
  },
  {
   "cell_type": "code",
   "execution_count": 4,
   "id": "dfe4f090",
   "metadata": {},
   "outputs": [],
   "source": [
    "nu_par = 0.001\n",
    "\n",
    "def D(I):\n",
    "    return np.power(nu_par * I, 2)\n",
    "\n",
    "\n",
    "def D_half(I):\n",
    "    return D(I)/2\n",
    "\n",
    "norm = 1/scipy.integrate.quad(D, I_min, I_max)[0]\n",
    "\n",
    "#def normed_D(I):\n",
    "#    return norm * D(I)\n",
    "\n",
    "def x(I):\n",
    "    return (1/nu_par) * np.log(I/I_max)\n",
    "\n",
    "def nu(I):\n",
    "    return nu_par"
   ]
  },
  {
   "cell_type": "code",
   "execution_count": 5,
   "id": "f073a16e",
   "metadata": {},
   "outputs": [],
   "source": [
    "def rho_0(I):\n",
    "    return 1 / (1 + np.exp((I-I_0)/l))"
   ]
  },
  {
   "cell_type": "code",
   "execution_count": 6,
   "id": "61b1af48",
   "metadata": {},
   "outputs": [],
   "source": [
    "dt = 10000\n",
    "engine = cn.cn_generic(I_min, I_max, rho_0(I_linspace), dt, D_half, normalize=False)"
   ]
  },
  {
   "cell_type": "code",
   "execution_count": 7,
   "id": "8a260717",
   "metadata": {},
   "outputs": [],
   "source": [
    "times, current = engine.current(1000, 1)\n"
   ]
  },
  {
   "cell_type": "code",
   "execution_count": 8,
   "id": "5209d722",
   "metadata": {},
   "outputs": [],
   "source": [
    "def current_point(t, I):\n",
    "    return -x(I) / (t * np.sqrt(2*np.pi*t)) * np.exp(-(x(I)+((nu(I)/2)*t))**2/(2*t))"
   ]
  },
  {
   "cell_type": "code",
   "execution_count": 9,
   "id": "8f081a7e",
   "metadata": {},
   "outputs": [],
   "source": [
    "def current_general(t, I, I_int_min):\n",
    "    return [scipy.integrate.quad(lambda x: current_point(a_t, x), I_int_min, I)[0] for a_t in t]"
   ]
  },
  {
   "cell_type": "code",
   "execution_count": 10,
   "id": "ee166ffd",
   "metadata": {},
   "outputs": [
    {
     "data": {
      "application/vnd.jupyter.widget-view+json": {
       "model_id": "6cc5fd95c9b94ac1be1a4b3133c2bd13",
       "version_major": 2,
       "version_minor": 0
      },
      "text/plain": [
       "Canvas(toolbar=Toolbar(toolitems=[('Home', 'Reset original view', 'home', 'home'), ('Back', 'Back to previous …"
      ]
     },
     "metadata": {},
     "output_type": "display_data"
    },
    {
     "name": "stderr",
     "output_type": "stream",
     "text": [
      "<ipython-input-8-f7efe3d5fa7c>:2: RuntimeWarning: divide by zero encountered in double_scalars\n",
      "  return -x(I) / (t * np.sqrt(2*np.pi*t)) * np.exp(-(x(I)+((nu(I)/2)*t))**2/(2*t))\n",
      "<ipython-input-8-f7efe3d5fa7c>:2: RuntimeWarning: invalid value encountered in double_scalars\n",
      "  return -x(I) / (t * np.sqrt(2*np.pi*t)) * np.exp(-(x(I)+((nu(I)/2)*t))**2/(2*t))\n",
      "<ipython-input-9-e06dc8630cf2>:2: IntegrationWarning: The occurrence of roundoff error is detected, which prevents \n",
      "  the requested tolerance from being achieved.  The error may be \n",
      "  underestimated.\n",
      "  return [scipy.integrate.quad(lambda x: current_point(a_t, x), I_int_min, I)[0] for a_t in t]\n"
     ]
    },
    {
     "data": {
      "text/plain": [
       "[<matplotlib.lines.Line2D at 0x7f6e56d85640>]"
      ]
     },
     "execution_count": 10,
     "metadata": {},
     "output_type": "execute_result"
    }
   ],
   "source": [
    "plt.figure()\n",
    "plt.plot(times, current)\n",
    "plt.plot(times, current_general(times, I_0, 0.0))"
   ]
  },
  {
   "cell_type": "code",
   "execution_count": 11,
   "id": "547a2960",
   "metadata": {},
   "outputs": [
    {
     "data": {
      "application/vnd.jupyter.widget-view+json": {
       "model_id": "b6138181055845b9869cf09b38acc369",
       "version_major": 2,
       "version_minor": 0
      },
      "text/plain": [
       "Canvas(toolbar=Toolbar(toolitems=[('Home', 'Reset original view', 'home', 'home'), ('Back', 'Back to previous …"
      ]
     },
     "metadata": {},
     "output_type": "display_data"
    },
    {
     "name": "stderr",
     "output_type": "stream",
     "text": [
      "<ipython-input-8-f7efe3d5fa7c>:2: RuntimeWarning: divide by zero encountered in double_scalars\n",
      "  return -x(I) / (t * np.sqrt(2*np.pi*t)) * np.exp(-(x(I)+((nu(I)/2)*t))**2/(2*t))\n",
      "<ipython-input-8-f7efe3d5fa7c>:2: RuntimeWarning: invalid value encountered in double_scalars\n",
      "  return -x(I) / (t * np.sqrt(2*np.pi*t)) * np.exp(-(x(I)+((nu(I)/2)*t))**2/(2*t))\n",
      "<ipython-input-9-e06dc8630cf2>:2: IntegrationWarning: The occurrence of roundoff error is detected, which prevents \n",
      "  the requested tolerance from being achieved.  The error may be \n",
      "  underestimated.\n",
      "  return [scipy.integrate.quad(lambda x: current_point(a_t, x), I_int_min, I)[0] for a_t in t]\n"
     ]
    },
    {
     "data": {
      "text/plain": [
       "[<matplotlib.lines.Line2D at 0x7f6e571038b0>]"
      ]
     },
     "execution_count": 11,
     "metadata": {},
     "output_type": "execute_result"
    }
   ],
   "source": [
    "plt.figure()\n",
    "plt.plot(times, np.absolute(current - current_general(times, I_0, 0.0)))\n",
    "#plt.yscale(\"log\")"
   ]
  },
  {
   "cell_type": "markdown",
   "id": "4ba21a48",
   "metadata": {},
   "source": [
    "**Works as expected...**"
   ]
  },
  {
   "cell_type": "markdown",
   "id": "65681d73",
   "metadata": {},
   "source": [
    "## Variant with $c$\n",
    "\n",
    "we define $c$ such that\n",
    "\n",
    "$$c\\int_0^{I_\\mathrm{a}}D(I)\\,\\mathrm{d}I = 1$$\n",
    "\n",
    "and we consider\n",
    "\n",
    "$$D(I) = c \\nu^2 I^2$$"
   ]
  },
  {
   "cell_type": "code",
   "execution_count": 12,
   "id": "d92ecb6d",
   "metadata": {},
   "outputs": [],
   "source": [
    "I_min = 0.0\n",
    "I_max = 50.0\n",
    "I_0 = 10.0\n",
    "samples = 2000\n",
    "I_linspace, dI = np.linspace(I_min, I_max, samples, retstep=True)\n",
    "l = dI * 5"
   ]
  },
  {
   "cell_type": "code",
   "execution_count": 13,
   "id": "3df927d1",
   "metadata": {},
   "outputs": [],
   "source": [
    "nu_par = 0.001\n",
    "\n",
    "def D(I):\n",
    "    return np.power(nu_par * I, 2)\n",
    "\n",
    "c = 1/scipy.integrate.quad(D, I_min, I_max)[0]\n",
    "\n",
    "def normed_D(I):\n",
    "    return c * D(I)\n",
    "\n",
    "def normed_D_half(I):\n",
    "    return normed_D(I)/2\n",
    "\n",
    "def x(I):\n",
    "    return (1/(nu_par*np.sqrt(c))) * np.log(I/I_max)\n",
    "\n",
    "def nu(I):\n",
    "    return nu_par * np.sqrt(c)"
   ]
  },
  {
   "cell_type": "code",
   "execution_count": 14,
   "id": "3e573dfd",
   "metadata": {},
   "outputs": [
    {
     "name": "stdout",
     "output_type": "stream",
     "text": [
      "23.999999999999996\n"
     ]
    }
   ],
   "source": [
    "print(c)"
   ]
  },
  {
   "cell_type": "code",
   "execution_count": 15,
   "id": "6f5efccf",
   "metadata": {},
   "outputs": [],
   "source": [
    "def rho_0(I):\n",
    "    return 1 / (1 + np.exp((I-I_0)/l))"
   ]
  },
  {
   "cell_type": "code",
   "execution_count": 16,
   "id": "1dff4206",
   "metadata": {},
   "outputs": [],
   "source": [
    "dt = 10\n",
    "engine = cn.cn_generic(I_min, I_max, rho_0(I_linspace), dt, normed_D_half, normalize=False)"
   ]
  },
  {
   "cell_type": "code",
   "execution_count": 17,
   "id": "fe5ac5a2",
   "metadata": {},
   "outputs": [],
   "source": [
    "times, current = engine.current(20000, 1)"
   ]
  },
  {
   "cell_type": "code",
   "execution_count": 18,
   "id": "ebc831a5",
   "metadata": {},
   "outputs": [],
   "source": [
    "def current_point(t, I):\n",
    "    return -x(I) / (t * np.sqrt(2*np.pi*t)) * np.exp(-(x(I)+((nu(I)/2)*t))**2/(2*t))"
   ]
  },
  {
   "cell_type": "code",
   "execution_count": 19,
   "id": "cefc0c0a",
   "metadata": {},
   "outputs": [],
   "source": [
    "def current_general(t, I, I_int_min):\n",
    "    return [scipy.integrate.quad(lambda x: current_point(a_t, x), I_int_min, I)[0] for a_t in t]"
   ]
  },
  {
   "cell_type": "code",
   "execution_count": 20,
   "id": "c3f6d882",
   "metadata": {},
   "outputs": [
    {
     "data": {
      "application/vnd.jupyter.widget-view+json": {
       "model_id": "1b6e283bda164cb4a004aa781e920d3f",
       "version_major": 2,
       "version_minor": 0
      },
      "text/plain": [
       "Canvas(toolbar=Toolbar(toolitems=[('Home', 'Reset original view', 'home', 'home'), ('Back', 'Back to previous …"
      ]
     },
     "metadata": {},
     "output_type": "display_data"
    },
    {
     "name": "stderr",
     "output_type": "stream",
     "text": [
      "<ipython-input-18-f7efe3d5fa7c>:2: RuntimeWarning: divide by zero encountered in double_scalars\n",
      "  return -x(I) / (t * np.sqrt(2*np.pi*t)) * np.exp(-(x(I)+((nu(I)/2)*t))**2/(2*t))\n",
      "<ipython-input-18-f7efe3d5fa7c>:2: RuntimeWarning: invalid value encountered in double_scalars\n",
      "  return -x(I) / (t * np.sqrt(2*np.pi*t)) * np.exp(-(x(I)+((nu(I)/2)*t))**2/(2*t))\n",
      "<ipython-input-19-e06dc8630cf2>:2: IntegrationWarning: The occurrence of roundoff error is detected, which prevents \n",
      "  the requested tolerance from being achieved.  The error may be \n",
      "  underestimated.\n",
      "  return [scipy.integrate.quad(lambda x: current_point(a_t, x), I_int_min, I)[0] for a_t in t]\n"
     ]
    },
    {
     "data": {
      "text/plain": [
       "[<matplotlib.lines.Line2D at 0x7f6e57387490>]"
      ]
     },
     "execution_count": 20,
     "metadata": {},
     "output_type": "execute_result"
    }
   ],
   "source": [
    "plt.figure()\n",
    "plt.plot(times, current)\n",
    "#plt.plot(times, current_full)\n",
    "plt.plot(times, current_general(times, I_0, 0.0))\n",
    "#plt.plot(times, current_general(times, I_0, 0.0))"
   ]
  },
  {
   "cell_type": "code",
   "execution_count": 21,
   "id": "6ccd9aff",
   "metadata": {},
   "outputs": [
    {
     "data": {
      "application/vnd.jupyter.widget-view+json": {
       "model_id": "e9e4c5fd2f75426d9ead149afaa4f27f",
       "version_major": 2,
       "version_minor": 0
      },
      "text/plain": [
       "Canvas(toolbar=Toolbar(toolitems=[('Home', 'Reset original view', 'home', 'home'), ('Back', 'Back to previous …"
      ]
     },
     "metadata": {},
     "output_type": "display_data"
    },
    {
     "name": "stderr",
     "output_type": "stream",
     "text": [
      "<ipython-input-18-f7efe3d5fa7c>:2: RuntimeWarning: divide by zero encountered in double_scalars\n",
      "  return -x(I) / (t * np.sqrt(2*np.pi*t)) * np.exp(-(x(I)+((nu(I)/2)*t))**2/(2*t))\n",
      "<ipython-input-18-f7efe3d5fa7c>:2: RuntimeWarning: invalid value encountered in double_scalars\n",
      "  return -x(I) / (t * np.sqrt(2*np.pi*t)) * np.exp(-(x(I)+((nu(I)/2)*t))**2/(2*t))\n",
      "<ipython-input-19-e06dc8630cf2>:2: IntegrationWarning: The occurrence of roundoff error is detected, which prevents \n",
      "  the requested tolerance from being achieved.  The error may be \n",
      "  underestimated.\n",
      "  return [scipy.integrate.quad(lambda x: current_point(a_t, x), I_int_min, I)[0] for a_t in t]\n",
      "<ipython-input-21-999a9aa5391b>:2: RuntimeWarning: divide by zero encountered in true_divide\n",
      "  plt.plot(times, np.absolute((current - current_general(times, I_0, 0.0))/current))\n",
      "<ipython-input-21-999a9aa5391b>:2: RuntimeWarning: invalid value encountered in true_divide\n",
      "  plt.plot(times, np.absolute((current - current_general(times, I_0, 0.0))/current))\n"
     ]
    }
   ],
   "source": [
    "plt.figure()\n",
    "plt.plot(times, np.absolute((current - current_general(times, I_0, 0.0))/current))\n",
    "plt.yscale(\"log\")"
   ]
  },
  {
   "cell_type": "code",
   "execution_count": 22,
   "id": "0d326fb7",
   "metadata": {},
   "outputs": [
    {
     "data": {
      "application/vnd.jupyter.widget-view+json": {
       "model_id": "a7ecb2b529204cbba5d758df528b058c",
       "version_major": 2,
       "version_minor": 0
      },
      "text/plain": [
       "Canvas(toolbar=Toolbar(toolitems=[('Home', 'Reset original view', 'home', 'home'), ('Back', 'Back to previous …"
      ]
     },
     "metadata": {},
     "output_type": "display_data"
    },
    {
     "data": {
      "text/plain": [
       "[<matplotlib.lines.Line2D at 0x7f6e571075e0>]"
      ]
     },
     "execution_count": 22,
     "metadata": {},
     "output_type": "execute_result"
    }
   ],
   "source": [
    "plt.figure()\n",
    "data = engine.get_data_with_x()\n",
    "plt.plot(data[0], data[1])"
   ]
  },
  {
   "cell_type": "markdown",
   "id": "832265af",
   "metadata": {},
   "source": [
    "**Still works, we will use this kind of normalization then**"
   ]
  },
  {
   "cell_type": "markdown",
   "id": "799745c4",
   "metadata": {},
   "source": [
    "## But... it would be ideal to work with some sort of decent $\\delta(x-x_0)$ distribution..."
   ]
  },
  {
   "cell_type": "markdown",
   "id": "9c8de83e",
   "metadata": {},
   "source": [
    "How can I set up properly such distribution in the context of a CN integration?\n",
    "\n",
    "With a sharp enough normal distribution?"
   ]
  },
  {
   "cell_type": "code",
   "execution_count": 23,
   "id": "fe98f85f",
   "metadata": {},
   "outputs": [],
   "source": [
    "I_min = 0.0\n",
    "I_max = 50.0\n",
    "I_0 = 10.0\n",
    "samples = 2000\n",
    "I_linspace, dI = np.linspace(I_min, I_max, samples, retstep=True)\n",
    "l = dI * 5"
   ]
  },
  {
   "cell_type": "code",
   "execution_count": 24,
   "id": "ae9a9202",
   "metadata": {},
   "outputs": [],
   "source": [
    "nu_par = 0.001\n",
    "\n",
    "def D(I):\n",
    "    return np.power(nu_par * I, 2)\n",
    "\n",
    "c = 1/scipy.integrate.quad(D, I_min, I_max)[0]\n",
    "\n",
    "def normed_D(I):\n",
    "    return c * D(I)\n",
    "\n",
    "def normed_D_half(I):\n",
    "    return normed_D(I)/2\n",
    "\n",
    "def x(I):\n",
    "    return (1/(nu_par*np.sqrt(c))) * np.log(I/I_max)\n",
    "\n",
    "def nu(I):\n",
    "    return nu_par * np.sqrt(c)"
   ]
  },
  {
   "cell_type": "code",
   "execution_count": 25,
   "id": "83aff8d9",
   "metadata": {},
   "outputs": [
    {
     "name": "stdout",
     "output_type": "stream",
     "text": [
      "23.999999999999996\n"
     ]
    }
   ],
   "source": [
    "print(c)"
   ]
  },
  {
   "cell_type": "code",
   "execution_count": 26,
   "id": "df47b41d",
   "metadata": {},
   "outputs": [],
   "source": [
    "sigma = dI * 5\n",
    "def rho_0(I):\n",
    "    return np.exp(-0.5 * (I - I_0)**2/sigma**2) / (sigma*np.sqrt(2*np.pi))"
   ]
  },
  {
   "cell_type": "code",
   "execution_count": 27,
   "id": "000bfb97",
   "metadata": {},
   "outputs": [],
   "source": [
    "dt = 10\n",
    "engine = cn.cn_generic(I_min, I_max, rho_0(I_linspace), dt, normed_D_half, normalize=False)"
   ]
  },
  {
   "cell_type": "code",
   "execution_count": 28,
   "id": "0d8a845b",
   "metadata": {},
   "outputs": [],
   "source": [
    "times, current = engine.current(20000, 1)"
   ]
  },
  {
   "cell_type": "code",
   "execution_count": 29,
   "id": "c5a7f0d5",
   "metadata": {},
   "outputs": [],
   "source": [
    "def current_point(t, I):\n",
    "    return -x(I) / (t * np.sqrt(2*np.pi*t)) * np.exp(-(x(I)+((nu(I)/2)*t))**2/(2*t))"
   ]
  },
  {
   "cell_type": "code",
   "execution_count": 31,
   "id": "81e33abd",
   "metadata": {},
   "outputs": [
    {
     "data": {
      "application/vnd.jupyter.widget-view+json": {
       "model_id": "fd5b9f723b3c4bc8bf00d392bf0a6249",
       "version_major": 2,
       "version_minor": 0
      },
      "text/plain": [
       "Canvas(toolbar=Toolbar(toolitems=[('Home', 'Reset original view', 'home', 'home'), ('Back', 'Back to previous …"
      ]
     },
     "metadata": {},
     "output_type": "display_data"
    },
    {
     "name": "stderr",
     "output_type": "stream",
     "text": [
      "<ipython-input-29-f7efe3d5fa7c>:2: RuntimeWarning: divide by zero encountered in double_scalars\n",
      "  return -x(I) / (t * np.sqrt(2*np.pi*t)) * np.exp(-(x(I)+((nu(I)/2)*t))**2/(2*t))\n",
      "<ipython-input-29-f7efe3d5fa7c>:2: RuntimeWarning: invalid value encountered in double_scalars\n",
      "  return -x(I) / (t * np.sqrt(2*np.pi*t)) * np.exp(-(x(I)+((nu(I)/2)*t))**2/(2*t))\n"
     ]
    },
    {
     "data": {
      "text/plain": [
       "<matplotlib.lines.Line2D at 0x7f6e4f16c8b0>"
      ]
     },
     "execution_count": 31,
     "metadata": {},
     "output_type": "execute_result"
    }
   ],
   "source": [
    "plt.figure()\n",
    "plt.plot(times, current)\n",
    "plt.plot(times, [current_point(t, I_0) for t in times])\n",
    "\n",
    "# Test stuff from sympy\n",
    "plt.axvline(\n",
    "    2*(np.sqrt(nu(I_0)**2 * x(I_0)**2 + 9) - 3) / nu(I_0)**2,\n",
    "    color=\"red\"\n",
    ")\n",
    "\n",
    "plt.axhline(\n",
    "    -x(I_0)*np.exp(-nu(I_0)**2*(x(I_0) + (np.sqrt(nu(I_0)**2*x(I_0)**2 + 9) - 3)/nu(I_0))**2/(4*(np.sqrt(nu(I_0)**2*x(I_0)**2 + 9) - 3)))/(4*np.sqrt(np.pi)*((np.sqrt(nu(I_0)**2*x(I_0)**2 + 9) - 3)/nu(I_0)**2)**(3/2)),\n",
    "    color=\"red\"\n",
    ")"
   ]
  },
  {
   "cell_type": "code",
   "execution_count": null,
   "id": "d8bba0dd",
   "metadata": {},
   "outputs": [],
   "source": [
    "plt.figure()\n",
    "plt.plot(I_linspace, rho_0(I_linspace))\n",
    "data = engine.get_data_with_x()\n",
    "plt.plot(data[0], data[1])"
   ]
  },
  {
   "cell_type": "markdown",
   "id": "efe04501",
   "metadata": {},
   "source": [
    "**Seems... decent enough in this particular scenario. But I might need to test the sensibility of the whole thing to sigma changes!**"
   ]
  },
  {
   "cell_type": "markdown",
   "id": "adede1b4",
   "metadata": {},
   "source": [
    "# Nekhoroshev-like potential\n",
    "\n",
    "We consider\n",
    "\n",
    "$$\\frac{\\partial \\rho}{\\partial t}=\\frac{1}{2} \\frac{\\partial}{\\partial I} c\\exp\\left[-2\\left(\\frac{I_\\ast}{I}\\right)^{1/(2\\kappa)}\\right] \\frac{\\partial}{\\partial I} \\rho(I, t)$$"
   ]
  },
  {
   "cell_type": "markdown",
   "id": "c40c6660",
   "metadata": {},
   "source": [
    "we have the following:\n",
    "\n",
    "$$h(I) = c^{1/2}\\exp\\left[-\\left(\\frac{I_\\ast}{I}\\right)^{1/(2\\kappa)}\\right]$$\n",
    "\n",
    "$$x(I) = -\\int_I^{I_\\mathrm{a}} \\frac{1}{c^{1/2}}\\exp\\left(\\frac{I_\\ast}{I'}\\right)^{1/(2\\kappa)}\\, \\mathrm{d} I' $$"
   ]
  },
  {
   "cell_type": "markdown",
   "id": "59230ae0",
   "metadata": {},
   "source": [
    "$$V(x) = \\left(\\frac{I_\\ast}{I(x)}\\right)^{1/(2\\kappa)} -\\ln(c^{1/2})$$\n",
    "\n",
    "we can expand $V(x)$ at $x=x_0$ and get\n",
    "\n",
    "$$V(x) = \\left(\\frac{I_\\ast}{I(x_0)}\\right)^\\frac{1}{2\\kappa} -\\ln(c^{1/2}) -\\left.\\frac{1}{2\\kappa}\\left[\\left(\\frac{I_{*}}{I(x)}\\right)^{\\frac{1}{2\\kappa}} \\frac{1}{I(x)} \\frac{d I(x)}{d x}\\right]\\right|_{x=x_{0}} x +\\mathcal{O}\\left(x^{2}\\right)$$\n",
    "\n",
    "which implies\n",
    "\n",
    "$$\\frac{d V(x)}{d x}=-c^{1/2}\\frac{\\frac{1}{2\\kappa}}{I\\left(x_{0}\\right)}\\left(\\frac{I_{*}}{I\\left(x_{0}\\right)}\\right)^{\\frac{1}{2\\kappa}} \\exp \\left[-\\left(\\frac{I_{*}}{I\\left(x_{0}\\right)}\\right)^{\\frac{1}{2\\kappa}}\\right]$$"
   ]
  },
  {
   "cell_type": "markdown",
   "id": "25f1118b",
   "metadata": {},
   "source": [
    "Quick note, the *actual* $\\frac{\\mathrm{d}V(x)}{\\mathrm{d}x}$ would be:\n",
    "\n",
    "$$\\frac{\\mathrm{d}V(x)}{\\mathrm{d}x} = -c^{1/2}\\frac{\\frac{1}{2\\kappa}}{I\\left(x\\right)}\\left(\\frac{I_{*}}{I\\left(x\\right)}\\right)^{\\frac{1}{2\\kappa}} \\exp \\left[-\\left(\\frac{I_{*}}{I\\left(x\\right)}\\right)^{\\frac{1}{2\\kappa}}\\right]$$"
   ]
  },
  {
   "cell_type": "code",
   "execution_count": 32,
   "id": "f4a3887e",
   "metadata": {},
   "outputs": [],
   "source": [
    "I_min = 0.0\n",
    "I_max = 5.0\n",
    "I_0 = 4.6\n",
    "samples = 2000\n",
    "I_linspace, dI = np.linspace(I_min, I_max, samples, retstep=True)\n",
    "l = dI * 5"
   ]
  },
  {
   "cell_type": "code",
   "execution_count": 33,
   "id": "451d65b1",
   "metadata": {},
   "outputs": [],
   "source": [
    "I_star = 21.5\n",
    "kappa = 0.33\n",
    "exponent = 1/(2*kappa)"
   ]
  },
  {
   "cell_type": "code",
   "execution_count": 34,
   "id": "38f2927a",
   "metadata": {},
   "outputs": [],
   "source": [
    "def D(I):\n",
    "    return np.exp(-2*np.power(I_star/I, exponent))\n",
    "\n",
    "c = 1/scipy.integrate.quad(D, I_min, I_max)[0]\n",
    "\n",
    "def normed_D(I):\n",
    "    return c * D(I)\n",
    "\n",
    "def normed_D_half(I):\n",
    "    return normed_D(I)/2\n",
    "\n",
    "def x(I):\n",
    "    return -scipy.integrate.quad(lambda x: 1/np.sqrt(normed_D(x)), I, I_max)[0]\n",
    "\n",
    "def nu(I, scale=1.0):\n",
    "    I = I * scale\n",
    "    return (np.sqrt(c) * exponent / I) * np.power(I_star/I, exponent) * np.exp(-np.power(I_star/I, exponent))"
   ]
  },
  {
   "cell_type": "code",
   "execution_count": 35,
   "id": "f7fb6b07",
   "metadata": {},
   "outputs": [
    {
     "name": "stdout",
     "output_type": "stream",
     "text": [
      "497136882.81698173\n"
     ]
    }
   ],
   "source": [
    "print(c)"
   ]
  },
  {
   "cell_type": "code",
   "execution_count": 36,
   "id": "e46cec44",
   "metadata": {},
   "outputs": [],
   "source": [
    "def current_peak_time(I_0):\n",
    "    return 2*(np.sqrt(nu(I_0)**2 * x(I_0)**2 + 9) - 3) / nu(I_0)**2\n",
    "\n",
    "def current_peak_value(I_0):\n",
    "    return -x(I_0)*np.exp(-nu(I_0)**2*(x(I_0) + (np.sqrt(nu(I_0)**2*x(I_0)**2 + 9) - 3)/nu(I_0))**2/(4*(np.sqrt(nu(I_0)**2*x(I_0)**2 + 9) - 3)))/(4*np.sqrt(np.pi)*((np.sqrt(nu(I_0)**2*x(I_0)**2 + 9) - 3)/nu(I_0)**2)**(3/2))"
   ]
  },
  {
   "cell_type": "code",
   "execution_count": 37,
   "id": "b8c2f431",
   "metadata": {},
   "outputs": [],
   "source": [
    "def current_point(t, I, scale=1.0):\n",
    "    if t == 0:\n",
    "        return 0.0\n",
    "    return -x(I) / (t * np.sqrt(2*np.pi*t)) * np.exp(-(x(I)+((nu(I, scale)/2)*t))**2/(2*t))"
   ]
  },
  {
   "cell_type": "code",
   "execution_count": 38,
   "id": "c7f50897",
   "metadata": {},
   "outputs": [],
   "source": [
    "def current_general(t, I, I_int_min, scale=1.0):\n",
    "    return [scipy.integrate.quad(lambda x: current_point(a_t, x, scale), I_int_min, I)[0] for a_t in t]"
   ]
  },
  {
   "cell_type": "markdown",
   "id": "52fbb649",
   "metadata": {},
   "source": [
    "### How much \"problematic\" is the linearization?"
   ]
  },
  {
   "cell_type": "code",
   "execution_count": 47,
   "id": "5b55b8f5",
   "metadata": {},
   "outputs": [],
   "source": [
    "def V(I):\n",
    "    return np.power(I_star/I, exponent)\n",
    "\n",
    "def linearized_V(I, I_0):\n",
    "    # print(I_0)\n",
    "    return np.power(I_star/I_0, exponent) - np.sqrt(c) * (exponent/I_0) * np.power(I_star/I_0, exponent) * np.exp(-np.power(I_star/I_0, exponent)) * (np.asarray([x(i) for i in I]) - x(I_0))"
   ]
  },
  {
   "cell_type": "code",
   "execution_count": 254,
   "id": "5c4dfd38",
   "metadata": {},
   "outputs": [
    {
     "name": "stdout",
     "output_type": "stream",
     "text": [
      "4.3 4.5713132356014725\n"
     ]
    }
   ],
   "source": [
    "sampling_point = 4.3\n",
    "cutting_point = 5\n",
    "test = np.linspace(sampling_point, cutting_point)\n",
    "\n",
    "popt, pcov = scipy.optimize.curve_fit(\n",
    "    lambda x, k: linearized_V(x, k),\n",
    "    test, V(test),\n",
    "    p0=sampling_point\n",
    ")\n",
    "print(sampling_point, popt[0])"
   ]
  },
  {
   "cell_type": "code",
   "execution_count": 255,
   "id": "fef0e64d",
   "metadata": {},
   "outputs": [
    {
     "data": {
      "application/vnd.jupyter.widget-view+json": {
       "model_id": "b3e2899fd94a421199deb207dc675508",
       "version_major": 2,
       "version_minor": 0
      },
      "text/plain": [
       "Canvas(toolbar=Toolbar(toolitems=[('Home', 'Reset original view', 'home', 'home'), ('Back', 'Back to previous …"
      ]
     },
     "metadata": {},
     "output_type": "display_data"
    },
    {
     "data": {
      "text/plain": [
       "<matplotlib.legend.Legend at 0x7fc79077db50>"
      ]
     },
     "execution_count": 255,
     "metadata": {},
     "output_type": "execute_result"
    }
   ],
   "source": [
    "plt.figure()\n",
    "plt.plot([x(i) for i in test], V(test), label=\"real $V$\")\n",
    "plt.plot([x(i) for i in test], linearized_V(test, sampling_point), label=\"linearized $V$\")\n",
    "\n",
    "#plt.plot([x(i) for i in test], linearized_V(test, popt[0]), label=\"opt. linearized $V$\")\n",
    "plt.axvline(x(sampling_point), color=\"grey\", label=\"(I units) I_0={:.5}\".format(sampling_point))\n",
    "#plt.axvline(x(popt[0]), color=\"black\", label=\"(I units) popt[0]={:.5}\".format(popt[0]))\n",
    "\n",
    "plt.xlabel(\"$x(I)$\")\n",
    "plt.ylabel(\"$V(x(I))$\")\n",
    "plt.legend()"
   ]
  },
  {
   "cell_type": "markdown",
   "id": "9444a1b0",
   "metadata": {},
   "source": [
    "### And now we wonder, how does the \"optimal\" linearization look like in a $\\delta(x-x_0)$ initial distribution?"
   ]
  },
  {
   "cell_type": "code",
   "execution_count": 90,
   "id": "fb90eba8",
   "metadata": {},
   "outputs": [],
   "source": [
    "I_0 = 4.9\n",
    "dt = current_peak_time(I_0)/1000"
   ]
  },
  {
   "cell_type": "code",
   "execution_count": 95,
   "id": "4def13b6",
   "metadata": {},
   "outputs": [],
   "source": [
    "samples = 10000\n",
    "I_linspace, dI = np.linspace(I_min, I_max, samples, retstep=True)\n",
    "sigma = dI * 10\n",
    "def rho_0(I):\n",
    "    return np.exp(-0.5 * (I - I_0)**2/sigma**2) / (sigma*np.sqrt(2*np.pi))"
   ]
  },
  {
   "cell_type": "code",
   "execution_count": 96,
   "id": "312f4d0e",
   "metadata": {},
   "outputs": [
    {
     "name": "stderr",
     "output_type": "stream",
     "text": [
      "<ipython-input-34-2a33f114efaf>:2: RuntimeWarning: divide by zero encountered in double_scalars\n",
      "  return np.exp(-2*np.power(I_star/I, exponent))\n"
     ]
    }
   ],
   "source": [
    "engine = cn.cn_generic(I_min, I_max, rho_0(I_linspace), dt, normed_D_half, normalize=False)\n",
    "times, current = engine.current(3000, 1)"
   ]
  },
  {
   "cell_type": "code",
   "execution_count": 84,
   "id": "5b69bb94",
   "metadata": {},
   "outputs": [],
   "source": [
    "popt_current, pcov_current = scipy.optimize.curve_fit(\n",
    "    lambda x, k: np.array([current_point(t, k) for t in x]),\n",
    "    times,\n",
    "    current,\n",
    "    p0=I_0\n",
    ")"
   ]
  },
  {
   "cell_type": "code",
   "execution_count": 85,
   "id": "951dea03",
   "metadata": {},
   "outputs": [
    {
     "name": "stdout",
     "output_type": "stream",
     "text": [
      "4.9 4.90056921574302\n"
     ]
    }
   ],
   "source": [
    "print(I_0, popt_current[0])"
   ]
  },
  {
   "cell_type": "code",
   "execution_count": 97,
   "id": "63a3f786",
   "metadata": {},
   "outputs": [
    {
     "name": "stdout",
     "output_type": "stream",
     "text": [
      "4.9 4.948636090818411\n"
     ]
    }
   ],
   "source": [
    "test = np.linspace(I_0, I_max, 1000)\n",
    "\n",
    "popt_sampling, pcov_sampling = scipy.optimize.curve_fit(\n",
    "    lambda x, k: linearized_V(x, k),\n",
    "    test, V(test),\n",
    "    p0=I_0\n",
    ")\n",
    "print(I_0, popt_sampling[0])"
   ]
  },
  {
   "cell_type": "code",
   "execution_count": 98,
   "id": "1b0aa38c",
   "metadata": {},
   "outputs": [
    {
     "data": {
      "application/vnd.jupyter.widget-view+json": {
       "model_id": "55b2ef8f29d345b5934394f1d72a0238",
       "version_major": 2,
       "version_minor": 0
      },
      "text/plain": [
       "Canvas(toolbar=Toolbar(toolitems=[('Home', 'Reset original view', 'home', 'home'), ('Back', 'Back to previous …"
      ]
     },
     "metadata": {},
     "output_type": "display_data"
    },
    {
     "data": {
      "text/plain": [
       "Text(0, 0.5, 'Current')"
      ]
     },
     "execution_count": 98,
     "metadata": {},
     "output_type": "execute_result"
    }
   ],
   "source": [
    "plt.figure()\n",
    "plt.plot(times, current, label=\"Numerical integration\")\n",
    "plt.plot(times, [current_point(t, I_0) for t in times], label=\"Analytic estimation\")\n",
    "plt.plot(times, [current_point(t, popt_current[0]) for t in times], label=\"Optimized I_0\")\n",
    "#plt.plot(times, [current_point(t, popt_sampling[0]) for t in times], label=\"I_0 that minimizes global error\")\n",
    "\n",
    "plt.axvline(current_peak_time(I_0), color='grey', alpha=0.5)\n",
    "plt.axhline(current_peak_value(I_0), color='grey', alpha=0.5)\n",
    "\n",
    "plt.legend()\n",
    "plt.xlabel(\"t\")\n",
    "plt.ylabel(\"Current\")"
   ]
  },
  {
   "cell_type": "code",
   "execution_count": 88,
   "id": "3623f8f9",
   "metadata": {},
   "outputs": [
    {
     "data": {
      "application/vnd.jupyter.widget-view+json": {
       "model_id": "a23c7ee830f245b4bc07dc7b3e44d257",
       "version_major": 2,
       "version_minor": 0
      },
      "text/plain": [
       "Canvas(toolbar=Toolbar(toolitems=[('Home', 'Reset original view', 'home', 'home'), ('Back', 'Back to previous …"
      ]
     },
     "metadata": {},
     "output_type": "display_data"
    },
    {
     "ename": "NameError",
     "evalue": "name 'sampling_point' is not defined",
     "output_type": "error",
     "traceback": [
      "\u001b[0;31m---------------------------------------------------------------------------\u001b[0m",
      "\u001b[0;31mNameError\u001b[0m                                 Traceback (most recent call last)",
      "\u001b[0;32m<ipython-input-88-4bc3aa23e5d7>\u001b[0m in \u001b[0;36m<module>\u001b[0;34m\u001b[0m\n\u001b[1;32m      5\u001b[0m \u001b[0mplt\u001b[0m\u001b[0;34m.\u001b[0m\u001b[0mplot\u001b[0m\u001b[0;34m(\u001b[0m\u001b[0;34m[\u001b[0m\u001b[0mx\u001b[0m\u001b[0;34m(\u001b[0m\u001b[0mi\u001b[0m\u001b[0;34m)\u001b[0m \u001b[0;32mfor\u001b[0m \u001b[0mi\u001b[0m \u001b[0;32min\u001b[0m \u001b[0mtest\u001b[0m\u001b[0;34m]\u001b[0m\u001b[0;34m,\u001b[0m \u001b[0mlinearized_V\u001b[0m\u001b[0;34m(\u001b[0m\u001b[0mtest\u001b[0m\u001b[0;34m,\u001b[0m \u001b[0mpopt_current\u001b[0m\u001b[0;34m[\u001b[0m\u001b[0;36m0\u001b[0m\u001b[0;34m]\u001b[0m\u001b[0;34m)\u001b[0m\u001b[0;34m,\u001b[0m \u001b[0mlabel\u001b[0m\u001b[0;34m=\u001b[0m\u001b[0;34m\"best fit linearized $V$\"\u001b[0m\u001b[0;34m)\u001b[0m\u001b[0;34m\u001b[0m\u001b[0;34m\u001b[0m\u001b[0m\n\u001b[1;32m      6\u001b[0m \u001b[0mplt\u001b[0m\u001b[0;34m.\u001b[0m\u001b[0mplot\u001b[0m\u001b[0;34m(\u001b[0m\u001b[0;34m[\u001b[0m\u001b[0mx\u001b[0m\u001b[0;34m(\u001b[0m\u001b[0mi\u001b[0m\u001b[0;34m)\u001b[0m \u001b[0;32mfor\u001b[0m \u001b[0mi\u001b[0m \u001b[0;32min\u001b[0m \u001b[0mtest\u001b[0m\u001b[0;34m]\u001b[0m\u001b[0;34m,\u001b[0m \u001b[0mlinearized_V\u001b[0m\u001b[0;34m(\u001b[0m\u001b[0mtest\u001b[0m\u001b[0;34m,\u001b[0m \u001b[0mpopt_sampling\u001b[0m\u001b[0;34m[\u001b[0m\u001b[0;36m0\u001b[0m\u001b[0;34m]\u001b[0m\u001b[0;34m)\u001b[0m\u001b[0;34m,\u001b[0m \u001b[0mlabel\u001b[0m\u001b[0;34m=\u001b[0m\u001b[0;34m\"min. err. linearized $V$\"\u001b[0m\u001b[0;34m)\u001b[0m\u001b[0;34m\u001b[0m\u001b[0;34m\u001b[0m\u001b[0m\n\u001b[0;32m----> 7\u001b[0;31m \u001b[0mplt\u001b[0m\u001b[0;34m.\u001b[0m\u001b[0maxvline\u001b[0m\u001b[0;34m(\u001b[0m\u001b[0mx\u001b[0m\u001b[0;34m(\u001b[0m\u001b[0mI_0\u001b[0m\u001b[0;34m)\u001b[0m\u001b[0;34m,\u001b[0m \u001b[0mcolor\u001b[0m\u001b[0;34m=\u001b[0m\u001b[0;34m\"grey\"\u001b[0m\u001b[0;34m,\u001b[0m \u001b[0mlabel\u001b[0m\u001b[0;34m=\u001b[0m\u001b[0;34m\"(I units) I_0={:.5}\"\u001b[0m\u001b[0;34m.\u001b[0m\u001b[0mformat\u001b[0m\u001b[0;34m(\u001b[0m\u001b[0msampling_point\u001b[0m\u001b[0;34m)\u001b[0m\u001b[0;34m)\u001b[0m\u001b[0;34m\u001b[0m\u001b[0;34m\u001b[0m\u001b[0m\n\u001b[0m\u001b[1;32m      8\u001b[0m \u001b[0mplt\u001b[0m\u001b[0;34m.\u001b[0m\u001b[0maxvline\u001b[0m\u001b[0;34m(\u001b[0m\u001b[0mx\u001b[0m\u001b[0;34m(\u001b[0m\u001b[0mpopt_current\u001b[0m\u001b[0;34m[\u001b[0m\u001b[0;36m0\u001b[0m\u001b[0;34m]\u001b[0m\u001b[0;34m)\u001b[0m\u001b[0;34m,\u001b[0m \u001b[0mcolor\u001b[0m\u001b[0;34m=\u001b[0m\u001b[0;34m\"black\"\u001b[0m\u001b[0;34m,\u001b[0m \u001b[0mlabel\u001b[0m\u001b[0;34m=\u001b[0m\u001b[0;34m\"(I units) best fit I={:.5}\"\u001b[0m\u001b[0;34m.\u001b[0m\u001b[0mformat\u001b[0m\u001b[0;34m(\u001b[0m\u001b[0mpopt_current\u001b[0m\u001b[0;34m[\u001b[0m\u001b[0;36m0\u001b[0m\u001b[0;34m]\u001b[0m\u001b[0;34m)\u001b[0m\u001b[0;34m)\u001b[0m\u001b[0;34m\u001b[0m\u001b[0;34m\u001b[0m\u001b[0m\n\u001b[1;32m      9\u001b[0m \u001b[0mplt\u001b[0m\u001b[0;34m.\u001b[0m\u001b[0maxvline\u001b[0m\u001b[0;34m(\u001b[0m\u001b[0mx\u001b[0m\u001b[0;34m(\u001b[0m\u001b[0mpopt_sampling\u001b[0m\u001b[0;34m[\u001b[0m\u001b[0;36m0\u001b[0m\u001b[0;34m]\u001b[0m\u001b[0;34m)\u001b[0m\u001b[0;34m,\u001b[0m \u001b[0mlinestyle\u001b[0m\u001b[0;34m=\u001b[0m\u001b[0;34m\"dashed\"\u001b[0m\u001b[0;34m,\u001b[0m \u001b[0mcolor\u001b[0m\u001b[0;34m=\u001b[0m\u001b[0;34m\"black\"\u001b[0m\u001b[0;34m,\u001b[0m \u001b[0mlabel\u001b[0m\u001b[0;34m=\u001b[0m\u001b[0;34m\"(I units) min err I={:.5}\"\u001b[0m\u001b[0;34m.\u001b[0m\u001b[0mformat\u001b[0m\u001b[0;34m(\u001b[0m\u001b[0mpopt_sampling\u001b[0m\u001b[0;34m[\u001b[0m\u001b[0;36m0\u001b[0m\u001b[0;34m]\u001b[0m\u001b[0;34m)\u001b[0m\u001b[0;34m)\u001b[0m\u001b[0;34m\u001b[0m\u001b[0;34m\u001b[0m\u001b[0m\n",
      "\u001b[0;31mNameError\u001b[0m: name 'sampling_point' is not defined"
     ]
    }
   ],
   "source": [
    "plt.figure()\n",
    "plt.plot([x(i) for i in test], V(test), label=\"real $V$\")\n",
    "plt.plot([x(i) for i in test], linearized_V(test, I_0), label=\"linearized $V$\")\n",
    "\n",
    "plt.plot([x(i) for i in test], linearized_V(test, popt_current[0]), label=\"best fit linearized $V$\")\n",
    "plt.plot([x(i) for i in test], linearized_V(test, popt_sampling[0]), label=\"min. err. linearized $V$\")\n",
    "plt.axvline(x(I_0), color=\"grey\", label=\"(I units) I_0={:.5}\".format(sampling_point))\n",
    "plt.axvline(x(popt_current[0]), color=\"black\", label=\"(I units) best fit I={:.5}\".format(popt_current[0]))\n",
    "plt.axvline(x(popt_sampling[0]), linestyle=\"dashed\", color=\"black\", label=\"(I units) min err I={:.5}\".format(popt_sampling[0]))\n",
    "\n",
    "plt.xlabel(\"$x(I)$\")\n",
    "plt.ylabel(\"$V(x(I))$\")\n",
    "plt.legend()"
   ]
  },
  {
   "cell_type": "code",
   "execution_count": 183,
   "id": "53b1bba9",
   "metadata": {},
   "outputs": [
    {
     "data": {
      "application/vnd.jupyter.widget-view+json": {
       "model_id": "",
       "version_major": 2,
       "version_minor": 0
      },
      "text/plain": [
       "Canvas(toolbar=Toolbar(toolitems=[('Home', 'Reset original view', 'home', 'home'), ('Back', 'Back to previous …"
      ]
     },
     "metadata": {},
     "output_type": "display_data"
    },
    {
     "data": {
      "text/plain": [
       "<matplotlib.legend.Legend at 0x7fc791ad5af0>"
      ]
     },
     "execution_count": 183,
     "metadata": {},
     "output_type": "execute_result"
    }
   ],
   "source": [
    "plt.figure()\n",
    "plt.plot(test, V(test), label=\"real $V$\")\n",
    "plt.plot(test, linearized_V(test, I_0), label=\"linearized $V$\")\n",
    "\n",
    "plt.plot(test, linearized_V(test, popt_current[0]), label=\"best fit linearized $V$\")\n",
    "plt.plot(test, linearized_V(test, popt_sampling[0]), label=\"min. err. linearized $V$\")\n",
    "plt.axvline(I_0, color=\"grey\", label=\"(I units) I_0={:.5}\".format(sampling_point))\n",
    "plt.axvline(popt_current[0], color=\"black\", label=\"(I units) best fit I={:.5}\".format(popt_current[0]))\n",
    "plt.axvline(popt_sampling[0], linestyle=\"dashed\", color=\"black\", label=\"(I units) min err I={:.5}\".format(popt_sampling[0]))\n",
    "\n",
    "plt.xlabel(\"$I$\")\n",
    "plt.ylabel(\"$V(x(I))$\")\n",
    "plt.legend()"
   ]
  },
  {
   "cell_type": "markdown",
   "id": "b82ec1de",
   "metadata": {},
   "source": [
    "## Test with different initial conditions"
   ]
  },
  {
   "cell_type": "code",
   "execution_count": 40,
   "id": "ad78bbf1",
   "metadata": {},
   "outputs": [],
   "source": [
    "dt = 0.00001"
   ]
  },
  {
   "cell_type": "code",
   "execution_count": 41,
   "id": "281d23d1",
   "metadata": {},
   "outputs": [],
   "source": [
    "sigma = dI * 1\n",
    "def rho_0(I):\n",
    "    return np.exp(-0.5 * (I - I_0)**2/sigma**2) / (sigma*np.sqrt(2*np.pi))"
   ]
  },
  {
   "cell_type": "code",
   "execution_count": 42,
   "id": "99efafdc",
   "metadata": {},
   "outputs": [
    {
     "name": "stderr",
     "output_type": "stream",
     "text": [
      "<ipython-input-34-2a33f114efaf>:2: RuntimeWarning: divide by zero encountered in double_scalars\n",
      "  return np.exp(-2*np.power(I_star/I, exponent))\n"
     ]
    }
   ],
   "source": [
    "engine1 = cn.cn_generic(I_min, I_max, rho_0(I_linspace), dt, normed_D_half, normalize=False)"
   ]
  },
  {
   "cell_type": "code",
   "execution_count": 43,
   "id": "aad93aa4",
   "metadata": {},
   "outputs": [],
   "source": [
    "times, current1 = engine1.current(2000, 100)"
   ]
  },
  {
   "cell_type": "code",
   "execution_count": 44,
   "id": "b890cf1a",
   "metadata": {},
   "outputs": [],
   "source": [
    "sigma = dI * 5\n",
    "def rho_0(I):\n",
    "    return np.exp(-0.5 * (I - I_0)**2/sigma**2) / (sigma*np.sqrt(2*np.pi))"
   ]
  },
  {
   "cell_type": "code",
   "execution_count": 45,
   "id": "61507146",
   "metadata": {},
   "outputs": [
    {
     "name": "stderr",
     "output_type": "stream",
     "text": [
      "<ipython-input-34-2a33f114efaf>:2: RuntimeWarning: divide by zero encountered in double_scalars\n",
      "  return np.exp(-2*np.power(I_star/I, exponent))\n"
     ]
    }
   ],
   "source": [
    "engine2 = cn.cn_generic(I_min, I_max, rho_0(I_linspace), dt, normed_D_half, normalize=False)"
   ]
  },
  {
   "cell_type": "code",
   "execution_count": 46,
   "id": "255426c4",
   "metadata": {},
   "outputs": [],
   "source": [
    "times, current2 = engine2.current(2000, 100)"
   ]
  },
  {
   "cell_type": "code",
   "execution_count": 47,
   "id": "7d545545",
   "metadata": {},
   "outputs": [],
   "source": [
    "sigma = dI * 10\n",
    "def rho_0(I):\n",
    "    return np.exp(-0.5 * (I - I_0)**2/sigma**2) / (sigma*np.sqrt(2*np.pi))"
   ]
  },
  {
   "cell_type": "code",
   "execution_count": 48,
   "id": "af351454",
   "metadata": {},
   "outputs": [
    {
     "name": "stderr",
     "output_type": "stream",
     "text": [
      "<ipython-input-34-2a33f114efaf>:2: RuntimeWarning: divide by zero encountered in double_scalars\n",
      "  return np.exp(-2*np.power(I_star/I, exponent))\n"
     ]
    }
   ],
   "source": [
    "engine3 = cn.cn_generic(I_min, I_max, rho_0(I_linspace), dt, normed_D_half, normalize=False)"
   ]
  },
  {
   "cell_type": "code",
   "execution_count": 49,
   "id": "081865b0",
   "metadata": {},
   "outputs": [],
   "source": [
    "times, current3 = engine3.current(2000, 100)"
   ]
  },
  {
   "cell_type": "code",
   "execution_count": 50,
   "id": "21fed361",
   "metadata": {},
   "outputs": [
    {
     "data": {
      "application/vnd.jupyter.widget-view+json": {
       "model_id": "",
       "version_major": 2,
       "version_minor": 0
      },
      "text/plain": [
       "  0%|          | 0/2000 [00:00<?, ?it/s]"
      ]
     },
     "metadata": {},
     "output_type": "display_data"
    }
   ],
   "source": [
    "analytic_current = [current_point(t, I_0) for t in tqdm(times)]"
   ]
  },
  {
   "cell_type": "code",
   "execution_count": 51,
   "id": "6a0935d3",
   "metadata": {},
   "outputs": [
    {
     "data": {
      "text/plain": [
       "(0.01, 80.48680998373588)"
      ]
     },
     "execution_count": 51,
     "metadata": {},
     "output_type": "execute_result"
    }
   ],
   "source": [
    "plt.figure()\n",
    "plt.plot(times, current1)\n",
    "plt.plot(times, current2)\n",
    "plt.plot(times, current3)\n",
    "plt.plot(times, analytic_current)\n",
    "plt.yscale(\"log\")\n",
    "plt.ylim(bottom=1e-2)"
   ]
  },
  {
   "cell_type": "code",
   "execution_count": 52,
   "id": "6636239e",
   "metadata": {},
   "outputs": [
    {
     "data": {
      "text/plain": [
       "[<matplotlib.lines.Line2D at 0x7fc79944dbb0>]"
      ]
     },
     "execution_count": 52,
     "metadata": {},
     "output_type": "execute_result"
    }
   ],
   "source": [
    "plt.figure()\n",
    "#plt.plot(I_linspace, rho_0(I_linspace))\n",
    "data1 = engine1.get_data_with_x()\n",
    "plt.plot(data1[0], data1[1])\n",
    "data2 = engine2.get_data_with_x()\n",
    "plt.plot(data2[0], data2[1])\n",
    "data3 = engine3.get_data_with_x()\n",
    "plt.plot(data3[0], data3[1])"
   ]
  },
  {
   "cell_type": "code",
   "execution_count": 53,
   "id": "2efc7fef",
   "metadata": {},
   "outputs": [
    {
     "data": {
      "text/plain": [
       "[<matplotlib.lines.Line2D at 0x7fc79a8e1100>]"
      ]
     },
     "execution_count": 53,
     "metadata": {},
     "output_type": "execute_result"
    }
   ],
   "source": [
    "plt.figure()\n",
    "plt.plot(data1[0], np.absolute(data1[1] - data3[1]))"
   ]
  },
  {
   "cell_type": "markdown",
   "id": "8b969507",
   "metadata": {},
   "source": [
    "## Rest of the things..."
   ]
  },
  {
   "cell_type": "code",
   "execution_count": 54,
   "id": "152112ae",
   "metadata": {},
   "outputs": [],
   "source": [
    "def rho_0(I):\n",
    "    return 1 / (1 + np.exp((I-I_0)/l))"
   ]
  },
  {
   "cell_type": "code",
   "execution_count": 55,
   "id": "6daaabc2",
   "metadata": {},
   "outputs": [
    {
     "name": "stderr",
     "output_type": "stream",
     "text": [
      "<ipython-input-34-2a33f114efaf>:2: RuntimeWarning: divide by zero encountered in double_scalars\n",
      "  return np.exp(-2*np.power(I_star/I, exponent))\n"
     ]
    }
   ],
   "source": [
    "dt = 0.00001\n",
    "engine = cn.cn_generic(I_min, I_max, rho_0(I_linspace), dt, normed_D_half, normalize=False)"
   ]
  },
  {
   "cell_type": "code",
   "execution_count": 56,
   "id": "ce2dd449",
   "metadata": {},
   "outputs": [],
   "source": [
    "times, current = engine.current(200, 100)"
   ]
  },
  {
   "cell_type": "code",
   "execution_count": 57,
   "id": "decfd382",
   "metadata": {},
   "outputs": [
    {
     "data": {
      "text/plain": [
       "[<matplotlib.lines.Line2D at 0x7fc799458a90>]"
      ]
     },
     "execution_count": 57,
     "metadata": {},
     "output_type": "execute_result"
    }
   ],
   "source": [
    "plt.figure()\n",
    "plt.plot(times, current)\n",
    "#plt.plot(times, current_full)\n",
    "plt.plot(times, current_general(times, I_0, 3.0))\n",
    "#plt.plot(times, current_general(times, I_0, 0.0))"
   ]
  },
  {
   "cell_type": "code",
   "execution_count": 58,
   "id": "caead97b",
   "metadata": {},
   "outputs": [],
   "source": [
    "plt.figure()\n",
    "plt.plot(times, np.absolute((current - current_general(times, I_0, 3.0))/current))\n",
    "plt.yscale(\"log\")"
   ]
  },
  {
   "cell_type": "code",
   "execution_count": 59,
   "id": "16a135da",
   "metadata": {},
   "outputs": [],
   "source": [
    "popt, pcov = scipy.optimize.curve_fit(\n",
    "    lambda x, k: current_general(x, I_0, 3.0, k),\n",
    "    times,\n",
    "    current,\n",
    "    p0=1.0\n",
    ")"
   ]
  },
  {
   "cell_type": "code",
   "execution_count": 60,
   "id": "98ab4a81",
   "metadata": {},
   "outputs": [
    {
     "name": "stdout",
     "output_type": "stream",
     "text": [
      "[1.02631849]\n"
     ]
    }
   ],
   "source": [
    "print(popt)"
   ]
  },
  {
   "cell_type": "code",
   "execution_count": 61,
   "id": "a48cfb83",
   "metadata": {},
   "outputs": [
    {
     "name": "stdout",
     "output_type": "stream",
     "text": [
      "[1.02631849]\n"
     ]
    }
   ],
   "source": [
    "print(popt)"
   ]
  },
  {
   "cell_type": "code",
   "execution_count": 76,
   "id": "691426ff",
   "metadata": {},
   "outputs": [
    {
     "data": {
      "application/vnd.jupyter.widget-view+json": {
       "model_id": "",
       "version_major": 2,
       "version_minor": 0
      },
      "text/plain": [
       "Canvas(toolbar=Toolbar(toolitems=[('Home', 'Reset original view', 'home', 'home'), ('Back', 'Back to previous …"
      ]
     },
     "metadata": {},
     "output_type": "display_data"
    },
    {
     "data": {
      "text/plain": [
       "[<matplotlib.lines.Line2D at 0x7fc79283dd30>]"
      ]
     },
     "execution_count": 76,
     "metadata": {},
     "output_type": "execute_result"
    }
   ],
   "source": [
    "plt.figure()\n",
    "plt.plot(times, current)\n",
    "#plt.plot(times, current_full)\n",
    "plt.plot(times, current_general(times, I_0, 3.0, scale=1.0))\n",
    "plt.plot(times, current_general(times, I_0, 3.0, scale=popt[0]))\n",
    "#plt.plot(times, current_general(times, I_0, 0.0))"
   ]
  },
  {
   "cell_type": "code",
   "execution_count": 77,
   "id": "0088963a",
   "metadata": {},
   "outputs": [
    {
     "data": {
      "application/vnd.jupyter.widget-view+json": {
       "model_id": "",
       "version_major": 2,
       "version_minor": 0
      },
      "text/plain": [
       "Canvas(toolbar=Toolbar(toolitems=[('Home', 'Reset original view', 'home', 'home'), ('Back', 'Back to previous …"
      ]
     },
     "metadata": {},
     "output_type": "display_data"
    },
    {
     "data": {
      "text/plain": [
       "[<matplotlib.lines.Line2D at 0x7fc792e61dc0>]"
      ]
     },
     "execution_count": 77,
     "metadata": {},
     "output_type": "execute_result"
    }
   ],
   "source": [
    "data = engine.get_data_with_x()\n",
    "plt.figure()\n",
    "plt.plot(data[0], data[1])"
   ]
  },
  {
   "cell_type": "code",
   "execution_count": 78,
   "id": "6c6e9bfe",
   "metadata": {},
   "outputs": [],
   "source": [
    "def advanced_nu(I):\n",
    "    return scipy.integrate.quad(nu, I, I_max)[0]/(I_max - I)\n",
    "\n",
    "def advanced_nu_2(I):\n",
    "    return scipy.integrate.quad(nu, I, I_max)[0]/(I_max - I)"
   ]
  },
  {
   "cell_type": "code",
   "execution_count": 79,
   "id": "9dca20f6",
   "metadata": {},
   "outputs": [
    {
     "data": {
      "application/vnd.jupyter.widget-view+json": {
       "model_id": "",
       "version_major": 2,
       "version_minor": 0
      },
      "text/plain": [
       "Canvas(toolbar=Toolbar(toolitems=[('Home', 'Reset original view', 'home', 'home'), ('Back', 'Back to previous …"
      ]
     },
     "metadata": {},
     "output_type": "display_data"
    },
    {
     "data": {
      "application/vnd.jupyter.widget-view+json": {
       "model_id": "",
       "version_major": 2,
       "version_minor": 0
      },
      "text/plain": [
       "  0%|          | 0/50 [00:00<?, ?it/s]"
      ]
     },
     "metadata": {},
     "output_type": "display_data"
    },
    {
     "data": {
      "application/vnd.jupyter.widget-view+json": {
       "model_id": "",
       "version_major": 2,
       "version_minor": 0
      },
      "text/plain": [
       "  0%|          | 0/50 [00:00<?, ?it/s]"
      ]
     },
     "metadata": {},
     "output_type": "display_data"
    },
    {
     "data": {
      "text/plain": [
       "[<matplotlib.lines.Line2D at 0x7fc792a60460>]"
      ]
     },
     "execution_count": 79,
     "metadata": {},
     "output_type": "execute_result"
    }
   ],
   "source": [
    "test_I = np.linspace(4,4.99)\n",
    "plt.figure()\n",
    "plt.plot(test_I, [nu(I) for I in tqdm(test_I)])\n",
    "plt.plot(test_I, [advanced_nu(I) for I in tqdm(test_I)])"
   ]
  },
  {
   "cell_type": "code",
   "execution_count": 80,
   "id": "688b6b6b",
   "metadata": {},
   "outputs": [],
   "source": [
    "def current_point_advanced(t, I):\n",
    "    if t == 0:\n",
    "        return 0.0\n",
    "    return -x(I) / (t * np.sqrt(2*np.pi*t)) * np.exp(-(x(I)+((advanced_nu(I)/2)*t))**2/(2*t))"
   ]
  },
  {
   "cell_type": "code",
   "execution_count": 81,
   "id": "ca25054d",
   "metadata": {},
   "outputs": [],
   "source": [
    "def current_general_advanced(t, I, I_int_min):\n",
    "    return [scipy.integrate.quad(lambda x: current_point_advanced(a_t, x), I_int_min, I)[0] for a_t in tqdm(t)]"
   ]
  },
  {
   "cell_type": "code",
   "execution_count": 75,
   "id": "07dff570",
   "metadata": {},
   "outputs": [
    {
     "data": {
      "application/vnd.jupyter.widget-view+json": {
       "model_id": "",
       "version_major": 2,
       "version_minor": 0
      },
      "text/plain": [
       "Canvas(toolbar=Toolbar(toolitems=[('Home', 'Reset original view', 'home', 'home'), ('Back', 'Back to previous …"
      ]
     },
     "metadata": {},
     "output_type": "display_data"
    },
    {
     "data": {
      "application/vnd.jupyter.widget-view+json": {
       "model_id": "",
       "version_major": 2,
       "version_minor": 0
      },
      "text/plain": [
       "  0%|          | 0/200 [00:00<?, ?it/s]"
      ]
     },
     "metadata": {},
     "output_type": "display_data"
    },
    {
     "data": {
      "text/plain": [
       "[<matplotlib.lines.Line2D at 0x7fc79292d190>]"
      ]
     },
     "execution_count": 75,
     "metadata": {},
     "output_type": "execute_result"
    }
   ],
   "source": [
    "plt.figure()\n",
    "plt.plot(times, current)\n",
    "plt.plot(times, current_general(times, I_0, 3.0))\n",
    "plt.plot(times, current_general_advanced(times, I_0, 3.0))"
   ]
  },
  {
   "cell_type": "code",
   "execution_count": null,
   "id": "3c3759cd",
   "metadata": {},
   "outputs": [],
   "source": []
  }
 ],
 "metadata": {
  "kernelspec": {
   "display_name": "Python 3",
   "language": "python",
   "name": "python3"
  },
  "language_info": {
   "codemirror_mode": {
    "name": "ipython",
    "version": 3
   },
   "file_extension": ".py",
   "mimetype": "text/x-python",
   "name": "python",
   "nbconvert_exporter": "python",
   "pygments_lexer": "ipython3",
   "version": "3.8.8"
  }
 },
 "nbformat": 4,
 "nbformat_minor": 5
}
