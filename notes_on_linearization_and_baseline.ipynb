{
 "cells": [
  {
   "cell_type": "code",
   "execution_count": 1,
   "id": "39958a4a",
   "metadata": {},
   "outputs": [],
   "source": [
    "%matplotlib widget"
   ]
  },
  {
   "cell_type": "code",
   "execution_count": 2,
   "id": "83b3622c",
   "metadata": {},
   "outputs": [],
   "source": [
    "import numpy as np\n",
    "import matplotlib.pyplot as plt\n",
    "import scipy\n",
    "import scipy.integrate\n",
    "from tqdm.notebook import tqdm\n",
    "import crank_nicolson_numba.generic as cn"
   ]
  },
  {
   "cell_type": "markdown",
   "id": "b85c0089",
   "metadata": {},
   "source": [
    "# Theoretical notes\n",
    "\n",
    "We operate with the following Fokker-Planck equation:\n",
    "\n",
    "$$\\frac{\\partial \\rho}{\\partial t}=\\frac{1}{2} \\frac{\\partial}{\\partial I} {D}(I) \\frac{\\partial}{\\partial I} \\rho(I, t)$$\n",
    "\n",
    "We define $h(I) = D^{1/2}(I)$. By applying\n",
    "\n",
    "$$ x = -\\int_I^{I_\\mathrm{a}} \\frac{1}{D^{1/2}(I')}\\,\\mathrm{d}I'$$ \n",
    "\n",
    "$$ \\frac{\\mathrm{d}I(x)}{\\mathrm{d}x} = h(I(x))$$\n",
    "\n",
    "$$ \\rho'(x, t)=\\rho(I, t)\\frac{\\mathrm{d}I}{\\mathrm{d}x}$$\n",
    "\n",
    "We reach\n",
    "\n",
    "$$\\frac{\\partial\\rho'}{\\partial t} = \\frac{1}{2}\\frac{\\partial}{\\partial x} \\frac{\\mathrm{d}V(x)}{\\mathrm{d}x} \\rho'+\\frac{1}{2}\\frac{\\partial^2}{\\partial\\rho'^2}{x}$$\n",
    "\n",
    "where $V(x) = -\\ln(D^{1/2}(x))$\n",
    "\n",
    "## Current estimation\n",
    "\n",
    "**IF** $V(x) = -\\nu x$ with $\\nu>0$, we have\n",
    "\n",
    "$$J(I, t) = \\frac{|x(I)|}{t\\sqrt{2\\pi t}}\\exp\\left(-\\frac{(x(I)+\\frac{\\nu}{2} t)^2}{2 t}\\right)$$"
   ]
  },
  {
   "cell_type": "markdown",
   "id": "d13bb490",
   "metadata": {},
   "source": [
    "This allows us to compute analytically (with `sympy`) the timing of the current peak!\n",
    "\n",
    "$$t_{J_\\text{max}}(I) = \\frac{2(\\sqrt{\\nu^2 x(I)^2 + 9} - 3)}{\\nu^2}$$"
   ]
  },
  {
   "cell_type": "markdown",
   "id": "955d66d2",
   "metadata": {},
   "source": [
    "# Linear potential (just for testing things...)\n",
    "\n",
    "Let's consider\n",
    "\n",
    "$$\\frac{\\partial \\rho}{\\partial t}=\\frac{1}{2} \\frac{\\partial}{\\partial I} \\nu^2 I^2 \\frac{\\partial}{\\partial I} \\rho(I, t)$$\n",
    "\n",
    "with $\\nu>0$. We have the following\n",
    "\n",
    "$$h(I) = \\nu I$$\n",
    "\n",
    "$$x(I) = -\\int_I^{I_\\mathrm{a}} \\frac{1}{\\nu I'}\\,\\mathrm{d}I' = \\frac{1}{\\nu}\\ln\\left(\\frac{I}{I_\\mathrm{a}}\\right)$$\n",
    "\n",
    "$$I(x) = I_\\mathrm{a}\\exp(\\nu x)$$\n",
    "\n",
    "$$V(x) = -ln(\\nu I(x)) = -\\ln(\\nu I_\\mathrm{a}\\exp(\\nu x)) = -\\nu x -\\ln(\\nu I_\\mathrm{a})$$\n",
    "\n",
    "$$\\frac{\\mathrm{d}V(x)}{\\mathrm{d}x} = -\\nu$$"
   ]
  },
  {
   "cell_type": "markdown",
   "id": "20cde046",
   "metadata": {},
   "source": [
    "## Let's integrate it"
   ]
  },
  {
   "cell_type": "code",
   "execution_count": 3,
   "id": "daae6a6b",
   "metadata": {},
   "outputs": [],
   "source": [
    "I_min = 0.0\n",
    "I_max = 50.0\n",
    "I_0 = 10.0\n",
    "samples = 2000\n",
    "I_linspace, dI = np.linspace(I_min, I_max, samples, retstep=True)\n",
    "l = dI * 5"
   ]
  },
  {
   "cell_type": "code",
   "execution_count": 4,
   "id": "3a6bfea0",
   "metadata": {},
   "outputs": [],
   "source": [
    "nu_par = 0.001\n",
    "\n",
    "def D(I):\n",
    "    return np.power(nu_par * I, 2)\n",
    "\n",
    "\n",
    "def D_half(I):\n",
    "    return D(I)/2\n",
    "\n",
    "norm = 1/scipy.integrate.quad(D, I_min, I_max)[0]\n",
    "\n",
    "#def normed_D(I):\n",
    "#    return norm * D(I)\n",
    "\n",
    "def x(I):\n",
    "    return (1/nu_par) * np.log(I/I_max)\n",
    "\n",
    "def nu(I):\n",
    "    return nu_par"
   ]
  },
  {
   "cell_type": "code",
   "execution_count": 5,
   "id": "174e4897",
   "metadata": {},
   "outputs": [],
   "source": [
    "def rho_0(I):\n",
    "    return 1 / (1 + np.exp((I-I_0)/l))"
   ]
  },
  {
   "cell_type": "code",
   "execution_count": 6,
   "id": "0afa2fd7",
   "metadata": {},
   "outputs": [],
   "source": [
    "dt = 10000\n",
    "engine = cn.cn_generic(I_min, I_max, rho_0(I_linspace), dt, D_half, normalize=False)"
   ]
  },
  {
   "cell_type": "code",
   "execution_count": 7,
   "id": "ec7c2002",
   "metadata": {},
   "outputs": [],
   "source": [
    "times, current = engine.current(1000, 1)\n"
   ]
  },
  {
   "cell_type": "code",
   "execution_count": 8,
   "id": "a524d8cc",
   "metadata": {},
   "outputs": [],
   "source": [
    "def current_point(t, I):\n",
    "    return -x(I) / (t * np.sqrt(2*np.pi*t)) * np.exp(-(x(I)+((nu(I)/2)*t))**2/(2*t))"
   ]
  },
  {
   "cell_type": "code",
   "execution_count": 9,
   "id": "d205ff55",
   "metadata": {},
   "outputs": [],
   "source": [
    "def current_general(t, I, I_int_min):\n",
    "    return [scipy.integrate.quad(lambda x: current_point(a_t, x), I_int_min, I)[0] for a_t in t]"
   ]
  },
  {
   "cell_type": "code",
   "execution_count": 10,
   "id": "f667eade",
   "metadata": {},
   "outputs": [
    {
     "data": {
      "application/vnd.jupyter.widget-view+json": {
       "model_id": "6cc5fd95c9b94ac1be1a4b3133c2bd13",
       "version_major": 2,
       "version_minor": 0
      },
      "text/plain": [
       "Canvas(toolbar=Toolbar(toolitems=[('Home', 'Reset original view', 'home', 'home'), ('Back', 'Back to previous …"
      ]
     },
     "metadata": {},
     "output_type": "display_data"
    },
    {
     "name": "stderr",
     "output_type": "stream",
     "text": [
      "<ipython-input-8-f7efe3d5fa7c>:2: RuntimeWarning: divide by zero encountered in double_scalars\n",
      "  return -x(I) / (t * np.sqrt(2*np.pi*t)) * np.exp(-(x(I)+((nu(I)/2)*t))**2/(2*t))\n",
      "<ipython-input-8-f7efe3d5fa7c>:2: RuntimeWarning: invalid value encountered in double_scalars\n",
      "  return -x(I) / (t * np.sqrt(2*np.pi*t)) * np.exp(-(x(I)+((nu(I)/2)*t))**2/(2*t))\n",
      "<ipython-input-9-e06dc8630cf2>:2: IntegrationWarning: The occurrence of roundoff error is detected, which prevents \n",
      "  the requested tolerance from being achieved.  The error may be \n",
      "  underestimated.\n",
      "  return [scipy.integrate.quad(lambda x: current_point(a_t, x), I_int_min, I)[0] for a_t in t]\n"
     ]
    },
    {
     "data": {
      "text/plain": [
       "[<matplotlib.lines.Line2D at 0x7f6e56d85640>]"
      ]
     },
     "execution_count": 10,
     "metadata": {},
     "output_type": "execute_result"
    }
   ],
   "source": [
    "plt.figure()\n",
    "plt.plot(times, current)\n",
    "plt.plot(times, current_general(times, I_0, 0.0))"
   ]
  },
  {
   "cell_type": "code",
   "execution_count": 11,
   "id": "12496d6d",
   "metadata": {},
   "outputs": [
    {
     "data": {
      "application/vnd.jupyter.widget-view+json": {
       "model_id": "b6138181055845b9869cf09b38acc369",
       "version_major": 2,
       "version_minor": 0
      },
      "text/plain": [
       "Canvas(toolbar=Toolbar(toolitems=[('Home', 'Reset original view', 'home', 'home'), ('Back', 'Back to previous …"
      ]
     },
     "metadata": {},
     "output_type": "display_data"
    },
    {
     "name": "stderr",
     "output_type": "stream",
     "text": [
      "<ipython-input-8-f7efe3d5fa7c>:2: RuntimeWarning: divide by zero encountered in double_scalars\n",
      "  return -x(I) / (t * np.sqrt(2*np.pi*t)) * np.exp(-(x(I)+((nu(I)/2)*t))**2/(2*t))\n",
      "<ipython-input-8-f7efe3d5fa7c>:2: RuntimeWarning: invalid value encountered in double_scalars\n",
      "  return -x(I) / (t * np.sqrt(2*np.pi*t)) * np.exp(-(x(I)+((nu(I)/2)*t))**2/(2*t))\n",
      "<ipython-input-9-e06dc8630cf2>:2: IntegrationWarning: The occurrence of roundoff error is detected, which prevents \n",
      "  the requested tolerance from being achieved.  The error may be \n",
      "  underestimated.\n",
      "  return [scipy.integrate.quad(lambda x: current_point(a_t, x), I_int_min, I)[0] for a_t in t]\n"
     ]
    },
    {
     "data": {
      "text/plain": [
       "[<matplotlib.lines.Line2D at 0x7f6e571038b0>]"
      ]
     },
     "execution_count": 11,
     "metadata": {},
     "output_type": "execute_result"
    }
   ],
   "source": [
    "plt.figure()\n",
    "plt.plot(times, np.absolute(current - current_general(times, I_0, 0.0)))\n",
    "#plt.yscale(\"log\")"
   ]
  },
  {
   "cell_type": "markdown",
   "id": "66a18847",
   "metadata": {},
   "source": [
    "**Works as expected...**"
   ]
  },
  {
   "cell_type": "markdown",
   "id": "d6693c45",
   "metadata": {},
   "source": [
    "## Variant with $c$\n",
    "\n",
    "we define $c$ such that\n",
    "\n",
    "$$c\\int_0^{I_\\mathrm{a}}D(I)\\,\\mathrm{d}I = 1$$\n",
    "\n",
    "and we consider\n",
    "\n",
    "$$D(I) = c \\nu^2 I^2$$"
   ]
  },
  {
   "cell_type": "code",
   "execution_count": 12,
   "id": "dce42dfd",
   "metadata": {},
   "outputs": [],
   "source": [
    "I_min = 0.0\n",
    "I_max = 50.0\n",
    "I_0 = 10.0\n",
    "samples = 2000\n",
    "I_linspace, dI = np.linspace(I_min, I_max, samples, retstep=True)\n",
    "l = dI * 5"
   ]
  },
  {
   "cell_type": "code",
   "execution_count": 13,
   "id": "fcb5d2b2",
   "metadata": {},
   "outputs": [],
   "source": [
    "nu_par = 0.001\n",
    "\n",
    "def D(I):\n",
    "    return np.power(nu_par * I, 2)\n",
    "\n",
    "c = 1/scipy.integrate.quad(D, I_min, I_max)[0]\n",
    "\n",
    "def normed_D(I):\n",
    "    return c * D(I)\n",
    "\n",
    "def normed_D_half(I):\n",
    "    return normed_D(I)/2\n",
    "\n",
    "def x(I):\n",
    "    return (1/(nu_par*np.sqrt(c))) * np.log(I/I_max)\n",
    "\n",
    "def nu(I):\n",
    "    return nu_par * np.sqrt(c)"
   ]
  },
  {
   "cell_type": "code",
   "execution_count": 14,
   "id": "ddda45cb",
   "metadata": {},
   "outputs": [
    {
     "name": "stdout",
     "output_type": "stream",
     "text": [
      "23.999999999999996\n"
     ]
    }
   ],
   "source": [
    "print(c)"
   ]
  },
  {
   "cell_type": "code",
   "execution_count": 15,
   "id": "45f41c2f",
   "metadata": {},
   "outputs": [],
   "source": [
    "def rho_0(I):\n",
    "    return 1 / (1 + np.exp((I-I_0)/l))"
   ]
  },
  {
   "cell_type": "code",
   "execution_count": 16,
   "id": "47a81227",
   "metadata": {},
   "outputs": [],
   "source": [
    "dt = 10\n",
    "engine = cn.cn_generic(I_min, I_max, rho_0(I_linspace), dt, normed_D_half, normalize=False)"
   ]
  },
  {
   "cell_type": "code",
   "execution_count": 17,
   "id": "df3027eb",
   "metadata": {},
   "outputs": [],
   "source": [
    "times, current = engine.current(20000, 1)"
   ]
  },
  {
   "cell_type": "code",
   "execution_count": 18,
   "id": "7b24ae35",
   "metadata": {},
   "outputs": [],
   "source": [
    "def current_point(t, I):\n",
    "    return -x(I) / (t * np.sqrt(2*np.pi*t)) * np.exp(-(x(I)+((nu(I)/2)*t))**2/(2*t))"
   ]
  },
  {
   "cell_type": "code",
   "execution_count": 19,
   "id": "d091e5ca",
   "metadata": {},
   "outputs": [],
   "source": [
    "def current_general(t, I, I_int_min):\n",
    "    return [scipy.integrate.quad(lambda x: current_point(a_t, x), I_int_min, I)[0] for a_t in t]"
   ]
  },
  {
   "cell_type": "code",
   "execution_count": 20,
   "id": "bd0d0f29",
   "metadata": {},
   "outputs": [
    {
     "data": {
      "application/vnd.jupyter.widget-view+json": {
       "model_id": "1b6e283bda164cb4a004aa781e920d3f",
       "version_major": 2,
       "version_minor": 0
      },
      "text/plain": [
       "Canvas(toolbar=Toolbar(toolitems=[('Home', 'Reset original view', 'home', 'home'), ('Back', 'Back to previous …"
      ]
     },
     "metadata": {},
     "output_type": "display_data"
    },
    {
     "name": "stderr",
     "output_type": "stream",
     "text": [
      "<ipython-input-18-f7efe3d5fa7c>:2: RuntimeWarning: divide by zero encountered in double_scalars\n",
      "  return -x(I) / (t * np.sqrt(2*np.pi*t)) * np.exp(-(x(I)+((nu(I)/2)*t))**2/(2*t))\n",
      "<ipython-input-18-f7efe3d5fa7c>:2: RuntimeWarning: invalid value encountered in double_scalars\n",
      "  return -x(I) / (t * np.sqrt(2*np.pi*t)) * np.exp(-(x(I)+((nu(I)/2)*t))**2/(2*t))\n",
      "<ipython-input-19-e06dc8630cf2>:2: IntegrationWarning: The occurrence of roundoff error is detected, which prevents \n",
      "  the requested tolerance from being achieved.  The error may be \n",
      "  underestimated.\n",
      "  return [scipy.integrate.quad(lambda x: current_point(a_t, x), I_int_min, I)[0] for a_t in t]\n"
     ]
    },
    {
     "data": {
      "text/plain": [
       "[<matplotlib.lines.Line2D at 0x7f6e57387490>]"
      ]
     },
     "execution_count": 20,
     "metadata": {},
     "output_type": "execute_result"
    }
   ],
   "source": [
    "plt.figure()\n",
    "plt.plot(times, current)\n",
    "#plt.plot(times, current_full)\n",
    "plt.plot(times, current_general(times, I_0, 0.0))\n",
    "#plt.plot(times, current_general(times, I_0, 0.0))"
   ]
  },
  {
   "cell_type": "code",
   "execution_count": 21,
   "id": "6bd9b95a",
   "metadata": {},
   "outputs": [
    {
     "data": {
      "application/vnd.jupyter.widget-view+json": {
       "model_id": "e9e4c5fd2f75426d9ead149afaa4f27f",
       "version_major": 2,
       "version_minor": 0
      },
      "text/plain": [
       "Canvas(toolbar=Toolbar(toolitems=[('Home', 'Reset original view', 'home', 'home'), ('Back', 'Back to previous …"
      ]
     },
     "metadata": {},
     "output_type": "display_data"
    },
    {
     "name": "stderr",
     "output_type": "stream",
     "text": [
      "<ipython-input-18-f7efe3d5fa7c>:2: RuntimeWarning: divide by zero encountered in double_scalars\n",
      "  return -x(I) / (t * np.sqrt(2*np.pi*t)) * np.exp(-(x(I)+((nu(I)/2)*t))**2/(2*t))\n",
      "<ipython-input-18-f7efe3d5fa7c>:2: RuntimeWarning: invalid value encountered in double_scalars\n",
      "  return -x(I) / (t * np.sqrt(2*np.pi*t)) * np.exp(-(x(I)+((nu(I)/2)*t))**2/(2*t))\n",
      "<ipython-input-19-e06dc8630cf2>:2: IntegrationWarning: The occurrence of roundoff error is detected, which prevents \n",
      "  the requested tolerance from being achieved.  The error may be \n",
      "  underestimated.\n",
      "  return [scipy.integrate.quad(lambda x: current_point(a_t, x), I_int_min, I)[0] for a_t in t]\n",
      "<ipython-input-21-999a9aa5391b>:2: RuntimeWarning: divide by zero encountered in true_divide\n",
      "  plt.plot(times, np.absolute((current - current_general(times, I_0, 0.0))/current))\n",
      "<ipython-input-21-999a9aa5391b>:2: RuntimeWarning: invalid value encountered in true_divide\n",
      "  plt.plot(times, np.absolute((current - current_general(times, I_0, 0.0))/current))\n"
     ]
    }
   ],
   "source": [
    "plt.figure()\n",
    "plt.plot(times, np.absolute((current - current_general(times, I_0, 0.0))/current))\n",
    "plt.yscale(\"log\")"
   ]
  },
  {
   "cell_type": "code",
   "execution_count": 22,
   "id": "ee1f0fdc",
   "metadata": {},
   "outputs": [
    {
     "data": {
      "application/vnd.jupyter.widget-view+json": {
       "model_id": "a7ecb2b529204cbba5d758df528b058c",
       "version_major": 2,
       "version_minor": 0
      },
      "text/plain": [
       "Canvas(toolbar=Toolbar(toolitems=[('Home', 'Reset original view', 'home', 'home'), ('Back', 'Back to previous …"
      ]
     },
     "metadata": {},
     "output_type": "display_data"
    },
    {
     "data": {
      "text/plain": [
       "[<matplotlib.lines.Line2D at 0x7f6e571075e0>]"
      ]
     },
     "execution_count": 22,
     "metadata": {},
     "output_type": "execute_result"
    }
   ],
   "source": [
    "plt.figure()\n",
    "data = engine.get_data_with_x()\n",
    "plt.plot(data[0], data[1])"
   ]
  },
  {
   "cell_type": "markdown",
   "id": "af8905b2",
   "metadata": {},
   "source": [
    "**Still works, we will use this kind of normalization then**"
   ]
  },
  {
   "cell_type": "markdown",
   "id": "5a68128a",
   "metadata": {},
   "source": [
    "## But... it would be ideal to work with some sort of decent $\\delta(x-x_0)$ distribution..."
   ]
  },
  {
   "cell_type": "markdown",
   "id": "32e95dc3",
   "metadata": {},
   "source": [
    "How can I set up properly such distribution in the context of a CN integration?\n",
    "\n",
    "With a sharp enough normal distribution?"
   ]
  },
  {
   "cell_type": "code",
   "execution_count": 23,
   "id": "0d7f23d6",
   "metadata": {},
   "outputs": [],
   "source": [
    "I_min = 0.0\n",
    "I_max = 50.0\n",
    "I_0 = 10.0\n",
    "samples = 2000\n",
    "I_linspace, dI = np.linspace(I_min, I_max, samples, retstep=True)\n",
    "l = dI * 5"
   ]
  },
  {
   "cell_type": "code",
   "execution_count": 24,
   "id": "68bbb403",
   "metadata": {},
   "outputs": [],
   "source": [
    "nu_par = 0.001\n",
    "\n",
    "def D(I):\n",
    "    return np.power(nu_par * I, 2)\n",
    "\n",
    "c = 1/scipy.integrate.quad(D, I_min, I_max)[0]\n",
    "\n",
    "def normed_D(I):\n",
    "    return c * D(I)\n",
    "\n",
    "def normed_D_half(I):\n",
    "    return normed_D(I)/2\n",
    "\n",
    "def x(I):\n",
    "    return (1/(nu_par*np.sqrt(c))) * np.log(I/I_max)\n",
    "\n",
    "def nu(I):\n",
    "    return nu_par * np.sqrt(c)"
   ]
  },
  {
   "cell_type": "code",
   "execution_count": 25,
   "id": "35724b47",
   "metadata": {},
   "outputs": [
    {
     "name": "stdout",
     "output_type": "stream",
     "text": [
      "23.999999999999996\n"
     ]
    }
   ],
   "source": [
    "print(c)"
   ]
  },
  {
   "cell_type": "code",
   "execution_count": 26,
   "id": "734f9aa6",
   "metadata": {},
   "outputs": [],
   "source": [
    "sigma = dI * 5\n",
    "def rho_0(I):\n",
    "    return np.exp(-0.5 * (I - I_0)**2/sigma**2) / (sigma*np.sqrt(2*np.pi))"
   ]
  },
  {
   "cell_type": "code",
   "execution_count": 27,
   "id": "57da8add",
   "metadata": {},
   "outputs": [],
   "source": [
    "dt = 10\n",
    "engine = cn.cn_generic(I_min, I_max, rho_0(I_linspace), dt, normed_D_half, normalize=False)"
   ]
  },
  {
   "cell_type": "code",
   "execution_count": 28,
   "id": "322e2833",
   "metadata": {},
   "outputs": [],
   "source": [
    "times, current = engine.current(20000, 1)"
   ]
  },
  {
   "cell_type": "code",
   "execution_count": 29,
   "id": "cd16a4a7",
   "metadata": {},
   "outputs": [],
   "source": [
    "def current_point(t, I):\n",
    "    return -x(I) / (t * np.sqrt(2*np.pi*t)) * np.exp(-(x(I)+((nu(I)/2)*t))**2/(2*t))"
   ]
  },
  {
   "cell_type": "code",
   "execution_count": 31,
   "id": "2f0744be",
   "metadata": {},
   "outputs": [
    {
     "data": {
      "application/vnd.jupyter.widget-view+json": {
       "model_id": "fd5b9f723b3c4bc8bf00d392bf0a6249",
       "version_major": 2,
       "version_minor": 0
      },
      "text/plain": [
       "Canvas(toolbar=Toolbar(toolitems=[('Home', 'Reset original view', 'home', 'home'), ('Back', 'Back to previous …"
      ]
     },
     "metadata": {},
     "output_type": "display_data"
    },
    {
     "name": "stderr",
     "output_type": "stream",
     "text": [
      "<ipython-input-29-f7efe3d5fa7c>:2: RuntimeWarning: divide by zero encountered in double_scalars\n",
      "  return -x(I) / (t * np.sqrt(2*np.pi*t)) * np.exp(-(x(I)+((nu(I)/2)*t))**2/(2*t))\n",
      "<ipython-input-29-f7efe3d5fa7c>:2: RuntimeWarning: invalid value encountered in double_scalars\n",
      "  return -x(I) / (t * np.sqrt(2*np.pi*t)) * np.exp(-(x(I)+((nu(I)/2)*t))**2/(2*t))\n"
     ]
    },
    {
     "data": {
      "text/plain": [
       "<matplotlib.lines.Line2D at 0x7f6e4f16c8b0>"
      ]
     },
     "execution_count": 31,
     "metadata": {},
     "output_type": "execute_result"
    }
   ],
   "source": [
    "plt.figure()\n",
    "plt.plot(times, current)\n",
    "plt.plot(times, [current_point(t, I_0) for t in times])\n",
    "\n",
    "# Test stuff from sympy\n",
    "plt.axvline(\n",
    "    2*(np.sqrt(nu(I_0)**2 * x(I_0)**2 + 9) - 3) / nu(I_0)**2,\n",
    "    color=\"red\"\n",
    ")\n",
    "\n",
    "plt.axhline(\n",
    "    -x(I_0)*np.exp(-nu(I_0)**2*(x(I_0) + (np.sqrt(nu(I_0)**2*x(I_0)**2 + 9) - 3)/nu(I_0))**2/(4*(np.sqrt(nu(I_0)**2*x(I_0)**2 + 9) - 3)))/(4*np.sqrt(np.pi)*((np.sqrt(nu(I_0)**2*x(I_0)**2 + 9) - 3)/nu(I_0)**2)**(3/2)),\n",
    "    color=\"red\"\n",
    ")"
   ]
  },
  {
   "cell_type": "code",
   "execution_count": null,
   "id": "c600c008",
   "metadata": {},
   "outputs": [],
   "source": [
    "plt.figure()\n",
    "plt.plot(I_linspace, rho_0(I_linspace))\n",
    "data = engine.get_data_with_x()\n",
    "plt.plot(data[0], data[1])"
   ]
  },
  {
   "cell_type": "markdown",
   "id": "0dc249eb",
   "metadata": {},
   "source": [
    "**Seems... decent enough in this particular scenario. But I might need to test the sensibility of the whole thing to sigma changes!**"
   ]
  },
  {
   "cell_type": "markdown",
   "id": "6e0b8a1e",
   "metadata": {},
   "source": [
    "# Nekhoroshev-like potential\n",
    "\n",
    "We consider\n",
    "\n",
    "$$\\frac{\\partial \\rho}{\\partial t}=\\frac{1}{2} \\frac{\\partial}{\\partial I} c\\exp\\left[-2\\left(\\frac{I_\\ast}{I}\\right)^{1/(2\\kappa)}\\right] \\frac{\\partial}{\\partial I} \\rho(I, t)$$"
   ]
  },
  {
   "cell_type": "markdown",
   "id": "1e13869b",
   "metadata": {},
   "source": [
    "we have the following:\n",
    "\n",
    "$$h(I) = c^{1/2}\\exp\\left[-\\left(\\frac{I_\\ast}{I}\\right)^{1/(2\\kappa)}\\right]$$\n",
    "\n",
    "$$x(I) = -\\int_I^{I_\\mathrm{a}} \\frac{1}{c^{1/2}}\\exp\\left(\\frac{I_\\ast}{I'}\\right)^{1/(2\\kappa)}\\, \\mathrm{d} I' $$"
   ]
  },
  {
   "cell_type": "markdown",
   "id": "b4990513",
   "metadata": {},
   "source": [
    "$$V(x) = \\left(\\frac{I_\\ast}{I(x)}\\right)^{1/(2\\kappa)} -\\ln(c^{1/2})$$\n",
    "\n",
    "we can expand $V(x)$ at $x=x_0$ and get\n",
    "\n",
    "$$V(x) = \\left(\\frac{I_\\ast}{I(x_0)}\\right)^\\frac{1}{2\\kappa} -\\ln(c^{1/2}) -\\left.\\frac{1}{2\\kappa}\\left[\\left(\\frac{I_{*}}{I(x)}\\right)^{\\frac{1}{2\\kappa}} \\frac{1}{I(x)} \\frac{d I(x)}{d x}\\right]\\right|_{x=x_{0}} x +\\mathcal{O}\\left(x^{2}\\right)$$\n",
    "\n",
    "which implies\n",
    "\n",
    "$$\\frac{d V(x)}{d x}=-c^{1/2}\\frac{\\frac{1}{2\\kappa}}{I\\left(x_{0}\\right)}\\left(\\frac{I_{*}}{I\\left(x_{0}\\right)}\\right)^{\\frac{1}{2\\kappa}} \\exp \\left[-\\left(\\frac{I_{*}}{I\\left(x_{0}\\right)}\\right)^{\\frac{1}{2\\kappa}}\\right]$$"
   ]
  },
  {
   "cell_type": "markdown",
   "id": "9f1019e6",
   "metadata": {},
   "source": [
    "Quick note, the *actual* $\\frac{\\mathrm{d}V(x)}{\\mathrm{d}x}$ would be:\n",
    "\n",
    "$$\\frac{\\mathrm{d}V(x)}{\\mathrm{d}x} = -c^{1/2}\\frac{\\frac{1}{2\\kappa}}{I\\left(x\\right)}\\left(\\frac{I_{*}}{I\\left(x\\right)}\\right)^{\\frac{1}{2\\kappa}} \\exp \\left[-\\left(\\frac{I_{*}}{I\\left(x\\right)}\\right)^{\\frac{1}{2\\kappa}}\\right]$$"
   ]
  },
  {
   "cell_type": "code",
   "execution_count": 32,
   "id": "57cf28ad",
   "metadata": {},
   "outputs": [],
   "source": [
    "I_min = 0.0\n",
    "I_max = 5.0\n",
    "I_0 = 4.6\n",
    "samples = 2000\n",
    "I_linspace, dI = np.linspace(I_min, I_max, samples, retstep=True)\n",
    "l = dI * 5"
   ]
  },
  {
   "cell_type": "code",
   "execution_count": 33,
   "id": "24cfe2b3",
   "metadata": {},
   "outputs": [],
   "source": [
    "I_star = 21.5\n",
    "kappa = 0.33\n",
    "exponent = 1/(2*kappa)"
   ]
  },
  {
   "cell_type": "code",
   "execution_count": 34,
   "id": "f5ed650e",
   "metadata": {},
   "outputs": [],
   "source": [
    "def D(I):\n",
    "    return np.exp(-2*np.power(I_star/I, exponent))\n",
    "\n",
    "c = 1/scipy.integrate.quad(D, I_min, I_max)[0]\n",
    "\n",
    "def normed_D(I):\n",
    "    return c * D(I)\n",
    "\n",
    "def normed_D_half(I):\n",
    "    return normed_D(I)/2\n",
    "\n",
    "def x(I):\n",
    "    return -scipy.integrate.quad(lambda x: 1/np.sqrt(normed_D(x)), I, I_max)[0]\n",
    "\n",
    "def nu(I, scale=1.0):\n",
    "    I = I * scale\n",
    "    return (np.sqrt(c) * exponent / I) * np.power(I_star/I, exponent) * np.exp(-np.power(I_star/I, exponent))"
   ]
  },
  {
   "cell_type": "code",
   "execution_count": 35,
   "id": "11181ea9",
   "metadata": {},
   "outputs": [
    {
     "name": "stdout",
     "output_type": "stream",
     "text": [
      "497136882.81698173\n"
     ]
    }
   ],
   "source": [
    "print(c)"
   ]
  },
  {
   "cell_type": "code",
   "execution_count": 36,
   "id": "bdaa81a0",
   "metadata": {},
   "outputs": [],
   "source": [
    "def current_peak_time(I_0):\n",
    "    return 2*(np.sqrt(nu(I_0)**2 * x(I_0)**2 + 9) - 3) / nu(I_0)**2\n",
    "\n",
    "def current_peak_value(I_0):\n",
    "    return -x(I_0)*np.exp(-nu(I_0)**2*(x(I_0) + (np.sqrt(nu(I_0)**2*x(I_0)**2 + 9) - 3)/nu(I_0))**2/(4*(np.sqrt(nu(I_0)**2*x(I_0)**2 + 9) - 3)))/(4*np.sqrt(np.pi)*((np.sqrt(nu(I_0)**2*x(I_0)**2 + 9) - 3)/nu(I_0)**2)**(3/2))"
   ]
  },
  {
   "cell_type": "code",
   "execution_count": 37,
   "id": "e3b79dff",
   "metadata": {},
   "outputs": [],
   "source": [
    "def current_point(t, I, scale=1.0):\n",
    "    if t == 0:\n",
    "        return 0.0\n",
    "    return -x(I) / (t * np.sqrt(2*np.pi*t)) * np.exp(-(x(I)+((nu(I, scale)/2)*t))**2/(2*t))"
   ]
  },
  {
   "cell_type": "code",
   "execution_count": 38,
   "id": "a7d613bd",
   "metadata": {},
   "outputs": [],
   "source": [
    "def current_general(t, I, I_int_min, scale=1.0):\n",
    "    return [scipy.integrate.quad(lambda x: current_point(a_t, x, scale), I_int_min, I)[0] for a_t in t]"
   ]
  },
  {
   "cell_type": "markdown",
   "id": "536af164",
   "metadata": {},
   "source": [
    "### How much \"problematic\" is the linearization?"
   ]
  },
  {
   "cell_type": "code",
   "execution_count": 47,
   "id": "8ad5d436",
   "metadata": {},
   "outputs": [],
   "source": [
    "def V(I):\n",
    "    return np.power(I_star/I, exponent)\n",
    "\n",
    "def linearized_V(I, I_0):\n",
    "    # print(I_0)\n",
    "    return np.power(I_star/I_0, exponent) - np.sqrt(c) * (exponent/I_0) * np.power(I_star/I_0, exponent) * np.exp(-np.power(I_star/I_0, exponent)) * (np.asarray([x(i) for i in I]) - x(I_0))"
   ]
  },
  {
   "cell_type": "code",
   "execution_count": 254,
   "id": "6b229871",
   "metadata": {},
   "outputs": [
    {
     "name": "stdout",
     "output_type": "stream",
     "text": [
      "4.3 4.5713132356014725\n"
     ]
    }
   ],
   "source": [
    "sampling_point = 4.3\n",
    "cutting_point = 5\n",
    "test = np.linspace(sampling_point, cutting_point)\n",
    "\n",
    "popt, pcov = scipy.optimize.curve_fit(\n",
    "    lambda x, k: linearized_V(x, k),\n",
    "    test, V(test),\n",
    "    p0=sampling_point\n",
    ")\n",
    "print(sampling_point, popt[0])"
   ]
  },
  {
   "cell_type": "code",
   "execution_count": 255,
   "id": "ce1a39ea",
   "metadata": {},
   "outputs": [
    {
     "data": {
      "application/vnd.jupyter.widget-view+json": {
       "model_id": "b3e2899fd94a421199deb207dc675508",
       "version_major": 2,
       "version_minor": 0
      },
      "text/plain": [
       "Canvas(toolbar=Toolbar(toolitems=[('Home', 'Reset original view', 'home', 'home'), ('Back', 'Back to previous …"
      ]
     },
     "metadata": {},
     "output_type": "display_data"
    },
    {
     "data": {
      "text/plain": [
       "<matplotlib.legend.Legend at 0x7fc79077db50>"
      ]
     },
     "execution_count": 255,
     "metadata": {},
     "output_type": "execute_result"
    }
   ],
   "source": [
    "plt.figure()\n",
    "plt.plot([x(i) for i in test], V(test), label=\"real $V$\")\n",
    "plt.plot([x(i) for i in test], linearized_V(test, sampling_point), label=\"linearized $V$\")\n",
    "\n",
    "#plt.plot([x(i) for i in test], linearized_V(test, popt[0]), label=\"opt. linearized $V$\")\n",
    "plt.axvline(x(sampling_point), color=\"grey\", label=\"(I units) I_0={:.5}\".format(sampling_point))\n",
    "#plt.axvline(x(popt[0]), color=\"black\", label=\"(I units) popt[0]={:.5}\".format(popt[0]))\n",
    "\n",
    "plt.xlabel(\"$x(I)$\")\n",
    "plt.ylabel(\"$V(x(I))$\")\n",
    "plt.legend()"
   ]
  },
  {
   "cell_type": "markdown",
   "id": "10c9870b",
   "metadata": {},
   "source": [
    "### And now we wonder, how does the \"optimal\" linearization look like in a $\\delta(x-x_0)$ initial distribution?"
   ]
  },
  {
   "cell_type": "code",
   "execution_count": 90,
   "id": "6144a01a",
   "metadata": {},
   "outputs": [],
   "source": [
    "I_0 = 4.9\n",
    "dt = current_peak_time(I_0)/1000"
   ]
  },
  {
   "cell_type": "code",
   "execution_count": 95,
   "id": "6a438052",
   "metadata": {},
   "outputs": [],
   "source": [
    "samples = 10000\n",
    "I_linspace, dI = np.linspace(I_min, I_max, samples, retstep=True)\n",
    "sigma = dI * 10\n",
    "def rho_0(I):\n",
    "    return np.exp(-0.5 * (I - I_0)**2/sigma**2) / (sigma*np.sqrt(2*np.pi))"
   ]
  },
  {
   "cell_type": "code",
   "execution_count": 96,
   "id": "3ea2e5e0",
   "metadata": {},
   "outputs": [
    {
     "name": "stderr",
     "output_type": "stream",
     "text": [
      "<ipython-input-34-2a33f114efaf>:2: RuntimeWarning: divide by zero encountered in double_scalars\n",
      "  return np.exp(-2*np.power(I_star/I, exponent))\n"
     ]
    }
   ],
   "source": [
    "engine = cn.cn_generic(I_min, I_max, rho_0(I_linspace), dt, normed_D_half, normalize=False)\n",
    "times, current = engine.current(3000, 1)"
   ]
  },
  {
   "cell_type": "code",
   "execution_count": 84,
   "id": "d4a412be",
   "metadata": {},
   "outputs": [],
   "source": [
    "popt_current, pcov_current = scipy.optimize.curve_fit(\n",
    "    lambda x, k: np.array([current_point(t, k) for t in x]),\n",
    "    times,\n",
    "    current,\n",
    "    p0=I_0\n",
    ")"
   ]
  },
  {
   "cell_type": "code",
   "execution_count": 85,
   "id": "66cfc96a",
   "metadata": {},
   "outputs": [
    {
     "name": "stdout",
     "output_type": "stream",
     "text": [
      "4.9 4.90056921574302\n"
     ]
    }
   ],
   "source": [
    "print(I_0, popt_current[0])"
   ]
  },
  {
   "cell_type": "code",
   "execution_count": 97,
   "id": "3bdb9320",
   "metadata": {},
   "outputs": [
    {
     "name": "stdout",
     "output_type": "stream",
     "text": [
      "4.9 4.948636090818411\n"
     ]
    }
   ],
   "source": [
    "test = np.linspace(I_0, I_max, 1000)\n",
    "\n",
    "popt_sampling, pcov_sampling = scipy.optimize.curve_fit(\n",
    "    lambda x, k: linearized_V(x, k),\n",
    "    test, V(test),\n",
    "    p0=I_0\n",
    ")\n",
    "print(I_0, popt_sampling[0])"
   ]
  },
  {
   "cell_type": "code",
   "execution_count": 98,
   "id": "f5792d0a",
   "metadata": {},
   "outputs": [
    {
     "data": {
      "application/vnd.jupyter.widget-view+json": {
       "model_id": "55b2ef8f29d345b5934394f1d72a0238",
       "version_major": 2,
       "version_minor": 0
      },
      "text/plain": [
       "Canvas(toolbar=Toolbar(toolitems=[('Home', 'Reset original view', 'home', 'home'), ('Back', 'Back to previous …"
      ]
     },
     "metadata": {},
     "output_type": "display_data"
    },
    {
     "data": {
      "text/plain": [
       "Text(0, 0.5, 'Current')"
      ]
     },
     "execution_count": 98,
     "metadata": {},
     "output_type": "execute_result"
    }
   ],
   "source": [
    "plt.figure()\n",
    "plt.plot(times, current, label=\"Numerical integration\")\n",
    "plt.plot(times, [current_point(t, I_0) for t in times], label=\"Analytic estimation\")\n",
    "plt.plot(times, [current_point(t, popt_current[0]) for t in times], label=\"Optimized I_0\")\n",
    "#plt.plot(times, [current_point(t, popt_sampling[0]) for t in times], label=\"I_0 that minimizes global error\")\n",
    "\n",
    "plt.axvline(current_peak_time(I_0), color='grey', alpha=0.5)\n",
    "plt.axhline(current_peak_value(I_0), color='grey', alpha=0.5)\n",
    "\n",
    "plt.legend()\n",
    "plt.xlabel(\"t\")\n",
    "plt.ylabel(\"Current\")"
   ]
  },
  {
   "cell_type": "code",
   "execution_count": 88,
   "id": "1eb7d05a",
   "metadata": {},
   "outputs": [
    {
     "data": {
      "application/vnd.jupyter.widget-view+json": {
       "model_id": "a23c7ee830f245b4bc07dc7b3e44d257",
       "version_major": 2,
       "version_minor": 0
      },
      "text/plain": [
       "Canvas(toolbar=Toolbar(toolitems=[('Home', 'Reset original view', 'home', 'home'), ('Back', 'Back to previous …"
      ]
     },
     "metadata": {},
     "output_type": "display_data"
    },
    {
     "ename": "NameError",
     "evalue": "name 'sampling_point' is not defined",
     "output_type": "error",
     "traceback": [
      "\u001b[0;31m---------------------------------------------------------------------------\u001b[0m",
      "\u001b[0;31mNameError\u001b[0m                                 Traceback (most recent call last)",
      "\u001b[0;32m<ipython-input-88-4bc3aa23e5d7>\u001b[0m in \u001b[0;36m<module>\u001b[0;34m\u001b[0m\n\u001b[1;32m      5\u001b[0m \u001b[0mplt\u001b[0m\u001b[0;34m.\u001b[0m\u001b[0mplot\u001b[0m\u001b[0;34m(\u001b[0m\u001b[0;34m[\u001b[0m\u001b[0mx\u001b[0m\u001b[0;34m(\u001b[0m\u001b[0mi\u001b[0m\u001b[0;34m)\u001b[0m \u001b[0;32mfor\u001b[0m \u001b[0mi\u001b[0m \u001b[0;32min\u001b[0m \u001b[0mtest\u001b[0m\u001b[0;34m]\u001b[0m\u001b[0;34m,\u001b[0m \u001b[0mlinearized_V\u001b[0m\u001b[0;34m(\u001b[0m\u001b[0mtest\u001b[0m\u001b[0;34m,\u001b[0m \u001b[0mpopt_current\u001b[0m\u001b[0;34m[\u001b[0m\u001b[0;36m0\u001b[0m\u001b[0;34m]\u001b[0m\u001b[0;34m)\u001b[0m\u001b[0;34m,\u001b[0m \u001b[0mlabel\u001b[0m\u001b[0;34m=\u001b[0m\u001b[0;34m\"best fit linearized $V$\"\u001b[0m\u001b[0;34m)\u001b[0m\u001b[0;34m\u001b[0m\u001b[0;34m\u001b[0m\u001b[0m\n\u001b[1;32m      6\u001b[0m \u001b[0mplt\u001b[0m\u001b[0;34m.\u001b[0m\u001b[0mplot\u001b[0m\u001b[0;34m(\u001b[0m\u001b[0;34m[\u001b[0m\u001b[0mx\u001b[0m\u001b[0;34m(\u001b[0m\u001b[0mi\u001b[0m\u001b[0;34m)\u001b[0m \u001b[0;32mfor\u001b[0m \u001b[0mi\u001b[0m \u001b[0;32min\u001b[0m \u001b[0mtest\u001b[0m\u001b[0;34m]\u001b[0m\u001b[0;34m,\u001b[0m \u001b[0mlinearized_V\u001b[0m\u001b[0;34m(\u001b[0m\u001b[0mtest\u001b[0m\u001b[0;34m,\u001b[0m \u001b[0mpopt_sampling\u001b[0m\u001b[0;34m[\u001b[0m\u001b[0;36m0\u001b[0m\u001b[0;34m]\u001b[0m\u001b[0;34m)\u001b[0m\u001b[0;34m,\u001b[0m \u001b[0mlabel\u001b[0m\u001b[0;34m=\u001b[0m\u001b[0;34m\"min. err. linearized $V$\"\u001b[0m\u001b[0;34m)\u001b[0m\u001b[0;34m\u001b[0m\u001b[0;34m\u001b[0m\u001b[0m\n\u001b[0;32m----> 7\u001b[0;31m \u001b[0mplt\u001b[0m\u001b[0;34m.\u001b[0m\u001b[0maxvline\u001b[0m\u001b[0;34m(\u001b[0m\u001b[0mx\u001b[0m\u001b[0;34m(\u001b[0m\u001b[0mI_0\u001b[0m\u001b[0;34m)\u001b[0m\u001b[0;34m,\u001b[0m \u001b[0mcolor\u001b[0m\u001b[0;34m=\u001b[0m\u001b[0;34m\"grey\"\u001b[0m\u001b[0;34m,\u001b[0m \u001b[0mlabel\u001b[0m\u001b[0;34m=\u001b[0m\u001b[0;34m\"(I units) I_0={:.5}\"\u001b[0m\u001b[0;34m.\u001b[0m\u001b[0mformat\u001b[0m\u001b[0;34m(\u001b[0m\u001b[0msampling_point\u001b[0m\u001b[0;34m)\u001b[0m\u001b[0;34m)\u001b[0m\u001b[0;34m\u001b[0m\u001b[0;34m\u001b[0m\u001b[0m\n\u001b[0m\u001b[1;32m      8\u001b[0m \u001b[0mplt\u001b[0m\u001b[0;34m.\u001b[0m\u001b[0maxvline\u001b[0m\u001b[0;34m(\u001b[0m\u001b[0mx\u001b[0m\u001b[0;34m(\u001b[0m\u001b[0mpopt_current\u001b[0m\u001b[0;34m[\u001b[0m\u001b[0;36m0\u001b[0m\u001b[0;34m]\u001b[0m\u001b[0;34m)\u001b[0m\u001b[0;34m,\u001b[0m \u001b[0mcolor\u001b[0m\u001b[0;34m=\u001b[0m\u001b[0;34m\"black\"\u001b[0m\u001b[0;34m,\u001b[0m \u001b[0mlabel\u001b[0m\u001b[0;34m=\u001b[0m\u001b[0;34m\"(I units) best fit I={:.5}\"\u001b[0m\u001b[0;34m.\u001b[0m\u001b[0mformat\u001b[0m\u001b[0;34m(\u001b[0m\u001b[0mpopt_current\u001b[0m\u001b[0;34m[\u001b[0m\u001b[0;36m0\u001b[0m\u001b[0;34m]\u001b[0m\u001b[0;34m)\u001b[0m\u001b[0;34m)\u001b[0m\u001b[0;34m\u001b[0m\u001b[0;34m\u001b[0m\u001b[0m\n\u001b[1;32m      9\u001b[0m \u001b[0mplt\u001b[0m\u001b[0;34m.\u001b[0m\u001b[0maxvline\u001b[0m\u001b[0;34m(\u001b[0m\u001b[0mx\u001b[0m\u001b[0;34m(\u001b[0m\u001b[0mpopt_sampling\u001b[0m\u001b[0;34m[\u001b[0m\u001b[0;36m0\u001b[0m\u001b[0;34m]\u001b[0m\u001b[0;34m)\u001b[0m\u001b[0;34m,\u001b[0m \u001b[0mlinestyle\u001b[0m\u001b[0;34m=\u001b[0m\u001b[0;34m\"dashed\"\u001b[0m\u001b[0;34m,\u001b[0m \u001b[0mcolor\u001b[0m\u001b[0;34m=\u001b[0m\u001b[0;34m\"black\"\u001b[0m\u001b[0;34m,\u001b[0m \u001b[0mlabel\u001b[0m\u001b[0;34m=\u001b[0m\u001b[0;34m\"(I units) min err I={:.5}\"\u001b[0m\u001b[0;34m.\u001b[0m\u001b[0mformat\u001b[0m\u001b[0;34m(\u001b[0m\u001b[0mpopt_sampling\u001b[0m\u001b[0;34m[\u001b[0m\u001b[0;36m0\u001b[0m\u001b[0;34m]\u001b[0m\u001b[0;34m)\u001b[0m\u001b[0;34m)\u001b[0m\u001b[0;34m\u001b[0m\u001b[0;34m\u001b[0m\u001b[0m\n",
      "\u001b[0;31mNameError\u001b[0m: name 'sampling_point' is not defined"
     ]
    }
   ],
   "source": [
    "plt.figure()\n",
    "plt.plot([x(i) for i in test], V(test), label=\"real $V$\")\n",
    "plt.plot([x(i) for i in test], linearized_V(test, I_0), label=\"linearized $V$\")\n",
    "\n",
    "plt.plot([x(i) for i in test], linearized_V(test, popt_current[0]), label=\"best fit linearized $V$\")\n",
    "plt.plot([x(i) for i in test], linearized_V(test, popt_sampling[0]), label=\"min. err. linearized $V$\")\n",
    "plt.axvline(x(I_0), color=\"grey\", label=\"(I units) I_0={:.5}\".format(sampling_point))\n",
    "plt.axvline(x(popt_current[0]), color=\"black\", label=\"(I units) best fit I={:.5}\".format(popt_current[0]))\n",
    "plt.axvline(x(popt_sampling[0]), linestyle=\"dashed\", color=\"black\", label=\"(I units) min err I={:.5}\".format(popt_sampling[0]))\n",
    "\n",
    "plt.xlabel(\"$x(I)$\")\n",
    "plt.ylabel(\"$V(x(I))$\")\n",
    "plt.legend()"
   ]
  },
  {
   "cell_type": "code",
   "execution_count": 183,
   "id": "47737aa7",
   "metadata": {},
   "outputs": [
    {
     "data": {
      "application/vnd.jupyter.widget-view+json": {
       "model_id": "",
       "version_major": 2,
       "version_minor": 0
      },
      "text/plain": [
       "Canvas(toolbar=Toolbar(toolitems=[('Home', 'Reset original view', 'home', 'home'), ('Back', 'Back to previous …"
      ]
     },
     "metadata": {},
     "output_type": "display_data"
    },
    {
     "data": {
      "text/plain": [
       "<matplotlib.legend.Legend at 0x7fc791ad5af0>"
      ]
     },
     "execution_count": 183,
     "metadata": {},
     "output_type": "execute_result"
    }
   ],
   "source": [
    "plt.figure()\n",
    "plt.plot(test, V(test), label=\"real $V$\")\n",
    "plt.plot(test, linearized_V(test, I_0), label=\"linearized $V$\")\n",
    "\n",
    "plt.plot(test, linearized_V(test, popt_current[0]), label=\"best fit linearized $V$\")\n",
    "plt.plot(test, linearized_V(test, popt_sampling[0]), label=\"min. err. linearized $V$\")\n",
    "plt.axvline(I_0, color=\"grey\", label=\"(I units) I_0={:.5}\".format(sampling_point))\n",
    "plt.axvline(popt_current[0], color=\"black\", label=\"(I units) best fit I={:.5}\".format(popt_current[0]))\n",
    "plt.axvline(popt_sampling[0], linestyle=\"dashed\", color=\"black\", label=\"(I units) min err I={:.5}\".format(popt_sampling[0]))\n",
    "\n",
    "plt.xlabel(\"$I$\")\n",
    "plt.ylabel(\"$V(x(I))$\")\n",
    "plt.legend()"
   ]
  },
  {
   "cell_type": "markdown",
   "id": "73c70a55",
   "metadata": {},
   "source": [
    "## Test with different initial conditions"
   ]
  },
  {
   "cell_type": "code",
   "execution_count": 40,
   "id": "65e10ed1",
   "metadata": {},
   "outputs": [],
   "source": [
    "dt = 0.00001"
   ]
  },
  {
   "cell_type": "code",
   "execution_count": 41,
   "id": "6008b54f",
   "metadata": {},
   "outputs": [],
   "source": [
    "sigma = dI * 1\n",
    "def rho_0(I):\n",
    "    return np.exp(-0.5 * (I - I_0)**2/sigma**2) / (sigma*np.sqrt(2*np.pi))"
   ]
  },
  {
   "cell_type": "code",
   "execution_count": 42,
   "id": "bd3fbbb2",
   "metadata": {},
   "outputs": [
    {
     "name": "stderr",
     "output_type": "stream",
     "text": [
      "<ipython-input-34-2a33f114efaf>:2: RuntimeWarning: divide by zero encountered in double_scalars\n",
      "  return np.exp(-2*np.power(I_star/I, exponent))\n"
     ]
    }
   ],
   "source": [
    "engine1 = cn.cn_generic(I_min, I_max, rho_0(I_linspace), dt, normed_D_half, normalize=False)"
   ]
  },
  {
   "cell_type": "code",
   "execution_count": 43,
   "id": "4e30f467",
   "metadata": {},
   "outputs": [],
   "source": [
    "times, current1 = engine1.current(2000, 100)"
   ]
  },
  {
   "cell_type": "code",
   "execution_count": 44,
   "id": "45cb3a4f",
   "metadata": {},
   "outputs": [],
   "source": [
    "sigma = dI * 5\n",
    "def rho_0(I):\n",
    "    return np.exp(-0.5 * (I - I_0)**2/sigma**2) / (sigma*np.sqrt(2*np.pi))"
   ]
  },
  {
   "cell_type": "code",
   "execution_count": 45,
   "id": "cbd5a4aa",
   "metadata": {},
   "outputs": [
    {
     "name": "stderr",
     "output_type": "stream",
     "text": [
      "<ipython-input-34-2a33f114efaf>:2: RuntimeWarning: divide by zero encountered in double_scalars\n",
      "  return np.exp(-2*np.power(I_star/I, exponent))\n"
     ]
    }
   ],
   "source": [
    "engine2 = cn.cn_generic(I_min, I_max, rho_0(I_linspace), dt, normed_D_half, normalize=False)"
   ]
  },
  {
   "cell_type": "code",
   "execution_count": 46,
   "id": "32da04aa",
   "metadata": {},
   "outputs": [],
   "source": [
    "times, current2 = engine2.current(2000, 100)"
   ]
  },
  {
   "cell_type": "code",
   "execution_count": 47,
   "id": "f2a55dcb",
   "metadata": {},
   "outputs": [],
   "source": [
    "sigma = dI * 10\n",
    "def rho_0(I):\n",
    "    return np.exp(-0.5 * (I - I_0)**2/sigma**2) / (sigma*np.sqrt(2*np.pi))"
   ]
  },
  {
   "cell_type": "code",
   "execution_count": 48,
   "id": "0c10d2c0",
   "metadata": {},
   "outputs": [
    {
     "name": "stderr",
     "output_type": "stream",
     "text": [
      "<ipython-input-34-2a33f114efaf>:2: RuntimeWarning: divide by zero encountered in double_scalars\n",
      "  return np.exp(-2*np.power(I_star/I, exponent))\n"
     ]
    }
   ],
   "source": [
    "engine3 = cn.cn_generic(I_min, I_max, rho_0(I_linspace), dt, normed_D_half, normalize=False)"
   ]
  },
  {
   "cell_type": "code",
   "execution_count": 49,
   "id": "8058bab5",
   "metadata": {},
   "outputs": [],
   "source": [
    "times, current3 = engine3.current(2000, 100)"
   ]
  },
  {
   "cell_type": "code",
   "execution_count": 50,
   "id": "82101230",
   "metadata": {},
   "outputs": [
    {
     "data": {
      "application/vnd.jupyter.widget-view+json": {
       "model_id": "",
       "version_major": 2,
       "version_minor": 0
      },
      "text/plain": [
       "  0%|          | 0/2000 [00:00<?, ?it/s]"
      ]
     },
     "metadata": {},
     "output_type": "display_data"
    }
   ],
   "source": [
    "analytic_current = [current_point(t, I_0) for t in tqdm(times)]"
   ]
  },
  {
   "cell_type": "code",
   "execution_count": 51,
   "id": "4b4895a0",
   "metadata": {},
   "outputs": [
    {
     "data": {
      "text/plain": [
       "(0.01, 80.48680998373588)"
      ]
     },
     "execution_count": 51,
     "metadata": {},
     "output_type": "execute_result"
    }
   ],
   "source": [
    "plt.figure()\n",
    "plt.plot(times, current1)\n",
    "plt.plot(times, current2)\n",
    "plt.plot(times, current3)\n",
    "plt.plot(times, analytic_current)\n",
    "plt.yscale(\"log\")\n",
    "plt.ylim(bottom=1e-2)"
   ]
  },
  {
   "cell_type": "code",
   "execution_count": 52,
   "id": "2e431474",
   "metadata": {},
   "outputs": [
    {
     "data": {
      "text/plain": [
       "[<matplotlib.lines.Line2D at 0x7fc79944dbb0>]"
      ]
     },
     "execution_count": 52,
     "metadata": {},
     "output_type": "execute_result"
    }
   ],
   "source": [
    "plt.figure()\n",
    "#plt.plot(I_linspace, rho_0(I_linspace))\n",
    "data1 = engine1.get_data_with_x()\n",
    "plt.plot(data1[0], data1[1])\n",
    "data2 = engine2.get_data_with_x()\n",
    "plt.plot(data2[0], data2[1])\n",
    "data3 = engine3.get_data_with_x()\n",
    "plt.plot(data3[0], data3[1])"
   ]
  },
  {
   "cell_type": "code",
   "execution_count": 53,
   "id": "9c70c1f1",
   "metadata": {},
   "outputs": [
    {
     "data": {
      "text/plain": [
       "[<matplotlib.lines.Line2D at 0x7fc79a8e1100>]"
      ]
     },
     "execution_count": 53,
     "metadata": {},
     "output_type": "execute_result"
    }
   ],
   "source": [
    "plt.figure()\n",
    "plt.plot(data1[0], np.absolute(data1[1] - data3[1]))"
   ]
  },
  {
   "cell_type": "markdown",
   "id": "befed8f1",
   "metadata": {},
   "source": [
    "## Rest of the things..."
   ]
  },
  {
   "cell_type": "code",
   "execution_count": 54,
   "id": "bf554bd2",
   "metadata": {},
   "outputs": [],
   "source": [
    "def rho_0(I):\n",
    "    return 1 / (1 + np.exp((I-I_0)/l))"
   ]
  },
  {
   "cell_type": "code",
   "execution_count": 55,
   "id": "a4198b01",
   "metadata": {},
   "outputs": [
    {
     "name": "stderr",
     "output_type": "stream",
     "text": [
      "<ipython-input-34-2a33f114efaf>:2: RuntimeWarning: divide by zero encountered in double_scalars\n",
      "  return np.exp(-2*np.power(I_star/I, exponent))\n"
     ]
    }
   ],
   "source": [
    "dt = 0.00001\n",
    "engine = cn.cn_generic(I_min, I_max, rho_0(I_linspace), dt, normed_D_half, normalize=False)"
   ]
  },
  {
   "cell_type": "code",
   "execution_count": 56,
   "id": "e4ebb33e",
   "metadata": {},
   "outputs": [],
   "source": [
    "times, current = engine.current(200, 100)"
   ]
  },
  {
   "cell_type": "code",
   "execution_count": 57,
   "id": "19b4c619",
   "metadata": {},
   "outputs": [
    {
     "data": {
      "text/plain": [
       "[<matplotlib.lines.Line2D at 0x7fc799458a90>]"
      ]
     },
     "execution_count": 57,
     "metadata": {},
     "output_type": "execute_result"
    }
   ],
   "source": [
    "plt.figure()\n",
    "plt.plot(times, current)\n",
    "#plt.plot(times, current_full)\n",
    "plt.plot(times, current_general(times, I_0, 3.0))\n",
    "#plt.plot(times, current_general(times, I_0, 0.0))"
   ]
  },
  {
   "cell_type": "code",
   "execution_count": 58,
   "id": "9d8a6fdb",
   "metadata": {},
   "outputs": [],
   "source": [
    "plt.figure()\n",
    "plt.plot(times, np.absolute((current - current_general(times, I_0, 3.0))/current))\n",
    "plt.yscale(\"log\")"
   ]
  },
  {
   "cell_type": "code",
   "execution_count": 59,
   "id": "40be7285",
   "metadata": {},
   "outputs": [],
   "source": [
    "popt, pcov = scipy.optimize.curve_fit(\n",
    "    lambda x, k: current_general(x, I_0, 3.0, k),\n",
    "    times,\n",
    "    current,\n",
    "    p0=1.0\n",
    ")"
   ]
  },
  {
   "cell_type": "code",
   "execution_count": 60,
   "id": "db1ed4ad",
   "metadata": {},
   "outputs": [
    {
     "name": "stdout",
     "output_type": "stream",
     "text": [
      "[1.02631849]\n"
     ]
    }
   ],
   "source": [
    "print(popt)"
   ]
  },
  {
   "cell_type": "code",
   "execution_count": 61,
   "id": "9ca66669",
   "metadata": {},
   "outputs": [
    {
     "name": "stdout",
     "output_type": "stream",
     "text": [
      "[1.02631849]\n"
     ]
    }
   ],
   "source": [
    "print(popt)"
   ]
  },
  {
   "cell_type": "code",
   "execution_count": 76,
   "id": "679aabae",
   "metadata": {},
   "outputs": [
    {
     "data": {
      "application/vnd.jupyter.widget-view+json": {
       "model_id": "",
       "version_major": 2,
       "version_minor": 0
      },
      "text/plain": [
       "Canvas(toolbar=Toolbar(toolitems=[('Home', 'Reset original view', 'home', 'home'), ('Back', 'Back to previous …"
      ]
     },
     "metadata": {},
     "output_type": "display_data"
    },
    {
     "data": {
      "text/plain": [
       "[<matplotlib.lines.Line2D at 0x7fc79283dd30>]"
      ]
     },
     "execution_count": 76,
     "metadata": {},
     "output_type": "execute_result"
    }
   ],
   "source": [
    "plt.figure()\n",
    "plt.plot(times, current)\n",
    "#plt.plot(times, current_full)\n",
    "plt.plot(times, current_general(times, I_0, 3.0, scale=1.0))\n",
    "plt.plot(times, current_general(times, I_0, 3.0, scale=popt[0]))\n",
    "#plt.plot(times, current_general(times, I_0, 0.0))"
   ]
  },
  {
   "cell_type": "code",
   "execution_count": 77,
   "id": "156a5c48",
   "metadata": {},
   "outputs": [
    {
     "data": {
      "application/vnd.jupyter.widget-view+json": {
       "model_id": "",
       "version_major": 2,
       "version_minor": 0
      },
      "text/plain": [
       "Canvas(toolbar=Toolbar(toolitems=[('Home', 'Reset original view', 'home', 'home'), ('Back', 'Back to previous …"
      ]
     },
     "metadata": {},
     "output_type": "display_data"
    },
    {
     "data": {
      "text/plain": [
       "[<matplotlib.lines.Line2D at 0x7fc792e61dc0>]"
      ]
     },
     "execution_count": 77,
     "metadata": {},
     "output_type": "execute_result"
    }
   ],
   "source": [
    "data = engine.get_data_with_x()\n",
    "plt.figure()\n",
    "plt.plot(data[0], data[1])"
   ]
  },
  {
   "cell_type": "code",
   "execution_count": 78,
   "id": "b4c1e246",
   "metadata": {},
   "outputs": [],
   "source": [
    "def advanced_nu(I):\n",
    "    return scipy.integrate.quad(nu, I, I_max)[0]/(I_max - I)\n",
    "\n",
    "def advanced_nu_2(I):\n",
    "    return scipy.integrate.quad(nu, I, I_max)[0]/(I_max - I)"
   ]
  },
  {
   "cell_type": "code",
   "execution_count": 79,
   "id": "8b191c59",
   "metadata": {},
   "outputs": [
    {
     "data": {
      "application/vnd.jupyter.widget-view+json": {
       "model_id": "",
       "version_major": 2,
       "version_minor": 0
      },
      "text/plain": [
       "Canvas(toolbar=Toolbar(toolitems=[('Home', 'Reset original view', 'home', 'home'), ('Back', 'Back to previous …"
      ]
     },
     "metadata": {},
     "output_type": "display_data"
    },
    {
     "data": {
      "application/vnd.jupyter.widget-view+json": {
       "model_id": "",
       "version_major": 2,
       "version_minor": 0
      },
      "text/plain": [
       "  0%|          | 0/50 [00:00<?, ?it/s]"
      ]
     },
     "metadata": {},
     "output_type": "display_data"
    },
    {
     "data": {
      "application/vnd.jupyter.widget-view+json": {
       "model_id": "",
       "version_major": 2,
       "version_minor": 0
      },
      "text/plain": [
       "  0%|          | 0/50 [00:00<?, ?it/s]"
      ]
     },
     "metadata": {},
     "output_type": "display_data"
    },
    {
     "data": {
      "text/plain": [
       "[<matplotlib.lines.Line2D at 0x7fc792a60460>]"
      ]
     },
     "execution_count": 79,
     "metadata": {},
     "output_type": "execute_result"
    }
   ],
   "source": [
    "test_I = np.linspace(4,4.99)\n",
    "plt.figure()\n",
    "plt.plot(test_I, [nu(I) for I in tqdm(test_I)])\n",
    "plt.plot(test_I, [advanced_nu(I) for I in tqdm(test_I)])"
   ]
  },
  {
   "cell_type": "code",
   "execution_count": 80,
   "id": "18889a79",
   "metadata": {},
   "outputs": [],
   "source": [
    "def current_point_advanced(t, I):\n",
    "    if t == 0:\n",
    "        return 0.0\n",
    "    return -x(I) / (t * np.sqrt(2*np.pi*t)) * np.exp(-(x(I)+((advanced_nu(I)/2)*t))**2/(2*t))"
   ]
  },
  {
   "cell_type": "code",
   "execution_count": 81,
   "id": "6e611508",
   "metadata": {},
   "outputs": [],
   "source": [
    "def current_general_advanced(t, I, I_int_min):\n",
    "    return [scipy.integrate.quad(lambda x: current_point_advanced(a_t, x), I_int_min, I)[0] for a_t in tqdm(t)]"
   ]
  },
  {
   "cell_type": "code",
   "execution_count": 75,
   "id": "76c4506c",
   "metadata": {},
   "outputs": [
    {
     "data": {
      "application/vnd.jupyter.widget-view+json": {
       "model_id": "",
       "version_major": 2,
       "version_minor": 0
      },
      "text/plain": [
       "Canvas(toolbar=Toolbar(toolitems=[('Home', 'Reset original view', 'home', 'home'), ('Back', 'Back to previous …"
      ]
     },
     "metadata": {},
     "output_type": "display_data"
    },
    {
     "data": {
      "application/vnd.jupyter.widget-view+json": {
       "model_id": "",
       "version_major": 2,
       "version_minor": 0
      },
      "text/plain": [
       "  0%|          | 0/200 [00:00<?, ?it/s]"
      ]
     },
     "metadata": {},
     "output_type": "display_data"
    },
    {
     "data": {
      "text/plain": [
       "[<matplotlib.lines.Line2D at 0x7fc79292d190>]"
      ]
     },
     "execution_count": 75,
     "metadata": {},
     "output_type": "execute_result"
    }
   ],
   "source": [
    "plt.figure()\n",
    "plt.plot(times, current)\n",
    "plt.plot(times, current_general(times, I_0, 3.0))\n",
    "plt.plot(times, current_general_advanced(times, I_0, 3.0))"
   ]
  },
  {
   "cell_type": "code",
   "execution_count": null,
   "id": "bb71b174",
   "metadata": {},
   "outputs": [],
   "source": []
  }
 ],
 "metadata": {
  "kernelspec": {
   "display_name": "Python 3",
   "language": "python",
   "name": "python3"
  },
  "language_info": {
   "codemirror_mode": {
    "name": "ipython",
    "version": 3
   },
   "file_extension": ".py",
   "mimetype": "text/x-python",
   "name": "python",
   "nbconvert_exporter": "python",
   "pygments_lexer": "ipython3",
   "version": "3.8.8"
  }
 },
 "nbformat": 4,
 "nbformat_minor": 5
}
