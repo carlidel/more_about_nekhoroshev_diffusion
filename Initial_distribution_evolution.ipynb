{
 "cells": [
  {
   "cell_type": "markdown",
   "id": "54b0ac4d-8ec1-4715-9059-996bcf439daf",
   "metadata": {},
   "source": [
    "# Initial distribution evolution and immutable osservables"
   ]
  },
  {
   "cell_type": "markdown",
   "id": "e479be9c-f226-4785-8f56-a1de46ef4ad4",
   "metadata": {},
   "source": [
    "**Are we in SWAN?**"
   ]
  },
  {
   "cell_type": "code",
   "execution_count": null,
   "id": "260a54ec-46d9-4229-8944-57ade0ea5a70",
   "metadata": {},
   "outputs": [],
   "source": [
    "%pip install --user crank-nicolson-numba\n",
    "%pip install --user joblib\n",
    "%pip install --user lmfit\n",
    "%pip install --user tqdm"
   ]
  },
  {
   "cell_type": "markdown",
   "id": "4a6bec0f-e8f3-4cff-8cdd-dd10e57b8ab8",
   "metadata": {},
   "source": [
    "**Do we want the matplotlib interactive magicness?**"
   ]
  },
  {
   "cell_type": "code",
   "execution_count": 1,
   "id": "fa25e7fe-1aa2-4a91-a5fa-b5f25a4225a3",
   "metadata": {},
   "outputs": [],
   "source": [
    "%matplotlib widget"
   ]
  },
  {
   "cell_type": "markdown",
   "id": "7eee7321-9283-4fdc-865a-e3eab1e7f4f6",
   "metadata": {},
   "source": [
    "**Library Import**"
   ]
  },
  {
   "cell_type": "code",
   "execution_count": 2,
   "id": "94e27ce0-cc43-4500-9d6e-769bb2a1a4b7",
   "metadata": {},
   "outputs": [],
   "source": [
    "N_JOBS = 4"
   ]
  },
  {
   "cell_type": "code",
   "execution_count": 3,
   "id": "1032e9ae-b7bd-40b3-a4b0-aa52685b95aa",
   "metadata": {},
   "outputs": [],
   "source": [
    "import numpy as np\n",
    "import matplotlib.pyplot as plt\n",
    "import scipy\n",
    "import scipy.integrate\n",
    "from tqdm.notebook import tqdm\n",
    "import crank_nicolson_numba.generic as cn\n",
    "import itertools\n",
    "# For parallelization\n",
    "from joblib import Parallel, delayed\n",
    "\n",
    "import nekhoroshev_tools as nt\n",
    "import expo_tools as et\n",
    "import poly_tools as pt\n",
    "\n",
    "from lmfit import minimize, Parameters\n"
   ]
  },
  {
   "cell_type": "markdown",
   "id": "1cfd15f2-3f46-41c8-8b3f-8cb4c7fca106",
   "metadata": {},
   "source": [
    "# Exponential distribution evolution"
   ]
  },
  {
   "cell_type": "code",
   "execution_count": 4,
   "id": "5f55153d-7457-4830-ae77-702b28ba7324",
   "metadata": {},
   "outputs": [],
   "source": [
    "def rho_0(I, damping_position=np.nan, l=np.nan):\n",
    "    if np.isnan(damping_position) or np.isnan(l):\n",
    "        return np.exp(-I)\n",
    "    else:\n",
    "        return np.exp(-I) / (1 + np.exp((I - damping_position)/l))"
   ]
  },
  {
   "cell_type": "code",
   "execution_count": 5,
   "id": "80dc9dd2-b036-4fe0-a769-1de98220f94e",
   "metadata": {},
   "outputs": [],
   "source": [
    "cn_sampling = 50000\n",
    "cn_time_steps = 100"
   ]
  },
  {
   "cell_type": "code",
   "execution_count": 6,
   "id": "e53fabd4-85d9-40fc-a249-86317700d92b",
   "metadata": {},
   "outputs": [],
   "source": [
    "I_max = 5.0\n",
    "I_0 = 4.8\n",
    "\n",
    "I_star = 10.0\n",
    "k = 0.33\n",
    "exponent = 1/(2*k)\n",
    "\n",
    "I_list, dI = np.linspace(0.0, I_max, cn_sampling, retstep=True)\n",
    "\n",
    "I_0_index = np.argmin(np.absolute(I_list-I_0))"
   ]
  },
  {
   "cell_type": "code",
   "execution_count": 7,
   "id": "43707397-3934-47dc-9b10-e24ce650751b",
   "metadata": {},
   "outputs": [],
   "source": [
    "popt_0, pcov_0 = scipy.optimize.curve_fit(\n",
    "    lambda x, k: np.exp(-k*x),\n",
    "    I_list[:I_0_index],\n",
    "    rho_0(I_list[:I_0_index], I_0, dI*5)\n",
    ")"
   ]
  },
  {
   "cell_type": "code",
   "execution_count": 8,
   "id": "19c25f1c-8a07-4e75-bdb1-ad7b849ee4dc",
   "metadata": {},
   "outputs": [
    {
     "data": {
      "application/vnd.jupyter.widget-view+json": {
       "model_id": "14fb78e49c724ab6ad6e60d0d490d3db",
       "version_major": 2,
       "version_minor": 0
      },
      "text/plain": [
       "Canvas(toolbar=Toolbar(toolitems=[('Home', 'Reset original view', 'home', 'home'), ('Back', 'Back to previous …"
      ]
     },
     "metadata": {},
     "output_type": "display_data"
    },
    {
     "data": {
      "text/plain": [
       "Text(0.5, 1.0, 'Initial distribution and (obvious) fit')"
      ]
     },
     "execution_count": 8,
     "metadata": {},
     "output_type": "execute_result"
    }
   ],
   "source": [
    "plt.figure()\n",
    "plt.plot(I_list, rho_0(I_list, I_0, dI*5), label=\"Initial distribution\")\n",
    "plt.plot(I_list[:I_0_index], np.exp(-popt_0[0] * I_list[:I_0_index]), label=\"Exp fit until $I_0$, $\\epsilon$={:.2}\".format(popt_0[0]))\n",
    "plt.legend()\n",
    "plt.xlabel(\"$I$\")\n",
    "plt.ylabel(\"$\\\\rho$\")\n",
    "plt.title(\"Initial distribution and (obvious) fit\")"
   ]
  },
  {
   "cell_type": "code",
   "execution_count": 9,
   "id": "45167dc1-cf8f-4cb6-bfe0-064a474a3f49",
   "metadata": {},
   "outputs": [
    {
     "data": {
      "application/vnd.jupyter.widget-view+json": {
       "model_id": "f334472dbf044993bc0971aaca6858c5",
       "version_major": 2,
       "version_minor": 0
      },
      "text/plain": [
       "Canvas(toolbar=Toolbar(toolitems=[('Home', 'Reset original view', 'home', 'home'), ('Back', 'Back to previous …"
      ]
     },
     "metadata": {},
     "output_type": "display_data"
    },
    {
     "data": {
      "text/plain": [
       "Text(0.5, 1.0, 'Initial distribution and (obvious) fit')"
      ]
     },
     "execution_count": 9,
     "metadata": {},
     "output_type": "execute_result"
    }
   ],
   "source": [
    "plt.figure()\n",
    "plt.plot(I_list[:I_0_index], rho_0(I_list, I_0, dI*5)[:I_0_index], label=\"Initial distribution\")\n",
    "plt.plot(I_list[:I_0_index], np.exp(-popt_0[0] * I_list[:I_0_index]), label=\"Exp fit until $I_0$, $\\epsilon$={:.2}\".format(popt_0[0]))\n",
    "plt.legend()\n",
    "plt.xlabel(\"$I$\")\n",
    "plt.ylabel(\"$\\\\rho$\")\n",
    "plt.yscale(\"log\")\n",
    "plt.title(\"Initial distribution and (obvious) fit\")"
   ]
  },
  {
   "cell_type": "code",
   "execution_count": 10,
   "id": "41d098bd-7ad5-4576-ba06-ef98d8b27086",
   "metadata": {},
   "outputs": [
    {
     "name": "stderr",
     "output_type": "stream",
     "text": [
      "/home/camontan/Insync/carlo.montanari3@studio.unibo.it/OneDrive_Biz/projects/new_games_with_diffusion/nekhoroshev_tools.py:37: RuntimeWarning: divide by zero encountered in double_scalars\n",
      "  return c * np.exp(-2*np.power(I_star/I, exponent)) * (0.5 if halved else 1.0)\n"
     ]
    }
   ],
   "source": [
    "c_nek = nt.standard_c(0.0, I_max, I_star, exponent)\n",
    "dt_nek = nt.current_peak_time(I_0, I_max, I_star, exponent, c_nek)/cn_time_steps\n",
    "engine_nek = cn.cn_generic(\n",
    "    0, I_max,\n",
    "    rho_0(I_list, I_0, dI*5),\n",
    "    dt_nek,\n",
    "    lambda x: nt.D(x, I_star, exponent, c_nek, True)\n",
    ")"
   ]
  },
  {
   "cell_type": "code",
   "execution_count": 11,
   "id": "338f9e08-69a4-479f-904d-73c758c4f29c",
   "metadata": {},
   "outputs": [
    {
     "data": {
      "application/vnd.jupyter.widget-view+json": {
       "model_id": "4f0bc244a51242dda0d6a4cae8dceb3b",
       "version_major": 2,
       "version_minor": 0
      },
      "text/plain": [
       "  0%|          | 0/100 [00:00<?, ?it/s]"
      ]
     },
     "metadata": {},
     "output_type": "display_data"
    }
   ],
   "source": [
    "data = []\n",
    "time = []\n",
    "fit_data = []\n",
    "fit_data_log = []\n",
    "\n",
    "engine_nek.reset()\n",
    "\n",
    "data.append(engine_nek.get_data())\n",
    "popt, pcov = scipy.optimize.curve_fit(\n",
    "    lambda x, k: np.exp(-k*x),\n",
    "    I_list[:I_0_index],\n",
    "    data[-1][:I_0_index]\n",
    ")\n",
    "fit_data.append((popt, pcov))\n",
    "for i in tqdm(range(cn_time_steps)):\n",
    "    engine_nek.iterate(1000)\n",
    "    data.append(engine_nek.get_data())\n",
    "    popt, pcov = scipy.optimize.curve_fit(\n",
    "        lambda x, k: (np.exp(-k*x)),\n",
    "        I_list[:I_0_index],\n",
    "        (data[-1][:I_0_index])\n",
    "    )\n",
    "    fit_data.append((popt, pcov))\n",
    "    popt, pcov = scipy.optimize.curve_fit(\n",
    "        lambda x, k: np.log(np.exp(-k*x)),\n",
    "        I_list[:I_0_index],\n",
    "        np.log(data[-1][:I_0_index])\n",
    "    )\n",
    "    fit_data_log.append((popt, pcov))"
   ]
  },
  {
   "cell_type": "code",
   "execution_count": 12,
   "id": "79ca12b7-66d7-4d62-86db-ff774736b2d9",
   "metadata": {},
   "outputs": [
    {
     "data": {
      "application/vnd.jupyter.widget-view+json": {
       "model_id": "b063611adc6e412da225318200398637",
       "version_major": 2,
       "version_minor": 0
      },
      "text/plain": [
       "Canvas(toolbar=Toolbar(toolitems=[('Home', 'Reset original view', 'home', 'home'), ('Back', 'Back to previous …"
      ]
     },
     "metadata": {},
     "output_type": "display_data"
    },
    {
     "data": {
      "text/plain": [
       "[<matplotlib.lines.Line2D at 0x7f038197f940>]"
      ]
     },
     "execution_count": 12,
     "metadata": {},
     "output_type": "execute_result"
    }
   ],
   "source": [
    "plt.figure()\n",
    "plt.plot([p[0] for p in fit_data])\n",
    "#plt.plot([p[0] for p in fit_data_log])"
   ]
  },
  {
   "cell_type": "code",
   "execution_count": 13,
   "id": "3a291dce-27d5-4015-9112-7dedf18a227f",
   "metadata": {},
   "outputs": [
    {
     "data": {
      "application/vnd.jupyter.widget-view+json": {
       "model_id": "6ef75934e3be494aa18ae4020e28ef3d",
       "version_major": 2,
       "version_minor": 0
      },
      "text/plain": [
       "Canvas(toolbar=Toolbar(toolitems=[('Home', 'Reset original view', 'home', 'home'), ('Back', 'Back to previous …"
      ]
     },
     "metadata": {},
     "output_type": "display_data"
    },
    {
     "data": {
      "text/plain": [
       "[<matplotlib.lines.Line2D at 0x7f03815f6520>]"
      ]
     },
     "execution_count": 13,
     "metadata": {},
     "output_type": "execute_result"
    }
   ],
   "source": [
    "plt.figure()\n",
    "plt.plot(I_list[:I_0_index], data[0][:I_0_index])\n",
    "plt.plot(I_list[:I_0_index], np.exp(-fit_data[0][0] * I_list[:I_0_index]))\n",
    "plt.plot(I_list[:I_0_index], data[-1][:I_0_index])\n",
    "plt.plot(I_list[:I_0_index], np.exp(-fit_data[-1][0] * I_list[:I_0_index]))\n",
    "#plt.plot(I_list[:I_0_index], np.exp(-fit_data_log[-1][0] * I_list[:I_0_index]))\n",
    "#plt.yscale(\"log\")"
   ]
  },
  {
   "cell_type": "code",
   "execution_count": 14,
   "id": "8ddc1864-73b0-47c3-a787-807f67d7c769",
   "metadata": {},
   "outputs": [
    {
     "data": {
      "application/vnd.jupyter.widget-view+json": {
       "model_id": "bab3c4702209411b9f8b1d6358f9b620",
       "version_major": 2,
       "version_minor": 0
      },
      "text/plain": [
       "Canvas(toolbar=Toolbar(toolitems=[('Home', 'Reset original view', 'home', 'home'), ('Back', 'Back to previous …"
      ]
     },
     "metadata": {},
     "output_type": "display_data"
    }
   ],
   "source": [
    "plt.figure()\n",
    "plt.plot(I_list[:I_0_index], data[0][:I_0_index])\n",
    "plt.plot(I_list[:I_0_index], np.exp(-fit_data[0][0] * I_list[:I_0_index]))\n",
    "plt.plot(I_list[:I_0_index], data[-1][:I_0_index])\n",
    "plt.plot(I_list[:I_0_index], np.exp(-fit_data[-1][0] * I_list[:I_0_index]))\n",
    "#plt.plot(I_list[:I_0_index], np.exp(-fit_data_log[-1][0] * I_list[:I_0_index]))\n",
    "plt.yscale(\"log\")"
   ]
  },
  {
   "cell_type": "code",
   "execution_count": 15,
   "id": "9db1c8b0-380b-4e29-bf8c-cdecdd3119f3",
   "metadata": {},
   "outputs": [
    {
     "data": {
      "text/plain": [
       "array([1.00000042])"
      ]
     },
     "execution_count": 15,
     "metadata": {},
     "output_type": "execute_result"
    }
   ],
   "source": [
    "popt_0"
   ]
  },
  {
   "cell_type": "code",
   "execution_count": 16,
   "id": "ab564219-50b5-46bf-9fa2-4c8bfa83af8d",
   "metadata": {},
   "outputs": [],
   "source": [
    "I_max = 5.0\n",
    "I_0 = 4.8\n",
    "\n",
    "I_star = 6.0\n",
    "k = 0.33\n",
    "exponent = 1/(2*k)\n",
    "\n",
    "I_list, dI = np.linspace(0.0, I_max, cn_sampling, retstep=True)\n",
    "\n",
    "I_0_index = np.argmin(np.absolute(I_list-I_0))"
   ]
  },
  {
   "cell_type": "code",
   "execution_count": 17,
   "id": "803e140d-5c43-43c7-a4f9-f1c7e96d7c70",
   "metadata": {},
   "outputs": [],
   "source": [
    "popt_0, pcov_0 = scipy.optimize.curve_fit(\n",
    "    lambda x, k: np.exp(-k*x),\n",
    "    I_list[:I_0_index],\n",
    "    rho_0(I_list[:I_0_index], I_0, dI*5)\n",
    ")"
   ]
  },
  {
   "cell_type": "code",
   "execution_count": 18,
   "id": "5e855d9f-fdaf-4945-97fe-d57f0c583add",
   "metadata": {},
   "outputs": [
    {
     "data": {
      "application/vnd.jupyter.widget-view+json": {
       "model_id": "b63be6bf8f73496b80e52020e1f6522c",
       "version_major": 2,
       "version_minor": 0
      },
      "text/plain": [
       "Canvas(toolbar=Toolbar(toolitems=[('Home', 'Reset original view', 'home', 'home'), ('Back', 'Back to previous …"
      ]
     },
     "metadata": {},
     "output_type": "display_data"
    },
    {
     "data": {
      "text/plain": [
       "<matplotlib.legend.Legend at 0x7f0381751c10>"
      ]
     },
     "execution_count": 18,
     "metadata": {},
     "output_type": "execute_result"
    }
   ],
   "source": [
    "plt.figure()\n",
    "plt.plot(I_list, rho_0(I_list, I_0, dI*5), label=\"Initial distribution\")\n",
    "plt.plot(I_list[:I_0_index], np.exp(-popt_0[0] * I_list[:I_0_index]), label=\"Exp fit until $I_0$, $\\epsilon$={:.2}\".format(popt_0[0]))\n",
    "plt.legend()"
   ]
  },
  {
   "cell_type": "code",
   "execution_count": 19,
   "id": "4970388a-772e-4bc8-9a15-17c7e28a1b25",
   "metadata": {},
   "outputs": [
    {
     "name": "stderr",
     "output_type": "stream",
     "text": [
      "/home/camontan/Insync/carlo.montanari3@studio.unibo.it/OneDrive_Biz/projects/new_games_with_diffusion/nekhoroshev_tools.py:37: RuntimeWarning: divide by zero encountered in double_scalars\n",
      "  return c * np.exp(-2*np.power(I_star/I, exponent)) * (0.5 if halved else 1.0)\n"
     ]
    }
   ],
   "source": [
    "c_nek = nt.standard_c(0.0, I_max, I_star, exponent)\n",
    "dt_nek = nt.current_peak_time(I_0, I_max, I_star, exponent, c_nek)/cn_time_steps\n",
    "engine_nek = cn.cn_generic(\n",
    "    0, I_max,\n",
    "    rho_0(I_list, I_0, dI*5),\n",
    "    dt_nek,\n",
    "    lambda x: nt.D(x, I_star, exponent, c_nek, True)\n",
    ")"
   ]
  },
  {
   "cell_type": "code",
   "execution_count": 20,
   "id": "bdcc89c5-1af6-4325-8393-e77aa7dfe170",
   "metadata": {},
   "outputs": [
    {
     "data": {
      "application/vnd.jupyter.widget-view+json": {
       "model_id": "2ea24a0b9c994cfd9e60507179e058b9",
       "version_major": 2,
       "version_minor": 0
      },
      "text/plain": [
       "  0%|          | 0/100 [00:00<?, ?it/s]"
      ]
     },
     "metadata": {},
     "output_type": "display_data"
    }
   ],
   "source": [
    "data = []\n",
    "fit_data = []\n",
    "\n",
    "engine_nek.reset()\n",
    "\n",
    "data.append(engine_nek.get_data())\n",
    "popt, pcov = scipy.optimize.curve_fit(\n",
    "    lambda x, k: np.exp(-k*x),\n",
    "    I_list[:I_0_index],\n",
    "    data[-1][:I_0_index]\n",
    ")\n",
    "fit_data.append((popt, pcov))\n",
    "    \n",
    "for i in tqdm(range(cn_time_steps)):\n",
    "    engine_nek.iterate(1000)\n",
    "    data.append(engine_nek.get_data())\n",
    "    popt, pcov = scipy.optimize.curve_fit(\n",
    "        lambda x, k: np.log(np.exp(-k*x)),\n",
    "        I_list[:I_0_index],\n",
    "        np.log(data[-1][:I_0_index])\n",
    "    )\n",
    "    fit_data.append((popt, pcov))"
   ]
  },
  {
   "cell_type": "code",
   "execution_count": 21,
   "id": "24afab9c-82f9-408f-bbec-e2e5a9a150b4",
   "metadata": {},
   "outputs": [
    {
     "data": {
      "application/vnd.jupyter.widget-view+json": {
       "model_id": "b549a1c56b164d00bfa66e4e04521371",
       "version_major": 2,
       "version_minor": 0
      },
      "text/plain": [
       "Canvas(toolbar=Toolbar(toolitems=[('Home', 'Reset original view', 'home', 'home'), ('Back', 'Back to previous …"
      ]
     },
     "metadata": {},
     "output_type": "display_data"
    },
    {
     "data": {
      "text/plain": [
       "[<matplotlib.lines.Line2D at 0x7f0381a8bfa0>]"
      ]
     },
     "execution_count": 21,
     "metadata": {},
     "output_type": "execute_result"
    }
   ],
   "source": [
    "plt.figure()\n",
    "plt.plot([p[0] for p in fit_data])"
   ]
  },
  {
   "cell_type": "code",
   "execution_count": 22,
   "id": "6800f905-3c0a-4b88-a511-4b129eec578f",
   "metadata": {},
   "outputs": [
    {
     "data": {
      "application/vnd.jupyter.widget-view+json": {
       "model_id": "6943906150854855a9627a5258b1c84c",
       "version_major": 2,
       "version_minor": 0
      },
      "text/plain": [
       "Canvas(toolbar=Toolbar(toolitems=[('Home', 'Reset original view', 'home', 'home'), ('Back', 'Back to previous …"
      ]
     },
     "metadata": {},
     "output_type": "display_data"
    }
   ],
   "source": [
    "plt.figure()\n",
    "plt.plot(I_list[:I_0_index], data[0][:I_0_index])\n",
    "plt.plot(I_list[:I_0_index], np.exp(-fit_data[0][0] * I_list[:I_0_index]))\n",
    "plt.plot(I_list[:I_0_index], data[-1][:I_0_index])\n",
    "plt.plot(I_list[:I_0_index], np.exp(-fit_data[-1][0] * I_list[:I_0_index]))\n",
    "plt.yscale(\"log\")"
   ]
  },
  {
   "cell_type": "code",
   "execution_count": 23,
   "id": "605b38bf-a260-42af-ba0c-52d7e037730c",
   "metadata": {},
   "outputs": [
    {
     "data": {
      "text/plain": [
       "array([1.00000042])"
      ]
     },
     "execution_count": 23,
     "metadata": {},
     "output_type": "execute_result"
    }
   ],
   "source": [
    "popt_0"
   ]
  },
  {
   "cell_type": "code",
   "execution_count": null,
   "id": "55b96043-e4ed-4725-b5f5-219ef297355f",
   "metadata": {},
   "outputs": [],
   "source": []
  }
 ],
 "metadata": {
  "kernelspec": {
   "display_name": "Python 3",
   "language": "python",
   "name": "python3"
  },
  "language_info": {
   "codemirror_mode": {
    "name": "ipython",
    "version": 3
   },
   "file_extension": ".py",
   "mimetype": "text/x-python",
   "name": "python",
   "nbconvert_exporter": "python",
   "pygments_lexer": "ipython3",
   "version": "3.8.8"
  }
 },
 "nbformat": 4,
 "nbformat_minor": 5
}
