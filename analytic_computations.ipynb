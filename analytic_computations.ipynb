{
 "cells": [
  {
   "cell_type": "code",
   "execution_count": 1,
   "id": "2c128027",
   "metadata": {},
   "outputs": [],
   "source": [
    "from sympy import *"
   ]
  },
  {
   "cell_type": "code",
   "execution_count": 2,
   "id": "1a4fe33b",
   "metadata": {},
   "outputs": [],
   "source": [
    "x = symbols(\"x\", real=True)\n",
    "t = symbols(\"t\", real=True, nonnegative=True)\n",
    "nu = symbols(\"nu\", real=True, nonnegative=True)\n",
    "\n",
    "\n",
    "I_star, kappa, I, c, I_a, I_prime = symbols(\"I_* kappa I c I_a I'\", nonnegative=True, real=True)"
   ]
  },
  {
   "cell_type": "code",
   "execution_count": 3,
   "id": "5485e82a",
   "metadata": {},
   "outputs": [
    {
     "data": {
      "text/latex": [
       "$\\displaystyle - \\frac{\\sqrt{2} x e^{- \\frac{\\left(\\frac{\\nu t}{2} + x\\right)^{2}}{2 t}}}{2 \\sqrt{\\pi} t^{\\frac{3}{2}}}$"
      ],
      "text/plain": [
       "-sqrt(2)*x*exp(-(nu*t/2 + x)**2/(2*t))/(2*sqrt(pi)*t**(3/2))"
      ]
     },
     "execution_count": 3,
     "metadata": {},
     "output_type": "execute_result"
    }
   ],
   "source": [
    "current_equation = -(x/(t*sqrt(2*pi*t))) * exp(-(x+(nu/2)*t)**2/(2*t))\n",
    "current_equation"
   ]
  },
  {
   "cell_type": "code",
   "execution_count": null,
   "id": "adebe1ae",
   "metadata": {},
   "outputs": [],
   "source": []
  },
  {
   "cell_type": "code",
   "execution_count": 4,
   "id": "538e7fff",
   "metadata": {},
   "outputs": [],
   "source": [
    "derivative = diff(\n",
    "    current_equation, t\n",
    ")"
   ]
  },
  {
   "cell_type": "code",
   "execution_count": 5,
   "id": "f608773b",
   "metadata": {},
   "outputs": [
    {
     "data": {
      "text/latex": [
       "$\\displaystyle - \\frac{\\sqrt{2} x \\left(- \\frac{\\nu \\left(\\frac{\\nu t}{2} + x\\right)}{2 t} + \\frac{\\left(\\frac{\\nu t}{2} + x\\right)^{2}}{2 t^{2}}\\right) e^{- \\frac{\\left(\\frac{\\nu t}{2} + x\\right)^{2}}{2 t}}}{2 \\sqrt{\\pi} t^{\\frac{3}{2}}} + \\frac{3 \\sqrt{2} x e^{- \\frac{\\left(\\frac{\\nu t}{2} + x\\right)^{2}}{2 t}}}{4 \\sqrt{\\pi} t^{\\frac{5}{2}}}$"
      ],
      "text/plain": [
       "-sqrt(2)*x*(-nu*(nu*t/2 + x)/(2*t) + (nu*t/2 + x)**2/(2*t**2))*exp(-(nu*t/2 + x)**2/(2*t))/(2*sqrt(pi)*t**(3/2)) + 3*sqrt(2)*x*exp(-(nu*t/2 + x)**2/(2*t))/(4*sqrt(pi)*t**(5/2))"
      ]
     },
     "execution_count": 5,
     "metadata": {},
     "output_type": "execute_result"
    }
   ],
   "source": [
    "derivative"
   ]
  },
  {
   "cell_type": "code",
   "execution_count": 6,
   "id": "e1218ed3",
   "metadata": {},
   "outputs": [
    {
     "name": "stdout",
     "output_type": "stream",
     "text": [
      "-sqrt(2)*x*(-nu*(nu*t/2 + x)/(2*t) + (nu*t/2 + x)**2/(2*t**2))*exp(-(nu*t/2 + x)**2/(2*t))/(2*sqrt(pi)*t**(3/2)) + 3*sqrt(2)*x*exp(-(nu*t/2 + x)**2/(2*t))/(4*sqrt(pi)*t**(5/2))\n"
     ]
    }
   ],
   "source": [
    "print(derivative)"
   ]
  },
  {
   "cell_type": "code",
   "execution_count": 7,
   "id": "7020c983",
   "metadata": {},
   "outputs": [],
   "source": [
    "zero_points = solve(derivative, t)"
   ]
  },
  {
   "cell_type": "code",
   "execution_count": 8,
   "id": "f75888e2",
   "metadata": {},
   "outputs": [
    {
     "data": {
      "text/plain": [
       "2"
      ]
     },
     "execution_count": 8,
     "metadata": {},
     "output_type": "execute_result"
    }
   ],
   "source": [
    "len(zero_points)"
   ]
  },
  {
   "cell_type": "code",
   "execution_count": 91,
   "id": "6cc0b90f",
   "metadata": {},
   "outputs": [
    {
     "data": {
      "text/latex": [
       "$\\displaystyle \\frac{2 \\left(\\sqrt{\\nu^{2} x^{2} + 9} - 3\\right)}{\\nu^{2}}$"
      ],
      "text/plain": [
       "2*(sqrt(nu**2*x**2 + 9) - 3)/nu**2"
      ]
     },
     "execution_count": 91,
     "metadata": {},
     "output_type": "execute_result"
    }
   ],
   "source": [
    "zero_points[0]"
   ]
  },
  {
   "cell_type": "code",
   "execution_count": 92,
   "id": "0f82e36b",
   "metadata": {},
   "outputs": [
    {
     "data": {
      "text/latex": [
       "$\\displaystyle - \\frac{2 \\sqrt{\\nu^{2} x^{2} + 9} + 6}{\\nu^{2}}$"
      ],
      "text/plain": [
       "-(2*sqrt(nu**2*x**2 + 9) + 6)/nu**2"
      ]
     },
     "execution_count": 92,
     "metadata": {},
     "output_type": "execute_result"
    }
   ],
   "source": [
    "zero_points[1]"
   ]
  },
  {
   "cell_type": "code",
   "execution_count": 93,
   "id": "91146745",
   "metadata": {},
   "outputs": [],
   "source": [
    "second_derivative = diff(\n",
    "    derivative, t\n",
    ")"
   ]
  },
  {
   "cell_type": "code",
   "execution_count": 94,
   "id": "78d05fe7",
   "metadata": {},
   "outputs": [
    {
     "data": {
      "text/latex": [
       "$\\displaystyle - \\frac{\\sqrt{2} x \\left(- \\frac{\\nu \\left(\\frac{\\nu t}{2} + x\\right)}{2 t} + \\frac{\\left(\\frac{\\nu t}{2} + x\\right)^{2}}{2 t^{2}}\\right)^{2} e^{- \\frac{\\left(\\frac{\\nu t}{2} + x\\right)^{2}}{2 t}}}{2 \\sqrt{\\pi} t^{\\frac{3}{2}}} - \\frac{\\sqrt{2} x \\left(- \\frac{\\nu^{2}}{4 t} + \\frac{\\nu \\left(\\frac{\\nu t}{2} + x\\right)}{t^{2}} - \\frac{\\left(\\frac{\\nu t}{2} + x\\right)^{2}}{t^{3}}\\right) e^{- \\frac{\\left(\\frac{\\nu t}{2} + x\\right)^{2}}{2 t}}}{2 \\sqrt{\\pi} t^{\\frac{3}{2}}} + \\frac{3 \\sqrt{2} x \\left(- \\frac{\\nu \\left(\\frac{\\nu t}{2} + x\\right)}{2 t} + \\frac{\\left(\\frac{\\nu t}{2} + x\\right)^{2}}{2 t^{2}}\\right) e^{- \\frac{\\left(\\frac{\\nu t}{2} + x\\right)^{2}}{2 t}}}{2 \\sqrt{\\pi} t^{\\frac{5}{2}}} - \\frac{15 \\sqrt{2} x e^{- \\frac{\\left(\\frac{\\nu t}{2} + x\\right)^{2}}{2 t}}}{8 \\sqrt{\\pi} t^{\\frac{7}{2}}}$"
      ],
      "text/plain": [
       "-sqrt(2)*x*(-nu*(nu*t/2 + x)/(2*t) + (nu*t/2 + x)**2/(2*t**2))**2*exp(-(nu*t/2 + x)**2/(2*t))/(2*sqrt(pi)*t**(3/2)) - sqrt(2)*x*(-nu**2/(4*t) + nu*(nu*t/2 + x)/t**2 - (nu*t/2 + x)**2/t**3)*exp(-(nu*t/2 + x)**2/(2*t))/(2*sqrt(pi)*t**(3/2)) + 3*sqrt(2)*x*(-nu*(nu*t/2 + x)/(2*t) + (nu*t/2 + x)**2/(2*t**2))*exp(-(nu*t/2 + x)**2/(2*t))/(2*sqrt(pi)*t**(5/2)) - 15*sqrt(2)*x*exp(-(nu*t/2 + x)**2/(2*t))/(8*sqrt(pi)*t**(7/2))"
      ]
     },
     "execution_count": 94,
     "metadata": {},
     "output_type": "execute_result"
    }
   ],
   "source": [
    "second_derivative"
   ]
  },
  {
   "cell_type": "code",
   "execution_count": 95,
   "id": "66715884",
   "metadata": {},
   "outputs": [],
   "source": [
    "simply_second_derivative = simplify(second_derivative)"
   ]
  },
  {
   "cell_type": "code",
   "execution_count": 96,
   "id": "bf40d3ca",
   "metadata": {},
   "outputs": [
    {
     "data": {
      "text/latex": [
       "$\\displaystyle \\frac{\\sqrt{2} x \\left(- \\nu^{4} t^{4} - 24 \\nu^{2} t^{3} + 8 \\nu^{2} t^{2} x^{2} - 240 t^{2} + 160 t x^{2} - 16 x^{4}\\right) e^{- \\frac{\\nu^{2} t}{8} - \\frac{\\nu x}{2} - \\frac{x^{2}}{2 t}}}{128 \\sqrt{\\pi} t^{\\frac{11}{2}}}$"
      ],
      "text/plain": [
       "sqrt(2)*x*(-nu**4*t**4 - 24*nu**2*t**3 + 8*nu**2*t**2*x**2 - 240*t**2 + 160*t*x**2 - 16*x**4)*exp(-nu**2*t/8 - nu*x/2 - x**2/(2*t))/(128*sqrt(pi)*t**(11/2))"
      ]
     },
     "execution_count": 96,
     "metadata": {},
     "output_type": "execute_result"
    }
   ],
   "source": [
    "simply_second_derivative"
   ]
  },
  {
   "cell_type": "code",
   "execution_count": 68,
   "id": "e2bf708e",
   "metadata": {},
   "outputs": [
    {
     "name": "stdout",
     "output_type": "stream",
     "text": [
      "sqrt(2)*x*(-nu**4*t**4 - 24*nu**2*t**3 + 8*nu**2*t**2*x**2 - 240*t**2 + 160*t*x**2 - 16*x**4)*exp(-nu**2*t/8 - nu*x/2 - x**2/(2*t))/(128*sqrt(pi)*t**(11/2))\n"
     ]
    }
   ],
   "source": [
    "print(simply_second_derivative)"
   ]
  },
  {
   "cell_type": "code",
   "execution_count": 98,
   "id": "3384c41a",
   "metadata": {},
   "outputs": [],
   "source": [
    "flex_points = solve(simply_second_derivative, t, quick=True)"
   ]
  },
  {
   "cell_type": "code",
   "execution_count": 99,
   "id": "929279e4",
   "metadata": {},
   "outputs": [
    {
     "data": {
      "text/plain": [
       "4"
      ]
     },
     "execution_count": 99,
     "metadata": {},
     "output_type": "execute_result"
    }
   ],
   "source": [
    "len(flex_points)"
   ]
  },
  {
   "cell_type": "code",
   "execution_count": 49,
   "id": "d3cea9d9",
   "metadata": {
    "collapsed": true,
    "jupyter": {
     "outputs_hidden": true
    },
    "tags": []
   },
   "outputs": [
    {
     "data": {
      "text/latex": [
       "$\\displaystyle - \\frac{\\sqrt{6} \\nu^{2} \\left(\\sqrt{\\sqrt[3]{\\frac{\\nu^{12} \\sqrt{\\frac{\\left(- \\left(\\nu^{2} |x|^{2} - 3\\right)^{3} + 9 \\left(\\nu^{2} |x|^{2} - 3\\right) \\left(\\nu^{4} |x|^{4} + 42 \\nu^{2} |x|^{2} + 297\\right) + 108 \\left(\\nu^{2} |x|^{2} + 18\\right)^{2}\\right)^{2} - \\left(3 \\nu^{4} |x|^{4} + 126 \\nu^{2} |x|^{2} + \\left(\\nu^{2} |x|^{2} - 3\\right)^{2} + 891\\right)^{3}}{\\nu^{24}}} - \\left(\\nu^{2} |x|^{2} - 3\\right)^{3} + 9 \\left(\\nu^{2} |x|^{2} - 3\\right) \\left(\\nu^{4} |x|^{4} + 42 \\nu^{2} |x|^{2} + 297\\right) + 108 \\left(\\nu^{2} |x|^{2} + 18\\right)^{2}}{\\nu^{12}}} + \\frac{2 \\left(\\nu^{2} |x|^{2} - 3\\right)}{\\nu^{4}} + \\frac{3 \\nu^{4} |x|^{4} + 126 \\nu^{2} |x|^{2} + \\left(\\nu^{2} |x|^{2} - 3\\right)^{2} + 891}{\\nu^{8} \\sqrt[3]{\\frac{\\nu^{12} \\sqrt{\\frac{\\left(- \\left(\\nu^{2} |x|^{2} - 3\\right)^{3} + 9 \\left(\\nu^{2} |x|^{2} - 3\\right) \\left(\\nu^{4} |x|^{4} + 42 \\nu^{2} |x|^{2} + 297\\right) + 108 \\left(\\nu^{2} |x|^{2} + 18\\right)^{2}\\right)^{2} - \\left(3 \\nu^{4} |x|^{4} + 126 \\nu^{2} |x|^{2} + \\left(\\nu^{2} |x|^{2} - 3\\right)^{2} + 891\\right)^{3}}{\\nu^{24}}} - \\left(\\nu^{2} |x|^{2} - 3\\right)^{3} + 9 \\left(\\nu^{2} |x|^{2} - 3\\right) \\left(\\nu^{4} |x|^{4} + 42 \\nu^{2} |x|^{2} + 297\\right) + 108 \\left(\\nu^{2} |x|^{2} + 18\\right)^{2}}{\\nu^{12}}}}} + \\sqrt{- \\sqrt[3]{\\frac{\\nu^{12} \\sqrt{\\frac{\\left(\\left(- \\nu^{2} |x|^{2} + 3\\right)^{3} - 9 \\left(- \\nu^{2} |x|^{2} + 3\\right) \\left(\\nu^{4} |x|^{4} + 42 \\nu^{2} |x|^{2} + 297\\right) + 108 \\left(\\nu^{2} |x|^{2} + 18\\right)^{2}\\right)^{2} - \\left(3 \\nu^{4} |x|^{4} + 126 \\nu^{2} |x|^{2} + \\left(- \\nu^{2} |x|^{2} + 3\\right)^{2} + 891\\right)^{3}}{\\nu^{24}}} + \\left(- \\nu^{2} |x|^{2} + 3\\right)^{3} - 9 \\left(- \\nu^{2} |x|^{2} + 3\\right) \\left(\\nu^{4} |x|^{4} + 42 \\nu^{2} |x|^{2} + 297\\right) + 108 \\left(\\nu^{2} |x|^{2} + 18\\right)^{2}}{\\nu^{12}}} + \\frac{4 \\left(\\nu^{2} |x|^{2} - 3\\right)}{\\nu^{4}} - \\frac{12 \\sqrt{6} \\left(\\nu^{2} |x|^{2} + 18\\right)}{\\nu^{6} \\sqrt{\\frac{\\nu^{8} \\left(\\frac{\\nu^{12} \\sqrt{\\frac{\\left(- \\left(- \\nu^{2} |x|^{2} + 3\\right)^{3} + 9 \\left(- \\nu^{2} |x|^{2} + 3\\right) \\left(\\nu^{4} |x|^{4} + 42 \\nu^{2} |x|^{2} + 297\\right) - 108 \\left(\\nu^{2} |x|^{2} + 18\\right)^{2}\\right)^{2} - \\left(3 \\nu^{4} |x|^{4} + 126 \\nu^{2} |x|^{2} + \\left(- \\nu^{2} |x|^{2} + 3\\right)^{2} + 891\\right)^{3}}{\\nu^{24}}} + \\left(- \\nu^{2} |x|^{2} + 3\\right)^{3} - 9 \\left(- \\nu^{2} |x|^{2} + 3\\right) \\left(\\nu^{4} |x|^{4} + 42 \\nu^{2} |x|^{2} + 297\\right) + 108 \\left(\\nu^{2} |x|^{2} + 18\\right)^{2}}{\\nu^{12}}\\right)^{\\frac{2}{3}} + 3 \\nu^{4} |x|^{4} + 2 \\nu^{4} \\sqrt[3]{\\frac{\\nu^{12} \\sqrt{\\frac{\\left(- \\left(- \\nu^{2} |x|^{2} + 3\\right)^{3} + 9 \\left(- \\nu^{2} |x|^{2} + 3\\right) \\left(\\nu^{4} |x|^{4} + 42 \\nu^{2} |x|^{2} + 297\\right) - 108 \\left(\\nu^{2} |x|^{2} + 18\\right)^{2}\\right)^{2} - \\left(3 \\nu^{4} |x|^{4} + 126 \\nu^{2} |x|^{2} + \\left(- \\nu^{2} |x|^{2} + 3\\right)^{2} + 891\\right)^{3}}{\\nu^{24}}} + \\left(- \\nu^{2} |x|^{2} + 3\\right)^{3} - 9 \\left(- \\nu^{2} |x|^{2} + 3\\right) \\left(\\nu^{4} |x|^{4} + 42 \\nu^{2} |x|^{2} + 297\\right) + 108 \\left(\\nu^{2} |x|^{2} + 18\\right)^{2}}{\\nu^{12}}} \\left(\\nu^{2} |x|^{2} - 3\\right) + 126 \\nu^{2} |x|^{2} + \\left(- \\nu^{2} |x|^{2} + 3\\right)^{2} + 891}{\\nu^{8} \\sqrt[3]{\\frac{\\nu^{12} \\sqrt{\\frac{\\left(- \\left(- \\nu^{2} |x|^{2} + 3\\right)^{3} + 9 \\left(- \\nu^{2} |x|^{2} + 3\\right) \\left(\\nu^{4} |x|^{4} + 42 \\nu^{2} |x|^{2} + 297\\right) - 108 \\left(\\nu^{2} |x|^{2} + 18\\right)^{2}\\right)^{2} - \\left(3 \\nu^{4} |x|^{4} + 126 \\nu^{2} |x|^{2} + \\left(- \\nu^{2} |x|^{2} + 3\\right)^{2} + 891\\right)^{3}}{\\nu^{24}}} + \\left(- \\nu^{2} |x|^{2} + 3\\right)^{3} - 9 \\left(- \\nu^{2} |x|^{2} + 3\\right) \\left(\\nu^{4} |x|^{4} + 42 \\nu^{2} |x|^{2} + 297\\right) + 108 \\left(\\nu^{2} |x|^{2} + 18\\right)^{2}}{\\nu^{12}}}}}} - \\frac{3 \\nu^{4} |x|^{4} + 126 \\nu^{2} |x|^{2} + \\left(- \\nu^{2} |x|^{2} + 3\\right)^{2} + 891}{\\nu^{8} \\sqrt[3]{\\frac{\\nu^{12} \\sqrt{\\frac{\\left(\\left(- \\nu^{2} |x|^{2} + 3\\right)^{3} - 9 \\left(- \\nu^{2} |x|^{2} + 3\\right) \\left(\\nu^{4} |x|^{4} + 42 \\nu^{2} |x|^{2} + 297\\right) + 108 \\left(\\nu^{2} |x|^{2} + 18\\right)^{2}\\right)^{2} - \\left(3 \\nu^{4} |x|^{4} + 126 \\nu^{2} |x|^{2} + \\left(- \\nu^{2} |x|^{2} + 3\\right)^{2} + 891\\right)^{3}}{\\nu^{24}}} + \\left(- \\nu^{2} |x|^{2} + 3\\right)^{3} - 9 \\left(- \\nu^{2} |x|^{2} + 3\\right) \\left(\\nu^{4} |x|^{4} + 42 \\nu^{2} |x|^{2} + 297\\right) + 108 \\left(\\nu^{2} |x|^{2} + 18\\right)^{2}}{\\nu^{12}}}}}\\right) + 18}{3 \\nu^{2}}$"
      ],
      "text/plain": [
       "-(sqrt(6)*nu**2*(sqrt(((nu**12*sqrt(((-(nu**2*|x|**2 - 3)**3 + 9*(nu**2*|x|**2 - 3)*(nu**4*|x|**4 + 42*nu**2*|x|**2 + 297) + 108*(nu**2*|x|**2 + 18)**2)**2 - (3*nu**4*|x|**4 + 126*nu**2*|x|**2 + (nu**2*|x|**2 - 3)**2 + 891)**3)/nu**24) - (nu**2*|x|**2 - 3)**3 + 9*(nu**2*|x|**2 - 3)*(nu**4*|x|**4 + 42*nu**2*|x|**2 + 297) + 108*(nu**2*|x|**2 + 18)**2)/nu**12)**(1/3) + 2*(nu**2*|x|**2 - 3)/nu**4 + (3*nu**4*|x|**4 + 126*nu**2*|x|**2 + (nu**2*|x|**2 - 3)**2 + 891)/(nu**8*((nu**12*sqrt(((-(nu**2*|x|**2 - 3)**3 + 9*(nu**2*|x|**2 - 3)*(nu**4*|x|**4 + 42*nu**2*|x|**2 + 297) + 108*(nu**2*|x|**2 + 18)**2)**2 - (3*nu**4*|x|**4 + 126*nu**2*|x|**2 + (nu**2*|x|**2 - 3)**2 + 891)**3)/nu**24) - (nu**2*|x|**2 - 3)**3 + 9*(nu**2*|x|**2 - 3)*(nu**4*|x|**4 + 42*nu**2*|x|**2 + 297) + 108*(nu**2*|x|**2 + 18)**2)/nu**12)**(1/3))) + sqrt(-((nu**12*sqrt((((-nu**2*|x|**2 + 3)**3 - 9*(-nu**2*|x|**2 + 3)*(nu**4*|x|**4 + 42*nu**2*|x|**2 + 297) + 108*(nu**2*|x|**2 + 18)**2)**2 - (3*nu**4*|x|**4 + 126*nu**2*|x|**2 + (-nu**2*|x|**2 + 3)**2 + 891)**3)/nu**24) + (-nu**2*|x|**2 + 3)**3 - 9*(-nu**2*|x|**2 + 3)*(nu**4*|x|**4 + 42*nu**2*|x|**2 + 297) + 108*(nu**2*|x|**2 + 18)**2)/nu**12)**(1/3) + 4*(nu**2*|x|**2 - 3)/nu**4 - 12*sqrt(6)*(nu**2*|x|**2 + 18)/(nu**6*sqrt((nu**8*((nu**12*sqrt(((-(-nu**2*|x|**2 + 3)**3 + 9*(-nu**2*|x|**2 + 3)*(nu**4*|x|**4 + 42*nu**2*|x|**2 + 297) - 108*(nu**2*|x|**2 + 18)**2)**2 - (3*nu**4*|x|**4 + 126*nu**2*|x|**2 + (-nu**2*|x|**2 + 3)**2 + 891)**3)/nu**24) + (-nu**2*|x|**2 + 3)**3 - 9*(-nu**2*|x|**2 + 3)*(nu**4*|x|**4 + 42*nu**2*|x|**2 + 297) + 108*(nu**2*|x|**2 + 18)**2)/nu**12)**(2/3) + 3*nu**4*|x|**4 + 2*nu**4*((nu**12*sqrt(((-(-nu**2*|x|**2 + 3)**3 + 9*(-nu**2*|x|**2 + 3)*(nu**4*|x|**4 + 42*nu**2*|x|**2 + 297) - 108*(nu**2*|x|**2 + 18)**2)**2 - (3*nu**4*|x|**4 + 126*nu**2*|x|**2 + (-nu**2*|x|**2 + 3)**2 + 891)**3)/nu**24) + (-nu**2*|x|**2 + 3)**3 - 9*(-nu**2*|x|**2 + 3)*(nu**4*|x|**4 + 42*nu**2*|x|**2 + 297) + 108*(nu**2*|x|**2 + 18)**2)/nu**12)**(1/3)*(nu**2*|x|**2 - 3) + 126*nu**2*|x|**2 + (-nu**2*|x|**2 + 3)**2 + 891)/(nu**8*((nu**12*sqrt(((-(-nu**2*|x|**2 + 3)**3 + 9*(-nu**2*|x|**2 + 3)*(nu**4*|x|**4 + 42*nu**2*|x|**2 + 297) - 108*(nu**2*|x|**2 + 18)**2)**2 - (3*nu**4*|x|**4 + 126*nu**2*|x|**2 + (-nu**2*|x|**2 + 3)**2 + 891)**3)/nu**24) + (-nu**2*|x|**2 + 3)**3 - 9*(-nu**2*|x|**2 + 3)*(nu**4*|x|**4 + 42*nu**2*|x|**2 + 297) + 108*(nu**2*|x|**2 + 18)**2)/nu**12)**(1/3)))) - (3*nu**4*|x|**4 + 126*nu**2*|x|**2 + (-nu**2*|x|**2 + 3)**2 + 891)/(nu**8*((nu**12*sqrt((((-nu**2*|x|**2 + 3)**3 - 9*(-nu**2*|x|**2 + 3)*(nu**4*|x|**4 + 42*nu**2*|x|**2 + 297) + 108*(nu**2*|x|**2 + 18)**2)**2 - (3*nu**4*|x|**4 + 126*nu**2*|x|**2 + (-nu**2*|x|**2 + 3)**2 + 891)**3)/nu**24) + (-nu**2*|x|**2 + 3)**3 - 9*(-nu**2*|x|**2 + 3)*(nu**4*|x|**4 + 42*nu**2*|x|**2 + 297) + 108*(nu**2*|x|**2 + 18)**2)/nu**12)**(1/3)))) + 18)/(3*nu**2)"
      ]
     },
     "execution_count": 49,
     "metadata": {},
     "output_type": "execute_result"
    }
   ],
   "source": [
    "simplify(flex_points[0])"
   ]
  },
  {
   "cell_type": "code",
   "execution_count": 81,
   "id": "aa6f196b",
   "metadata": {},
   "outputs": [
    {
     "name": "stdout",
     "output_type": "stream",
     "text": [
      "-x*exp(-nu**2*(x + (sqrt(nu**2*x**2 + 9) - 3)/nu)**2/(4*(sqrt(nu**2*x**2 + 9) - 3)))/(4*sqrt(pi)*((sqrt(nu**2*x**2 + 9) - 3)/nu**2)**(3/2))\n"
     ]
    },
    {
     "data": {
      "text/latex": [
       "$\\displaystyle - \\frac{x e^{- \\frac{\\nu^{2} \\left(x + \\frac{\\sqrt{\\nu^{2} x^{2} + 9} - 3}{\\nu}\\right)^{2}}{4 \\left(\\sqrt{\\nu^{2} x^{2} + 9} - 3\\right)}}}{4 \\sqrt{\\pi} \\left(\\frac{\\sqrt{\\nu^{2} x^{2} + 9} - 3}{\\nu^{2}}\\right)^{\\frac{3}{2}}}$"
      ],
      "text/plain": [
       "-x*exp(-nu**2*(x + (sqrt(nu**2*x**2 + 9) - 3)/nu)**2/(4*(sqrt(nu**2*x**2 + 9) - 3)))/(4*sqrt(pi)*((sqrt(nu**2*x**2 + 9) - 3)/nu**2)**(3/2))"
      ]
     },
     "execution_count": 81,
     "metadata": {},
     "output_type": "execute_result"
    }
   ],
   "source": [
    "max_current_value = current_equation.subs(t, zero_points[0])\n",
    "print(max_current_value)\n",
    "max_current_value"
   ]
  },
  {
   "cell_type": "code",
   "execution_count": 83,
   "id": "d41ad9de",
   "metadata": {},
   "outputs": [
    {
     "ename": "NotImplementedError",
     "evalue": "multiple generators [exp(nu**2*t/8), exp(x**2/(2*t)), sqrt(t)]\nNo algorithms are implemented to solve equation x*exp(-nu**2*(x + (sqrt(nu**2*x**2 + 9) - 3)/nu)**2/(4*(sqrt(nu**2*x**2 + 9) - 3)))/(40*sqrt(pi)*((sqrt(nu**2*x**2 + 9) - 3)/nu**2)**(3/2)) - sqrt(2)*x*exp(-(nu*t/2 + x)**2/(2*t))/(2*sqrt(pi)*t**(3/2))",
     "output_type": "error",
     "traceback": [
      "\u001b[0;31m---------------------------------------------------------------------------\u001b[0m",
      "\u001b[0;31mNotImplementedError\u001b[0m                       Traceback (most recent call last)",
      "\u001b[0;32m<ipython-input-83-b223477eb07c>\u001b[0m in \u001b[0;36m<module>\u001b[0;34m\u001b[0m\n\u001b[0;32m----> 1\u001b[0;31m \u001b[0ma_point\u001b[0m \u001b[0;34m=\u001b[0m \u001b[0msolve\u001b[0m\u001b[0;34m(\u001b[0m\u001b[0mcurrent_equation\u001b[0m \u001b[0;34m-\u001b[0m \u001b[0;36m0.1\u001b[0m \u001b[0;34m*\u001b[0m \u001b[0mmax_current_value\u001b[0m\u001b[0;34m,\u001b[0m \u001b[0mt\u001b[0m\u001b[0;34m)\u001b[0m\u001b[0;34m\u001b[0m\u001b[0;34m\u001b[0m\u001b[0m\n\u001b[0m\u001b[1;32m      2\u001b[0m \u001b[0ma_point\u001b[0m\u001b[0;34m\u001b[0m\u001b[0;34m\u001b[0m\u001b[0m\n",
      "\u001b[0;32m~/anaconda3/lib/python3.8/site-packages/sympy/solvers/solvers.py\u001b[0m in \u001b[0;36msolve\u001b[0;34m(f, *symbols, **flags)\u001b[0m\n\u001b[1;32m   1093\u001b[0m     \u001b[0;31m###########################################################################\u001b[0m\u001b[0;34m\u001b[0m\u001b[0;34m\u001b[0m\u001b[0;34m\u001b[0m\u001b[0m\n\u001b[1;32m   1094\u001b[0m     \u001b[0;32mif\u001b[0m \u001b[0mbare_f\u001b[0m\u001b[0;34m:\u001b[0m\u001b[0;34m\u001b[0m\u001b[0;34m\u001b[0m\u001b[0m\n\u001b[0;32m-> 1095\u001b[0;31m         \u001b[0msolution\u001b[0m \u001b[0;34m=\u001b[0m \u001b[0m_solve\u001b[0m\u001b[0;34m(\u001b[0m\u001b[0mf\u001b[0m\u001b[0;34m[\u001b[0m\u001b[0;36m0\u001b[0m\u001b[0;34m]\u001b[0m\u001b[0;34m,\u001b[0m \u001b[0;34m*\u001b[0m\u001b[0msymbols\u001b[0m\u001b[0;34m,\u001b[0m \u001b[0;34m**\u001b[0m\u001b[0mflags\u001b[0m\u001b[0;34m)\u001b[0m\u001b[0;34m\u001b[0m\u001b[0;34m\u001b[0m\u001b[0m\n\u001b[0m\u001b[1;32m   1096\u001b[0m     \u001b[0;32melse\u001b[0m\u001b[0;34m:\u001b[0m\u001b[0;34m\u001b[0m\u001b[0;34m\u001b[0m\u001b[0m\n\u001b[1;32m   1097\u001b[0m         \u001b[0msolution\u001b[0m \u001b[0;34m=\u001b[0m \u001b[0m_solve_system\u001b[0m\u001b[0;34m(\u001b[0m\u001b[0mf\u001b[0m\u001b[0;34m,\u001b[0m \u001b[0msymbols\u001b[0m\u001b[0;34m,\u001b[0m \u001b[0;34m**\u001b[0m\u001b[0mflags\u001b[0m\u001b[0;34m)\u001b[0m\u001b[0;34m\u001b[0m\u001b[0;34m\u001b[0m\u001b[0m\n",
      "\u001b[0;32m~/anaconda3/lib/python3.8/site-packages/sympy/solvers/solvers.py\u001b[0m in \u001b[0;36m_solve\u001b[0;34m(f, *symbols, **flags)\u001b[0m\n\u001b[1;32m   1712\u001b[0m \u001b[0;34m\u001b[0m\u001b[0m\n\u001b[1;32m   1713\u001b[0m     \u001b[0;32mif\u001b[0m \u001b[0mresult\u001b[0m \u001b[0;32mis\u001b[0m \u001b[0;32mFalse\u001b[0m\u001b[0;34m:\u001b[0m\u001b[0;34m\u001b[0m\u001b[0;34m\u001b[0m\u001b[0m\n\u001b[0;32m-> 1714\u001b[0;31m         \u001b[0;32mraise\u001b[0m \u001b[0mNotImplementedError\u001b[0m\u001b[0;34m(\u001b[0m\u001b[0;34m'\\n'\u001b[0m\u001b[0;34m.\u001b[0m\u001b[0mjoin\u001b[0m\u001b[0;34m(\u001b[0m\u001b[0;34m[\u001b[0m\u001b[0mmsg\u001b[0m\u001b[0;34m,\u001b[0m \u001b[0mnot_impl_msg\u001b[0m \u001b[0;34m%\u001b[0m \u001b[0mf\u001b[0m\u001b[0;34m]\u001b[0m\u001b[0;34m)\u001b[0m\u001b[0;34m)\u001b[0m\u001b[0;34m\u001b[0m\u001b[0;34m\u001b[0m\u001b[0m\n\u001b[0m\u001b[1;32m   1715\u001b[0m \u001b[0;34m\u001b[0m\u001b[0m\n\u001b[1;32m   1716\u001b[0m     \u001b[0;32mif\u001b[0m \u001b[0mflags\u001b[0m\u001b[0;34m.\u001b[0m\u001b[0mget\u001b[0m\u001b[0;34m(\u001b[0m\u001b[0;34m'simplify'\u001b[0m\u001b[0;34m,\u001b[0m \u001b[0;32mTrue\u001b[0m\u001b[0;34m)\u001b[0m\u001b[0;34m:\u001b[0m\u001b[0;34m\u001b[0m\u001b[0;34m\u001b[0m\u001b[0m\n",
      "\u001b[0;31mNotImplementedError\u001b[0m: multiple generators [exp(nu**2*t/8), exp(x**2/(2*t)), sqrt(t)]\nNo algorithms are implemented to solve equation x*exp(-nu**2*(x + (sqrt(nu**2*x**2 + 9) - 3)/nu)**2/(4*(sqrt(nu**2*x**2 + 9) - 3)))/(40*sqrt(pi)*((sqrt(nu**2*x**2 + 9) - 3)/nu**2)**(3/2)) - sqrt(2)*x*exp(-(nu*t/2 + x)**2/(2*t))/(2*sqrt(pi)*t**(3/2))"
     ]
    }
   ],
   "source": [
    "a_point = solve(current_equation - 0.1 * max_current_value, t)\n",
    "a_point"
   ]
  },
  {
   "cell_type": "code",
   "execution_count": 10,
   "id": "eb66f56b",
   "metadata": {},
   "outputs": [
    {
     "data": {
      "text/latex": [
       "$\\displaystyle \\frac{1}{2 \\kappa}$"
      ],
      "text/plain": [
       "1/(2*kappa)"
      ]
     },
     "execution_count": 10,
     "metadata": {},
     "output_type": "execute_result"
    }
   ],
   "source": [
    "exponent = 1 / (2*kappa)\n",
    "exponent"
   ]
  },
  {
   "cell_type": "code",
   "execution_count": 11,
   "id": "fe90730a",
   "metadata": {},
   "outputs": [
    {
     "data": {
      "text/latex": [
       "$\\displaystyle \\frac{\\sqrt{c} \\left(\\frac{I_{*}}{I}\\right)^{\\frac{1}{2 \\kappa}} e^{- \\left(\\frac{I_{*}}{I}\\right)^{\\frac{1}{2 \\kappa}}}}{2 I \\kappa}$"
      ],
      "text/plain": [
       "sqrt(c)*(I_*/I)**(1/(2*kappa))*exp(-(I_*/I)**(1/(2*kappa)))/(2*I*kappa)"
      ]
     },
     "execution_count": 11,
     "metadata": {},
     "output_type": "execute_result"
    }
   ],
   "source": [
    "nu_expression = sqrt(c) * (exponent / I) * (I_star/I) ** (exponent) *  exp(-(I_star/I)**(exponent)) \n",
    "nu_expression"
   ]
  },
  {
   "cell_type": "code",
   "execution_count": 12,
   "id": "92910558",
   "metadata": {},
   "outputs": [
    {
     "data": {
      "text/latex": [
       "$\\displaystyle \\frac{4 I_{*} \\kappa^{2} e^{2 i \\pi \\kappa} \\Gamma\\left(- 2 \\kappa\\right) \\gamma\\left(2 \\kappa e^{i \\pi}, I^{- \\frac{1}{2 \\kappa}} I_{*}^{\\frac{1}{2 \\kappa}} e^{i \\pi}\\right)}{\\sqrt{c} \\Gamma\\left(1 - 2 \\kappa\\right)} - \\frac{4 I_{*} \\kappa^{2} e^{2 i \\pi \\kappa} \\Gamma\\left(- 2 \\kappa\\right) \\gamma\\left(2 \\kappa e^{i \\pi}, I_{*}^{\\frac{1}{2 \\kappa}} I_{a}^{- \\frac{1}{2 \\kappa}} e^{i \\pi}\\right)}{\\sqrt{c} \\Gamma\\left(1 - 2 \\kappa\\right)}$"
      ],
      "text/plain": [
       "4*I_**kappa**2*exp(2*I*pi*kappa)*gamma(-2*kappa)*lowergamma(2*kappa*exp_polar(I*pi), I**(-1/(2*kappa))*I_***(1/(2*kappa))*exp_polar(I*pi))/(sqrt(c)*gamma(1 - 2*kappa)) - 4*I_**kappa**2*exp(2*I*pi*kappa)*gamma(-2*kappa)*lowergamma(2*kappa*exp_polar(I*pi), I_***(1/(2*kappa))*I_a**(-1/(2*kappa))*exp_polar(I*pi))/(sqrt(c)*gamma(1 - 2*kappa))"
      ]
     },
     "execution_count": 12,
     "metadata": {},
     "output_type": "execute_result"
    }
   ],
   "source": [
    "x_expression = -integrate((1/sqrt(c))*exp((I_star/I_prime)**exponent), (I_prime, I, I_a))\n",
    "x_expression"
   ]
  },
  {
   "cell_type": "code",
   "execution_count": 13,
   "id": "2feb48cd",
   "metadata": {},
   "outputs": [
    {
     "data": {
      "text/latex": [
       "$\\displaystyle \\frac{1}{\\int\\limits_{0}^{I_{a}} e^{- 2 \\left(\\frac{I_{*}}{I'}\\right)^{\\frac{1}{2 \\kappa}}}\\, dI'}$"
      ],
      "text/plain": [
       "1/Integral(exp(-2*(I_*/I')**(1/(2*kappa))), (I', 0, I_a))"
      ]
     },
     "execution_count": 13,
     "metadata": {},
     "output_type": "execute_result"
    }
   ],
   "source": [
    "c_expression = 1/integrate(exp(-2*(I_star/I_prime)**exponent),(I_prime, 0, I_a))\n",
    "c_expression"
   ]
  },
  {
   "cell_type": "code",
   "execution_count": 77,
   "id": "13b19454",
   "metadata": {},
   "outputs": [
    {
     "data": {
      "text/latex": [
       "$\\displaystyle \\frac{8 I^{2} \\kappa^{2} \\left(\\frac{I_{*}}{I}\\right)^{- \\frac{1}{\\kappa}} \\left(\\sqrt{9 + \\frac{c x^{2} \\left(\\frac{I_{*}}{I}\\right)^{\\frac{1}{\\kappa}} e^{- 2 \\left(\\frac{I_{*}}{I}\\right)^{\\frac{1}{2 \\kappa}}}}{4 I^{2} \\kappa^{2}}} - 3\\right) e^{2 \\left(\\frac{I_{*}}{I}\\right)^{\\frac{1}{2 \\kappa}}}}{c}$"
      ],
      "text/plain": [
       "8*I**2*kappa**2*(I_*/I)**(-1/kappa)*(sqrt(9 + c*x**2*(I_*/I)**(1/kappa)*exp(-2*(I_*/I)**(1/(2*kappa)))/(4*I**2*kappa**2)) - 3)*exp(2*(I_*/I)**(1/(2*kappa)))/c"
      ]
     },
     "execution_count": 77,
     "metadata": {},
     "output_type": "execute_result"
    }
   ],
   "source": [
    "mod1 = zero_points[0].subs(nu, nu_expression)\n",
    "mod1"
   ]
  },
  {
   "cell_type": "code",
   "execution_count": 78,
   "id": "4711b9c3",
   "metadata": {},
   "outputs": [
    {
     "data": {
      "text/latex": [
       "$\\displaystyle \\frac{8 I^{2} \\kappa^{2} \\left(\\frac{I_{*}}{I}\\right)^{- \\frac{1}{\\kappa}} \\left(\\sqrt{9 + \\frac{c \\left(\\frac{I_{*}}{I}\\right)^{\\frac{1}{\\kappa}} \\left(\\frac{4 I_{*} \\kappa^{2} e^{2 i \\pi \\kappa} \\Gamma\\left(- 2 \\kappa\\right) \\gamma\\left(2 \\kappa e^{i \\pi}, I^{- \\frac{1}{2 \\kappa}} I_{*}^{\\frac{1}{2 \\kappa}} e^{i \\pi}\\right)}{\\sqrt{c} \\Gamma\\left(1 - 2 \\kappa\\right)} - \\frac{4 I_{*} \\kappa^{2} e^{2 i \\pi \\kappa} \\Gamma\\left(- 2 \\kappa\\right) \\gamma\\left(2 \\kappa e^{i \\pi}, I_{*}^{\\frac{1}{2 \\kappa}} I_{a}^{- \\frac{1}{2 \\kappa}} e^{i \\pi}\\right)}{\\sqrt{c} \\Gamma\\left(1 - 2 \\kappa\\right)}\\right)^{2} e^{- 2 \\left(\\frac{I_{*}}{I}\\right)^{\\frac{1}{2 \\kappa}}}}{4 I^{2} \\kappa^{2}}} - 3\\right) e^{2 \\left(\\frac{I_{*}}{I}\\right)^{\\frac{1}{2 \\kappa}}}}{c}$"
      ],
      "text/plain": [
       "8*I**2*kappa**2*(I_*/I)**(-1/kappa)*(sqrt(9 + c*(I_*/I)**(1/kappa)*(4*I_**kappa**2*exp(2*I*pi*kappa)*gamma(-2*kappa)*lowergamma(2*kappa*exp_polar(I*pi), I**(-1/(2*kappa))*I_***(1/(2*kappa))*exp_polar(I*pi))/(sqrt(c)*gamma(1 - 2*kappa)) - 4*I_**kappa**2*exp(2*I*pi*kappa)*gamma(-2*kappa)*lowergamma(2*kappa*exp_polar(I*pi), I_***(1/(2*kappa))*I_a**(-1/(2*kappa))*exp_polar(I*pi))/(sqrt(c)*gamma(1 - 2*kappa)))**2*exp(-2*(I_*/I)**(1/(2*kappa)))/(4*I**2*kappa**2)) - 3)*exp(2*(I_*/I)**(1/(2*kappa)))/c"
      ]
     },
     "execution_count": 78,
     "metadata": {},
     "output_type": "execute_result"
    }
   ],
   "source": [
    "mod2 = mod1.subs(x, x_expression)\n",
    "mod2"
   ]
  },
  {
   "cell_type": "code",
   "execution_count": 79,
   "id": "700909b6",
   "metadata": {},
   "outputs": [
    {
     "data": {
      "text/latex": [
       "$\\displaystyle 8 I^{2} \\kappa^{2} \\left(\\frac{I_{*}}{I}\\right)^{- \\frac{1}{\\kappa}} \\left(\\sqrt{9 + \\frac{\\left(\\frac{I_{*}}{I}\\right)^{\\frac{1}{\\kappa}} \\left(\\left(\\frac{4 I_{*} \\kappa^{2} e^{2 i \\pi \\kappa} \\Gamma\\left(- 2 \\kappa\\right) \\gamma\\left(2 \\kappa e^{i \\pi}, I^{- \\frac{1}{2 \\kappa}} I_{*}^{\\frac{1}{2 \\kappa}} e^{i \\pi}\\right)}{\\left(\\sqrt{\\frac{1}{\\int\\limits_{0}^{I_{a}} e^{- 2 \\left(\\frac{I_{*}}{I'}\\right)^{\\frac{1}{2 \\kappa}}}\\, dI'}}\\right) \\Gamma\\left(1 - 2 \\kappa\\right)} - \\frac{4 I_{*} \\kappa^{2} e^{2 i \\pi \\kappa} \\Gamma\\left(- 2 \\kappa\\right) \\gamma\\left(2 \\kappa e^{i \\pi}, I_{*}^{\\frac{1}{2 \\kappa}} I_{a}^{- \\frac{1}{2 \\kappa}} e^{i \\pi}\\right)}{\\left(\\sqrt{\\frac{1}{\\int\\limits_{0}^{I_{a}} e^{- 2 \\left(\\frac{I_{*}}{I'}\\right)^{\\frac{1}{2 \\kappa}}}\\, dI'}}\\right) \\Gamma\\left(1 - 2 \\kappa\\right)}\\right)^{2}\\right) e^{- 2 \\left(\\frac{I_{*}}{I}\\right)^{\\frac{1}{2 \\kappa}}}}{4 I^{2} \\kappa^{2} \\int\\limits_{0}^{I_{a}} e^{- 2 \\left(\\frac{I_{*}}{I'}\\right)^{\\frac{1}{2 \\kappa}}}\\, dI'}} - 3\\right) e^{2 \\left(\\frac{I_{*}}{I}\\right)^{\\frac{1}{2 \\kappa}}} \\int\\limits_{0}^{I_{a}} e^{- 2 \\left(\\frac{I_{*}}{I'}\\right)^{\\frac{1}{2 \\kappa}}}\\, dI'$"
      ],
      "text/plain": [
       "8*I**2*kappa**2*(I_*/I)**(-1/kappa)*(sqrt(9 + (I_*/I)**(1/kappa)*(4*I_**kappa**2*exp(2*I*pi*kappa)*gamma(-2*kappa)*lowergamma(2*kappa*exp_polar(I*pi), I**(-1/(2*kappa))*I_***(1/(2*kappa))*exp_polar(I*pi))/(sqrt(1/Integral(exp(-2*(I_*/I')**(1/(2*kappa))), (I', 0, I_a)))*gamma(1 - 2*kappa)) - 4*I_**kappa**2*exp(2*I*pi*kappa)*gamma(-2*kappa)*lowergamma(2*kappa*exp_polar(I*pi), I_***(1/(2*kappa))*I_a**(-1/(2*kappa))*exp_polar(I*pi))/(sqrt(1/Integral(exp(-2*(I_*/I')**(1/(2*kappa))), (I', 0, I_a)))*gamma(1 - 2*kappa)))**2*exp(-2*(I_*/I)**(1/(2*kappa)))/(4*I**2*kappa**2*Integral(exp(-2*(I_*/I')**(1/(2*kappa))), (I', 0, I_a)))) - 3)*exp(2*(I_*/I)**(1/(2*kappa)))*Integral(exp(-2*(I_*/I')**(1/(2*kappa))), (I', 0, I_a))"
      ]
     },
     "execution_count": 79,
     "metadata": {},
     "output_type": "execute_result"
    }
   ],
   "source": [
    "mod3 = mod2.subs(c, c_expression)\n",
    "mod3"
   ]
  },
  {
   "cell_type": "code",
   "execution_count": 80,
   "id": "74885960",
   "metadata": {
    "collapsed": true,
    "jupyter": {
     "outputs_hidden": true
    },
    "tags": []
   },
   "outputs": [
    {
     "data": {
      "text/latex": [
       "$\\displaystyle 8 I^{2} \\kappa^{2} \\left(\\frac{I_{*}}{I}\\right)^{- \\frac{1}{\\kappa}} \\left(\\sqrt{9 + \\frac{\\left(\\frac{I_{*}}{I}\\right)^{\\frac{1}{\\kappa}} \\left(\\left(\\frac{4 I_{*} \\kappa^{2} e^{2 i \\pi \\kappa} \\Gamma\\left(- 2 \\kappa\\right) \\gamma\\left(2 \\kappa e^{i \\pi}, I^{- \\frac{1}{2 \\kappa}} I_{*}^{\\frac{1}{2 \\kappa}} e^{i \\pi}\\right)}{\\left(\\sqrt{\\frac{1}{\\int\\limits_{0}^{I_{a}} e^{- 2 \\left(\\frac{I_{*}}{I'}\\right)^{\\frac{1}{2 \\kappa}}}\\, dI'}}\\right) \\Gamma\\left(1 - 2 \\kappa\\right)} - \\frac{4 I_{*} \\kappa^{2} e^{2 i \\pi \\kappa} \\Gamma\\left(- 2 \\kappa\\right) \\gamma\\left(2 \\kappa e^{i \\pi}, I_{*}^{\\frac{1}{2 \\kappa}} I_{a}^{- \\frac{1}{2 \\kappa}} e^{i \\pi}\\right)}{\\left(\\sqrt{\\frac{1}{\\int\\limits_{0}^{I_{a}} e^{- 2 \\left(\\frac{I_{*}}{I'}\\right)^{\\frac{1}{2 \\kappa}}}\\, dI'}}\\right) \\Gamma\\left(1 - 2 \\kappa\\right)}\\right)^{2}\\right) e^{- 2 \\left(\\frac{I_{*}}{I}\\right)^{\\frac{1}{2 \\kappa}}}}{4 I^{2} \\kappa^{2} \\int\\limits_{0}^{I_{a}} e^{- 2 \\left(\\frac{I_{*}}{I'}\\right)^{\\frac{1}{2 \\kappa}}}\\, dI'}} - 3\\right) e^{2 \\left(\\frac{I_{*}}{I}\\right)^{\\frac{1}{2 \\kappa}}} \\int\\limits_{0}^{I_{a}} \\frac{\\left(\\frac{I_{*}}{I'}\\right)^{\\frac{1}{2 \\kappa}} e^{- 2 \\left(\\frac{I_{*}}{I'}\\right)^{\\frac{1}{2 \\kappa}}} \\log{\\left(\\frac{I_{*}}{I'} \\right)}}{\\kappa^{2}}\\, dI' + \\frac{8 I^{2} \\kappa^{2} \\left(\\frac{I_{*}}{I}\\right)^{- \\frac{1}{\\kappa}} \\left(- \\frac{\\left(\\frac{I_{*}}{I}\\right)^{\\frac{1}{\\kappa}} \\left(\\left(\\frac{4 I_{*} \\kappa^{2} e^{2 i \\pi \\kappa} \\Gamma\\left(- 2 \\kappa\\right) \\gamma\\left(2 \\kappa e^{i \\pi}, I^{- \\frac{1}{2 \\kappa}} I_{*}^{\\frac{1}{2 \\kappa}} e^{i \\pi}\\right)}{\\left(\\sqrt{\\frac{1}{\\int\\limits_{0}^{I_{a}} e^{- 2 \\left(\\frac{I_{*}}{I'}\\right)^{\\frac{1}{2 \\kappa}}}\\, dI'}}\\right) \\Gamma\\left(1 - 2 \\kappa\\right)} - \\frac{4 I_{*} \\kappa^{2} e^{2 i \\pi \\kappa} \\Gamma\\left(- 2 \\kappa\\right) \\gamma\\left(2 \\kappa e^{i \\pi}, I_{*}^{\\frac{1}{2 \\kappa}} I_{a}^{- \\frac{1}{2 \\kappa}} e^{i \\pi}\\right)}{\\left(\\sqrt{\\frac{1}{\\int\\limits_{0}^{I_{a}} e^{- 2 \\left(\\frac{I_{*}}{I'}\\right)^{\\frac{1}{2 \\kappa}}}\\, dI'}}\\right) \\Gamma\\left(1 - 2 \\kappa\\right)}\\right)^{2}\\right) e^{- 2 \\left(\\frac{I_{*}}{I}\\right)^{\\frac{1}{2 \\kappa}}} \\int\\limits_{0}^{I_{a}} \\frac{\\left(\\frac{I_{*}}{I'}\\right)^{\\frac{1}{2 \\kappa}} e^{- 2 \\left(\\frac{I_{*}}{I'}\\right)^{\\frac{1}{2 \\kappa}}} \\log{\\left(\\frac{I_{*}}{I'} \\right)}}{\\kappa^{2}}\\, dI'}{8 I^{2} \\kappa^{2} \\left(\\int\\limits_{0}^{I_{a}} e^{- 2 \\left(\\frac{I_{*}}{I'}\\right)^{\\frac{1}{2 \\kappa}}}\\, dI'\\right)^{2}} + \\frac{\\left(\\frac{I_{*}}{I}\\right)^{\\frac{1}{\\kappa}} \\left(\\frac{4 I_{*} \\kappa^{2} e^{2 i \\pi \\kappa} \\Gamma\\left(- 2 \\kappa\\right) \\gamma\\left(2 \\kappa e^{i \\pi}, I^{- \\frac{1}{2 \\kappa}} I_{*}^{\\frac{1}{2 \\kappa}} e^{i \\pi}\\right)}{\\left(\\sqrt{\\frac{1}{\\int\\limits_{0}^{I_{a}} e^{- 2 \\left(\\frac{I_{*}}{I'}\\right)^{\\frac{1}{2 \\kappa}}}\\, dI'}}\\right) \\Gamma\\left(1 - 2 \\kappa\\right)} - \\frac{4 I_{*} \\kappa^{2} e^{2 i \\pi \\kappa} \\Gamma\\left(- 2 \\kappa\\right) \\gamma\\left(2 \\kappa e^{i \\pi}, I_{*}^{\\frac{1}{2 \\kappa}} I_{a}^{- \\frac{1}{2 \\kappa}} e^{i \\pi}\\right)}{\\left(\\sqrt{\\frac{1}{\\int\\limits_{0}^{I_{a}} e^{- 2 \\left(\\frac{I_{*}}{I'}\\right)^{\\frac{1}{2 \\kappa}}}\\, dI'}}\\right) \\Gamma\\left(1 - 2 \\kappa\\right)}\\right) \\left(\\frac{8 I_{*} \\kappa^{2} \\left(\\left(I^{- \\frac{1}{2 \\kappa}} I_{*}^{\\frac{1}{2 \\kappa}} e^{i \\pi}\\right)^{2 \\kappa e^{i \\pi} - 1} \\left(\\frac{I^{- \\frac{1}{2 \\kappa}} I_{*}^{\\frac{1}{2 \\kappa}} e^{i \\pi} \\log{\\left(I \\right)}}{2 \\kappa^{2}} - \\frac{I^{- \\frac{1}{2 \\kappa}} I_{*}^{\\frac{1}{2 \\kappa}} e^{i \\pi} \\log{\\left(I_{*} \\right)}}{2 \\kappa^{2}}\\right) e^{I^{- \\frac{1}{2 \\kappa}} I_{*}^{\\frac{1}{2 \\kappa}}} + 2 \\left(- {G_{2, 3}^{3, 0}\\left(\\begin{matrix}  & 1, 1 \\\\0, 0, - 2 \\kappa &  \\end{matrix} \\middle| {I^{- \\frac{1}{2 \\kappa}} I_{*}^{\\frac{1}{2 \\kappa}} e^{i \\pi}} \\right)} - \\log{\\left(I^{- \\frac{1}{2 \\kappa}} I_{*}^{\\frac{1}{2 \\kappa}} e^{i \\pi} \\right)} \\Gamma\\left(2 \\kappa e^{i \\pi}, I^{- \\frac{1}{2 \\kappa}} I_{*}^{\\frac{1}{2 \\kappa}} e^{i \\pi}\\right) + \\Gamma\\left(2 \\kappa e^{i \\pi}\\right) \\operatorname{polygamma}{\\left(0,- 2 \\kappa \\right)}\\right) e^{i \\pi}\\right) e^{2 i \\pi \\kappa} \\Gamma\\left(- 2 \\kappa\\right)}{\\left(\\sqrt{\\frac{1}{\\int\\limits_{0}^{I_{a}} e^{- 2 \\left(\\frac{I_{*}}{I'}\\right)^{\\frac{1}{2 \\kappa}}}\\, dI'}}\\right) \\Gamma\\left(1 - 2 \\kappa\\right)} - \\frac{8 I_{*} \\kappa^{2} \\left(\\left(I_{*}^{\\frac{1}{2 \\kappa}} I_{a}^{- \\frac{1}{2 \\kappa}} e^{i \\pi}\\right)^{2 \\kappa e^{i \\pi} - 1} \\left(- \\frac{I_{*}^{\\frac{1}{2 \\kappa}} I_{a}^{- \\frac{1}{2 \\kappa}} e^{i \\pi} \\log{\\left(I_{*} \\right)}}{2 \\kappa^{2}} + \\frac{I_{*}^{\\frac{1}{2 \\kappa}} I_{a}^{- \\frac{1}{2 \\kappa}} e^{i \\pi} \\log{\\left(I_{a} \\right)}}{2 \\kappa^{2}}\\right) e^{I_{*}^{\\frac{1}{2 \\kappa}} I_{a}^{- \\frac{1}{2 \\kappa}}} + 2 \\left(- {G_{2, 3}^{3, 0}\\left(\\begin{matrix}  & 1, 1 \\\\0, 0, - 2 \\kappa &  \\end{matrix} \\middle| {I_{*}^{\\frac{1}{2 \\kappa}} I_{a}^{- \\frac{1}{2 \\kappa}} e^{i \\pi}} \\right)} - \\log{\\left(I_{*}^{\\frac{1}{2 \\kappa}} I_{a}^{- \\frac{1}{2 \\kappa}} e^{i \\pi} \\right)} \\Gamma\\left(2 \\kappa e^{i \\pi}, I_{*}^{\\frac{1}{2 \\kappa}} I_{a}^{- \\frac{1}{2 \\kappa}} e^{i \\pi}\\right) + \\Gamma\\left(2 \\kappa e^{i \\pi}\\right) \\operatorname{polygamma}{\\left(0,- 2 \\kappa \\right)}\\right) e^{i \\pi}\\right) e^{2 i \\pi \\kappa} \\Gamma\\left(- 2 \\kappa\\right)}{\\left(\\sqrt{\\frac{1}{\\int\\limits_{0}^{I_{a}} e^{- 2 \\left(\\frac{I_{*}}{I'}\\right)^{\\frac{1}{2 \\kappa}}}\\, dI'}}\\right) \\Gamma\\left(1 - 2 \\kappa\\right)} - \\frac{16 I_{*} \\kappa^{2} e^{2 i \\pi \\kappa} \\Gamma\\left(- 2 \\kappa\\right) \\gamma\\left(2 \\kappa e^{i \\pi}, I^{- \\frac{1}{2 \\kappa}} I_{*}^{\\frac{1}{2 \\kappa}} e^{i \\pi}\\right) \\operatorname{polygamma}{\\left(0,- 2 \\kappa \\right)}}{\\left(\\sqrt{\\frac{1}{\\int\\limits_{0}^{I_{a}} e^{- 2 \\left(\\frac{I_{*}}{I'}\\right)^{\\frac{1}{2 \\kappa}}}\\, dI'}}\\right) \\Gamma\\left(1 - 2 \\kappa\\right)} + \\frac{16 I_{*} \\kappa^{2} e^{2 i \\pi \\kappa} \\Gamma\\left(- 2 \\kappa\\right) \\gamma\\left(2 \\kappa e^{i \\pi}, I^{- \\frac{1}{2 \\kappa}} I_{*}^{\\frac{1}{2 \\kappa}} e^{i \\pi}\\right) \\operatorname{polygamma}{\\left(0,1 - 2 \\kappa \\right)}}{\\left(\\sqrt{\\frac{1}{\\int\\limits_{0}^{I_{a}} e^{- 2 \\left(\\frac{I_{*}}{I'}\\right)^{\\frac{1}{2 \\kappa}}}\\, dI'}}\\right) \\Gamma\\left(1 - 2 \\kappa\\right)} + \\frac{4 I_{*} \\kappa^{2} e^{2 i \\pi \\kappa} \\Gamma\\left(- 2 \\kappa\\right) \\gamma\\left(2 \\kappa e^{i \\pi}, I^{- \\frac{1}{2 \\kappa}} I_{*}^{\\frac{1}{2 \\kappa}} e^{i \\pi}\\right) \\int\\limits_{0}^{I_{a}} \\frac{\\left(\\frac{I_{*}}{I'}\\right)^{\\frac{1}{2 \\kappa}} e^{- 2 \\left(\\frac{I_{*}}{I'}\\right)^{\\frac{1}{2 \\kappa}}} \\log{\\left(\\frac{I_{*}}{I'} \\right)}}{\\kappa^{2}}\\, dI'}{\\left(\\sqrt{\\frac{1}{\\int\\limits_{0}^{I_{a}} e^{- 2 \\left(\\frac{I_{*}}{I'}\\right)^{\\frac{1}{2 \\kappa}}}\\, dI'}}\\right) \\Gamma\\left(1 - 2 \\kappa\\right) \\int\\limits_{0}^{I_{a}} e^{- 2 \\left(\\frac{I_{*}}{I'}\\right)^{\\frac{1}{2 \\kappa}}}\\, dI'} + \\frac{16 i \\pi I_{*} \\kappa^{2} e^{2 i \\pi \\kappa} \\Gamma\\left(- 2 \\kappa\\right) \\gamma\\left(2 \\kappa e^{i \\pi}, I^{- \\frac{1}{2 \\kappa}} I_{*}^{\\frac{1}{2 \\kappa}} e^{i \\pi}\\right)}{\\left(\\sqrt{\\frac{1}{\\int\\limits_{0}^{I_{a}} e^{- 2 \\left(\\frac{I_{*}}{I'}\\right)^{\\frac{1}{2 \\kappa}}}\\, dI'}}\\right) \\Gamma\\left(1 - 2 \\kappa\\right)} + \\frac{16 I_{*} \\kappa^{2} e^{2 i \\pi \\kappa} \\Gamma\\left(- 2 \\kappa\\right) \\gamma\\left(2 \\kappa e^{i \\pi}, I_{*}^{\\frac{1}{2 \\kappa}} I_{a}^{- \\frac{1}{2 \\kappa}} e^{i \\pi}\\right) \\operatorname{polygamma}{\\left(0,- 2 \\kappa \\right)}}{\\left(\\sqrt{\\frac{1}{\\int\\limits_{0}^{I_{a}} e^{- 2 \\left(\\frac{I_{*}}{I'}\\right)^{\\frac{1}{2 \\kappa}}}\\, dI'}}\\right) \\Gamma\\left(1 - 2 \\kappa\\right)} - \\frac{16 I_{*} \\kappa^{2} e^{2 i \\pi \\kappa} \\Gamma\\left(- 2 \\kappa\\right) \\gamma\\left(2 \\kappa e^{i \\pi}, I_{*}^{\\frac{1}{2 \\kappa}} I_{a}^{- \\frac{1}{2 \\kappa}} e^{i \\pi}\\right) \\operatorname{polygamma}{\\left(0,1 - 2 \\kappa \\right)}}{\\left(\\sqrt{\\frac{1}{\\int\\limits_{0}^{I_{a}} e^{- 2 \\left(\\frac{I_{*}}{I'}\\right)^{\\frac{1}{2 \\kappa}}}\\, dI'}}\\right) \\Gamma\\left(1 - 2 \\kappa\\right)} - \\frac{4 I_{*} \\kappa^{2} e^{2 i \\pi \\kappa} \\Gamma\\left(- 2 \\kappa\\right) \\gamma\\left(2 \\kappa e^{i \\pi}, I_{*}^{\\frac{1}{2 \\kappa}} I_{a}^{- \\frac{1}{2 \\kappa}} e^{i \\pi}\\right) \\int\\limits_{0}^{I_{a}} \\frac{\\left(\\frac{I_{*}}{I'}\\right)^{\\frac{1}{2 \\kappa}} e^{- 2 \\left(\\frac{I_{*}}{I'}\\right)^{\\frac{1}{2 \\kappa}}} \\log{\\left(\\frac{I_{*}}{I'} \\right)}}{\\kappa^{2}}\\, dI'}{\\left(\\sqrt{\\frac{1}{\\int\\limits_{0}^{I_{a}} e^{- 2 \\left(\\frac{I_{*}}{I'}\\right)^{\\frac{1}{2 \\kappa}}}\\, dI'}}\\right) \\Gamma\\left(1 - 2 \\kappa\\right) \\int\\limits_{0}^{I_{a}} e^{- 2 \\left(\\frac{I_{*}}{I'}\\right)^{\\frac{1}{2 \\kappa}}}\\, dI'} - \\frac{16 i \\pi I_{*} \\kappa^{2} e^{2 i \\pi \\kappa} \\Gamma\\left(- 2 \\kappa\\right) \\gamma\\left(2 \\kappa e^{i \\pi}, I_{*}^{\\frac{1}{2 \\kappa}} I_{a}^{- \\frac{1}{2 \\kappa}} e^{i \\pi}\\right)}{\\left(\\sqrt{\\frac{1}{\\int\\limits_{0}^{I_{a}} e^{- 2 \\left(\\frac{I_{*}}{I'}\\right)^{\\frac{1}{2 \\kappa}}}\\, dI'}}\\right) \\Gamma\\left(1 - 2 \\kappa\\right)} + \\frac{16 I_{*} \\kappa e^{2 i \\pi \\kappa} \\Gamma\\left(- 2 \\kappa\\right) \\gamma\\left(2 \\kappa e^{i \\pi}, I^{- \\frac{1}{2 \\kappa}} I_{*}^{\\frac{1}{2 \\kappa}} e^{i \\pi}\\right)}{\\left(\\sqrt{\\frac{1}{\\int\\limits_{0}^{I_{a}} e^{- 2 \\left(\\frac{I_{*}}{I'}\\right)^{\\frac{1}{2 \\kappa}}}\\, dI'}}\\right) \\Gamma\\left(1 - 2 \\kappa\\right)} - \\frac{16 I_{*} \\kappa e^{2 i \\pi \\kappa} \\Gamma\\left(- 2 \\kappa\\right) \\gamma\\left(2 \\kappa e^{i \\pi}, I_{*}^{\\frac{1}{2 \\kappa}} I_{a}^{- \\frac{1}{2 \\kappa}} e^{i \\pi}\\right)}{\\left(\\sqrt{\\frac{1}{\\int\\limits_{0}^{I_{a}} e^{- 2 \\left(\\frac{I_{*}}{I'}\\right)^{\\frac{1}{2 \\kappa}}}\\, dI'}}\\right) \\Gamma\\left(1 - 2 \\kappa\\right)}\\right) e^{- 2 \\left(\\frac{I_{*}}{I}\\right)^{\\frac{1}{2 \\kappa}}}}{8 I^{2} \\kappa^{2} \\int\\limits_{0}^{I_{a}} e^{- 2 \\left(\\frac{I_{*}}{I'}\\right)^{\\frac{1}{2 \\kappa}}}\\, dI'} - \\frac{\\left(\\frac{I_{*}}{I}\\right)^{\\frac{1}{\\kappa}} \\left(\\left(\\frac{4 I_{*} \\kappa^{2} e^{2 i \\pi \\kappa} \\Gamma\\left(- 2 \\kappa\\right) \\gamma\\left(2 \\kappa e^{i \\pi}, I^{- \\frac{1}{2 \\kappa}} I_{*}^{\\frac{1}{2 \\kappa}} e^{i \\pi}\\right)}{\\left(\\sqrt{\\frac{1}{\\int\\limits_{0}^{I_{a}} e^{- 2 \\left(\\frac{I_{*}}{I'}\\right)^{\\frac{1}{2 \\kappa}}}\\, dI'}}\\right) \\Gamma\\left(1 - 2 \\kappa\\right)} - \\frac{4 I_{*} \\kappa^{2} e^{2 i \\pi \\kappa} \\Gamma\\left(- 2 \\kappa\\right) \\gamma\\left(2 \\kappa e^{i \\pi}, I_{*}^{\\frac{1}{2 \\kappa}} I_{a}^{- \\frac{1}{2 \\kappa}} e^{i \\pi}\\right)}{\\left(\\sqrt{\\frac{1}{\\int\\limits_{0}^{I_{a}} e^{- 2 \\left(\\frac{I_{*}}{I'}\\right)^{\\frac{1}{2 \\kappa}}}\\, dI'}}\\right) \\Gamma\\left(1 - 2 \\kappa\\right)}\\right)^{2}\\right) e^{- 2 \\left(\\frac{I_{*}}{I}\\right)^{\\frac{1}{2 \\kappa}}}}{4 I^{2} \\kappa^{3} \\int\\limits_{0}^{I_{a}} e^{- 2 \\left(\\frac{I_{*}}{I'}\\right)^{\\frac{1}{2 \\kappa}}}\\, dI'} + \\frac{\\left(\\frac{I_{*}}{I}\\right)^{\\frac{3}{2 \\kappa}} \\left(\\left(\\frac{4 I_{*} \\kappa^{2} e^{2 i \\pi \\kappa} \\Gamma\\left(- 2 \\kappa\\right) \\gamma\\left(2 \\kappa e^{i \\pi}, I^{- \\frac{1}{2 \\kappa}} I_{*}^{\\frac{1}{2 \\kappa}} e^{i \\pi}\\right)}{\\left(\\sqrt{\\frac{1}{\\int\\limits_{0}^{I_{a}} e^{- 2 \\left(\\frac{I_{*}}{I'}\\right)^{\\frac{1}{2 \\kappa}}}\\, dI'}}\\right) \\Gamma\\left(1 - 2 \\kappa\\right)} - \\frac{4 I_{*} \\kappa^{2} e^{2 i \\pi \\kappa} \\Gamma\\left(- 2 \\kappa\\right) \\gamma\\left(2 \\kappa e^{i \\pi}, I_{*}^{\\frac{1}{2 \\kappa}} I_{a}^{- \\frac{1}{2 \\kappa}} e^{i \\pi}\\right)}{\\left(\\sqrt{\\frac{1}{\\int\\limits_{0}^{I_{a}} e^{- 2 \\left(\\frac{I_{*}}{I'}\\right)^{\\frac{1}{2 \\kappa}}}\\, dI'}}\\right) \\Gamma\\left(1 - 2 \\kappa\\right)}\\right)^{2}\\right) e^{- 2 \\left(\\frac{I_{*}}{I}\\right)^{\\frac{1}{2 \\kappa}}} \\log{\\left(\\frac{I_{*}}{I} \\right)}}{8 I^{2} \\kappa^{4} \\int\\limits_{0}^{I_{a}} e^{- 2 \\left(\\frac{I_{*}}{I'}\\right)^{\\frac{1}{2 \\kappa}}}\\, dI'} - \\frac{\\left(\\frac{I_{*}}{I}\\right)^{\\frac{1}{\\kappa}} \\left(\\left(\\frac{4 I_{*} \\kappa^{2} e^{2 i \\pi \\kappa} \\Gamma\\left(- 2 \\kappa\\right) \\gamma\\left(2 \\kappa e^{i \\pi}, I^{- \\frac{1}{2 \\kappa}} I_{*}^{\\frac{1}{2 \\kappa}} e^{i \\pi}\\right)}{\\left(\\sqrt{\\frac{1}{\\int\\limits_{0}^{I_{a}} e^{- 2 \\left(\\frac{I_{*}}{I'}\\right)^{\\frac{1}{2 \\kappa}}}\\, dI'}}\\right) \\Gamma\\left(1 - 2 \\kappa\\right)} - \\frac{4 I_{*} \\kappa^{2} e^{2 i \\pi \\kappa} \\Gamma\\left(- 2 \\kappa\\right) \\gamma\\left(2 \\kappa e^{i \\pi}, I_{*}^{\\frac{1}{2 \\kappa}} I_{a}^{- \\frac{1}{2 \\kappa}} e^{i \\pi}\\right)}{\\left(\\sqrt{\\frac{1}{\\int\\limits_{0}^{I_{a}} e^{- 2 \\left(\\frac{I_{*}}{I'}\\right)^{\\frac{1}{2 \\kappa}}}\\, dI'}}\\right) \\Gamma\\left(1 - 2 \\kappa\\right)}\\right)^{2}\\right) e^{- 2 \\left(\\frac{I_{*}}{I}\\right)^{\\frac{1}{2 \\kappa}}} \\log{\\left(\\frac{I_{*}}{I} \\right)}}{8 I^{2} \\kappa^{4} \\int\\limits_{0}^{I_{a}} e^{- 2 \\left(\\frac{I_{*}}{I'}\\right)^{\\frac{1}{2 \\kappa}}}\\, dI'}\\right) e^{2 \\left(\\frac{I_{*}}{I}\\right)^{\\frac{1}{2 \\kappa}}} \\int\\limits_{0}^{I_{a}} e^{- 2 \\left(\\frac{I_{*}}{I'}\\right)^{\\frac{1}{2 \\kappa}}}\\, dI'}{\\sqrt{9 + \\frac{\\left(\\frac{I_{*}}{I}\\right)^{\\frac{1}{\\kappa}} \\left(\\left(\\frac{4 I_{*} \\kappa^{2} e^{2 i \\pi \\kappa} \\Gamma\\left(- 2 \\kappa\\right) \\gamma\\left(2 \\kappa e^{i \\pi}, I^{- \\frac{1}{2 \\kappa}} I_{*}^{\\frac{1}{2 \\kappa}} e^{i \\pi}\\right)}{\\left(\\sqrt{\\frac{1}{\\int\\limits_{0}^{I_{a}} e^{- 2 \\left(\\frac{I_{*}}{I'}\\right)^{\\frac{1}{2 \\kappa}}}\\, dI'}}\\right) \\Gamma\\left(1 - 2 \\kappa\\right)} - \\frac{4 I_{*} \\kappa^{2} e^{2 i \\pi \\kappa} \\Gamma\\left(- 2 \\kappa\\right) \\gamma\\left(2 \\kappa e^{i \\pi}, I_{*}^{\\frac{1}{2 \\kappa}} I_{a}^{- \\frac{1}{2 \\kappa}} e^{i \\pi}\\right)}{\\left(\\sqrt{\\frac{1}{\\int\\limits_{0}^{I_{a}} e^{- 2 \\left(\\frac{I_{*}}{I'}\\right)^{\\frac{1}{2 \\kappa}}}\\, dI'}}\\right) \\Gamma\\left(1 - 2 \\kappa\\right)}\\right)^{2}\\right) e^{- 2 \\left(\\frac{I_{*}}{I}\\right)^{\\frac{1}{2 \\kappa}}}}{4 I^{2} \\kappa^{2} \\int\\limits_{0}^{I_{a}} e^{- 2 \\left(\\frac{I_{*}}{I'}\\right)^{\\frac{1}{2 \\kappa}}}\\, dI'}}} + 16 I^{2} \\kappa \\left(\\frac{I_{*}}{I}\\right)^{- \\frac{1}{\\kappa}} \\left(\\sqrt{9 + \\frac{\\left(\\frac{I_{*}}{I}\\right)^{\\frac{1}{\\kappa}} \\left(\\left(\\frac{4 I_{*} \\kappa^{2} e^{2 i \\pi \\kappa} \\Gamma\\left(- 2 \\kappa\\right) \\gamma\\left(2 \\kappa e^{i \\pi}, I^{- \\frac{1}{2 \\kappa}} I_{*}^{\\frac{1}{2 \\kappa}} e^{i \\pi}\\right)}{\\left(\\sqrt{\\frac{1}{\\int\\limits_{0}^{I_{a}} e^{- 2 \\left(\\frac{I_{*}}{I'}\\right)^{\\frac{1}{2 \\kappa}}}\\, dI'}}\\right) \\Gamma\\left(1 - 2 \\kappa\\right)} - \\frac{4 I_{*} \\kappa^{2} e^{2 i \\pi \\kappa} \\Gamma\\left(- 2 \\kappa\\right) \\gamma\\left(2 \\kappa e^{i \\pi}, I_{*}^{\\frac{1}{2 \\kappa}} I_{a}^{- \\frac{1}{2 \\kappa}} e^{i \\pi}\\right)}{\\left(\\sqrt{\\frac{1}{\\int\\limits_{0}^{I_{a}} e^{- 2 \\left(\\frac{I_{*}}{I'}\\right)^{\\frac{1}{2 \\kappa}}}\\, dI'}}\\right) \\Gamma\\left(1 - 2 \\kappa\\right)}\\right)^{2}\\right) e^{- 2 \\left(\\frac{I_{*}}{I}\\right)^{\\frac{1}{2 \\kappa}}}}{4 I^{2} \\kappa^{2} \\int\\limits_{0}^{I_{a}} e^{- 2 \\left(\\frac{I_{*}}{I'}\\right)^{\\frac{1}{2 \\kappa}}}\\, dI'}} - 3\\right) e^{2 \\left(\\frac{I_{*}}{I}\\right)^{\\frac{1}{2 \\kappa}}} \\int\\limits_{0}^{I_{a}} e^{- 2 \\left(\\frac{I_{*}}{I'}\\right)^{\\frac{1}{2 \\kappa}}}\\, dI' + 8 I^{2} \\left(\\frac{I_{*}}{I}\\right)^{- \\frac{1}{\\kappa}} \\left(\\sqrt{9 + \\frac{\\left(\\frac{I_{*}}{I}\\right)^{\\frac{1}{\\kappa}} \\left(\\left(\\frac{4 I_{*} \\kappa^{2} e^{2 i \\pi \\kappa} \\Gamma\\left(- 2 \\kappa\\right) \\gamma\\left(2 \\kappa e^{i \\pi}, I^{- \\frac{1}{2 \\kappa}} I_{*}^{\\frac{1}{2 \\kappa}} e^{i \\pi}\\right)}{\\left(\\sqrt{\\frac{1}{\\int\\limits_{0}^{I_{a}} e^{- 2 \\left(\\frac{I_{*}}{I'}\\right)^{\\frac{1}{2 \\kappa}}}\\, dI'}}\\right) \\Gamma\\left(1 - 2 \\kappa\\right)} - \\frac{4 I_{*} \\kappa^{2} e^{2 i \\pi \\kappa} \\Gamma\\left(- 2 \\kappa\\right) \\gamma\\left(2 \\kappa e^{i \\pi}, I_{*}^{\\frac{1}{2 \\kappa}} I_{a}^{- \\frac{1}{2 \\kappa}} e^{i \\pi}\\right)}{\\left(\\sqrt{\\frac{1}{\\int\\limits_{0}^{I_{a}} e^{- 2 \\left(\\frac{I_{*}}{I'}\\right)^{\\frac{1}{2 \\kappa}}}\\, dI'}}\\right) \\Gamma\\left(1 - 2 \\kappa\\right)}\\right)^{2}\\right) e^{- 2 \\left(\\frac{I_{*}}{I}\\right)^{\\frac{1}{2 \\kappa}}}}{4 I^{2} \\kappa^{2} \\int\\limits_{0}^{I_{a}} e^{- 2 \\left(\\frac{I_{*}}{I'}\\right)^{\\frac{1}{2 \\kappa}}}\\, dI'}} - 3\\right) e^{2 \\left(\\frac{I_{*}}{I}\\right)^{\\frac{1}{2 \\kappa}}} \\log{\\left(\\frac{I_{*}}{I} \\right)} \\int\\limits_{0}^{I_{a}} e^{- 2 \\left(\\frac{I_{*}}{I'}\\right)^{\\frac{1}{2 \\kappa}}}\\, dI' - 8 I^{2} \\left(\\frac{I_{*}}{I}\\right)^{- \\frac{1}{2 \\kappa}} \\left(\\sqrt{9 + \\frac{\\left(\\frac{I_{*}}{I}\\right)^{\\frac{1}{\\kappa}} \\left(\\left(\\frac{4 I_{*} \\kappa^{2} e^{2 i \\pi \\kappa} \\Gamma\\left(- 2 \\kappa\\right) \\gamma\\left(2 \\kappa e^{i \\pi}, I^{- \\frac{1}{2 \\kappa}} I_{*}^{\\frac{1}{2 \\kappa}} e^{i \\pi}\\right)}{\\left(\\sqrt{\\frac{1}{\\int\\limits_{0}^{I_{a}} e^{- 2 \\left(\\frac{I_{*}}{I'}\\right)^{\\frac{1}{2 \\kappa}}}\\, dI'}}\\right) \\Gamma\\left(1 - 2 \\kappa\\right)} - \\frac{4 I_{*} \\kappa^{2} e^{2 i \\pi \\kappa} \\Gamma\\left(- 2 \\kappa\\right) \\gamma\\left(2 \\kappa e^{i \\pi}, I_{*}^{\\frac{1}{2 \\kappa}} I_{a}^{- \\frac{1}{2 \\kappa}} e^{i \\pi}\\right)}{\\left(\\sqrt{\\frac{1}{\\int\\limits_{0}^{I_{a}} e^{- 2 \\left(\\frac{I_{*}}{I'}\\right)^{\\frac{1}{2 \\kappa}}}\\, dI'}}\\right) \\Gamma\\left(1 - 2 \\kappa\\right)}\\right)^{2}\\right) e^{- 2 \\left(\\frac{I_{*}}{I}\\right)^{\\frac{1}{2 \\kappa}}}}{4 I^{2} \\kappa^{2} \\int\\limits_{0}^{I_{a}} e^{- 2 \\left(\\frac{I_{*}}{I'}\\right)^{\\frac{1}{2 \\kappa}}}\\, dI'}} - 3\\right) e^{2 \\left(\\frac{I_{*}}{I}\\right)^{\\frac{1}{2 \\kappa}}} \\log{\\left(\\frac{I_{*}}{I} \\right)} \\int\\limits_{0}^{I_{a}} e^{- 2 \\left(\\frac{I_{*}}{I'}\\right)^{\\frac{1}{2 \\kappa}}}\\, dI'$"
      ],
      "text/plain": [
       "8*I**2*kappa**2*(I_*/I)**(-1/kappa)*(sqrt(9 + (I_*/I)**(1/kappa)*(4*I_**kappa**2*exp(2*I*pi*kappa)*gamma(-2*kappa)*lowergamma(2*kappa*exp_polar(I*pi), I**(-1/(2*kappa))*I_***(1/(2*kappa))*exp_polar(I*pi))/(sqrt(1/Integral(exp(-2*(I_*/I')**(1/(2*kappa))), (I', 0, I_a)))*gamma(1 - 2*kappa)) - 4*I_**kappa**2*exp(2*I*pi*kappa)*gamma(-2*kappa)*lowergamma(2*kappa*exp_polar(I*pi), I_***(1/(2*kappa))*I_a**(-1/(2*kappa))*exp_polar(I*pi))/(sqrt(1/Integral(exp(-2*(I_*/I')**(1/(2*kappa))), (I', 0, I_a)))*gamma(1 - 2*kappa)))**2*exp(-2*(I_*/I)**(1/(2*kappa)))/(4*I**2*kappa**2*Integral(exp(-2*(I_*/I')**(1/(2*kappa))), (I', 0, I_a)))) - 3)*exp(2*(I_*/I)**(1/(2*kappa)))*Integral((I_*/I')**(1/(2*kappa))*exp(-2*(I_*/I')**(1/(2*kappa)))*log(I_*/I')/kappa**2, (I', 0, I_a)) + 8*I**2*kappa**2*(I_*/I)**(-1/kappa)*(-(I_*/I)**(1/kappa)*(4*I_**kappa**2*exp(2*I*pi*kappa)*gamma(-2*kappa)*lowergamma(2*kappa*exp_polar(I*pi), I**(-1/(2*kappa))*I_***(1/(2*kappa))*exp_polar(I*pi))/(sqrt(1/Integral(exp(-2*(I_*/I')**(1/(2*kappa))), (I', 0, I_a)))*gamma(1 - 2*kappa)) - 4*I_**kappa**2*exp(2*I*pi*kappa)*gamma(-2*kappa)*lowergamma(2*kappa*exp_polar(I*pi), I_***(1/(2*kappa))*I_a**(-1/(2*kappa))*exp_polar(I*pi))/(sqrt(1/Integral(exp(-2*(I_*/I')**(1/(2*kappa))), (I', 0, I_a)))*gamma(1 - 2*kappa)))**2*exp(-2*(I_*/I)**(1/(2*kappa)))*Integral((I_*/I')**(1/(2*kappa))*exp(-2*(I_*/I')**(1/(2*kappa)))*log(I_*/I')/kappa**2, (I', 0, I_a))/(8*I**2*kappa**2*Integral(exp(-2*(I_*/I')**(1/(2*kappa))), (I', 0, I_a))**2) + (I_*/I)**(1/kappa)*(4*I_**kappa**2*exp(2*I*pi*kappa)*gamma(-2*kappa)*lowergamma(2*kappa*exp_polar(I*pi), I**(-1/(2*kappa))*I_***(1/(2*kappa))*exp_polar(I*pi))/(sqrt(1/Integral(exp(-2*(I_*/I')**(1/(2*kappa))), (I', 0, I_a)))*gamma(1 - 2*kappa)) - 4*I_**kappa**2*exp(2*I*pi*kappa)*gamma(-2*kappa)*lowergamma(2*kappa*exp_polar(I*pi), I_***(1/(2*kappa))*I_a**(-1/(2*kappa))*exp_polar(I*pi))/(sqrt(1/Integral(exp(-2*(I_*/I')**(1/(2*kappa))), (I', 0, I_a)))*gamma(1 - 2*kappa)))*(8*I_**kappa**2*((I**(-1/(2*kappa))*I_***(1/(2*kappa))*exp_polar(I*pi))**(2*kappa*exp_polar(I*pi) - 1)*(I**(-1/(2*kappa))*I_***(1/(2*kappa))*exp_polar(I*pi)*log(I)/(2*kappa**2) - I**(-1/(2*kappa))*I_***(1/(2*kappa))*exp_polar(I*pi)*log(I_*)/(2*kappa**2))*exp(I**(-1/(2*kappa))*I_***(1/(2*kappa))) + 2*(-meijerg(((), (1, 1)), ((0, 0, -2*kappa), ()), I**(-1/(2*kappa))*I_***(1/(2*kappa))*exp_polar(I*pi)) - log(I**(-1/(2*kappa))*I_***(1/(2*kappa))*exp_polar(I*pi))*uppergamma(2*kappa*exp_polar(I*pi), I**(-1/(2*kappa))*I_***(1/(2*kappa))*exp_polar(I*pi)) + gamma(2*kappa*exp_polar(I*pi))*polygamma(0, -2*kappa))*exp_polar(I*pi))*exp(2*I*pi*kappa)*gamma(-2*kappa)/(sqrt(1/Integral(exp(-2*(I_*/I')**(1/(2*kappa))), (I', 0, I_a)))*gamma(1 - 2*kappa)) - 8*I_**kappa**2*((I_***(1/(2*kappa))*I_a**(-1/(2*kappa))*exp_polar(I*pi))**(2*kappa*exp_polar(I*pi) - 1)*(-I_***(1/(2*kappa))*I_a**(-1/(2*kappa))*exp_polar(I*pi)*log(I_*)/(2*kappa**2) + I_***(1/(2*kappa))*I_a**(-1/(2*kappa))*exp_polar(I*pi)*log(I_a)/(2*kappa**2))*exp(I_***(1/(2*kappa))*I_a**(-1/(2*kappa))) + 2*(-meijerg(((), (1, 1)), ((0, 0, -2*kappa), ()), I_***(1/(2*kappa))*I_a**(-1/(2*kappa))*exp_polar(I*pi)) - log(I_***(1/(2*kappa))*I_a**(-1/(2*kappa))*exp_polar(I*pi))*uppergamma(2*kappa*exp_polar(I*pi), I_***(1/(2*kappa))*I_a**(-1/(2*kappa))*exp_polar(I*pi)) + gamma(2*kappa*exp_polar(I*pi))*polygamma(0, -2*kappa))*exp_polar(I*pi))*exp(2*I*pi*kappa)*gamma(-2*kappa)/(sqrt(1/Integral(exp(-2*(I_*/I')**(1/(2*kappa))), (I', 0, I_a)))*gamma(1 - 2*kappa)) - 16*I_**kappa**2*exp(2*I*pi*kappa)*gamma(-2*kappa)*lowergamma(2*kappa*exp_polar(I*pi), I**(-1/(2*kappa))*I_***(1/(2*kappa))*exp_polar(I*pi))*polygamma(0, -2*kappa)/(sqrt(1/Integral(exp(-2*(I_*/I')**(1/(2*kappa))), (I', 0, I_a)))*gamma(1 - 2*kappa)) + 16*I_**kappa**2*exp(2*I*pi*kappa)*gamma(-2*kappa)*lowergamma(2*kappa*exp_polar(I*pi), I**(-1/(2*kappa))*I_***(1/(2*kappa))*exp_polar(I*pi))*polygamma(0, 1 - 2*kappa)/(sqrt(1/Integral(exp(-2*(I_*/I')**(1/(2*kappa))), (I', 0, I_a)))*gamma(1 - 2*kappa)) + 4*I_**kappa**2*exp(2*I*pi*kappa)*gamma(-2*kappa)*lowergamma(2*kappa*exp_polar(I*pi), I**(-1/(2*kappa))*I_***(1/(2*kappa))*exp_polar(I*pi))*Integral((I_*/I')**(1/(2*kappa))*exp(-2*(I_*/I')**(1/(2*kappa)))*log(I_*/I')/kappa**2, (I', 0, I_a))/(sqrt(1/Integral(exp(-2*(I_*/I')**(1/(2*kappa))), (I', 0, I_a)))*gamma(1 - 2*kappa)*Integral(exp(-2*(I_*/I')**(1/(2*kappa))), (I', 0, I_a))) + 16*I*pi*I_**kappa**2*exp(2*I*pi*kappa)*gamma(-2*kappa)*lowergamma(2*kappa*exp_polar(I*pi), I**(-1/(2*kappa))*I_***(1/(2*kappa))*exp_polar(I*pi))/(sqrt(1/Integral(exp(-2*(I_*/I')**(1/(2*kappa))), (I', 0, I_a)))*gamma(1 - 2*kappa)) + 16*I_**kappa**2*exp(2*I*pi*kappa)*gamma(-2*kappa)*lowergamma(2*kappa*exp_polar(I*pi), I_***(1/(2*kappa))*I_a**(-1/(2*kappa))*exp_polar(I*pi))*polygamma(0, -2*kappa)/(sqrt(1/Integral(exp(-2*(I_*/I')**(1/(2*kappa))), (I', 0, I_a)))*gamma(1 - 2*kappa)) - 16*I_**kappa**2*exp(2*I*pi*kappa)*gamma(-2*kappa)*lowergamma(2*kappa*exp_polar(I*pi), I_***(1/(2*kappa))*I_a**(-1/(2*kappa))*exp_polar(I*pi))*polygamma(0, 1 - 2*kappa)/(sqrt(1/Integral(exp(-2*(I_*/I')**(1/(2*kappa))), (I', 0, I_a)))*gamma(1 - 2*kappa)) - 4*I_**kappa**2*exp(2*I*pi*kappa)*gamma(-2*kappa)*lowergamma(2*kappa*exp_polar(I*pi), I_***(1/(2*kappa))*I_a**(-1/(2*kappa))*exp_polar(I*pi))*Integral((I_*/I')**(1/(2*kappa))*exp(-2*(I_*/I')**(1/(2*kappa)))*log(I_*/I')/kappa**2, (I', 0, I_a))/(sqrt(1/Integral(exp(-2*(I_*/I')**(1/(2*kappa))), (I', 0, I_a)))*gamma(1 - 2*kappa)*Integral(exp(-2*(I_*/I')**(1/(2*kappa))), (I', 0, I_a))) - 16*I*pi*I_**kappa**2*exp(2*I*pi*kappa)*gamma(-2*kappa)*lowergamma(2*kappa*exp_polar(I*pi), I_***(1/(2*kappa))*I_a**(-1/(2*kappa))*exp_polar(I*pi))/(sqrt(1/Integral(exp(-2*(I_*/I')**(1/(2*kappa))), (I', 0, I_a)))*gamma(1 - 2*kappa)) + 16*I_**kappa*exp(2*I*pi*kappa)*gamma(-2*kappa)*lowergamma(2*kappa*exp_polar(I*pi), I**(-1/(2*kappa))*I_***(1/(2*kappa))*exp_polar(I*pi))/(sqrt(1/Integral(exp(-2*(I_*/I')**(1/(2*kappa))), (I', 0, I_a)))*gamma(1 - 2*kappa)) - 16*I_**kappa*exp(2*I*pi*kappa)*gamma(-2*kappa)*lowergamma(2*kappa*exp_polar(I*pi), I_***(1/(2*kappa))*I_a**(-1/(2*kappa))*exp_polar(I*pi))/(sqrt(1/Integral(exp(-2*(I_*/I')**(1/(2*kappa))), (I', 0, I_a)))*gamma(1 - 2*kappa)))*exp(-2*(I_*/I)**(1/(2*kappa)))/(8*I**2*kappa**2*Integral(exp(-2*(I_*/I')**(1/(2*kappa))), (I', 0, I_a))) - (I_*/I)**(1/kappa)*(4*I_**kappa**2*exp(2*I*pi*kappa)*gamma(-2*kappa)*lowergamma(2*kappa*exp_polar(I*pi), I**(-1/(2*kappa))*I_***(1/(2*kappa))*exp_polar(I*pi))/(sqrt(1/Integral(exp(-2*(I_*/I')**(1/(2*kappa))), (I', 0, I_a)))*gamma(1 - 2*kappa)) - 4*I_**kappa**2*exp(2*I*pi*kappa)*gamma(-2*kappa)*lowergamma(2*kappa*exp_polar(I*pi), I_***(1/(2*kappa))*I_a**(-1/(2*kappa))*exp_polar(I*pi))/(sqrt(1/Integral(exp(-2*(I_*/I')**(1/(2*kappa))), (I', 0, I_a)))*gamma(1 - 2*kappa)))**2*exp(-2*(I_*/I)**(1/(2*kappa)))/(4*I**2*kappa**3*Integral(exp(-2*(I_*/I')**(1/(2*kappa))), (I', 0, I_a))) + (I_*/I)**(3/(2*kappa))*(4*I_**kappa**2*exp(2*I*pi*kappa)*gamma(-2*kappa)*lowergamma(2*kappa*exp_polar(I*pi), I**(-1/(2*kappa))*I_***(1/(2*kappa))*exp_polar(I*pi))/(sqrt(1/Integral(exp(-2*(I_*/I')**(1/(2*kappa))), (I', 0, I_a)))*gamma(1 - 2*kappa)) - 4*I_**kappa**2*exp(2*I*pi*kappa)*gamma(-2*kappa)*lowergamma(2*kappa*exp_polar(I*pi), I_***(1/(2*kappa))*I_a**(-1/(2*kappa))*exp_polar(I*pi))/(sqrt(1/Integral(exp(-2*(I_*/I')**(1/(2*kappa))), (I', 0, I_a)))*gamma(1 - 2*kappa)))**2*exp(-2*(I_*/I)**(1/(2*kappa)))*log(I_*/I)/(8*I**2*kappa**4*Integral(exp(-2*(I_*/I')**(1/(2*kappa))), (I', 0, I_a))) - (I_*/I)**(1/kappa)*(4*I_**kappa**2*exp(2*I*pi*kappa)*gamma(-2*kappa)*lowergamma(2*kappa*exp_polar(I*pi), I**(-1/(2*kappa))*I_***(1/(2*kappa))*exp_polar(I*pi))/(sqrt(1/Integral(exp(-2*(I_*/I')**(1/(2*kappa))), (I', 0, I_a)))*gamma(1 - 2*kappa)) - 4*I_**kappa**2*exp(2*I*pi*kappa)*gamma(-2*kappa)*lowergamma(2*kappa*exp_polar(I*pi), I_***(1/(2*kappa))*I_a**(-1/(2*kappa))*exp_polar(I*pi))/(sqrt(1/Integral(exp(-2*(I_*/I')**(1/(2*kappa))), (I', 0, I_a)))*gamma(1 - 2*kappa)))**2*exp(-2*(I_*/I)**(1/(2*kappa)))*log(I_*/I)/(8*I**2*kappa**4*Integral(exp(-2*(I_*/I')**(1/(2*kappa))), (I', 0, I_a))))*exp(2*(I_*/I)**(1/(2*kappa)))*Integral(exp(-2*(I_*/I')**(1/(2*kappa))), (I', 0, I_a))/sqrt(9 + (I_*/I)**(1/kappa)*(4*I_**kappa**2*exp(2*I*pi*kappa)*gamma(-2*kappa)*lowergamma(2*kappa*exp_polar(I*pi), I**(-1/(2*kappa))*I_***(1/(2*kappa))*exp_polar(I*pi))/(sqrt(1/Integral(exp(-2*(I_*/I')**(1/(2*kappa))), (I', 0, I_a)))*gamma(1 - 2*kappa)) - 4*I_**kappa**2*exp(2*I*pi*kappa)*gamma(-2*kappa)*lowergamma(2*kappa*exp_polar(I*pi), I_***(1/(2*kappa))*I_a**(-1/(2*kappa))*exp_polar(I*pi))/(sqrt(1/Integral(exp(-2*(I_*/I')**(1/(2*kappa))), (I', 0, I_a)))*gamma(1 - 2*kappa)))**2*exp(-2*(I_*/I)**(1/(2*kappa)))/(4*I**2*kappa**2*Integral(exp(-2*(I_*/I')**(1/(2*kappa))), (I', 0, I_a)))) + 16*I**2*kappa*(I_*/I)**(-1/kappa)*(sqrt(9 + (I_*/I)**(1/kappa)*(4*I_**kappa**2*exp(2*I*pi*kappa)*gamma(-2*kappa)*lowergamma(2*kappa*exp_polar(I*pi), I**(-1/(2*kappa))*I_***(1/(2*kappa))*exp_polar(I*pi))/(sqrt(1/Integral(exp(-2*(I_*/I')**(1/(2*kappa))), (I', 0, I_a)))*gamma(1 - 2*kappa)) - 4*I_**kappa**2*exp(2*I*pi*kappa)*gamma(-2*kappa)*lowergamma(2*kappa*exp_polar(I*pi), I_***(1/(2*kappa))*I_a**(-1/(2*kappa))*exp_polar(I*pi))/(sqrt(1/Integral(exp(-2*(I_*/I')**(1/(2*kappa))), (I', 0, I_a)))*gamma(1 - 2*kappa)))**2*exp(-2*(I_*/I)**(1/(2*kappa)))/(4*I**2*kappa**2*Integral(exp(-2*(I_*/I')**(1/(2*kappa))), (I', 0, I_a)))) - 3)*exp(2*(I_*/I)**(1/(2*kappa)))*Integral(exp(-2*(I_*/I')**(1/(2*kappa))), (I', 0, I_a)) + 8*I**2*(I_*/I)**(-1/kappa)*(sqrt(9 + (I_*/I)**(1/kappa)*(4*I_**kappa**2*exp(2*I*pi*kappa)*gamma(-2*kappa)*lowergamma(2*kappa*exp_polar(I*pi), I**(-1/(2*kappa))*I_***(1/(2*kappa))*exp_polar(I*pi))/(sqrt(1/Integral(exp(-2*(I_*/I')**(1/(2*kappa))), (I', 0, I_a)))*gamma(1 - 2*kappa)) - 4*I_**kappa**2*exp(2*I*pi*kappa)*gamma(-2*kappa)*lowergamma(2*kappa*exp_polar(I*pi), I_***(1/(2*kappa))*I_a**(-1/(2*kappa))*exp_polar(I*pi))/(sqrt(1/Integral(exp(-2*(I_*/I')**(1/(2*kappa))), (I', 0, I_a)))*gamma(1 - 2*kappa)))**2*exp(-2*(I_*/I)**(1/(2*kappa)))/(4*I**2*kappa**2*Integral(exp(-2*(I_*/I')**(1/(2*kappa))), (I', 0, I_a)))) - 3)*exp(2*(I_*/I)**(1/(2*kappa)))*log(I_*/I)*Integral(exp(-2*(I_*/I')**(1/(2*kappa))), (I', 0, I_a)) - 8*I**2*(I_*/I)**(-1/(2*kappa))*(sqrt(9 + (I_*/I)**(1/kappa)*(4*I_**kappa**2*exp(2*I*pi*kappa)*gamma(-2*kappa)*lowergamma(2*kappa*exp_polar(I*pi), I**(-1/(2*kappa))*I_***(1/(2*kappa))*exp_polar(I*pi))/(sqrt(1/Integral(exp(-2*(I_*/I')**(1/(2*kappa))), (I', 0, I_a)))*gamma(1 - 2*kappa)) - 4*I_**kappa**2*exp(2*I*pi*kappa)*gamma(-2*kappa)*lowergamma(2*kappa*exp_polar(I*pi), I_***(1/(2*kappa))*I_a**(-1/(2*kappa))*exp_polar(I*pi))/(sqrt(1/Integral(exp(-2*(I_*/I')**(1/(2*kappa))), (I', 0, I_a)))*gamma(1 - 2*kappa)))**2*exp(-2*(I_*/I)**(1/(2*kappa)))/(4*I**2*kappa**2*Integral(exp(-2*(I_*/I')**(1/(2*kappa))), (I', 0, I_a)))) - 3)*exp(2*(I_*/I)**(1/(2*kappa)))*log(I_*/I)*Integral(exp(-2*(I_*/I')**(1/(2*kappa))), (I', 0, I_a))"
      ]
     },
     "execution_count": 80,
     "metadata": {},
     "output_type": "execute_result"
    }
   ],
   "source": [
    "diff(mod3, kappa)"
   ]
  },
  {
   "cell_type": "code",
   "execution_count": 52,
   "id": "b2f06485",
   "metadata": {
    "collapsed": true,
    "jupyter": {
     "outputs_hidden": true
    },
    "tags": []
   },
   "outputs": [
    {
     "data": {
      "text/latex": [
       "$\\displaystyle 8 I^{2} \\kappa^{2} \\left(\\frac{I_{*}}{I}\\right)^{- \\frac{1}{\\kappa}} \\left(\\sqrt{9 + \\frac{\\left(\\frac{I_{*}}{I}\\right)^{\\frac{1}{\\kappa}} e^{- 2 \\left(\\frac{I_{*}}{I}\\right)^{\\frac{1}{2 \\kappa}}} \\left(\\int\\limits_{I}^{I_{a}} e^{\\left(\\frac{I_{*}}{I'}\\right)^{\\frac{1}{2 \\kappa}}}\\, dI'\\right)^{2}}{4 I^{2} \\kappa^{2}}} - 3\\right) e^{2 \\left(\\frac{I_{*}}{I}\\right)^{\\frac{1}{2 \\kappa}}} \\int\\limits_{0}^{I_{a}} \\left(- \\frac{\\left(\\frac{I_{*}}{I'}\\right)^{\\frac{1}{2 \\kappa}} e^{- 2 \\left(\\frac{I_{*}}{I'}\\right)^{\\frac{1}{2 \\kappa}}}}{I_{*} \\kappa}\\right)\\, dI' + \\frac{8 I^{2} \\kappa^{2} \\left(\\frac{I_{*}}{I}\\right)^{- \\frac{1}{\\kappa}} \\left(\\frac{\\left(\\frac{I_{*}}{I}\\right)^{\\frac{1}{\\kappa}} e^{- 2 \\left(\\frac{I_{*}}{I}\\right)^{\\frac{1}{2 \\kappa}}} \\left(\\int\\limits_{I}^{I_{a}} \\frac{\\left(\\frac{I_{*}}{I'}\\right)^{\\frac{1}{2 \\kappa}} e^{\\left(\\frac{I_{*}}{I'}\\right)^{\\frac{1}{2 \\kappa}}}}{2 I_{*} \\kappa}\\, dI'\\right) \\int\\limits_{I}^{I_{a}} e^{\\left(\\frac{I_{*}}{I'}\\right)^{\\frac{1}{2 \\kappa}}}\\, dI'}{4 I^{2} \\kappa^{2}} - \\frac{\\left(\\frac{I_{*}}{I}\\right)^{\\frac{3}{2 \\kappa}} e^{- 2 \\left(\\frac{I_{*}}{I}\\right)^{\\frac{1}{2 \\kappa}}} \\left(\\int\\limits_{I}^{I_{a}} e^{\\left(\\frac{I_{*}}{I'}\\right)^{\\frac{1}{2 \\kappa}}}\\, dI'\\right)^{2}}{8 I^{2} I_{*} \\kappa^{3}} + \\frac{\\left(\\frac{I_{*}}{I}\\right)^{\\frac{1}{\\kappa}} e^{- 2 \\left(\\frac{I_{*}}{I}\\right)^{\\frac{1}{2 \\kappa}}} \\left(\\int\\limits_{I}^{I_{a}} e^{\\left(\\frac{I_{*}}{I'}\\right)^{\\frac{1}{2 \\kappa}}}\\, dI'\\right)^{2}}{8 I^{2} I_{*} \\kappa^{3}}\\right) e^{2 \\left(\\frac{I_{*}}{I}\\right)^{\\frac{1}{2 \\kappa}}} \\int\\limits_{0}^{I_{a}} e^{- 2 \\left(\\frac{I_{*}}{I'}\\right)^{\\frac{1}{2 \\kappa}}}\\, dI'}{\\sqrt{9 + \\frac{\\left(\\frac{I_{*}}{I}\\right)^{\\frac{1}{\\kappa}} e^{- 2 \\left(\\frac{I_{*}}{I}\\right)^{\\frac{1}{2 \\kappa}}} \\left(\\int\\limits_{I}^{I_{a}} e^{\\left(\\frac{I_{*}}{I'}\\right)^{\\frac{1}{2 \\kappa}}}\\, dI'\\right)^{2}}{4 I^{2} \\kappa^{2}}}} - \\frac{8 I^{2} \\kappa \\left(\\frac{I_{*}}{I}\\right)^{- \\frac{1}{\\kappa}} \\left(\\sqrt{9 + \\frac{\\left(\\frac{I_{*}}{I}\\right)^{\\frac{1}{\\kappa}} e^{- 2 \\left(\\frac{I_{*}}{I}\\right)^{\\frac{1}{2 \\kappa}}} \\left(\\int\\limits_{I}^{I_{a}} e^{\\left(\\frac{I_{*}}{I'}\\right)^{\\frac{1}{2 \\kappa}}}\\, dI'\\right)^{2}}{4 I^{2} \\kappa^{2}}} - 3\\right) e^{2 \\left(\\frac{I_{*}}{I}\\right)^{\\frac{1}{2 \\kappa}}} \\int\\limits_{0}^{I_{a}} e^{- 2 \\left(\\frac{I_{*}}{I'}\\right)^{\\frac{1}{2 \\kappa}}}\\, dI'}{I_{*}} + \\frac{8 I^{2} \\kappa \\left(\\frac{I_{*}}{I}\\right)^{- \\frac{1}{2 \\kappa}} \\left(\\sqrt{9 + \\frac{\\left(\\frac{I_{*}}{I}\\right)^{\\frac{1}{\\kappa}} e^{- 2 \\left(\\frac{I_{*}}{I}\\right)^{\\frac{1}{2 \\kappa}}} \\left(\\int\\limits_{I}^{I_{a}} e^{\\left(\\frac{I_{*}}{I'}\\right)^{\\frac{1}{2 \\kappa}}}\\, dI'\\right)^{2}}{4 I^{2} \\kappa^{2}}} - 3\\right) e^{2 \\left(\\frac{I_{*}}{I}\\right)^{\\frac{1}{2 \\kappa}}} \\int\\limits_{0}^{I_{a}} e^{- 2 \\left(\\frac{I_{*}}{I'}\\right)^{\\frac{1}{2 \\kappa}}}\\, dI'}{I_{*}}$"
      ],
      "text/plain": [
       "8*I**2*kappa**2*(I_*/I)**(-1/kappa)*(sqrt(9 + (I_*/I)**(1/kappa)*exp(-2*(I_*/I)**(1/(2*kappa)))*Integral(exp((I_*/I')**(1/(2*kappa))), (I', I, I_a))**2/(4*I**2*kappa**2)) - 3)*exp(2*(I_*/I)**(1/(2*kappa)))*Integral(-(I_*/I')**(1/(2*kappa))*exp(-2*(I_*/I')**(1/(2*kappa)))/(I_**kappa), (I', 0, I_a)) + 8*I**2*kappa**2*(I_*/I)**(-1/kappa)*((I_*/I)**(1/kappa)*exp(-2*(I_*/I)**(1/(2*kappa)))*Integral((I_*/I')**(1/(2*kappa))*exp((I_*/I')**(1/(2*kappa)))/(2*I_**kappa), (I', I, I_a))*Integral(exp((I_*/I')**(1/(2*kappa))), (I', I, I_a))/(4*I**2*kappa**2) - (I_*/I)**(3/(2*kappa))*exp(-2*(I_*/I)**(1/(2*kappa)))*Integral(exp((I_*/I')**(1/(2*kappa))), (I', I, I_a))**2/(8*I**2*I_**kappa**3) + (I_*/I)**(1/kappa)*exp(-2*(I_*/I)**(1/(2*kappa)))*Integral(exp((I_*/I')**(1/(2*kappa))), (I', I, I_a))**2/(8*I**2*I_**kappa**3))*exp(2*(I_*/I)**(1/(2*kappa)))*Integral(exp(-2*(I_*/I')**(1/(2*kappa))), (I', 0, I_a))/sqrt(9 + (I_*/I)**(1/kappa)*exp(-2*(I_*/I)**(1/(2*kappa)))*Integral(exp((I_*/I')**(1/(2*kappa))), (I', I, I_a))**2/(4*I**2*kappa**2)) - 8*I**2*kappa*(I_*/I)**(-1/kappa)*(sqrt(9 + (I_*/I)**(1/kappa)*exp(-2*(I_*/I)**(1/(2*kappa)))*Integral(exp((I_*/I')**(1/(2*kappa))), (I', I, I_a))**2/(4*I**2*kappa**2)) - 3)*exp(2*(I_*/I)**(1/(2*kappa)))*Integral(exp(-2*(I_*/I')**(1/(2*kappa))), (I', 0, I_a))/I_* + 8*I**2*kappa*(I_*/I)**(-1/(2*kappa))*(sqrt(9 + (I_*/I)**(1/kappa)*exp(-2*(I_*/I)**(1/(2*kappa)))*Integral(exp((I_*/I')**(1/(2*kappa))), (I', I, I_a))**2/(4*I**2*kappa**2)) - 3)*exp(2*(I_*/I)**(1/(2*kappa)))*Integral(exp(-2*(I_*/I')**(1/(2*kappa))), (I', 0, I_a))/I_*"
      ]
     },
     "execution_count": 52,
     "metadata": {},
     "output_type": "execute_result"
    }
   ],
   "source": [
    "diff(mod3, I_star)"
   ]
  },
  {
   "cell_type": "code",
   "execution_count": null,
   "id": "61735650",
   "metadata": {},
   "outputs": [],
   "source": []
  }
 ],
 "metadata": {
  "kernelspec": {
   "display_name": "Python 3",
   "language": "python",
   "name": "python3"
  },
  "language_info": {
   "codemirror_mode": {
    "name": "ipython",
    "version": 3
   },
   "file_extension": ".py",
   "mimetype": "text/x-python",
   "name": "python",
   "nbconvert_exporter": "python",
   "pygments_lexer": "ipython3",
   "version": "3.8.8"
  }
 },
 "nbformat": 4,
 "nbformat_minor": 5
}
