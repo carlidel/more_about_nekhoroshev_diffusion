{
 "cells": [
  {
   "cell_type": "code",
   "execution_count": 1,
   "id": "45902265",
   "metadata": {},
   "outputs": [],
   "source": [
    "from sympy import *"
   ]
  },
  {
   "cell_type": "code",
   "execution_count": 36,
   "id": "c5aa709f",
   "metadata": {},
   "outputs": [],
   "source": [
    "x, t, nu = symbols('x t nu')\n",
    "I_star, kappa, I, c, I_a, I_prime = symbols(\"I_* kappa I c I_a I'\")"
   ]
  },
  {
   "cell_type": "code",
   "execution_count": 37,
   "id": "02bffa7d",
   "metadata": {},
   "outputs": [
    {
     "data": {
      "text/latex": [
       "$\\displaystyle - \\frac{\\sqrt{2} x e^{- \\frac{\\left(\\frac{\\nu t}{2} + x\\right)^{2}}{2 t}}}{2 \\sqrt{\\pi} t^{\\frac{3}{2}}}$"
      ],
      "text/plain": [
       "-sqrt(2)*x*exp(-(nu*t/2 + x)**2/(2*t))/(2*sqrt(pi)*t**(3/2))"
      ]
     },
     "execution_count": 37,
     "metadata": {},
     "output_type": "execute_result"
    }
   ],
   "source": [
    "current_equation = -(x/(t*sqrt(2*pi*t))) * exp(-(x+(nu/2)*t)**2/(2*t))\n",
    "current_equation"
   ]
  },
  {
   "cell_type": "code",
   "execution_count": 38,
   "id": "a10661f9",
   "metadata": {},
   "outputs": [],
   "source": [
    "derivative = diff(\n",
    "    current_equation, t\n",
    ")"
   ]
  },
  {
   "cell_type": "code",
   "execution_count": 39,
   "id": "20caf68d",
   "metadata": {},
   "outputs": [
    {
     "data": {
      "text/latex": [
       "$\\displaystyle - \\frac{\\sqrt{2} x \\left(- \\frac{\\nu \\left(\\frac{\\nu t}{2} + x\\right)}{2 t} + \\frac{\\left(\\frac{\\nu t}{2} + x\\right)^{2}}{2 t^{2}}\\right) e^{- \\frac{\\left(\\frac{\\nu t}{2} + x\\right)^{2}}{2 t}}}{2 \\sqrt{\\pi} t^{\\frac{3}{2}}} + \\frac{3 \\sqrt{2} x e^{- \\frac{\\left(\\frac{\\nu t}{2} + x\\right)^{2}}{2 t}}}{4 \\sqrt{\\pi} t^{\\frac{5}{2}}}$"
      ],
      "text/plain": [
       "-sqrt(2)*x*(-nu*(nu*t/2 + x)/(2*t) + (nu*t/2 + x)**2/(2*t**2))*exp(-(nu*t/2 + x)**2/(2*t))/(2*sqrt(pi)*t**(3/2)) + 3*sqrt(2)*x*exp(-(nu*t/2 + x)**2/(2*t))/(4*sqrt(pi)*t**(5/2))"
      ]
     },
     "execution_count": 39,
     "metadata": {},
     "output_type": "execute_result"
    }
   ],
   "source": [
    "derivative"
   ]
  },
  {
   "cell_type": "code",
   "execution_count": 40,
   "id": "fb280f13",
   "metadata": {},
   "outputs": [],
   "source": [
    "zero_points = solve(derivative, t)"
   ]
  },
  {
   "cell_type": "code",
   "execution_count": 41,
   "id": "2f41e330",
   "metadata": {},
   "outputs": [
    {
     "data": {
      "text/plain": [
       "2"
      ]
     },
     "execution_count": 41,
     "metadata": {},
     "output_type": "execute_result"
    }
   ],
   "source": [
    "len(zero_points)"
   ]
  },
  {
   "cell_type": "code",
   "execution_count": 42,
   "id": "11290b7f",
   "metadata": {},
   "outputs": [
    {
     "data": {
      "text/latex": [
       "$\\displaystyle \\frac{2 \\left(\\sqrt{\\nu^{2} x^{2} + 9} - 3\\right)}{\\nu^{2}}$"
      ],
      "text/plain": [
       "2*(sqrt(nu**2*x**2 + 9) - 3)/nu**2"
      ]
     },
     "execution_count": 42,
     "metadata": {},
     "output_type": "execute_result"
    }
   ],
   "source": [
    "zero_points[0]"
   ]
  },
  {
   "cell_type": "code",
   "execution_count": 43,
   "id": "6734e252",
   "metadata": {},
   "outputs": [
    {
     "data": {
      "text/latex": [
       "$\\displaystyle - \\frac{2 \\sqrt{\\nu^{2} x^{2} + 9} + 6}{\\nu^{2}}$"
      ],
      "text/plain": [
       "-(2*sqrt(nu**2*x**2 + 9) + 6)/nu**2"
      ]
     },
     "execution_count": 43,
     "metadata": {},
     "output_type": "execute_result"
    }
   ],
   "source": [
    "zero_points[1]"
   ]
  },
  {
   "cell_type": "code",
   "execution_count": 56,
   "id": "45516014",
   "metadata": {},
   "outputs": [
    {
     "name": "stdout",
     "output_type": "stream",
     "text": [
      "-x*exp(-nu**2*(x + (sqrt(nu**2*x**2 + 9) - 3)/nu)**2/(4*(sqrt(nu**2*x**2 + 9) - 3)))/(4*sqrt(pi)*((sqrt(nu**2*x**2 + 9) - 3)/nu**2)**(3/2))\n"
     ]
    },
    {
     "data": {
      "text/latex": [
       "$\\displaystyle - \\frac{x e^{- \\frac{\\nu^{2} \\left(x + \\frac{\\sqrt{\\nu^{2} x^{2} + 9} - 3}{\\nu}\\right)^{2}}{4 \\left(\\sqrt{\\nu^{2} x^{2} + 9} - 3\\right)}}}{4 \\sqrt{\\pi} \\left(\\frac{\\sqrt{\\nu^{2} x^{2} + 9} - 3}{\\nu^{2}}\\right)^{\\frac{3}{2}}}$"
      ],
      "text/plain": [
       "-x*exp(-nu**2*(x + (sqrt(nu**2*x**2 + 9) - 3)/nu)**2/(4*(sqrt(nu**2*x**2 + 9) - 3)))/(4*sqrt(pi)*((sqrt(nu**2*x**2 + 9) - 3)/nu**2)**(3/2))"
      ]
     },
     "execution_count": 56,
     "metadata": {},
     "output_type": "execute_result"
    }
   ],
   "source": [
    "max_current_value = current_equation.subs(t, zero_points[0])\n",
    "print(max_current_value)\n",
    "max_current_value"
   ]
  },
  {
   "cell_type": "code",
   "execution_count": 44,
   "id": "64cf72d0",
   "metadata": {},
   "outputs": [
    {
     "data": {
      "text/latex": [
       "$\\displaystyle \\frac{1}{2 \\kappa}$"
      ],
      "text/plain": [
       "1/(2*kappa)"
      ]
     },
     "execution_count": 44,
     "metadata": {},
     "output_type": "execute_result"
    }
   ],
   "source": [
    "exponent = 1 / (2*kappa)\n",
    "exponent"
   ]
  },
  {
   "cell_type": "code",
   "execution_count": 45,
   "id": "8a7e1b5d",
   "metadata": {},
   "outputs": [
    {
     "data": {
      "text/latex": [
       "$\\displaystyle \\frac{\\sqrt{c} \\left(\\frac{I_{*}}{I}\\right)^{\\frac{1}{2 \\kappa}} e^{- \\left(\\frac{I_{*}}{I}\\right)^{\\frac{1}{2 \\kappa}}}}{2 I \\kappa}$"
      ],
      "text/plain": [
       "sqrt(c)*(I_*/I)**(1/(2*kappa))*exp(-(I_*/I)**(1/(2*kappa)))/(2*I*kappa)"
      ]
     },
     "execution_count": 45,
     "metadata": {},
     "output_type": "execute_result"
    }
   ],
   "source": [
    "nu_expression = sqrt(c) * (exponent / I) * (I_star/I) ** (exponent) *  exp(-(I_star/I)**(exponent)) \n",
    "nu_expression"
   ]
  },
  {
   "cell_type": "code",
   "execution_count": 46,
   "id": "e3313e99",
   "metadata": {},
   "outputs": [
    {
     "data": {
      "text/latex": [
       "$\\displaystyle - \\frac{\\int\\limits_{I}^{I_{a}} e^{\\left(\\frac{I_{*}}{I'}\\right)^{\\frac{1}{2 \\kappa}}}\\, dI'}{\\sqrt{c}}$"
      ],
      "text/plain": [
       "-Integral(exp((I_*/I')**(1/(2*kappa))), (I', I, I_a))/sqrt(c)"
      ]
     },
     "execution_count": 46,
     "metadata": {},
     "output_type": "execute_result"
    }
   ],
   "source": [
    "x_expression = -integrate((1/sqrt(c))*exp((I_star/I_prime)**exponent), (I_prime, I, I_a))\n",
    "x_expression"
   ]
  },
  {
   "cell_type": "code",
   "execution_count": 49,
   "id": "7f40715a",
   "metadata": {},
   "outputs": [
    {
     "data": {
      "text/latex": [
       "$\\displaystyle \\frac{1}{\\int\\limits_{0}^{I_{a}} e^{- 2 \\left(\\frac{I_{*}}{I'}\\right)^{\\frac{1}{2 \\kappa}}}\\, dI'}$"
      ],
      "text/plain": [
       "1/Integral(exp(-2*(I_*/I')**(1/(2*kappa))), (I', 0, I_a))"
      ]
     },
     "execution_count": 49,
     "metadata": {},
     "output_type": "execute_result"
    }
   ],
   "source": [
    "c_expression = 1/integrate(exp(-2*(I_star/I_prime)**exponent),(I_prime, 0, I_a))\n",
    "c_expression"
   ]
  },
  {
   "cell_type": "code",
   "execution_count": 47,
   "id": "90e2a836",
   "metadata": {},
   "outputs": [
    {
     "data": {
      "text/latex": [
       "$\\displaystyle \\frac{8 I^{2} \\kappa^{2} \\left(\\frac{I_{*}}{I}\\right)^{- \\frac{1}{\\kappa}} \\left(\\sqrt{9 + \\frac{c x^{2} \\left(\\frac{I_{*}}{I}\\right)^{\\frac{1}{\\kappa}} e^{- 2 \\left(\\frac{I_{*}}{I}\\right)^{\\frac{1}{2 \\kappa}}}}{4 I^{2} \\kappa^{2}}} - 3\\right) e^{2 \\left(\\frac{I_{*}}{I}\\right)^{\\frac{1}{2 \\kappa}}}}{c}$"
      ],
      "text/plain": [
       "8*I**2*kappa**2*(I_*/I)**(-1/kappa)*(sqrt(9 + c*x**2*(I_*/I)**(1/kappa)*exp(-2*(I_*/I)**(1/(2*kappa)))/(4*I**2*kappa**2)) - 3)*exp(2*(I_*/I)**(1/(2*kappa)))/c"
      ]
     },
     "execution_count": 47,
     "metadata": {},
     "output_type": "execute_result"
    }
   ],
   "source": [
    "mod1 = zero_points[0].subs(nu, nu_expression)\n",
    "mod1"
   ]
  },
  {
   "cell_type": "code",
   "execution_count": 48,
   "id": "fce9e480",
   "metadata": {},
   "outputs": [
    {
     "data": {
      "text/latex": [
       "$\\displaystyle \\frac{8 I^{2} \\kappa^{2} \\left(\\frac{I_{*}}{I}\\right)^{- \\frac{1}{\\kappa}} \\left(\\sqrt{9 + \\frac{\\left(\\frac{I_{*}}{I}\\right)^{\\frac{1}{\\kappa}} e^{- 2 \\left(\\frac{I_{*}}{I}\\right)^{\\frac{1}{2 \\kappa}}} \\left(\\int\\limits_{I}^{I_{a}} e^{\\left(\\frac{I_{*}}{I'}\\right)^{\\frac{1}{2 \\kappa}}}\\, dI'\\right)^{2}}{4 I^{2} \\kappa^{2}}} - 3\\right) e^{2 \\left(\\frac{I_{*}}{I}\\right)^{\\frac{1}{2 \\kappa}}}}{c}$"
      ],
      "text/plain": [
       "8*I**2*kappa**2*(I_*/I)**(-1/kappa)*(sqrt(9 + (I_*/I)**(1/kappa)*exp(-2*(I_*/I)**(1/(2*kappa)))*Integral(exp((I_*/I')**(1/(2*kappa))), (I', I, I_a))**2/(4*I**2*kappa**2)) - 3)*exp(2*(I_*/I)**(1/(2*kappa)))/c"
      ]
     },
     "execution_count": 48,
     "metadata": {},
     "output_type": "execute_result"
    }
   ],
   "source": [
    "mod2 = mod1.subs(x, x_expression)\n",
    "mod2"
   ]
  },
  {
   "cell_type": "code",
   "execution_count": 50,
   "id": "9b25711b",
   "metadata": {},
   "outputs": [
    {
     "data": {
      "text/latex": [
       "$\\displaystyle 8 I^{2} \\kappa^{2} \\left(\\frac{I_{*}}{I}\\right)^{- \\frac{1}{\\kappa}} \\left(\\sqrt{9 + \\frac{\\left(\\frac{I_{*}}{I}\\right)^{\\frac{1}{\\kappa}} e^{- 2 \\left(\\frac{I_{*}}{I}\\right)^{\\frac{1}{2 \\kappa}}} \\left(\\int\\limits_{I}^{I_{a}} e^{\\left(\\frac{I_{*}}{I'}\\right)^{\\frac{1}{2 \\kappa}}}\\, dI'\\right)^{2}}{4 I^{2} \\kappa^{2}}} - 3\\right) e^{2 \\left(\\frac{I_{*}}{I}\\right)^{\\frac{1}{2 \\kappa}}} \\int\\limits_{0}^{I_{a}} e^{- 2 \\left(\\frac{I_{*}}{I'}\\right)^{\\frac{1}{2 \\kappa}}}\\, dI'$"
      ],
      "text/plain": [
       "8*I**2*kappa**2*(I_*/I)**(-1/kappa)*(sqrt(9 + (I_*/I)**(1/kappa)*exp(-2*(I_*/I)**(1/(2*kappa)))*Integral(exp((I_*/I')**(1/(2*kappa))), (I', I, I_a))**2/(4*I**2*kappa**2)) - 3)*exp(2*(I_*/I)**(1/(2*kappa)))*Integral(exp(-2*(I_*/I')**(1/(2*kappa))), (I', 0, I_a))"
      ]
     },
     "execution_count": 50,
     "metadata": {},
     "output_type": "execute_result"
    }
   ],
   "source": [
    "mod3 = mod2.subs(c, c_expression)\n",
    "mod3"
   ]
  },
  {
   "cell_type": "code",
   "execution_count": 51,
   "id": "504c807a",
   "metadata": {},
   "outputs": [
    {
     "data": {
      "text/latex": [
       "$\\displaystyle 8 I^{2} \\kappa^{2} \\left(\\frac{I_{*}}{I}\\right)^{- \\frac{1}{\\kappa}} \\left(\\sqrt{9 + \\frac{\\left(\\frac{I_{*}}{I}\\right)^{\\frac{1}{\\kappa}} e^{- 2 \\left(\\frac{I_{*}}{I}\\right)^{\\frac{1}{2 \\kappa}}} \\left(\\int\\limits_{I}^{I_{a}} e^{\\left(\\frac{I_{*}}{I'}\\right)^{\\frac{1}{2 \\kappa}}}\\, dI'\\right)^{2}}{4 I^{2} \\kappa^{2}}} - 3\\right) e^{2 \\left(\\frac{I_{*}}{I}\\right)^{\\frac{1}{2 \\kappa}}} \\int\\limits_{0}^{I_{a}} \\frac{\\left(\\frac{I_{*}}{I'}\\right)^{\\frac{1}{2 \\kappa}} e^{- 2 \\left(\\frac{I_{*}}{I'}\\right)^{\\frac{1}{2 \\kappa}}} \\log{\\left(\\frac{I_{*}}{I'} \\right)}}{\\kappa^{2}}\\, dI' + \\frac{8 I^{2} \\kappa^{2} \\left(\\frac{I_{*}}{I}\\right)^{- \\frac{1}{\\kappa}} \\left(\\frac{\\left(\\frac{I_{*}}{I}\\right)^{\\frac{1}{\\kappa}} e^{- 2 \\left(\\frac{I_{*}}{I}\\right)^{\\frac{1}{2 \\kappa}}} \\left(\\int\\limits_{I}^{I_{a}} \\left(- \\frac{\\left(\\frac{I_{*}}{I'}\\right)^{\\frac{1}{2 \\kappa}} e^{\\left(\\frac{I_{*}}{I'}\\right)^{\\frac{1}{2 \\kappa}}} \\log{\\left(\\frac{I_{*}}{I'} \\right)}}{2 \\kappa^{2}}\\right)\\, dI'\\right) \\int\\limits_{I}^{I_{a}} e^{\\left(\\frac{I_{*}}{I'}\\right)^{\\frac{1}{2 \\kappa}}}\\, dI'}{4 I^{2} \\kappa^{2}} - \\frac{\\left(\\frac{I_{*}}{I}\\right)^{\\frac{1}{\\kappa}} e^{- 2 \\left(\\frac{I_{*}}{I}\\right)^{\\frac{1}{2 \\kappa}}} \\left(\\int\\limits_{I}^{I_{a}} e^{\\left(\\frac{I_{*}}{I'}\\right)^{\\frac{1}{2 \\kappa}}}\\, dI'\\right)^{2}}{4 I^{2} \\kappa^{3}} + \\frac{\\left(\\frac{I_{*}}{I}\\right)^{\\frac{3}{2 \\kappa}} e^{- 2 \\left(\\frac{I_{*}}{I}\\right)^{\\frac{1}{2 \\kappa}}} \\log{\\left(\\frac{I_{*}}{I} \\right)} \\left(\\int\\limits_{I}^{I_{a}} e^{\\left(\\frac{I_{*}}{I'}\\right)^{\\frac{1}{2 \\kappa}}}\\, dI'\\right)^{2}}{8 I^{2} \\kappa^{4}} - \\frac{\\left(\\frac{I_{*}}{I}\\right)^{\\frac{1}{\\kappa}} e^{- 2 \\left(\\frac{I_{*}}{I}\\right)^{\\frac{1}{2 \\kappa}}} \\log{\\left(\\frac{I_{*}}{I} \\right)} \\left(\\int\\limits_{I}^{I_{a}} e^{\\left(\\frac{I_{*}}{I'}\\right)^{\\frac{1}{2 \\kappa}}}\\, dI'\\right)^{2}}{8 I^{2} \\kappa^{4}}\\right) e^{2 \\left(\\frac{I_{*}}{I}\\right)^{\\frac{1}{2 \\kappa}}} \\int\\limits_{0}^{I_{a}} e^{- 2 \\left(\\frac{I_{*}}{I'}\\right)^{\\frac{1}{2 \\kappa}}}\\, dI'}{\\sqrt{9 + \\frac{\\left(\\frac{I_{*}}{I}\\right)^{\\frac{1}{\\kappa}} e^{- 2 \\left(\\frac{I_{*}}{I}\\right)^{\\frac{1}{2 \\kappa}}} \\left(\\int\\limits_{I}^{I_{a}} e^{\\left(\\frac{I_{*}}{I'}\\right)^{\\frac{1}{2 \\kappa}}}\\, dI'\\right)^{2}}{4 I^{2} \\kappa^{2}}}} + 16 I^{2} \\kappa \\left(\\frac{I_{*}}{I}\\right)^{- \\frac{1}{\\kappa}} \\left(\\sqrt{9 + \\frac{\\left(\\frac{I_{*}}{I}\\right)^{\\frac{1}{\\kappa}} e^{- 2 \\left(\\frac{I_{*}}{I}\\right)^{\\frac{1}{2 \\kappa}}} \\left(\\int\\limits_{I}^{I_{a}} e^{\\left(\\frac{I_{*}}{I'}\\right)^{\\frac{1}{2 \\kappa}}}\\, dI'\\right)^{2}}{4 I^{2} \\kappa^{2}}} - 3\\right) e^{2 \\left(\\frac{I_{*}}{I}\\right)^{\\frac{1}{2 \\kappa}}} \\int\\limits_{0}^{I_{a}} e^{- 2 \\left(\\frac{I_{*}}{I'}\\right)^{\\frac{1}{2 \\kappa}}}\\, dI' + 8 I^{2} \\left(\\frac{I_{*}}{I}\\right)^{- \\frac{1}{\\kappa}} \\left(\\sqrt{9 + \\frac{\\left(\\frac{I_{*}}{I}\\right)^{\\frac{1}{\\kappa}} e^{- 2 \\left(\\frac{I_{*}}{I}\\right)^{\\frac{1}{2 \\kappa}}} \\left(\\int\\limits_{I}^{I_{a}} e^{\\left(\\frac{I_{*}}{I'}\\right)^{\\frac{1}{2 \\kappa}}}\\, dI'\\right)^{2}}{4 I^{2} \\kappa^{2}}} - 3\\right) e^{2 \\left(\\frac{I_{*}}{I}\\right)^{\\frac{1}{2 \\kappa}}} \\log{\\left(\\frac{I_{*}}{I} \\right)} \\int\\limits_{0}^{I_{a}} e^{- 2 \\left(\\frac{I_{*}}{I'}\\right)^{\\frac{1}{2 \\kappa}}}\\, dI' - 8 I^{2} \\left(\\frac{I_{*}}{I}\\right)^{- \\frac{1}{2 \\kappa}} \\left(\\sqrt{9 + \\frac{\\left(\\frac{I_{*}}{I}\\right)^{\\frac{1}{\\kappa}} e^{- 2 \\left(\\frac{I_{*}}{I}\\right)^{\\frac{1}{2 \\kappa}}} \\left(\\int\\limits_{I}^{I_{a}} e^{\\left(\\frac{I_{*}}{I'}\\right)^{\\frac{1}{2 \\kappa}}}\\, dI'\\right)^{2}}{4 I^{2} \\kappa^{2}}} - 3\\right) e^{2 \\left(\\frac{I_{*}}{I}\\right)^{\\frac{1}{2 \\kappa}}} \\log{\\left(\\frac{I_{*}}{I} \\right)} \\int\\limits_{0}^{I_{a}} e^{- 2 \\left(\\frac{I_{*}}{I'}\\right)^{\\frac{1}{2 \\kappa}}}\\, dI'$"
      ],
      "text/plain": [
       "8*I**2*kappa**2*(I_*/I)**(-1/kappa)*(sqrt(9 + (I_*/I)**(1/kappa)*exp(-2*(I_*/I)**(1/(2*kappa)))*Integral(exp((I_*/I')**(1/(2*kappa))), (I', I, I_a))**2/(4*I**2*kappa**2)) - 3)*exp(2*(I_*/I)**(1/(2*kappa)))*Integral((I_*/I')**(1/(2*kappa))*exp(-2*(I_*/I')**(1/(2*kappa)))*log(I_*/I')/kappa**2, (I', 0, I_a)) + 8*I**2*kappa**2*(I_*/I)**(-1/kappa)*((I_*/I)**(1/kappa)*exp(-2*(I_*/I)**(1/(2*kappa)))*Integral(-(I_*/I')**(1/(2*kappa))*exp((I_*/I')**(1/(2*kappa)))*log(I_*/I')/(2*kappa**2), (I', I, I_a))*Integral(exp((I_*/I')**(1/(2*kappa))), (I', I, I_a))/(4*I**2*kappa**2) - (I_*/I)**(1/kappa)*exp(-2*(I_*/I)**(1/(2*kappa)))*Integral(exp((I_*/I')**(1/(2*kappa))), (I', I, I_a))**2/(4*I**2*kappa**3) + (I_*/I)**(3/(2*kappa))*exp(-2*(I_*/I)**(1/(2*kappa)))*log(I_*/I)*Integral(exp((I_*/I')**(1/(2*kappa))), (I', I, I_a))**2/(8*I**2*kappa**4) - (I_*/I)**(1/kappa)*exp(-2*(I_*/I)**(1/(2*kappa)))*log(I_*/I)*Integral(exp((I_*/I')**(1/(2*kappa))), (I', I, I_a))**2/(8*I**2*kappa**4))*exp(2*(I_*/I)**(1/(2*kappa)))*Integral(exp(-2*(I_*/I')**(1/(2*kappa))), (I', 0, I_a))/sqrt(9 + (I_*/I)**(1/kappa)*exp(-2*(I_*/I)**(1/(2*kappa)))*Integral(exp((I_*/I')**(1/(2*kappa))), (I', I, I_a))**2/(4*I**2*kappa**2)) + 16*I**2*kappa*(I_*/I)**(-1/kappa)*(sqrt(9 + (I_*/I)**(1/kappa)*exp(-2*(I_*/I)**(1/(2*kappa)))*Integral(exp((I_*/I')**(1/(2*kappa))), (I', I, I_a))**2/(4*I**2*kappa**2)) - 3)*exp(2*(I_*/I)**(1/(2*kappa)))*Integral(exp(-2*(I_*/I')**(1/(2*kappa))), (I', 0, I_a)) + 8*I**2*(I_*/I)**(-1/kappa)*(sqrt(9 + (I_*/I)**(1/kappa)*exp(-2*(I_*/I)**(1/(2*kappa)))*Integral(exp((I_*/I')**(1/(2*kappa))), (I', I, I_a))**2/(4*I**2*kappa**2)) - 3)*exp(2*(I_*/I)**(1/(2*kappa)))*log(I_*/I)*Integral(exp(-2*(I_*/I')**(1/(2*kappa))), (I', 0, I_a)) - 8*I**2*(I_*/I)**(-1/(2*kappa))*(sqrt(9 + (I_*/I)**(1/kappa)*exp(-2*(I_*/I)**(1/(2*kappa)))*Integral(exp((I_*/I')**(1/(2*kappa))), (I', I, I_a))**2/(4*I**2*kappa**2)) - 3)*exp(2*(I_*/I)**(1/(2*kappa)))*log(I_*/I)*Integral(exp(-2*(I_*/I')**(1/(2*kappa))), (I', 0, I_a))"
      ]
     },
     "execution_count": 51,
     "metadata": {},
     "output_type": "execute_result"
    }
   ],
   "source": [
    "diff(mod3, kappa)"
   ]
  },
  {
   "cell_type": "code",
   "execution_count": 52,
   "id": "2eaf766d",
   "metadata": {},
   "outputs": [
    {
     "data": {
      "text/latex": [
       "$\\displaystyle 8 I^{2} \\kappa^{2} \\left(\\frac{I_{*}}{I}\\right)^{- \\frac{1}{\\kappa}} \\left(\\sqrt{9 + \\frac{\\left(\\frac{I_{*}}{I}\\right)^{\\frac{1}{\\kappa}} e^{- 2 \\left(\\frac{I_{*}}{I}\\right)^{\\frac{1}{2 \\kappa}}} \\left(\\int\\limits_{I}^{I_{a}} e^{\\left(\\frac{I_{*}}{I'}\\right)^{\\frac{1}{2 \\kappa}}}\\, dI'\\right)^{2}}{4 I^{2} \\kappa^{2}}} - 3\\right) e^{2 \\left(\\frac{I_{*}}{I}\\right)^{\\frac{1}{2 \\kappa}}} \\int\\limits_{0}^{I_{a}} \\left(- \\frac{\\left(\\frac{I_{*}}{I'}\\right)^{\\frac{1}{2 \\kappa}} e^{- 2 \\left(\\frac{I_{*}}{I'}\\right)^{\\frac{1}{2 \\kappa}}}}{I_{*} \\kappa}\\right)\\, dI' + \\frac{8 I^{2} \\kappa^{2} \\left(\\frac{I_{*}}{I}\\right)^{- \\frac{1}{\\kappa}} \\left(\\frac{\\left(\\frac{I_{*}}{I}\\right)^{\\frac{1}{\\kappa}} e^{- 2 \\left(\\frac{I_{*}}{I}\\right)^{\\frac{1}{2 \\kappa}}} \\left(\\int\\limits_{I}^{I_{a}} \\frac{\\left(\\frac{I_{*}}{I'}\\right)^{\\frac{1}{2 \\kappa}} e^{\\left(\\frac{I_{*}}{I'}\\right)^{\\frac{1}{2 \\kappa}}}}{2 I_{*} \\kappa}\\, dI'\\right) \\int\\limits_{I}^{I_{a}} e^{\\left(\\frac{I_{*}}{I'}\\right)^{\\frac{1}{2 \\kappa}}}\\, dI'}{4 I^{2} \\kappa^{2}} - \\frac{\\left(\\frac{I_{*}}{I}\\right)^{\\frac{3}{2 \\kappa}} e^{- 2 \\left(\\frac{I_{*}}{I}\\right)^{\\frac{1}{2 \\kappa}}} \\left(\\int\\limits_{I}^{I_{a}} e^{\\left(\\frac{I_{*}}{I'}\\right)^{\\frac{1}{2 \\kappa}}}\\, dI'\\right)^{2}}{8 I^{2} I_{*} \\kappa^{3}} + \\frac{\\left(\\frac{I_{*}}{I}\\right)^{\\frac{1}{\\kappa}} e^{- 2 \\left(\\frac{I_{*}}{I}\\right)^{\\frac{1}{2 \\kappa}}} \\left(\\int\\limits_{I}^{I_{a}} e^{\\left(\\frac{I_{*}}{I'}\\right)^{\\frac{1}{2 \\kappa}}}\\, dI'\\right)^{2}}{8 I^{2} I_{*} \\kappa^{3}}\\right) e^{2 \\left(\\frac{I_{*}}{I}\\right)^{\\frac{1}{2 \\kappa}}} \\int\\limits_{0}^{I_{a}} e^{- 2 \\left(\\frac{I_{*}}{I'}\\right)^{\\frac{1}{2 \\kappa}}}\\, dI'}{\\sqrt{9 + \\frac{\\left(\\frac{I_{*}}{I}\\right)^{\\frac{1}{\\kappa}} e^{- 2 \\left(\\frac{I_{*}}{I}\\right)^{\\frac{1}{2 \\kappa}}} \\left(\\int\\limits_{I}^{I_{a}} e^{\\left(\\frac{I_{*}}{I'}\\right)^{\\frac{1}{2 \\kappa}}}\\, dI'\\right)^{2}}{4 I^{2} \\kappa^{2}}}} - \\frac{8 I^{2} \\kappa \\left(\\frac{I_{*}}{I}\\right)^{- \\frac{1}{\\kappa}} \\left(\\sqrt{9 + \\frac{\\left(\\frac{I_{*}}{I}\\right)^{\\frac{1}{\\kappa}} e^{- 2 \\left(\\frac{I_{*}}{I}\\right)^{\\frac{1}{2 \\kappa}}} \\left(\\int\\limits_{I}^{I_{a}} e^{\\left(\\frac{I_{*}}{I'}\\right)^{\\frac{1}{2 \\kappa}}}\\, dI'\\right)^{2}}{4 I^{2} \\kappa^{2}}} - 3\\right) e^{2 \\left(\\frac{I_{*}}{I}\\right)^{\\frac{1}{2 \\kappa}}} \\int\\limits_{0}^{I_{a}} e^{- 2 \\left(\\frac{I_{*}}{I'}\\right)^{\\frac{1}{2 \\kappa}}}\\, dI'}{I_{*}} + \\frac{8 I^{2} \\kappa \\left(\\frac{I_{*}}{I}\\right)^{- \\frac{1}{2 \\kappa}} \\left(\\sqrt{9 + \\frac{\\left(\\frac{I_{*}}{I}\\right)^{\\frac{1}{\\kappa}} e^{- 2 \\left(\\frac{I_{*}}{I}\\right)^{\\frac{1}{2 \\kappa}}} \\left(\\int\\limits_{I}^{I_{a}} e^{\\left(\\frac{I_{*}}{I'}\\right)^{\\frac{1}{2 \\kappa}}}\\, dI'\\right)^{2}}{4 I^{2} \\kappa^{2}}} - 3\\right) e^{2 \\left(\\frac{I_{*}}{I}\\right)^{\\frac{1}{2 \\kappa}}} \\int\\limits_{0}^{I_{a}} e^{- 2 \\left(\\frac{I_{*}}{I'}\\right)^{\\frac{1}{2 \\kappa}}}\\, dI'}{I_{*}}$"
      ],
      "text/plain": [
       "8*I**2*kappa**2*(I_*/I)**(-1/kappa)*(sqrt(9 + (I_*/I)**(1/kappa)*exp(-2*(I_*/I)**(1/(2*kappa)))*Integral(exp((I_*/I')**(1/(2*kappa))), (I', I, I_a))**2/(4*I**2*kappa**2)) - 3)*exp(2*(I_*/I)**(1/(2*kappa)))*Integral(-(I_*/I')**(1/(2*kappa))*exp(-2*(I_*/I')**(1/(2*kappa)))/(I_**kappa), (I', 0, I_a)) + 8*I**2*kappa**2*(I_*/I)**(-1/kappa)*((I_*/I)**(1/kappa)*exp(-2*(I_*/I)**(1/(2*kappa)))*Integral((I_*/I')**(1/(2*kappa))*exp((I_*/I')**(1/(2*kappa)))/(2*I_**kappa), (I', I, I_a))*Integral(exp((I_*/I')**(1/(2*kappa))), (I', I, I_a))/(4*I**2*kappa**2) - (I_*/I)**(3/(2*kappa))*exp(-2*(I_*/I)**(1/(2*kappa)))*Integral(exp((I_*/I')**(1/(2*kappa))), (I', I, I_a))**2/(8*I**2*I_**kappa**3) + (I_*/I)**(1/kappa)*exp(-2*(I_*/I)**(1/(2*kappa)))*Integral(exp((I_*/I')**(1/(2*kappa))), (I', I, I_a))**2/(8*I**2*I_**kappa**3))*exp(2*(I_*/I)**(1/(2*kappa)))*Integral(exp(-2*(I_*/I')**(1/(2*kappa))), (I', 0, I_a))/sqrt(9 + (I_*/I)**(1/kappa)*exp(-2*(I_*/I)**(1/(2*kappa)))*Integral(exp((I_*/I')**(1/(2*kappa))), (I', I, I_a))**2/(4*I**2*kappa**2)) - 8*I**2*kappa*(I_*/I)**(-1/kappa)*(sqrt(9 + (I_*/I)**(1/kappa)*exp(-2*(I_*/I)**(1/(2*kappa)))*Integral(exp((I_*/I')**(1/(2*kappa))), (I', I, I_a))**2/(4*I**2*kappa**2)) - 3)*exp(2*(I_*/I)**(1/(2*kappa)))*Integral(exp(-2*(I_*/I')**(1/(2*kappa))), (I', 0, I_a))/I_* + 8*I**2*kappa*(I_*/I)**(-1/(2*kappa))*(sqrt(9 + (I_*/I)**(1/kappa)*exp(-2*(I_*/I)**(1/(2*kappa)))*Integral(exp((I_*/I')**(1/(2*kappa))), (I', I, I_a))**2/(4*I**2*kappa**2)) - 3)*exp(2*(I_*/I)**(1/(2*kappa)))*Integral(exp(-2*(I_*/I')**(1/(2*kappa))), (I', 0, I_a))/I_*"
      ]
     },
     "execution_count": 52,
     "metadata": {},
     "output_type": "execute_result"
    }
   ],
   "source": [
    "diff(mod3, I_star)"
   ]
  },
  {
   "cell_type": "code",
   "execution_count": null,
   "id": "ea2aad39",
   "metadata": {},
   "outputs": [],
   "source": []
  }
 ],
 "metadata": {
  "kernelspec": {
   "display_name": "Python 3",
   "language": "python",
   "name": "python3"
  },
  "language_info": {
   "codemirror_mode": {
    "name": "ipython",
    "version": 3
   },
   "file_extension": ".py",
   "mimetype": "text/x-python",
   "name": "python",
   "nbconvert_exporter": "python",
   "pygments_lexer": "ipython3",
   "version": "3.8.8"
  }
 },
 "nbformat": 4,
 "nbformat_minor": 5
}
