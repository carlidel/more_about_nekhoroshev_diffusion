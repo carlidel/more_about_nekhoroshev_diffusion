{
 "cells": [
  {
   "cell_type": "markdown",
   "id": "f25a69f6-a778-48cb-a55a-951898242624",
   "metadata": {},
   "source": [
    "# General Overview of the Reconstruction Performances for a Moving Absorbing Boundary Condition"
   ]
  },
  {
   "cell_type": "markdown",
   "id": "e530a7f5-0864-4d78-a11f-9b8765d8e9cf",
   "metadata": {},
   "source": [
    "**Are we in SWAN?**"
   ]
  },
  {
   "cell_type": "code",
   "execution_count": null,
   "id": "06dec19f-f558-4da0-ab1c-118c9094a30e",
   "metadata": {},
   "outputs": [],
   "source": [
    "%pip install --user crank-nicolson-numba"
   ]
  },
  {
   "cell_type": "markdown",
   "id": "1fdcc0d6-6aa2-49fd-a2e0-ba3d307080d3",
   "metadata": {},
   "source": [
    "**Do we want the matplotlib interactive magicness?**"
   ]
  },
  {
   "cell_type": "code",
   "execution_count": 1,
   "id": "5cd3d3b8-704b-421f-a2c4-4bc60d69ec41",
   "metadata": {},
   "outputs": [],
   "source": [
    "%matplotlib widget"
   ]
  },
  {
   "cell_type": "markdown",
   "id": "ade8f005-cdea-4295-a5dd-8e4987114109",
   "metadata": {},
   "source": [
    "**Library Import**"
   ]
  },
  {
   "cell_type": "code",
   "execution_count": 2,
   "id": "322196e2-237f-430b-b16c-83af57f12600",
   "metadata": {},
   "outputs": [],
   "source": [
    "import numpy as np\n",
    "import matplotlib.pyplot as plt\n",
    "import scipy\n",
    "import scipy.integrate\n",
    "from tqdm.notebook import tqdm\n",
    "import crank_nicolson_numba.generic as cn\n",
    "import itertools\n",
    "# For parallelization\n",
    "from joblib import Parallel, delayed\n",
    "\n",
    "import nekhoroshev_tools as nt"
   ]
  },
  {
   "cell_type": "code",
   "execution_count": 3,
   "id": "0468905c-8b6a-4509-a59d-c77b2f7d99f9",
   "metadata": {},
   "outputs": [],
   "source": [
    "def afpt(I_min, I_max, I_star, exponent, c=None):\n",
    "    if c is None:\n",
    "        c = nt.standard_c(0.0, I_max, I_star, exponent)\n",
    "    return scipy.integrate.quad(\n",
    "        lambda x: 2*x/nt.D(x, I_star, exponent, c=c),\n",
    "        I_min,\n",
    "        I_max\n",
    "    )[0]"
   ]
  },
  {
   "cell_type": "markdown",
   "id": "6b8f1a5d-713d-4e78-954c-b6fb440f8b73",
   "metadata": {},
   "source": [
    "## First, we need to define a realistic initial distribution"
   ]
  },
  {
   "cell_type": "markdown",
   "id": "6f410905-f238-466b-9fc3-e7566ac64c4a",
   "metadata": {},
   "source": [
    "It's very simple and direct: if we decide to work in normalized emittance variables, and we work with a gaussian beam distribution with it's characteristic emittance, we have that\n",
    "$$\\rho_0(I) = e^{-I}$$\n",
    "Where $I$, from now on, is expessed in sigma units."
   ]
  },
  {
   "cell_type": "code",
   "execution_count": 4,
   "id": "98037b06-8510-4979-8d35-f4099e248adf",
   "metadata": {},
   "outputs": [],
   "source": [
    "def rho_0(I, damping_position=np.nan, l=np.nan):\n",
    "    if np.isnan(damping_position) or np.isnan(l):\n",
    "        return np.exp(-I)\n",
    "    else:\n",
    "        return np.exp(-I) / (1 + np.exp((I - damping_position)/l))"
   ]
  },
  {
   "cell_type": "markdown",
   "id": "9c4ba8ef-e7bb-44a9-9f1b-cb7b9a798de1",
   "metadata": {},
   "source": [
    "## Setting up a regular scenario"
   ]
  },
  {
   "cell_type": "code",
   "execution_count": 5,
   "id": "c3db045b-4b7a-43d1-9b10-08183d96415f",
   "metadata": {},
   "outputs": [],
   "source": [
    "I_damping = 1.9\n",
    "I_max = 2.0\n",
    "I_star = 8.0\n",
    "k = 0.33\n",
    "exponent = 1/(2*k)\n",
    "\n",
    "c = nt.standard_c(0.0, I_max, I_star, exponent)"
   ]
  },
  {
   "cell_type": "code",
   "execution_count": 6,
   "id": "5cc9220f-6f93-480a-9f7f-d664b04083c0",
   "metadata": {},
   "outputs": [],
   "source": [
    "cn_sampling = 10000\n",
    "I_list, dI = np.linspace(0.0, I_max, cn_sampling, retstep=True)\n",
    "\n",
    "cn_time_steps = 50\n",
    "dt = nt.current_peak_time(I_damping, I_max, I_star, exponent, c)/cn_time_steps"
   ]
  },
  {
   "cell_type": "markdown",
   "id": "d5074aec-d3dd-428b-bec6-2cc28ab78747",
   "metadata": {},
   "source": [
    "# \"Very fast\" tracking"
   ]
  },
  {
   "cell_type": "code",
   "execution_count": null,
   "id": "e14a3280-30bf-4a4f-ba7d-7b8b978c833f",
   "metadata": {},
   "outputs": [],
   "source": []
  },
  {
   "cell_type": "markdown",
   "id": "d9579642-f794-4524-860d-0eeb493560cb",
   "metadata": {},
   "source": [
    "# \"Long enough\" tracking"
   ]
  },
  {
   "cell_type": "markdown",
   "id": "b0e56fc6-a86d-4aad-b07a-d0306fc802f3",
   "metadata": {},
   "source": [
    "## Working in the semi-stable region"
   ]
  },
  {
   "cell_type": "markdown",
   "id": "930b28da-aa62-4b7d-a774-90e9b7dc45f7",
   "metadata": {},
   "source": [
    "Given $I_*=10.0$, we will firstly analyze the semi-stable region $[5.0-8.0]$ where we have the beginning of the saturation phase for $D(I)$."
   ]
  },
  {
   "cell_type": "code",
   "execution_count": 7,
   "id": "e4da484c-67b9-45e4-aa25-3605d62004d8",
   "metadata": {},
   "outputs": [],
   "source": [
    "steps_per_sample = 5\n",
    "\n",
    "steps_per_iteration = 5000\n",
    "iterations = 6\n",
    "macro_iterations = 4\n",
    "long_track_steps = steps_per_iteration * iterations * (macro_iterations + 1)"
   ]
  },
  {
   "cell_type": "code",
   "execution_count": 8,
   "id": "21f8edb9-fd07-4145-b0be-32663c91dc9c",
   "metadata": {},
   "outputs": [
    {
     "data": {
      "text/plain": [
       "4.433044361540415e-07"
      ]
     },
     "execution_count": 8,
     "metadata": {},
     "output_type": "execute_result"
    }
   ],
   "source": [
    "afpt(\n",
    "    5.4,\n",
    "    5.6,\n",
    "    I_star,\n",
    "    exponent,\n",
    "    c=nt.standard_c(0.0, I_max, I_star, exponent)\n",
    ")"
   ]
  },
  {
   "cell_type": "markdown",
   "id": "9737d9b6-f360-4a25-ab6d-c663e6c60392",
   "metadata": {},
   "source": [
    "## How's the regular current for a single, constant $I_a$?"
   ]
  },
  {
   "cell_type": "code",
   "execution_count": 9,
   "id": "036ffb0d-dec0-4434-9ea4-6b9023c65e99",
   "metadata": {},
   "outputs": [
    {
     "name": "stderr",
     "output_type": "stream",
     "text": [
      "/home/camontan/Insync/carlo.montanari3@studio.unibo.it/OneDrive_Biz/projects/new_games_with_diffusion/nekhoroshev_tools.py:37: RuntimeWarning: divide by zero encountered in double_scalars\n",
      "  return c * np.exp(-2*np.power(I_star/I, exponent)) * (0.5 if halved else 1.0)\n",
      "100%|██████████| 150000/150000 [02:33<00:00, 978.52it/s] \n"
     ]
    }
   ],
   "source": [
    "engine = cn.cn_generic(0, I_max, rho_0(I_list, I_damping, dI*5), dt, lambda x: nt.D(x, I_star, exponent, c, True))\n",
    "data_0 = engine.get_data_with_x()\n",
    "\n",
    "times_long, current_long = engine.current(long_track_steps, steps_per_sample, False)\n",
    "data_long = engine.get_data_with_x()"
   ]
  },
  {
   "cell_type": "markdown",
   "id": "81413f86-0579-4b7e-b69d-240710da1dc6",
   "metadata": {},
   "source": [
    "**That's how our distribution (slowly) evolves...**\n",
    "\n",
    "(In order to see things it's necessary to work with matplotlib interactive mode and zoom a lot)"
   ]
  },
  {
   "cell_type": "code",
   "execution_count": 10,
   "id": "a0513ec9-42db-4771-962a-179ee53fe361",
   "metadata": {},
   "outputs": [
    {
     "data": {
      "application/vnd.jupyter.widget-view+json": {
       "model_id": "ea28f89f19fb4261adb2b3b5dc14e818",
       "version_major": 2,
       "version_minor": 0
      },
      "text/plain": [
       "Canvas(toolbar=Toolbar(toolitems=[('Home', 'Reset original view', 'home', 'home'), ('Back', 'Back to previous …"
      ]
     },
     "metadata": {},
     "output_type": "display_data"
    },
    {
     "data": {
      "text/plain": [
       "<matplotlib.legend.Legend at 0x7f9850f2fb20>"
      ]
     },
     "execution_count": 10,
     "metadata": {},
     "output_type": "execute_result"
    }
   ],
   "source": [
    "plt.figure()\n",
    "plt.plot(data_0[0], data_0[1], label=\"Initial condition\")\n",
    "plt.plot(data_long[0], data_long[1], label=\"After iterations\")\n",
    "plt.axvline(I_max, color=\"black\", label=\"$I_a$\")\n",
    "plt.xlabel(\"$I$\")\n",
    "plt.ylabel(\"$\\\\rho$\")\n",
    "plt.legend()"
   ]
  },
  {
   "cell_type": "markdown",
   "id": "10044f30-abd7-4312-a0dc-9fafaf9efc7c",
   "metadata": {},
   "source": [
    "**And here's the current!**"
   ]
  },
  {
   "cell_type": "code",
   "execution_count": 11,
   "id": "8f1865c6-789e-4d64-86c1-3f033230f67a",
   "metadata": {},
   "outputs": [
    {
     "data": {
      "application/vnd.jupyter.widget-view+json": {
       "model_id": "91c5b28434e2422f83e55ad265fc538a",
       "version_major": 2,
       "version_minor": 0
      },
      "text/plain": [
       "Canvas(toolbar=Toolbar(toolitems=[('Home', 'Reset original view', 'home', 'home'), ('Back', 'Back to previous …"
      ]
     },
     "metadata": {},
     "output_type": "display_data"
    }
   ],
   "source": [
    "plt.figure()\n",
    "plt.plot(times_long, current_long)\n",
    "plt.xlabel(\"$t$\")\n",
    "plt.ylabel(\"$J$\")\n",
    "plt.yscale(\"log\")"
   ]
  },
  {
   "cell_type": "markdown",
   "id": "51aa4a8c-4cc1-47c6-8a32-c0761030142e",
   "metadata": {},
   "source": [
    "## Experimenting with a bit of dancing!"
   ]
  },
  {
   "cell_type": "code",
   "execution_count": 12,
   "id": "852c069d-19e0-4cf2-ba27-b9db37082355",
   "metadata": {
    "scrolled": true,
    "tags": []
   },
   "outputs": [
    {
     "name": "stderr",
     "output_type": "stream",
     "text": [
      "/home/camontan/Insync/carlo.montanari3@studio.unibo.it/OneDrive_Biz/projects/new_games_with_diffusion/nekhoroshev_tools.py:37: RuntimeWarning: divide by zero encountered in double_scalars\n",
      "  return c * np.exp(-2*np.power(I_star/I, exponent)) * (0.5 if halved else 1.0)\n"
     ]
    },
    {
     "data": {
      "application/vnd.jupyter.widget-view+json": {
       "model_id": "150c61002bd145c6b8da6deb89c19c7c",
       "version_major": 2,
       "version_minor": 0
      },
      "text/plain": [
       "  0%|          | 0/5 [00:00<?, ?it/s]"
      ]
     },
     "metadata": {},
     "output_type": "display_data"
    },
    {
     "data": {
      "application/vnd.jupyter.widget-view+json": {
       "model_id": "866b2669647c41db9d6a48b9c048aec5",
       "version_major": 2,
       "version_minor": 0
      },
      "text/plain": [
       "  0%|          | 0/6 [00:00<?, ?it/s]"
      ]
     },
     "metadata": {},
     "output_type": "display_data"
    },
    {
     "data": {
      "application/vnd.jupyter.widget-view+json": {
       "model_id": "30f9b1a4f66845009bc7bcaf902cdb29",
       "version_major": 2,
       "version_minor": 0
      },
      "text/plain": [
       "  0%|          | 0/6 [00:00<?, ?it/s]"
      ]
     },
     "metadata": {},
     "output_type": "display_data"
    },
    {
     "data": {
      "application/vnd.jupyter.widget-view+json": {
       "model_id": "3dc0204f603d4c30ab622abb895016b7",
       "version_major": 2,
       "version_minor": 0
      },
      "text/plain": [
       "  0%|          | 0/6 [00:00<?, ?it/s]"
      ]
     },
     "metadata": {},
     "output_type": "display_data"
    },
    {
     "data": {
      "application/vnd.jupyter.widget-view+json": {
       "model_id": "86473dec5c77456fba6c1334c1d7f2f3",
       "version_major": 2,
       "version_minor": 0
      },
      "text/plain": [
       "  0%|          | 0/6 [00:00<?, ?it/s]"
      ]
     },
     "metadata": {},
     "output_type": "display_data"
    },
    {
     "data": {
      "application/vnd.jupyter.widget-view+json": {
       "model_id": "c040873e83ef45838e6b437c6c359181",
       "version_major": 2,
       "version_minor": 0
      },
      "text/plain": [
       "  0%|          | 0/6 [00:00<?, ?it/s]"
      ]
     },
     "metadata": {},
     "output_type": "display_data"
    }
   ],
   "source": [
    "engine = cn.cn_generic(0, I_max, rho_0(I_list, I_damping, dI*5), dt, lambda x: nt.D(x, I_star, exponent, c, True))\n",
    "\n",
    "t_absolute_out = []\n",
    "t_relative_out = []\n",
    "c_out = []\n",
    "I_max_list = []\n",
    "set_list = []\n",
    "\n",
    "t_absolute_out_partial = []\n",
    "t_relative_out_partial = []\n",
    "c_out_partial = []\n",
    "I_max_list_partial = []\n",
    "set_list_partial = []\n",
    "\n",
    "for j in tqdm(range(macro_iterations + 1)):\n",
    "    if j != 0:\n",
    "        engine.move_barrier_backward(0.1 * iterations)\n",
    "\n",
    "    for i in tqdm(range(iterations)):\n",
    "        time, current = engine.current(steps_per_iteration, steps_per_sample)\n",
    "        if len(t_absolute_out) > 0:\n",
    "            absolute_time = time + t_absolute_out[-1][-1]\n",
    "        else:\n",
    "            absolute_time = time.copy()\n",
    "        t_relative_out.append(time)\n",
    "        t_absolute_out.append(absolute_time)\n",
    "        c_out.append(current)\n",
    "        I_max_list.append(engine.I_max)\n",
    "        set_list.append(i)\n",
    "        if i != 0:\n",
    "            t_relative_out_partial.append(time)\n",
    "            t_absolute_out_partial.append(absolute_time)\n",
    "            c_out_partial.append(current)\n",
    "            I_max_list_partial.append(engine.I_max)\n",
    "            set_list_partial.append(i)\n",
    "        engine.move_barrier_forward(0.1)"
   ]
  },
  {
   "cell_type": "code",
   "execution_count": 13,
   "id": "b85f9ff5-7b0f-4a7a-aa59-3ba5292c74f6",
   "metadata": {},
   "outputs": [
    {
     "data": {
      "application/vnd.jupyter.widget-view+json": {
       "model_id": "4804d4226c3d4210ac3d6b69128fab4a",
       "version_major": 2,
       "version_minor": 0
      },
      "text/plain": [
       "Canvas(toolbar=Toolbar(toolitems=[('Home', 'Reset original view', 'home', 'home'), ('Back', 'Back to previous …"
      ]
     },
     "metadata": {},
     "output_type": "display_data"
    },
    {
     "data": {
      "text/plain": [
       "Text(0, 0.5, 'Barrier position')"
      ]
     },
     "execution_count": 13,
     "metadata": {},
     "output_type": "execute_result"
    }
   ],
   "source": [
    "fig, ax1 = plt.subplots()\n",
    "ax2 = ax1.twinx()\n",
    "for i in range(len(t_absolute_out)):\n",
    "    ax2.plot(\n",
    "        [t_absolute_out[i][0],t_absolute_out[i][-1], t_absolute_out[i][-1]],\n",
    "        [I_max_list[i],I_max_list[i],(I_max_list[i+1] if i+1 != len(I_max_list) else I_max_list[i])],\n",
    "        c=\"black\", alpha=0.5\n",
    "    )\n",
    "    ax1.plot(t_absolute_out[i], c_out[i])\n",
    "    if i != len(t_absolute_out) - 1:\n",
    "        ax1.plot(\n",
    "            [t_absolute_out[i][-1], t_absolute_out[i][-1]],\n",
    "            [c_out[i][-1], c_out[i+1][0]],\n",
    "            c=\"black\"\n",
    "        )\n",
    "\n",
    "ax1.plot(times_long, current_long, c=\"C0\", linestyle=\"dashed\")\n",
    "\n",
    "ax1.set_yscale(\"log\")\n",
    "ax1.set_ylabel(\"Current\")\n",
    "ax1.set_xlabel(\"time\")\n",
    "ax2.set_ylabel(\"Barrier position\")"
   ]
  },
  {
   "cell_type": "code",
   "execution_count": 14,
   "id": "e28dd8be-139f-4a2f-9f5d-01c59595582a",
   "metadata": {},
   "outputs": [
    {
     "data": {
      "application/vnd.jupyter.widget-view+json": {
       "model_id": "7614845fc17c4a3b88aa502036fa26ab",
       "version_major": 2,
       "version_minor": 0
      },
      "text/plain": [
       "Canvas(toolbar=Toolbar(toolitems=[('Home', 'Reset original view', 'home', 'home'), ('Back', 'Back to previous …"
      ]
     },
     "metadata": {},
     "output_type": "display_data"
    },
    {
     "data": {
      "text/plain": [
       "Text(0, 0.5, 'Barrier position')"
      ]
     },
     "execution_count": 14,
     "metadata": {},
     "output_type": "execute_result"
    }
   ],
   "source": [
    "fig, ax1 = plt.subplots()\n",
    "\n",
    "slice_size = len(current_long) // len(t_absolute_out)\n",
    "\n",
    "c_normalized_out = []\n",
    "c_normalized_out_partial = []\n",
    "\n",
    "ax2 = ax1.twinx()\n",
    "for i in range(len(t_absolute_out)):\n",
    "    ax2.plot(\n",
    "        [t_absolute_out[i][0],t_absolute_out[i][-1], t_absolute_out[i][-1]],\n",
    "        [I_max_list[i],I_max_list[i],(I_max_list[i+1] if i+1 != len(I_max_list) else I_max_list[i])],\n",
    "        c=\"black\", alpha=0.5\n",
    "    )\n",
    "    ax1.plot(t_absolute_out[i], c_out[i]/(current_long[slice_size * i:slice_size * (i+1)]))\n",
    "    c_normalized_out.append(c_out[i]/(current_long[slice_size * i:slice_size * (i+1)]))\n",
    "    if i != len(t_absolute_out) - 1:\n",
    "        ax1.plot(\n",
    "            [t_absolute_out[i][-1], t_absolute_out[i][-1]],\n",
    "            np.array([c_out[i][-1], c_out[i+1][0]])/current_long[slice_size*(i+1)],\n",
    "            c=\"black\"\n",
    "        )\n",
    "\n",
    "#ax1.plot(times_long, current_long, c=\"C0\", linestyle=\"dashed\")\n",
    "\n",
    "#ax1.set_yscale(\"log\")\n",
    "ax1.set_ylabel(\"`Normalized` Current\")\n",
    "ax1.set_xlabel(\"time\")\n",
    "ax2.set_ylabel(\"Barrier position\")"
   ]
  },
  {
   "cell_type": "code",
   "execution_count": 15,
   "id": "cca1572e-7506-4ba2-9719-0dd44450d6c0",
   "metadata": {},
   "outputs": [
    {
     "data": {
      "application/vnd.jupyter.widget-view+json": {
       "model_id": "272edc4583674e058a274af14df46b6b",
       "version_major": 2,
       "version_minor": 0
      },
      "text/plain": [
       "Canvas(toolbar=Toolbar(toolitems=[('Home', 'Reset original view', 'home', 'home'), ('Back', 'Back to previous …"
      ]
     },
     "metadata": {},
     "output_type": "display_data"
    }
   ],
   "source": [
    "plt.figure()\n",
    "for i in range(1, len(c_normalized_out)):\n",
    "    if i%6==1 and i != 1:\n",
    "        plt.plot(t_absolute_out[0], c_out[i], c=\"C0\")\n",
    "    elif i%6==2 and i != 2:\n",
    "        plt.plot(t_absolute_out[0], c_out[i], c=\"C1\")\n",
    "    elif i%6==3 and i != 3:\n",
    "        plt.plot(t_absolute_out[0], c_out[i], c=\"C2\")\n",
    "    elif i%6==4 and i != 4:\n",
    "        plt.plot(t_absolute_out[0], c_out[i], c=\"C3\")\n",
    "    elif i%6==5 and i != 5:\n",
    "        plt.plot(t_absolute_out[0], c_out[i], c=\"C4\")\n",
    "    else:\n",
    "        pass\n",
    "    \n",
    "plt.xscale(\"log\")"
   ]
  },
  {
   "cell_type": "code",
   "execution_count": 16,
   "id": "59fdb263-eafe-4167-8d43-a80f0b49d82d",
   "metadata": {},
   "outputs": [
    {
     "data": {
      "application/vnd.jupyter.widget-view+json": {
       "model_id": "801e00f1e18142a1a3fdc2b9a9e80109",
       "version_major": 2,
       "version_minor": 0
      },
      "text/plain": [
       "Canvas(toolbar=Toolbar(toolitems=[('Home', 'Reset original view', 'home', 'home'), ('Back', 'Back to previous …"
      ]
     },
     "metadata": {},
     "output_type": "display_data"
    }
   ],
   "source": [
    "plt.figure()\n",
    "for i in range(1, len(c_normalized_out)):\n",
    "    if i%6==1 and i != 1:\n",
    "        plt.plot(t_absolute_out[0], c_normalized_out[i], c=\"C0\")\n",
    "    elif i%6==2 and i != 2:\n",
    "        plt.plot(t_absolute_out[0], c_normalized_out[i], c=\"C1\")\n",
    "    elif i%6==3 and i != 3:\n",
    "        plt.plot(t_absolute_out[0], c_normalized_out[i], c=\"C2\")\n",
    "    elif i%6==4 and i != 4:\n",
    "        plt.plot(t_absolute_out[0], c_normalized_out[i], c=\"C3\")\n",
    "    elif i%6==5 and i != 5:\n",
    "        plt.plot(t_absolute_out[0], c_normalized_out[i], c=\"C4\")\n",
    "    else:\n",
    "        pass\n",
    "    \n",
    "plt.axvline(afpt(I_max_list[0], I_max_list[1], I_star, exponent, c), c=\"C0\")\n",
    "plt.axvline(afpt(I_max_list[1], I_max_list[2], I_star, exponent, c), c=\"C1\")\n",
    "plt.axvline(afpt(I_max_list[2], I_max_list[3], I_star, exponent, c), c=\"C2\")\n",
    "plt.axvline(afpt(I_max_list[3], I_max_list[4], I_star, exponent, c), c=\"C3\")\n",
    "plt.axvline(afpt(I_max_list[4], I_max_list[5], I_star, exponent, c), c=\"C4\")\n",
    "\n",
    "plt.axhline(0.96, c=\"grey\")\n",
    "plt.axhline(0.965, c=\"grey\")\n",
    "plt.axhline(0.97, c=\"grey\")\n",
    "\n",
    "plt.xscale(\"log\")"
   ]
  },
  {
   "cell_type": "code",
   "execution_count": 17,
   "id": "ef2b31a3-67a3-414d-ada4-ca770cdab073",
   "metadata": {},
   "outputs": [
    {
     "data": {
      "application/vnd.jupyter.widget-view+json": {
       "model_id": "a6f537ea78c04e9987d63287d6d57154",
       "version_major": 2,
       "version_minor": 0
      },
      "text/plain": [
       "Canvas(toolbar=Toolbar(toolitems=[('Home', 'Reset original view', 'home', 'home'), ('Back', 'Back to previous …"
      ]
     },
     "metadata": {},
     "output_type": "display_data"
    },
    {
     "data": {
      "text/plain": [
       "[<matplotlib.lines.Line2D at 0x7f9850df67f0>]"
      ]
     },
     "execution_count": 17,
     "metadata": {},
     "output_type": "execute_result"
    }
   ],
   "source": [
    "x_list = np.linspace(4.0, 5.2, 1000)\n",
    "\n",
    "def weirder_func(x_list):\n",
    "    return (\n",
    "        1 - np.array([afpt(x, 5.2, 8.0, exponent, nt.standard_c(0.0, 5.0, 8.0, exponent)) for x in x_list])/afpt(5.0, 5.2, 8.0, exponent, nt.standard_c(0.0, 5.0, 8.0, exponent))\n",
    "    )\n",
    "\n",
    "plt.figure()\n",
    "plt.plot(x_list, [afpt(x, 5.2, 8.0, exponent, nt.standard_c(0.0, 5.0, 8.0, exponent)) for x in x_list])\n",
    "#plt.plot(x_list, weirder_func(x_list))"
   ]
  },
  {
   "cell_type": "code",
   "execution_count": 18,
   "id": "fb1964a1-f27f-45a2-8de7-2826c473b513",
   "metadata": {},
   "outputs": [
    {
     "data": {
      "application/vnd.jupyter.widget-view+json": {
       "model_id": "b12338ea04b14e048194907facc32569",
       "version_major": 2,
       "version_minor": 0
      },
      "text/plain": [
       "Canvas(toolbar=Toolbar(toolitems=[('Home', 'Reset original view', 'home', 'home'), ('Back', 'Back to previous …"
      ]
     },
     "metadata": {},
     "output_type": "display_data"
    },
    {
     "data": {
      "text/plain": [
       "array([9.8468968])"
      ]
     },
     "execution_count": 18,
     "metadata": {},
     "output_type": "execute_result"
    }
   ],
   "source": [
    "def weird_func(t, k):\n",
    "    return -(np.exp(-k*t)-1)\n",
    "\n",
    "plt.figure()\n",
    "\n",
    "popt, pcov = scipy.optimize.curve_fit(\n",
    "    weird_func,\n",
    "    t_absolute_out[2],\n",
    "    c_normalized_out[2],\n",
    "    p0=5\n",
    ")\n",
    "plt.plot(t_absolute_out[0], c_normalized_out[2])\n",
    "#plt.yscale(\"log\")\n",
    "plt.plot(t_absolute_out[0], weird_func(t_absolute_out[0], popt[0]))\n",
    "plt.plot(t_absolute_out[0], weird_func(t_absolute_out[0], 3))\n",
    "popt"
   ]
  },
  {
   "cell_type": "code",
   "execution_count": 19,
   "id": "39ab412c-5bdc-4759-94b5-a0863e08a02a",
   "metadata": {},
   "outputs": [
    {
     "data": {
      "application/vnd.jupyter.widget-view+json": {
       "model_id": "d2bc4c8620314dbf890926dbd6bdc522",
       "version_major": 2,
       "version_minor": 0
      },
      "text/plain": [
       "Canvas(toolbar=Toolbar(toolitems=[('Home', 'Reset original view', 'home', 'home'), ('Back', 'Back to previous …"
      ]
     },
     "metadata": {},
     "output_type": "display_data"
    },
    {
     "data": {
      "text/plain": [
       "array([9.8468968])"
      ]
     },
     "execution_count": 19,
     "metadata": {},
     "output_type": "execute_result"
    }
   ],
   "source": [
    "plt.figure()\n",
    "\n",
    "plt.plot(t_absolute_out[0], c_normalized_out[2])\n",
    "#plt.yscale(\"log\")\n",
    "plt.plot(t_absolute_out[0], weird_func(t_absolute_out[0], popt[0]))\n",
    "popt"
   ]
  },
  {
   "cell_type": "code",
   "execution_count": 20,
   "id": "92ebdc58-8543-407b-b5cc-128ebb806e6d",
   "metadata": {},
   "outputs": [
    {
     "data": {
      "application/vnd.jupyter.widget-view+json": {
       "model_id": "678c53376286460da65da2887402c409",
       "version_major": 2,
       "version_minor": 0
      },
      "text/plain": [
       "Canvas(toolbar=Toolbar(toolitems=[('Home', 'Reset original view', 'home', 'home'), ('Back', 'Back to previous …"
      ]
     },
     "metadata": {},
     "output_type": "display_data"
    },
    {
     "data": {
      "text/plain": [
       "<matplotlib.lines.Line2D at 0x7f9850f7ac40>"
      ]
     },
     "execution_count": 20,
     "metadata": {},
     "output_type": "execute_result"
    }
   ],
   "source": [
    "plt.figure()\n",
    "plt.plot(t_absolute_out[0], c_normalized_out[2])\n",
    "plt.axvline(afpt(\n",
    "    5.2,\n",
    "    5.4,\n",
    "    I_star,\n",
    "    exponent,\n",
    "    c=nt.standard_c(0.0, I_max, I_star, exponent)\n",
    "))\n",
    "\n",
    "plt.plot(t_absolute_out[0], c_normalized_out[3])\n",
    "plt.axvline(afpt(\n",
    "    5.4,\n",
    "    5.6,\n",
    "    I_star,\n",
    "    exponent,\n",
    "    c=nt.standard_c(0.0, I_max, I_star, exponent)\n",
    "), c=\"C1\")"
   ]
  },
  {
   "cell_type": "code",
   "execution_count": 21,
   "id": "330fedba-02c3-4777-8cad-ac778266e91b",
   "metadata": {},
   "outputs": [
    {
     "data": {
      "application/vnd.jupyter.widget-view+json": {
       "model_id": "f4dd1a2ae5da45469202b63b8643ec11",
       "version_major": 2,
       "version_minor": 0
      },
      "text/plain": [
       "Canvas(toolbar=Toolbar(toolitems=[('Home', 'Reset original view', 'home', 'home'), ('Back', 'Back to previous …"
      ]
     },
     "metadata": {},
     "output_type": "display_data"
    },
    {
     "data": {
      "text/plain": [
       "<matplotlib.collections.PathCollection at 0x7f9850ebcf70>"
      ]
     },
     "execution_count": 21,
     "metadata": {},
     "output_type": "execute_result"
    }
   ],
   "source": [
    "plt.figure()\n",
    "plt.scatter(\n",
    "    I_max_list_partial,\n",
    "    [t_absolute_out_partial[i][np.argmax(c_out_partial[i])] - (t_absolute_out[i-1][-1] if i != 0 else 0) for i in range(len(t_absolute_out_partial))]\n",
    ")"
   ]
  },
  {
   "cell_type": "code",
   "execution_count": null,
   "id": "8776b0e0-09e6-4a04-b4b3-582ecbd9cfdf",
   "metadata": {},
   "outputs": [],
   "source": []
  },
  {
   "cell_type": "code",
   "execution_count": null,
   "id": "84473c7c-b182-4f0f-8bd7-2b3806163402",
   "metadata": {},
   "outputs": [],
   "source": []
  },
  {
   "cell_type": "code",
   "execution_count": null,
   "id": "a69d667b-c7f6-4b2d-a25e-06920827328e",
   "metadata": {},
   "outputs": [],
   "source": []
  }
 ],
 "metadata": {
  "kernelspec": {
   "display_name": "Python 3",
   "language": "python",
   "name": "python3"
  },
  "language_info": {
   "codemirror_mode": {
    "name": "ipython",
    "version": 3
   },
   "file_extension": ".py",
   "mimetype": "text/x-python",
   "name": "python",
   "nbconvert_exporter": "python",
   "pygments_lexer": "ipython3",
   "version": "3.8.10"
  }
 },
 "nbformat": 4,
 "nbformat_minor": 5
}
