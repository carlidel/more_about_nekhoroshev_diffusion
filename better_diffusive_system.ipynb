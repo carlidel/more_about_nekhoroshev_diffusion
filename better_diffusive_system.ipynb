{
 "cells": [
  {
   "cell_type": "markdown",
   "id": "a52cc515-1833-4f20-9b47-187874cb73fd",
   "metadata": {},
   "source": [
    "# Better automated diffusive system"
   ]
  },
  {
   "cell_type": "code",
   "execution_count": 1,
   "id": "214ce911-c3a8-414a-a809-9123ecc3bcf2",
   "metadata": {},
   "outputs": [],
   "source": [
    "%matplotlib widget"
   ]
  },
  {
   "cell_type": "markdown",
   "id": "98cf5a76-c345-4d20-9693-a90bddb608ac",
   "metadata": {},
   "source": [
    "**Library Import**"
   ]
  },
  {
   "cell_type": "code",
   "execution_count": 2,
   "id": "0957d49e-f75f-4d24-8306-0c5044832ee1",
   "metadata": {
    "tags": []
   },
   "outputs": [],
   "source": [
    "import numpy as np\n",
    "import matplotlib.pyplot as plt\n",
    "import scipy\n",
    "import scipy.integrate\n",
    "from tqdm.notebook import tqdm\n",
    "import crank_nicolson_numba.generic as cn\n",
    "import itertools\n",
    "# For parallelization\n",
    "from joblib import Parallel, delayed\n",
    "\n",
    "import nekhoroshev_tools as nt\n",
    "import poly_tools as pt\n",
    "import expo_tools as et"
   ]
  },
  {
   "cell_type": "code",
   "execution_count": 3,
   "id": "e2db9444-20c8-4036-85d4-80db0a33d001",
   "metadata": {},
   "outputs": [],
   "source": [
    "def perform_experiment(engine, movement_list, reset=True, immovable=False):\n",
    "    if reset:\n",
    "        engine.reset()\n",
    "    data_list = []\n",
    "    absolute_time = 0.0\n",
    "    for move in tqdm(movement_list):\n",
    "        data = {}\n",
    "\n",
    "        if not immovable:\n",
    "            if move[\"movement\"] == \"forward\":\n",
    "                data[\"I_max_before\"] = engine.I_max\n",
    "                data[\"I_max_low\"] = engine.I_max\n",
    "                engine.move_barrier_forward(move[\"amount\"])\n",
    "                data[\"I_max_after\"] = engine.I_max\n",
    "                data[\"I_max_high\"] = engine.I_max\n",
    "            elif move[\"movement\"] == \"backward\":\n",
    "                data[\"I_max_before\"] = engine.I_max\n",
    "                data[\"I_max_high\"] = engine.I_max\n",
    "                engine.move_barrier_backward(move[\"amount\"])\n",
    "                data[\"I_max_after\"] = engine.I_max\n",
    "                data[\"I_max_low\"] = engine.I_max\n",
    "            else:\n",
    "                data[\"I_max_before\"] = engine.I_max\n",
    "                data[\"I_max_high\"] = engine.I_max\n",
    "                data[\"I_max_after\"] = engine.I_max\n",
    "                data[\"I_max_low\"] = engine.I_max\n",
    "        else:\n",
    "            data[\"I_max_before\"] = engine.I_max\n",
    "            data[\"I_max_high\"] = engine.I_max\n",
    "            data[\"I_max_after\"] = engine.I_max\n",
    "            data[\"I_max_low\"] = engine.I_max\n",
    "\n",
    "        time, current = engine.current(move[\"samples\"], move[\"it_per_sample\"])\n",
    "\n",
    "        data[\"t_absolute\"] = time\n",
    "        data[\"t_relative\"] = time - absolute_time\n",
    "        absolute_time = time[-1]\n",
    "\n",
    "        data[\"current\"] = current\n",
    "\n",
    "        data_list.append(data)\n",
    "    return data_list"
   ]
  },
  {
   "cell_type": "code",
   "execution_count": 20,
   "id": "08b7e047-cd7c-49ae-a072-14f84ead5bb7",
   "metadata": {},
   "outputs": [],
   "source": [
    "def rho_0(I, damping_position=np.nan, l=np.nan):\n",
    "    if np.isnan(damping_position) or np.isnan(l):\n",
    "        return np.exp(-I)\n",
    "    else:\n",
    "        return np.exp(-I) / (1 + np.exp((I - damping_position)/l))"
   ]
  },
  {
   "cell_type": "code",
   "execution_count": 21,
   "id": "4aa7254c-6672-4ac0-9eed-2786e7811d80",
   "metadata": {},
   "outputs": [],
   "source": [
    "I_damping = 2.95\n",
    "I_max = 3.0\n",
    "I_star = 8.0\n",
    "k = 0.33\n",
    "exponent = 1/(2*k)\n",
    "\n",
    "c = nt.standard_c(0.0, I_max, I_star, exponent)"
   ]
  },
  {
   "cell_type": "code",
   "execution_count": 162,
   "id": "7267966a-e9c2-4d44-9fa4-16e32ab4fb26",
   "metadata": {},
   "outputs": [
    {
     "data": {
      "application/vnd.jupyter.widget-view+json": {
       "model_id": "54da4194753a441988b2db02901f4297",
       "version_major": 2,
       "version_minor": 0
      },
      "text/plain": [
       "Canvas(toolbar=Toolbar(toolitems=[('Home', 'Reset original view', 'home', 'home'), ('Back', 'Back to previous …"
      ]
     },
     "metadata": {},
     "output_type": "display_data"
    },
    {
     "name": "stdout",
     "output_type": "stream",
     "text": [
      "0.004806933965221642\n",
      "0.009920566757656485\n",
      "0.017764192218942033\n",
      "0.0001784420294643284\n",
      "0.06377387516741567\n"
     ]
    },
    {
     "data": {
      "text/plain": [
       "<matplotlib.legend.Legend at 0x7f8308456850>"
      ]
     },
     "execution_count": 162,
     "metadata": {},
     "output_type": "execute_result"
    }
   ],
   "source": [
    "plt.figure()\n",
    "\n",
    "I = np.linspace(2.5, 3.0, 100, endpoint=False)\n",
    "plt.plot(I, [nt.afpt(i, 3.0, I_star, exponent, c) for i in I], label=\"3.0\")\n",
    "\n",
    "I = np.linspace(2.5, 3.5, 100, endpoint=False)\n",
    "plt.plot(I, [nt.afpt(i, 3.5, I_star, exponent, c) for i in I], label=\"3.5\")\n",
    "\n",
    "#plt.yscale(\"log\")\n",
    "\n",
    "print(nt.afpt(3.8, 3.85, I_star, exponent, c))\n",
    "print(nt.afpt(3.5, 3.55, I_star, exponent, c))\n",
    "print(nt.afpt(3.3, 3.35, I_star, exponent, c))\n",
    "print(nt.current_peak_time(I_damping, I_max, I_star, exponent, c))\n",
    "print(nt.afpt(I_damping, I_max, I_star, exponent, c))\n",
    "\n",
    "plt.xlabel(\"$I$\")\n",
    "plt.ylabel(\"Average First Passage Time\")\n",
    "plt.legend(title=\"$I_a$ position\")"
   ]
  },
  {
   "cell_type": "code",
   "execution_count": 40,
   "id": "eb0c06d7-e585-4b88-adff-08009e4e71ec",
   "metadata": {},
   "outputs": [],
   "source": [
    "step_size = 0.05\n",
    "\n",
    "it_per_sample = 10\n",
    "samples = 5000\n",
    "iterations = 10\n",
    "\n",
    "n_macro_iterations = 5"
   ]
  },
  {
   "cell_type": "code",
   "execution_count": 41,
   "id": "9cb3577f-9216-4760-804e-dc89bdb9ebec",
   "metadata": {},
   "outputs": [],
   "source": [
    "cn_sampling = 5000\n",
    "I_list, dI = np.linspace(0.0, I_max, cn_sampling, retstep=True)\n",
    "\n",
    "cn_time_steps = 100\n",
    "dt = nt.afpt(I_damping + (step_size * iterations), I_max + (step_size * iterations), I_star, exponent, c) / cn_time_steps"
   ]
  },
  {
   "cell_type": "code",
   "execution_count": 42,
   "id": "e840c67e-585a-421b-8d9c-897eaee0306c",
   "metadata": {},
   "outputs": [],
   "source": [
    "macro_iteration = [\n",
    "    {\"label\": i, \"movement\": \"backward\", \"amount\": step_size, \"samples\": samples, \"it_per_sample\": it_per_sample} for i in range(iterations)\n",
    "] + [\n",
    "    {\"label\": i, \"movement\": \"forward\", \"amount\": step_size, \"samples\": samples, \"it_per_sample\": it_per_sample} for i in range(iterations)\n",
    "]\n",
    "\n",
    "movement_list = [\n",
    "    {\"movement\": \"still\", \"samples\": samples, \"it_per_sample\": it_per_sample},\n",
    "    {\"movement\": \"still\", \"samples\": samples, \"it_per_sample\": it_per_sample}\n",
    "] + macro_iteration * n_macro_iterations"
   ]
  },
  {
   "cell_type": "code",
   "execution_count": 43,
   "id": "24232611-f3ee-4015-9661-7ba22ceeb466",
   "metadata": {},
   "outputs": [
    {
     "name": "stderr",
     "output_type": "stream",
     "text": [
      "/home/camontan/Insync/carlo.montanari3@studio.unibo.it/OneDrive_Biz/projects/new_games_with_diffusion/nekhoroshev_tools.py:37: RuntimeWarning: divide by zero encountered in double_scalars\n",
      "  return c * np.exp(-2*np.power(I_star/I, exponent)) * (0.5 if halved else 1.0)\n"
     ]
    }
   ],
   "source": [
    "engine = cn.cn_generic(0, I_max, rho_0(I_list, I_damping, dI*5), dt, lambda x: nt.D(x, I_star, exponent, c, True))\n",
    "data_0 = engine.get_data_with_x()"
   ]
  },
  {
   "cell_type": "code",
   "execution_count": 44,
   "id": "4c86269a-8d6a-4999-b3e5-26a80a598e2f",
   "metadata": {},
   "outputs": [
    {
     "data": {
      "application/vnd.jupyter.widget-view+json": {
       "model_id": "97b5f2bda12242e9a70ccb7daac98108",
       "version_major": 2,
       "version_minor": 0
      },
      "text/plain": [
       "  0%|          | 0/102 [00:00<?, ?it/s]"
      ]
     },
     "metadata": {},
     "output_type": "display_data"
    }
   ],
   "source": [
    "immovable_data = perform_experiment(engine, movement_list, reset=True, immovable=True)"
   ]
  },
  {
   "cell_type": "code",
   "execution_count": 45,
   "id": "6f2f0831-3b8e-4676-85bd-a22768917d2c",
   "metadata": {},
   "outputs": [
    {
     "data": {
      "application/vnd.jupyter.widget-view+json": {
       "model_id": "facd1b2d6dcf442d8d7ba7f0827df435",
       "version_major": 2,
       "version_minor": 0
      },
      "text/plain": [
       "  0%|          | 0/102 [00:00<?, ?it/s]"
      ]
     },
     "metadata": {},
     "output_type": "display_data"
    }
   ],
   "source": [
    "experiment_data = perform_experiment(engine, movement_list, reset=True, immovable=False)"
   ]
  },
  {
   "cell_type": "code",
   "execution_count": 46,
   "id": "87bb4777-9ec0-4c5d-8c97-3b9b980b2173",
   "metadata": {},
   "outputs": [],
   "source": [
    "for i, d in enumerate(experiment_data):\n",
    "    d[\"normalized_current\"] = d[\"current\"]/immovable_data[i][\"current\"]"
   ]
  },
  {
   "cell_type": "code",
   "execution_count": 114,
   "id": "0ffea112-4a77-493f-ae00-e7fd374b0a81",
   "metadata": {},
   "outputs": [
    {
     "data": {
      "application/vnd.jupyter.widget-view+json": {
       "model_id": "d2c8c213deda4bec9e412aa3af0ade79",
       "version_major": 2,
       "version_minor": 0
      },
      "text/plain": [
       "Canvas(toolbar=Toolbar(toolitems=[('Home', 'Reset original view', 'home', 'home'), ('Back', 'Back to previous …"
      ]
     },
     "metadata": {},
     "output_type": "display_data"
    },
    {
     "data": {
      "text/plain": [
       "<matplotlib.legend.Legend at 0x7f830322f7f0>"
      ]
     },
     "execution_count": 114,
     "metadata": {},
     "output_type": "execute_result"
    }
   ],
   "source": [
    "fig, ax1 = plt.subplots()\n",
    "ax2 = ax1.twinx()\n",
    "\n",
    "for i, d in enumerate(experiment_data):\n",
    "    if i != 0:\n",
    "        ax2.plot(\n",
    "            [d[\"t_absolute\"][0], d[\"t_absolute\"][0], d[\"t_absolute\"][-1]],\n",
    "            [d[\"I_max_before\"], d[\"I_max_after\"], d[\"I_max_after\"]],\n",
    "            c=\"grey\"\n",
    "        )\n",
    "        ax1.plot(d[\"t_absolute\"], d[\"current\"], c=\"C1\")\n",
    "    else:\n",
    "        ax2.plot(\n",
    "        [d[\"t_absolute\"][0], d[\"t_absolute\"][0], d[\"t_absolute\"][-1]],\n",
    "        [d[\"I_max_before\"], d[\"I_max_after\"], d[\"I_max_after\"]],\n",
    "        c=\"grey\", label=\"Barrier position\"\n",
    "        )\n",
    "        ax1.plot(d[\"t_absolute\"], d[\"current\"], c=\"C1\", label=\"Current with moving barrier\")\n",
    "\n",
    "    \n",
    "for i, d in enumerate(immovable_data):\n",
    "    if i == 0:\n",
    "        ax1.plot(d[\"t_absolute\"], d[\"current\"], \"--\", c=\"C0\", label=\"Regular current\")\n",
    "    else:    \n",
    "        ax1.plot(d[\"t_absolute\"], d[\"current\"], \"--\", c=\"C0\")\n",
    "\n",
    "ax1.set_yscale(\"log\")\n",
    "\n",
    "ax1.set_xlabel(\"$t$\")\n",
    "ax1.set_ylabel(\"Current\")\n",
    "ax2.set_ylabel(\"Barrier position $ I\\\\ [\\sigma]$\")\n",
    "ax1_legend = ax1.legend()\n",
    "ax2.legend()\n",
    "ax1_legend.remove()\n",
    "ax2.add_artist(ax1_legend)"
   ]
  },
  {
   "cell_type": "code",
   "execution_count": 115,
   "id": "27882914-0a39-48bd-afae-b32a40a95951",
   "metadata": {},
   "outputs": [
    {
     "data": {
      "application/vnd.jupyter.widget-view+json": {
       "model_id": "5f092053ac994b329375edb409d5bac4",
       "version_major": 2,
       "version_minor": 0
      },
      "text/plain": [
       "Canvas(toolbar=Toolbar(toolitems=[('Home', 'Reset original view', 'home', 'home'), ('Back', 'Back to previous …"
      ]
     },
     "metadata": {},
     "output_type": "display_data"
    },
    {
     "data": {
      "text/plain": [
       "<matplotlib.legend.Legend at 0x7f830125c400>"
      ]
     },
     "execution_count": 115,
     "metadata": {},
     "output_type": "execute_result"
    }
   ],
   "source": [
    "fig, ax1 = plt.subplots()\n",
    "ax2 = ax1.twinx()\n",
    "\n",
    "for i, d in enumerate(experiment_data):\n",
    "    if i != 0:\n",
    "        ax2.plot(\n",
    "            [d[\"t_absolute\"][0], d[\"t_absolute\"][0], d[\"t_absolute\"][-1]],\n",
    "            [d[\"I_max_before\"], d[\"I_max_after\"], d[\"I_max_after\"]],\n",
    "            c=\"grey\"\n",
    "        )\n",
    "        ax1.plot(d[\"t_absolute\"], d[\"current\"]/immovable_data[i][\"current\"], c=\"C0\")\n",
    "    else:\n",
    "        ax2.plot(\n",
    "            [d[\"t_absolute\"][0], d[\"t_absolute\"][0], d[\"t_absolute\"][-1]],\n",
    "            [d[\"I_max_before\"], d[\"I_max_after\"], d[\"I_max_after\"]],\n",
    "            c=\"grey\", label=\"Barrier position\"\n",
    "        )\n",
    "        ax1.plot(d[\"t_absolute\"], d[\"current\"]/immovable_data[i][\"current\"], c=\"C0\", label=\"Normalized current\")\n",
    "    \n",
    "#for d in immovable_data:\n",
    "#    ax1.plot(d[\"t_absolute\"], d[\"current\"], \"--\", c=\"C0\")\n",
    "\n",
    "#ax1.set_yscale(\"log\")\n",
    "\n",
    "ax1.set_xlabel(\"$t$\")\n",
    "ax1.set_ylabel(\"Normalized current\")\n",
    "ax2.set_ylabel(\"Barrier position $ I\\\\ [\\sigma]$\")\n",
    "ax1_legend = ax1.legend()\n",
    "ax2.legend()\n",
    "ax1_legend.remove()\n",
    "ax2.add_artist(ax1_legend)"
   ]
  },
  {
   "cell_type": "code",
   "execution_count": 132,
   "id": "b869ba20-3e08-470e-b1ca-783ef17edd0a",
   "metadata": {},
   "outputs": [
    {
     "data": {
      "application/vnd.jupyter.widget-view+json": {
       "model_id": "14049fad2751427ba579f1bb4c21151d",
       "version_major": 2,
       "version_minor": 0
      },
      "text/plain": [
       "Canvas(toolbar=Toolbar(toolitems=[('Home', 'Reset original view', 'home', 'home'), ('Back', 'Back to previous …"
      ]
     },
     "metadata": {},
     "output_type": "display_data"
    },
    {
     "data": {
      "text/plain": [
       "Text(0, 0.5, 'Relative current')"
      ]
     },
     "execution_count": 132,
     "metadata": {},
     "output_type": "execute_result"
    }
   ],
   "source": [
    "plt.figure()\n",
    "\n",
    "for i, d in enumerate(experiment_data):\n",
    "    if d[\"I_max_before\"] > d[\"I_max_after\"]:\n",
    "        if i < iterations * 2 + 2:\n",
    "            plt.plot(d[\"t_relative\"], d[\"normalized_current\"], c=\"C{}\".format(movement_list[i][\"label\"]), label=\"{:.2f} - {:.2f}\".format(d[\"I_max_before\"], d[\"I_max_after\"]))\n",
    "        else:\n",
    "            plt.plot(d[\"t_relative\"], d[\"normalized_current\"], c=\"C{}\".format(movement_list[i][\"label\"]))\n",
    "        \n",
    "        plt.axvline(nt.afpt(d[\"I_max_low\"], d[\"I_max_high\"], I_star, exponent, c), c=\"C{}\".format(movement_list[i][\"label\"]))\n",
    "\n",
    "plt.axhline(1.03, c=\"grey\")        \n",
    "plt.axhline(1.035, c=\"grey\")        \n",
    "plt.axhline(1.04, c=\"grey\")\n",
    "\n",
    "plt.xscale(\"log\")\n",
    "plt.legend(ncol=2, fontsize=\"x-small\", title=\"Collimator step (from - to)\\nVertical lines are $\\\\langle t \\\\rangle$\")\n",
    "plt.xlabel(\"Relative time\")\n",
    "plt.ylabel(\"Relative current\")\n",
    "#plt.yscale(\"log\")"
   ]
  },
  {
   "cell_type": "code",
   "execution_count": 57,
   "id": "93993083-f58f-4ee4-b6a5-d43cb1b4bfb6",
   "metadata": {},
   "outputs": [
    {
     "data": {
      "text/plain": [
       "0.0643550662269322"
      ]
     },
     "execution_count": 57,
     "metadata": {},
     "output_type": "execute_result"
    }
   ],
   "source": [
    "nt.afpt(d[\"I_max_low\"], d[\"I_max_high\"], I_star, exponent, c)"
   ]
  },
  {
   "cell_type": "code",
   "execution_count": 133,
   "id": "3eeacf7c-5a4c-4a6e-81cf-3864b517d67c",
   "metadata": {},
   "outputs": [
    {
     "data": {
      "application/vnd.jupyter.widget-view+json": {
       "model_id": "3c4866162b59469e89512e9cec58f0c7",
       "version_major": 2,
       "version_minor": 0
      },
      "text/plain": [
       "Canvas(toolbar=Toolbar(toolitems=[('Home', 'Reset original view', 'home', 'home'), ('Back', 'Back to previous …"
      ]
     },
     "metadata": {},
     "output_type": "display_data"
    },
    {
     "data": {
      "text/plain": [
       "Text(0, 0.5, 'Relative current')"
      ]
     },
     "execution_count": 133,
     "metadata": {},
     "output_type": "execute_result"
    }
   ],
   "source": [
    "plt.figure()\n",
    "\n",
    "for i, d in enumerate(experiment_data):\n",
    "    if d[\"I_max_before\"] < d[\"I_max_after\"] and not movement_list[i][\"label\"] == 0:\n",
    "        if i < iterations * 2 + 2:\n",
    "            plt.plot(d[\"t_relative\"], d[\"normalized_current\"], c=\"C{}\".format(movement_list[i][\"label\"] - 1), label=\"{:.2f} - {:.2f}\".format(d[\"I_max_before\"], d[\"I_max_after\"]))\n",
    "        else:\n",
    "            plt.plot(d[\"t_relative\"], d[\"normalized_current\"], c=\"C{}\".format(movement_list[i][\"label\"] - 1))\n",
    "        \n",
    "        plt.axvline(nt.afpt(d[\"I_max_low\"], d[\"I_max_high\"], I_star, exponent, c), c=\"C{}\".format(movement_list[i][\"label\"]-1))\n",
    "\n",
    "plt.axhline(0.955, c=\"grey\")        \n",
    "plt.axhline(0.960, c=\"grey\")        \n",
    "plt.axhline(0.965, c=\"grey\")        \n",
    "\n",
    "plt.xscale(\"log\")\n",
    "#plt.yscale(\"log\")\n",
    "\n",
    "plt.xscale(\"log\")\n",
    "plt.legend(ncol=2, fontsize=\"x-small\", title=\"Collimator step (from - to)\\nVertical lines are $\\\\langle t \\\\rangle$\")\n",
    "plt.xlabel(\"Relative time\")\n",
    "plt.ylabel(\"Relative current\")"
   ]
  },
  {
   "cell_type": "markdown",
   "id": "052ee29d-4c78-4c13-aa1d-33a8532b3333",
   "metadata": {},
   "source": [
    "## Let's try this (violent) thing"
   ]
  },
  {
   "cell_type": "code",
   "execution_count": 137,
   "id": "4956f2f6-9154-494d-a822-d3dc58a21ed4",
   "metadata": {},
   "outputs": [
    {
     "data": {
      "application/vnd.jupyter.widget-view+json": {
       "model_id": "4a844081b75c40f4aa59335ce33c1887",
       "version_major": 2,
       "version_minor": 0
      },
      "text/plain": [
       "Canvas(toolbar=Toolbar(toolitems=[('Home', 'Reset original view', 'home', 'home'), ('Back', 'Back to previous …"
      ]
     },
     "metadata": {},
     "output_type": "display_data"
    },
    {
     "data": {
      "text/plain": [
       "<matplotlib.legend.Legend at 0x7f82fe0b0c40>"
      ]
     },
     "execution_count": 137,
     "metadata": {},
     "output_type": "execute_result"
    }
   ],
   "source": [
    "idx = np.argmin(np.absolute(1.85-I_list))\n",
    "\n",
    "rho_test = rho_0(I_list[idx:], I_damping, 0.02)\n",
    "\n",
    "plt.figure()\n",
    "    \n",
    "plt.plot(\n",
    "    [nt.afpt(i, I_max, I_star, exponent, c) for i in I_list[idx:]],\n",
    "    rho_test * (0.5 * (nt.D(I_list[idx:], I_star, exponent, c)/I_list[idx:])),\n",
    "    c=\"C1\", label=\"$\\\\langle t \\\\rangle$ reconstruction\"\n",
    ")\n",
    "\n",
    "for i, d in enumerate(immovable_data):\n",
    "    if i == 0:\n",
    "        plt.plot(d[\"t_absolute\"], d[\"current\"], \"--\", c=\"C0\", label=\"Real current\")\n",
    "    else:\n",
    "        plt.plot(d[\"t_absolute\"], d[\"current\"], \"--\", c=\"C0\")\n",
    "        \n",
    "plt.yscale(\"log\")\n",
    "plt.title(\"Comparison between real current and `$\\\\langle t \\\\rangle$ based' current\")\n",
    "plt.xlabel(\"$t$\")\n",
    "plt.ylabel(\"$J$\")\n",
    "plt.legend()"
   ]
  },
  {
   "cell_type": "markdown",
   "id": "a3071ec9-2519-49a4-8892-18f666331938",
   "metadata": {},
   "source": [
    "...it works, this can be VERY usefull."
   ]
  },
  {
   "cell_type": "markdown",
   "id": "ba35351d-c84b-4f6c-93cc-4850cfd032ec",
   "metadata": {},
   "source": [
    "## Another Violent Test"
   ]
  },
  {
   "cell_type": "code",
   "execution_count": 157,
   "id": "c8019f75-dccf-4cb5-b745-cb2e6dbcb306",
   "metadata": {},
   "outputs": [
    {
     "data": {
      "application/vnd.jupyter.widget-view+json": {
       "model_id": "e9e13e0682444248ab9300a99c8f8a3e",
       "version_major": 2,
       "version_minor": 0
      },
      "text/plain": [
       "  0%|          | 0/200000 [00:00<?, ?it/s]"
      ]
     },
     "metadata": {},
     "output_type": "display_data"
    }
   ],
   "source": [
    "afpt_test = nt.afpt(I_damping, I_max, I_star, exponent, c)\n",
    "\n",
    "t_test = np.linspace(0.0, afpt_test*2.0, 200000)\n",
    "c_test = np.array([nt.current_point(t, I_damping, I_max, I_star, exponent, c) for t in tqdm(t_test)])"
   ]
  },
  {
   "cell_type": "code",
   "execution_count": 159,
   "id": "b7392079-54d7-4686-ba7b-c16dcfce22ab",
   "metadata": {},
   "outputs": [
    {
     "data": {
      "application/vnd.jupyter.widget-view+json": {
       "model_id": "933c7ccddb784899aec228aa4de787c3",
       "version_major": 2,
       "version_minor": 0
      },
      "text/plain": [
       "Canvas(toolbar=Toolbar(toolitems=[('Home', 'Reset original view', 'home', 'home'), ('Back', 'Back to previous …"
      ]
     },
     "metadata": {},
     "output_type": "display_data"
    },
    {
     "data": {
      "text/plain": [
       "<matplotlib.legend.Legend at 0x7f82fe239bb0>"
      ]
     },
     "execution_count": 159,
     "metadata": {},
     "output_type": "execute_result"
    }
   ],
   "source": [
    "plt.figure()\n",
    "plt.plot(t_test, c_test, label=\"Current lost from $\\\\delta$ distribution (Analytic estimate)\")\n",
    "plt.axvline(afpt_test, c=\"red\", label=\"Average first passage time\")\n",
    "plt.xlabel(\"$t$\")\n",
    "plt.ylabel(\"Current\")\n",
    "plt.legend()"
   ]
  },
  {
   "cell_type": "code",
   "execution_count": 163,
   "id": "d044282a-0908-43ec-aeab-f18ccb5876e9",
   "metadata": {},
   "outputs": [
    {
     "name": "stdout",
     "output_type": "stream",
     "text": [
      "All current lost (up to our integration): 0.9849291930170353\n",
      "Current lost up to afpt: 0.9674227942119674\n"
     ]
    }
   ],
   "source": [
    "print(\"All current lost (up to our integration):\", scipy.integrate.simps(c_test, t_test))\n",
    "\n",
    "idx_test = np.argmin(np.absolute(t_test - afpt_test))\n",
    "print(\"Current lost up to afpt:\", scipy.integrate.simps(c_test[:idx_test], t_test[:idx_test]))"
   ]
  },
  {
   "cell_type": "markdown",
   "id": "cfa031a6-8f77-452d-ac65-f71a458a2d36",
   "metadata": {},
   "source": [
    "The agreement is *almost* perfect, and the discrepancies can be perfectly related to the accuracy lost in the linearization on which the analytic estimation is based on."
   ]
  },
  {
   "cell_type": "code",
   "execution_count": null,
   "id": "a303efda-2626-43bc-8cba-6aca4a2077c0",
   "metadata": {},
   "outputs": [],
   "source": []
  }
 ],
 "metadata": {
  "kernelspec": {
   "display_name": "Python 3",
   "language": "python",
   "name": "python3"
  },
  "language_info": {
   "codemirror_mode": {
    "name": "ipython",
    "version": 3
   },
   "file_extension": ".py",
   "mimetype": "text/x-python",
   "name": "python",
   "nbconvert_exporter": "python",
   "pygments_lexer": "ipython3",
   "version": "3.8.10"
  }
 },
 "nbformat": 4,
 "nbformat_minor": 5
}
