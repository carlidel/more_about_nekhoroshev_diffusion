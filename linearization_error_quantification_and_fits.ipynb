{
 "cells": [
  {
   "cell_type": "markdown",
   "id": "167e4a16",
   "metadata": {},
   "source": [
    "# A direct quantification of the linearization error"
   ]
  },
  {
   "cell_type": "code",
   "execution_count": 1,
   "id": "7454c439",
   "metadata": {},
   "outputs": [],
   "source": [
    "%matplotlib widget"
   ]
  },
  {
   "cell_type": "code",
   "execution_count": 28,
   "id": "27790866",
   "metadata": {},
   "outputs": [],
   "source": [
    "import numpy as np\n",
    "import matplotlib.pyplot as plt\n",
    "import scipy\n",
    "import scipy.integrate\n",
    "from tqdm.notebook import tqdm\n",
    "import crank_nicolson_numba.generic as cn\n",
    "import itertools\n",
    "# For parallelization\n",
    "from joblib import Parallel, delayed"
   ]
  },
  {
   "cell_type": "markdown",
   "id": "be906604",
   "metadata": {},
   "source": [
    "### Setting up the various elements for the Nekhoroshev-like diffusion"
   ]
  },
  {
   "cell_type": "code",
   "execution_count": 3,
   "id": "27ccb129",
   "metadata": {},
   "outputs": [],
   "source": [
    "def D(I, I_star, exponent):\n",
    "    return np.exp(-2*np.power(I_star/I, exponent))\n",
    "\n",
    "def normed_D(I, I_star, exponent, c):\n",
    "    return c * D(I, I_star, exponent)\n",
    "\n",
    "def normed_D_half(I, I_star, exponent, c):\n",
    "    return normed_D(I, I_star, exponent, c)/2\n",
    "\n",
    "def x(I, I_max, I_star, exponent, c):\n",
    "    return -scipy.integrate.quad(lambda x: 1/np.sqrt(normed_D(x, I_star, exponent, c)), I, I_max)[0]\n",
    "\n",
    "def nu(I, I_star, exponent, c, scale=1.0):\n",
    "    I = I * scale\n",
    "    return (np.sqrt(c) * exponent / I) * np.power(I_star/I, exponent) * np.exp(-np.power(I_star/I, exponent))\n",
    "\n",
    "def current_peak_time(I_0, I_max, I_star, exponent, c):\n",
    "    return 2*(np.sqrt(nu(I_0, I_star, exponent, c)**2 * x(I_0, I_max, I_star, exponent, c)**2 + 9) - 3) / nu(I_0, I_star, exponent, c)**2\n",
    "\n",
    "def current_peak_value(I_0, I_max, I_star, exponent, c):\n",
    "    return -x(I_0, I_max, I_star, exponent, c)*np.exp(-nu(I_0, I_star, exponent, c)**2*(x(I_0, I_max, I_star, exponent, c) + (np.sqrt(nu(I_0, I_star, exponent, c)**2*x(I_0, I_max, I_star, exponent, c)**2 + 9) - 3)/nu(I_0, I_star, exponent, c))**2/(4*(np.sqrt(nu(I_0, I_star, exponent, c)**2*x(I_0, I_max, I_star, exponent, c)**2 + 9) - 3)))/(4*np.sqrt(np.pi)*((np.sqrt(nu(I_0, I_star, exponent, c)**2*x(I_0, I_max, I_star, exponent, c)**2 + 9) - 3)/nu(I_0, I_star, exponent, c)**2)**(3/2))\n",
    "\n",
    "def current_point(t, I, I_max, I_star, exponent, c, scale=1.0):\n",
    "    if t == 0:\n",
    "        return 0.0\n",
    "    return -x(I, I_max, I_star, exponent, c) / (t * np.sqrt(2*np.pi*t)) * np.exp(-(x(I, I_max, I_star, exponent, c)+((nu(I, I_star, exponent, c, scale)/2)*t))**2/(2*t))\n",
    "\n",
    "def current_general(t, I, I_int_min, I_star, exponent, c, scale=1.0):\n",
    "    return [scipy.integrate.quad(lambda x: current_point(a_t, x, I_star, exponent, c, scale), I_int_min, I)[0] for a_t in t]"
   ]
  },
  {
   "cell_type": "markdown",
   "id": "3f04c67b",
   "metadata": {},
   "source": [
    "## A little test"
   ]
  },
  {
   "cell_type": "code",
   "execution_count": 4,
   "id": "583046fa",
   "metadata": {},
   "outputs": [],
   "source": [
    "I_min = 0.0\n",
    "I_max = 5.0\n",
    "I_0 = 4.7\n",
    "I_star = 21.5\n",
    "kappa = 0.33\n",
    "exponent = 1 / (2*kappa)\n",
    "\n",
    "c = 1/scipy.integrate.quad(lambda x: D(x, I_star, exponent), I_min, I_max)[0]"
   ]
  },
  {
   "cell_type": "code",
   "execution_count": 7,
   "id": "17d98dfc",
   "metadata": {},
   "outputs": [
    {
     "name": "stdout",
     "output_type": "stream",
     "text": [
      "peak time: 0.012644096863218062\n",
      "peak current: 16.273924818627584\n"
     ]
    }
   ],
   "source": [
    "print(\"peak time:\", current_peak_time(I_0, I_max, I_star, exponent, c))\n",
    "print(\"peak current:\", current_peak_value(I_0, I_max, I_star, exponent, c))"
   ]
  },
  {
   "cell_type": "code",
   "execution_count": 9,
   "id": "3ef30c36",
   "metadata": {},
   "outputs": [
    {
     "name": "stderr",
     "output_type": "stream",
     "text": [
      "<ipython-input-3-abcfc1428db2>:2: RuntimeWarning: divide by zero encountered in double_scalars\n",
      "  return np.exp(-2*np.power(I_star/I, exponent))\n"
     ]
    }
   ],
   "source": [
    "dt = current_peak_time(I_0, I_max, I_star, exponent, c)/1000\n",
    "samples = 10000\n",
    "I_linspace, dI = np.linspace(I_min, I_max, samples, retstep=True)\n",
    "sigma = dI * 5\n",
    "def rho_0(I):\n",
    "    return np.exp(-0.5 * (I - I_0)**2/sigma**2) / (sigma*np.sqrt(2*np.pi))\n",
    "engine = cn.cn_generic(I_min, I_max, rho_0(I_linspace), dt, lambda x: normed_D_half(x, I_star, exponent, c), normalize=False)\n",
    "times, current = engine.current(3000, 1)"
   ]
  },
  {
   "cell_type": "code",
   "execution_count": 10,
   "id": "53df45d6",
   "metadata": {},
   "outputs": [
    {
     "data": {
      "application/vnd.jupyter.widget-view+json": {
       "model_id": "c3fc36da29474733ad9112e2eb32b464",
       "version_major": 2,
       "version_minor": 0
      },
      "text/plain": [
       "Canvas(toolbar=Toolbar(toolitems=[('Home', 'Reset original view', 'home', 'home'), ('Back', 'Back to previous …"
      ]
     },
     "metadata": {},
     "output_type": "display_data"
    },
    {
     "data": {
      "text/plain": [
       "Text(0, 0.5, 'Current')"
      ]
     },
     "execution_count": 10,
     "metadata": {},
     "output_type": "execute_result"
    }
   ],
   "source": [
    "plt.figure()\n",
    "plt.plot(times, current, label=\"Numerical integration\")\n",
    "plt.plot(times, [current_point(t, I_0, I_max, I_star, exponent, c) for t in times], label=\"Analytic estimation\")\n",
    "\n",
    "plt.axvline(current_peak_time(I_0, I_max, I_star, exponent, c), color='grey', alpha=0.5)\n",
    "plt.axhline(current_peak_value(I_0, I_max, I_star, exponent, c), color='grey', alpha=0.5)\n",
    "\n",
    "plt.legend()\n",
    "plt.xlabel(\"t\")\n",
    "plt.ylabel(\"Current\")"
   ]
  },
  {
   "cell_type": "markdown",
   "id": "06a25834",
   "metadata": {},
   "source": [
    "### First fitting example on a single current peak (using both time and module)"
   ]
  },
  {
   "cell_type": "code",
   "execution_count": 11,
   "id": "ec7f0e23",
   "metadata": {},
   "outputs": [],
   "source": [
    "def f(x, peak_time, peak_value, I_0, I_max, I_min=0):\n",
    "    #print(x)\n",
    "    c = 1/scipy.integrate.quad(lambda x: D(x, I_star, exponent), I_min, I_max)[0]\n",
    "    t = current_peak_time(I_0, I_max, x[0], x[1], c)\n",
    "    v = current_peak_value(I_0, I_max, x[0], x[1], c)\n",
    "    e1 = np.absolute(peak_time - t)/peak_time\n",
    "    e2 = np.absolute(peak_value - v)/peak_value\n",
    "    #print(np.sqrt(e1**2 + e2**2))\n",
    "    return np.sqrt(e1**2 + e2**2)"
   ]
  },
  {
   "cell_type": "code",
   "execution_count": 12,
   "id": "559961f0",
   "metadata": {},
   "outputs": [],
   "source": [
    "#I_min = 0.0\n",
    "#I_max = 5.0\n",
    "#I_0 = 4.8\n",
    "\n",
    "#I_0=6.4715 \n",
    "#I_max=6.536\n",
    "\n",
    "#I_0=2.15 \n",
    "#I_max=2.408\n",
    "\n",
    "#I_0=7.052000000000001 \n",
    "#I_max=7.181000000000002\n",
    "\n",
    "#I_star = 21.5\n",
    "#kappa = 0.33\n",
    "#exponent = 1 / (2*kappa)\n",
    "#c = 1/scipy.integrate.quad(lambda x: D(x, I_star, exponent), I_min, I_max)[0]"
   ]
  },
  {
   "cell_type": "code",
   "execution_count": 23,
   "id": "a063ca0d",
   "metadata": {},
   "outputs": [
    {
     "name": "stderr",
     "output_type": "stream",
     "text": [
      "<ipython-input-3-abcfc1428db2>:2: RuntimeWarning: divide by zero encountered in double_scalars\n",
      "  return np.exp(-2*np.power(I_star/I, exponent))\n"
     ]
    }
   ],
   "source": [
    "dt = current_peak_time(I_0, I_max, I_star, exponent, c)/1000\n",
    "samples = 50000\n",
    "\n",
    "I_linspace, dI = np.linspace(I_min, I_max, samples, retstep=True)\n",
    "sigma = dI * 50\n",
    "\n",
    "def rho_0(I):\n",
    "    return np.exp(-0.5 * (I - I_0)**2/sigma**2) / (sigma*np.sqrt(2*np.pi))\n",
    "\n",
    "engine = cn.cn_generic(I_min, I_max, rho_0(I_linspace), dt, lambda x: normed_D_half(x, I_star, exponent, c), normalize=False)\n",
    "times, current = engine.current(3000, 1)\n",
    "\n",
    "#plt.figure()\n",
    "#plt.plot(times, current)\n",
    "#plt.axvline(current_peak_time(I_0, I_max, I_star, exponent, c))\n",
    "#plt.axhline(current_peak_value(I_0, I_max, I_star, exponent, c))\n",
    "\n",
    "result = scipy.optimize.minimize(f, (I_star, exponent), args=(times[np.argmax(current)], np.max(current), I_0, I_max, I_min))"
   ]
  },
  {
   "cell_type": "code",
   "execution_count": 24,
   "id": "30227e6f",
   "metadata": {},
   "outputs": [
    {
     "data": {
      "application/vnd.jupyter.widget-view+json": {
       "model_id": "86500457e86a40d1a9f48c89db4e24b6",
       "version_major": 2,
       "version_minor": 0
      },
      "text/plain": [
       "Canvas(toolbar=Toolbar(toolitems=[('Home', 'Reset original view', 'home', 'home'), ('Back', 'Back to previous …"
      ]
     },
     "metadata": {},
     "output_type": "display_data"
    },
    {
     "name": "stdout",
     "output_type": "stream",
     "text": [
      "21.5 0.33\n",
      "15.697794121354432 0.2607418546138018\n",
      "--------\n",
      "0.012239485763595084\n",
      "0.012644096863218062\n",
      "0.012238649266515246\n",
      "--------\n",
      "17.486265687390503\n",
      "16.273924818627584\n",
      "17.484882636134103\n",
      "--------\n"
     ]
    },
    {
     "data": {
      "text/plain": [
       "      fun: 0.00010453092576911125\n",
       " hess_inv: array([[ 3.56636904, -0.36948029],\n",
       "       [-0.36948029,  0.03827873]])\n",
       "      jac: array([0.22819643, 2.2049504 ])\n",
       "  message: 'Desired error not necessarily achieved due to precision loss.'\n",
       "     nfev: 603\n",
       "      nit: 118\n",
       "     njev: 197\n",
       "   status: 2\n",
       "  success: False\n",
       "        x: array([15.69779412,  1.91760544])"
      ]
     },
     "execution_count": 24,
     "metadata": {},
     "output_type": "execute_result"
    }
   ],
   "source": [
    "plt.figure()\n",
    "plt.plot(times, current)\n",
    "plt.axvline(times[np.argmax(current)])\n",
    "plt.axhline(np.max(current))\n",
    "plt.axvline(current_peak_time(I_0, I_max, result.x[0], result.x[1], c), color=\"green\")\n",
    "plt.axhline(current_peak_value(I_0, I_max, result.x[0], result.x[1], c), color=\"green\")\n",
    "\n",
    "plt.plot(times, [current_point(t, I_0, I_max, I_star, exponent, c) for t in times], label=\"Analytic estimation\")\n",
    "plt.plot(times, [current_point(t, I_0, I_max, result.x[0], result.x[1], c) for t in times], label=\"Analytic estimation\")\n",
    "\n",
    "plt.axvline(current_peak_time(I_0, I_max, I_star, exponent, c), color='grey', alpha=0.5)\n",
    "plt.axhline(current_peak_value(I_0, I_max, I_star, exponent, c), color='grey', alpha=0.5)\n",
    "\n",
    "print(I_star, 1/exponent/2)\n",
    "print(result.x[0], 1/result.x[1]/2)\n",
    "print(\"--------\")\n",
    "print(times[np.argmax(current)])\n",
    "print(current_peak_time(I_0, I_max, I_star, exponent, c))\n",
    "print(current_peak_time(I_0, I_max, result.x[0], result.x[1], c))\n",
    "print(\"--------\")\n",
    "print(np.max(current))\n",
    "print(current_peak_value(I_0, I_max, I_star, exponent, c))\n",
    "print(current_peak_value(I_0, I_max, result.x[0], result.x[1], c))\n",
    "print(\"--------\")\n",
    "\n",
    "result"
   ]
  },
  {
   "cell_type": "code",
   "execution_count": 27,
   "id": "3b15840f",
   "metadata": {},
   "outputs": [
    {
     "data": {
      "application/vnd.jupyter.widget-view+json": {
       "model_id": "9926ffe3d4234900a2b76a1ef1a82658",
       "version_major": 2,
       "version_minor": 0
      },
      "text/plain": [
       "Canvas(toolbar=Toolbar(toolitems=[('Home', 'Reset original view', 'home', 'home'), ('Back', 'Back to previous …"
      ]
     },
     "metadata": {},
     "output_type": "display_data"
    },
    {
     "data": {
      "text/plain": [
       "[<matplotlib.lines.Line2D at 0x7fb084987160>]"
      ]
     },
     "execution_count": 27,
     "metadata": {},
     "output_type": "execute_result"
    }
   ],
   "source": [
    "plt.figure()\n",
    "data = engine.get_data_with_x()\n",
    "plt.plot(data[0], data[1])\n",
    "engine.reset()\n",
    "data = engine.get_data_with_x()\n",
    "plt.plot(data[0], data[1])\n",
    "engine.iterate(1)\n",
    "data = engine.get_data_with_x()\n",
    "plt.plot(data[0], data[1])\n"
   ]
  },
  {
   "cell_type": "markdown",
   "id": "75e26a1b",
   "metadata": {},
   "source": [
    "### An isolated test..."
   ]
  },
  {
   "cell_type": "code",
   "execution_count": 202,
   "id": "0c8eeeaa",
   "metadata": {},
   "outputs": [],
   "source": [
    "I_min = 0.0\n",
    "I_star = 21.5\n",
    "kappa = 0.33\n",
    "exponent = 1 / (2*kappa)\n",
    "\n",
    "I_max = 0.482 * I_star\n",
    "I_0 = 0.475 * I_star\n",
    "\n",
    "c = 1/scipy.integrate.quad(lambda x: D(x, I_star, exponent), I_min, I_max)[0]"
   ]
  },
  {
   "cell_type": "code",
   "execution_count": 203,
   "id": "012355e1",
   "metadata": {},
   "outputs": [
    {
     "name": "stderr",
     "output_type": "stream",
     "text": [
      "<ipython-input-3-abcfc1428db2>:2: RuntimeWarning: divide by zero encountered in double_scalars\n",
      "  return np.exp(-2*np.power(I_star/I, exponent))\n"
     ]
    }
   ],
   "source": [
    "dt = current_peak_time(I_0, I_max, I_star, exponent, c)/1000\n",
    "samples = 10000\n",
    "\n",
    "I_linspace, dI = np.linspace(I_min, I_max, samples, retstep=True)\n",
    "sigma = dI * 5\n",
    "\n",
    "def rho_0(I):\n",
    "    return np.exp(-0.5 * (I - I_0)**2/sigma**2) / (sigma*np.sqrt(2*np.pi))\n",
    "\n",
    "engine = cn.cn_generic(I_min, I_max, rho_0(I_linspace), dt, lambda x: normed_D_half(x, I_star, exponent, c), normalize=False)\n",
    "times, current = engine.current(3000, 1)\n",
    "\n",
    "#plt.figure()\n",
    "#plt.plot(times, current)\n",
    "#plt.axvline(current_peak_time(I_0, I_max, I_star, exponent, c))\n",
    "#plt.axhline(current_peak_value(I_0, I_max, I_star, exponent, c))\n",
    "\n",
    "result = scipy.optimize.minimize(f, (I_star, exponent), args=(times[np.argmax(current)], np.max(current), I_0, I_max, I_min))"
   ]
  },
  {
   "cell_type": "code",
   "execution_count": 204,
   "id": "69836e65",
   "metadata": {},
   "outputs": [
    {
     "data": {
      "application/vnd.jupyter.widget-view+json": {
       "model_id": "aed4246533814c82b7fb029dffce3e87",
       "version_major": 2,
       "version_minor": 0
      },
      "text/plain": [
       "Canvas(toolbar=Toolbar(toolitems=[('Home', 'Reset original view', 'home', 'home'), ('Back', 'Back to previous …"
      ]
     },
     "metadata": {},
     "output_type": "display_data"
    },
    {
     "data": {
      "text/plain": [
       "[<matplotlib.lines.Line2D at 0x7fb06aa8adc0>]"
      ]
     },
     "execution_count": 204,
     "metadata": {},
     "output_type": "execute_result"
    }
   ],
   "source": [
    "plt.figure()\n",
    "engine.reset()\n",
    "\n",
    "engine.iterate(1)\n",
    "data = engine.get_data_with_x()\n",
    "plt.plot(data[0], data[1])\n",
    "\n",
    "engine.iterate(10)\n",
    "data = engine.get_data_with_x()\n",
    "plt.plot(data[0], data[1])"
   ]
  },
  {
   "cell_type": "code",
   "execution_count": 205,
   "id": "e4036b08",
   "metadata": {},
   "outputs": [
    {
     "data": {
      "application/vnd.jupyter.widget-view+json": {
       "model_id": "bee9ecfc4955443bae7e1cfe055968b5",
       "version_major": 2,
       "version_minor": 0
      },
      "text/plain": [
       "Canvas(toolbar=Toolbar(toolitems=[('Home', 'Reset original view', 'home', 'home'), ('Back', 'Back to previous …"
      ]
     },
     "metadata": {},
     "output_type": "display_data"
    },
    {
     "name": "stdout",
     "output_type": "stream",
     "text": [
      "21.5 0.33\n",
      "23.612076987507486 0.37145978504811555\n",
      "--------\n",
      "0.007410199662525609\n",
      "0.0073441027378846465\n",
      "0.007410195837159751\n",
      "--------\n",
      "21.429263425643807\n",
      "21.698806901424398\n",
      "21.42926908955862\n",
      "--------\n"
     ]
    },
    {
     "data": {
      "text/plain": [
       "      fun: 5.799583182459593e-07\n",
       " hess_inv: array([[ 1.58954715, -0.10974354],\n",
       "       [-0.10974354,  0.00757679]])\n",
       "      jac: array([-0.46848647, -6.74987572])\n",
       "  message: 'Desired error not necessarily achieved due to precision loss.'\n",
       "     nfev: 429\n",
       "      nit: 68\n",
       "     njev: 139\n",
       "   status: 2\n",
       "  success: False\n",
       "        x: array([23.61207699,  1.34604073])"
      ]
     },
     "execution_count": 205,
     "metadata": {},
     "output_type": "execute_result"
    }
   ],
   "source": [
    "plt.figure()\n",
    "plt.plot(times, current)\n",
    "plt.axvline(times[np.argmax(current)])\n",
    "plt.axhline(np.max(current))\n",
    "plt.axvline(current_peak_time(I_0, I_max, result.x[0], result.x[1], c), color=\"green\")\n",
    "plt.axhline(current_peak_value(I_0, I_max, result.x[0], result.x[1], c), color=\"green\")\n",
    "\n",
    "plt.plot(times, [current_point(t, I_0, I_max, I_star, exponent, c) for t in times], label=\"Analytic estimation\")\n",
    "plt.plot(times, [current_point(t, I_0, I_max, result.x[0], result.x[1], c) for t in times], label=\"Analytic estimation\")\n",
    "\n",
    "plt.axvline(current_peak_time(I_0, I_max, I_star, exponent, c), color='grey', alpha=0.5)\n",
    "plt.axhline(current_peak_value(I_0, I_max, I_star, exponent, c), color='grey', alpha=0.5)\n",
    "\n",
    "print(I_star, 1/exponent/2)\n",
    "print(result.x[0], 1/result.x[1]/2)\n",
    "print(\"--------\")\n",
    "print(times[np.argmax(current)])\n",
    "print(current_peak_time(I_0, I_max, I_star, exponent, c))\n",
    "print(current_peak_time(I_0, I_max, result.x[0], result.x[1], c))\n",
    "print(\"--------\")\n",
    "print(np.max(current))\n",
    "print(current_peak_value(I_0, I_max, I_star, exponent, c))\n",
    "print(current_peak_value(I_0, I_max, result.x[0], result.x[1], c))\n",
    "print(\"--------\")\n",
    "\n",
    "result"
   ]
  },
  {
   "cell_type": "code",
   "execution_count": null,
   "id": "899d961e",
   "metadata": {},
   "outputs": [],
   "source": []
  },
  {
   "cell_type": "code",
   "execution_count": null,
   "id": "8fa59881",
   "metadata": {},
   "outputs": [],
   "source": []
  },
  {
   "cell_type": "markdown",
   "id": "4632c0c7",
   "metadata": {},
   "source": [
    "## Let's try to go with the big guns"
   ]
  },
  {
   "cell_type": "code",
   "execution_count": 206,
   "id": "1ac1cf15",
   "metadata": {},
   "outputs": [],
   "source": [
    "I_min = 0.0\n",
    "I_star = 21.5\n",
    "kappa = 0.33\n",
    "exponent = 1 / (2*kappa)\n",
    "cn_samples = 50000"
   ]
  },
  {
   "cell_type": "code",
   "execution_count": 207,
   "id": "8222bc92",
   "metadata": {},
   "outputs": [],
   "source": [
    "def f(x, peak_time, peak_value, I_0, I_max, I_min=0):\n",
    "    #print(x)\n",
    "    c = 1/scipy.integrate.quad(lambda x: D(x, I_star, exponent), I_min, I_max)[0]\n",
    "    t = current_peak_time(I_0, I_max, x[0], x[1], c)\n",
    "    v = current_peak_value(I_0, I_max, x[0], x[1], c)\n",
    "    e1 = np.absolute(peak_time - t)/peak_time\n",
    "    e2 = np.absolute(peak_value - v)/peak_value\n",
    "    #print(np.sqrt(e1**2 + e2**2))\n",
    "    return np.sqrt(e1**2 + e2**2)\n",
    "\n",
    "def compute_fittings(nI_0, nI_max, index=np.nan, max_index=np.nan):\n",
    "    I_max = nI_max * I_star\n",
    "    I_0 = nI_0 * I_star\n",
    "\n",
    "    c = 1/scipy.integrate.quad(lambda x: D(x, I_star, exponent), I_min, I_max)[0]\n",
    "    \n",
    "    I_linspace, dI = np.linspace(I_min, I_max, cn_samples, retstep=True)\n",
    "    sigma = dI * 5\n",
    "    def rho_0(I):\n",
    "        return np.exp(-0.5 * (I - I_0)**2/sigma**2) / (sigma*np.sqrt(2*np.pi))\n",
    "    dt = current_peak_time(I_0, I_max, I_star, exponent, c)/1000\n",
    "    engine = cn.cn_generic(I_min, I_max, rho_0(I_linspace), dt, lambda x: normed_D_half(x, I_star, exponent, c), normalize=False)\n",
    "    times, current = engine.current(2000, 1)\n",
    "\n",
    "    num_current_peak = np.max(current)\n",
    "    num_current_time = times[np.argmax(current)]\n",
    "\n",
    "    ana_current_peak = current_peak_value(I_0, I_max, I_star, exponent, c)\n",
    "    ana_current_time = current_peak_time(I_0, I_max, I_star, exponent, c)\n",
    "    result = scipy.optimize.minimize(f, (I_star, exponent), args=(num_current_time, num_current_peak, I_0, I_max, I_min))\n",
    "    fitted_I_star = result.x[0]\n",
    "    fitted_kappa = 1/result.x[1]/2\n",
    "    print(\"Done\", (nI_0, nI_max), index, \"/\", max_index)\n",
    "    return num_current_peak, num_current_time, ana_current_peak, ana_current_time, fitted_I_star, fitted_kappa, times, current"
   ]
  },
  {
   "cell_type": "code",
   "execution_count": 208,
   "id": "aa609fec",
   "metadata": {},
   "outputs": [],
   "source": [
    "min_nI = 0.1\n",
    "max_nI = 0.5\n",
    "nI_samples = 121\n",
    "nI_samples_list, d_nI = np.linspace(min_nI, max_nI, nI_samples, retstep=True)"
   ]
  },
  {
   "cell_type": "code",
   "execution_count": 210,
   "id": "739188c8",
   "metadata": {},
   "outputs": [],
   "source": [
    "index_list = list(itertools.combinations(range(nI_samples), 2))\n",
    "index_list = list(filter(lambda i: np.absolute(i[0]-i[1]) <= 30, index_list))\n",
    "enumerated_index_list = [[i, k] for i, k in enumerate(index_list)]"
   ]
  },
  {
   "cell_type": "code",
   "execution_count": 211,
   "id": "c02d0357",
   "metadata": {},
   "outputs": [],
   "source": [
    "data = Parallel(n_jobs=4)(delayed(compute_fittings)(nI_samples_list[i[1][0]], nI_samples_list[i[1][1]], i[0], len(enumerated_index_list)-1) for i in enumerated_index_list)"
   ]
  },
  {
   "cell_type": "code",
   "execution_count": 212,
   "id": "445b6fb2",
   "metadata": {},
   "outputs": [],
   "source": [
    "num_current_peak = np.empty((nI_samples, nI_samples)) * np.nan\n",
    "num_current_time = np.empty((nI_samples, nI_samples)) * np.nan\n",
    "\n",
    "ana_current_peak = np.empty((nI_samples, nI_samples)) * np.nan\n",
    "ana_current_time = np.empty((nI_samples, nI_samples)) * np.nan\n",
    "\n",
    "fitted_I_star = np.empty((nI_samples, nI_samples)) * np.nan\n",
    "fitted_kappa = np.empty((nI_samples, nI_samples)) * np.nan\n",
    "\n",
    "times_matrix = [[None for i in range(nI_samples)] for j in range(nI_samples)]\n",
    "current_matrix = [[None for i in range(nI_samples)] for j in range(nI_samples)]\n",
    "\n",
    "for i, j in enumerate(index_list):\n",
    "    num_current_peak[j[1], j[0]], num_current_time[j[1], j[0]], ana_current_peak[j[1], j[0]], ana_current_time[j[1], j[0]], fitted_I_star[j[1], j[0]], fitted_kappa[j[1], j[0]], times_matrix[j[1]][j[0]], current_matrix[j[1]][j[0]] = data[i]"
   ]
  },
  {
   "cell_type": "code",
   "execution_count": 213,
   "id": "a0ceeb1e",
   "metadata": {},
   "outputs": [
    {
     "data": {
      "text/plain": [
       "array([[       nan,        nan,        nan, ...,        nan,        nan,\n",
       "               nan],\n",
       "       [0.22505722,        nan,        nan, ...,        nan,        nan,\n",
       "               nan],\n",
       "       [0.2413114 , 0.22592434,        nan, ...,        nan,        nan,\n",
       "               nan],\n",
       "       ...,\n",
       "       [       nan,        nan,        nan, ...,        nan,        nan,\n",
       "               nan],\n",
       "       [       nan,        nan,        nan, ..., 0.34727864,        nan,\n",
       "               nan],\n",
       "       [       nan,        nan,        nan, ..., 0.33689578, 0.34861741,\n",
       "               nan]])"
      ]
     },
     "execution_count": 213,
     "metadata": {},
     "output_type": "execute_result"
    }
   ],
   "source": [
    "fitted_kappa"
   ]
  },
  {
   "cell_type": "code",
   "execution_count": 214,
   "id": "b9542c6b",
   "metadata": {},
   "outputs": [
    {
     "data": {
      "application/vnd.jupyter.widget-view+json": {
       "model_id": "4021a64b7e5a42c3944ff92d96e27b2d",
       "version_major": 2,
       "version_minor": 0
      },
      "text/plain": [
       "Canvas(toolbar=Toolbar(toolitems=[('Home', 'Reset original view', 'home', 'home'), ('Back', 'Back to previous …"
      ]
     },
     "metadata": {},
     "output_type": "display_data"
    }
   ],
   "source": [
    "plt.figure()\n",
    "plt.imshow(np.transpose(fitted_I_star), origin=\"lower\", extent=[min_nI, max_nI, min_nI, max_nI])\n",
    "plt.colorbar(label=\"fitted $I_*$\")\n",
    "plt.xlabel(\"$I_a$\")\n",
    "plt.ylabel(\"$I_0$\")\n",
    "plt.tight_layout()\n",
    "plt.savefig(\"fig/fitted_I_star.png\", dpi=600)"
   ]
  },
  {
   "cell_type": "code",
   "execution_count": 215,
   "id": "807895d3",
   "metadata": {},
   "outputs": [
    {
     "data": {
      "application/vnd.jupyter.widget-view+json": {
       "model_id": "d8c500d5874b41df81768b9d7c2ecf34",
       "version_major": 2,
       "version_minor": 0
      },
      "text/plain": [
       "Canvas(toolbar=Toolbar(toolitems=[('Home', 'Reset original view', 'home', 'home'), ('Back', 'Back to previous …"
      ]
     },
     "metadata": {},
     "output_type": "display_data"
    }
   ],
   "source": [
    "plt.figure()\n",
    "plt.imshow(np.transpose(np.absolute(fitted_I_star-I_star)/I_star), origin=\"lower\", extent=[min_nI, max_nI, min_nI, max_nI], vmax=1.0)\n",
    "plt.colorbar(label=\"$I_*$ fitting relative error (capped at 1.0)\")\n",
    "plt.xlabel(\"$I_a$\")\n",
    "plt.ylabel(\"$I_0$\")\n",
    "\n",
    "plt.tight_layout()\n",
    "plt.savefig(\"fig/fitted_I_star_err.png\", dpi=600)"
   ]
  },
  {
   "cell_type": "code",
   "execution_count": 216,
   "id": "2ac71464",
   "metadata": {},
   "outputs": [
    {
     "data": {
      "application/vnd.jupyter.widget-view+json": {
       "model_id": "201720ff54664958837ff86d7ce5f405",
       "version_major": 2,
       "version_minor": 0
      },
      "text/plain": [
       "Canvas(toolbar=Toolbar(toolitems=[('Home', 'Reset original view', 'home', 'home'), ('Back', 'Back to previous …"
      ]
     },
     "metadata": {},
     "output_type": "display_data"
    }
   ],
   "source": [
    "plt.figure()\n",
    "plt.imshow(np.transpose(fitted_kappa), origin=\"lower\", extent=[min_nI, max_nI, min_nI, max_nI])\n",
    "plt.colorbar(label=\"fitted $\\kappa$\")\n",
    "plt.xlabel(\"$I_a$\")\n",
    "plt.ylabel(\"$I_0$\")\n",
    "\n",
    "plt.tight_layout()\n",
    "plt.savefig(\"fig/fitted_kappa.png\", dpi=600)"
   ]
  },
  {
   "cell_type": "code",
   "execution_count": 217,
   "id": "2aad9e63",
   "metadata": {},
   "outputs": [
    {
     "data": {
      "application/vnd.jupyter.widget-view+json": {
       "model_id": "0aaa5b6a3b42481c8d5c78c922dd7cba",
       "version_major": 2,
       "version_minor": 0
      },
      "text/plain": [
       "Canvas(toolbar=Toolbar(toolitems=[('Home', 'Reset original view', 'home', 'home'), ('Back', 'Back to previous …"
      ]
     },
     "metadata": {},
     "output_type": "display_data"
    }
   ],
   "source": [
    "plt.figure()\n",
    "plt.imshow(np.transpose(np.absolute(fitted_kappa-kappa)/kappa), origin=\"lower\", extent=[min_nI, max_nI, min_nI, max_nI], vmax=1.0)\n",
    "plt.colorbar(label=\"$\\kappa$ fitting relative error (capped at 1.0)\")\n",
    "plt.xlabel(\"$I_a$\")\n",
    "plt.ylabel(\"$I_0$\")\n",
    "\n",
    "plt.tight_layout()\n",
    "plt.savefig(\"fig/fitted_kappa_err.png\", dpi=600)"
   ]
  },
  {
   "cell_type": "code",
   "execution_count": 218,
   "id": "042415b8",
   "metadata": {},
   "outputs": [
    {
     "data": {
      "application/vnd.jupyter.widget-view+json": {
       "model_id": "d8a97f5fe8c74a5b999992997bbcd85b",
       "version_major": 2,
       "version_minor": 0
      },
      "text/plain": [
       "Canvas(toolbar=Toolbar(toolitems=[('Home', 'Reset original view', 'home', 'home'), ('Back', 'Back to previous …"
      ]
     },
     "metadata": {},
     "output_type": "display_data"
    }
   ],
   "source": [
    "plt.figure()\n",
    "plt.contourf(np.transpose(np.log(num_current_peak)), origin=\"lower\", extent=[min_nI, max_nI, min_nI, max_nI])\n",
    "#plt.imshow(np.absolute(num_current_peak-ana_current_peak)/num_current_peak)\n",
    "plt.colorbar(label=\"Current maximum measured\")\n",
    "plt.xlabel(\"$I_a$\")\n",
    "plt.ylabel(\"$I_0$\")\n",
    "\n",
    "plt.tight_layout()\n",
    "plt.savefig(\"fig/current.png\", dpi=600)"
   ]
  },
  {
   "cell_type": "code",
   "execution_count": 219,
   "id": "d54609e1",
   "metadata": {},
   "outputs": [
    {
     "data": {
      "application/vnd.jupyter.widget-view+json": {
       "model_id": "ade9eae273474f71bb400d2c09822b86",
       "version_major": 2,
       "version_minor": 0
      },
      "text/plain": [
       "Canvas(toolbar=Toolbar(toolitems=[('Home', 'Reset original view', 'home', 'home'), ('Back', 'Back to previous …"
      ]
     },
     "metadata": {},
     "output_type": "display_data"
    }
   ],
   "source": [
    "plt.figure()\n",
    "#plt.contourf(np.absolute(num_current_peak-ana_current_peak)/num_current_peak, origin=\"lower\", extent=[min_nI, max_nI, min_nI, max_nI])\n",
    "plt.imshow(np.transpose(np.absolute(num_current_peak-ana_current_peak)/num_current_peak), origin=\"lower\", extent=[min_nI, max_nI, min_nI, max_nI])\n",
    "plt.colorbar(label=\"current peak relative error\")\n",
    "plt.xlabel(\"$I_a$\")\n",
    "plt.ylabel(\"$I_0$\")\n",
    "\n",
    "plt.tight_layout()\n",
    "plt.savefig(\"fig/current_peak_err.png\", dpi=600)"
   ]
  },
  {
   "cell_type": "code",
   "execution_count": 220,
   "id": "5bea9f04",
   "metadata": {},
   "outputs": [
    {
     "data": {
      "application/vnd.jupyter.widget-view+json": {
       "model_id": "30257bcf52694aac855844e062c718b3",
       "version_major": 2,
       "version_minor": 0
      },
      "text/plain": [
       "Canvas(toolbar=Toolbar(toolitems=[('Home', 'Reset original view', 'home', 'home'), ('Back', 'Back to previous …"
      ]
     },
     "metadata": {},
     "output_type": "display_data"
    }
   ],
   "source": [
    "plt.figure()\n",
    "plt.contourf(np.transpose(np.log(num_current_time)), origin=\"lower\", extent=[min_nI, max_nI, min_nI, max_nI])\n",
    "#plt.imshow(np.absolute(num_current_peak-ana_current_peak)/num_current_peak)\n",
    "plt.colorbar(label=\"current time max error\")\n",
    "plt.xlabel(\"$I_a$\")\n",
    "plt.ylabel(\"$I_0$\")\n",
    "\n",
    "plt.tight_layout()\n",
    "plt.savefig(\"fig/current_time.png\", dpi=600)"
   ]
  },
  {
   "cell_type": "code",
   "execution_count": 221,
   "id": "11905193",
   "metadata": {},
   "outputs": [
    {
     "data": {
      "application/vnd.jupyter.widget-view+json": {
       "model_id": "d0bc34ede0434853b1a772a0d559291b",
       "version_major": 2,
       "version_minor": 0
      },
      "text/plain": [
       "Canvas(toolbar=Toolbar(toolitems=[('Home', 'Reset original view', 'home', 'home'), ('Back', 'Back to previous …"
      ]
     },
     "metadata": {},
     "output_type": "display_data"
    }
   ],
   "source": [
    "plt.figure()\n",
    "#plt.contourf(np.absolute(num_current_time-ana_current_time)/num_current_time, origin=\"lower\", extent=[min_nI, max_nI, min_nI, max_nI])\n",
    "plt.imshow(np.transpose(np.absolute(num_current_time-ana_current_time)/num_current_time), origin=\"lower\", extent=[min_nI, max_nI, min_nI, max_nI], vmax=1.0)\n",
    "plt.colorbar(label=\"current time max relative error (capped at 1.0)\")\n",
    "plt.xlabel(\"$I_a$\")\n",
    "plt.ylabel(\"$I_0$\")\n",
    "\n",
    "plt.tight_layout()\n",
    "plt.savefig(\"fig/current_time_err.png\", dpi=600)"
   ]
  },
  {
   "cell_type": "code",
   "execution_count": 222,
   "id": "b7f477ac",
   "metadata": {},
   "outputs": [
    {
     "data": {
      "application/vnd.jupyter.widget-view+json": {
       "model_id": "565db1ef10944c03a0099509457561ad",
       "version_major": 2,
       "version_minor": 0
      },
      "text/plain": [
       "Canvas(toolbar=Toolbar(toolitems=[('Home', 'Reset original view', 'home', 'home'), ('Back', 'Back to previous …"
      ]
     },
     "metadata": {},
     "output_type": "display_data"
    }
   ],
   "source": [
    "plt.figure()\n",
    "\n",
    "plt.imshow(np.transpose(np.sqrt((np.absolute(num_current_peak-ana_current_peak)/num_current_peak)**2 + (np.absolute(num_current_time-ana_current_time)/num_current_time)**2)), origin=\"lower\", extent=[min_nI, max_nI, min_nI, max_nI], vmax=1.0)\n",
    "plt.colorbar(label=\"fitting peak relative error (capped at 1.0)\")\n",
    "plt.xlabel(\"$I_a$\")\n",
    "plt.ylabel(\"$I_0$\")\n",
    "\n",
    "plt.tight_layout()\n",
    "plt.savefig(\"fig/current_standard_err.png\", dpi=600)"
   ]
  },
  {
   "cell_type": "code",
   "execution_count": null,
   "id": "465783da",
   "metadata": {},
   "outputs": [],
   "source": []
  },
  {
   "cell_type": "code",
   "execution_count": 223,
   "id": "39a9b3b3",
   "metadata": {},
   "outputs": [],
   "source": [
    "purified_error = np.sqrt((np.absolute(num_current_peak-ana_current_peak)/num_current_peak)**2 + (np.absolute(num_current_time-ana_current_time)/num_current_time)**2)\n",
    "purified_error = purified_error.flatten()\n",
    "purified_error = purified_error[np.logical_not(np.isnan(purified_error))]"
   ]
  },
  {
   "cell_type": "code",
   "execution_count": 224,
   "id": "150b6289",
   "metadata": {},
   "outputs": [],
   "source": [
    "purified_k_error = np.absolute(fitted_kappa-kappa)/kappa\n",
    "purified_k_error = purified_k_error.flatten()\n",
    "purified_k_error = purified_k_error[np.logical_not(np.isnan(purified_k_error))]\n",
    "\n",
    "purified_I_error = np.absolute(fitted_I_star-I_star)/I_star\n",
    "purified_I_error = purified_I_error.flatten()\n",
    "purified_I_error = purified_I_error[np.logical_not(np.isnan(purified_I_error))]"
   ]
  },
  {
   "cell_type": "code",
   "execution_count": 225,
   "id": "8461d4df",
   "metadata": {},
   "outputs": [
    {
     "data": {
      "application/vnd.jupyter.widget-view+json": {
       "model_id": "42d25e43ce8e4e968c598c33c612423e",
       "version_major": 2,
       "version_minor": 0
      },
      "text/plain": [
       "Canvas(toolbar=Toolbar(toolitems=[('Home', 'Reset original view', 'home', 'home'), ('Back', 'Back to previous …"
      ]
     },
     "metadata": {},
     "output_type": "display_data"
    },
    {
     "data": {
      "text/plain": [
       "<matplotlib.collections.PathCollection at 0x7fb06a201ee0>"
      ]
     },
     "execution_count": 225,
     "metadata": {},
     "output_type": "execute_result"
    }
   ],
   "source": [
    "plt.figure()\n",
    "plt.scatter(purified_error, purified_k_error)\n",
    "plt.scatter(purified_error, purified_I_error)"
   ]
  },
  {
   "cell_type": "code",
   "execution_count": 226,
   "id": "0c20feab",
   "metadata": {},
   "outputs": [
    {
     "data": {
      "application/vnd.jupyter.widget-view+json": {
       "model_id": "0c9ba76689e348b4b26f8c36eefffb5e",
       "version_major": 2,
       "version_minor": 0
      },
      "text/plain": [
       "Canvas(toolbar=Toolbar(toolitems=[('Home', 'Reset original view', 'home', 'home'), ('Back', 'Back to previous …"
      ]
     },
     "metadata": {},
     "output_type": "display_data"
    },
    {
     "data": {
      "text/plain": [
       "<matplotlib.collections.PathCollection at 0x7fb06b32b700>"
      ]
     },
     "execution_count": 226,
     "metadata": {},
     "output_type": "execute_result"
    }
   ],
   "source": [
    "plt.figure()\n",
    "plt.scatter(purified_k_error, purified_I_error)"
   ]
  },
  {
   "cell_type": "code",
   "execution_count": null,
   "id": "88969526",
   "metadata": {},
   "outputs": [],
   "source": []
  }
 ],
 "metadata": {
  "kernelspec": {
   "display_name": "Python 3",
   "language": "python",
   "name": "python3"
  },
  "language_info": {
   "codemirror_mode": {
    "name": "ipython",
    "version": 3
   },
   "file_extension": ".py",
   "mimetype": "text/x-python",
   "name": "python",
   "nbconvert_exporter": "python",
   "pygments_lexer": "ipython3",
   "version": "3.8.8"
  }
 },
 "nbformat": 4,
 "nbformat_minor": 5
}
