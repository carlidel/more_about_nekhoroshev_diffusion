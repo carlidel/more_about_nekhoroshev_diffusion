{
 "cells": [
  {
   "cell_type": "markdown",
   "id": "58012766",
   "metadata": {},
   "source": [
    "# A direct quantification of the linearization error"
   ]
  },
  {
   "cell_type": "code",
   "execution_count": 1,
   "id": "260e05f3",
   "metadata": {},
   "outputs": [],
   "source": [
    "%matplotlib widget"
   ]
  },
  {
   "cell_type": "code",
   "execution_count": 72,
   "id": "324adb9f",
   "metadata": {},
   "outputs": [],
   "source": [
    "import numpy as np\n",
    "import matplotlib.pyplot as plt\n",
    "import scipy\n",
    "import scipy.integrate\n",
    "from tqdm.notebook import tqdm\n",
    "import crank_nicolson_numba.generic as cn\n",
    "import itertools\n",
    "# For parallelization\n",
    "from joblib import Parallel, delayed"
   ]
  },
  {
   "cell_type": "markdown",
   "id": "fd07c7c5",
   "metadata": {},
   "source": [
    "### Setting up the various elements for the Nekhoroshev-like diffusion"
   ]
  },
  {
   "cell_type": "code",
   "execution_count": 73,
   "id": "5d47d1fe",
   "metadata": {},
   "outputs": [],
   "source": [
    "def D(I, I_star, exponent):\n",
    "    return np.exp(-2*np.power(I_star/I, exponent))\n",
    "\n",
    "def normed_D(I, I_star, exponent, c):\n",
    "    return c * D(I, I_star, exponent)\n",
    "\n",
    "def normed_D_half(I, I_star, exponent, c):\n",
    "    return normed_D(I, I_star, exponent, c)/2\n",
    "\n",
    "def x(I, I_max, I_star, exponent, c):\n",
    "    return -scipy.integrate.quad(lambda x: 1/np.sqrt(normed_D(x, I_star, exponent, c)), I, I_max)[0]\n",
    "\n",
    "def nu(I, I_star, exponent, c, scale=1.0):\n",
    "    I = I * scale\n",
    "    return (np.sqrt(c) * exponent / I) * np.power(I_star/I, exponent) * np.exp(-np.power(I_star/I, exponent))\n",
    "\n",
    "def current_peak_time(I_0, I_max, I_star, exponent, c):\n",
    "    return 2*(np.sqrt(nu(I_0, I_star, exponent, c)**2 * x(I_0, I_max, I_star, exponent, c)**2 + 9) - 3) / nu(I_0, I_star, exponent, c)**2\n",
    "\n",
    "def current_peak_value(I_0, I_max, I_star, exponent, c):\n",
    "    return -x(I_0, I_max, I_star, exponent, c)*np.exp(-nu(I_0, I_star, exponent, c)**2*(x(I_0, I_max, I_star, exponent, c) + (np.sqrt(nu(I_0, I_star, exponent, c)**2*x(I_0, I_max, I_star, exponent, c)**2 + 9) - 3)/nu(I_0, I_star, exponent, c))**2/(4*(np.sqrt(nu(I_0, I_star, exponent, c)**2*x(I_0, I_max, I_star, exponent, c)**2 + 9) - 3)))/(4*np.sqrt(np.pi)*((np.sqrt(nu(I_0, I_star, exponent, c)**2*x(I_0, I_max, I_star, exponent, c)**2 + 9) - 3)/nu(I_0, I_star, exponent, c)**2)**(3/2))\n",
    "\n",
    "def current_point(t, I, I_max, I_star, exponent, c, scale=1.0):\n",
    "    if t == 0:\n",
    "        return 0.0\n",
    "    return -x(I, I_max, I_star, exponent, c) / (t * np.sqrt(2*np.pi*t)) * np.exp(-(x(I, I_max, I_star, exponent, c)+((nu(I, I_star, exponent, c, scale)/2)*t))**2/(2*t))\n",
    "\n",
    "def current_general(t, I, I_int_min, I_star, exponent, c, scale=1.0):\n",
    "    return [scipy.integrate.quad(lambda x: current_point(a_t, x, I_star, exponent, c, scale), I_int_min, I)[0] for a_t in t]"
   ]
  },
  {
   "cell_type": "markdown",
   "id": "2709b60d",
   "metadata": {},
   "source": [
    "## A little test"
   ]
  },
  {
   "cell_type": "code",
   "execution_count": 74,
   "id": "fc562cfd",
   "metadata": {},
   "outputs": [],
   "source": [
    "I_min = 0.0\n",
    "I_max = 5.0\n",
    "I_0 = 4.7\n",
    "I_star = 21.5\n",
    "kappa = 0.33\n",
    "exponent = 1 / (2*kappa)\n",
    "\n",
    "c = 1/scipy.integrate.quad(lambda x: D(x, I_star, exponent), I_min, I_max)[0]"
   ]
  },
  {
   "cell_type": "code",
   "execution_count": 75,
   "id": "546bd4b8",
   "metadata": {},
   "outputs": [
    {
     "name": "stdout",
     "output_type": "stream",
     "text": [
      "peak time: 0.012644096863218062\n",
      "peak current: 16.273924818627584\n"
     ]
    }
   ],
   "source": [
    "print(\"peak time:\", current_peak_time(I_0, I_max, I_star, exponent, c))\n",
    "print(\"peak current:\", current_peak_value(I_0, I_max, I_star, exponent, c))"
   ]
  },
  {
   "cell_type": "code",
   "execution_count": 76,
   "id": "ffc58321",
   "metadata": {},
   "outputs": [
    {
     "name": "stderr",
     "output_type": "stream",
     "text": [
      "<ipython-input-73-abcfc1428db2>:2: RuntimeWarning: divide by zero encountered in double_scalars\n",
      "  return np.exp(-2*np.power(I_star/I, exponent))\n"
     ]
    }
   ],
   "source": [
    "dt = current_peak_time(I_0, I_max, I_star, exponent, c)/1000\n",
    "samples = 10000\n",
    "I_linspace, dI = np.linspace(I_min, I_max, samples, retstep=True)\n",
    "sigma = dI * 5\n",
    "def rho_0(I):\n",
    "    return np.exp(-0.5 * (I - I_0)**2/sigma**2) / (sigma*np.sqrt(2*np.pi))\n",
    "engine = cn.cn_generic(I_min, I_max, rho_0(I_linspace), dt, lambda x: normed_D_half(x, I_star, exponent, c), normalize=False)\n",
    "times, current = engine.current(3000, 1)"
   ]
  },
  {
   "cell_type": "code",
   "execution_count": 77,
   "id": "21bd2ba1",
   "metadata": {},
   "outputs": [
    {
     "data": {
      "application/vnd.jupyter.widget-view+json": {
       "model_id": "5504644cc34b49b381f440ab9e069d5a",
       "version_major": 2,
       "version_minor": 0
      },
      "text/plain": [
       "Canvas(toolbar=Toolbar(toolitems=[('Home', 'Reset original view', 'home', 'home'), ('Back', 'Back to previous …"
      ]
     },
     "metadata": {},
     "output_type": "display_data"
    },
    {
     "data": {
      "text/plain": [
       "Text(0, 0.5, 'Current')"
      ]
     },
     "execution_count": 77,
     "metadata": {},
     "output_type": "execute_result"
    }
   ],
   "source": [
    "plt.figure()\n",
    "plt.plot(times, current, label=\"Numerical integration\")\n",
    "plt.plot(times, [current_point(t, I_0, I_max, I_star, exponent, c) for t in times], label=\"Analytic estimation\")\n",
    "\n",
    "plt.axvline(current_peak_time(I_0, I_max, I_star, exponent, c), color='grey', alpha=0.5)\n",
    "plt.axhline(current_peak_value(I_0, I_max, I_star, exponent, c), color='grey', alpha=0.5)\n",
    "\n",
    "plt.legend()\n",
    "plt.xlabel(\"t\")\n",
    "plt.ylabel(\"Current\")"
   ]
  },
  {
   "cell_type": "markdown",
   "id": "a2cf49d9",
   "metadata": {},
   "source": [
    "### First fitting example on a single current peak (using both time and module)"
   ]
  },
  {
   "cell_type": "code",
   "execution_count": 78,
   "id": "c3c7f4b2",
   "metadata": {},
   "outputs": [],
   "source": [
    "def f(x, peak_time, peak_value, I_0, I_max, I_min=0):\n",
    "    #print(x)\n",
    "    c = 1/scipy.integrate.quad(lambda x: D(x, I_star, exponent), I_min, I_max)[0]\n",
    "    t = current_peak_time(I_0, I_max, x[0], x[1], c)\n",
    "    v = current_peak_value(I_0, I_max, x[0], x[1], c)\n",
    "    e1 = np.absolute(peak_time - t)/peak_time\n",
    "    e2 = np.absolute(peak_value - v)/peak_value\n",
    "    #print(np.sqrt(e1**2 + e2**2))\n",
    "    return np.sqrt(e1**2 + e2**2)"
   ]
  },
  {
   "cell_type": "code",
   "execution_count": 79,
   "id": "7b83dd22",
   "metadata": {},
   "outputs": [],
   "source": [
    "#I_min = 0.0\n",
    "#I_max = 5.0\n",
    "#I_0 = 4.8\n",
    "\n",
    "#I_0=6.4715 \n",
    "#I_max=6.536\n",
    "\n",
    "#I_0=2.15 \n",
    "#I_max=2.408\n",
    "\n",
    "#I_0=7.052000000000001 \n",
    "#I_max=7.181000000000002\n",
    "\n",
    "#I_star = 21.5\n",
    "#kappa = 0.33\n",
    "#exponent = 1 / (2*kappa)\n",
    "#c = 1/scipy.integrate.quad(lambda x: D(x, I_star, exponent), I_min, I_max)[0]"
   ]
  },
  {
   "cell_type": "code",
   "execution_count": 80,
   "id": "947f2dba",
   "metadata": {},
   "outputs": [
    {
     "name": "stderr",
     "output_type": "stream",
     "text": [
      "<ipython-input-73-abcfc1428db2>:2: RuntimeWarning: divide by zero encountered in double_scalars\n",
      "  return np.exp(-2*np.power(I_star/I, exponent))\n"
     ]
    }
   ],
   "source": [
    "dt = current_peak_time(I_0, I_max, I_star, exponent, c)/1000\n",
    "samples = 50000\n",
    "\n",
    "I_linspace, dI = np.linspace(I_min, I_max, samples, retstep=True)\n",
    "sigma = dI * 50\n",
    "\n",
    "def rho_0(I):\n",
    "    return np.exp(-0.5 * (I - I_0)**2/sigma**2) / (sigma*np.sqrt(2*np.pi))\n",
    "\n",
    "engine = cn.cn_generic(I_min, I_max, rho_0(I_linspace), dt, lambda x: normed_D_half(x, I_star, exponent, c), normalize=False)\n",
    "times, current = engine.current(3000, 1)\n",
    "\n",
    "#plt.figure()\n",
    "#plt.plot(times, current)\n",
    "#plt.axvline(current_peak_time(I_0, I_max, I_star, exponent, c))\n",
    "#plt.axhline(current_peak_value(I_0, I_max, I_star, exponent, c))\n",
    "\n",
    "result = scipy.optimize.minimize(f, (I_star, exponent), args=(times[np.argmax(current)], np.max(current), I_0, I_max, I_min))"
   ]
  },
  {
   "cell_type": "code",
   "execution_count": 81,
   "id": "36f8109e",
   "metadata": {},
   "outputs": [
    {
     "data": {
      "application/vnd.jupyter.widget-view+json": {
       "model_id": "1096055a228d4069bfd7cbb2f8b77832",
       "version_major": 2,
       "version_minor": 0
      },
      "text/plain": [
       "Canvas(toolbar=Toolbar(toolitems=[('Home', 'Reset original view', 'home', 'home'), ('Back', 'Back to previous …"
      ]
     },
     "metadata": {},
     "output_type": "display_data"
    },
    {
     "name": "stdout",
     "output_type": "stream",
     "text": [
      "21.5 0.33\n",
      "15.697794121354432 0.2607418546138018\n",
      "--------\n",
      "0.012239485763595084\n",
      "0.012644096863218062\n",
      "0.012238649266515246\n",
      "--------\n",
      "17.486265687390503\n",
      "16.273924818627584\n",
      "17.484882636134103\n",
      "--------\n"
     ]
    },
    {
     "data": {
      "text/plain": [
       "      fun: 0.00010453092576911125\n",
       " hess_inv: array([[ 3.56636904, -0.36948029],\n",
       "       [-0.36948029,  0.03827873]])\n",
       "      jac: array([0.22819643, 2.2049504 ])\n",
       "  message: 'Desired error not necessarily achieved due to precision loss.'\n",
       "     nfev: 603\n",
       "      nit: 118\n",
       "     njev: 197\n",
       "   status: 2\n",
       "  success: False\n",
       "        x: array([15.69779412,  1.91760544])"
      ]
     },
     "execution_count": 81,
     "metadata": {},
     "output_type": "execute_result"
    }
   ],
   "source": [
    "plt.figure()\n",
    "plt.plot(times, current)\n",
    "plt.axvline(times[np.argmax(current)])\n",
    "plt.axhline(np.max(current))\n",
    "plt.axvline(current_peak_time(I_0, I_max, result.x[0], result.x[1], c), color=\"green\")\n",
    "plt.axhline(current_peak_value(I_0, I_max, result.x[0], result.x[1], c), color=\"green\")\n",
    "\n",
    "plt.plot(times, [current_point(t, I_0, I_max, I_star, exponent, c) for t in times], label=\"Analytic estimation\")\n",
    "plt.plot(times, [current_point(t, I_0, I_max, result.x[0], result.x[1], c) for t in times], label=\"Analytic estimation\")\n",
    "\n",
    "plt.axvline(current_peak_time(I_0, I_max, I_star, exponent, c), color='grey', alpha=0.5)\n",
    "plt.axhline(current_peak_value(I_0, I_max, I_star, exponent, c), color='grey', alpha=0.5)\n",
    "\n",
    "print(I_star, 1/exponent/2)\n",
    "print(result.x[0], 1/result.x[1]/2)\n",
    "print(\"--------\")\n",
    "print(times[np.argmax(current)])\n",
    "print(current_peak_time(I_0, I_max, I_star, exponent, c))\n",
    "print(current_peak_time(I_0, I_max, result.x[0], result.x[1], c))\n",
    "print(\"--------\")\n",
    "print(np.max(current))\n",
    "print(current_peak_value(I_0, I_max, I_star, exponent, c))\n",
    "print(current_peak_value(I_0, I_max, result.x[0], result.x[1], c))\n",
    "print(\"--------\")\n",
    "\n",
    "result"
   ]
  },
  {
   "cell_type": "code",
   "execution_count": 82,
   "id": "28a51ca9",
   "metadata": {},
   "outputs": [
    {
     "data": {
      "application/vnd.jupyter.widget-view+json": {
       "model_id": "bc203a89482d40f5954ec79b3141f07c",
       "version_major": 2,
       "version_minor": 0
      },
      "text/plain": [
       "Canvas(toolbar=Toolbar(toolitems=[('Home', 'Reset original view', 'home', 'home'), ('Back', 'Back to previous …"
      ]
     },
     "metadata": {},
     "output_type": "display_data"
    },
    {
     "data": {
      "text/plain": [
       "[<matplotlib.lines.Line2D at 0x7f31291034c0>]"
      ]
     },
     "execution_count": 82,
     "metadata": {},
     "output_type": "execute_result"
    }
   ],
   "source": [
    "plt.figure()\n",
    "data = engine.get_data_with_x()\n",
    "plt.plot(data[0], data[1])\n",
    "engine.reset()\n",
    "data = engine.get_data_with_x()\n",
    "plt.plot(data[0], data[1])\n",
    "engine.iterate(1)\n",
    "data = engine.get_data_with_x()\n",
    "plt.plot(data[0], data[1])\n"
   ]
  },
  {
   "cell_type": "markdown",
   "id": "fdb9ca21",
   "metadata": {},
   "source": [
    "### An isolated test..."
   ]
  },
  {
   "cell_type": "code",
   "execution_count": 13,
   "id": "ba7b52ff",
   "metadata": {},
   "outputs": [],
   "source": [
    "I_min = 0.0\n",
    "I_star = 21.5\n",
    "kappa = 0.33\n",
    "exponent = 1 / (2*kappa)\n",
    "\n",
    "I_max = 0.482 * I_star\n",
    "I_0 = 0.475 * I_star\n",
    "\n",
    "c = 1/scipy.integrate.quad(lambda x: D(x, I_star, exponent), I_min, I_max)[0]"
   ]
  },
  {
   "cell_type": "code",
   "execution_count": 14,
   "id": "ead704cf",
   "metadata": {},
   "outputs": [
    {
     "name": "stderr",
     "output_type": "stream",
     "text": [
      "<ipython-input-3-abcfc1428db2>:2: RuntimeWarning: divide by zero encountered in double_scalars\n",
      "  return np.exp(-2*np.power(I_star/I, exponent))\n"
     ]
    }
   ],
   "source": [
    "dt = current_peak_time(I_0, I_max, I_star, exponent, c)/1000\n",
    "samples = 10000\n",
    "\n",
    "I_linspace, dI = np.linspace(I_min, I_max, samples, retstep=True)\n",
    "sigma = dI * 5\n",
    "\n",
    "def rho_0(I):\n",
    "    return np.exp(-0.5 * (I - I_0)**2/sigma**2) / (sigma*np.sqrt(2*np.pi))\n",
    "\n",
    "engine = cn.cn_generic(I_min, I_max, rho_0(I_linspace), dt, lambda x: normed_D_half(x, I_star, exponent, c), normalize=False)\n",
    "times, current = engine.current(3000, 1)\n",
    "\n",
    "#plt.figure()\n",
    "#plt.plot(times, current)\n",
    "#plt.axvline(current_peak_time(I_0, I_max, I_star, exponent, c))\n",
    "#plt.axhline(current_peak_value(I_0, I_max, I_star, exponent, c))\n",
    "\n",
    "result = scipy.optimize.minimize(f, (I_star, exponent), args=(times[np.argmax(current)], np.max(current), I_0, I_max, I_min))"
   ]
  },
  {
   "cell_type": "code",
   "execution_count": 15,
   "id": "05230669",
   "metadata": {},
   "outputs": [
    {
     "data": {
      "application/vnd.jupyter.widget-view+json": {
       "model_id": "88614741b12a40a498de129ffd5bd24b",
       "version_major": 2,
       "version_minor": 0
      },
      "text/plain": [
       "Canvas(toolbar=Toolbar(toolitems=[('Home', 'Reset original view', 'home', 'home'), ('Back', 'Back to previous …"
      ]
     },
     "metadata": {},
     "output_type": "display_data"
    },
    {
     "data": {
      "text/plain": [
       "[<matplotlib.lines.Line2D at 0x7f313102abb0>]"
      ]
     },
     "execution_count": 15,
     "metadata": {},
     "output_type": "execute_result"
    }
   ],
   "source": [
    "plt.figure()\n",
    "engine.reset()\n",
    "\n",
    "engine.iterate(1)\n",
    "data = engine.get_data_with_x()\n",
    "plt.plot(data[0], data[1])\n",
    "\n",
    "engine.iterate(10)\n",
    "data = engine.get_data_with_x()\n",
    "plt.plot(data[0], data[1])"
   ]
  },
  {
   "cell_type": "code",
   "execution_count": 16,
   "id": "5453a803",
   "metadata": {},
   "outputs": [
    {
     "data": {
      "application/vnd.jupyter.widget-view+json": {
       "model_id": "28768187f21045378bb1fcff53456390",
       "version_major": 2,
       "version_minor": 0
      },
      "text/plain": [
       "Canvas(toolbar=Toolbar(toolitems=[('Home', 'Reset original view', 'home', 'home'), ('Back', 'Back to previous …"
      ]
     },
     "metadata": {},
     "output_type": "display_data"
    },
    {
     "name": "stdout",
     "output_type": "stream",
     "text": [
      "21.5 0.33\n",
      "23.612076987507486 0.37145978504811555\n",
      "--------\n",
      "0.007410199662525609\n",
      "0.0073441027378846465\n",
      "0.007410195837159751\n",
      "--------\n",
      "21.429263425643807\n",
      "21.698806901424398\n",
      "21.42926908955862\n",
      "--------\n"
     ]
    },
    {
     "data": {
      "text/plain": [
       "      fun: 5.799583182459593e-07\n",
       " hess_inv: array([[ 1.58954715, -0.10974354],\n",
       "       [-0.10974354,  0.00757679]])\n",
       "      jac: array([-0.46848647, -6.74987572])\n",
       "  message: 'Desired error not necessarily achieved due to precision loss.'\n",
       "     nfev: 429\n",
       "      nit: 68\n",
       "     njev: 139\n",
       "   status: 2\n",
       "  success: False\n",
       "        x: array([23.61207699,  1.34604073])"
      ]
     },
     "execution_count": 16,
     "metadata": {},
     "output_type": "execute_result"
    }
   ],
   "source": [
    "plt.figure()\n",
    "plt.plot(times, current)\n",
    "plt.axvline(times[np.argmax(current)])\n",
    "plt.axhline(np.max(current))\n",
    "plt.axvline(current_peak_time(I_0, I_max, result.x[0], result.x[1], c), color=\"green\")\n",
    "plt.axhline(current_peak_value(I_0, I_max, result.x[0], result.x[1], c), color=\"green\")\n",
    "\n",
    "plt.plot(times, [current_point(t, I_0, I_max, I_star, exponent, c) for t in times], label=\"Analytic estimation\")\n",
    "plt.plot(times, [current_point(t, I_0, I_max, result.x[0], result.x[1], c) for t in times], label=\"Analytic estimation\")\n",
    "\n",
    "plt.axvline(current_peak_time(I_0, I_max, I_star, exponent, c), color='grey', alpha=0.5)\n",
    "plt.axhline(current_peak_value(I_0, I_max, I_star, exponent, c), color='grey', alpha=0.5)\n",
    "\n",
    "print(I_star, 1/exponent/2)\n",
    "print(result.x[0], 1/result.x[1]/2)\n",
    "print(\"--------\")\n",
    "print(times[np.argmax(current)])\n",
    "print(current_peak_time(I_0, I_max, I_star, exponent, c))\n",
    "print(current_peak_time(I_0, I_max, result.x[0], result.x[1], c))\n",
    "print(\"--------\")\n",
    "print(np.max(current))\n",
    "print(current_peak_value(I_0, I_max, I_star, exponent, c))\n",
    "print(current_peak_value(I_0, I_max, result.x[0], result.x[1], c))\n",
    "print(\"--------\")\n",
    "\n",
    "result"
   ]
  },
  {
   "cell_type": "code",
   "execution_count": null,
   "id": "c4f030fb",
   "metadata": {},
   "outputs": [],
   "source": []
  },
  {
   "cell_type": "code",
   "execution_count": null,
   "id": "6eacde40",
   "metadata": {},
   "outputs": [],
   "source": []
  },
  {
   "cell_type": "markdown",
   "id": "4870163f",
   "metadata": {},
   "source": [
    "## Let's try to go with the big guns"
   ]
  },
  {
   "cell_type": "code",
   "execution_count": 17,
   "id": "7728cfa2",
   "metadata": {},
   "outputs": [],
   "source": [
    "I_min = 0.0\n",
    "I_star = 21.5\n",
    "kappa = 0.33\n",
    "exponent = 1 / (2*kappa)\n",
    "cn_samples = 50000"
   ]
  },
  {
   "cell_type": "code",
   "execution_count": 18,
   "id": "054ef1da",
   "metadata": {},
   "outputs": [],
   "source": [
    "def f(x, peak_time, peak_value, I_0, I_max, I_min=0):\n",
    "    #print(x)\n",
    "    c = 1/scipy.integrate.quad(lambda x: D(x, I_star, exponent), I_min, I_max)[0]\n",
    "    t = current_peak_time(I_0, I_max, x[0], x[1], c)\n",
    "    v = current_peak_value(I_0, I_max, x[0], x[1], c)\n",
    "    e1 = np.absolute(peak_time - t)/peak_time\n",
    "    e2 = np.absolute(peak_value - v)/peak_value\n",
    "    #print(np.sqrt(e1**2 + e2**2))\n",
    "    return np.sqrt(e1**2 + e2**2)\n",
    "\n",
    "def compute_fittings(nI_0, nI_max, index=np.nan, max_index=np.nan):\n",
    "    I_max = nI_max * I_star\n",
    "    I_0 = nI_0 * I_star\n",
    "\n",
    "    c = 1/scipy.integrate.quad(lambda x: D(x, I_star, exponent), I_min, I_max)[0]\n",
    "    \n",
    "    I_linspace, dI = np.linspace(I_min, I_max, cn_samples, retstep=True)\n",
    "    sigma = dI * 5\n",
    "    def rho_0(I):\n",
    "        return np.exp(-0.5 * (I - I_0)**2/sigma**2) / (sigma*np.sqrt(2*np.pi))\n",
    "    dt = current_peak_time(I_0, I_max, I_star, exponent, c)/1000\n",
    "    engine = cn.cn_generic(I_min, I_max, rho_0(I_linspace), dt, lambda x: normed_D_half(x, I_star, exponent, c), normalize=False)\n",
    "    times, current = engine.current(2000, 1)\n",
    "\n",
    "    num_current_peak = np.max(current)\n",
    "    num_current_time = times[np.argmax(current)]\n",
    "\n",
    "    ana_current_peak = current_peak_value(I_0, I_max, I_star, exponent, c)\n",
    "    ana_current_time = current_peak_time(I_0, I_max, I_star, exponent, c)\n",
    "    result = scipy.optimize.minimize(f, (I_star, exponent), args=(num_current_time, num_current_peak, I_0, I_max, I_min))\n",
    "    fitted_I_star = result.x[0]\n",
    "    fitted_kappa = 1/result.x[1]/2\n",
    "    print(\"Done\", (nI_0, nI_max), index, \"/\", max_index)\n",
    "    return num_current_peak, num_current_time, ana_current_peak, ana_current_time, fitted_I_star, fitted_kappa, times, current"
   ]
  },
  {
   "cell_type": "code",
   "execution_count": 22,
   "id": "b14adee1",
   "metadata": {},
   "outputs": [],
   "source": [
    "min_nI = 0.1\n",
    "max_nI = 0.5\n",
    "nI_samples = 121\n",
    "nI_samples_list, d_nI = np.linspace(min_nI, max_nI, nI_samples, retstep=True)"
   ]
  },
  {
   "cell_type": "code",
   "execution_count": 23,
   "id": "6fa30913",
   "metadata": {},
   "outputs": [],
   "source": [
    "index_list = list(itertools.combinations(range(nI_samples), 2))\n",
    "#index_list = list(filter(lambda i: np.absolute(i[0]-i[1]) <= 30, index_list))\n",
    "enumerated_index_list = [[i, k] for i, k in enumerate(index_list)]"
   ]
  },
  {
   "cell_type": "code",
   "execution_count": null,
   "id": "5f7e61e1",
   "metadata": {},
   "outputs": [],
   "source": [
    "data = Parallel(n_jobs=6)(delayed(compute_fittings)(nI_samples_list[i[1][0]], nI_samples_list[i[1][1]], i[0], len(enumerated_index_list)-1) for i in enumerated_index_list)"
   ]
  },
  {
   "cell_type": "code",
   "execution_count": null,
   "id": "023bea8d",
   "metadata": {},
   "outputs": [],
   "source": [
    "num_current_peak = np.empty((nI_samples, nI_samples)) * np.nan\n",
    "num_current_time = np.empty((nI_samples, nI_samples)) * np.nan\n",
    "\n",
    "ana_current_peak = np.empty((nI_samples, nI_samples)) * np.nan\n",
    "ana_current_time = np.empty((nI_samples, nI_samples)) * np.nan\n",
    "\n",
    "fitted_I_star = np.empty((nI_samples, nI_samples)) * np.nan\n",
    "fitted_kappa = np.empty((nI_samples, nI_samples)) * np.nan\n",
    "\n",
    "times_matrix = [[None for i in range(nI_samples)] for j in range(nI_samples)]\n",
    "current_matrix = [[None for i in range(nI_samples)] for j in range(nI_samples)]\n",
    "\n",
    "for i, j in enumerate(index_list):\n",
    "    num_current_peak[j[1], j[0]], num_current_time[j[1], j[0]], ana_current_peak[j[1], j[0]], ana_current_time[j[1], j[0]], fitted_I_star[j[1], j[0]], fitted_kappa[j[1], j[0]], times_matrix[j[1]][j[0]], current_matrix[j[1]][j[0]] = data[i]"
   ]
  },
  {
   "cell_type": "code",
   "execution_count": null,
   "id": "c7a86a25",
   "metadata": {},
   "outputs": [],
   "source": [
    "fitted_kappa"
   ]
  },
  {
   "cell_type": "code",
   "execution_count": 71,
   "id": "5f0a84e5",
   "metadata": {},
   "outputs": [
    {
     "data": {
      "application/vnd.jupyter.widget-view+json": {
       "model_id": "e29e9aa8b0f14ec2af5319d82bf2be54",
       "version_major": 2,
       "version_minor": 0
      },
      "text/plain": [
       "Canvas(toolbar=Toolbar(toolitems=[('Home', 'Reset original view', 'home', 'home'), ('Back', 'Back to previous …"
      ]
     },
     "metadata": {},
     "output_type": "display_data"
    }
   ],
   "source": [
    "plt.figure()\n",
    "#plt.imshow(np.transpose(fitted_I_star), origin=\"lower\", extent=[min_nI, max_nI, min_nI, max_nI])\n",
    "plt.imshow((fitted_I_star), extent=[min_nI, max_nI, max_nI, min_nI])\n",
    "plt.colorbar(label=\"fitted $I_*$\")\n",
    "plt.ylabel(\"$I_a$\")\n",
    "plt.xlabel(\"$I_0$\")\n",
    "plt.title(\"Real $I_*={}$\".format(I_star))\n",
    "plt.tight_layout()\n",
    "plt.savefig(\"fig/fitted_I_star.png\", dpi=600)"
   ]
  },
  {
   "cell_type": "code",
   "execution_count": 61,
   "id": "f41fb83c",
   "metadata": {},
   "outputs": [
    {
     "data": {
      "application/vnd.jupyter.widget-view+json": {
       "model_id": "fd828768faca4314aeac2bbc8ede4561",
       "version_major": 2,
       "version_minor": 0
      },
      "text/plain": [
       "Canvas(toolbar=Toolbar(toolitems=[('Home', 'Reset original view', 'home', 'home'), ('Back', 'Back to previous …"
      ]
     },
     "metadata": {},
     "output_type": "display_data"
    }
   ],
   "source": [
    "plt.figure()\n",
    "#plt.imshow(np.transpose(np.absolute(fitted_I_star-I_star)/I_star), origin=\"lower\", extent=[min_nI, max_nI, min_nI, max_nI], vmax=1.0)\n",
    "plt.imshow((np.absolute(fitted_I_star-I_star)/I_star), extent=[min_nI, max_nI, max_nI, min_nI], vmax=1.0)\n",
    "plt.colorbar(label=\"$I_*$ fitting relative error (capped at 1.0)\")\n",
    "plt.ylabel(\"$I_a$\")\n",
    "plt.xlabel(\"$I_0$\")\n",
    "\n",
    "plt.tight_layout()\n",
    "plt.savefig(\"fig/fitted_I_star_err.png\", dpi=600)"
   ]
  },
  {
   "cell_type": "code",
   "execution_count": 70,
   "id": "ed5afc75",
   "metadata": {},
   "outputs": [
    {
     "data": {
      "application/vnd.jupyter.widget-view+json": {
       "model_id": "3e160c93001c401aa3e45edd07ee500d",
       "version_major": 2,
       "version_minor": 0
      },
      "text/plain": [
       "Canvas(toolbar=Toolbar(toolitems=[('Home', 'Reset original view', 'home', 'home'), ('Back', 'Back to previous …"
      ]
     },
     "metadata": {},
     "output_type": "display_data"
    }
   ],
   "source": [
    "plt.figure()\n",
    "#plt.imshow(np.transpose(fitted_kappa), origin=\"lower\", extent=[min_nI, max_nI, min_nI, max_nI])\n",
    "plt.imshow((fitted_kappa), extent=[min_nI, max_nI, max_nI, min_nI])\n",
    "plt.colorbar(label=\"fitted $\\kappa$\")\n",
    "plt.ylabel(\"$I_a$\")\n",
    "plt.xlabel(\"$I_0$\")\n",
    "\n",
    "plt.title(\"Real $\\\\kappa={}$\".format(kappa))\n",
    "\n",
    "plt.tight_layout()\n",
    "plt.savefig(\"fig/fitted_kappa.png\", dpi=600)"
   ]
  },
  {
   "cell_type": "code",
   "execution_count": 63,
   "id": "599d05f2",
   "metadata": {},
   "outputs": [
    {
     "data": {
      "application/vnd.jupyter.widget-view+json": {
       "model_id": "bb731948c1fe41df9ff7f48480011c9e",
       "version_major": 2,
       "version_minor": 0
      },
      "text/plain": [
       "Canvas(toolbar=Toolbar(toolitems=[('Home', 'Reset original view', 'home', 'home'), ('Back', 'Back to previous …"
      ]
     },
     "metadata": {},
     "output_type": "display_data"
    }
   ],
   "source": [
    "plt.figure()\n",
    "#plt.imshow(np.transpose(np.absolute(fitted_kappa-kappa)/kappa), origin=\"lower\", extent=[min_nI, max_nI, min_nI, max_nI], vmax=1.0)\n",
    "plt.imshow((np.absolute(fitted_kappa-kappa)/kappa), extent=[min_nI, max_nI, max_nI, min_nI], vmax=1.0)\n",
    "plt.colorbar(label=\"$\\kappa$ fitting relative error (capped at 1.0)\")\n",
    "plt.ylabel(\"$I_a$\")\n",
    "plt.xlabel(\"$I_0$\")\n",
    "\n",
    "plt.tight_layout()\n",
    "plt.savefig(\"fig/fitted_kappa_err.png\", dpi=600)"
   ]
  },
  {
   "cell_type": "code",
   "execution_count": 64,
   "id": "faaf4bc8",
   "metadata": {},
   "outputs": [
    {
     "data": {
      "application/vnd.jupyter.widget-view+json": {
       "model_id": "ab84f27605a748ae83f94e2862274e56",
       "version_major": 2,
       "version_minor": 0
      },
      "text/plain": [
       "Canvas(toolbar=Toolbar(toolitems=[('Home', 'Reset original view', 'home', 'home'), ('Back', 'Back to previous …"
      ]
     },
     "metadata": {},
     "output_type": "display_data"
    }
   ],
   "source": [
    "plt.figure()\n",
    "#plt.contourf(np.transpose(np.log(num_current_peak)), origin=\"lower\", extent=[min_nI, max_nI, min_nI, max_nI])\n",
    "plt.contourf((np.log(num_current_peak)), extent=[min_nI, max_nI, max_nI, min_nI])\n",
    "#plt.imshow(np.absolute(num_current_peak-ana_current_peak)/num_current_peak)\n",
    "plt.colorbar(label=\"Current maximum measured\")\n",
    "plt.ylabel(\"$I_a$\")\n",
    "plt.xlabel(\"$I_0$\")\n",
    "\n",
    "plt.tight_layout()\n",
    "plt.savefig(\"fig/current.png\", dpi=600)"
   ]
  },
  {
   "cell_type": "code",
   "execution_count": 65,
   "id": "f38ad966",
   "metadata": {},
   "outputs": [
    {
     "data": {
      "application/vnd.jupyter.widget-view+json": {
       "model_id": "d5a60ba469b44e92b932854dc37d020a",
       "version_major": 2,
       "version_minor": 0
      },
      "text/plain": [
       "Canvas(toolbar=Toolbar(toolitems=[('Home', 'Reset original view', 'home', 'home'), ('Back', 'Back to previous …"
      ]
     },
     "metadata": {},
     "output_type": "display_data"
    }
   ],
   "source": [
    "plt.figure()\n",
    "#plt.contourf(np.absolute(num_current_peak-ana_current_peak)/num_current_peak, origin=\"lower\", extent=[min_nI, max_nI, min_nI, max_nI])\n",
    "#plt.imshow(np.transpose(np.absolute(num_current_peak-ana_current_peak)/num_current_peak), origin=\"lower\", extent=[min_nI, max_nI, min_nI, max_nI])\n",
    "plt.imshow((np.absolute(num_current_peak-ana_current_peak)/num_current_peak), extent=[min_nI, max_nI, max_nI, min_nI])\n",
    "plt.colorbar(label=\"current peak relative error\")\n",
    "plt.ylabel(\"$I_a$\")\n",
    "plt.xlabel(\"$I_0$\")\n",
    "\n",
    "plt.tight_layout()\n",
    "plt.savefig(\"fig/current_peak_err.png\", dpi=600)"
   ]
  },
  {
   "cell_type": "code",
   "execution_count": 68,
   "id": "c8abb8dd",
   "metadata": {},
   "outputs": [
    {
     "data": {
      "application/vnd.jupyter.widget-view+json": {
       "model_id": "abe40cc6ea0046ad9a76bd6fcf25d1c4",
       "version_major": 2,
       "version_minor": 0
      },
      "text/plain": [
       "Canvas(toolbar=Toolbar(toolitems=[('Home', 'Reset original view', 'home', 'home'), ('Back', 'Back to previous …"
      ]
     },
     "metadata": {},
     "output_type": "display_data"
    }
   ],
   "source": [
    "plt.figure()\n",
    "#plt.contourf(np.transpose(np.log(num_current_time)), origin=\"lower\", extent=[min_nI, max_nI, min_nI, max_nI])\n",
    "plt.contourf((np.log(num_current_time)), extent=[min_nI, max_nI, max_nI, min_nI])\n",
    "#plt.imshow(np.absolute(num_current_peak-ana_current_peak)/num_current_peak)\n",
    "plt.colorbar(label=\"current time numerical value (log scale)\")\n",
    "plt.ylabel(\"$I_a$\")\n",
    "plt.xlabel(\"$I_0$\")\n",
    "\n",
    "plt.tight_layout()\n",
    "plt.savefig(\"fig/current_time.png\", dpi=600)"
   ]
  },
  {
   "cell_type": "code",
   "execution_count": 67,
   "id": "194fdf77",
   "metadata": {},
   "outputs": [
    {
     "data": {
      "application/vnd.jupyter.widget-view+json": {
       "model_id": "a138fddfcc8840bd900c285065780a5c",
       "version_major": 2,
       "version_minor": 0
      },
      "text/plain": [
       "Canvas(toolbar=Toolbar(toolitems=[('Home', 'Reset original view', 'home', 'home'), ('Back', 'Back to previous …"
      ]
     },
     "metadata": {},
     "output_type": "display_data"
    }
   ],
   "source": [
    "plt.figure()\n",
    "#plt.contourf(np.absolute(num_current_time-ana_current_time)/num_current_time, origin=\"lower\", extent=[min_nI, max_nI, min_nI, max_nI])\n",
    "#plt.imshow(np.transpose(np.absolute(num_current_time-ana_current_time)/num_current_time), origin=\"lower\", extent=[min_nI, max_nI, min_nI, max_nI])\n",
    "plt.imshow((np.absolute(num_current_time-ana_current_time)/num_current_time), extent=[min_nI, max_nI, max_nI, min_nI])\n",
    "plt.colorbar(label=\"current time max relative error\")\n",
    "plt.ylabel(\"$I_a$\")\n",
    "plt.xlabel(\"$I_0$\")\n",
    "\n",
    "plt.tight_layout()\n",
    "plt.savefig(\"fig/current_time_err.png\", dpi=600)"
   ]
  },
  {
   "cell_type": "code",
   "execution_count": 69,
   "id": "d194d38f",
   "metadata": {},
   "outputs": [
    {
     "data": {
      "application/vnd.jupyter.widget-view+json": {
       "model_id": "c36dc31a60554aaa94de30c7dfc2bd88",
       "version_major": 2,
       "version_minor": 0
      },
      "text/plain": [
       "Canvas(toolbar=Toolbar(toolitems=[('Home', 'Reset original view', 'home', 'home'), ('Back', 'Back to previous …"
      ]
     },
     "metadata": {},
     "output_type": "display_data"
    }
   ],
   "source": [
    "plt.figure()\n",
    "\n",
    "#plt.imshow(np.transpose(np.sqrt((np.absolute(num_current_peak-ana_current_peak)/num_current_peak)**2 + (np.absolute(num_current_time-ana_current_time)/num_current_time)**2)), origin=\"lower\", extent=[min_nI, max_nI, min_nI, max_nI])\n",
    "\n",
    "plt.imshow((np.sqrt((np.absolute(num_current_peak-ana_current_peak)/num_current_peak)**2 + (np.absolute(num_current_time-ana_current_time)/num_current_time)**2)), extent=[min_nI, max_nI, max_nI, min_nI])\n",
    "plt.colorbar(label=\"analytical peak relative error\")\n",
    "plt.ylabel(\"$I_a$\")\n",
    "plt.xlabel(\"$I_0$\")\n",
    "\n",
    "plt.tight_layout()\n",
    "plt.savefig(\"fig/current_standard_err.png\", dpi=600)"
   ]
  },
  {
   "cell_type": "code",
   "execution_count": null,
   "id": "e10d92f1",
   "metadata": {},
   "outputs": [],
   "source": []
  },
  {
   "cell_type": "code",
   "execution_count": 52,
   "id": "b9e09ed8",
   "metadata": {},
   "outputs": [],
   "source": [
    "purified_error = np.sqrt((np.absolute(num_current_peak-ana_current_peak)/num_current_peak)**2 + (np.absolute(num_current_time-ana_current_time)/num_current_time)**2)\n",
    "purified_error = purified_error.flatten()\n",
    "purified_error = purified_error[np.logical_not(np.isnan(purified_error))]"
   ]
  },
  {
   "cell_type": "code",
   "execution_count": 53,
   "id": "d13f250f",
   "metadata": {},
   "outputs": [],
   "source": [
    "purified_k_error = np.absolute(fitted_kappa-kappa)/kappa\n",
    "purified_k_error = purified_k_error.flatten()\n",
    "purified_k_error = purified_k_error[np.logical_not(np.isnan(purified_k_error))]\n",
    "\n",
    "purified_I_error = np.absolute(fitted_I_star-I_star)/I_star\n",
    "purified_I_error = purified_I_error.flatten()\n",
    "purified_I_error = purified_I_error[np.logical_not(np.isnan(purified_I_error))]"
   ]
  },
  {
   "cell_type": "code",
   "execution_count": 54,
   "id": "ceab052a",
   "metadata": {},
   "outputs": [
    {
     "data": {
      "application/vnd.jupyter.widget-view+json": {
       "model_id": "486ab3b86d2c45949760ea01ea9d0078",
       "version_major": 2,
       "version_minor": 0
      },
      "text/plain": [
       "Canvas(toolbar=Toolbar(toolitems=[('Home', 'Reset original view', 'home', 'home'), ('Back', 'Back to previous …"
      ]
     },
     "metadata": {},
     "output_type": "display_data"
    },
    {
     "data": {
      "text/plain": [
       "<matplotlib.collections.PathCollection at 0x7f31115a6c10>"
      ]
     },
     "execution_count": 54,
     "metadata": {},
     "output_type": "execute_result"
    }
   ],
   "source": [
    "plt.figure()\n",
    "plt.scatter(purified_error, purified_k_error)\n",
    "plt.scatter(purified_error, purified_I_error)"
   ]
  },
  {
   "cell_type": "code",
   "execution_count": 56,
   "id": "03c7f3c4",
   "metadata": {},
   "outputs": [
    {
     "data": {
      "application/vnd.jupyter.widget-view+json": {
       "model_id": "382358aa254d4a2bb230b941f9f2d2dc",
       "version_major": 2,
       "version_minor": 0
      },
      "text/plain": [
       "Canvas(toolbar=Toolbar(toolitems=[('Home', 'Reset original view', 'home', 'home'), ('Back', 'Back to previous …"
      ]
     },
     "metadata": {},
     "output_type": "display_data"
    },
    {
     "data": {
      "text/plain": [
       "<matplotlib.collections.PathCollection at 0x7f3128046c40>"
      ]
     },
     "execution_count": 56,
     "metadata": {},
     "output_type": "execute_result"
    }
   ],
   "source": [
    "plt.figure()\n",
    "plt.scatter(purified_k_error, purified_I_error, s=2)"
   ]
  },
  {
   "cell_type": "code",
   "execution_count": null,
   "id": "742febe8",
   "metadata": {},
   "outputs": [],
   "source": [
    "import pickle\n",
    "with open(\"data_dump.pkl\", 'wb') as f:\n",
    "    pickle.dump(data, f)"
   ]
  },
  {
   "cell_type": "code",
   "execution_count": null,
   "id": "fdd660d6",
   "metadata": {},
   "outputs": [],
   "source": []
  }
 ],
 "metadata": {
  "kernelspec": {
   "display_name": "Python 3",
   "language": "python",
   "name": "python3"
  },
  "language_info": {
   "codemirror_mode": {
    "name": "ipython",
    "version": 3
   },
   "file_extension": ".py",
   "mimetype": "text/x-python",
   "name": "python",
   "nbconvert_exporter": "python",
   "pygments_lexer": "ipython3",
   "version": "3.8.8"
  }
 },
 "nbformat": 4,
 "nbformat_minor": 5
}
