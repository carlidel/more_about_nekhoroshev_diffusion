{
 "cells": [
  {
   "cell_type": "markdown",
   "id": "aa62d935",
   "metadata": {},
   "source": [
    "# A direct quantification of the linearization error"
   ]
  },
  {
   "cell_type": "code",
   "execution_count": 1,
   "id": "09785b1a",
   "metadata": {},
   "outputs": [],
   "source": [
    "%matplotlib widget"
   ]
  },
  {
   "cell_type": "code",
   "execution_count": 28,
   "id": "efa71159",
   "metadata": {},
   "outputs": [],
   "source": [
    "import numpy as np\n",
    "import matplotlib.pyplot as plt\n",
    "import scipy\n",
    "import scipy.integrate\n",
    "from tqdm.notebook import tqdm\n",
    "import crank_nicolson_numba.generic as cn\n",
    "import itertools\n",
    "# For parallelization\n",
    "from joblib import Parallel, delayed"
   ]
  },
  {
   "cell_type": "markdown",
   "id": "bee3b5cf",
   "metadata": {},
   "source": [
    "### Setting up the various elements for the Nekhoroshev-like diffusion"
   ]
  },
  {
   "cell_type": "code",
   "execution_count": 3,
   "id": "03032bcc",
   "metadata": {},
   "outputs": [],
   "source": [
    "def D(I, I_star, exponent):\n",
    "    return np.exp(-2*np.power(I_star/I, exponent))\n",
    "\n",
    "def normed_D(I, I_star, exponent, c):\n",
    "    return c * D(I, I_star, exponent)\n",
    "\n",
    "def normed_D_half(I, I_star, exponent, c):\n",
    "    return normed_D(I, I_star, exponent, c)/2\n",
    "\n",
    "def x(I, I_max, I_star, exponent, c):\n",
    "    return -scipy.integrate.quad(lambda x: 1/np.sqrt(normed_D(x, I_star, exponent, c)), I, I_max)[0]\n",
    "\n",
    "def nu(I, I_star, exponent, c, scale=1.0):\n",
    "    I = I * scale\n",
    "    return (np.sqrt(c) * exponent / I) * np.power(I_star/I, exponent) * np.exp(-np.power(I_star/I, exponent))\n",
    "\n",
    "def current_peak_time(I_0, I_max, I_star, exponent, c):\n",
    "    return 2*(np.sqrt(nu(I_0, I_star, exponent, c)**2 * x(I_0, I_max, I_star, exponent, c)**2 + 9) - 3) / nu(I_0, I_star, exponent, c)**2\n",
    "\n",
    "def current_peak_value(I_0, I_max, I_star, exponent, c):\n",
    "    return -x(I_0, I_max, I_star, exponent, c)*np.exp(-nu(I_0, I_star, exponent, c)**2*(x(I_0, I_max, I_star, exponent, c) + (np.sqrt(nu(I_0, I_star, exponent, c)**2*x(I_0, I_max, I_star, exponent, c)**2 + 9) - 3)/nu(I_0, I_star, exponent, c))**2/(4*(np.sqrt(nu(I_0, I_star, exponent, c)**2*x(I_0, I_max, I_star, exponent, c)**2 + 9) - 3)))/(4*np.sqrt(np.pi)*((np.sqrt(nu(I_0, I_star, exponent, c)**2*x(I_0, I_max, I_star, exponent, c)**2 + 9) - 3)/nu(I_0, I_star, exponent, c)**2)**(3/2))\n",
    "\n",
    "def current_point(t, I, I_max, I_star, exponent, c, scale=1.0):\n",
    "    if t == 0:\n",
    "        return 0.0\n",
    "    return -x(I, I_max, I_star, exponent, c) / (t * np.sqrt(2*np.pi*t)) * np.exp(-(x(I, I_max, I_star, exponent, c)+((nu(I, I_star, exponent, c, scale)/2)*t))**2/(2*t))\n",
    "\n",
    "def current_general(t, I, I_int_min, I_star, exponent, c, scale=1.0):\n",
    "    return [scipy.integrate.quad(lambda x: current_point(a_t, x, I_star, exponent, c, scale), I_int_min, I)[0] for a_t in t]"
   ]
  },
  {
   "cell_type": "markdown",
   "id": "0af6bf8b",
   "metadata": {},
   "source": [
    "## A little test"
   ]
  },
  {
   "cell_type": "code",
   "execution_count": 4,
   "id": "4a2010d0",
   "metadata": {},
   "outputs": [],
   "source": [
    "I_min = 0.0\n",
    "I_max = 5.0\n",
    "I_0 = 4.7\n",
    "I_star = 21.5\n",
    "kappa = 0.33\n",
    "exponent = 1 / (2*kappa)\n",
    "\n",
    "c = 1/scipy.integrate.quad(lambda x: D(x, I_star, exponent), I_min, I_max)[0]"
   ]
  },
  {
   "cell_type": "code",
   "execution_count": 7,
   "id": "7b979313",
   "metadata": {},
   "outputs": [
    {
     "name": "stdout",
     "output_type": "stream",
     "text": [
      "peak time: 0.012644096863218062\n",
      "peak current: 16.273924818627584\n"
     ]
    }
   ],
   "source": [
    "print(\"peak time:\", current_peak_time(I_0, I_max, I_star, exponent, c))\n",
    "print(\"peak current:\", current_peak_value(I_0, I_max, I_star, exponent, c))"
   ]
  },
  {
   "cell_type": "code",
   "execution_count": 9,
   "id": "e0bd1900",
   "metadata": {},
   "outputs": [
    {
     "name": "stderr",
     "output_type": "stream",
     "text": [
      "<ipython-input-3-abcfc1428db2>:2: RuntimeWarning: divide by zero encountered in double_scalars\n",
      "  return np.exp(-2*np.power(I_star/I, exponent))\n"
     ]
    }
   ],
   "source": [
    "dt = current_peak_time(I_0, I_max, I_star, exponent, c)/1000\n",
    "samples = 10000\n",
    "I_linspace, dI = np.linspace(I_min, I_max, samples, retstep=True)\n",
    "sigma = dI * 5\n",
    "def rho_0(I):\n",
    "    return np.exp(-0.5 * (I - I_0)**2/sigma**2) / (sigma*np.sqrt(2*np.pi))\n",
    "engine = cn.cn_generic(I_min, I_max, rho_0(I_linspace), dt, lambda x: normed_D_half(x, I_star, exponent, c), normalize=False)\n",
    "times, current = engine.current(3000, 1)"
   ]
  },
  {
   "cell_type": "code",
   "execution_count": 10,
   "id": "479b3839",
   "metadata": {},
   "outputs": [
    {
     "data": {
      "application/vnd.jupyter.widget-view+json": {
       "model_id": "c3fc36da29474733ad9112e2eb32b464",
       "version_major": 2,
       "version_minor": 0
      },
      "text/plain": [
       "Canvas(toolbar=Toolbar(toolitems=[('Home', 'Reset original view', 'home', 'home'), ('Back', 'Back to previous …"
      ]
     },
     "metadata": {},
     "output_type": "display_data"
    },
    {
     "data": {
      "text/plain": [
       "Text(0, 0.5, 'Current')"
      ]
     },
     "execution_count": 10,
     "metadata": {},
     "output_type": "execute_result"
    }
   ],
   "source": [
    "plt.figure()\n",
    "plt.plot(times, current, label=\"Numerical integration\")\n",
    "plt.plot(times, [current_point(t, I_0, I_max, I_star, exponent, c) for t in times], label=\"Analytic estimation\")\n",
    "\n",
    "plt.axvline(current_peak_time(I_0, I_max, I_star, exponent, c), color='grey', alpha=0.5)\n",
    "plt.axhline(current_peak_value(I_0, I_max, I_star, exponent, c), color='grey', alpha=0.5)\n",
    "\n",
    "plt.legend()\n",
    "plt.xlabel(\"t\")\n",
    "plt.ylabel(\"Current\")"
   ]
  },
  {
   "cell_type": "markdown",
   "id": "9c14f718",
   "metadata": {},
   "source": [
    "### First fitting example on a single current peak (using both time and module)"
   ]
  },
  {
   "cell_type": "code",
   "execution_count": 11,
   "id": "31e11555",
   "metadata": {},
   "outputs": [],
   "source": [
    "def f(x, peak_time, peak_value, I_0, I_max, I_min=0):\n",
    "    #print(x)\n",
    "    c = 1/scipy.integrate.quad(lambda x: D(x, I_star, exponent), I_min, I_max)[0]\n",
    "    t = current_peak_time(I_0, I_max, x[0], x[1], c)\n",
    "    v = current_peak_value(I_0, I_max, x[0], x[1], c)\n",
    "    e1 = np.absolute(peak_time - t)/peak_time\n",
    "    e2 = np.absolute(peak_value - v)/peak_value\n",
    "    #print(np.sqrt(e1**2 + e2**2))\n",
    "    return np.sqrt(e1**2 + e2**2)"
   ]
  },
  {
   "cell_type": "code",
   "execution_count": 12,
   "id": "3a5a51d4",
   "metadata": {},
   "outputs": [],
   "source": [
    "#I_min = 0.0\n",
    "#I_max = 5.0\n",
    "#I_0 = 4.8\n",
    "\n",
    "#I_0=6.4715 \n",
    "#I_max=6.536\n",
    "\n",
    "#I_0=2.15 \n",
    "#I_max=2.408\n",
    "\n",
    "#I_0=7.052000000000001 \n",
    "#I_max=7.181000000000002\n",
    "\n",
    "#I_star = 21.5\n",
    "#kappa = 0.33\n",
    "#exponent = 1 / (2*kappa)\n",
    "#c = 1/scipy.integrate.quad(lambda x: D(x, I_star, exponent), I_min, I_max)[0]"
   ]
  },
  {
   "cell_type": "code",
   "execution_count": 23,
   "id": "28a6012c",
   "metadata": {},
   "outputs": [
    {
     "name": "stderr",
     "output_type": "stream",
     "text": [
      "<ipython-input-3-abcfc1428db2>:2: RuntimeWarning: divide by zero encountered in double_scalars\n",
      "  return np.exp(-2*np.power(I_star/I, exponent))\n"
     ]
    }
   ],
   "source": [
    "dt = current_peak_time(I_0, I_max, I_star, exponent, c)/1000\n",
    "samples = 50000\n",
    "\n",
    "I_linspace, dI = np.linspace(I_min, I_max, samples, retstep=True)\n",
    "sigma = dI * 50\n",
    "\n",
    "def rho_0(I):\n",
    "    return np.exp(-0.5 * (I - I_0)**2/sigma**2) / (sigma*np.sqrt(2*np.pi))\n",
    "\n",
    "engine = cn.cn_generic(I_min, I_max, rho_0(I_linspace), dt, lambda x: normed_D_half(x, I_star, exponent, c), normalize=False)\n",
    "times, current = engine.current(3000, 1)\n",
    "\n",
    "#plt.figure()\n",
    "#plt.plot(times, current)\n",
    "#plt.axvline(current_peak_time(I_0, I_max, I_star, exponent, c))\n",
    "#plt.axhline(current_peak_value(I_0, I_max, I_star, exponent, c))\n",
    "\n",
    "result = scipy.optimize.minimize(f, (I_star, exponent), args=(times[np.argmax(current)], np.max(current), I_0, I_max, I_min))"
   ]
  },
  {
   "cell_type": "code",
   "execution_count": 24,
   "id": "9b4b41de",
   "metadata": {},
   "outputs": [
    {
     "data": {
      "application/vnd.jupyter.widget-view+json": {
       "model_id": "86500457e86a40d1a9f48c89db4e24b6",
       "version_major": 2,
       "version_minor": 0
      },
      "text/plain": [
       "Canvas(toolbar=Toolbar(toolitems=[('Home', 'Reset original view', 'home', 'home'), ('Back', 'Back to previous …"
      ]
     },
     "metadata": {},
     "output_type": "display_data"
    },
    {
     "name": "stdout",
     "output_type": "stream",
     "text": [
      "21.5 0.33\n",
      "15.697794121354432 0.2607418546138018\n",
      "--------\n",
      "0.012239485763595084\n",
      "0.012644096863218062\n",
      "0.012238649266515246\n",
      "--------\n",
      "17.486265687390503\n",
      "16.273924818627584\n",
      "17.484882636134103\n",
      "--------\n"
     ]
    },
    {
     "data": {
      "text/plain": [
       "      fun: 0.00010453092576911125\n",
       " hess_inv: array([[ 3.56636904, -0.36948029],\n",
       "       [-0.36948029,  0.03827873]])\n",
       "      jac: array([0.22819643, 2.2049504 ])\n",
       "  message: 'Desired error not necessarily achieved due to precision loss.'\n",
       "     nfev: 603\n",
       "      nit: 118\n",
       "     njev: 197\n",
       "   status: 2\n",
       "  success: False\n",
       "        x: array([15.69779412,  1.91760544])"
      ]
     },
     "execution_count": 24,
     "metadata": {},
     "output_type": "execute_result"
    }
   ],
   "source": [
    "plt.figure()\n",
    "plt.plot(times, current)\n",
    "plt.axvline(times[np.argmax(current)])\n",
    "plt.axhline(np.max(current))\n",
    "plt.axvline(current_peak_time(I_0, I_max, result.x[0], result.x[1], c), color=\"green\")\n",
    "plt.axhline(current_peak_value(I_0, I_max, result.x[0], result.x[1], c), color=\"green\")\n",
    "\n",
    "plt.plot(times, [current_point(t, I_0, I_max, I_star, exponent, c) for t in times], label=\"Analytic estimation\")\n",
    "plt.plot(times, [current_point(t, I_0, I_max, result.x[0], result.x[1], c) for t in times], label=\"Analytic estimation\")\n",
    "\n",
    "plt.axvline(current_peak_time(I_0, I_max, I_star, exponent, c), color='grey', alpha=0.5)\n",
    "plt.axhline(current_peak_value(I_0, I_max, I_star, exponent, c), color='grey', alpha=0.5)\n",
    "\n",
    "print(I_star, 1/exponent/2)\n",
    "print(result.x[0], 1/result.x[1]/2)\n",
    "print(\"--------\")\n",
    "print(times[np.argmax(current)])\n",
    "print(current_peak_time(I_0, I_max, I_star, exponent, c))\n",
    "print(current_peak_time(I_0, I_max, result.x[0], result.x[1], c))\n",
    "print(\"--------\")\n",
    "print(np.max(current))\n",
    "print(current_peak_value(I_0, I_max, I_star, exponent, c))\n",
    "print(current_peak_value(I_0, I_max, result.x[0], result.x[1], c))\n",
    "print(\"--------\")\n",
    "\n",
    "result"
   ]
  },
  {
   "cell_type": "code",
   "execution_count": 27,
   "id": "e402e942",
   "metadata": {},
   "outputs": [
    {
     "data": {
      "application/vnd.jupyter.widget-view+json": {
       "model_id": "9926ffe3d4234900a2b76a1ef1a82658",
       "version_major": 2,
       "version_minor": 0
      },
      "text/plain": [
       "Canvas(toolbar=Toolbar(toolitems=[('Home', 'Reset original view', 'home', 'home'), ('Back', 'Back to previous …"
      ]
     },
     "metadata": {},
     "output_type": "display_data"
    },
    {
     "data": {
      "text/plain": [
       "[<matplotlib.lines.Line2D at 0x7fb084987160>]"
      ]
     },
     "execution_count": 27,
     "metadata": {},
     "output_type": "execute_result"
    }
   ],
   "source": [
    "plt.figure()\n",
    "data = engine.get_data_with_x()\n",
    "plt.plot(data[0], data[1])\n",
    "engine.reset()\n",
    "data = engine.get_data_with_x()\n",
    "plt.plot(data[0], data[1])\n",
    "engine.iterate(1)\n",
    "data = engine.get_data_with_x()\n",
    "plt.plot(data[0], data[1])\n"
   ]
  },
  {
   "cell_type": "markdown",
   "id": "d9aced85",
   "metadata": {},
   "source": [
    "## Let's try to go with the big guns"
   ]
  },
  {
   "cell_type": "code",
   "execution_count": 82,
   "id": "48c819de",
   "metadata": {},
   "outputs": [],
   "source": [
    "I_min = 0.0\n",
    "I_star = 21.5\n",
    "kappa = 0.33\n",
    "exponent = 1 / (2*kappa)\n",
    "cn_samples = 10000"
   ]
  },
  {
   "cell_type": "code",
   "execution_count": 83,
   "id": "3efab6eb",
   "metadata": {},
   "outputs": [],
   "source": [
    "def f(x, peak_time, peak_value, I_0, I_max, I_min=0):\n",
    "    #print(x)\n",
    "    c = 1/scipy.integrate.quad(lambda x: D(x, I_star, exponent), I_min, I_max)[0]\n",
    "    t = current_peak_time(I_0, I_max, x[0], x[1], c)\n",
    "    v = current_peak_value(I_0, I_max, x[0], x[1], c)\n",
    "    e1 = np.absolute(peak_time - t)/peak_time\n",
    "    e2 = np.absolute(peak_value - v)/peak_value\n",
    "    #print(np.sqrt(e1**2 + e2**2))\n",
    "    return np.sqrt(e1**2 + e2**2)\n",
    "\n",
    "def compute_fittings(nI_0, nI_max):\n",
    "    I_max = nI_max * I_star\n",
    "    I_0 = nI_0 * I_star\n",
    "\n",
    "    c = 1/scipy.integrate.quad(lambda x: D(x, I_star, exponent), I_min, I_max)[0]\n",
    "    \n",
    "    I_linspace, dI = np.linspace(I_min, I_max, cn_samples, retstep=True)\n",
    "    sigma = dI * 25\n",
    "    def rho_0(I):\n",
    "        return np.exp(-0.5 * (I - I_0)**2/sigma**2) / (sigma*np.sqrt(2*np.pi))\n",
    "    dt = current_peak_time(I_0, I_max, I_star, exponent, c)/1000\n",
    "    engine = cn.cn_generic(I_min, I_max, rho_0(I_linspace), dt, lambda x: normed_D_half(x, I_star, exponent, c), normalize=False)\n",
    "    times, current = engine.current(2000, 1)\n",
    "\n",
    "    num_current_peak = np.max(current)\n",
    "    num_current_time = times[np.argmax(current)]\n",
    "\n",
    "    ana_current_peak = current_peak_value(I_0, I_max, I_star, exponent, c)\n",
    "    ana_current_time = current_peak_time(I_0, I_max, I_star, exponent, c)\n",
    "    result = scipy.optimize.minimize(f, (I_star, exponent), args=(num_current_time, num_current_peak, I_0, I_max, I_min))\n",
    "    fitted_I_star = result.x[0]\n",
    "    fitted_kappa = 1/result.x[1]/2\n",
    "    print(\"Done\", (nI_0, nI_max))\n",
    "    return num_current_peak, num_current_time, ana_current_peak, ana_current_time, fitted_I_star, fitted_kappa, times, current"
   ]
  },
  {
   "cell_type": "code",
   "execution_count": 84,
   "id": "07aa5562",
   "metadata": {},
   "outputs": [],
   "source": [
    "min_nI = 0.1\n",
    "max_nI = 0.5\n",
    "nI_samples = 41\n",
    "nI_samples_list, d_nI = np.linspace(min_nI, max_nI, nI_samples, retstep=True)"
   ]
  },
  {
   "cell_type": "code",
   "execution_count": 85,
   "id": "d2ab9b3b",
   "metadata": {},
   "outputs": [],
   "source": [
    "index_list = list(itertools.combinations(range(nI_samples), 2))"
   ]
  },
  {
   "cell_type": "code",
   "execution_count": 86,
   "id": "2d3444f5",
   "metadata": {},
   "outputs": [],
   "source": [
    "data = Parallel(n_jobs=4)(delayed(compute_fittings)(nI_samples_list[i[0]], nI_samples_list[i[1]]) for i in index_list)"
   ]
  },
  {
   "cell_type": "code",
   "execution_count": 88,
   "id": "8488194c",
   "metadata": {},
   "outputs": [],
   "source": [
    "num_current_peak = np.empty((nI_samples, nI_samples)) * np.nan\n",
    "num_current_time = np.empty((nI_samples, nI_samples)) * np.nan\n",
    "\n",
    "ana_current_peak = np.empty((nI_samples, nI_samples)) * np.nan\n",
    "ana_current_time = np.empty((nI_samples, nI_samples)) * np.nan\n",
    "\n",
    "fitted_I_star = np.empty((nI_samples, nI_samples)) * np.nan\n",
    "fitted_kappa = np.empty((nI_samples, nI_samples)) * np.nan\n",
    "\n",
    "times_matrix = [[None for i in range(nI_samples)] for j in range(nI_samples)]\n",
    "current_matrix = [[None for i in range(nI_samples)] for j in range(nI_samples)]\n",
    "\n",
    "for i, j in enumerate(index_list):\n",
    "    num_current_peak[j[1], j[0]], num_current_time[j[1], j[0]], ana_current_peak[j[1], j[0]], ana_current_time[j[1], j[0]], fitted_I_star[j[1], j[0]], fitted_kappa[j[1], j[0]] = data[i]"
   ]
  },
  {
   "cell_type": "code",
   "execution_count": 89,
   "id": "39ad0100",
   "metadata": {},
   "outputs": [
    {
     "data": {
      "text/plain": [
       "array([[       nan,        nan,        nan, ...,        nan,        nan,\n",
       "               nan],\n",
       "       [0.33014295,        nan,        nan, ...,        nan,        nan,\n",
       "               nan],\n",
       "       [0.33095703, 0.25291871,        nan, ...,        nan,        nan,\n",
       "               nan],\n",
       "       ...,\n",
       "       [0.24502942, 0.23752956, 0.23161025, ...,        nan,        nan,\n",
       "               nan],\n",
       "       [0.24318648, 0.23675158, 0.23164628, ..., 0.92053906,        nan,\n",
       "               nan],\n",
       "       [0.24541186, 0.23475813, 0.2305899 , ..., 0.39538156, 0.81096023,\n",
       "               nan]])"
      ]
     },
     "execution_count": 89,
     "metadata": {},
     "output_type": "execute_result"
    }
   ],
   "source": [
    "fitted_kappa"
   ]
  },
  {
   "cell_type": "code",
   "execution_count": 105,
   "id": "4d285369",
   "metadata": {},
   "outputs": [
    {
     "data": {
      "application/vnd.jupyter.widget-view+json": {
       "model_id": "3edb087bb33b49c79cf5f98229463620",
       "version_major": 2,
       "version_minor": 0
      },
      "text/plain": [
       "Canvas(toolbar=Toolbar(toolitems=[('Home', 'Reset original view', 'home', 'home'), ('Back', 'Back to previous …"
      ]
     },
     "metadata": {},
     "output_type": "display_data"
    },
    {
     "data": {
      "text/plain": [
       "Text(0, 0.5, '$I_0$')"
      ]
     },
     "execution_count": 105,
     "metadata": {},
     "output_type": "execute_result"
    }
   ],
   "source": [
    "plt.figure()\n",
    "plt.imshow(fitted_I_star, origin=\"lower\", extent=[min_nI, max_nI, min_nI, max_nI])\n",
    "plt.colorbar(label=\"fitted $I_*$\")\n",
    "plt.xlabel(\"$I_a$\")\n",
    "plt.ylabel(\"$I_0$\")"
   ]
  },
  {
   "cell_type": "code",
   "execution_count": 102,
   "id": "c9e1d72c",
   "metadata": {},
   "outputs": [
    {
     "data": {
      "application/vnd.jupyter.widget-view+json": {
       "model_id": "574a28c90fda4a10a368982e2d36a2ef",
       "version_major": 2,
       "version_minor": 0
      },
      "text/plain": [
       "Canvas(toolbar=Toolbar(toolitems=[('Home', 'Reset original view', 'home', 'home'), ('Back', 'Back to previous …"
      ]
     },
     "metadata": {},
     "output_type": "display_data"
    },
    {
     "data": {
      "text/plain": [
       "Text(0, 0.5, '$I_0$')"
      ]
     },
     "execution_count": 102,
     "metadata": {},
     "output_type": "execute_result"
    }
   ],
   "source": [
    "plt.figure()\n",
    "plt.imshow(np.absolute(fitted_I_star-I_star)/I_star, origin=\"lower\", extent=[min_nI, max_nI, min_nI, max_nI], vmax=1.0)\n",
    "plt.colorbar(label=\"$I_*$ fitting relative error (capped at 1.0)\")\n",
    "plt.xlabel(\"$I_a$\")\n",
    "plt.ylabel(\"$I_0$\")"
   ]
  },
  {
   "cell_type": "code",
   "execution_count": 106,
   "id": "86fafa0f",
   "metadata": {},
   "outputs": [
    {
     "data": {
      "application/vnd.jupyter.widget-view+json": {
       "model_id": "cffd7d5280f349079ef4a0d7198e9b82",
       "version_major": 2,
       "version_minor": 0
      },
      "text/plain": [
       "Canvas(toolbar=Toolbar(toolitems=[('Home', 'Reset original view', 'home', 'home'), ('Back', 'Back to previous …"
      ]
     },
     "metadata": {},
     "output_type": "display_data"
    },
    {
     "data": {
      "text/plain": [
       "Text(0, 0.5, '$I_0$')"
      ]
     },
     "execution_count": 106,
     "metadata": {},
     "output_type": "execute_result"
    }
   ],
   "source": [
    "plt.figure()\n",
    "plt.imshow(fitted_kappa, origin=\"lower\", extent=[min_nI, max_nI, min_nI, max_nI])\n",
    "plt.colorbar(label=\"fitted $\\kappa$\")\n",
    "plt.xlabel(\"$I_a$\")\n",
    "plt.ylabel(\"$I_0$\")"
   ]
  },
  {
   "cell_type": "code",
   "execution_count": 103,
   "id": "be611c90",
   "metadata": {},
   "outputs": [
    {
     "data": {
      "application/vnd.jupyter.widget-view+json": {
       "model_id": "e9f50b2f30b54fc49e34a6e2175253ec",
       "version_major": 2,
       "version_minor": 0
      },
      "text/plain": [
       "Canvas(toolbar=Toolbar(toolitems=[('Home', 'Reset original view', 'home', 'home'), ('Back', 'Back to previous …"
      ]
     },
     "metadata": {},
     "output_type": "display_data"
    },
    {
     "data": {
      "text/plain": [
       "Text(0, 0.5, '$I_0$')"
      ]
     },
     "execution_count": 103,
     "metadata": {},
     "output_type": "execute_result"
    }
   ],
   "source": [
    "plt.figure()\n",
    "plt.imshow(np.absolute(fitted_kappa-kappa)/kappa, origin=\"lower\", extent=[min_nI, max_nI, min_nI, max_nI], vmax=1.0)\n",
    "plt.colorbar(label=\"$\\kappa$ fitting relative error (capped at 1.0)\")\n",
    "plt.xlabel(\"$I_a$\")\n",
    "plt.ylabel(\"$I_0$\")"
   ]
  },
  {
   "cell_type": "code",
   "execution_count": 107,
   "id": "c12ebace",
   "metadata": {},
   "outputs": [
    {
     "data": {
      "application/vnd.jupyter.widget-view+json": {
       "model_id": "11210a39dac2490f8280f9c6d3bb5d87",
       "version_major": 2,
       "version_minor": 0
      },
      "text/plain": [
       "Canvas(toolbar=Toolbar(toolitems=[('Home', 'Reset original view', 'home', 'home'), ('Back', 'Back to previous …"
      ]
     },
     "metadata": {},
     "output_type": "display_data"
    },
    {
     "data": {
      "text/plain": [
       "<matplotlib.colorbar.Colorbar at 0x7fb07d64e730>"
      ]
     },
     "execution_count": 107,
     "metadata": {},
     "output_type": "execute_result"
    }
   ],
   "source": [
    "plt.figure()\n",
    "plt.contourf(np.log(num_current_peak), origin=\"lower\", extent=[min_nI, max_nI, min_nI, max_nI])\n",
    "#plt.imshow(np.absolute(num_current_peak-ana_current_peak)/num_current_peak)\n",
    "plt.colorbar()"
   ]
  },
  {
   "cell_type": "code",
   "execution_count": 108,
   "id": "41a99625",
   "metadata": {},
   "outputs": [
    {
     "data": {
      "application/vnd.jupyter.widget-view+json": {
       "model_id": "233fc55d5dbd40ceaadab13159864c6d",
       "version_major": 2,
       "version_minor": 0
      },
      "text/plain": [
       "Canvas(toolbar=Toolbar(toolitems=[('Home', 'Reset original view', 'home', 'home'), ('Back', 'Back to previous …"
      ]
     },
     "metadata": {},
     "output_type": "display_data"
    },
    {
     "data": {
      "text/plain": [
       "<matplotlib.colorbar.Colorbar at 0x7fb07d5aeb50>"
      ]
     },
     "execution_count": 108,
     "metadata": {},
     "output_type": "execute_result"
    }
   ],
   "source": [
    "plt.figure()\n",
    "#plt.contourf(np.absolute(num_current_peak-ana_current_peak)/num_current_peak, origin=\"lower\", extent=[min_nI, max_nI, min_nI, max_nI])\n",
    "plt.imshow(np.absolute(num_current_peak-ana_current_peak)/num_current_peak, origin=\"lower\", extent=[min_nI, max_nI, min_nI, max_nI])\n",
    "plt.colorbar()"
   ]
  },
  {
   "cell_type": "code",
   "execution_count": 109,
   "id": "08ce4c74",
   "metadata": {},
   "outputs": [
    {
     "data": {
      "application/vnd.jupyter.widget-view+json": {
       "model_id": "611754ad3762419ca1b81ca1be2374b2",
       "version_major": 2,
       "version_minor": 0
      },
      "text/plain": [
       "Canvas(toolbar=Toolbar(toolitems=[('Home', 'Reset original view', 'home', 'home'), ('Back', 'Back to previous …"
      ]
     },
     "metadata": {},
     "output_type": "display_data"
    },
    {
     "data": {
      "text/plain": [
       "<matplotlib.colorbar.Colorbar at 0x7fb07d3f2250>"
      ]
     },
     "execution_count": 109,
     "metadata": {},
     "output_type": "execute_result"
    }
   ],
   "source": [
    "plt.figure()\n",
    "plt.contourf(np.log(num_current_time), origin=\"lower\", extent=[min_nI, max_nI, min_nI, max_nI])\n",
    "#plt.imshow(np.absolute(num_current_peak-ana_current_peak)/num_current_peak)\n",
    "plt.colorbar()"
   ]
  },
  {
   "cell_type": "code",
   "execution_count": 113,
   "id": "c11dd470",
   "metadata": {},
   "outputs": [
    {
     "data": {
      "application/vnd.jupyter.widget-view+json": {
       "model_id": "20d4ba8f75704ad88644cab487af18e9",
       "version_major": 2,
       "version_minor": 0
      },
      "text/plain": [
       "Canvas(toolbar=Toolbar(toolitems=[('Home', 'Reset original view', 'home', 'home'), ('Back', 'Back to previous …"
      ]
     },
     "metadata": {},
     "output_type": "display_data"
    },
    {
     "data": {
      "text/plain": [
       "<matplotlib.colorbar.Colorbar at 0x7fb07d167190>"
      ]
     },
     "execution_count": 113,
     "metadata": {},
     "output_type": "execute_result"
    }
   ],
   "source": [
    "plt.figure()\n",
    "#plt.contourf(np.absolute(num_current_time-ana_current_time)/num_current_time, origin=\"lower\", extent=[min_nI, max_nI, min_nI, max_nI])\n",
    "plt.imshow(np.absolute(num_current_time-ana_current_time)/num_current_time, origin=\"lower\", extent=[min_nI, max_nI, min_nI, max_nI], vmax=1.0)\n",
    "plt.colorbar()"
   ]
  },
  {
   "cell_type": "code",
   "execution_count": 75,
   "id": "1bd5e43f",
   "metadata": {},
   "outputs": [
    {
     "data": {
      "application/vnd.jupyter.widget-view+json": {
       "model_id": "00a42f85834a45329a98eecaea40c81e",
       "version_major": 2,
       "version_minor": 0
      },
      "text/plain": [
       "Canvas(toolbar=Toolbar(toolitems=[('Home', 'Reset original view', 'home', 'home'), ('Back', 'Back to previous …"
      ]
     },
     "metadata": {},
     "output_type": "display_data"
    },
    {
     "data": {
      "text/plain": [
       "<matplotlib.colorbar.Colorbar at 0x7fb07df80e50>"
      ]
     },
     "execution_count": 75,
     "metadata": {},
     "output_type": "execute_result"
    }
   ],
   "source": [
    "plt.figure()\n",
    "\n",
    "plt.imshow(np.sqrt((np.absolute(num_current_peak-ana_current_peak)/num_current_peak)**2 + (np.absolute(num_current_time-ana_current_time)/num_current_time)**2), origin=\"lower\", extent=[min_nI, max_nI, min_nI, max_nI])\n",
    "plt.colorbar()"
   ]
  },
  {
   "cell_type": "code",
   "execution_count": null,
   "id": "05589a8c",
   "metadata": {},
   "outputs": [],
   "source": []
  }
 ],
 "metadata": {
  "kernelspec": {
   "display_name": "Python 3",
   "language": "python",
   "name": "python3"
  },
  "language_info": {
   "codemirror_mode": {
    "name": "ipython",
    "version": 3
   },
   "file_extension": ".py",
   "mimetype": "text/x-python",
   "name": "python",
   "nbconvert_exporter": "python",
   "pygments_lexer": "ipython3",
   "version": "3.8.8"
  }
 },
 "nbformat": 4,
 "nbformat_minor": 5
}
