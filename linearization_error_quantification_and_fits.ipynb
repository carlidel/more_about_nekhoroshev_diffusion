{
 "cells": [
  {
   "cell_type": "markdown",
   "id": "a5951f08",
   "metadata": {},
   "source": [
    "# A direct quantification of the linearization error"
   ]
  },
  {
   "cell_type": "code",
   "execution_count": 1,
   "id": "ff50938c",
   "metadata": {},
   "outputs": [],
   "source": [
    "%matplotlib widget"
   ]
  },
  {
   "cell_type": "code",
   "execution_count": 28,
   "id": "d7816fab",
   "metadata": {},
   "outputs": [],
   "source": [
    "import numpy as np\n",
    "import matplotlib.pyplot as plt\n",
    "import scipy\n",
    "import scipy.integrate\n",
    "from tqdm.notebook import tqdm\n",
    "import crank_nicolson_numba.generic as cn\n",
    "import itertools\n",
    "# For parallelization\n",
    "from joblib import Parallel, delayed"
   ]
  },
  {
   "cell_type": "markdown",
   "id": "3a0db6ac",
   "metadata": {},
   "source": [
    "### Setting up the various elements for the Nekhoroshev-like diffusion"
   ]
  },
  {
   "cell_type": "code",
   "execution_count": 3,
   "id": "4741fd02",
   "metadata": {},
   "outputs": [],
   "source": [
    "def D(I, I_star, exponent):\n",
    "    return np.exp(-2*np.power(I_star/I, exponent))\n",
    "\n",
    "def normed_D(I, I_star, exponent, c):\n",
    "    return c * D(I, I_star, exponent)\n",
    "\n",
    "def normed_D_half(I, I_star, exponent, c):\n",
    "    return normed_D(I, I_star, exponent, c)/2\n",
    "\n",
    "def x(I, I_max, I_star, exponent, c):\n",
    "    return -scipy.integrate.quad(lambda x: 1/np.sqrt(normed_D(x, I_star, exponent, c)), I, I_max)[0]\n",
    "\n",
    "def nu(I, I_star, exponent, c, scale=1.0):\n",
    "    I = I * scale\n",
    "    return (np.sqrt(c) * exponent / I) * np.power(I_star/I, exponent) * np.exp(-np.power(I_star/I, exponent))\n",
    "\n",
    "def current_peak_time(I_0, I_max, I_star, exponent, c):\n",
    "    return 2*(np.sqrt(nu(I_0, I_star, exponent, c)**2 * x(I_0, I_max, I_star, exponent, c)**2 + 9) - 3) / nu(I_0, I_star, exponent, c)**2\n",
    "\n",
    "def current_peak_value(I_0, I_max, I_star, exponent, c):\n",
    "    return -x(I_0, I_max, I_star, exponent, c)*np.exp(-nu(I_0, I_star, exponent, c)**2*(x(I_0, I_max, I_star, exponent, c) + (np.sqrt(nu(I_0, I_star, exponent, c)**2*x(I_0, I_max, I_star, exponent, c)**2 + 9) - 3)/nu(I_0, I_star, exponent, c))**2/(4*(np.sqrt(nu(I_0, I_star, exponent, c)**2*x(I_0, I_max, I_star, exponent, c)**2 + 9) - 3)))/(4*np.sqrt(np.pi)*((np.sqrt(nu(I_0, I_star, exponent, c)**2*x(I_0, I_max, I_star, exponent, c)**2 + 9) - 3)/nu(I_0, I_star, exponent, c)**2)**(3/2))\n",
    "\n",
    "def current_point(t, I, I_max, I_star, exponent, c, scale=1.0):\n",
    "    if t == 0:\n",
    "        return 0.0\n",
    "    return -x(I, I_max, I_star, exponent, c) / (t * np.sqrt(2*np.pi*t)) * np.exp(-(x(I, I_max, I_star, exponent, c)+((nu(I, I_star, exponent, c, scale)/2)*t))**2/(2*t))\n",
    "\n",
    "def current_general(t, I, I_int_min, I_star, exponent, c, scale=1.0):\n",
    "    return [scipy.integrate.quad(lambda x: current_point(a_t, x, I_star, exponent, c, scale), I_int_min, I)[0] for a_t in t]"
   ]
  },
  {
   "cell_type": "markdown",
   "id": "28807ff2",
   "metadata": {},
   "source": [
    "## A little test"
   ]
  },
  {
   "cell_type": "code",
   "execution_count": 4,
   "id": "f372be98",
   "metadata": {},
   "outputs": [],
   "source": [
    "I_min = 0.0\n",
    "I_max = 5.0\n",
    "I_0 = 4.7\n",
    "I_star = 21.5\n",
    "kappa = 0.33\n",
    "exponent = 1 / (2*kappa)\n",
    "\n",
    "c = 1/scipy.integrate.quad(lambda x: D(x, I_star, exponent), I_min, I_max)[0]"
   ]
  },
  {
   "cell_type": "code",
   "execution_count": 7,
   "id": "cdeb2ca7",
   "metadata": {},
   "outputs": [
    {
     "name": "stdout",
     "output_type": "stream",
     "text": [
      "peak time: 0.012644096863218062\n",
      "peak current: 16.273924818627584\n"
     ]
    }
   ],
   "source": [
    "print(\"peak time:\", current_peak_time(I_0, I_max, I_star, exponent, c))\n",
    "print(\"peak current:\", current_peak_value(I_0, I_max, I_star, exponent, c))"
   ]
  },
  {
   "cell_type": "code",
   "execution_count": 9,
   "id": "12c24ba4",
   "metadata": {},
   "outputs": [
    {
     "name": "stderr",
     "output_type": "stream",
     "text": [
      "<ipython-input-3-abcfc1428db2>:2: RuntimeWarning: divide by zero encountered in double_scalars\n",
      "  return np.exp(-2*np.power(I_star/I, exponent))\n"
     ]
    }
   ],
   "source": [
    "dt = current_peak_time(I_0, I_max, I_star, exponent, c)/1000\n",
    "samples = 10000\n",
    "I_linspace, dI = np.linspace(I_min, I_max, samples, retstep=True)\n",
    "sigma = dI * 5\n",
    "def rho_0(I):\n",
    "    return np.exp(-0.5 * (I - I_0)**2/sigma**2) / (sigma*np.sqrt(2*np.pi))\n",
    "engine = cn.cn_generic(I_min, I_max, rho_0(I_linspace), dt, lambda x: normed_D_half(x, I_star, exponent, c), normalize=False)\n",
    "times, current = engine.current(3000, 1)"
   ]
  },
  {
   "cell_type": "code",
   "execution_count": 10,
   "id": "e4acf78d",
   "metadata": {},
   "outputs": [
    {
     "data": {
      "application/vnd.jupyter.widget-view+json": {
       "model_id": "c3fc36da29474733ad9112e2eb32b464",
       "version_major": 2,
       "version_minor": 0
      },
      "text/plain": [
       "Canvas(toolbar=Toolbar(toolitems=[('Home', 'Reset original view', 'home', 'home'), ('Back', 'Back to previous …"
      ]
     },
     "metadata": {},
     "output_type": "display_data"
    },
    {
     "data": {
      "text/plain": [
       "Text(0, 0.5, 'Current')"
      ]
     },
     "execution_count": 10,
     "metadata": {},
     "output_type": "execute_result"
    }
   ],
   "source": [
    "plt.figure()\n",
    "plt.plot(times, current, label=\"Numerical integration\")\n",
    "plt.plot(times, [current_point(t, I_0, I_max, I_star, exponent, c) for t in times], label=\"Analytic estimation\")\n",
    "\n",
    "plt.axvline(current_peak_time(I_0, I_max, I_star, exponent, c), color='grey', alpha=0.5)\n",
    "plt.axhline(current_peak_value(I_0, I_max, I_star, exponent, c), color='grey', alpha=0.5)\n",
    "\n",
    "plt.legend()\n",
    "plt.xlabel(\"t\")\n",
    "plt.ylabel(\"Current\")"
   ]
  },
  {
   "cell_type": "markdown",
   "id": "f062dde4",
   "metadata": {},
   "source": [
    "### First fitting example on a single current peak (using both time and module)"
   ]
  },
  {
   "cell_type": "code",
   "execution_count": 11,
   "id": "3857fc8e",
   "metadata": {},
   "outputs": [],
   "source": [
    "def f(x, peak_time, peak_value, I_0, I_max, I_min=0):\n",
    "    #print(x)\n",
    "    c = 1/scipy.integrate.quad(lambda x: D(x, I_star, exponent), I_min, I_max)[0]\n",
    "    t = current_peak_time(I_0, I_max, x[0], x[1], c)\n",
    "    v = current_peak_value(I_0, I_max, x[0], x[1], c)\n",
    "    e1 = np.absolute(peak_time - t)/peak_time\n",
    "    e2 = np.absolute(peak_value - v)/peak_value\n",
    "    #print(np.sqrt(e1**2 + e2**2))\n",
    "    return np.sqrt(e1**2 + e2**2)"
   ]
  },
  {
   "cell_type": "code",
   "execution_count": 12,
   "id": "5a6c2678",
   "metadata": {},
   "outputs": [],
   "source": [
    "#I_min = 0.0\n",
    "#I_max = 5.0\n",
    "#I_0 = 4.8\n",
    "\n",
    "#I_0=6.4715 \n",
    "#I_max=6.536\n",
    "\n",
    "#I_0=2.15 \n",
    "#I_max=2.408\n",
    "\n",
    "#I_0=7.052000000000001 \n",
    "#I_max=7.181000000000002\n",
    "\n",
    "#I_star = 21.5\n",
    "#kappa = 0.33\n",
    "#exponent = 1 / (2*kappa)\n",
    "#c = 1/scipy.integrate.quad(lambda x: D(x, I_star, exponent), I_min, I_max)[0]"
   ]
  },
  {
   "cell_type": "code",
   "execution_count": 23,
   "id": "3665ee5e",
   "metadata": {},
   "outputs": [
    {
     "name": "stderr",
     "output_type": "stream",
     "text": [
      "<ipython-input-3-abcfc1428db2>:2: RuntimeWarning: divide by zero encountered in double_scalars\n",
      "  return np.exp(-2*np.power(I_star/I, exponent))\n"
     ]
    }
   ],
   "source": [
    "dt = current_peak_time(I_0, I_max, I_star, exponent, c)/1000\n",
    "samples = 50000\n",
    "\n",
    "I_linspace, dI = np.linspace(I_min, I_max, samples, retstep=True)\n",
    "sigma = dI * 50\n",
    "\n",
    "def rho_0(I):\n",
    "    return np.exp(-0.5 * (I - I_0)**2/sigma**2) / (sigma*np.sqrt(2*np.pi))\n",
    "\n",
    "engine = cn.cn_generic(I_min, I_max, rho_0(I_linspace), dt, lambda x: normed_D_half(x, I_star, exponent, c), normalize=False)\n",
    "times, current = engine.current(3000, 1)\n",
    "\n",
    "#plt.figure()\n",
    "#plt.plot(times, current)\n",
    "#plt.axvline(current_peak_time(I_0, I_max, I_star, exponent, c))\n",
    "#plt.axhline(current_peak_value(I_0, I_max, I_star, exponent, c))\n",
    "\n",
    "result = scipy.optimize.minimize(f, (I_star, exponent), args=(times[np.argmax(current)], np.max(current), I_0, I_max, I_min))"
   ]
  },
  {
   "cell_type": "code",
   "execution_count": 24,
   "id": "ebd0e00a",
   "metadata": {},
   "outputs": [
    {
     "data": {
      "application/vnd.jupyter.widget-view+json": {
       "model_id": "86500457e86a40d1a9f48c89db4e24b6",
       "version_major": 2,
       "version_minor": 0
      },
      "text/plain": [
       "Canvas(toolbar=Toolbar(toolitems=[('Home', 'Reset original view', 'home', 'home'), ('Back', 'Back to previous …"
      ]
     },
     "metadata": {},
     "output_type": "display_data"
    },
    {
     "name": "stdout",
     "output_type": "stream",
     "text": [
      "21.5 0.33\n",
      "15.697794121354432 0.2607418546138018\n",
      "--------\n",
      "0.012239485763595084\n",
      "0.012644096863218062\n",
      "0.012238649266515246\n",
      "--------\n",
      "17.486265687390503\n",
      "16.273924818627584\n",
      "17.484882636134103\n",
      "--------\n"
     ]
    },
    {
     "data": {
      "text/plain": [
       "      fun: 0.00010453092576911125\n",
       " hess_inv: array([[ 3.56636904, -0.36948029],\n",
       "       [-0.36948029,  0.03827873]])\n",
       "      jac: array([0.22819643, 2.2049504 ])\n",
       "  message: 'Desired error not necessarily achieved due to precision loss.'\n",
       "     nfev: 603\n",
       "      nit: 118\n",
       "     njev: 197\n",
       "   status: 2\n",
       "  success: False\n",
       "        x: array([15.69779412,  1.91760544])"
      ]
     },
     "execution_count": 24,
     "metadata": {},
     "output_type": "execute_result"
    }
   ],
   "source": [
    "plt.figure()\n",
    "plt.plot(times, current)\n",
    "plt.axvline(times[np.argmax(current)])\n",
    "plt.axhline(np.max(current))\n",
    "plt.axvline(current_peak_time(I_0, I_max, result.x[0], result.x[1], c), color=\"green\")\n",
    "plt.axhline(current_peak_value(I_0, I_max, result.x[0], result.x[1], c), color=\"green\")\n",
    "\n",
    "plt.plot(times, [current_point(t, I_0, I_max, I_star, exponent, c) for t in times], label=\"Analytic estimation\")\n",
    "plt.plot(times, [current_point(t, I_0, I_max, result.x[0], result.x[1], c) for t in times], label=\"Analytic estimation\")\n",
    "\n",
    "plt.axvline(current_peak_time(I_0, I_max, I_star, exponent, c), color='grey', alpha=0.5)\n",
    "plt.axhline(current_peak_value(I_0, I_max, I_star, exponent, c), color='grey', alpha=0.5)\n",
    "\n",
    "print(I_star, 1/exponent/2)\n",
    "print(result.x[0], 1/result.x[1]/2)\n",
    "print(\"--------\")\n",
    "print(times[np.argmax(current)])\n",
    "print(current_peak_time(I_0, I_max, I_star, exponent, c))\n",
    "print(current_peak_time(I_0, I_max, result.x[0], result.x[1], c))\n",
    "print(\"--------\")\n",
    "print(np.max(current))\n",
    "print(current_peak_value(I_0, I_max, I_star, exponent, c))\n",
    "print(current_peak_value(I_0, I_max, result.x[0], result.x[1], c))\n",
    "print(\"--------\")\n",
    "\n",
    "result"
   ]
  },
  {
   "cell_type": "code",
   "execution_count": 27,
   "id": "c3a1e79f",
   "metadata": {},
   "outputs": [
    {
     "data": {
      "application/vnd.jupyter.widget-view+json": {
       "model_id": "9926ffe3d4234900a2b76a1ef1a82658",
       "version_major": 2,
       "version_minor": 0
      },
      "text/plain": [
       "Canvas(toolbar=Toolbar(toolitems=[('Home', 'Reset original view', 'home', 'home'), ('Back', 'Back to previous …"
      ]
     },
     "metadata": {},
     "output_type": "display_data"
    },
    {
     "data": {
      "text/plain": [
       "[<matplotlib.lines.Line2D at 0x7fb084987160>]"
      ]
     },
     "execution_count": 27,
     "metadata": {},
     "output_type": "execute_result"
    }
   ],
   "source": [
    "plt.figure()\n",
    "data = engine.get_data_with_x()\n",
    "plt.plot(data[0], data[1])\n",
    "engine.reset()\n",
    "data = engine.get_data_with_x()\n",
    "plt.plot(data[0], data[1])\n",
    "engine.iterate(1)\n",
    "data = engine.get_data_with_x()\n",
    "plt.plot(data[0], data[1])\n"
   ]
  },
  {
   "cell_type": "markdown",
   "id": "09e9cace",
   "metadata": {},
   "source": [
    "## Let's try to go with the big guns"
   ]
  },
  {
   "cell_type": "code",
   "execution_count": 32,
   "id": "f33707a8",
   "metadata": {},
   "outputs": [],
   "source": [
    "I_min = 0.0\n",
    "I_star = 21.5\n",
    "kappa = 0.33\n",
    "exponent = 1 / (2*kappa)\n",
    "cn_samples = 10000\n",
    "c = 1/scipy.integrate.quad(lambda x: D(x, I_star, exponent), I_min, I_max)[0]"
   ]
  },
  {
   "cell_type": "code",
   "execution_count": 55,
   "id": "0a2bbdcb",
   "metadata": {},
   "outputs": [],
   "source": [
    "def f(x, peak_time, peak_value, I_0, I_max, I_min=0):\n",
    "    #print(x)\n",
    "    c = 1/scipy.integrate.quad(lambda x: D(x, I_star, exponent), I_min, I_max)[0]\n",
    "    t = current_peak_time(I_0, I_max, x[0], x[1], c)\n",
    "    v = current_peak_value(I_0, I_max, x[0], x[1], c)\n",
    "    e1 = np.absolute(peak_time - t)/peak_time\n",
    "    e2 = np.absolute(peak_value - v)/peak_value\n",
    "    #print(np.sqrt(e1**2 + e2**2))\n",
    "    return np.sqrt(e1**2 + e2**2)\n",
    "\n",
    "def compute_fittings(nI_0, nI_max):\n",
    "    I_max = nI_max * I_star\n",
    "    I_0 = nI_0 * I_star\n",
    "\n",
    "    I_linspace, dI = np.linspace(I_min, I_max, cn_samples, retstep=True)\n",
    "    sigma = dI * 15\n",
    "    def rho_0(I):\n",
    "        return np.exp(-0.5 * (I - I_0)**2/sigma**2) / (sigma*np.sqrt(2*np.pi))\n",
    "    dt = current_peak_time(I_0, I_max, I_star, exponent, c)/1000\n",
    "    engine = cn.cn_generic(I_min, I_max, rho_0(I_linspace), dt, lambda x: normed_D_half(x, I_star, exponent, c), normalize=False)\n",
    "    times, current = engine.current(2000, 1)\n",
    "\n",
    "    num_current_peak = np.max(current)\n",
    "    num_current_time = times[np.argmax(current)]\n",
    "\n",
    "    ana_current_peak = current_peak_value(I_0, I_max, I_star, exponent, c)\n",
    "    ana_current_time = current_peak_time(I_0, I_max, I_star, exponent, c)\n",
    "    result = scipy.optimize.minimize(f, (I_star, exponent), args=(num_current_time, num_current_peak, I_0, I_max, I_min))\n",
    "    fitted_I_star = result.x[0]\n",
    "    fitted_kappa = 1/result.x[1]/2\n",
    "    \n",
    "    return num_current_peak, num_current_time, ana_current_peak, ana_current_time, fitted_I_star, fitted_kappa"
   ]
  },
  {
   "cell_type": "code",
   "execution_count": 59,
   "id": "bc40a49d",
   "metadata": {},
   "outputs": [],
   "source": [
    "min_nI = 0.1\n",
    "max_nI = 0.5\n",
    "nI_samples = 41\n",
    "nI_samples_list, d_nI = np.linspace(min_nI, max_nI, nI_samples, retstep=True)"
   ]
  },
  {
   "cell_type": "code",
   "execution_count": 60,
   "id": "7612fa88",
   "metadata": {},
   "outputs": [],
   "source": [
    "index_list = list(itertools.combinations(range(nI_samples), 2))"
   ]
  },
  {
   "cell_type": "code",
   "execution_count": null,
   "id": "00d7ddac",
   "metadata": {},
   "outputs": [],
   "source": [
    "data = Parallel(n_jobs=4)(delayed(compute_fittings)(nI_samples_list[i[0]], nI_samples_list[i[1]]) for i in index_list)"
   ]
  },
  {
   "cell_type": "code",
   "execution_count": 52,
   "id": "4166f20a",
   "metadata": {},
   "outputs": [],
   "source": [
    "num_current_peak = np.empty((nI_samples, nI_samples)) * np.nan\n",
    "num_current_time = np.empty((nI_samples, nI_samples)) * np.nan\n",
    "\n",
    "ana_current_peak = np.empty((nI_samples, nI_samples)) * np.nan\n",
    "ana_current_time = np.empty((nI_samples, nI_samples)) * np.nan\n",
    "\n",
    "fitted_I_star = np.empty((nI_samples, nI_samples)) * np.nan\n",
    "fitted_kappa = np.empty((nI_samples, nI_samples)) * np.nan\n",
    "\n",
    "for i, j in enumerate(index_list):\n",
    "    num_current_peak[j[1], j[0]], num_current_time[j[1], j[0]], ana_current_peak[j[1], j[0]], ana_current_time[j[1], j[0]], fitted_I_star[j[1], j[0]], fitted_kappa[j[1], j[0]] = data[i]"
   ]
  },
  {
   "cell_type": "code",
   "execution_count": 54,
   "id": "c90344aa",
   "metadata": {},
   "outputs": [
    {
     "data": {
      "text/plain": [
       "array([[            nan,             nan,             nan,\n",
       "                    nan,             nan],\n",
       "       [ 3.50342276e-01,             nan,             nan,\n",
       "                    nan,             nan],\n",
       "       [ 7.00116346e-04,  2.69392112e-01,             nan,\n",
       "                    nan,             nan],\n",
       "       [ 3.32331012e-01,  2.59891791e-01, -2.39244723e-01,\n",
       "                    nan,             nan],\n",
       "       [ 2.84946675e-01, -1.79604717e+01, -1.27328299e-05,\n",
       "        -8.29678414e-06,             nan]])"
      ]
     },
     "execution_count": 54,
     "metadata": {},
     "output_type": "execute_result"
    }
   ],
   "source": [
    "fitted_kappa"
   ]
  },
  {
   "cell_type": "code",
   "execution_count": 141,
   "id": "4370f745",
   "metadata": {},
   "outputs": [
    {
     "data": {
      "text/plain": [
       "<matplotlib.colorbar.Colorbar at 0x7fefd29ff970>"
      ]
     },
     "execution_count": 141,
     "metadata": {},
     "output_type": "execute_result"
    },
    {
     "data": {
      "image/png": "[encoded data removed]",
      "text/plain": [
       "<Figure size 432x288 with 2 Axes>"
      ]
     },
     "metadata": {
      "needs_background": "light"
     },
     "output_type": "display_data"
    }
   ],
   "source": [
    "plt.figure()\n",
    "plt.imshow(fitted_I_star, origin=\"lower\", extent=[min_nI, max_nI, min_nI, max_nI])\n",
    "plt.colorbar()"
   ]
  },
  {
   "cell_type": "code",
   "execution_count": 139,
   "id": "a7c6af14",
   "metadata": {},
   "outputs": [
    {
     "data": {
      "text/plain": [
       "<matplotlib.colorbar.Colorbar at 0x7fefd281b610>"
      ]
     },
     "execution_count": 139,
     "metadata": {},
     "output_type": "execute_result"
    },
    {
     "data": {
      "image/png": "[encoded data removed]",
      "text/plain": [
       "<Figure size 432x288 with 2 Axes>"
      ]
     },
     "metadata": {
      "needs_background": "light"
     },
     "output_type": "display_data"
    }
   ],
   "source": [
    "plt.figure()\n",
    "plt.imshow(np.absolute(fitted_I_star-I_star)/I_star, origin=\"lower\", extent=[min_nI, max_nI, min_nI, max_nI])\n",
    "plt.colorbar()"
   ]
  },
  {
   "cell_type": "code",
   "execution_count": 140,
   "id": "d52ac924",
   "metadata": {},
   "outputs": [
    {
     "data": {
      "text/plain": [
       "<matplotlib.colorbar.Colorbar at 0x7fefd38bb970>"
      ]
     },
     "execution_count": 140,
     "metadata": {},
     "output_type": "execute_result"
    },
    {
     "data": {
      "image/png": "[encoded data removed]",
      "text/plain": [
       "<Figure size 432x288 with 2 Axes>"
      ]
     },
     "metadata": {
      "needs_background": "light"
     },
     "output_type": "display_data"
    }
   ],
   "source": [
    "plt.figure()\n",
    "plt.imshow(np.absolute(fitted_kappa-kappa)/kappa, origin=\"lower\", extent=[min_nI, max_nI, min_nI, max_nI])\n",
    "plt.colorbar()"
   ]
  },
  {
   "cell_type": "code",
   "execution_count": 104,
   "id": "e58a863a",
   "metadata": {},
   "outputs": [
    {
     "data": {
      "text/plain": [
       "<matplotlib.colorbar.Colorbar at 0x7fefd1d3a160>"
      ]
     },
     "execution_count": 104,
     "metadata": {},
     "output_type": "execute_result"
    },
    {
     "data": {
      "image/png": "[encoded data removed]",
      "text/plain": [
       "<Figure size 432x288 with 2 Axes>"
      ]
     },
     "metadata": {
      "needs_background": "light"
     },
     "output_type": "display_data"
    }
   ],
   "source": [
    "plt.figure()\n",
    "plt.imshow(fitted_kappa, origin=\"lower\", extent=[min_nI, max_nI, min_nI, max_nI])\n",
    "plt.colorbar()"
   ]
  },
  {
   "cell_type": "code",
   "execution_count": 71,
   "id": "efe689fd",
   "metadata": {},
   "outputs": [
    {
     "data": {
      "text/plain": [
       "<matplotlib.colorbar.Colorbar at 0x7fefd2d4fdc0>"
      ]
     },
     "execution_count": 71,
     "metadata": {},
     "output_type": "execute_result"
    },
    {
     "data": {
      "image/png": "[encoded data removed]",
      "text/plain": [
       "<Figure size 432x288 with 2 Axes>"
      ]
     },
     "metadata": {
      "needs_background": "light"
     },
     "output_type": "display_data"
    }
   ],
   "source": [
    "plt.figure()\n",
    "plt.contourf(np.log(num_current_peak), origin=\"lower\", extent=[min_nI, max_nI, min_nI, max_nI])\n",
    "#plt.imshow(np.absolute(num_current_peak-ana_current_peak)/num_current_peak)\n",
    "plt.colorbar()"
   ]
  },
  {
   "cell_type": "code",
   "execution_count": 72,
   "id": "afb7a3c1",
   "metadata": {},
   "outputs": [
    {
     "data": {
      "text/plain": [
       "<matplotlib.colorbar.Colorbar at 0x7fefd2c8a6d0>"
      ]
     },
     "execution_count": 72,
     "metadata": {},
     "output_type": "execute_result"
    },
    {
     "data": {
      "image/png": "[encoded data removed]",
      "text/plain": [
       "<Figure size 432x288 with 2 Axes>"
      ]
     },
     "metadata": {
      "needs_background": "light"
     },
     "output_type": "display_data"
    }
   ],
   "source": [
    "plt.figure()\n",
    "plt.contourf(np.absolute(num_current_peak-ana_current_peak)/num_current_peak, origin=\"lower\", extent=[min_nI, max_nI, min_nI, max_nI])\n",
    "#plt.imshow(np.absolute(num_current_peak-ana_current_peak)/num_current_peak)\n",
    "plt.colorbar()"
   ]
  },
  {
   "cell_type": "code",
   "execution_count": 73,
   "id": "bf87a397",
   "metadata": {},
   "outputs": [
    {
     "data": {
      "text/plain": [
       "<matplotlib.colorbar.Colorbar at 0x7fefd33454f0>"
      ]
     },
     "execution_count": 73,
     "metadata": {},
     "output_type": "execute_result"
    },
    {
     "data": {
      "image/png": "[encoded data removed]",
      "text/plain": [
       "<Figure size 432x288 with 2 Axes>"
      ]
     },
     "metadata": {
      "needs_background": "light"
     },
     "output_type": "display_data"
    }
   ],
   "source": [
    "plt.figure()\n",
    "plt.contourf(np.log(num_current_time), origin=\"lower\", extent=[min_nI, max_nI, min_nI, max_nI])\n",
    "#plt.imshow(np.absolute(num_current_peak-ana_current_peak)/num_current_peak)\n",
    "plt.colorbar()"
   ]
  },
  {
   "cell_type": "code",
   "execution_count": 74,
   "id": "96137c46",
   "metadata": {},
   "outputs": [
    {
     "data": {
      "text/plain": [
       "<matplotlib.colorbar.Colorbar at 0x7fefd3f50400>"
      ]
     },
     "execution_count": 74,
     "metadata": {},
     "output_type": "execute_result"
    },
    {
     "data": {
      "image/png": "[encoded data removed]",
      "text/plain": [
       "<Figure size 432x288 with 2 Axes>"
      ]
     },
     "metadata": {
      "needs_background": "light"
     },
     "output_type": "display_data"
    }
   ],
   "source": [
    "plt.figure()\n",
    "plt.contourf(np.absolute(num_current_time-ana_current_time)/num_current_time, origin=\"lower\", extent=[min_nI, max_nI, min_nI, max_nI])\n",
    "#plt.imshow(np.absolute(num_current_peak-ana_current_peak)/num_current_peak)\n",
    "plt.colorbar()"
   ]
  },
  {
   "cell_type": "code",
   "execution_count": null,
   "id": "98220f79",
   "metadata": {},
   "outputs": [],
   "source": []
  }
 ],
 "metadata": {
  "kernelspec": {
   "display_name": "Python 3",
   "language": "python",
   "name": "python3"
  },
  "language_info": {
   "codemirror_mode": {
    "name": "ipython",
    "version": 3
   },
   "file_extension": ".py",
   "mimetype": "text/x-python",
   "name": "python",
   "nbconvert_exporter": "python",
   "pygments_lexer": "ipython3",
   "version": "3.8.8"
  }
 },
 "nbformat": 4,
 "nbformat_minor": 5
}
