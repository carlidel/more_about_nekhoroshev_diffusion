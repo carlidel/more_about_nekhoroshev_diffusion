get_ipython().run_line_magic("pip", " install --user crank-nicolson-numba")


get_ipython().run_line_magic("matplotlib", " widget")


import numpy as np
import matplotlib.pyplot as plt
import scipy
import scipy.integrate
from tqdm.notebook import tqdm
import crank_nicolson_numba.generic as cn
import itertools
# For parallelization
from joblib import Parallel, delayed

import nekhoroshev_tools as nt


def rho_0(I, damping_position=np.nan, l=np.nan):
    if np.isnan(damping_position) or np.isnan(l):
        return np.exp(-I)
    else:
        return np.exp(-I) / (1 + np.exp((I - damping_position)/l))


plt.figure()
I = np.linspace(0, 5, 1000)
plt.plot(I, rho_0(I, 4, 0.01))


I_damping = 9.8
I_max = 10.0
I_star = 20.0
k = 0.33
exponent = 1/(2*k)

c = nt.standard_c(0.0, I_max, I_star, exponent)


cn_sampling = 50000
I_list, dI = np.linspace(0.0, I_max, cn_sampling, retstep=True)

cn_time_steps = 1000
dt = nt.current_peak_time(I_damping, I_max, I_star, exponent, c)/cn_time_steps


engine = cn.cn_generic(0, I_max, rho_0(I_list, I_damping, dI*5), dt, lambda x: nt.D(x, I_star, exponent, c, True))


plt.figure()

engine.reset()

data0 = engine.get_data_with_x()
#plt.plot(data[0], data[1])

engine.iterate(1000)
data1 = engine.get_data_with_x()
#plt.plot(data[0], data[1])
plt.plot(data0[0], data0[1] - data1[1])


integration_I_min = 3.0


engine.reset()
print("Crank Nicolson")
times, current = engine.current(50, 100)
print("Analytic")
ana_current = nt.current_generic(times, lambda x: rho_0(x, I_damping, dI*5), I_max, integration_I_min, I_star, exponent, c)


plt.figure()
plt.plot(times, current)
plt.plot(times, ana_current)
plt.axvline(nt.current_peak_time(I_damping, I_max, I_star, exponent, c), c="grey")
plt.axvline(times[np.argmax(ana_current)], c="black")


engine.reset()
times, current = engine.current(100, 1000, False)
plt.figure()
plt.plot(times, current)


def generic_current_derivative(t, I_damping, I_max, I_star, exponent, c, I_min=0.0):
    return scipy.integrate.quad(
        lambda x: nt.current_derivative(t, x, I_max, I_star, exponent, c) * rho_0(x, I_damping, dI*5), I_min, I_max)[0]


generic_current_derivative(nt.current_peak_time(I_damping, I_max, I_star, exponent, c), I_damping, I_max, I_star, exponent, c, 1.0)


scipy.optimize.fmin(
    lambda x: np.absolute(generic_current_derivative(x, I_damping, I_max, I_star, exponent, c, 1.0)),
    nt.current_peak_time(I_damping, I_max, I_star, exponent, c)
)


def single_fit_routine(x, peak_time, peak_value, I_0, I_max, I_star, exponent, I_min=0):
    c = 1/scipy.integrate.quad(lambda I: nt.D(I, I_star, exponent), I_min, I_max)[0]
    t0 = nt.current_peak_time(I_0, I_max, x[0], x[1], c)
    t_m = scipy.optimize.fmin(
        lambda q : -nt.current_generic(np.array([q]), lambda I: rho_0(I, I_0, dI*5), I_max, I_min, x[0], x[1], c)[0],
        t0
    )
    print(t0, peak_time, t_m[0])
    v = nt.current_generic(t_m, lambda x: rho_0(x, I_0, dI*5), I_max, I_min, x[0], x[1], c)
    e1 = np.absolute(peak_time - t_m)/peak_time
    e2 = np.absolute(peak_value - v)/peak_value
    print(x, np.sqrt(e1**2 + e2**2))
    return np.sqrt(e1**2 + e2**2)


single_fit_routine([I_star, exponent], times[np.argmax(current)], np.max(current), I_damping, I_max, I_star, exponent, I_min=5.0)


result = scipy.optimize.minimize(
    lambda x: single_fit_routine(x, times[np.argmax(current)], np.max(current), I_damping, I_max, I_star, exponent, I_min=5.0),
    [I_star, exponent]
)
result


print(I_star, exponent)
print(result)
1/result.x[1]/2


def single_fit_routine(x, peak_time, peak_value, I_0, I_max, I_star, exponent, I_min=0):
    c = 1/scipy.integrate.quad(lambda I: nt.D(I, I_star, exponent), I_min, I_max)[0]
    t0 = nt.current_peak_time(I_0, I_max, x[0], x[1], c)
    t_m = scipy.optimize.fmin(
        lambda q : -nt.current_generic(np.array([q]), lambda I: rho_0(I, I_0, dI*5), I_max, I_min, x[0], x[1], c)[0],
        t0
    )
    print(t0, peak_time, t_m[0])
    v = nt.current_generic(t_m, lambda x: rho_0(x, I_0, dI*5), I_max, I_min, x[0], x[1], c)
    e1 = np.absolute(peak_time - t_m)/peak_time
    e2 = np.absolute(peak_value - v)/peak_value
    print(x, np.sqrt(e1**2 + e2**2))
    return np.sqrt(e1**2 + e2**2)



