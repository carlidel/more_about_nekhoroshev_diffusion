{
 "cells": [
  {
   "cell_type": "code",
   "execution_count": 1,
   "metadata": {},
   "outputs": [],
   "source": [
    "%matplotlib inline"
   ]
  },
  {
   "cell_type": "code",
   "execution_count": 1,
   "metadata": {},
   "outputs": [],
   "source": [
    "import pickle\n",
    "import numpy as np\n",
    "import matplotlib\n",
    "import matplotlib.pyplot as plt\n",
    "from matplotlib import gridspec\n",
    "import scipy\n",
    "import scipy.integrate\n",
    "import scipy.interpolate\n",
    "from tqdm.notebook import tqdm\n",
    "import crank_nicolson_numba.generic as cn\n",
    "import itertools\n",
    "import os\n",
    "import multiprocessing\n",
    "import json\n",
    "# For parallelization\n",
    "from joblib import Parallel, delayed\n",
    "\n",
    "import lmfit\n",
    "import nekhoroshev_tools as nt\n",
    "\n",
    "from working_experiment_script.working_experiment_functions import *"
   ]
  },
  {
   "cell_type": "code",
   "execution_count": 2,
   "metadata": {},
   "outputs": [],
   "source": [
    "plt.rc('text', usetex=True)\n",
    "plt.rc('font', family='serif')\n",
    "matplotlib.rcParams['text.latex.preamble'] = r'\\usepackage{amsmath}'"
   ]
  },
  {
   "cell_type": "code",
   "execution_count": 6,
   "metadata": {},
   "outputs": [],
   "source": [
    "FIGPATH = \"ext_fig/\""
   ]
  },
  {
   "cell_type": "code",
   "execution_count": 7,
   "metadata": {},
   "outputs": [
    {
     "data": {
      "text/plain": [
       "'fig/'"
      ]
     },
     "execution_count": 7,
     "metadata": {},
     "output_type": "execute_result"
    }
   ],
   "source": [
    "FIGPATH"
   ]
  },
  {
   "cell_type": "code",
   "execution_count": 16,
   "metadata": {},
   "outputs": [],
   "source": [
    "FIGPATH = \"../PAPER_DIFFUSION/figs/\"\n"
   ]
  },
  {
   "cell_type": "code",
   "execution_count": 4,
   "metadata": {},
   "outputs": [],
   "source": [
    "with open(\"working_experiment_script/full_dict.pkl\", 'rb') as f:\n",
    "    full_dict = pickle.load(f)"
   ]
  },
  {
   "cell_type": "code",
   "execution_count": 5,
   "metadata": {},
   "outputs": [
    {
     "name": "stdout",
     "output_type": "stream",
     "text": [
      "Before deletion:  dict_keys([28.000000000000004, 10.0, 10.000000000000002, 12.000000000000002, 14.0, 14.000000000000004, 16.0, 16.000000000000007, 18.000000000000004, 20.0, 20.000000000000004, 22.0, 22.000000000000007, 24.0, 24.000000000000007, 26.0, 26.000000000000007, 28.000000000000007, 30.0, 4.0, 6.000000000000001, 8.0, 8.000000000000002])\n",
      "After deletion:  dict_keys([28.000000000000004, 10.0, 12.000000000000002, 14.0, 16.0, 18.000000000000004, 20.0, 22.0, 24.0, 26.0, 30.0, 4.0, 6.000000000000001, 8.0])\n"
     ]
    }
   ],
   "source": [
    "print(\"Before deletion: \", full_dict.keys())\n",
    "to_delete = []\n",
    "for i in full_dict:\n",
    "    if len(full_dict[i]) < 3:\n",
    "        to_delete.append(i)\n",
    "for i in to_delete:    \n",
    "    del full_dict[i]\n",
    "print(\"After deletion: \", full_dict.keys())"
   ]
  },
  {
   "cell_type": "code",
   "execution_count": 11,
   "metadata": {},
   "outputs": [
    {
     "name": "stdout",
     "output_type": "stream",
     "text": [
      "I_max positions:  dict_keys([10.0, 12.000000000000002, 14.0, 16.0, 18.000000000000004, 20.0, 22.0, 24.0, 26.0, 28.000000000000004, 30.0, 4.0, 6.000000000000001, 8.0])\n",
      "barrier steps:  dict_keys([0.02, 0.1, 0.2, 1.0])\n",
      "fraction considered:  dict_keys([0.001, 0.005, 0.01, 0.05, 0.1, 0.5, 1.0])\n",
      "Data filters available:  dict_keys(['info', (1.0, 0.001), (1.0, 0.01), (1.0, 0.1), (1.0, 0.5), (inf, 0.001), (inf, 0.01), (inf, 0.1), (inf, 0.5)])\n",
      "Fit kinds:  dict_keys(['all', 'backward_only', 'forward_only'])\n",
      "Accessing data: \n"
     ]
    },
    {
     "data": {
      "text/html": [
       "<table><tr><th> name </th><th> value </th><th> standard error </th><th> relative error </th><th> initial value </th><th> min </th><th> max </th><th> vary </th></tr><tr><td> I_star </td><td>  19.1939026 </td><td>  0.13173402 </td><td> (0.69%) </td><td> 20.0 </td><td>  0.10000000 </td><td>         inf </td><td> True </td></tr><tr><td> k </td><td>  0.34868529 </td><td>  0.00565947 </td><td> (1.62%) </td><td> 0.33 </td><td>  0.00000000 </td><td>         inf </td><td> True </td></tr><tr><td> c </td><td>  330.998299 </td><td>  0.00000000 </td><td> (0.00%) </td><td> 330.99829890330193 </td><td>        -inf </td><td>         inf </td><td> False </td></tr></table>"
      ],
      "text/plain": [
       "Parameters([('I_star',\n",
       "             <Parameter 'I_star', value=19.193902612135002 +/- 0.132, bounds=[0.1:inf]>),\n",
       "            ('k',\n",
       "             <Parameter 'k', value=0.3486852938672311 +/- 0.00566, bounds=[0.0:inf]>),\n",
       "            ('c',\n",
       "             <Parameter 'c', value=330.99829890330193 (fixed), bounds=[-inf:inf]>)])"
      ]
     },
     "execution_count": 11,
     "metadata": {},
     "output_type": "execute_result"
    }
   ],
   "source": [
    "print(\"I_max positions: \", full_dict.keys())\n",
    "print(\"barrier steps: \", full_dict[10.0].keys())\n",
    "print(\"fraction considered: \", full_dict[10.0][1.0].keys())\n",
    "print(\"Data filters available: \", full_dict[10.0][1.0][0.5].keys())\n",
    "print(\"Fit kinds: \", full_dict[10.0][1.0][0.5][np.inf, 0.5].keys())\n",
    "print(\"Accessing data: \")\n",
    "full_dict[10.0][1.0][0.5][np.inf, 0.5][\"all\"].params\n"
   ]
  },
  {
   "cell_type": "code",
   "execution_count": 12,
   "metadata": {},
   "outputs": [
    {
     "name": "stdout",
     "output_type": "stream",
     "text": [
      "0.3486852938672311\n",
      "19.193902612135002\n"
     ]
    }
   ],
   "source": [
    "print(full_dict[10.0][1.0][0.5][np.inf, 0.5][\"all\"].params[\"k\"].value)\n",
    "print(full_dict[10.0][1.0][0.5][np.inf, 0.5][\"all\"].params[\"I_star\"].value)"
   ]
  },
  {
   "cell_type": "code",
   "execution_count": 14,
   "metadata": {},
   "outputs": [],
   "source": [
    "figsize = (7, 4)\n",
    "figsize_compressed = (7, 3)\n",
    "figsize_compressed_half = (7, 3.5)\n",
    "figsize_large = (7, 5)"
   ]
  },
  {
   "cell_type": "markdown",
   "metadata": {},
   "source": [
    "# Plotting all fit results"
   ]
  },
  {
   "cell_type": "markdown",
   "metadata": {},
   "source": [
    "## Different relaxation times"
   ]
  },
  {
   "cell_type": "code",
   "execution_count": 22,
   "metadata": {},
   "outputs": [
    {
     "data": {
      "image/png": "[encoded data removed]",
      "text/plain": [
       "<Figure size 504x252 with 4 Axes>"
      ]
     },
     "metadata": {
      "needs_background": "light"
     },
     "output_type": "display_data"
    }
   ],
   "source": [
    "I_max = 8.0\n",
    "b_step = 0.1\n",
    "fraction = 0.5\n",
    "f = (np.inf, 0.5)\n",
    "f_bis = (1.0, 0.5)\n",
    "fit_kind = \"forward_only\"\n",
    "\n",
    "fig, (ax, ax2) = plt.subplots(2, 1, sharex=True, figsize=figsize_compressed_half)\n",
    "\n",
    "ax_bis = ax.twinx()\n",
    "ax2_bis = ax2.twinx()\n",
    "\n",
    "data_x = []\n",
    "data_k = []\n",
    "data_I = []\n",
    "data_x_all = []\n",
    "data_k_all = []\n",
    "data_I_all = []\n",
    "data_x_back = []\n",
    "data_k_back = []\n",
    "data_I_back = []\n",
    "\n",
    "tmp = full_dict[I_max][b_step]\n",
    "for i in tmp:\n",
    "    if fit_kind in tmp[i][f]:\n",
    "        # print(i)\n",
    "        data_x.append(i)\n",
    "        data_x_all.append(i)\n",
    "        data_x_back.append(i)\n",
    "        data_k.append(tmp[i][f][fit_kind].params[\"k\"].value)\n",
    "        data_I.append(tmp[i][f][fit_kind].params[\"I_star\"].value)\n",
    "        if \"all\" in tmp[i][f_bis]:\n",
    "            data_k_all.append(tmp[i][f_bis][\"all\"].params[\"k\"].value)\n",
    "            data_I_all.append(tmp[i][f_bis][\"all\"].params[\"I_star\"].value)\n",
    "        else:\n",
    "            data_k_all.append(np.nan)\n",
    "            data_I_all.append(np.nan)\n",
    "        if \"backward_only\" in tmp[i][f_bis]:\n",
    "            data_k_back.append(tmp[i][f_bis][\"backward_only\"].params[\"k\"].value)\n",
    "            data_I_back.append(tmp[i][f_bis][\"backward_only\"].params[\"I_star\"].value)\n",
    "        else:\n",
    "            data_k_back.append(np.nan)\n",
    "            data_I_back.append(np.nan)\n",
    "\n",
    "data_k = [x for _, x in sorted(zip(data_x, data_k))]\n",
    "data_I = [x for _, x in sorted(zip(data_x, data_I))]\n",
    "data_x = sorted(data_x)\n",
    "\n",
    "data_k_all = [x for _, x in sorted(zip(data_x_all, data_k_all))]\n",
    "data_I_all = [x for _, x in sorted(zip(data_x_all, data_I_all))]\n",
    "data_x_all = sorted(data_x_all)\n",
    "\n",
    "data_k_back = [x for _, x in sorted(zip(data_x_back, data_k_back))]\n",
    "data_I_back = [x for _, x in sorted(zip(data_x_back, data_I_back))]\n",
    "data_x_back = sorted(data_x_back)\n",
    "\n",
    "ax.axhline(0.33, c=\"grey\", label=\"True value\", linestyle=\"dashed\")\n",
    "ax.scatter(np.arange(len(data_k)), data_k, label=\"Outward currents only\")\n",
    "ax.scatter(np.arange(len(data_k_all)), data_k_all, marker=\"^\", label=\"All curves\")\n",
    "ax.scatter(np.arange(len(data_k_back)), data_k_back, marker=\"*\", label=\"Inward currents only\")\n",
    "\n",
    "ax.legend(ncol=2, frameon=False)\n",
    "\n",
    "mn, mx = ax.get_ylim()\n",
    "ax_bis.set_ylim(mn/0.33 - 1, mx/0.33 - 1)\n",
    "\n",
    "ax2.axhline(20.0, c=\"grey\", linestyle=\"dashed\")\n",
    "ax2.scatter(np.arange(len(data_I)), data_I)\n",
    "ax2.scatter(np.arange(len(data_I_all)), data_I_all, marker=\"^\")\n",
    "ax2.scatter(np.arange(len(data_I_back)), data_I_back, marker=\"*\")\n",
    "\n",
    "mn, mx = ax2.get_ylim()\n",
    "ax2_bis.set_ylim(mn/20.0 - 1, mx/20.0 - 1)\n",
    "\n",
    "ax.set_xticks(np.arange(len(data_k)))\n",
    "ax.set_xticklabels(data_x)\n",
    "\n",
    "ax2.set_xlabel(\"Fraction of standard relaxation time elapsed\")\n",
    "ax.set_ylabel(\"$k$\")\n",
    "ax2.set_ylabel(\"$I_\\\\ast$\")\n",
    "ax_bis.set_ylabel(\"Relative difference\")\n",
    "ax2_bis.set_ylabel(\"Relative difference\")\n",
    "\n",
    "#ax.set_title(\"Fit performance for different elapsed relaxation times\")\n",
    "\n",
    "plt.tight_layout()\n",
    "plt.subplots_adjust(hspace=.0)\n",
    "plt.setp(ax.get_xticklabels(), visible=False)\n",
    "\n",
    "plt.savefig(os.path.join(FIGPATH, \"all_different_time.pdf\"), dpi=600, pad_inches=0.0)\n"
   ]
  },
  {
   "cell_type": "code",
   "execution_count": 34,
   "metadata": {},
   "outputs": [
    {
     "data": {
      "image/png": "[encoded data removed]",
      "text/plain": [
       "<Figure size 504x252 with 4 Axes>"
      ]
     },
     "metadata": {
      "needs_background": "light"
     },
     "output_type": "display_data"
    }
   ],
   "source": [
    "I_max = 8.0\n",
    "b_step = 0.1\n",
    "fraction = 0.5\n",
    "f = (np.inf, 0.1)\n",
    "f_bis = (1.0, 0.5)\n",
    "fit_kind = \"forward_only\"\n",
    "\n",
    "fig, (ax, ax2) = plt.subplots(2, 1, sharex=True, figsize=figsize_compressed_half)\n",
    "\n",
    "ax_bis = ax.twinx()\n",
    "ax2_bis = ax2.twinx()\n",
    "\n",
    "data_x = []\n",
    "data_k = []\n",
    "data_I = []\n",
    "data_x_all = []\n",
    "data_k_all = []\n",
    "data_I_all = []\n",
    "data_x_back = []\n",
    "data_k_back = []\n",
    "data_I_back = []\n",
    "\n",
    "tmp = full_dict[I_max][b_step]\n",
    "for i in tmp:\n",
    "    if fit_kind in tmp[i][f]:\n",
    "        # print(i)\n",
    "        data_x.append(i)\n",
    "        data_x_all.append(i)\n",
    "        data_x_back.append(i)\n",
    "        data_k.append(tmp[i][f][fit_kind].params[\"k\"].value)\n",
    "        data_I.append(tmp[i][f][fit_kind].params[\"I_star\"].value)\n",
    "        if \"all\" in tmp[i][f_bis]:\n",
    "            data_k_all.append(tmp[i][f_bis][\"all\"].params[\"k\"].value)\n",
    "            data_I_all.append(tmp[i][f_bis][\"all\"].params[\"I_star\"].value)\n",
    "        else:\n",
    "            data_k_all.append(np.nan)\n",
    "            data_I_all.append(np.nan)\n",
    "        if \"backward_only\" in tmp[i][f_bis]:\n",
    "            data_k_back.append(tmp[i][f_bis][\"backward_only\"].params[\"k\"].value)\n",
    "            data_I_back.append(tmp[i][f_bis][\"backward_only\"].params[\"I_star\"].value)\n",
    "        else:\n",
    "            data_k_back.append(np.nan)\n",
    "            data_I_back.append(np.nan)\n",
    "\n",
    "data_k = [x for _, x in sorted(zip(data_x, data_k))]\n",
    "data_I = [x for _, x in sorted(zip(data_x, data_I))]\n",
    "data_x = sorted(data_x)\n",
    "\n",
    "data_k_all = [x for _, x in sorted(zip(data_x_all, data_k_all))]\n",
    "data_I_all = [x for _, x in sorted(zip(data_x_all, data_I_all))]\n",
    "data_x_all = sorted(data_x_all)\n",
    "\n",
    "data_k_back = [x for _, x in sorted(zip(data_x_back, data_k_back))]\n",
    "data_I_back = [x for _, x in sorted(zip(data_x_back, data_I_back))]\n",
    "data_x_back = sorted(data_x_back)\n",
    "\n",
    "ax.axhline(0.33, c=\"grey\", label=\"True value\", linestyle=\"--\")\n",
    "ax.scatter(np.arange(len(data_k)), data_k, label=\"Outward currents only\")\n",
    "# ax.scatter(np.arange(len(data_k_all)), data_k_all, marker=\"x\", label=\"All curves\")\n",
    "# ax.scatter(np.arange(len(data_k_back)), data_k_back, marker=\"*\", label=\"Inward currents only\")\n",
    "\n",
    "ax.legend(frameon=False, fontsize=\"small\")\n",
    "\n",
    "mn, mx = ax.get_ylim()\n",
    "ax_bis.set_ylim(mn/0.33 - 1, mx/0.33 - 1)\n",
    "\n",
    "ax2.axhline(20.0, c=\"grey\", linestyle=\"--\")\n",
    "ax2.scatter(np.arange(len(data_I)), data_I)\n",
    "# ax2.scatter(np.arange(len(data_I_all)), data_I_all, marker=\"x\")\n",
    "# ax2.scatter(np.arange(len(data_I_back)), data_I_back, marker=\"*\")\n",
    "\n",
    "mn, mx = ax2.get_ylim()\n",
    "ax2_bis.set_ylim(mn/20.0 - 1, mx/20.0 - 1)\n",
    "\n",
    "ax.set_xticks(np.arange(len(data_k)))\n",
    "ax.set_xticklabels(data_x)\n",
    "\n",
    "ax2.set_xlabel(\"Fraction of ideal relaxation time elapsed\")\n",
    "ax.set_ylabel(\"$k$\")\n",
    "ax2.set_ylabel(\"$I_\\\\ast$\")\n",
    "ax_bis.set_ylabel(\"Relative difference\")\n",
    "ax2_bis.set_ylabel(\"Relative difference\")\n",
    "\n",
    "#ax.set_title(\"Fit performance for different elapsed relaxation times\")\n",
    "\n",
    "plt.tight_layout()\n",
    "plt.subplots_adjust(hspace=.0)\n",
    "plt.setp(ax.get_xticklabels(), visible=False)\n",
    "\n",
    "plt.savefig(os.path.join(FIGPATH, \"different_time.pdf\"), dpi=600, pad_inches=0.0)\n"
   ]
  },
  {
   "cell_type": "code",
   "execution_count": 30,
   "metadata": {},
   "outputs": [
    {
     "data": {
      "image/png": "[encoded data removed]",
      "text/plain": [
       "<Figure size 504x252 with 4 Axes>"
      ]
     },
     "metadata": {
      "needs_background": "light"
     },
     "output_type": "display_data"
    }
   ],
   "source": [
    "I_max = 10.0\n",
    "b_step = 0.1\n",
    "fraction = 0.5\n",
    "f = (np.inf, 0.5)\n",
    "fit_kind = \"forward_only\"\n",
    "\n",
    "fig, (ax, ax2) = plt.subplots(2, 1, sharex=True, figsize=figsize_compressed_half)\n",
    "\n",
    "ax_bis = ax.twinx()\n",
    "ax2_bis = ax2.twinx()\n",
    "\n",
    "data_x = []\n",
    "data_k = []\n",
    "data_I = []\n",
    "data_x_all = []\n",
    "data_k_all = []\n",
    "data_I_all = []\n",
    "data_x_back = []\n",
    "data_k_back = []\n",
    "data_I_back = []\n",
    "\n",
    "tmp = full_dict[I_max][b_step][fraction]\n",
    "for i in tmp:\n",
    "    if type(i) == int:\n",
    "        continue\n",
    "    #print(i, fit_kind in tmp, tmp.keys())\n",
    "    i_bis = (1.0, i[1])\n",
    "    if fit_kind in tmp[i]:\n",
    "        data_x.append(i[1])\n",
    "        data_k.append(tmp[i][fit_kind].params[\"k\"].value)\n",
    "        data_I.append(tmp[i][fit_kind].params[\"I_star\"].value)\n",
    "        if \"all\" in tmp[i_bis]:\n",
    "            data_k_all.append(tmp[i_bis][\"all\"].params[\"k\"].value)\n",
    "            data_I_all.append(tmp[i_bis][\"all\"].params[\"I_star\"].value)\n",
    "        else:\n",
    "            data_k_all.append(np.nan)\n",
    "            data_I_all.append(np.nan)\n",
    "        if \"backward_only\" in tmp[i_bis]:\n",
    "            data_k_back.append(tmp[i_bis][\"backward_only\"].params[\"k\"].value)\n",
    "            data_I_back.append(\n",
    "                tmp[i_bis][\"backward_only\"].params[\"I_star\"].value)\n",
    "        else:\n",
    "            data_k_all.append(np.nan)\n",
    "            data_I_all.append(np.nan)\n",
    "\n",
    "data_k = [x for _, x in sorted(zip(data_x, data_k))]\n",
    "data_I = [x for _, x in sorted(zip(data_x, data_I))]\n",
    "data_x = sorted(data_x)\n",
    "\n",
    "ax.axhline(0.33, c=\"grey\", label=\"True value\", linestyle=\"--\")\n",
    "ax.scatter(np.arange(len(data_k)), data_k, label=\"Outward currents only\")\n",
    "# ax.scatter(np.arange(len(data_k_all)), data_k_all, marker=\"x\", label=\"All curves\")\n",
    "# ax.scatter(np.arange(len(data_k_back)), data_k_back, marker=\"*\", label=\"Inward currents only\")\n",
    "\n",
    "ax.legend(frameon=False, loc=\"lower right\")\n",
    "\n",
    "mn, mx = ax.get_ylim()\n",
    "ax_bis.set_ylim(mn/0.33 - 1, mx/0.33 - 1)\n",
    "\n",
    "ax2.axhline(20.0, c=\"grey\", linestyle=\"--\")\n",
    "ax2.scatter(np.arange(len(data_I)), data_I)\n",
    "# ax2.scatter(np.arange(len(data_I_all)), data_I_all, marker=\"x\")\n",
    "# ax2.scatter(np.arange(len(data_I_back)), data_I_back, marker=\"*\")\n",
    "\n",
    "mn, mx = ax2.get_ylim()\n",
    "ax2_bis.set_ylim(mn/20.0 - 1, mx/20.0 - 1)\n",
    "\n",
    "ax.set_xticks(np.arange(len(data_k)))\n",
    "ax.set_xticklabels(data_x)\n",
    "\n",
    "ax2.set_xlabel(\"Current recovery cutting point [relative current module]\")\n",
    "ax.set_ylabel(\"$k$\")\n",
    "ax2.set_ylabel(\"$I_\\\\ast$\")\n",
    "ax_bis.set_ylabel(\"Relative difference\")\n",
    "ax2_bis.set_ylabel(\"Relative difference\")\n",
    "\n",
    "#ax.set_title(\"Fit performance for different recovery cutting points\")\n",
    "\n",
    "plt.tight_layout()\n",
    "plt.subplots_adjust(hspace=.0)\n",
    "plt.setp(ax.get_xticklabels(), visible=False)\n",
    "\n",
    "plt.savefig(os.path.join(FIGPATH, \"different_cut.pdf\"), dpi=600, pad_inches=0.0)\n"
   ]
  },
  {
   "cell_type": "code",
   "execution_count": 35,
   "metadata": {},
   "outputs": [
    {
     "data": {
      "image/png": "[encoded data removed]",
      "text/plain": [
       "<Figure size 504x252 with 4 Axes>"
      ]
     },
     "metadata": {
      "needs_background": "light"
     },
     "output_type": "display_data"
    }
   ],
   "source": [
    "I_max = 8.0\n",
    "b_step = 0.1\n",
    "fraction = 0.5\n",
    "f = (np.inf, 0.1)\n",
    "f_bis = (1.0, 0.1)\n",
    "fit_kind = \"forward_only\"\n",
    "\n",
    "fig, (ax, ax2) = plt.subplots(2, 1, sharex=True, figsize=figsize_compressed_half)\n",
    "\n",
    "ax_bis = ax.twinx()\n",
    "ax2_bis = ax2.twinx()\n",
    "\n",
    "data_x = []\n",
    "data_k = []\n",
    "data_I = []\n",
    "data_x_all = []\n",
    "data_k_all = []\n",
    "data_I_all = []\n",
    "data_x_back = []\n",
    "data_k_back = []\n",
    "data_I_back = []\n",
    "\n",
    "tmp = full_dict\n",
    "for i in tmp:\n",
    "    #print(i)\n",
    "    if b_step in tmp[i]:\n",
    "        if fraction in tmp[i][b_step]:\n",
    "            if f in tmp[i][b_step][fraction]:\n",
    "                if fit_kind in tmp[i][b_step][fraction][f]:\n",
    "                    #print(\"^^^in^^^\")\n",
    "                    data_x.append(i)\n",
    "                    data_k.append(tmp[i][b_step][fraction][f]\n",
    "                                  [fit_kind].params[\"k\"].value)\n",
    "                    data_I.append(tmp[i][b_step][fraction][f]\n",
    "                                  [fit_kind].params[\"I_star\"].value)\n",
    "\n",
    "                    # print(i, tmp[i][b_step][fraction][f_bis])\n",
    "                    if \"all\" in tmp[i][b_step][fraction][f_bis]:\n",
    "                        if tmp[i][b_step][fraction][f_bis][\"all\"] == \"FAILED!\":\n",
    "                            data_k_all.append(np.nan)\n",
    "                            data_I_all.append(np.nan)\n",
    "                        else:\n",
    "                            data_k_all.append(tmp[i][b_step][fraction][f_bis]\n",
    "                                              [\"all\"].params[\"k\"].value)\n",
    "                            data_I_all.append(tmp[i][b_step][fraction][f_bis]\n",
    "                                              [\"all\"].params[\"I_star\"].value)\n",
    "                    else:\n",
    "                        data_k_all.append(np.nan)\n",
    "                        data_I_all.append(np.nan)\n",
    "\n",
    "                    if \"backward_only\" in tmp[i][b_step][fraction][f_bis]:\n",
    "                        if tmp[i][b_step][fraction][f_bis][\"backward_only\"] == \"FAILED!\":\n",
    "                            data_k_back.append(np.nan)\n",
    "                            data_I_back.append(np.nan)\n",
    "                        else:\n",
    "                            data_k_back.append(tmp[i][b_step][fraction][f_bis]\n",
    "                                               [\"backward_only\"].params[\"k\"].value)\n",
    "                            data_I_back.append(tmp[i][b_step][fraction][f_bis]\n",
    "                                               [\"backward_only\"].params[\"I_star\"].value)\n",
    "                    else:\n",
    "                        data_k_back.append(np.nan)\n",
    "                        data_I_back.append(np.nan)\n",
    "\n",
    "data_k = [x for _, x in sorted(zip(data_x, data_k))]\n",
    "data_I = [x for _, x in sorted(zip(data_x, data_I))]\n",
    "data_k_all = [x for _, x in sorted(zip(data_x, data_k_all))]\n",
    "data_I_all = [x for _, x in sorted(zip(data_x, data_I_all))]\n",
    "data_k_back = [x for _, x in sorted(zip(data_x, data_k_back))]\n",
    "data_I_back = [x for _, x in sorted(zip(data_x, data_I_back))]\n",
    "data_x = sorted(data_x)\n",
    "\n",
    "ax.axhline(0.33, c=\"grey\", label=\"True value\", linestyle=\"--\")\n",
    "ax.scatter(np.arange(len(data_k)), data_k, label=\"Outward currents only\")\n",
    "# ax.scatter(np.arange(len(data_k_all)), data_k_all, marker=\"x\", label=\"All curves\")\n",
    "# ax.scatter(np.arange(len(data_k_back)), data_k_back, marker=\"*\", label=\"Inward currents only\")\n",
    "\n",
    "ax.legend(frameon=False)\n",
    "\n",
    "mn, mx = ax.get_ylim()\n",
    "ax_bis.set_ylim(mn/0.33 - 1, mx/0.33 - 1)\n",
    "\n",
    "ax2.axhline(20.0, c=\"grey\", linestyle=\"--\")\n",
    "ax2.scatter(np.arange(len(data_I)), data_I)\n",
    "# ax2.scatter(np.arange(len(data_I_all)), data_I_all, marker=\"x\")\n",
    "# ax2.scatter(np.arange(len(data_I_back)), data_I_back, marker=\"*\")\n",
    "\n",
    "mn, mx = ax2.get_ylim()\n",
    "ax2_bis.set_ylim(mn/20.0 - 1, mx/20.0 - 1)\n",
    "\n",
    "ax.set_xticks(np.arange(len(data_k)))\n",
    "ax.set_xticklabels([\"{:.1f}\".format(x/20) for x in data_x])\n",
    "\n",
    "ax2.set_xlabel(\"$I$ $/$ $I_\\\\ast$\")\n",
    "ax.set_ylabel(\"$k$\")\n",
    "ax2.set_ylabel(\"$I_\\\\ast$\")\n",
    "ax_bis.set_ylabel(\"Relative difference\")\n",
    "ax2_bis.set_ylabel(\"Relative difference\")\n",
    "\n",
    "#ax.set_title(\"Fit performance for different positions of the boundary\")\n",
    "\n",
    "plt.tight_layout()\n",
    "plt.subplots_adjust(hspace=.0)\n",
    "plt.setp(ax.get_xticklabels(), visible=False)\n",
    "\n",
    "plt.savefig(os.path.join(FIGPATH, \"different_position.pdf\"), dpi=600, pad_inches=0.0)\n"
   ]
  },
  {
   "cell_type": "code",
   "execution_count": 36,
   "metadata": {},
   "outputs": [
    {
     "data": {
      "image/png": "[encoded data removed]",
      "text/plain": [
       "<Figure size 504x252 with 4 Axes>"
      ]
     },
     "metadata": {
      "needs_background": "light"
     },
     "output_type": "display_data"
    }
   ],
   "source": [
    "I_max = 8.0\n",
    "b_step = 0.1\n",
    "fraction = 0.5\n",
    "f = (np.inf, 0.1)\n",
    "\n",
    "fig, (ax, ax2) = plt.subplots(2, 1, sharex=True, figsize=figsize_compressed_half)\n",
    "\n",
    "ax_bis = ax.twinx()\n",
    "ax2_bis = ax2.twinx()\n",
    "\n",
    "data_x = []\n",
    "data_k = []\n",
    "data_I = []\n",
    "\n",
    "tmp = full_dict[I_max][b_step][fraction]\n",
    "for i in tmp:\n",
    "    # print(i)\n",
    "    if type(i) == int and type(tmp[i][f][\"forward_only\"]) != str:\n",
    "        if i%2 == 0:\n",
    "            data_x.append(i)\n",
    "            data_k.append(tmp[i][f][\"forward_only\"].params[\"k\"].value)\n",
    "            data_I.append(tmp[i][f][\"forward_only\"].params[\"I_star\"].value)\n",
    "data_x.append(20)\n",
    "data_k.append(tmp[f][\"forward_only\"].params[\"k\"].value)\n",
    "data_I.append(tmp[f][\"forward_only\"].params[\"I_star\"].value)\n",
    "\n",
    "data_k = [x for _, x in sorted(zip(data_x, data_k))]\n",
    "data_I = [x for _, x in sorted(zip(data_x, data_I))]\n",
    "data_x = sorted(data_x)\n",
    "\n",
    "ax.axhline(0.33, c=\"grey\", label=\"True value\", linestyle=\"--\")\n",
    "ax.scatter(np.arange(len(data_k)), data_k, label=\"Outward currents only\")\n",
    "\n",
    "ax.legend(frameon=False)\n",
    "\n",
    "mn, mx = ax.get_ylim()\n",
    "ax_bis.set_ylim(mn/0.33 - 1, mx/0.33 - 1)\n",
    "\n",
    "ax2.axhline(20.0, c=\"grey\", linestyle=\"--\")\n",
    "ax2.scatter(np.arange(len(data_I)), data_I)\n",
    "\n",
    "mn, mx = ax2.get_ylim()\n",
    "ax2_bis.set_ylim(mn/20.0 - 1, mx/20.0 - 1)\n",
    "\n",
    "ax.set_xticks(np.arange(len(data_k)))\n",
    "ax.set_xticklabels(data_x)\n",
    "\n",
    "ax2.set_xlabel(\"Number of separate recovery currents used\")\n",
    "ax.set_ylabel(\"$k$\")\n",
    "ax2.set_ylabel(\"$I_\\\\ast$\")\n",
    "ax_bis.set_ylabel(\"Relative difference\")\n",
    "ax2_bis.set_ylabel(\"Relative difference\")\n",
    "\n",
    "#ax.set_title(\"Fit performance for different number of samples\")\n",
    "\n",
    "plt.tight_layout()\n",
    "plt.subplots_adjust(hspace=.0)\n",
    "plt.setp(ax.get_xticklabels(), visible=False)\n",
    "\n",
    "plt.savefig(os.path.join(FIGPATH, \"different_nsamples.pdf\"), dpi=600, pad_inches=0.0)\n"
   ]
  },
  {
   "cell_type": "code",
   "execution_count": 38,
   "metadata": {},
   "outputs": [
    {
     "data": {
      "image/png": "[encoded data removed]",
      "text/plain": [
       "<Figure size 504x252 with 4 Axes>"
      ]
     },
     "metadata": {
      "needs_background": "light"
     },
     "output_type": "display_data"
    }
   ],
   "source": [
    "I_max = 8.0\n",
    "b_step = 0.1\n",
    "fraction = 0.5\n",
    "f = (np.inf, 0.1)\n",
    "f_bis = (np.inf, 0.5)\n",
    "fit_kind = \"forward_only\"\n",
    "\n",
    "fig, (ax, ax2) = plt.subplots(2, 1, sharex=True, figsize=figsize_compressed_half)\n",
    "\n",
    "ax_bis = ax.twinx()\n",
    "ax2_bis = ax2.twinx()\n",
    "\n",
    "data_x = []\n",
    "data_k = []\n",
    "data_I = []\n",
    "data_x_all = []\n",
    "data_k_all = []\n",
    "data_I_all = []\n",
    "data_x_back = []\n",
    "data_k_back = []\n",
    "data_I_back = []\n",
    "\n",
    "tmp = full_dict[I_max]#[b_step]\n",
    "for i in tmp:\n",
    "    if fit_kind in tmp[i][fraction][f]:\n",
    "        # print(i)\n",
    "        data_x.append(i / 20.0)\n",
    "        data_x_all.append(i / 20.0)\n",
    "        data_x_back.append(i / 20.0)\n",
    "        data_k.append(tmp[i][fraction][f][fit_kind].params[\"k\"].value)\n",
    "        data_I.append(tmp[i][fraction][f][fit_kind].params[\"I_star\"].value)\n",
    "        if \"all\" in tmp[i][fraction][f_bis] and type(tmp[i][fraction][f_bis][\"all\"]) != str:\n",
    "            data_k_all.append(tmp[i][fraction][f_bis][\"all\"].params[\"k\"].value)\n",
    "            data_I_all.append(tmp[i][fraction][f_bis][\"all\"].params[\"I_star\"].value)\n",
    "        else:\n",
    "            data_k_all.append(np.nan)\n",
    "            data_I_all.append(np.nan)\n",
    "        if \"backward_only\" in tmp[i][fraction][f_bis] and type(tmp[i][fraction][f_bis][\"backward_only\"]) != str:\n",
    "            data_k_back.append(\n",
    "                tmp[i][fraction][f_bis][\"backward_only\"].params[\"k\"].value)\n",
    "            data_I_back.append(\n",
    "                tmp[i][fraction][f_bis][\"backward_only\"].params[\"I_star\"].value)\n",
    "        else:\n",
    "            data_k_back.append(np.nan)\n",
    "            data_I_back.append(np.nan)\n",
    "\n",
    "data_k = [x for _, x in sorted(zip(data_x, data_k))]\n",
    "data_I = [x for _, x in sorted(zip(data_x, data_I))]\n",
    "data_x = sorted(data_x)\n",
    "\n",
    "data_k_all = [x for _, x in sorted(zip(data_x_all, data_k_all))]\n",
    "data_I_all = [x for _, x in sorted(zip(data_x_all, data_I_all))]\n",
    "data_x_all = sorted(data_x_all)\n",
    "\n",
    "data_k_back = [x for _, x in sorted(zip(data_x_back, data_k_back))]\n",
    "data_I_back = [x for _, x in sorted(zip(data_x_back, data_I_back))]\n",
    "data_x_back = sorted(data_x_back)\n",
    "\n",
    "ax.axhline(0.33, c=\"grey\", label=\"True value\", linestyle=\"--\")\n",
    "ax.scatter(np.arange(len(data_k)), data_k, label=\"Outward currents only\")\n",
    "# ax.scatter(np.arange(len(data_k_all)), data_k_all, marker=\"x\", label=\"All curves\")\n",
    "# ax.scatter(np.arange(len(data_k_back)), data_k_back, marker=\"*\", label=\"Inward currents only\")\n",
    "\n",
    "ax.legend(frameon=False, loc=\"upper left\")\n",
    "\n",
    "mn, mx = ax.get_ylim()\n",
    "ax_bis.set_ylim(mn/0.33 - 1, mx/0.33 - 1)\n",
    "\n",
    "ax2.axhline(20.0, c=\"grey\", linestyle=\"--\")\n",
    "ax2.scatter(np.arange(len(data_I)), data_I)\n",
    "# ax2.scatter(np.arange(len(data_I_all)), data_I_all, marker=\"x\")\n",
    "# ax2.scatter(np.arange(len(data_I_back)), data_I_back, marker=\"*\")\n",
    "\n",
    "mn, mx = ax2.get_ylim()\n",
    "ax2_bis.set_ylim(mn/20.0 - 1, mx/20.0 - 1)\n",
    "\n",
    "ax.set_xticks(np.arange(len(data_k)))\n",
    "ax.set_xticklabels(data_x)\n",
    "\n",
    "ax2.set_xlabel(\"Boundary movement $[I_\\\\ast$ units$]$\")\n",
    "ax.set_ylabel(\"$k$\")\n",
    "ax2.set_ylabel(\"$I_\\\\ast$\")\n",
    "ax_bis.set_ylabel(\"Relative difference\")\n",
    "ax2_bis.set_ylabel(\"Relative difference\")\n",
    "\n",
    "#ax.set_title(\"Fit performance for different elapsed relaxation times\")\n",
    "\n",
    "plt.tight_layout()\n",
    "plt.subplots_adjust(hspace=.0)\n",
    "plt.setp(ax.get_xticklabels(), visible=False)\n",
    "\n",
    "plt.savefig(os.path.join(FIGPATH, \"different_movement_module.pdf\"), dpi=600, pad_inches=0.0)\n"
   ]
  },
  {
   "cell_type": "code",
   "execution_count": null,
   "metadata": {},
   "outputs": [],
   "source": []
  }
 ],
 "metadata": {
  "interpreter": {
   "hash": "871aeb43e99df445217f8150e40694afb64d0600c0573b6bac502dee120165de"
  },
  "kernelspec": {
   "display_name": "Python 3.8.12 64-bit ('base': conda)",
   "name": "python3"
  },
  "language_info": {
   "codemirror_mode": {
    "name": "ipython",
    "version": 3
   },
   "file_extension": ".py",
   "mimetype": "text/x-python",
   "name": "python",
   "nbconvert_exporter": "python",
   "pygments_lexer": "ipython3",
   "version": "3.8.12"
  },
  "orig_nbformat": 4
 },
 "nbformat": 4,
 "nbformat_minor": 2
}
