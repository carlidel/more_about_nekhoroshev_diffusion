{
 "cells": [
  {
   "cell_type": "markdown",
   "id": "bc9a7df9",
   "metadata": {},
   "source": [
    "# We need to find out interesting points in our Loss current\n",
    "because the maximum isn't always experimentally available..."
   ]
  },
  {
   "cell_type": "markdown",
   "id": "bb8032a3",
   "metadata": {},
   "source": [
    "**Are we in SWAN?**"
   ]
  },
  {
   "cell_type": "code",
   "execution_count": null,
   "id": "20aff7aa",
   "metadata": {},
   "outputs": [],
   "source": [
    "%pip install --user crank-nicolson-numba"
   ]
  },
  {
   "cell_type": "markdown",
   "id": "669b835a",
   "metadata": {},
   "source": [
    "**Libraries and matplotlib magic**"
   ]
  },
  {
   "cell_type": "code",
   "execution_count": 4,
   "id": "2f2a5f03",
   "metadata": {},
   "outputs": [],
   "source": [
    "%matplotlib widget"
   ]
  },
  {
   "cell_type": "code",
   "execution_count": 1,
   "id": "b8e442a9",
   "metadata": {},
   "outputs": [],
   "source": [
    "import numpy as np\n",
    "import matplotlib.pyplot as plt\n",
    "import scipy\n",
    "import scipy.integrate\n",
    "from tqdm.notebook import tqdm\n",
    "import crank_nicolson_numba.generic as cn\n",
    "import itertools\n",
    "# For parallelization\n",
    "from joblib import Parallel, delayed\n",
    "\n",
    "# Local file\n",
    "import nekhoroshev_tools as nt"
   ]
  },
  {
   "cell_type": "markdown",
   "id": "22d5a9b6",
   "metadata": {},
   "source": [
    "### Setting up the various elements for the Nekhoroshev-like diffusion"
   ]
  },
  {
   "cell_type": "code",
   "execution_count": 2,
   "id": "c167a2ab",
   "metadata": {},
   "outputs": [],
   "source": [
    "def D(I, I_star, exponent):\n",
    "    return np.exp(-2*np.power(I_star/I, exponent))\n",
    "\n",
    "def normed_D(I, I_star, exponent, c):\n",
    "    return c * D(I, I_star, exponent)\n",
    "\n",
    "def normed_D_half(I, I_star, exponent, c):\n",
    "    return normed_D(I, I_star, exponent, c)/2\n",
    "\n",
    "def x(I, I_max, I_star, exponent, c):\n",
    "    return -scipy.integrate.quad(lambda x: 1/np.sqrt(normed_D(x, I_star, exponent, c)), I, I_max)[0]\n",
    "\n",
    "def nu(I, I_star, exponent, c, scale=1.0):\n",
    "    I = I * scale\n",
    "    return (np.sqrt(c) * exponent / I) * np.power(I_star/I, exponent) * np.exp(-np.power(I_star/I, exponent))\n",
    "\n",
    "def current_peak_time(I_0, I_max, I_star, exponent, c):\n",
    "    return 2*(np.sqrt(nu(I_0, I_star, exponent, c)**2 * x(I_0, I_max, I_star, exponent, c)**2 + 9) - 3) / nu(I_0, I_star, exponent, c)**2\n",
    "\n",
    "def current_peak_value(I_0, I_max, I_star, exponent, c):\n",
    "    return -x(I_0, I_max, I_star, exponent, c)*np.exp(-nu(I_0, I_star, exponent, c)**2*(x(I_0, I_max, I_star, exponent, c) + (np.sqrt(nu(I_0, I_star, exponent, c)**2*x(I_0, I_max, I_star, exponent, c)**2 + 9) - 3)/nu(I_0, I_star, exponent, c))**2/(4*(np.sqrt(nu(I_0, I_star, exponent, c)**2*x(I_0, I_max, I_star, exponent, c)**2 + 9) - 3)))/(4*np.sqrt(np.pi)*((np.sqrt(nu(I_0, I_star, exponent, c)**2*x(I_0, I_max, I_star, exponent, c)**2 + 9) - 3)/nu(I_0, I_star, exponent, c)**2)**(3/2))\n",
    "\n",
    "def current_point(t, I, I_max, I_star, exponent, c, scale=1.0):\n",
    "    if t == 0:\n",
    "        return 0.0\n",
    "    return -x(I, I_max, I_star, exponent, c) / (t * np.sqrt(2*np.pi*t)) * np.exp(-(x(I, I_max, I_star, exponent, c)+((nu(I, I_star, exponent, c, scale)/2)*t))**2/(2*t))\n",
    "\n",
    "def current_general(t, I, I_int_min, I_star, exponent, c, scale=1.0):\n",
    "    return [scipy.integrate.quad(lambda x: current_point(a_t, x, I_star, exponent, c, scale), I_int_min, I)[0] for a_t in t]"
   ]
  },
  {
   "cell_type": "code",
   "execution_count": 3,
   "id": "716e7dca",
   "metadata": {},
   "outputs": [],
   "source": [
    "def current_derivative(t, I, I_max, I_star, exponent, c):\n",
    "    return -np.sqrt(2)*x(I, I_max, I_star, exponent, c)*(-nu(I, I_max, I_star, exponent, c)*(nu(I, I_max, I_star, exponent, c)*t/2 + x(I, I_max, I_star, exponent, c))/(2*t) + (nu(I, I_max, I_star, exponent, c)*t/2 + x(I, I_max, I_star, exponent, c))**2/(2*t**2))*np.exp(-(nu(I, I_max, I_star, exponent, c)*t/2 + x(I, I_max, I_star, exponent, c))**2/(2*t))/(2*np.sqrt(np.pi)*t**(3/2)) + 3*np.sqrt(2)*x(I, I_max, I_star, exponent, c)*np.exp(-(nu(I, I_max, I_star, exponent, c)*t/2 + x(I, I_max, I_star, exponent, c))**2/(2*t))/(4*np.sqrt(np.pi)*t**(5/2))"
   ]
  },
  {
   "cell_type": "code",
   "execution_count": 4,
   "id": "548c1b97",
   "metadata": {},
   "outputs": [],
   "source": [
    "def current_second_derivative(t, I, I_max, I_star, exponent, c):\n",
    "    return np.sqrt(2)*x(I, I_max, I_star, exponent, c)*(-nu(I, I_max, I_star, exponent, c)**4*t**4 - 24*nu(I, I_max, I_star, exponent, c)**2*t**3 + 8*nu(I, I_max, I_star, exponent, c)**2*t**2*x(I, I_max, I_star, exponent, c)**2 - 240*t**2 + 160*t*x(I, I_max, I_star, exponent, c)**2 - 16*x(I, I_max, I_star, exponent, c)**4)*np.exp(-nu(I, I_max, I_star, exponent, c)**2*t/8 - nu(I, I_max, I_star, exponent, c)*x(I, I_max, I_star, exponent, c)/2 - x(I, I_max, I_star, exponent, c)**2/(2*t))/(128*np.sqrt(np.pi)*t**(11/2))"
   ]
  },
  {
   "cell_type": "markdown",
   "id": "08364b33",
   "metadata": {},
   "source": [
    "## Let's check things"
   ]
  },
  {
   "cell_type": "code",
   "execution_count": 5,
   "id": "6cc99dc8",
   "metadata": {},
   "outputs": [],
   "source": [
    "I_star = 21.5\n",
    "kappa = 0.33\n",
    "exponent = 1 / (2*kappa)\n",
    "I_min = 0.0"
   ]
  },
  {
   "cell_type": "code",
   "execution_count": 6,
   "id": "82e20d6b",
   "metadata": {},
   "outputs": [],
   "source": [
    "I_0 = 4.4\n",
    "I_max = 5.0\n",
    "c = 1/scipy.integrate.quad(lambda x: nt.D(x, I_star, exponent), I_min, I_max)[0]"
   ]
  },
  {
   "cell_type": "code",
   "execution_count": 7,
   "id": "917d841a",
   "metadata": {},
   "outputs": [],
   "source": [
    "T = 0.5\n",
    "samples = 2500\n",
    "t_list = np.linspace(0, T, samples+1)[1:]"
   ]
  },
  {
   "cell_type": "code",
   "execution_count": 8,
   "id": "db0a6e45",
   "metadata": {},
   "outputs": [],
   "source": [
    "current = np.array([nt.current_point(t, I_0, I_max, I_star, exponent, c) for t in t_list])\n",
    "d_current = np.array([nt.current_derivative(t, I_0, I_max, I_star, exponent, c) for t in t_list])\n",
    "d2_current = np.array([nt.current_second_derivative(t, I_0, I_max, I_star, exponent, c) for t in t_list])"
   ]
  },
  {
   "cell_type": "code",
   "execution_count": 9,
   "id": "9d575d52",
   "metadata": {},
   "outputs": [],
   "source": [
    "def align_yaxis(ax1, ax2):\n",
    "    \"\"\"Align zeros of the two axes, zooming them out by same ratio\"\"\"\n",
    "    axes = (ax1, ax2)\n",
    "    extrema = [ax.get_ylim() for ax in axes]\n",
    "    tops = [extr[1] / (extr[1] - extr[0]) for extr in extrema]\n",
    "    # Ensure that plots (intervals) are ordered bottom to top:\n",
    "    if tops[0] > tops[1]:\n",
    "        axes, extrema, tops = [list(reversed(l)) for l in (axes, extrema, tops)]\n",
    "\n",
    "    # How much would the plot overflow if we kept current zoom levels?\n",
    "    tot_span = tops[1] + 1 - tops[0]\n",
    "\n",
    "    b_new_t = extrema[0][0] + tot_span * (extrema[0][1] - extrema[0][0])\n",
    "    t_new_b = extrema[1][1] - tot_span * (extrema[1][1] - extrema[1][0])\n",
    "    axes[0].set_ylim(extrema[0][0], b_new_t)\n",
    "    axes[1].set_ylim(t_new_b, extrema[1][1])"
   ]
  },
  {
   "cell_type": "code",
   "execution_count": 10,
   "id": "4ec8ff66",
   "metadata": {},
   "outputs": [
    {
     "data": {
      "image/png": "[encoded data removed]",
      "text/plain": [
       "<Figure size 720x288 with 3 Axes>"
      ]
     },
     "metadata": {
      "needs_background": "light"
     },
     "output_type": "display_data"
    }
   ],
   "source": [
    "fig, ax1 = plt.subplots(figsize=(10,4))\n",
    "\n",
    "ax2 = ax1.twinx()\n",
    "ax3 = ax1.twinx()\n",
    "ax1.set_xlabel(\"$t$\")\n",
    "\n",
    "l1 = ax1.plot(t_list, current, c=\"C0\", label=\"current\")\n",
    "l2 = ax2.plot(t_list, d_current, c=\"C1\", label=\"first derivative\")\n",
    "l3 = ax3.plot(t_list, d2_current, c=\"C2\", label=\"second derivative\")\n",
    "\n",
    "l = l1 + l2 + l3\n",
    "lab = [i.get_label() for i in l]\n",
    "\n",
    "ax1.legend(l, lab, loc=\"center right\", fontsize=\"small\")\n",
    "\n",
    "ax1.set_ylabel(\"Current\")\n",
    "ax2.set_ylabel(\"First derivative\")\n",
    "ax3.set_ylabel(\"Second derivative\")\n",
    "\n",
    "plt.tight_layout()\n",
    "fig.subplots_adjust(right=0.80)\n",
    "ax3.spines[\"right\"].set_position((\"axes\", 1.2))\n",
    "\n",
    "align_yaxis(ax1, ax2)\n",
    "align_yaxis(ax1, ax3)\n",
    "align_yaxis(ax2, ax3)\n",
    "align_yaxis(ax1, ax2)\n",
    "align_yaxis(ax1, ax3)\n",
    "align_yaxis(ax2, ax3)\n"
   ]
  },
  {
   "cell_type": "markdown",
   "id": "424e3f5a",
   "metadata": {},
   "source": [
    "## Points of interest\n",
    "1. Current peak\n",
    "    * pros: we have its perfect analytic expression\n",
    "    * cons: we might not have it in a proper form in a real experiment\n",
    "2. First current read\n",
    "    * pros: experimentally, it might be an actual measureable feature\n",
    "    * cons: we have to define numerically what \"first current read\" actually means\n",
    "3. Maximum in first derivative (zero in second derivative)\n",
    "    * pros: we can (numerically) find it in a fast and practical way; it might be a strong measure for outward steps in collimators\n",
    "    * cons: it might be not stable at all when considering noisy measures\n",
    "4. Percentage gain in current (i.e. timing at which we have 10% of the maximum current)\n",
    "    * pros: it's basically (2), but more generic and consistently defined\n",
    "    * cons: will we have actual zero currents and peak currents in an experimental setting?"
   ]
  },
  {
   "cell_type": "markdown",
   "id": "8e55249b",
   "metadata": {},
   "source": [
    "## A couple of functions for locating these points of interest"
   ]
  },
  {
   "cell_type": "code",
   "execution_count": 15,
   "id": "a9bc7de3",
   "metadata": {},
   "outputs": [
    {
     "name": "stderr",
     "output_type": "stream",
     "text": [
      "/home/camontan/Insync/carlo.montanari3@studio.unibo.it/OneDrive_Biz/projects/new_games_with_diffusion/nekhoroshev_tools.py:37: RuntimeWarning: divide by zero encountered in double_scalars\n",
      "  return c * np.exp(-2*np.power(I_star/I, exponent)) * (0.5 if halved else 1.0)\n"
     ]
    }
   ],
   "source": [
    "num_data = nt.compute_current_with_peak(\n",
    "    I_0, I_max, I_star, exponent\n",
    ")"
   ]
  },
  {
   "cell_type": "code",
   "execution_count": 16,
   "id": "cf2f1618",
   "metadata": {},
   "outputs": [],
   "source": [
    "times, current, ana_current_peak_time, ana_current_peak_value, num_current_time, num_current_peak = num_data"
   ]
  },
  {
   "cell_type": "code",
   "execution_count": 17,
   "id": "704b69cf",
   "metadata": {},
   "outputs": [],
   "source": [
    "ana_current = [nt.current_point(t, I_0, I_max, I_star, exponent, c) for t in times]"
   ]
  },
  {
   "cell_type": "markdown",
   "id": "d99f2fce",
   "metadata": {},
   "source": [
    "xx% maximum"
   ]
  },
  {
   "cell_type": "code",
   "execution_count": 18,
   "id": "ab3930ea",
   "metadata": {},
   "outputs": [
    {
     "name": "stdout",
     "output_type": "stream",
     "text": [
      "Optimization terminated successfully.\n",
      "         Current function value: 0.000006\n",
      "         Iterations: 19\n",
      "         Function evaluations: 38\n"
     ]
    },
    {
     "name": "stderr",
     "output_type": "stream",
     "text": [
      "/home/camontan/Insync/carlo.montanari3@studio.unibo.it/OneDrive_Biz/projects/new_games_with_diffusion/nekhoroshev_tools.py:195: RuntimeWarning: invalid value encountered in sqrt\n",
      "  return -x(I, I_max, I_star, exponent, c) / (t * np.sqrt(2*np.pi*t)) * np.exp(-(x(I, I_max, I_star, exponent, c)+((nu(I, I_star, exponent, c)/2)*t))**2/(2*t))\n"
     ]
    },
    {
     "data": {
      "text/plain": [
       "array([0.03812951])"
      ]
     },
     "execution_count": 18,
     "metadata": {},
     "output_type": "execute_result"
    }
   ],
   "source": [
    "ratio = 0.05\n",
    "num_time_ratio = times[\n",
    "    np.argmax(-np.absolute(current-num_current_peak*ratio))\n",
    "]\n",
    "\n",
    "result = scipy.optimize.fmin(\n",
    "    lambda x: np.absolute(nt.current_point(x, I_0, I_max, I_star, exponent, c) - ana_current_peak_value * ratio),\n",
    "    ana_current_peak_time*0.9\n",
    ")\n",
    "result"
   ]
  },
  {
   "cell_type": "code",
   "execution_count": 19,
   "id": "838d16dd",
   "metadata": {},
   "outputs": [
    {
     "data": {
      "application/vnd.jupyter.widget-view+json": {
       "model_id": "67a699013a15434b98b2ec7333b4a1dc",
       "version_major": 2,
       "version_minor": 0
      },
      "text/plain": [
       "Canvas(toolbar=Toolbar(toolitems=[('Home', 'Reset original view', 'home', 'home'), ('Back', 'Back to previous …"
      ]
     },
     "metadata": {},
     "output_type": "display_data"
    },
    {
     "data": {
      "text/plain": [
       "<matplotlib.lines.Line2D at 0x7efc70d2c730>"
      ]
     },
     "execution_count": 19,
     "metadata": {},
     "output_type": "execute_result"
    }
   ],
   "source": [
    "plt.figure()\n",
    "plt.plot(times, current, c=\"C0\")\n",
    "plt.axvline(num_time_ratio, c=\"C0\")\n",
    "plt.plot(times, ana_current, c=\"C1\")\n",
    "plt.axvline(result, c=\"C1\")"
   ]
  },
  {
   "cell_type": "markdown",
   "id": "159fb432",
   "metadata": {},
   "source": [
    "## Let's make it noisy"
   ]
  },
  {
   "cell_type": "markdown",
   "id": "febcded3",
   "metadata": {},
   "source": [
    "We make the signal dirty with a background noise + offset setup"
   ]
  },
  {
   "cell_type": "code",
   "execution_count": 71,
   "id": "0f44b443",
   "metadata": {},
   "outputs": [],
   "source": [
    "def moving_average(x, w):\n",
    "    return np.convolve(x, np.ones(w), 'valid') / w"
   ]
  },
  {
   "cell_type": "code",
   "execution_count": 81,
   "id": "0efb8caf",
   "metadata": {},
   "outputs": [],
   "source": [
    "background_sigma = 0.05 * np.max(current)\n",
    "offset = 0.01 * np.max(current)\n",
    "\n",
    "dirty_current = np.random.normal(loc=0.0, scale=background_sigma, size=current.size) + current + offset"
   ]
  },
  {
   "cell_type": "code",
   "execution_count": 82,
   "id": "f7d009c3",
   "metadata": {},
   "outputs": [
    {
     "data": {
      "text/plain": [
       "[<matplotlib.lines.Line2D at 0x7fcfa4ec9cd0>]"
      ]
     },
     "execution_count": 82,
     "metadata": {},
     "output_type": "execute_result"
    },
    {
     "data": {
      "image/png": "[encoded data removed]",
      "text/plain": [
       "<Figure size 432x288 with 1 Axes>"
      ]
     },
     "metadata": {
      "needs_background": "light"
     },
     "output_type": "display_data"
    }
   ],
   "source": [
    "plt.figure()\n",
    "plt.plot(t_list, dirty_current)\n",
    "\n",
    "kernel = 100\n",
    "plt.plot(t_list[kernel//2:-kernel//2+1], moving_average(dirty_current, kernel))\n",
    "\n",
    "#plt.plot(t_list, current)\n"
   ]
  },
  {
   "cell_type": "code",
   "execution_count": null,
   "id": "2084862f",
   "metadata": {},
   "outputs": [],
   "source": []
  }
 ],
 "metadata": {
  "kernelspec": {
   "display_name": "Python 3",
   "language": "python",
   "name": "python3"
  },
  "language_info": {
   "codemirror_mode": {
    "name": "ipython",
    "version": 3
   },
   "file_extension": ".py",
   "mimetype": "text/x-python",
   "name": "python",
   "nbconvert_exporter": "python",
   "pygments_lexer": "ipython3",
   "version": "3.8.8"
  }
 },
 "nbformat": 4,
 "nbformat_minor": 5
}
