{
 "cells": [
  {
   "cell_type": "markdown",
   "id": "9c1dcef0",
   "metadata": {},
   "source": [
    "# We need to find out interesting points in our Loss current\n",
    "because the maximum isn't always experimentally available..."
   ]
  },
  {
   "cell_type": "markdown",
   "id": "7e1e0cc2",
   "metadata": {},
   "source": [
    "**Are we in SWAN?**"
   ]
  },
  {
   "cell_type": "code",
   "execution_count": null,
   "id": "33af188e",
   "metadata": {},
   "outputs": [],
   "source": [
    "%pip install --user crank-nicolson-numba"
   ]
  },
  {
   "cell_type": "markdown",
   "id": "398d34e4",
   "metadata": {},
   "source": [
    "**Libraries and matplotlib magic**"
   ]
  },
  {
   "cell_type": "code",
   "execution_count": 1,
   "id": "e67d9283",
   "metadata": {},
   "outputs": [],
   "source": [
    "%matplotlib widget"
   ]
  },
  {
   "cell_type": "code",
   "execution_count": 1,
   "id": "6996e0d2",
   "metadata": {},
   "outputs": [],
   "source": [
    "import numpy as np\n",
    "import matplotlib.pyplot as plt\n",
    "import scipy\n",
    "import scipy.integrate\n",
    "from tqdm.notebook import tqdm\n",
    "import crank_nicolson_numba.generic as cn\n",
    "import itertools\n",
    "# For parallelization\n",
    "from joblib import Parallel, delayed"
   ]
  },
  {
   "cell_type": "markdown",
   "id": "c5a98e64",
   "metadata": {},
   "source": [
    "### Setting up the various elements for the Nekhoroshev-like diffusion"
   ]
  },
  {
   "cell_type": "code",
   "execution_count": 2,
   "id": "ce3570fa",
   "metadata": {},
   "outputs": [],
   "source": [
    "def D(I, I_star, exponent):\n",
    "    return np.exp(-2*np.power(I_star/I, exponent))\n",
    "\n",
    "def normed_D(I, I_star, exponent, c):\n",
    "    return c * D(I, I_star, exponent)\n",
    "\n",
    "def normed_D_half(I, I_star, exponent, c):\n",
    "    return normed_D(I, I_star, exponent, c)/2\n",
    "\n",
    "def x(I, I_max, I_star, exponent, c):\n",
    "    return -scipy.integrate.quad(lambda x: 1/np.sqrt(normed_D(x, I_star, exponent, c)), I, I_max)[0]\n",
    "\n",
    "def nu(I, I_star, exponent, c, scale=1.0):\n",
    "    I = I * scale\n",
    "    return (np.sqrt(c) * exponent / I) * np.power(I_star/I, exponent) * np.exp(-np.power(I_star/I, exponent))\n",
    "\n",
    "def current_peak_time(I_0, I_max, I_star, exponent, c):\n",
    "    return 2*(np.sqrt(nu(I_0, I_star, exponent, c)**2 * x(I_0, I_max, I_star, exponent, c)**2 + 9) - 3) / nu(I_0, I_star, exponent, c)**2\n",
    "\n",
    "def current_peak_value(I_0, I_max, I_star, exponent, c):\n",
    "    return -x(I_0, I_max, I_star, exponent, c)*np.exp(-nu(I_0, I_star, exponent, c)**2*(x(I_0, I_max, I_star, exponent, c) + (np.sqrt(nu(I_0, I_star, exponent, c)**2*x(I_0, I_max, I_star, exponent, c)**2 + 9) - 3)/nu(I_0, I_star, exponent, c))**2/(4*(np.sqrt(nu(I_0, I_star, exponent, c)**2*x(I_0, I_max, I_star, exponent, c)**2 + 9) - 3)))/(4*np.sqrt(np.pi)*((np.sqrt(nu(I_0, I_star, exponent, c)**2*x(I_0, I_max, I_star, exponent, c)**2 + 9) - 3)/nu(I_0, I_star, exponent, c)**2)**(3/2))\n",
    "\n",
    "def current_point(t, I, I_max, I_star, exponent, c, scale=1.0):\n",
    "    if t == 0:\n",
    "        return 0.0\n",
    "    return -x(I, I_max, I_star, exponent, c) / (t * np.sqrt(2*np.pi*t)) * np.exp(-(x(I, I_max, I_star, exponent, c)+((nu(I, I_star, exponent, c, scale)/2)*t))**2/(2*t))\n",
    "\n",
    "def current_general(t, I, I_int_min, I_star, exponent, c, scale=1.0):\n",
    "    return [scipy.integrate.quad(lambda x: current_point(a_t, x, I_star, exponent, c, scale), I_int_min, I)[0] for a_t in t]"
   ]
  },
  {
   "cell_type": "code",
   "execution_count": 3,
   "id": "40e9dd8e",
   "metadata": {},
   "outputs": [],
   "source": [
    "def current_derivative(t, I, I_max, I_star, exponent, c):\n",
    "    return -np.sqrt(2)*x(I, I_max, I_star, exponent, c)*(-nu(I, I_max, I_star, exponent, c)*(nu(I, I_max, I_star, exponent, c)*t/2 + x(I, I_max, I_star, exponent, c))/(2*t) + (nu(I, I_max, I_star, exponent, c)*t/2 + x(I, I_max, I_star, exponent, c))**2/(2*t**2))*np.exp(-(nu(I, I_max, I_star, exponent, c)*t/2 + x(I, I_max, I_star, exponent, c))**2/(2*t))/(2*np.sqrt(np.pi)*t**(3/2)) + 3*np.sqrt(2)*x(I, I_max, I_star, exponent, c)*np.exp(-(nu(I, I_max, I_star, exponent, c)*t/2 + x(I, I_max, I_star, exponent, c))**2/(2*t))/(4*np.sqrt(np.pi)*t**(5/2))"
   ]
  },
  {
   "cell_type": "code",
   "execution_count": 21,
   "id": "766d0aba",
   "metadata": {},
   "outputs": [],
   "source": [
    "def current_second_derivative(t, I, I_max, I_star, exponent, c):\n",
    "    return np.sqrt(2)*x(I, I_max, I_star, exponent, c)*(-nu(I, I_max, I_star, exponent, c)**4*t**4 - 24*nu(I, I_max, I_star, exponent, c)**2*t**3 + 8*nu(I, I_max, I_star, exponent, c)**2*t**2*x(I, I_max, I_star, exponent, c)**2 - 240*t**2 + 160*t*x(I, I_max, I_star, exponent, c)**2 - 16*x(I, I_max, I_star, exponent, c)**4)*np.exp(-nu(I, I_max, I_star, exponent, c)**2*t/8 - nu(I, I_max, I_star, exponent, c)*x(I, I_max, I_star, exponent, c)/2 - x(I, I_max, I_star, exponent, c)**2/(2*t))/(128*np.sqrt(np.pi)*t**(11/2))"
   ]
  },
  {
   "cell_type": "markdown",
   "id": "1d187da1",
   "metadata": {},
   "source": [
    "## Let's check things"
   ]
  },
  {
   "cell_type": "code",
   "execution_count": 22,
   "id": "08f6f7dd",
   "metadata": {},
   "outputs": [],
   "source": [
    "I_star = 21.5\n",
    "kappa = 0.33\n",
    "exponent = 1 / (2*kappa)\n",
    "I_min = 0.0"
   ]
  },
  {
   "cell_type": "code",
   "execution_count": 35,
   "id": "8fc9fb83",
   "metadata": {},
   "outputs": [],
   "source": [
    "I_0 = 4.4\n",
    "I_max = 5.0\n",
    "c = 1/scipy.integrate.quad(lambda x: D(x, I_star, exponent), I_min, I_max)[0]"
   ]
  },
  {
   "cell_type": "code",
   "execution_count": 65,
   "id": "6df9a17f",
   "metadata": {},
   "outputs": [],
   "source": [
    "T = 0.5\n",
    "samples = 2500\n",
    "t_list = np.linspace(0, T, samples+1)[1:]"
   ]
  },
  {
   "cell_type": "code",
   "execution_count": 66,
   "id": "de73f1b6",
   "metadata": {},
   "outputs": [],
   "source": [
    "current = np.array([current_point(t, I_0, I_max, I_star, exponent, c) for t in t_list])\n",
    "d_current = np.array([current_derivative(t, I_0, I_max, I_star, exponent, c) for t in t_list])\n",
    "d2_current = np.array([current_second_derivative(t, I_0, I_max, I_star, exponent, c) for t in t_list])"
   ]
  },
  {
   "cell_type": "code",
   "execution_count": 67,
   "id": "a2d2117c",
   "metadata": {},
   "outputs": [],
   "source": [
    "def align_yaxis(ax1, ax2):\n",
    "    \"\"\"Align zeros of the two axes, zooming them out by same ratio\"\"\"\n",
    "    axes = (ax1, ax2)\n",
    "    extrema = [ax.get_ylim() for ax in axes]\n",
    "    tops = [extr[1] / (extr[1] - extr[0]) for extr in extrema]\n",
    "    # Ensure that plots (intervals) are ordered bottom to top:\n",
    "    if tops[0] > tops[1]:\n",
    "        axes, extrema, tops = [list(reversed(l)) for l in (axes, extrema, tops)]\n",
    "\n",
    "    # How much would the plot overflow if we kept current zoom levels?\n",
    "    tot_span = tops[1] + 1 - tops[0]\n",
    "\n",
    "    b_new_t = extrema[0][0] + tot_span * (extrema[0][1] - extrema[0][0])\n",
    "    t_new_b = extrema[1][1] - tot_span * (extrema[1][1] - extrema[1][0])\n",
    "    axes[0].set_ylim(extrema[0][0], b_new_t)\n",
    "    axes[1].set_ylim(t_new_b, extrema[1][1])"
   ]
  },
  {
   "cell_type": "code",
   "execution_count": 68,
   "id": "49d56701",
   "metadata": {},
   "outputs": [
    {
     "data": {
      "image/png": "[encoded data removed]",
      "text/plain": [
       "<Figure size 720x288 with 3 Axes>"
      ]
     },
     "metadata": {
      "needs_background": "light"
     },
     "output_type": "display_data"
    }
   ],
   "source": [
    "fig, ax1 = plt.subplots(figsize=(10,4))\n",
    "\n",
    "ax2 = ax1.twinx()\n",
    "ax3 = ax1.twinx()\n",
    "ax1.set_xlabel(\"$t$\")\n",
    "\n",
    "l1 = ax1.plot(t_list, current, c=\"C0\", label=\"current\")\n",
    "l2 = ax2.plot(t_list, d_current, c=\"C1\", label=\"first derivative\")\n",
    "l3 = ax3.plot(t_list, d2_current, c=\"C2\", label=\"second derivative\")\n",
    "\n",
    "l = l1 + l2 + l3\n",
    "lab = [i.get_label() for i in l]\n",
    "\n",
    "ax1.legend(l, lab, loc=\"center right\", fontsize=\"small\")\n",
    "\n",
    "ax1.set_ylabel(\"Current\")\n",
    "ax2.set_ylabel(\"First derivative\")\n",
    "ax3.set_ylabel(\"Second derivative\")\n",
    "\n",
    "plt.tight_layout()\n",
    "fig.subplots_adjust(right=0.80)\n",
    "ax3.spines[\"right\"].set_position((\"axes\", 1.2))\n",
    "\n",
    "align_yaxis(ax1, ax2)\n",
    "align_yaxis(ax1, ax3)\n",
    "align_yaxis(ax2, ax3)\n",
    "align_yaxis(ax1, ax2)\n",
    "align_yaxis(ax1, ax3)\n",
    "align_yaxis(ax2, ax3)\n"
   ]
  },
  {
   "cell_type": "markdown",
   "id": "5d838c6c",
   "metadata": {},
   "source": [
    "## Points of interest\n",
    "1. Current peak\n",
    "    * pros: we have its perfect analytic expression\n",
    "    * cons: we might not have it in a proper form in a real experiment\n",
    "2. First current read\n",
    "    * pros: experimentally, it might be an actual measureable feature\n",
    "    * cons: we have to define numerically what \"first current read\" actually means\n",
    "3. Maximum in first derivative (zero in second derivative)\n",
    "    * pros: we can (numerically) find it in a fast and practical way; it might be a strong measure for outward steps in collimators\n",
    "    * cons: it might be not stable at all when considering noisy measures\n",
    "4. Percentage gain in current (i.e. timing at which we have 10% of the maximum current)\n",
    "    * pros: it's basically (2), but more generic and consistently defined\n",
    "    * cons: will we have actual zero currents and peak currents in an experimental setting?"
   ]
  },
  {
   "cell_type": "markdown",
   "id": "48a08bec",
   "metadata": {},
   "source": [
    "## Let's make it noisy"
   ]
  },
  {
   "cell_type": "markdown",
   "id": "a9ab0a93",
   "metadata": {},
   "source": [
    "We make the signal dirty with a background noise + offset setup"
   ]
  },
  {
   "cell_type": "code",
   "execution_count": 71,
   "id": "d3845001",
   "metadata": {},
   "outputs": [],
   "source": [
    "def moving_average(x, w):\n",
    "    return np.convolve(x, np.ones(w), 'valid') / w"
   ]
  },
  {
   "cell_type": "code",
   "execution_count": 81,
   "id": "21fcb85c",
   "metadata": {},
   "outputs": [],
   "source": [
    "background_sigma = 0.05 * np.max(current)\n",
    "offset = 0.01 * np.max(current)\n",
    "\n",
    "dirty_current = np.random.normal(loc=0.0, scale=background_sigma, size=current.size) + current + offset"
   ]
  },
  {
   "cell_type": "code",
   "execution_count": 82,
   "id": "012ec666",
   "metadata": {},
   "outputs": [
    {
     "data": {
      "text/plain": [
       "[<matplotlib.lines.Line2D at 0x7fcfa4ec9cd0>]"
      ]
     },
     "execution_count": 82,
     "metadata": {},
     "output_type": "execute_result"
    },
    {
     "data": {
      "image/png": "[encoded data removed]",
      "text/plain": [
       "<Figure size 432x288 with 1 Axes>"
      ]
     },
     "metadata": {
      "needs_background": "light"
     },
     "output_type": "display_data"
    }
   ],
   "source": [
    "plt.figure()\n",
    "plt.plot(t_list, dirty_current)\n",
    "\n",
    "kernel = 100\n",
    "plt.plot(t_list[kernel//2:-kernel//2+1], moving_average(dirty_current, kernel))\n",
    "\n",
    "#plt.plot(t_list, current)\n"
   ]
  },
  {
   "cell_type": "code",
   "execution_count": null,
   "id": "280642cd",
   "metadata": {},
   "outputs": [],
   "source": []
  }
 ],
 "metadata": {
  "kernelspec": {
   "display_name": "Python 3",
   "language": "python",
   "name": "python3"
  },
  "language_info": {
   "codemirror_mode": {
    "name": "ipython",
    "version": 3
   },
   "file_extension": ".py",
   "mimetype": "text/x-python",
   "name": "python",
   "nbconvert_exporter": "python",
   "pygments_lexer": "ipython3",
   "version": "3.8.8"
  }
 },
 "nbformat": 4,
 "nbformat_minor": 5
}
