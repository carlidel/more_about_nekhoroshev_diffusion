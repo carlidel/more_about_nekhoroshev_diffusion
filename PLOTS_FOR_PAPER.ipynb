{
 "cells": [
  {
   "cell_type": "markdown",
   "id": "8de24cef-cedd-4d5e-807d-9f2c8025a2c5",
   "metadata": {},
   "source": [
    "# Notebook for generating all an only the figures related to the paper!"
   ]
  },
  {
   "cell_type": "markdown",
   "id": "37385e37-bc68-4408-b323-d6f5e7ba2db5",
   "metadata": {},
   "source": [
    "## General setup"
   ]
  },
  {
   "cell_type": "markdown",
   "id": "cfb8f910-5793-405f-8acb-c5455cc1ae80",
   "metadata": {},
   "source": [
    "### Figure path"
   ]
  },
  {
   "cell_type": "code",
   "execution_count": 1,
   "id": "8c1cfd3d-185c-4c66-98c3-bba8700aa883",
   "metadata": {},
   "outputs": [],
   "source": [
    "PATH=\"/home/camontan/tmp/\"\n",
    "DPI=600"
   ]
  },
  {
   "cell_type": "code",
   "execution_count": 1,
   "id": "de3b6d00-8483-4a93-b504-1a5b7ffaa460",
   "metadata": {},
   "outputs": [],
   "source": [
    "PATH=\"../PAPER_DIFFUSION/figs/\"\n",
    "DPI=600"
   ]
  },
  {
   "cell_type": "code",
   "execution_count": 2,
   "id": "0988f297-1fe4-411d-a3ab-ba25b50ff63a",
   "metadata": {},
   "outputs": [],
   "source": [
    "DATA_PATH = \"/home/camontan/moving_barrier_data\""
   ]
  },
  {
   "cell_type": "code",
   "execution_count": 3,
   "id": "b2fbe891-0c39-4a48-b503-2ae6462804c1",
   "metadata": {},
   "outputs": [],
   "source": [
    "%matplotlib inline"
   ]
  },
  {
   "cell_type": "markdown",
   "id": "879ca304-02cc-47f9-8b3b-3d372259fa9e",
   "metadata": {},
   "source": [
    "### Libraries"
   ]
  },
  {
   "cell_type": "code",
   "execution_count": 4,
   "id": "eef13521-0716-40f3-af10-48972b903810",
   "metadata": {},
   "outputs": [],
   "source": [
    "import pickle\n",
    "import numpy as np\n",
    "import matplotlib\n",
    "import matplotlib.pyplot as plt\n",
    "from matplotlib import gridspec\n",
    "import scipy\n",
    "import scipy.integrate\n",
    "import scipy.interpolate\n",
    "from tqdm.notebook import tqdm\n",
    "import crank_nicolson_numba.generic as cn\n",
    "import itertools\n",
    "import os\n",
    "# For parallelization\n",
    "from joblib import Parallel, delayed\n",
    "\n",
    "import lmfit\n",
    "import nekhoroshev_tools as nt"
   ]
  },
  {
   "cell_type": "code",
   "execution_count": 5,
   "id": "9bb819ad-c14b-4cc2-bf90-8de1fc367be0",
   "metadata": {},
   "outputs": [],
   "source": [
    "from uncertainties import ufloat"
   ]
  },
  {
   "cell_type": "code",
   "execution_count": 6,
   "id": "082d5f96-2e2e-4367-ae03-2c7532f2a4cf",
   "metadata": {},
   "outputs": [],
   "source": [
    "plt.rc('text', usetex=True)\n",
    "plt.rc('font', family='serif')\n",
    "matplotlib.rcParams['text.latex.preamble'] = r'\\usepackage{amsmath}'"
   ]
  },
  {
   "cell_type": "markdown",
   "id": "8785408c-01f8-4ca9-b819-74c71a1df1ca",
   "metadata": {},
   "source": [
    "### Test for the path"
   ]
  },
  {
   "cell_type": "code",
   "execution_count": 7,
   "id": "a8f4478e-3048-45a3-83ef-40432567c137",
   "metadata": {},
   "outputs": [
    {
     "data": {
      "image/png": "[encoded data removed]",
      "text/plain": [
       "<Figure size 432x288 with 1 Axes>"
      ]
     },
     "metadata": {
      "needs_background": "light"
     },
     "output_type": "display_data"
    }
   ],
   "source": [
    "plt.figure()\n",
    "plt.plot(np.linspace(0, 1), np.exp(np.linspace(0, 1)))\n",
    "\n",
    "plt.savefig(os.path.join(PATH+\"test.pdf\"), dpi=DPI)"
   ]
  },
  {
   "cell_type": "code",
   "execution_count": 39,
   "metadata": {},
   "outputs": [],
   "source": [
    "figsize = (7, 4)\n",
    "figsize_compressed = (7, 3)\n",
    "figsize_compressed_half = (7, 3.5)\n",
    "figsize_large = (7, 5)\n"
   ]
  },
  {
   "cell_type": "markdown",
   "id": "7feefb4f-43f7-4e76-a586-57091bdcc27d",
   "metadata": {},
   "source": [
    "## Model presentation"
   ]
  },
  {
   "cell_type": "markdown",
   "id": "3fbadef1-650f-42f8-bf62-f50200f43a7a",
   "metadata": {},
   "source": [
    "### Just the diffusion coefficient"
   ]
  },
  {
   "cell_type": "code",
   "execution_count": 9,
   "id": "d6b5f6b8-4c27-4284-947e-86b3374c1bd6",
   "metadata": {},
   "outputs": [],
   "source": [
    "I_star = 1.0\n",
    "k = 0.33\n",
    "exponent = 1/(k*2)\n",
    "k_low = 0.20\n",
    "exponent_low = 1/(k_low*2)\n",
    "k_high = 0.50\n",
    "exponent_high = 1/(k_high*2)"
   ]
  },
  {
   "cell_type": "code",
   "execution_count": 10,
   "id": "51bdbe54-194f-45b6-819f-afb4ba0409dc",
   "metadata": {},
   "outputs": [
    {
     "name": "stderr",
     "output_type": "stream",
     "text": [
      "/home/camontan/Insync/carlo.montanari3@studio.unibo.it/OneDrive_Biz/projects/new_games_with_diffusion/nekhoroshev_tools.py:36: RuntimeWarning: divide by zero encountered in double_scalars\n",
      "  return c * np.exp(-2*np.power(I_star/I, exponent)) * (0.5 if halved else 1.0)\n",
      "/home/camontan/Insync/carlo.montanari3@studio.unibo.it/OneDrive_Biz/projects/new_games_with_diffusion/nekhoroshev_tools.py:36: RuntimeWarning: divide by zero encountered in double_scalars\n",
      "  return c * np.exp(-2*np.power(I_star/I, exponent)) * (0.5 if halved else 1.0)\n"
     ]
    }
   ],
   "source": [
    "I0 = np.ones(1000)\n",
    "I0[-100:] = 0\n",
    "engine1 = cn.cn_generic(0, 1.5, I0, 0.001, lambda x : nt.D(x, 1, 1/k, 1.0, True), False)\n",
    "engine2 = cn.cn_generic(0, 1.5, I0, 0.001, lambda x : nt.D(x, 1, 1/k_low, 1.0, True), False)\n",
    "engine3 = cn.cn_generic(0, 1.5, I0, 0.001, lambda x : nt.D(x, 1, 1/k_high, 1.0, True), False)"
   ]
  },
  {
   "cell_type": "code",
   "execution_count": 11,
   "id": "48850938-50d9-48eb-bc8b-e89e78622ece",
   "metadata": {},
   "outputs": [],
   "source": [
    "engine1.reset()\n",
    "engine2.reset()\n",
    "engine3.reset()\n",
    "data0 = engine1.get_data_with_x()\n",
    "engine1.iterate(10000)\n",
    "engine2.iterate(10000)\n",
    "engine3.iterate(10000)\n",
    "data1 = engine1.get_data_with_x()\n",
    "data2 = engine2.get_data_with_x()\n",
    "data3 = engine3.get_data_with_x()"
   ]
  },
  {
   "cell_type": "code",
   "execution_count": 12,
   "id": "429dff5c-6712-4e41-917a-24d625eed8ff",
   "metadata": {},
   "outputs": [],
   "source": [
    "time = 0.001 * 10000"
   ]
  },
  {
   "cell_type": "code",
   "execution_count": 13,
   "id": "21880151-b688-4273-bfda-4803e26ebca1",
   "metadata": {},
   "outputs": [],
   "source": [
    "I = np.linspace(0.01, 1.5, 1000)"
   ]
  },
  {
   "cell_type": "code",
   "execution_count": 27,
   "id": "0808843a-643c-4490-ae03-b6e554c4149c",
   "metadata": {},
   "outputs": [
    {
     "data": {
      "image/png": "[encoded data removed]",
      "text/plain": [
       "<Figure size 432x288 with 3 Axes>"
      ]
     },
     "metadata": {
      "needs_background": "light"
     },
     "output_type": "display_data"
    }
   ],
   "source": [
    "fig = plt.figure()#(figsize=(5, 3))\n",
    "gs = gridspec.GridSpec(3, 1, height_ratios=[1, 1, 1])\n",
    "\n",
    "ax0 = plt.subplot(gs[0])\n",
    "ax1 = plt.subplot(gs[1], sharex=ax0)\n",
    "ax2 = plt.subplot(gs[2], sharex=ax0)\n",
    "\n",
    "ax0.plot(I, nt.D(I, I_star, exponent_low), label=str(k_low))\n",
    "ax1.plot(I, nt.D(I, I_star, exponent_low))\n",
    "ax0.plot(I, nt.D(I, I_star, exponent), label=str(k))\n",
    "ax1.plot(I, nt.D(I, I_star, exponent))\n",
    "ax0.plot(I, nt.D(I, I_star, exponent_high), label=str(k_high))\n",
    "ax1.plot(I, nt.D(I, I_star, exponent_high))\n",
    "\n",
    "ax2.plot(data1[0], np.ones_like(data1[0]), c=\"grey\", label=\"$\\\\rho_0(I)$\")\n",
    "ax2.plot(data1[0], data2[1])\n",
    "ax2.plot(data1[0], data1[1])\n",
    "ax2.plot(data1[0], data3[1])\n",
    "\n",
    "#ax0.axvline(I_star, c=\"red\")\n",
    "#ax1.axvline(I_star, c=\"red\")\n",
    "#ax2.axvline(I_star, c=\"red\", label=\"$I/I_*=1$\")\n",
    "\n",
    "ax0.axvline(1.5, c=\"black\")\n",
    "ax1.axvline(1.5, c=\"black\")\n",
    "ax2.axvline(1.5, c=\"black\", label=\"Boundary condition\")\n",
    "\n",
    "ax0.legend(title=\"$\\\\kappa$\", frameon=False)\n",
    "ax2.legend(loc=\"lower left\", frameon=False)\n",
    "\n",
    "ax1.set_yscale(\"log\")\n",
    "ax1.set_ylim(bottom=1e-14, top=10)\n",
    "\n",
    "plt.setp(ax0.get_xticklabels(), visible=False)\n",
    "\n",
    "ax2.set_xlabel(\"$I/I_\\\\ast$\")\n",
    "ax0.set_ylabel(\"$D(I)$\")\n",
    "ax1.set_ylabel(\"$\\\\log_{10}(D(I))$\")\n",
    "ax2.set_ylabel(\"$\\\\rho(I, t={})$\".format(time))\n",
    "ax2.set_ylim(top=1.2)\n",
    "\n",
    "plt.tight_layout()\n",
    "plt.subplots_adjust(hspace=.0)\n",
    "plt.setp(ax0.get_xticklabels(), visible=False)\n",
    "yticks = ax1.yaxis.get_major_ticks()\n",
    "#yticks[-3].label1.set_visible(False)\n",
    "\n",
    "plt.savefig(os.path.join(PATH+\"diffusion_coefficient.pdf\"), dpi=DPI, pad_inches=0.0)\n"
   ]
  },
  {
   "cell_type": "markdown",
   "id": "c87c844c-6ae1-451b-bc8c-ce1d121329aa",
   "metadata": {},
   "source": [
    "## Semi-stationary"
   ]
  },
  {
   "cell_type": "code",
   "execution_count": 17,
   "id": "d3efa862-9a6a-4fa0-8db8-a10d06ce8463",
   "metadata": {},
   "outputs": [],
   "source": [
    "idx = np.argmin(data1[1]> 0.9) - 1\n",
    "\n",
    "def stat_f(I, alpha):\n",
    "    return [alpha * scipy.integrate.quad(\n",
    "        lambda x: 1/nt.D(x, 1, 1/k, 1.0),\n",
    "        i, 1.5\n",
    "    )[0] for i in I]\n",
    "\n",
    "def stat_f_log(I, alpha):\n",
    "    result = [alpha + np.log10(scipy.integrate.quad(\n",
    "        lambda x: 1/nt.D(x, 1, 1/k, 1.0),\n",
    "        i, 1.5\n",
    "    )[0]) for i in I]\n",
    "    return result\n",
    "\n",
    "popt, pcov = scipy.optimize.curve_fit(\n",
    "    stat_f,\n",
    "    data1[0][idx:-1],\n",
    "    data1[1][idx:-1],\n",
    "    p0=1\n",
    ")\n",
    "\n",
    "popt_log, pcov_log = scipy.optimize.curve_fit(\n",
    "    stat_f_log,\n",
    "    data1[0][idx:-1],\n",
    "    np.log10(data1[1][idx:-1]),\n",
    "    p0=1\n",
    ")"
   ]
  },
  {
   "cell_type": "code",
   "execution_count": 18,
   "id": "229ee3b2-284e-419e-840b-52a2c29fddf3",
   "metadata": {},
   "outputs": [
    {
     "data": {
      "image/png": "[encoded data removed]",
      "text/plain": [
       "<Figure size 504x288 with 1 Axes>"
      ]
     },
     "metadata": {
      "needs_background": "light"
     },
     "output_type": "display_data"
    }
   ],
   "source": [
    "plt.figure(figsize=figsize)\n",
    "plt.plot(data1[0][:], np.ones_like(data1[1][:]), c=\"grey\", label=\"$\\\\rho_0$\")\n",
    "plt.axvline(1.5, c=\"black\", label=\"Boundary condition\")\n",
    "\n",
    "plt.plot(data1[0][:], data1[1][:], label=\"Numerical integration\")\n",
    "plt.plot(data1[0][idx:], np.array(stat_f(data1[0][idx:], 10**popt_log[0])), label=\"Fitting of stationary distribution $(\\\\alpha = {:.2})$\".format(10**popt_log[0]))\n",
    "\n",
    "plt.xlabel(\"$I/I_\\\\ast$\")\n",
    "plt.ylabel(\"$\\\\rho(I)$\")\n",
    "\n",
    "plt.legend()\n",
    "\n",
    "plt.yscale(\"log\")\n",
    "plt.tight_layout()\n",
    "\n",
    "#plt.savefig(os.path.join(PATH+\"stationary_distribution.pdf\"), dpi=DPI)"
   ]
  },
  {
   "cell_type": "code",
   "execution_count": 28,
   "id": "c41cd267-948b-47e2-975b-17b9be892d74",
   "metadata": {},
   "outputs": [
    {
     "data": {
      "image/png": "[encoded data removed]",
      "text/plain": [
       "<Figure size 504x216 with 2 Axes>"
      ]
     },
     "metadata": {
      "needs_background": "light"
     },
     "output_type": "display_data"
    }
   ],
   "source": [
    "fig, ax1 = plt.subplots(figsize=figsize_compressed)\n",
    "ax2 = ax1.twinx()\n",
    "\n",
    "ax1.plot(data1[0][:], np.ones_like(data1[1][:]), c=\"grey\", label=\"$\\\\rho_0$\")\n",
    "ax1.axvline(1.5, c=\"black\", label=\"Boundary condition\")\n",
    "\n",
    "ax2.plot(data1[0][idx:], \n",
    "         (np.array(stat_f(data1[0][idx:], 10**popt_log[0] + 0.002)) - data1[1][idx:]) / data1[1][idx:],\n",
    "         \"--\", c=\"red\"\n",
    "        )\n",
    "\n",
    "ax1.plot(data1[0][:], data1[1][:], label=\"Numerical integration\")\n",
    "\n",
    "\n",
    "fit_data = data1[0][idx:], np.array(stat_f(data1[0][idx:], 10**popt_log[0]))\n",
    "\n",
    "ax1.plot(data1[0][idx:], np.array(stat_f(data1[0][idx:], (10**popt_log[0] + 0.002))), label=\"Fitting of stationary distribution $(\\\\alpha = {:.2})$\".format(10**popt_log[0] +0.002))\n",
    "\n",
    "ax1.plot([],[],\"--\", c=\"red\", label=\"Relative error\")\n",
    "\n",
    "ax1.set_xlabel(\"$I/I_\\\\ast$\")\n",
    "ax1.set_ylabel(\"$\\\\rho(I)$\")\n",
    "\n",
    "ax1.legend(frameon=False)\n",
    "\n",
    "ax1.set_yscale(\"log\")\n",
    "ax2.set_ylim(-1.0, 1.0)\n",
    "ax1.set_zorder(ax2.get_zorder()+10)\n",
    "ax1.patch.set_visible(False)\n",
    "ax2.set_ylabel(\"Relative error\")\n",
    "plt.tight_layout()\n",
    "\n",
    "plt.savefig(os.path.join(PATH+\"stationary_distribution.pdf\"), dpi=DPI, pad_inches=0.0)"
   ]
  },
  {
   "cell_type": "code",
   "execution_count": 29,
   "id": "2819d938-5ed0-4794-8fab-0e8b03cdb2b3",
   "metadata": {},
   "outputs": [
    {
     "data": {
      "image/png": "[encoded data removed]",
      "text/plain": [
       "<Figure size 432x288 with 1 Axes>"
      ]
     },
     "metadata": {
      "needs_background": "light"
     },
     "output_type": "display_data"
    }
   ],
   "source": [
    "plt.plot(data1[0][:], np.ones_like(data1[1][:]), c=\"grey\", label=\"$\\\\rho_0$\")\n",
    "plt.axvline(1.5, c=\"black\", label=\"Collimator\")\n",
    "\n",
    "plt.plot(data1[0][:], data1[1][:], label=\"Numerical integration\")\n",
    "plt.plot(data1[0][idx:], np.array(stat_f(data1[0][idx:], 10**popt_log[0])), label=\"Fitting of stationary distribution\")\n",
    "\n",
    "plt.xlabel(\"$I/I_\\\\ast$\")\n",
    "plt.ylabel(\"$\\\\rho(I)$\")\n",
    "\n",
    "plt.legend()\n",
    "\n",
    "#plt.yscale(\"log\")\n",
    "plt.tight_layout()\n",
    "\n",
    "#plt.savefig(os.path.join(PATH+\"stationary_distribution.pdf\"), dpi=DPI)"
   ]
  },
  {
   "cell_type": "markdown",
   "id": "26839a75-7512-4e18-958c-a5f622f58c91",
   "metadata": {},
   "source": [
    "## Difference in distributions for stationary"
   ]
  },
  {
   "cell_type": "code",
   "execution_count": 30,
   "id": "9d8016de-56e0-4c5a-9a6b-6e15a6195764",
   "metadata": {},
   "outputs": [],
   "source": [
    "I_star = 1.0\n",
    "k = 0.33\n",
    "exponent = 1/(k*2)\n",
    "\n",
    "gap = 0.05"
   ]
  },
  {
   "cell_type": "code",
   "execution_count": 31,
   "id": "a0badd62-d6ef-4d71-9c60-f887a873e188",
   "metadata": {},
   "outputs": [],
   "source": [
    "I_min = 0.4\n",
    "I_max = 1.0\n",
    "c = nt.standard_c(0.0, I_max, I_star, exponent)\n",
    "sampling = 10000\n",
    "\n",
    "\n",
    "I = np.linspace(I_min, I_max+gap, sampling)\n",
    "\n",
    "I0 = nt.stationary_dist(I, I_max, I_star, exponent, c)\n",
    "I0[I0 < 0] = 0.0\n",
    "\n",
    "I0_bis = nt.stationary_dist(I, I_max + gap, I_star, exponent, c)\n",
    "\n",
    "I0_ter = nt.stationary_dist(I, I_max - gap, I_star, exponent, c)\n",
    "I0_ter[I0_ter < 0] = 0.0\n",
    "\n",
    "I0 /= I0[0]\n",
    "I0_bis /= I0_bis[0]\n",
    "I0_ter /= I0_ter[0]"
   ]
  },
  {
   "cell_type": "code",
   "execution_count": 32,
   "id": "8f2aab9b-7a99-4e22-ab14-cb8fb6e3aecf",
   "metadata": {},
   "outputs": [
    {
     "data": {
      "image/png": "[encoded data removed]",
      "text/plain": [
       "<Figure size 432x288 with 1 Axes>"
      ]
     },
     "metadata": {
      "needs_background": "light"
     },
     "output_type": "display_data"
    }
   ],
   "source": [
    "plt.plot(I, I0)\n",
    "plt.plot(I, I0_bis)\n",
    "plt.plot(I, I0_ter)\n",
    "plt.yscale(\"log\")"
   ]
  },
  {
   "cell_type": "code",
   "execution_count": 33,
   "id": "4c63364b-3a93-4fe0-9a53-e4dac0c2b4cc",
   "metadata": {},
   "outputs": [
    {
     "data": {
      "text/plain": [
       "[<matplotlib.lines.Line2D at 0x7f1851c5d280>]"
      ]
     },
     "execution_count": 33,
     "metadata": {},
     "output_type": "execute_result"
    },
    {
     "data": {
      "image/png": "[encoded data removed]",
      "text/plain": [
       "<Figure size 432x288 with 1 Axes>"
      ]
     },
     "metadata": {
      "needs_background": "light"
     },
     "output_type": "display_data"
    }
   ],
   "source": [
    "plt.plot(I, I0 - I0_bis)\n",
    "plt.plot(I, I0 - I0_ter)"
   ]
  },
  {
   "cell_type": "code",
   "execution_count": 50,
   "id": "ddd7810d-b506-4bc6-83b1-408bcdd7854a",
   "metadata": {},
   "outputs": [
    {
     "name": "stderr",
     "output_type": "stream",
     "text": [
      "/tmp/ipykernel_44820/1846748494.py:35: RuntimeWarning: divide by zero encountered in true_divide\n",
      "  ax1_bis.plot(I[1:], (np.concatenate((block1, block2))[1:] - (- I0_bis[:idx] + I0[:idx]))/(- I0_bis[:idx] + I0[:idx]), c=\"C1\", linestyle=\"dashdot\")\n"
     ]
    },
    {
     "data": {
      "image/png": "[encoded data removed]",
      "text/plain": [
       "<Figure size 504x252 with 3 Axes>"
      ]
     },
     "metadata": {
      "needs_background": "light"
     },
     "output_type": "display_data"
    }
   ],
   "source": [
    "fig = plt.figure(figsize=figsize_compressed_half)#(figsize=(5, 3))\n",
    "gs = gridspec.GridSpec(2, 1, height_ratios=[1, 1])\n",
    "\n",
    "ax0 = plt.subplot(gs[0])\n",
    "ax1 = plt.subplot(gs[1], sharex=ax0)\n",
    "\n",
    "ax1_bis = ax1.twinx()\n",
    "\n",
    "idx = -1\n",
    "\n",
    "ax0.axvline(I_max, color=\"grey\", label=\"$I_a$\")\n",
    "ax0.axvline(I_max + gap, color=\"black\", label=\"$I''_a$\")\n",
    "\n",
    "ax0.plot(I[:idx], I0[:idx], label=\"$\\\\rho_0$\")\n",
    "ax0.plot(I[:idx], I0_bis[:idx], label=\"$\\\\rho_\\\\text{eq}$\")\n",
    "ax0.set_yscale(\"log\")\n",
    "\n",
    "ax0.legend(ncol=2, frameon=False)\n",
    "ax0.set_ylim(bottom=0.2e-4)\n",
    "\n",
    "ax0.arrow(I_max, 1e-1, gap - 0.02, 0.0, head_width=0.05, head_length=0.018, fc='k', ec='k')\n",
    "\n",
    "ax1.axvline(I_max, color=\"grey\")\n",
    "ax1.axvline(I_max + gap, color=\"black\")\n",
    "\n",
    "idx2 = np.argmax(I>I_max)\n",
    "\n",
    "ax1.plot(I[:idx], - I0_bis[:idx] + I0[:idx], color=\"red\", label=\"$\\\\rho^*$\")\n",
    "\n",
    "block1 = np.ones_like(I[:idx2]) * (- I0_bis[:idx] + I0[:idx])[idx2]\n",
    "block2 = np.linspace((- I0_bis[:idx] + I0[:idx])[idx2], 0.0, len(I) - idx2)\n",
    "\n",
    "ax1.plot(I, np.concatenate((block1, block2)), \"--\", color=\"maroon\", label=\"Approx. $\\\\rho^*$\")\n",
    "\n",
    "ax1_bis.plot(I[1:], (np.concatenate((block1, block2))[1:] - (- I0_bis[:idx] + I0[:idx]))/(- I0_bis[:idx] + I0[:idx]), c=\"C1\", linestyle=\"dashdot\")\n",
    "ax1_bis.set_ylim(-0.75, 0.75)\n",
    "\n",
    "ax1.plot([],[],c=\"C1\", linestyle=\"dashdot\", label=\"Relative error\")\n",
    "\n",
    "ax1.set_zorder(ax1_bis.get_zorder()+10)\n",
    "ax1.patch.set_visible(False)\n",
    "\n",
    "ax1.legend(ncol=3, frameon=False)\n",
    "\n",
    "ax1.set_xlabel(\"$I / I_\\\\ast$\")\n",
    "ax0.set_ylabel(\"$\\\\rho$\")\n",
    "ax1.set_ylabel(\"$\\\\rho$\")\n",
    "ax1_bis.set_ylabel(\"Relative error\")\n",
    "\n",
    "plt.tight_layout()\n",
    "\n",
    "plt.setp(ax0.get_xticklabels(), visible=False)\n",
    "plt.subplots_adjust(hspace=.0)\n",
    "\n",
    "plt.savefig(os.path.join(PATH+\"difference_outwards.pdf\"), dpi=DPI, pad_inches=0.0)\n"
   ]
  },
  {
   "cell_type": "markdown",
   "id": "d324c618-e8c0-4f8c-b36b-a76b423191cb",
   "metadata": {},
   "source": [
    "### Currents..."
   ]
  },
  {
   "cell_type": "code",
   "execution_count": 51,
   "id": "97b7c54b-89fc-4a55-82a5-7f8be849adc5",
   "metadata": {},
   "outputs": [],
   "source": [
    "c = nt.standard_c(0.0, I_max+gap, I_star, exponent)\n",
    "engine = cn.cn_generic(I_min, I_max+gap, I0[:], 0.000001, lambda x : nt.D(x, I_star, exponent, c, True), False)\n",
    "engine.lock_left()"
   ]
  },
  {
   "cell_type": "code",
   "execution_count": 52,
   "id": "e9c7a6e8-b625-41e3-8900-798f5bb6cc27",
   "metadata": {},
   "outputs": [
    {
     "name": "stderr",
     "output_type": "stream",
     "text": [
      "100%|██████████| 10000/10000 [00:03<00:00, 3047.22it/s]\n"
     ]
    }
   ],
   "source": [
    "data = engine.current(10000, 2, False)"
   ]
  },
  {
   "cell_type": "code",
   "execution_count": 53,
   "id": "70c7d51a-5c84-463b-b9cd-8395986124ef",
   "metadata": {},
   "outputs": [
    {
     "data": {
      "image/png": "[encoded data removed]",
      "text/plain": [
       "<Figure size 432x288 with 1 Axes>"
      ]
     },
     "metadata": {
      "needs_background": "light"
     },
     "output_type": "display_data"
    }
   ],
   "source": [
    "plt.plot(I[:idx2], I0[:idx2])\n",
    "coso = engine.get_data_with_x()\n",
    "plt.plot(coso[0], coso[1])\n",
    "plt.yscale(\"log\")"
   ]
  },
  {
   "cell_type": "code",
   "execution_count": 54,
   "id": "be0b1971-935a-4146-871b-69a9c99cc7fd",
   "metadata": {},
   "outputs": [],
   "source": [
    "shame_idx = np.argmin(data[1])\n",
    "\n",
    "times_array = np.linspace(data[0][shame_idx], data[0][-1], 100)\n",
    "rho = scipy.interpolate.interp1d(I, - I0_bis[:] + I0[:], kind='cubic')\n",
    "current = nt.current_generic(times_array, rho, I[:idx][-1], I_min, I_star, exponent, c)\n",
    "\n",
    "rho = scipy.interpolate.interp1d(I, np.concatenate((block1, block2)), kind='cubic')\n",
    "current_approx = nt.current_generic(times_array, rho, I[:idx][-1], I_min, I_star, exponent, c)"
   ]
  },
  {
   "cell_type": "code",
   "execution_count": 55,
   "id": "fac9da6f-20c9-42ca-b1d1-d97cb4a1011f",
   "metadata": {},
   "outputs": [],
   "source": [
    "f_temp = scipy.interpolate.interp1d(data[0], data[1], kind=\"cubic\")"
   ]
  },
  {
   "cell_type": "code",
   "execution_count": 70,
   "id": "848be4f9-8d17-426f-bd4e-77a692618115",
   "metadata": {},
   "outputs": [
    {
     "data": {
      "image/png": "[encoded data removed]",
      "text/plain": [
       "<Figure size 504x216 with 2 Axes>"
      ]
     },
     "metadata": {
      "needs_background": "light"
     },
     "output_type": "display_data"
    }
   ],
   "source": [
    "fig, ax1 = plt.subplots(figsize=figsize_compressed)\n",
    "ax2 = ax1.twinx()\n",
    "\n",
    "ax1.set_zorder(ax2.get_zorder()+10)\n",
    "ax1.patch.set_visible(False)\n",
    "\n",
    "ax1.plot(data[0][shame_idx:], data[1][shame_idx:], label=\"Numerical simulation\")\n",
    "ax1.plot(times_array, current, \"--\", label=\"Analytical reconstruction\")\n",
    "ax1.plot([], [], c=\"C1\", label=\"Relative error\")\n",
    "ax1.plot(times_array, current_approx, linestyle=\"dotted\", label=\"Analytical approximation\")\n",
    "ax1.plot([], [], c=\"C2\", label=\"Relative error\")\n",
    "#plt.yscale(\"log\")\n",
    "\n",
    "ax2.plot(times_array, (current - f_temp(times_array))/f_temp(times_array), c=\"C1\")\n",
    "ax2.plot(times_array, (current_approx - f_temp(times_array))/f_temp(times_array), c=\"C2\")\n",
    "\n",
    "ax1.plot()\n",
    "\n",
    "ax1.set_xlabel(\"$t$\")\n",
    "ax1.set_ylabel(\"$J$\")\n",
    "ax1.legend(ncol=2, frameon=False)\n",
    "\n",
    "ax2.set_ylim(-0.1, 0.1)\n",
    "ax2.set_ylabel(\"Relative error\")\n",
    "\n",
    "plt.tight_layout()\n",
    "\n",
    "plt.savefig(os.path.join(PATH+\"current_outwards.pdf\"), dpi=DPI, pad_inches=0.0)\n"
   ]
  },
  {
   "cell_type": "code",
   "execution_count": null,
   "id": "2cf6f0a7-7500-48f3-9cfe-53bac0853b08",
   "metadata": {},
   "outputs": [],
   "source": []
  },
  {
   "cell_type": "markdown",
   "id": "16d572ab-adeb-47bf-a2fd-30fb395520c3",
   "metadata": {},
   "source": [
    "### And now the other one"
   ]
  },
  {
   "cell_type": "code",
   "execution_count": 71,
   "id": "1337f789-e5bb-4238-8e44-8b06d37f9c14",
   "metadata": {},
   "outputs": [
    {
     "data": {
      "image/png": "[encoded data removed]",
      "text/plain": [
       "<Figure size 504x252 with 3 Axes>"
      ]
     },
     "metadata": {
      "needs_background": "light"
     },
     "output_type": "display_data"
    }
   ],
   "source": [
    "fig = plt.figure(figsize=figsize_compressed_half)#(figsize=(5, 3))\n",
    "gs = gridspec.GridSpec(2, 1, height_ratios=[1, 1])\n",
    "\n",
    "ax0 = plt.subplot(gs[0])\n",
    "ax1 = plt.subplot(gs[1], sharex=ax0)\n",
    "ax1_bis = ax1.twinx()\n",
    "\n",
    "idx = np.argmax(I>I_max)\n",
    "idx2 = np.argmax(I>I_max-gap)\n",
    "\n",
    "ax0.axvline(I_max, color=\"grey\", label=\"$I_a$\")\n",
    "\n",
    "ax0.plot(I[:idx2], I0[:idx2], label=\"$\\\\rho_0$\")\n",
    "ax0.plot(I[idx2:idx], I0[idx2:idx], \"--\", c=\"C0\")\n",
    "ax0.axvline(I_max - gap, color=\"black\", label=\"$I'_a$\")\n",
    "ax0.plot(I[:idx], I0_ter[:idx], label=\"$\\\\rho_\\\\text{eq}$\")\n",
    "ax0.set_yscale(\"log\")\n",
    "\n",
    "ax0.legend(ncol=2, frameon=False)\n",
    "ax0.set_ylim(bottom=0.2e-4)\n",
    "\n",
    "ax0.arrow(I_max, 1e-1, - gap + 0.02, 0.0, head_width=0.05,\n",
    "          head_length=0.018, fc='k', ec='k')\n",
    "\n",
    "\n",
    "ax1.axvline(I_max, color=\"grey\")\n",
    "ax1.axvline(I_max - gap, color=\"black\")\n",
    "\n",
    "idx = np.argmax(I>I_max-gap)\n",
    "\n",
    "ax1.plot(I[:idx], - I0_ter[:idx] + I0[:idx], color=\"red\", label=\"$\\\\rho^*$\")\n",
    "ax1.plot(I[:idx], np.ones_like(I[:idx]) * (- I0_ter[:idx] + I0[:idx])[-1], \"--\", color=\"maroon\", label=\"approx. $\\\\rho^*$\")\n",
    "ax1.plot([],[], linestyle=\"dashdot\", c=\"C1\", label=\"Relative error\")\n",
    "\n",
    "ax1_bis.plot(I[:idx],\n",
    "             (np.ones_like(I[:idx]) * (- I0_ter[:idx] + I0[:idx])[-1] + I0_ter[:idx] - I0[:idx])/(np.ones_like(I[:idx]) * (- I0_ter[:idx] + I0[:idx])[-1]),\n",
    "             c=\"C1\", linestyle=\"dashdot\")\n",
    "ax1_bis.set_ylim(-0.5, 0.5)\n",
    "\n",
    "ax1.legend(ncol=3, frameon=False)\n",
    "\n",
    "ax1.set_xlabel(\"$I / I_\\\\ast$\")\n",
    "ax0.set_ylabel(\"$\\\\rho$\")\n",
    "ax1.set_ylabel(\"$\\\\rho$\")\n",
    "ax1_bis.set_ylabel(\"Relative error\")\n",
    "\n",
    "plt.tight_layout()\n",
    "\n",
    "plt.setp(ax0.get_xticklabels(), visible=False)\n",
    "plt.subplots_adjust(hspace=.0)\n",
    "\n",
    "plt.savefig(os.path.join(PATH+\"difference_backwards.pdf\"), dpi=DPI, pad_inches=0.0)\n"
   ]
  },
  {
   "cell_type": "markdown",
   "id": "692b7177-2400-4eb3-9406-4dcc23ae206c",
   "metadata": {},
   "source": [
    "### Currents..."
   ]
  },
  {
   "cell_type": "code",
   "execution_count": 61,
   "id": "c5b144e7-9a3d-4230-956b-06d6132e012f",
   "metadata": {},
   "outputs": [],
   "source": [
    "c = nt.standard_c(0.0, I_max-gap, I_star, exponent)\n",
    "engine = cn.cn_generic(I_min, I_max-gap, I0[:idx2], 0.000001, lambda x : nt.D(x, I_star, exponent, c, True), False)\n",
    "engine.lock_left()"
   ]
  },
  {
   "cell_type": "code",
   "execution_count": 62,
   "id": "7dcf3394-a2f3-4ab4-a459-4864d110b018",
   "metadata": {},
   "outputs": [
    {
     "name": "stderr",
     "output_type": "stream",
     "text": [
      "100%|██████████| 10000/10000 [00:02<00:00, 3571.96it/s]\n"
     ]
    }
   ],
   "source": [
    "data = engine.current(10000, 2, False)"
   ]
  },
  {
   "cell_type": "code",
   "execution_count": 63,
   "id": "bb10f76f-b765-4841-9424-c9a779e92983",
   "metadata": {},
   "outputs": [
    {
     "data": {
      "image/png": "[encoded data removed]",
      "text/plain": [
       "<Figure size 432x288 with 1 Axes>"
      ]
     },
     "metadata": {
      "needs_background": "light"
     },
     "output_type": "display_data"
    }
   ],
   "source": [
    "plt.plot(I[:idx2], I0[:idx2])\n",
    "coso = engine.get_data_with_x()\n",
    "plt.plot(coso[0], coso[1])\n",
    "plt.yscale(\"log\")"
   ]
  },
  {
   "cell_type": "code",
   "execution_count": 64,
   "id": "2ff65235-dac7-4174-8c6b-8d19d9929276",
   "metadata": {},
   "outputs": [],
   "source": [
    "shame_idx = 5\n",
    "times_array = np.linspace(data[0][shame_idx], data[0][-1], 200)\n",
    "rho = scipy.interpolate.interp1d(I[:idx2], I0[:idx2] - I0_ter[:idx2], kind='cubic')\n",
    "current = nt.current_generic(times_array, rho, I[:idx2][-1], I_min, I_star, exponent, c)\n",
    "\n",
    "current_approx = nt.current_generic(times_array, lambda x : rho(I[:idx2][-1]), I[:idx2][-1], I_min, I_star, exponent, c)"
   ]
  },
  {
   "cell_type": "code",
   "execution_count": 65,
   "id": "809cbb14-dcd6-43f9-9167-4ac4f80f7bc8",
   "metadata": {},
   "outputs": [],
   "source": [
    "alpha = 1 / scipy.integrate.quad(lambda x : 1/nt.D(x, I_star, exponent, c), 0.4, 1.0)[0]"
   ]
  },
  {
   "cell_type": "code",
   "execution_count": 66,
   "id": "287520eb-255e-4c08-b928-c13bc5417a36",
   "metadata": {},
   "outputs": [
    {
     "data": {
      "text/plain": [
       "array(0.00302822)"
      ]
     },
     "execution_count": 66,
     "metadata": {},
     "output_type": "execute_result"
    }
   ],
   "source": [
    "rho(I[:idx2][-1])"
   ]
  },
  {
   "cell_type": "code",
   "execution_count": 67,
   "id": "08a12f2e-23d2-4d9c-8444-0b32125b233b",
   "metadata": {},
   "outputs": [
    {
     "data": {
      "text/plain": [
       "0.0030311846544093775"
      ]
     },
     "execution_count": 67,
     "metadata": {},
     "output_type": "execute_result"
    }
   ],
   "source": [
    "alpha * scipy.integrate.quad(lambda x : 1/nt.D(x, I_star, exponent, c), I[:idx2][-1], 1.0)[0]"
   ]
  },
  {
   "cell_type": "code",
   "execution_count": 68,
   "id": "5e158593-88d3-4db1-b744-af737f8933be",
   "metadata": {},
   "outputs": [],
   "source": [
    "f_temp = scipy.interpolate.interp1d(data[0], data[1], kind=\"cubic\")"
   ]
  },
  {
   "cell_type": "code",
   "execution_count": 72,
   "id": "0b3bd9b7-7dd6-4072-9088-162c8d1780b5",
   "metadata": {},
   "outputs": [
    {
     "data": {
      "image/png": "[encoded data removed]",
      "text/plain": [
       "<Figure size 504x216 with 2 Axes>"
      ]
     },
     "metadata": {
      "needs_background": "light"
     },
     "output_type": "display_data"
    }
   ],
   "source": [
    "fig, ax1 = plt.subplots(figsize=figsize_compressed)\n",
    "ax2 = ax1.twinx()\n",
    "\n",
    "ax1.set_zorder(ax2.get_zorder()+10)\n",
    "ax1.patch.set_visible(False)\n",
    "\n",
    "ax1.plot(data[0][shame_idx:], data[1][shame_idx:], label=\"Numerical simulation\")\n",
    "ax1.plot(times_array, current, \"--\", label=\"Analytical reconstruction\")\n",
    "ax1.plot([], [], c=\"C1\", label=\"Relative error\")\n",
    "ax1.plot(times_array, current_approx, linestyle=\"dotted\", label=\"Analytical approximation\")\n",
    "ax1.plot([], [], c=\"C2\", label=\"Relative error\")\n",
    "#plt.yscale(\"log\")\n",
    "\n",
    "ax2.plot(times_array, (current - f_temp(times_array))/f_temp(times_array), c=\"C1\")\n",
    "ax2.plot(times_array, (current_approx - f_temp(times_array))/f_temp(times_array), c=\"C2\")\n",
    "\n",
    "ax1.set_xlabel(\"$t$\")\n",
    "ax1.set_ylabel(\"$J$\")\n",
    "ax2.set_ylim(-0.1, 0.1)\n",
    "ax2.set_ylabel(\"Relative error\")\n",
    "ax1.set_yscale(\"log\")\n",
    "\n",
    "ax1.legend(ncol=2, frameon=False)\n",
    "plt.tight_layout()\n",
    "\n",
    "plt.savefig(os.path.join(PATH+\"current_backwards.pdf\"), dpi=DPI, pad_inches=0.0)"
   ]
  },
  {
   "cell_type": "markdown",
   "id": "60b8839f-995a-47df-8a62-c73c3540b412",
   "metadata": {},
   "source": [
    "## Comparison between the recovery currents"
   ]
  },
  {
   "cell_type": "code",
   "execution_count": 73,
   "id": "3ff457d3-05a7-4b41-bc5f-745219013d98",
   "metadata": {},
   "outputs": [],
   "source": [
    "I_star = 1.0\n",
    "k = 0.33\n",
    "exponent = 1/(k*2)\n",
    "\n",
    "gap = 0.05\n",
    "\n",
    "I_min = 0.0\n",
    "I_max = 1.0\n",
    "c = nt.standard_c(0.0, I_max, I_star, exponent)\n",
    "sampling = 10000\n",
    "\n",
    "I = np.linspace(0.0, I_max, sampling)\n",
    "I0 = np.exp(-I)\n",
    "\n",
    "cn_time_steps = 10000\n",
    "dt = nt.afpt(I_max, I_max + gap, I_star, exponent, c) / cn_time_steps"
   ]
  },
  {
   "cell_type": "code",
   "execution_count": 74,
   "id": "377e54af-e27d-4092-9a31-eacafb0d46ef",
   "metadata": {},
   "outputs": [
    {
     "data": {
      "text/plain": [
       "1.8984591713252536e-06"
      ]
     },
     "execution_count": 74,
     "metadata": {},
     "output_type": "execute_result"
    }
   ],
   "source": [
    "dt"
   ]
  },
  {
   "cell_type": "code",
   "execution_count": 75,
   "id": "f49a558a-9eed-4092-8f40-10407c1e0d25",
   "metadata": {},
   "outputs": [
    {
     "name": "stderr",
     "output_type": "stream",
     "text": [
      "/home/camontan/Insync/carlo.montanari3@studio.unibo.it/OneDrive_Biz/projects/new_games_with_diffusion/nekhoroshev_tools.py:36: RuntimeWarning: divide by zero encountered in double_scalars\n",
      "  return c * np.exp(-2*np.power(I_star/I, exponent)) * (0.5 if halved else 1.0)\n"
     ]
    }
   ],
   "source": [
    "engine = cn.cn_generic(\n",
    "    I_min,\n",
    "    I_max,\n",
    "    I0,\n",
    "    dt,\n",
    "    lambda x: nt.D(x, I_star, exponent, c, True),\n",
    "    normalize=True\n",
    ")\n",
    "\n",
    "engine_out = cn.cn_generic(\n",
    "    I_min,\n",
    "    I_max,\n",
    "    I0,\n",
    "    dt,\n",
    "    lambda x: nt.D(x, I_star, exponent, c, True),\n",
    "    normalize=True\n",
    ")\n",
    "\n",
    "\n",
    "engine_in = cn.cn_generic(\n",
    "    I_min,\n",
    "    I_max,\n",
    "    I0,\n",
    "    dt,\n",
    "    lambda x: nt.D(x, I_star, exponent, c, True),\n",
    "    normalize=True\n",
    ")"
   ]
  },
  {
   "cell_type": "code",
   "execution_count": 76,
   "id": "2e8dd830-9b78-4de0-aaf4-4dfc92148fba",
   "metadata": {},
   "outputs": [
    {
     "name": "stderr",
     "output_type": "stream",
     "text": [
      "100%|██████████| 4000/4000 [00:01<00:00, 3008.46it/s]\n",
      "100%|██████████| 1000/1000 [00:00<00:00, 3056.76it/s]\n",
      "100%|██████████| 3000/3000 [00:00<00:00, 3067.70it/s]\n",
      "100%|██████████| 1000/1000 [00:00<00:00, 3035.09it/s]\n",
      "100%|██████████| 3000/3000 [00:01<00:00, 2975.21it/s]\n",
      "100%|██████████| 1000/1000 [00:00<00:00, 3166.68it/s]\n",
      "/home/camontan/Insync/carlo.montanari3@studio.unibo.it/OneDrive_Biz/projects/new_games_with_diffusion/nekhoroshev_tools.py:36: RuntimeWarning: divide by zero encountered in double_scalars\n",
      "  return c * np.exp(-2*np.power(I_star/I, exponent)) * (0.5 if halved else 1.0)\n",
      "100%|██████████| 3000/3000 [00:00<00:00, 3353.27it/s]\n"
     ]
    }
   ],
   "source": [
    "data_0 = engine.current(4000, 2, False)\n",
    "\n",
    "engine.reset()\n",
    "data_0_bis = engine.current(1000, 2, False)\n",
    "data_0_ter = engine.current(3000, 2, False)\n",
    "\n",
    "data_1 = engine_out.current(1000, 2, False)\n",
    "engine_out.move_barrier_forward(gap)\n",
    "data_2 = engine_out.current(3000, 2, False)\n",
    "\n",
    "\n",
    "data_3 = engine_in.current(1000, 2, False)\n",
    "engine_in.move_barrier_backward(gap)\n",
    "data_4 = engine_in.current(3000, 2, False)"
   ]
  },
  {
   "cell_type": "code",
   "execution_count": 77,
   "id": "dbbba1ec-1ebf-4011-a1a6-ea18447a3fc8",
   "metadata": {},
   "outputs": [
    {
     "data": {
      "image/png": "[encoded data removed]",
      "text/plain": [
       "<Figure size 360x288 with 3 Axes>"
      ]
     },
     "metadata": {
      "needs_background": "light"
     },
     "output_type": "display_data"
    }
   ],
   "source": [
    "fig = plt.figure(figsize=(5, 4))\n",
    "gs = gridspec.GridSpec(3, 1, height_ratios=[3, 3, 2])\n",
    "\n",
    "ax0 = plt.subplot(gs[0])\n",
    "ax2 = plt.subplot(gs[1], sharex=ax0)\n",
    "ax1 = plt.subplot(gs[2], sharex=ax0)\n",
    "\n",
    "ax0.plot(\n",
    "    data_0[0],\n",
    "    data_0[1],\n",
    "    label=\"Constant\"\n",
    ")\n",
    "ax0.plot(\n",
    "    np.concatenate((data_1[0], data_2[0])),\n",
    "    np.concatenate((data_1[1], data_2[1])),\n",
    "    \"--\",\n",
    "    label=\"Outward moved\"\n",
    ")\n",
    "ax0.plot(\n",
    "    np.concatenate((data_1[0], data_4[0])),\n",
    "    np.concatenate((data_1[1], data_4[1])),\n",
    "    linestyle=\"dotted\",\n",
    "    label=\"Inward moved\"\n",
    ")\n",
    "\n",
    "ax2.plot(\n",
    "    data_0[0],\n",
    "    data_0[1]/data_0[1],\n",
    "    label=\"Immovable boundary\"\n",
    ")\n",
    "ax2.plot(\n",
    "    np.concatenate((data_1[0], data_2[0])),\n",
    "    np.concatenate((data_1[1]/data_0_bis[1], data_2[1]/data_0_ter[1])),\n",
    "    \"--\",\n",
    "    label=\"Outward moving boundary\"\n",
    ")\n",
    "ax2.plot(\n",
    "    np.concatenate((data_1[0], data_4[0])),\n",
    "    np.concatenate((data_1[1]/data_0_bis[1], data_4[1]/data_0_ter[1])),\n",
    "    linestyle=\"dotted\",\n",
    "    label=\"Inward moving boundary\"\n",
    ")\n",
    "\n",
    "ax0.legend(fontsize=\"x-small\", frameon=False)\n",
    "\n",
    "ax0.set_yscale(\"log\")\n",
    "ax0.set_ylim(1.01e-1, 2e2)\n",
    "ax0.set_xlim(0, 0.015)\n",
    "\n",
    "ax1.axhline(1.0, c=\"C0\")\n",
    "ax1.plot([0.0, data_1[0][-1], data_1[0][-1], 0.015], [1.0, 1.0, 1.05, 1.05], \"--\", c=\"C1\")\n",
    "ax1.plot([0.0, data_1[0][-1], data_1[0][-1], 0.015], [1.0, 1.0, 0.95, 0.95], linestyle=\"dotted\", c=\"C2\")\n",
    "ax1.set_ylim(0.92, 1.08)\n",
    "ax2.set_ylim(-0.1, 2.2)\n",
    "\n",
    "\n",
    "ax0.set_ylabel(\"$J(t)$\")\n",
    "ax2.set_ylabel(\"Normalized $J(t)$\")\n",
    "ax1.set_xlabel(\"$t$\")\n",
    "ax1.set_ylabel(\"$I_a(t) / I_\\\\ast$\")\n",
    "\n",
    "plt.tight_layout()\n",
    "\n",
    "plt.setp(ax0.get_xticklabels(), visible=False)\n",
    "plt.setp(ax2.get_xticklabels(), visible=False)\n",
    "plt.subplots_adjust(hspace=.0)\n",
    "\n",
    "plt.savefig(os.path.join(PATH+\"global_vs_moving_current.pdf\"), dpi=DPI, pad_inches=0.0)"
   ]
  },
  {
   "cell_type": "markdown",
   "id": "cb6bf999-d800-4f67-9477-2d3d3d690872",
   "metadata": {},
   "source": [
    "## The Protocol"
   ]
  },
  {
   "cell_type": "code",
   "execution_count": 78,
   "id": "a206cebb-580d-436a-ba6d-8318743ef84f",
   "metadata": {},
   "outputs": [],
   "source": [
    "I_star = 1.0\n",
    "k = 0.33\n",
    "exponent = 1/(k*2)\n",
    "\n",
    "gap = 0.02\n",
    "\n",
    "I_min = 0.0\n",
    "I_max = 1.0\n",
    "c = nt.standard_c(0.0, I_max, I_star, exponent)\n",
    "sampling = 10000\n",
    "\n",
    "I = np.linspace(0.0, I_max, sampling)\n",
    "I0 = np.exp(-I)\n",
    "\n",
    "cn_time_steps = 10000\n",
    "dt = nt.afpt(I_max, I_max + gap, I_star, exponent, c) / cn_time_steps"
   ]
  },
  {
   "cell_type": "code",
   "execution_count": 79,
   "id": "2ce73320-dd2c-4fb6-a88e-9f6eeddee520",
   "metadata": {},
   "outputs": [
    {
     "name": "stderr",
     "output_type": "stream",
     "text": [
      "/home/camontan/Insync/carlo.montanari3@studio.unibo.it/OneDrive_Biz/projects/new_games_with_diffusion/nekhoroshev_tools.py:36: RuntimeWarning: divide by zero encountered in double_scalars\n",
      "  return c * np.exp(-2*np.power(I_star/I, exponent)) * (0.5 if halved else 1.0)\n"
     ]
    }
   ],
   "source": [
    "I_max = 1.0\n",
    "\n",
    "engine = cn.cn_generic(\n",
    "    I_min,\n",
    "    I_max,\n",
    "    I0,\n",
    "    dt,\n",
    "    lambda x: nt.D(x, I_star, exponent, c, True),\n",
    "    normalize=True\n",
    ")\n",
    "\n",
    "engine_immovable = cn.cn_generic(\n",
    "    I_min,\n",
    "    I_max,\n",
    "    I0,\n",
    "    dt,\n",
    "    lambda x: nt.D(x, I_star, exponent, c, True),\n",
    "    normalize=True\n",
    ")"
   ]
  },
  {
   "cell_type": "code",
   "execution_count": 80,
   "id": "25179d38-e9e4-40ae-b87e-b84e4e7b3905",
   "metadata": {
    "scrolled": true,
    "tags": []
   },
   "outputs": [
    {
     "name": "stderr",
     "output_type": "stream",
     "text": [
      "100%|██████████| 7000/7000 [00:02<00:00, 3443.00it/s]\n",
      "100%|██████████| 7000/7000 [00:02<00:00, 3492.31it/s]\n"
     ]
    },
    {
     "data": {
      "application/vnd.jupyter.widget-view+json": {
       "model_id": "cd2cc0d0ea884ec6b04fb6494970be25",
       "version_major": 2,
       "version_minor": 0
      },
      "text/plain": [
       "  0%|          | 0/3 [00:00<?, ?it/s]"
      ]
     },
     "metadata": {},
     "output_type": "display_data"
    }
   ],
   "source": [
    "steps = 7000\n",
    "big_steps = 7000\n",
    "\n",
    "times = []\n",
    "collimators = []\n",
    "\n",
    "data = []\n",
    "data_immovable = []\n",
    "\n",
    "times.append(0.0)\n",
    "collimators.append(I_max)\n",
    "\n",
    "data.append(engine.analytical_current(steps, 2, False))\n",
    "data_immovable.append(engine_immovable.analytical_current(steps, 2, False))\n",
    "\n",
    "times.append(data[-1][0][-1])\n",
    "collimators.append(I_max)\n",
    "\n",
    "new_I_max = I_max\n",
    "for i in tqdm(range(3)):\n",
    "    engine.move_barrier_forward(gap)\n",
    "    new_I_max += gap\n",
    "\n",
    "    times.append(data[-1][0][-1])\n",
    "    collimators.append(new_I_max)\n",
    "    \n",
    "    data.append(engine.analytical_current(big_steps, 2, True))\n",
    "    \n",
    "    times.append(data[-1][0][-1])\n",
    "    collimators.append(new_I_max)\n",
    "    \n",
    "    engine.move_barrier_backward(gap)\n",
    "    new_I_max -= gap\n",
    "    \n",
    "    times.append(data[-1][0][-1])\n",
    "    collimators.append(new_I_max)\n",
    "    \n",
    "    data.append(engine.analytical_current(big_steps, 2, True))\n",
    "    \n",
    "    times.append(data[-1][0][-1])\n",
    "    collimators.append(new_I_max)\n",
    "    \n",
    "    engine.move_barrier_forward(gap)\n",
    "    new_I_max += gap\n",
    "\n",
    "    times.append(data[-1][0][-1])\n",
    "    collimators.append(new_I_max)\n",
    "\n",
    "    data.append(engine.analytical_current(big_steps, 2, True))\n",
    "\n",
    "    times.append(data[-1][0][-1])\n",
    "    collimators.append(new_I_max)\n",
    "\n",
    "    data_immovable.append(\n",
    "        engine_immovable.analytical_current(big_steps, 2, True))\n",
    "    data_immovable.append(\n",
    "        engine_immovable.analytical_current(big_steps, 2, True))\n",
    "    data_immovable.append(\n",
    "        engine_immovable.analytical_current(big_steps, 2, True))\n",
    "\n",
    "# engine.move_barrier_forward(gap)\n",
    "\n",
    "# times.append(data[-1][0][-1])\n",
    "# collimators.append(I_max + gap)\n",
    "\n",
    "# data.append(engine.analytical_current(big_steps, 2, False))\n",
    "# data_immovable.append(engine_immovable.analytical_current(big_steps, 2, False))\n",
    "\n",
    "# times.append(data[-1][0][-1])\n",
    "# collimators.append(I_max + gap)\n",
    "\n",
    "# engine.move_barrier_forward(gap)\n",
    "\n",
    "# times.append(data[-1][0][-1])\n",
    "# collimators.append(I_max + gap * 2)\n",
    "\n",
    "# data.append(engine.analytical_current(big_steps, 2, False))\n",
    "# data_immovable.append(engine_immovable.analytical_current(big_steps, 2, False))\n",
    "\n",
    "# times.append(data[-1][0][-1])\n",
    "# collimators.append(I_max + gap * 2)\n"
   ]
  },
  {
   "cell_type": "code",
   "execution_count": 81,
   "metadata": {},
   "outputs": [
    {
     "data": {
      "text/plain": [
       "[0.0,\n",
       " 0.010931155231910312,\n",
       " 0.010931155231910312,\n",
       " 0.021863872280541857,\n",
       " 0.021863872280541857,\n",
       " 0.032796589329173405,\n",
       " 0.032796589329173405,\n",
       " 0.04372930637780495,\n",
       " 0.04372930637780495,\n",
       " 0.054662023426436494,\n",
       " 0.054662023426436494,\n",
       " 0.06559474047506804,\n",
       " 0.06559474047506804,\n",
       " 0.07652745752369958,\n",
       " 0.07652745752369958,\n",
       " 0.08746017457233113,\n",
       " 0.08746017457233113,\n",
       " 0.09839289162096267,\n",
       " 0.09839289162096267,\n",
       " 0.10932560866959422]"
      ]
     },
     "execution_count": 81,
     "metadata": {},
     "output_type": "execute_result"
    }
   ],
   "source": [
    "times"
   ]
  },
  {
   "cell_type": "code",
   "execution_count": 94,
   "id": "9abc58a0-e72e-48a9-846d-0376d546112b",
   "metadata": {},
   "outputs": [
    {
     "data": {
      "image/png": "[encoded data removed]",
      "text/plain": [
       "<Figure size 504x288 with 2 Axes>"
      ]
     },
     "metadata": {
      "needs_background": "light"
     },
     "output_type": "display_data"
    }
   ],
   "source": [
    "fig = plt.figure(figsize=figsize)\n",
    "#fig = plt.figure(figsize=(5, 4))\n",
    "gs = gridspec.GridSpec(2, 1, height_ratios=[2.5, 1])\n",
    "\n",
    "ax0 = plt.subplot(gs[0])\n",
    "ax1 = plt.subplot(gs[1], sharex=ax0)\n",
    "\n",
    "for i, d in enumerate(data_immovable):\n",
    "    if i == 0:\n",
    "        ax0.plot(d[0], d[1], \"--\", c=\"C0\", label=\"Constant boundary\")\n",
    "    else:\n",
    "        ax0.plot(d[0], d[1], \"--\", c=\"C0\")\n",
    "for i, d in enumerate(data):\n",
    "    if i == 0:\n",
    "        ax0.plot(d[0], d[1], c=\"C1\", label=\"Moved boundary\")\n",
    "    else:\n",
    "        ax0.plot(d[0], d[1], c=\"C1\")\n",
    "        \n",
    "ax0.set_yscale(\"log\")\n",
    "ax0.set_ylim(1e-1, 2e2)\n",
    "ax0.set_xlim(0, 0.109)\n",
    "\n",
    "ax0.legend(ncol=2, frameon=False, loc=\"upper right\")\n",
    "\n",
    "ax1.plot(times, np.ones_like(collimators), \"--\")\n",
    "ax1.plot(times, collimators)\n",
    "ax1.set_ylim(0.99, 1.07)\n",
    "\n",
    "ax0.set_ylabel(\"$J(t)$\")\n",
    "ax1.set_xlabel(\"$t$\")\n",
    "ax1.set_ylabel(\"$I_a(t) / I_\\\\ast$\")\n",
    "\n",
    "ax1.annotate(\n",
    "    'Movement protocol',\n",
    "    xy=((times[5]+times[3])/2, 1.04),\n",
    "    xytext=((times[5]+times[3])/2, 1.05),\n",
    "    #xycoords='axes fraction',\n",
    "    ha='center', va='bottom',\n",
    "    #bbox=dict(boxstyle='square', fc='white'),\n",
    "    arrowprops=dict(arrowstyle='-[, widthB=6.2, lengthB=0.5', lw=1.5)\n",
    ")\n",
    "\n",
    "plt.tight_layout()\n",
    "plt.setp(ax0.get_xticklabels(), visible=False)\n",
    "plt.subplots_adjust(hspace=.0)\n",
    "\n",
    "plt.savefig(os.path.join(PATH+\"the_protocol.pdf\"), dpi=DPI, pad_inches=0.0)\n"
   ]
  },
  {
   "cell_type": "markdown",
   "id": "9ce8acc8-50f0-4039-9d39-df761a8f69bf",
   "metadata": {},
   "source": [
    "## Normalization (with previous data)"
   ]
  },
  {
   "cell_type": "code",
   "execution_count": 95,
   "id": "bb258f25-ff8c-49e0-87f4-6e55bf5f8059",
   "metadata": {},
   "outputs": [],
   "source": [
    "data_imm = data_immovable[:-1]\n",
    "data_mov = data[1:-1]\n",
    "data_up = [data[2], data[5], data[8]]\n",
    "data_down = [data[1], data[3], data[4], data[6], data[7]]\n",
    "\n",
    "time_up = [data[0][0][-1]]\n",
    "current_up = [data[0][1][-1]]\n",
    "time_down = [data[0][0][-1]]\n",
    "current_down = [data[0][1][-1]]\n",
    "\n",
    "for d in data_up:\n",
    "    time_up.append(d[0][-1])\n",
    "    current_up.append(d[1][-1])\n",
    "time_down.append(data_mov[-1][0][-1])\n",
    "current_down.append(data_mov[-1][1][-1])\n",
    "\n",
    "for d in data_down:\n",
    "    time_down.append(d[0][-1])\n",
    "    current_down.append(d[1][-1])\n"
   ]
  },
  {
   "cell_type": "code",
   "execution_count": 96,
   "id": "99fbfd1f-282d-47c7-9a80-dfb84533e617",
   "metadata": {},
   "outputs": [],
   "source": [
    "samples = np.linspace(time_up[0], time_up[-1], 1000)\n",
    "\n",
    "f_up = scipy.interpolate.interp1d(time_up, current_up, kind=\"quadratic\")\n",
    "f_down = scipy.interpolate.interp1d(time_down, current_down, kind=\"quadratic\")\n",
    "def f_mid(x):\n",
    "    return (f_up(x) + f_down(x)) / 2.0\n"
   ]
  },
  {
   "cell_type": "code",
   "execution_count": 99,
   "id": "4b55e8c1-570c-4a72-b58e-8aa7c9109478",
   "metadata": {},
   "outputs": [
    {
     "data": {
      "image/png": "[encoded data removed]",
      "text/plain": [
       "<Figure size 504x288 with 3 Axes>"
      ]
     },
     "metadata": {
      "needs_background": "light"
     },
     "output_type": "display_data"
    }
   ],
   "source": [
    "fig = plt.figure(figsize=figsize)\n",
    "gs = gridspec.GridSpec(3, 1, height_ratios=[1, 1.0, 1])\n",
    "\n",
    "ax0 = plt.subplot(gs[0])\n",
    "ax1 = plt.subplot(gs[1], sharex=ax0)\n",
    "ax2 = plt.subplot(gs[2], sharex=ax0)\n",
    "\n",
    "for i, d in enumerate(data_mov):\n",
    "    if i == 0:\n",
    "        ax0.plot(d[0], d[1], c=\"C0\", label=\"\")\n",
    "    else:\n",
    "        ax0.plot(d[0], d[1], c=\"C0\")\n",
    "\n",
    "for i, d in enumerate(data_imm):\n",
    "    ax0.plot(d[0], d[1], c=\"darkblue\")#, linestyle=\"dashdot\")\n",
    "\n",
    "ax0.plot(samples, f_mid(samples), \"--\", c=\"red\")\n",
    "ax0.plot(samples, f_up(samples), \"--\", c=\"C1\")\n",
    "ax0.plot(samples, f_down(samples), \"--\", c=\"C2\")\n",
    "        \n",
    "ax0.set_yscale(\"log\")\n",
    "ax0.set_ylim(0.175e1, 0.1e2)\n",
    "ax0.set_xlim(0.005)        \n",
    "\n",
    "ax1.axhline(0.0, c=\"darkblue\")\n",
    "for i, d in enumerate(data_imm[1:]):\n",
    "    ax1.plot(d[0], (f_mid(d[0]) - d[1]) / d[1], c=\"red\")\n",
    "    ax1.plot(d[0], (f_up(d[0]) - d[1]) / d[1], c=\"C1\")\n",
    "    ax1.plot(d[0], (f_down(d[0]) - d[1]) / d[1], c=\"C2\")\n",
    "#ax1.set_ylim(0.88, 1.12)\n",
    "    \n",
    "for i, d in enumerate(data_mov):\n",
    "    if i == 0:\n",
    "        ax2.plot(d[0], d[1] / data_imm[i+1][1], c=\"C0\", label=\"\")\n",
    "        ax2.plot(d[0], d[1] / f_mid(d[0]), \"--\", c=\"C1\", label=\"\")\n",
    "    else:\n",
    "        ax2.plot(d[0], d[1] / data_imm[i+1][1], c=\"C0\")\n",
    "        ax2.plot(d[0], d[1] / f_mid(d[0]), \"--\", c=\"C1\")\n",
    "ax2.axhline(1.0, c=\"grey\")\n",
    "ax2.set_ylim(0.5, 1.55)\n",
    "\n",
    "ax2.set_xlabel(\"$t$\")\n",
    "ax0.set_ylabel(\"$J(t)$\")\n",
    "ax1.set_ylabel(\"\\\\small{Relative}\\n\\\\small{reconstruction}\"+\"\\n\"+\"\\small{error}\")\n",
    "ax2.set_ylabel(\"Normalized $J(t)$\")\n",
    "\n",
    "plt.tight_layout()\n",
    "plt.setp(ax0.get_xticklabels(), visible=False)\n",
    "plt.setp(ax1.get_xticklabels(), visible=False)\n",
    "plt.subplots_adjust(hspace=.0)\n",
    "\n",
    "plt.savefig(os.path.join(PATH+\"the_interpolation.pdf\"), dpi=DPI, pad_inches=0.0)"
   ]
  },
  {
   "cell_type": "markdown",
   "id": "1281a7e0-5cb9-4bc9-8bfa-b4fe2328e028",
   "metadata": {},
   "source": [
    "# EXTRACTING THE DATA FROM THE DICTIONARY"
   ]
  },
  {
   "cell_type": "code",
   "execution_count": 48,
   "id": "3cf2d1b2-2707-46c9-b115-606be0cdbf17",
   "metadata": {},
   "outputs": [],
   "source": [
    "%matplotlib inline"
   ]
  },
  {
   "cell_type": "code",
   "execution_count": 4,
   "id": "4c653151-3712-46be-a4b7-7406fcdc2749",
   "metadata": {},
   "outputs": [],
   "source": [
    "import pickle"
   ]
  },
  {
   "cell_type": "code",
   "execution_count": 7,
   "id": "8347af86-dfa2-412c-b8a8-ee9eff561cbc",
   "metadata": {},
   "outputs": [],
   "source": [
    "DATA_PATH = \"/home/camontan/moving_barrier_data\""
   ]
  },
  {
   "cell_type": "code",
   "execution_count": 51,
   "id": "f6918984-811b-4f91-aaff-1b8cd7442868",
   "metadata": {},
   "outputs": [],
   "source": [
    "with open(os.path.join(DATA_PATH, 'processed_evolution_tiptap_only.pkl'), 'rb') as f:\n",
    "    d = pickle.load(f)"
   ]
  },
  {
   "cell_type": "code",
   "execution_count": 52,
   "id": "fd69e754-ff34-438c-bc39-6bff1325e2a8",
   "metadata": {},
   "outputs": [],
   "source": [
    "mov = \"the_steady_tip-tap_standard\""
   ]
  },
  {
   "cell_type": "code",
   "execution_count": 53,
   "id": "b70b6bea-3512-4f57-be1f-0cfb8fa17c5c",
   "metadata": {},
   "outputs": [],
   "source": [
    "pos = []\n",
    "rep = []\n",
    "magic = []\n",
    "pos_list = []\n",
    "rep_list = []\n",
    "magic_list = []\n",
    "\n",
    "for i, p in enumerate(d[mov]):\n",
    "    if i==0:\n",
    "        for j, r in enumerate(d[mov][p]):\n",
    "            if j==0:\n",
    "                for k, m in enumerate(d[mov][p][r]):\n",
    "                    magic.append(m)\n",
    "                    magic_list.append(m)\n",
    "            rep.append(r)\n",
    "            rep_list.append(r)\n",
    "    pos.append(p)\n",
    "    pos_list.append(p)"
   ]
  },
  {
   "cell_type": "code",
   "execution_count": 54,
   "id": "74a03847-a8c1-48ef-8c7d-8ab264559fc0",
   "metadata": {},
   "outputs": [
    {
     "data": {
      "text/plain": [
       "['avg', 'high', 'higher', 'low', 'lowlow', 'mid', 'over', 'same', 'ultra']"
      ]
     },
     "execution_count": 54,
     "metadata": {},
     "output_type": "execute_result"
    }
   ],
   "source": [
    "pos"
   ]
  },
  {
   "cell_type": "code",
   "execution_count": 55,
   "id": "32915cbe-e965-4fcb-89d9-b75cc0c3dfc6",
   "metadata": {},
   "outputs": [],
   "source": [
    "I_max_list = {\n",
    "    p : d[mov][p][rep[1]][\"main_info\"][\"I_max\"] / d[mov][p][rep[1]][\"main_info\"][\"I_star\"]\n",
    "    for p in pos\n",
    "}"
   ]
  },
  {
   "cell_type": "code",
   "execution_count": 56,
   "id": "b53e318f-aca1-46b9-b666-98da98e34a98",
   "metadata": {},
   "outputs": [
    {
     "data": {
      "text/plain": [
       "['10', '1', '20', '2', '4', '50', '5']"
      ]
     },
     "execution_count": 56,
     "metadata": {},
     "output_type": "execute_result"
    }
   ],
   "source": [
    "rep"
   ]
  },
  {
   "cell_type": "code",
   "execution_count": 57,
   "id": "f8044b90-30b7-4aaf-9fe2-e0cb1761170a",
   "metadata": {},
   "outputs": [
    {
     "data": {
      "text/plain": [
       "{'avg': 0.3,\n",
       " 'high': 0.75,\n",
       " 'higher': 0.9,\n",
       " 'low': 0.2,\n",
       " 'lowlow': 0.1,\n",
       " 'mid': 0.5,\n",
       " 'over': 1.75,\n",
       " 'same': 1.0,\n",
       " 'ultra': 1.25}"
      ]
     },
     "execution_count": 57,
     "metadata": {},
     "output_type": "execute_result"
    }
   ],
   "source": [
    "I_max_list"
   ]
  },
  {
   "cell_type": "code",
   "execution_count": 58,
   "id": "f483c0bf-92b5-47ee-b2f0-40922e1e8980",
   "metadata": {},
   "outputs": [
    {
     "data": {
      "text/plain": [
       "['main_info',\n",
       " 'high_standard',\n",
       " 'high_true',\n",
       " 'high_true-delta',\n",
       " 'high_true+delta',\n",
       " 'low_standard',\n",
       " 'low_true',\n",
       " 'low_true-delta',\n",
       " 'low_true+delta']"
      ]
     },
     "execution_count": 58,
     "metadata": {},
     "output_type": "execute_result"
    }
   ],
   "source": [
    "magic"
   ]
  },
  {
   "cell_type": "markdown",
   "id": "9638be3f-4adc-4c72-9868-93f0c96a11d1",
   "metadata": {},
   "source": [
    "## Best ideal magic numbers"
   ]
  },
  {
   "cell_type": "code",
   "execution_count": 59,
   "id": "4a58d2ac-cb05-4bd0-98dd-6df202f6e2ed",
   "metadata": {},
   "outputs": [],
   "source": [
    "magic_data_high = {}\n",
    "magic_data_low = {}\n",
    "\n",
    "for r in rep:\n",
    "    magic_data_high[r] = [[], []]\n",
    "    magic_data_low[r] = [[], []]\n",
    "    for p in I_max_list:\n",
    "        magic_data_high[r][0].append(I_max_list[p])\n",
    "        magic_data_high[r][1].append(float(d[mov][p][r]['high_true']['processed'][\"magic\"]))\n",
    "        magic_data_low[r][0].append(I_max_list[p])\n",
    "        magic_data_low[r][1].append(float(d[mov][p][r]['low_true']['processed'][\"magic\"]))\n",
    "        "
   ]
  },
  {
   "cell_type": "code",
   "execution_count": 60,
   "id": "b09061ca-b25b-462a-9895-e0ab995bbd42",
   "metadata": {},
   "outputs": [
    {
     "data": {
      "image/png": "[encoded data removed]",
      "text/plain": [
       "<Figure size 432x288 with 1 Axes>"
      ]
     },
     "metadata": {
      "needs_background": "light"
     },
     "output_type": "display_data"
    }
   ],
   "source": [
    "r = '5'\n",
    "plt.scatter(magic_data_high[r][0], magic_data_high[r][1])\n",
    "plt.scatter(magic_data_low[r][0], magic_data_low[r][1])\n",
    "\n",
    "plt.axhline(1.0, c=\"grey\")\n",
    "plt.axhline(1.01, linestyle=\"dashed\", c=\"C0\")\n",
    "plt.axhline(0.99, linestyle=\"dashed\", c=\"C1\")\n",
    "\n",
    "plt.xlabel(\"$I/I_\\\\ast$\")\n",
    "plt.ylabel(\"Recover current quota\")\n",
    "\n",
    "plt.tight_layout()\n",
    "plt.savefig(os.path.join(PATH+\"magic_numbers.pdf\"), dpi=DPI)"
   ]
  },
  {
   "cell_type": "code",
   "execution_count": 61,
   "id": "521fdaa7-6acd-4ff8-8a36-ae9228ff5128",
   "metadata": {},
   "outputs": [
    {
     "ename": "TypeError",
     "evalue": "unhashable type: 'list'",
     "output_type": "error",
     "traceback": [
      "\u001b[0;31m---------------------------------------------------------------------------\u001b[0m",
      "\u001b[0;31mTypeError\u001b[0m                                 Traceback (most recent call last)",
      "\u001b[0;32m<ipython-input-61-c6a2e7856c82>\u001b[0m in \u001b[0;36m<module>\u001b[0;34m\u001b[0m\n\u001b[0;32m----> 1\u001b[0;31m \u001b[0mdata\u001b[0m \u001b[0;34m=\u001b[0m \u001b[0md\u001b[0m\u001b[0;34m[\u001b[0m\u001b[0mmov\u001b[0m\u001b[0;34m]\u001b[0m\u001b[0;34m[\u001b[0m\u001b[0mpos\u001b[0m\u001b[0;34m]\u001b[0m\u001b[0;34m[\u001b[0m\u001b[0mr\u001b[0m\u001b[0;34m]\u001b[0m\u001b[0;34m[\u001b[0m\u001b[0;34m\"main_info\"\u001b[0m\u001b[0;34m]\u001b[0m\u001b[0;34m\u001b[0m\u001b[0;34m\u001b[0m\u001b[0m\n\u001b[0m",
      "\u001b[0;31mTypeError\u001b[0m: unhashable type: 'list'"
     ]
    }
   ],
   "source": [
    "data = d[mov][pos][r][\"main_info\"]"
   ]
  },
  {
   "cell_type": "code",
   "execution_count": null,
   "id": "dee4f5bd-6f13-45ef-b985-6ac374b3fa9b",
   "metadata": {},
   "outputs": [],
   "source": [
    "r = '5'\n",
    "pos = 'avg'\n",
    "post = 'processed'\n",
    "I_star = d[mov][pos][r][\"main_info\"][\"I_star\"]\n",
    "\n",
    "fig = plt.figure()\n",
    "gs = gridspec.GridSpec(2, 1, height_ratios=[1, 1])\n",
    "\n",
    "axs = plt.subplot(gs[0])\n",
    "axs1 = plt.subplot(gs[1], sharex=axs)\n",
    "\n",
    "x = (d[mov][pos][r][m][post][\"val\"])\n",
    "y_standard = (d[mov][pos][r]['high_standard'][post][\"avg\"])\n",
    "y_ideal = (d[mov][pos][r]['high_true'][post][\"avg\"])\n",
    "\n",
    "y_afpt = (d[mov][pos][r][m][post][\"afpt\"])\n",
    "\n",
    "#### OKKIO QUA!!!! ###\n",
    "axs.scatter(x / I_star, y_standard, label=\"Standard recover point: {:.4}\".format(float(d[mov][pos][r]['high_standard'][post][\"magic\"]) - 0.01))\n",
    "axs.scatter(x / I_star, y_ideal, marker=\"*\", label=\"Ideal recover point: {:.4}\".format(float(d[mov][pos][r]['high_true'][post][\"magic\"])))\n",
    "axs.scatter(x / I_star, y_afpt, label=\"Average First Passage Time\", marker=\"x\", color=\"black\")\n",
    "\n",
    "axs1.scatter(x / I_star, y_standard / y_standard[0])\n",
    "axs1.scatter(x / I_star, y_ideal / y_ideal[0], marker=\"*\")\n",
    "axs1.scatter(x / I_star, y_afpt / y_afpt[0], marker=\"x\", color=\"black\")\n",
    "\n",
    "y_test = np.array([nt.D(x[i], data[\"I_star\"], data[\"exponent\"], data[\"c\"]) for i in range(len(x))])\n",
    "y_test = 1/y_test\n",
    "axs1.scatter(x / I_star, y_test / y_test[1], marker=\"x\", color=\"grey\", label=\"Normalized $1/D(I)$\")\n",
    "######################\n",
    "\n",
    "axs.legend()\n",
    "axs1.legend()\n",
    "axs.set_ylabel(\"Recover time\")\n",
    "axs1.set_ylabel(\"Relative recover time\")\n",
    "axs1.set_xlabel(\"$I_a / I_*$\")\n",
    "\n",
    "plt.tight_layout()\n",
    "plt.subplots_adjust(hspace=.0)\n",
    "plt.setp(ax0.get_xticklabels(), visible=False)\n",
    "\n",
    "plt.savefig(os.path.join(PATH+\"recover_times.pdf\"), dpi=DPI)"
   ]
  },
  {
   "cell_type": "code",
   "execution_count": null,
   "id": "70b9037c-1321-4355-af17-9d121dcf2aca",
   "metadata": {},
   "outputs": [],
   "source": [
    "fig = plt.figure(figsize=(7,4))\n",
    "gs = gridspec.GridSpec(2, 2, width_ratios=[1, 1], height_ratios=[1, 1])\n",
    "\n",
    "axs = plt.subplot(gs[0])\n",
    "axs1 = plt.subplot(gs[2], sharex=axs)\n",
    "\n",
    "axs2 = plt.subplot(gs[1])\n",
    "axs3 = plt.subplot(gs[3], sharex=axs2)\n",
    "\n",
    "r = '5'\n",
    "pos = 'lowlow'\n",
    "post = 'processed'\n",
    "I_star = d[mov][pos][r][\"main_info\"][\"I_star\"]\n",
    "\n",
    "x = (d[mov][pos][r][m][post][\"val\"])\n",
    "y_standard = (d[mov][pos][r]['high_standard'][post][\"avg\"])\n",
    "y_ideal = (d[mov][pos][r]['high_true'][post][\"avg\"])\n",
    "\n",
    "y_afpt = (d[mov][pos][r][m][post][\"afpt\"])\n",
    "\n",
    "#### OKKIO QUA!!!! ###\n",
    "axs.scatter(x / I_star, y_standard, label=\"Standard recover point: {:.4}\".format(float(d[mov][pos][r]['high_standard'][post][\"magic\"]) - 0.01))\n",
    "axs.scatter(x / I_star, y_ideal, marker=\"*\", label=\"Ideal recover point: {:.4}\".format(float(d[mov][pos][r]['high_true'][post][\"magic\"])))\n",
    "axs.scatter(x / I_star, y_afpt, label=\"Average First Passage Time\", marker=\"x\", color=\"black\")\n",
    "\n",
    "axs1.scatter(x / I_star, y_standard / y_standard[0])\n",
    "axs1.scatter(x / I_star, y_ideal / y_ideal[0], marker=\"*\")\n",
    "axs1.scatter(x / I_star, y_afpt / y_afpt[0], marker=\"x\", color=\"black\")\n",
    "\n",
    "y_test = np.array([nt.D(x[i], data[\"I_star\"], data[\"exponent\"], data[\"c\"]) for i in range(len(x))])\n",
    "y_test = 1/y_test\n",
    "axs1.scatter(x / I_star, y_test / y_test[1], marker=\"x\", color=\"grey\", label=\"Normalized $1/D(I)$\")\n",
    "######################\n",
    "\n",
    "r = '5'\n",
    "pos = 'high'\n",
    "post = 'processed'\n",
    "I_star = d[mov][pos][r][\"main_info\"][\"I_star\"]\n",
    "\n",
    "x = (d[mov][pos][r][m][post][\"val\"])\n",
    "y_standard = (d[mov][pos][r]['high_standard'][post][\"avg\"])\n",
    "y_ideal = (d[mov][pos][r]['high_true'][post][\"avg\"])\n",
    "\n",
    "y_afpt = (d[mov][pos][r][m][post][\"afpt\"])\n",
    "\n",
    "#### OKKIO QUA!!!! ###\n",
    "axs2.scatter(x / I_star, y_standard, label=\"Standard recover point: {:.4}\".format(float(d[mov][pos][r]['high_standard'][post][\"magic\"]) - 0.01))\n",
    "axs2.scatter(x / I_star, y_ideal, marker=\"*\", label=\"Ideal recover point: {:.4}\".format(float(d[mov][pos][r]['high_true'][post][\"magic\"])))\n",
    "axs2.scatter(x / I_star, y_afpt, label=\"Average First Passage Time\", marker=\"x\", color=\"black\")\n",
    "\n",
    "axs3.scatter(x / I_star, y_standard / y_standard[0])\n",
    "axs3.scatter(x / I_star, y_ideal / y_ideal[0], marker=\"*\")\n",
    "axs3.scatter(x / I_star, y_afpt / y_afpt[0], marker=\"x\", color=\"black\")\n",
    "\n",
    "y_test = np.array([nt.D(x[i], data[\"I_star\"], data[\"exponent\"], data[\"c\"]) for i in range(len(x))])\n",
    "y_test = 1/y_test\n",
    "axs3.scatter(x / I_star, y_test / y_test[1], marker=\"x\", color=\"grey\", label=\"Normalized $1/D(I)$\")\n",
    "######################\n",
    "\n",
    "axs.legend(fontsize=\"xx-small\")\n",
    "axs1.legend(fontsize=\"xx-small\")\n",
    "axs.set_ylabel(\"Recover time\")\n",
    "axs1.set_ylabel(\"Relative\\nrecover time\")\n",
    "axs1.set_xlabel(\"$I_a / I_*$\")\n",
    "axs3.set_xlabel(\"$I_a / I_*$\")\n",
    "\n",
    "plt.tight_layout()\n",
    "plt.subplots_adjust(hspace=.0)\n",
    "#plt.subplots_adjust(wspace=.0)\n",
    "plt.setp(axs.get_xticklabels(), visible=False)\n",
    "plt.setp(axs2.get_xticklabels(), visible=False)\n",
    "#plt.setp(axs2.get_yticklabels(), visible=False)\n",
    "#plt.setp(axs3.get_yticklabels(), visible=False)\n",
    "plt.savefig(os.path.join(PATH+\"recover_times_multiple.pdf\"), dpi=DPI)"
   ]
  },
  {
   "cell_type": "markdown",
   "id": "0ce19cf7-38bc-4b27-aeaf-6cd8ff13aae9",
   "metadata": {},
   "source": [
    "# Fit Results"
   ]
  },
  {
   "cell_type": "code",
   "execution_count": 62,
   "id": "eaaa2112-d51c-4a5f-9bca-dfbaaa75b63f",
   "metadata": {},
   "outputs": [],
   "source": [
    "rep = '5'\n",
    "pos = 'lowlow'\n",
    "post = 'processed'"
   ]
  },
  {
   "cell_type": "code",
   "execution_count": 63,
   "id": "5e5fc5b0-9fa3-4d41-93ba-6a85fb2a8fe2",
   "metadata": {},
   "outputs": [],
   "source": [
    "data = d[mov][pos][rep][\"main_info\"]"
   ]
  },
  {
   "cell_type": "code",
   "execution_count": 64,
   "id": "9c6b97d9-c220-49b4-b92c-71c321213db6",
   "metadata": {},
   "outputs": [],
   "source": [
    "params = lmfit.Parameters()\n",
    "params.add(\"I_star\", data[\"I_star\"], min=0.0)\n",
    "params.add(\"exponent\", data[\"exponent\"], min=0.0)\n",
    "params.add(\"c\", data[\"c\"], vary=False)"
   ]
  },
  {
   "cell_type": "code",
   "execution_count": 65,
   "id": "89277766-6acb-48cc-8eb1-476d6aa0860a",
   "metadata": {},
   "outputs": [],
   "source": [
    "def resid(params, xdata, ydata):\n",
    "    I_star = params[\"I_star\"]\n",
    "    exponent = params[\"exponent\"]\n",
    "    c = params[\"c\"]\n",
    "    I_low = [x[0] for x in xdata]\n",
    "    I_high = [x[1] for x in xdata]\n",
    "    afpt = np.array([\n",
    "        nt.afpt(\n",
    "            I_low[i],\n",
    "            I_high[i],\n",
    "            I_star,\n",
    "            exponent,\n",
    "            c\n",
    "    ) for i in range(len(I_low))])\n",
    "    if np.any(np.isnan(afpt)) or np.any(np.isinf(afpt)):\n",
    "        print(\"BAD STUFF!\")\n",
    "        return np.ones_like(ydata) * 1e6\n",
    "    return afpt - ydata"
   ]
  },
  {
   "cell_type": "code",
   "execution_count": 66,
   "id": "6f67fada-bc1d-4593-8e7f-c5f3d51b9601",
   "metadata": {},
   "outputs": [],
   "source": [
    "mov = 'the_steady_tip-tap_standard'\n",
    "rep = '10'\n",
    "post = 'processed'"
   ]
  },
  {
   "cell_type": "code",
   "execution_count": 67,
   "id": "f3c825a1-a473-4dcd-a956-edfca1aabc55",
   "metadata": {
    "scrolled": true,
    "tags": []
   },
   "outputs": [
    {
     "data": {
      "application/vnd.jupyter.widget-view+json": {
       "model_id": "f456987824344d56bb7c081bd7b2802f",
       "version_major": 2,
       "version_minor": 0
      },
      "text/plain": [
       "  0%|          | 0/9 [00:00<?, ?it/s]"
      ]
     },
     "metadata": {},
     "output_type": "display_data"
    }
   ],
   "source": [
    "x_vals = []\n",
    "\n",
    "kappa_standard = []\n",
    "kappa_ideal = []\n",
    "\n",
    "I_star_standard = []\n",
    "I_star_ideal = []\n",
    "\n",
    "for p in tqdm(pos_list):\n",
    "    x_vals.append(I_max_list[p])\n",
    "\n",
    "    data = d[mov][p][rep][\"main_info\"]\n",
    "    sample = d[mov][p][rep][\"high_true\"][post]\n",
    "    sample_standard = d[mov][p][rep][\"high_standard\"][post]\n",
    "\n",
    "    params = lmfit.Parameters()\n",
    "    params.add(\"I_star\", data[\"I_star\"], min=0.0)\n",
    "    params.add(\"exponent\", data[\"exponent\"], min=0.0)\n",
    "    params.add(\"c\", data[\"c\"], vary=False)\n",
    "\n",
    "    fit_data_ideal = lmfit.minimize(\n",
    "        resid,\n",
    "        params,\n",
    "        args=(\n",
    "            list(zip(\n",
    "                sample[\"val\"] - data[\"step_size\"],\n",
    "                sample[\"val\"]\n",
    "            )),\n",
    "            sample[\"avg\"]\n",
    "        ),\n",
    "        method=\"leastsq\"\n",
    "    )\n",
    "    kappa_ideal.append(fit_data_ideal.params[\"exponent\"].value)\n",
    "    I_star_ideal.append(fit_data_ideal.params[\"I_star\"].value)\n",
    "\n",
    "    params = lmfit.Parameters()\n",
    "    params.add(\"I_star\", data[\"I_star\"], min=0.0)\n",
    "    params.add(\"exponent\", data[\"exponent\"], min=0.0)\n",
    "    params.add(\"c\", data[\"c\"], vary=False)\n",
    "\n",
    "    fit_data_standard = lmfit.minimize(\n",
    "        resid,\n",
    "        params,\n",
    "        args=(\n",
    "            list(zip(\n",
    "                sample_standard[\"val\"] - data[\"step_size\"],\n",
    "                sample_standard[\"val\"]\n",
    "            )),\n",
    "            sample_standard[\"avg\"]\n",
    "        ),\n",
    "        method=\"leastsq\"\n",
    "    )\n",
    "    kappa_standard.append(fit_data_standard.params[\"exponent\"].value)\n",
    "    I_star_standard.append(fit_data_standard.params[\"I_star\"].value)\n",
    "\n",
    "    \n",
    "kappa_standard = 1 / np.asarray(kappa_standard) / 2\n",
    "kappa_ideal = 1 / np.asarray(kappa_ideal) / 2\n",
    "\n",
    "I_star_standard = np.asarray(I_star_standard)\n",
    "I_star_ideal = np.asarray(I_star_ideal)\n"
   ]
  },
  {
   "cell_type": "code",
   "execution_count": 68,
   "id": "d389c1b2-2224-472d-b790-77176a91ceb9",
   "metadata": {},
   "outputs": [
    {
     "data": {
      "image/png": "[encoded data removed]",
      "text/plain": [
       "<Figure size 432x288 with 4 Axes>"
      ]
     },
     "metadata": {
      "needs_background": "light"
     },
     "output_type": "display_data"
    }
   ],
   "source": [
    "fig, (ax1, ax2) = plt.subplots(2, 1, sharex=True)\n",
    "\n",
    "ax1_bis = ax1.twinx()\n",
    "ax2_bis = ax2.twinx()\n",
    "\n",
    "ax1.scatter(x_vals, I_star_ideal, label='Ideal recovery value (varying for $I/I_\\\\ast$)')\n",
    "ax1_bis.scatter(x_vals, (I_star_ideal-data[\"I_star\"])/data[\"I_star\"])\n",
    "ax1.scatter(x_vals, I_star_standard, label=\"Standard recovery value (1.01)\")\n",
    "ax1_bis.scatter(x_vals, (I_star_standard-data[\"I_star\"])/data[\"I_star\"], label=\"\")\n",
    "\n",
    "ax1.legend(fontsize=\"small\")\n",
    "ax1.axhline(data[\"I_star\"], color=\"grey\")\n",
    "ax1.set_ylabel(\"$I_*$\")\n",
    "ax1_bis.set_ylabel(\"Relative error\")\n",
    "\n",
    "ax2.scatter(x_vals, kappa_ideal)\n",
    "ax2.scatter(x_vals, kappa_standard)\n",
    "ax2_bis.scatter(x_vals, (kappa_ideal-data[\"k\"])/data[\"k\"])\n",
    "ax2_bis.scatter(x_vals, (kappa_standard-data[\"k\"])/data[\"k\"])\n",
    "\n",
    "ax2.axhline(data[\"k\"], color=\"grey\")\n",
    "ax2.set_ylabel(\"$\\\\kappa$\")\n",
    "ax2_bis.set_ylabel(\"Relative error\")\n",
    "ax2.set_xlabel(\"$I/I_*$\")\n",
    "\n",
    "plt.tight_layout()\n",
    "plt.subplots_adjust(hspace=.0)\n",
    "plt.setp(ax0.get_xticklabels(), visible=False)\n",
    "\n",
    "plt.savefig(os.path.join(PATH+\"high_fits.pdf\"), dpi=DPI)"
   ]
  },
  {
   "cell_type": "code",
   "execution_count": 69,
   "id": "3e012285-ec63-46a4-9d7d-b1356d0769f9",
   "metadata": {
    "scrolled": true,
    "tags": []
   },
   "outputs": [
    {
     "data": {
      "application/vnd.jupyter.widget-view+json": {
       "model_id": "655816c8a4cd4a588cc0b0774b2185ce",
       "version_major": 2,
       "version_minor": 0
      },
      "text/plain": [
       "  0%|          | 0/9 [00:00<?, ?it/s]"
      ]
     },
     "metadata": {},
     "output_type": "display_data"
    }
   ],
   "source": [
    "x_vals = []\n",
    "\n",
    "kappa_standard = []\n",
    "kappa_ideal = []\n",
    "\n",
    "I_star_standard = []\n",
    "I_star_ideal = []\n",
    "\n",
    "for p in tqdm(pos_list):\n",
    "    x_vals.append(I_max_list[p])\n",
    "\n",
    "    data = d[mov][p][rep][\"main_info\"]\n",
    "    sample = d[mov][p][rep][\"low_true\"][post]\n",
    "    sample_standard = d[mov][p][rep][\"low_standard\"][post]\n",
    "\n",
    "    params = lmfit.Parameters()\n",
    "    params.add(\"I_star\", data[\"I_star\"], min=0.0)\n",
    "    params.add(\"exponent\", data[\"exponent\"], min=0.0)\n",
    "    params.add(\"c\", data[\"c\"], vary=False)\n",
    "\n",
    "    fit_data_ideal = lmfit.minimize(\n",
    "        resid,\n",
    "        params,\n",
    "        args=(\n",
    "            list(zip(\n",
    "                sample[\"val\"],\n",
    "                sample[\"val\"] + data[\"step_size\"]\n",
    "            )),\n",
    "            sample[\"avg\"]\n",
    "        ),\n",
    "        method=\"leastsq\"\n",
    "    )\n",
    "    kappa_ideal.append(fit_data_ideal.params[\"exponent\"].value)\n",
    "    I_star_ideal.append(fit_data_ideal.params[\"I_star\"].value)\n",
    "\n",
    "    params = lmfit.Parameters()\n",
    "    params.add(\"I_star\", data[\"I_star\"], min=0.0)\n",
    "    params.add(\"exponent\", data[\"exponent\"], min=0.0)\n",
    "    params.add(\"c\", data[\"c\"], vary=False)\n",
    "\n",
    "    fit_data_standard = lmfit.minimize(\n",
    "        resid,\n",
    "        params,\n",
    "        args=(\n",
    "            list(zip(\n",
    "                sample_standard[\"val\"],\n",
    "                sample_standard[\"val\"] + data[\"step_size\"]\n",
    "            )),\n",
    "            sample_standard[\"avg\"]\n",
    "        ),\n",
    "        method=\"leastsq\"\n",
    "    )\n",
    "    kappa_standard.append(fit_data_standard.params[\"exponent\"].value)\n",
    "    I_star_standard.append(fit_data_standard.params[\"I_star\"].value)\n",
    "\n",
    "kappa_standard = 1 / np.asarray(kappa_standard) / 2\n",
    "kappa_ideal = 1 / np.asarray(kappa_ideal) / 2\n",
    "\n",
    "I_star_standard = np.asarray(I_star_standard)\n",
    "I_star_ideal = np.asarray(I_star_ideal)\n"
   ]
  },
  {
   "cell_type": "markdown",
   "id": "f9171817-c79e-4624-b258-7c2f509a7ead",
   "metadata": {},
   "source": [
    "### Plot (Low)"
   ]
  },
  {
   "cell_type": "code",
   "execution_count": 70,
   "id": "fa69bef0-3563-4f44-8f05-37be962fa532",
   "metadata": {},
   "outputs": [
    {
     "data": {
      "image/png": "[encoded data removed]",
      "text/plain": [
       "<Figure size 432x288 with 4 Axes>"
      ]
     },
     "metadata": {
      "needs_background": "light"
     },
     "output_type": "display_data"
    }
   ],
   "source": [
    "fig, (ax1, ax2) = plt.subplots(2, 1, sharex=True)\n",
    "\n",
    "ax1_bis = ax1.twinx()\n",
    "ax2_bis = ax2.twinx()\n",
    "\n",
    "ax1.scatter(x_vals, I_star_ideal, label='Ideal recovery value (varying for $I/I_\\\\ast$)')\n",
    "ax1_bis.scatter(x_vals, (I_star_ideal-data[\"I_star\"])/data[\"I_star\"])\n",
    "ax1.scatter(x_vals, I_star_standard, label=\"Standard recovery value (1.01)\")\n",
    "ax1_bis.scatter(x_vals, (I_star_standard-data[\"I_star\"])/data[\"I_star\"], label=\"\")\n",
    "\n",
    "ax1.legend(fontsize=\"small\")\n",
    "ax1.axhline(data[\"I_star\"], color=\"grey\")\n",
    "ax1.set_ylabel(\"$I_*$\")\n",
    "ax1_bis.set_ylabel(\"Relative error\")\n",
    "\n",
    "ax2.scatter(x_vals, kappa_ideal)\n",
    "ax2.scatter(x_vals, kappa_standard)\n",
    "ax2_bis.scatter(x_vals, (kappa_ideal-data[\"k\"])/data[\"k\"])\n",
    "ax2_bis.scatter(x_vals, (kappa_standard-data[\"k\"])/data[\"k\"])\n",
    "\n",
    "ax2.axhline(data[\"k\"], color=\"grey\")\n",
    "ax2.set_ylabel(\"$\\\\kappa$\")\n",
    "ax2_bis.set_ylabel(\"Relative error\")\n",
    "ax2.set_xlabel(\"$I/I_*$\")\n",
    "\n",
    "plt.tight_layout()\n",
    "plt.subplots_adjust(hspace=.0)\n",
    "plt.setp(ax0.get_xticklabels(), visible=False)\n",
    "\n",
    "plt.savefig(os.path.join(PATH+\"low_fits.pdf\"), dpi=DPI)"
   ]
  },
  {
   "cell_type": "markdown",
   "id": "a561ca1a-9ac9-417d-90b7-9f3ae0ebfa14",
   "metadata": {},
   "source": [
    "# Schema"
   ]
  },
  {
   "cell_type": "code",
   "execution_count": 16,
   "id": "8f96b020-f100-46a1-a7a0-05f4fe217f7e",
   "metadata": {},
   "outputs": [],
   "source": [
    "%matplotlib widget"
   ]
  },
  {
   "cell_type": "code",
   "execution_count": 13,
   "id": "892570f4-b489-4753-81ba-47c560a9305d",
   "metadata": {},
   "outputs": [],
   "source": [
    "with open(os.path.join(DATA_PATH, \"data_avg_I_a_4_r_10_the_steady_tip-tap_reverse_standard.pkl\"), 'rb') as f:\n",
    "    all_data = pickle.load(f)"
   ]
  },
  {
   "cell_type": "code",
   "execution_count": 14,
   "id": "fd48ab36-837a-4bcc-8403-0f867e1c7c1d",
   "metadata": {},
   "outputs": [
    {
     "data": {
      "text/plain": [
       "dict_keys(['I_max_before', 'I_max_high', 'I_max_after', 'I_max_low', 't_absolute', 't_relative', 'current', 'current_ana'])"
      ]
     },
     "execution_count": 14,
     "metadata": {},
     "output_type": "execute_result"
    }
   ],
   "source": [
    "all_data[2][0].keys()"
   ]
  },
  {
   "cell_type": "code",
   "execution_count": 18,
   "id": "81fe6e8d-c160-475b-b3f7-9af378be7139",
   "metadata": {},
   "outputs": [
    {
     "data": {
      "application/vnd.jupyter.widget-view+json": {
       "model_id": "37a7eace8c74444ea5904270293ee3c2",
       "version_major": 2,
       "version_minor": 0
      },
      "text/plain": [
       "Canvas(toolbar=Toolbar(toolitems=[('Home', 'Reset original view', 'home', 'home'), ('Back', 'Back to previous …"
      ]
     },
     "metadata": {},
     "output_type": "display_data"
    },
    {
     "data": {
      "application/vnd.jupyter.widget-view+json": {
       "model_id": "34f7e16ecb53443596138dc26d18b67e",
       "version_major": 2,
       "version_minor": 0
      },
      "text/plain": [
       "  0%|          | 0/50 [00:00<?, ?it/s]"
      ]
     },
     "metadata": {},
     "output_type": "display_data"
    }
   ],
   "source": [
    "fig = plt.figure()#(figsize=(5, 3))\n",
    "gs = gridspec.GridSpec(2, 1, height_ratios=[1, 0.3])\n",
    "\n",
    "ax0 = plt.subplot(gs[0])\n",
    "ax1 = plt.subplot(gs[1], sharex=ax0)\n",
    "\n",
    "for d in tqdm(all_data[2][:len(all_data[2])//5]):\n",
    "    ax1.plot(\n",
    "        [d[\"t_absolute\"][0], d[\"t_absolute\"][0], d[\"t_absolute\"][-1]],\n",
    "        np.asarray([d[\"I_max_before\"], d[\"I_max_after\"], d[\"I_max_after\"]])/all_data[0][\"I_star\"], c=\"black\")\n",
    "    ax0.plot(d[\"t_absolute\"], d[\"current\"], c=\"C0\")\n",
    "    ax0.plot(d[\"t_absolute\"], d[\"current_ana\"], \"--\", c=\"C1\")\n",
    "    \n",
    "ax0.set_yscale(\"log\")\n",
    "\n",
    "ax1.set_xlabel(\"$t$\")\n",
    "ax0.set_ylabel(\"$J$\")\n",
    "ax1.set_ylabel(\"$I_a/I_\\\\ast$\")\n",
    "\n",
    "plt.tight_layout()\n",
    "plt.subplots_adjust(hspace=.0)\n",
    "plt.setp(ax0.get_xticklabels(), visible=False)\n",
    "#ax0.set_xlim(0, 800)\n",
    "\n",
    "plt.savefig(os.path.join(PATH+\"raw_process.pdf\"), dpi=DPI)"
   ]
  },
  {
   "cell_type": "code",
   "execution_count": 86,
   "id": "1fe5889c-a6d2-42cd-b3b5-0e24047965fc",
   "metadata": {},
   "outputs": [],
   "source": [
    "plt.close(\"all\")"
   ]
  },
  {
   "cell_type": "markdown",
   "id": "6468c631-98f7-472d-b18d-be604205e216",
   "metadata": {},
   "source": [
    "# MULTPLE CURVES"
   ]
  },
  {
   "cell_type": "code",
   "execution_count": 5,
   "id": "17add796-9062-44bf-bed2-794b3a8a8e72",
   "metadata": {},
   "outputs": [],
   "source": [
    "%matplotlib widget"
   ]
  },
  {
   "cell_type": "code",
   "execution_count": 6,
   "id": "53caa531-249e-491d-9aa4-ef9c234e7b90",
   "metadata": {},
   "outputs": [],
   "source": [
    "mov = \"the_steady_tip-tap_standard\"\n",
    "pos = \"avg\"\n",
    "rep = \"5\""
   ]
  },
  {
   "cell_type": "code",
   "execution_count": 7,
   "id": "039254fd-1136-4aee-bebc-363f70cf7f7e",
   "metadata": {
    "tags": []
   },
   "outputs": [],
   "source": [
    "with open(os.path.join(DATA_PATH, \"data_{}_I_a_4_r_{}_the_steady_tip-tap_standard.pkl\".format(pos, rep)), 'rb') as f:\n",
    "    all_data = pickle.load(f)\n",
    "multiple_data_file_low = \"data_{}_I_a_4_r_{}_the_steady_tip-tap_standard_low_avg.pkl\".format(pos, rep)\n",
    "multiple_data_file_high = \"data_{}_I_a_4_r_{}_the_steady_tip-tap_standard_high_avg.pkl\".format(pos, rep)"
   ]
  },
  {
   "cell_type": "code",
   "execution_count": 8,
   "id": "e349dd80-385d-43ed-a11f-391939780648",
   "metadata": {},
   "outputs": [],
   "source": [
    "with open(os.path.join(DATA_PATH, multiple_data_file_low), 'rb') as f:\n",
    "    d_low = pickle.load(f)\n",
    "\n",
    "with open(os.path.join(DATA_PATH, multiple_data_file_high), 'rb') as f:\n",
    "    d_high = pickle.load(f)"
   ]
  },
  {
   "cell_type": "code",
   "execution_count": 9,
   "id": "cf9de6b0-7484-49aa-b0a4-685345843099",
   "metadata": {},
   "outputs": [
    {
     "data": {
      "text/plain": [
       "dict_keys(['I_star', 'k', 'cn_sampling', 'dt_sampling', 'steps_in_I', 'relax_samples', 'relaxing_samples', 'it_per_sample', 'name', 'I_max', 'step_size', 'I_damping', 'sub_name', 'repetitions', 'samples', 'exponent', 'c', 'dt', 'protocol_name'])"
      ]
     },
     "execution_count": 9,
     "metadata": {},
     "output_type": "execute_result"
    }
   ],
   "source": [
    "all_data[0].keys()"
   ]
  },
  {
   "cell_type": "code",
   "execution_count": 10,
   "id": "70b487f5-0ccf-4507-a225-06fb6b07353c",
   "metadata": {},
   "outputs": [
    {
     "data": {
      "text/plain": [
       "dict_keys(['I_max_before', 'I_max_high', 'I_max_after', 'I_max_low', 't_absolute', 't_relative', 'current'])"
      ]
     },
     "execution_count": 10,
     "metadata": {},
     "output_type": "execute_result"
    }
   ],
   "source": [
    "all_data[2][0].keys()"
   ]
  },
  {
   "cell_type": "code",
   "execution_count": 11,
   "id": "e1cfbc93-2ba5-46d2-84c2-556029469244",
   "metadata": {},
   "outputs": [
    {
     "data": {
      "text/plain": [
       "dict_keys([6.0, 6.010201020102009, 6.020402040204019, 6.030603060306028, 6.040804080408037, 6.0510051005100465, 6.061206120612056, 6.071407140714065, 6.081608160816074, 6.091809180918084, 6.102010201020093, 6.112211221122102, 6.1224122412241115, 6.132613261326121, 6.14281428142813, 6.153015301530139, 6.163216321632149, 6.173417341734158, 6.183618361836167, 6.193819381938177, 6.204020402040186, 6.214221422142195, 6.2244224422442045, 6.234623462346214, 6.244824482448223, 6.255025502550232, 6.265226522652242, 6.275427542754251, 6.28562856285626, 6.2958295829582696, 6.306030603060279, 6.316231623162288, 6.326432643264297, 6.336633663366307, 6.346834683468316, 6.357035703570325, 6.367236723672335, 6.377437743774344, 6.387638763876353, 6.3978397839783625, 6.408040804080372, 6.418241824182381, 6.42844284428439, 6.4386438643864, 6.448844884488409, 6.459045904590418, 6.469246924692428, 6.479447944794437, 6.489648964896446, 6.4998499849984555])"
      ]
     },
     "execution_count": 11,
     "metadata": {},
     "output_type": "execute_result"
    }
   ],
   "source": [
    "d_low.keys()"
   ]
  },
  {
   "cell_type": "code",
   "execution_count": 12,
   "id": "ff5263d7-786f-4991-8b18-21df3eba264f",
   "metadata": {},
   "outputs": [
    {
     "data": {
      "text/plain": [
       "dict_keys(['mid', 'high', 'low', 'true', 'time'])"
      ]
     },
     "execution_count": 12,
     "metadata": {},
     "output_type": "execute_result"
    }
   ],
   "source": [
    "d_low[list(d_low.keys())[1]].keys()#['mid'].keys()"
   ]
  },
  {
   "cell_type": "code",
   "execution_count": 13,
   "id": "1cb46ad8-eaea-4cbb-a692-bb626e0ff3d0",
   "metadata": {},
   "outputs": [
    {
     "data": {
      "text/plain": [
       "6.020402040204019"
      ]
     },
     "execution_count": 13,
     "metadata": {},
     "output_type": "execute_result"
    }
   ],
   "source": [
    "list(d_high.keys())[1]"
   ]
  },
  {
   "cell_type": "code",
   "execution_count": 14,
   "id": "bfd3981e-2348-436a-ade9-f63f3f6039ec",
   "metadata": {},
   "outputs": [],
   "source": [
    "idx1 = 1\n",
    "idx2 = 15\n",
    "idx3 = 30"
   ]
  },
  {
   "cell_type": "code",
   "execution_count": 15,
   "id": "b519a625-1640-4b24-be9b-4823e76a6c59",
   "metadata": {},
   "outputs": [
    {
     "data": {
      "text/plain": [
       "dict_keys(['I_star', 'k', 'cn_sampling', 'dt_sampling', 'steps_in_I', 'relax_samples', 'relaxing_samples', 'it_per_sample', 'name', 'I_max', 'step_size', 'I_damping', 'sub_name', 'repetitions', 'samples', 'exponent', 'c', 'dt', 'protocol_name'])"
      ]
     },
     "execution_count": 15,
     "metadata": {},
     "output_type": "execute_result"
    }
   ],
   "source": [
    "all_data[0].keys()"
   ]
  },
  {
   "cell_type": "code",
   "execution_count": 16,
   "id": "0b9c76ed-9b77-4e64-9d89-057463e91f27",
   "metadata": {},
   "outputs": [],
   "source": [
    "def compute_block(a, b, I_star, exponent, c):\n",
    "    return scipy.integrate.quad(\n",
    "        lambda x : 1 / nt.D(x, I_star, exponent, c),\n",
    "        a,\n",
    "        b\n",
    "    )[0]\n",
    "\n",
    "def preliminary_fit(data_fit, data_real):\n",
    "    popt, _ = scipy.optimize.curve_fit(\n",
    "        lambda x, par: np.log10(par * x),\n",
    "        data_fit,\n",
    "        np.log10(data_real)\n",
    "    )\n",
    "    return popt[0]\n"
   ]
  },
  {
   "cell_type": "code",
   "execution_count": 17,
   "id": "85cdbab6-9f79-49a9-b42d-3121c4414f8c",
   "metadata": {},
   "outputs": [
    {
     "name": "stdout",
     "output_type": "stream",
     "text": [
      "0.002622900758961161\n",
      "1.8782251944394597\n"
     ]
    }
   ],
   "source": [
    "idx1 = 1\n",
    "dx_limit = 50000\n",
    "skipper = 200\n",
    "\n",
    "sampled_time = d_high[list(d_high.keys())[1]][\"time\"][:dx_limit:skipper]\n",
    "\n",
    "module = compute_block(\n",
    "    list(d_high.keys())[idx1],\n",
    "    list(d_high.keys())[idx1] + all_data[0][\"step_size\"],\n",
    "    all_data[0][\"I_star\"], all_data[0][\"exponent\"], all_data[0][\"c\"]\n",
    ")\n",
    "\n",
    "current_unitary = nt.current_generic(\n",
    "    sampled_time,\n",
    "    lambda x : module,\n",
    "    list(d_high.keys())[idx1],\n",
    "    list(d_high.keys())[idx1] - 4.0,\n",
    "    all_data[0][\"I_star\"], all_data[0][\"exponent\"], all_data[0][\"c\"]\n",
    ")\n",
    "\n",
    "real_module = preliminary_fit(current_unitary, d_high[list(d_high.keys())[idx1]][\"true\"]['avg'][:dx_limit:skipper] - 1)\n",
    "\n",
    "print(module)\n",
    "print(real_module)"
   ]
  },
  {
   "cell_type": "code",
   "execution_count": 100,
   "id": "87454aa7-7620-4462-b14d-d0eaef32b02e",
   "metadata": {},
   "outputs": [
    {
     "name": "stdout",
     "output_type": "stream",
     "text": [
      "100000\n"
     ]
    }
   ],
   "source": [
    "print(len(d_high[list(d_high.keys())[1]][\"time\"]))\n",
    "\n",
    "dx_limit = 50000\n",
    "skipper = 200\n",
    "\n",
    "sampled_time = d_high[list(d_high.keys())[1]][\"time\"][:dx_limit:skipper]\n",
    "\n",
    "\n",
    "module = compute_block(\n",
    "    list(d_high.keys())[idx1], \n",
    "    list(d_high.keys())[idx1] + all_data[0][\"step_size\"],\n",
    "    all_data[0][\"I_star\"], all_data[0][\"exponent\"], all_data[0][\"c\"]\n",
    ")\n",
    "current_approx = nt.current_generic(\n",
    "    sampled_time, \n",
    "    lambda x : module, \n",
    "    list(d_high.keys())[idx1], \n",
    "    list(d_high.keys())[idx1] - 2.0, \n",
    "    all_data[0][\"I_star\"], all_data[0][\"exponent\"], all_data[0][\"c\"]\n",
    ")\n",
    "\n",
    "module = compute_block(\n",
    "    list(d_high.keys())[idx2], \n",
    "    list(d_high.keys())[idx2] + all_data[0][\"step_size\"], \n",
    "    all_data[0][\"I_star\"], all_data[0][\"exponent\"], all_data[0][\"c\"]\n",
    ")\n",
    "current_approx_2 = nt.current_generic(\n",
    "    sampled_time, \n",
    "    lambda x : module, \n",
    "    list(d_high.keys())[idx2], \n",
    "    list(d_high.keys())[idx2] - 2.0, \n",
    "    all_data[0][\"I_star\"], all_data[0][\"exponent\"], all_data[0][\"c\"]\n",
    ")\n",
    "\n",
    "module = compute_block(\n",
    "    list(d_high.keys())[idx3], \n",
    "    list(d_high.keys())[idx3] + all_data[0][\"step_size\"], \n",
    "    all_data[0][\"I_star\"], all_data[0][\"exponent\"], all_data[0][\"c\"]\n",
    ")\n",
    "current_approx_3 = nt.current_generic(\n",
    "    sampled_time, \n",
    "    lambda x : module, \n",
    "    list(d_high.keys())[idx3], \n",
    "    list(d_high.keys())[idx3] - 2.0, \n",
    "    all_data[0][\"I_star\"], all_data[0][\"exponent\"], all_data[0][\"c\"]\n",
    ")"
   ]
  },
  {
   "cell_type": "code",
   "execution_count": 101,
   "id": "3021753b-8422-4b75-bd8c-e5e327db2ba0",
   "metadata": {},
   "outputs": [
    {
     "data": {
      "image/png": "[encoded data removed]",
      "text/plain": [
       "<Figure size 432x288 with 1 Axes>"
      ]
     },
     "metadata": {
      "needs_background": "light"
     },
     "output_type": "display_data"
    }
   ],
   "source": [
    "plt.figure()\n",
    "\n",
    "plt.plot(\n",
    "    d_high[list(d_high.keys())[idx1]][\"time\"],\n",
    "    d_high[list(d_high.keys())[idx1]][\"true\"]['avg'] - 1,\n",
    "    color=\"C0\"\n",
    ")\n",
    "plt.fill_between(\n",
    "    d_high[list(d_high.keys())[idx1]][\"time\"], d_high[list(d_high.keys())[idx1]][\"true\"]['avg'] - 1 - d_high[list(d_high.keys())[idx1]][\"true\"]['std'],\n",
    "    d_high[list(d_high.keys())[idx1]][\"true\"]['avg'] - 1 + d_high[list(d_high.keys())[idx1]][\"true\"]['std'],\n",
    "    color=\"C0\", alpha=0.5\n",
    ")\n",
    "\n",
    "\n",
    "plt.plot(\n",
    "    d_high[list(d_high.keys())[idx2]][\"time\"],\n",
    "    d_high[list(d_high.keys())[idx2]][\"true\"]['avg'] - 1,\n",
    "    color=\"C1\"\n",
    ")\n",
    "plt.fill_between(\n",
    "    d_high[list(d_high.keys())[idx2]][\"time\"], d_high[list(d_high.keys())[idx2]][\"true\"]['avg'] - 1 - d_high[list(d_high.keys())[idx2]][\"true\"]['std'],\n",
    "    d_high[list(d_high.keys())[idx2]][\"true\"]['avg'] - 1 + d_high[list(d_high.keys())[idx2]][\"true\"]['std'],\n",
    "    color=\"C1\", alpha=0.5\n",
    ")\n",
    "\n",
    "\n",
    "plt.plot(\n",
    "    d_high[list(d_high.keys())[idx3]][\"time\"],\n",
    "    d_high[list(d_high.keys())[idx3]][\"true\"]['avg'] - 1,\n",
    "    color=\"C0\"\n",
    ")\n",
    "plt.fill_between(\n",
    "    d_high[list(d_high.keys())[idx3]][\"time\"], d_high[list(d_high.keys())[idx3]][\"true\"]['avg'] - 1 - d_high[list(d_high.keys())[idx3]][\"true\"]['std'],\n",
    "    d_high[list(d_high.keys())[idx3]][\"true\"]['avg'] - 1 + d_high[list(d_high.keys())[idx3]][\"true\"]['std'],\n",
    "    color=\"C0\", alpha=0.5\n",
    ")\n",
    "\n",
    "plt.plot(sampled_time, current_approx, c=\"C2\")\n",
    "plt.plot(sampled_time, current_approx_2, c=\"C3\")\n",
    "plt.plot(sampled_time, current_approx_3, c=\"C2\")\n",
    "\n",
    "plt.yscale(\"log\")\n",
    "#plt.xlim(right=0.4)\n"
   ]
  },
  {
   "cell_type": "code",
   "execution_count": 102,
   "id": "c8481a0c-ba93-4250-92a4-8c631c0850de",
   "metadata": {
    "tags": []
   },
   "outputs": [
    {
     "name": "stdout",
     "output_type": "stream",
     "text": [
      "20.0 1.5151515151515156 851658.9385540067\n",
      "20.0 1.5151515151515156 851658.9385540067\n",
      "20.0 1.5151515151515156 851658.9385540067\n",
      "20.000000312214805 1.5151515151515156 851658.9385540067\n",
      "20.0 1.5151515467056353 851658.9385540067\n",
      "22.23943677598916 1.435149092697468 851658.9385540067\n",
      "22.23943712164255 1.435149092697468 851658.9385540067\n",
      "22.23943677598916 1.4351491228648183 851658.9385540067\n",
      "22.55997857737371 1.432899917605552 851658.9385540067\n",
      "22.55997892781227 1.432899917605552 851658.9385540067\n",
      "22.55997857737371 1.43289994773373 851658.9385540067\n",
      "22.628958259976052 1.429585871979075 851658.9385540067\n",
      "22.62895861144434 1.429585871979075 851658.9385540067\n",
      "22.628958259976052 1.4295859020495154 851658.9385540067\n",
      "22.623147522921112 1.4298913880530857 851658.9385540067\n",
      "22.623147874302656 1.4298913880530857 851658.9385540067\n",
      "22.623147522921112 1.4298914181288493 851658.9385540067\n",
      "22.623854027670067 1.4298559497147223 851658.9385540067\n",
      "22.623854027670067 1.4298559497147223 851658.9385540067\n"
     ]
    },
    {
     "data": {
      "text/html": [
       "<h2>Fit Statistics</h2><table><tr><td>fitting method</td><td>leastsq</td><td></td></tr><tr><td># function evals</td><td>16</td><td></td></tr><tr><td># data points</td><td>320</td><td></td></tr><tr><td># variables</td><td>2</td><td></td></tr><tr><td>chi-square</td><td> 0.74986561</td><td></td></tr><tr><td>reduced chi-square</td><td> 0.00235807</td><td></td></tr><tr><td>Akaike info crit.</td><td>-1933.97833</td><td></td></tr><tr><td>Bayesian info crit.</td><td>-1926.44169</td><td></td></tr></table><h2>Variables</h2><table><tr><th> name </th><th> value </th><th> standard error </th><th> relative error </th><th> initial value </th><th> min </th><th> max </th><th> vary </th></tr><tr><td> I_star </td><td>  22.6238540 </td><td>  0.59728981 </td><td> (2.64%) </td><td> 20.0 </td><td>  0.00000000 </td><td>         inf </td><td> True </td></tr><tr><td> exponent </td><td>  1.42985595 </td><td>  0.03003453 </td><td> (2.10%) </td><td> 1.5151515151515151 </td><td>  0.00000000 </td><td>         inf </td><td> True </td></tr><tr><td> c </td><td>  851658.939 </td><td>  0.00000000 </td><td> (0.00%) </td><td> 851658.9385540067 </td><td>        -inf </td><td>         inf </td><td> False </td></tr></table><h2>Correlations (unreported correlations are < 0.100)</h2><table><tr><td>I_star</td><td>exponent</td><td>-0.9998</td></tr></table>"
      ],
      "text/plain": [
       "<lmfit.minimizer.MinimizerResult at 0x7f898b0a3970>"
      ]
     },
     "execution_count": 102,
     "metadata": {},
     "output_type": "execute_result"
    }
   ],
   "source": [
    "\"\"\"\n",
    "def resid(params, x, y):\n",
    "    I_star = params[\"I_star\"]\n",
    "    exponent = params[\"exponent\"]\n",
    "    c = params[\"c\"]\n",
    "\n",
    "    t = [x[0] for x in x]\n",
    "    D_loc = [x[1] for x in x]\n",
    "    D_list = [compute_block(I, I + all_data[0][\"step_size\"], I_star, exponent, c) for I in D_loc]\n",
    "    D_rep = [D_list[0] / D_list[i] for i in range(len(D_list))]\n",
    "    print(I_star.value, exponent.value, c.value)\n",
    "    currents = []\n",
    "    currents.append(np.array(nt.current_generic(\n",
    "        t[0],\n",
    "        lambda l : 1.0,\n",
    "        D_loc[0], D_loc[0] - 2.0,\n",
    "        I_star.value, exponent.value, c.value\n",
    "    )))\n",
    "    multiplier = preliminary_fit(currents[0], y[0])\n",
    "    currents[0] *= multiplier\n",
    "    for i in range(1, len(D_rep)):\n",
    "        currents.append(np.array(nt.current_generic(\n",
    "            t[i],\n",
    "            lambda l : multiplier * D_rep[i],\n",
    "            D_loc[i], D_loc[i] - 2.0,\n",
    "            I_star.value, exponent.value, c.value\n",
    "        )))\n",
    "\n",
    "    return np.log10(np.concatenate(currents)) - np.log10(np.concatenate(y))\n",
    "\"\"\"\n",
    "\n",
    "\n",
    "def resid(params, x, y):\n",
    "    I_star = params[\"I_star\"]\n",
    "    exponent = params[\"exponent\"]\n",
    "    c = params[\"c\"]\n",
    "\n",
    "    t = [x[0] for x in x]\n",
    "    D_loc = [x[1] for x in x]\n",
    "    D_list = [compute_block(I, I + all_data[0][\"step_size\"], I_star, exponent, c) for I in D_loc]\n",
    "    print(I_star.value, exponent.value, c.value)\n",
    "    currents = []\n",
    "    for i in range(len(D_list)):\n",
    "        currents.append(np.array(nt.current_generic(\n",
    "            t[i],\n",
    "            lambda l : D_list[i],\n",
    "            D_loc[i], D_loc[i] - 3.0,\n",
    "            I_star.value, exponent.value, c.value\n",
    "        )))\n",
    "\n",
    "    return np.log10(np.concatenate(currents)) - np.log10(np.concatenate(y))\n",
    "\n",
    "def general_fit(x_data, y_data, starting_pars):\n",
    "    params = lmfit.Parameters()\n",
    "    params.add(\"I_star\", starting_pars[\"I_star\"], min=0.0)\n",
    "    params.add(\"exponent\", starting_pars[\"exponent\"], min=0.0)\n",
    "    params.add(\"c\", starting_pars[\"c\"], vary=False)\n",
    "\n",
    "    fit = lmfit.minimize(\n",
    "        resid,\n",
    "        params,\n",
    "        args=(x_data, y_data),\n",
    "        method=\"leastsq\"\n",
    "    )\n",
    "    \n",
    "    return fit\n",
    "    \n",
    "low_idx = 1\n",
    "high_idx = 40\n",
    "jump_idx = 5\n",
    "\n",
    "dx_limit = 40000\n",
    "skipper = 1000\n",
    "\n",
    "sampled_time = d_high[list(d_high.keys())[1]][\"time\"][:dx_limit:skipper]\n",
    "\n",
    "x = [(sampled_time, list(d_high.keys())[i]) for i in range(low_idx, high_idx, jump_idx)]\n",
    "y = [d_high[list(d_high.keys())[i]][\"true\"]['avg'][:dx_limit:skipper] - 1 for i in range(low_idx, high_idx, jump_idx)]\n",
    "starting_pars = {\n",
    "    \"I_star\":all_data[0][\"I_star\"],\n",
    "    \"exponent\":all_data[0][\"exponent\"],# - all_data[0][\"exponent\"] * 0.1,\n",
    "    \"c\":all_data[0][\"c\"],\n",
    "}\n",
    "\n",
    "\n",
    "fit = general_fit(x, y, starting_pars)\n",
    "fit"
   ]
  },
  {
   "cell_type": "code",
   "execution_count": 103,
   "id": "6c2f285d-f743-469a-91a8-371736eeedbd",
   "metadata": {},
   "outputs": [
    {
     "data": {
      "text/plain": [
       "22.623854027670067"
      ]
     },
     "execution_count": 103,
     "metadata": {},
     "output_type": "execute_result"
    }
   ],
   "source": [
    "fit.params[\"I_star\"].value"
   ]
  },
  {
   "cell_type": "code",
   "execution_count": 104,
   "id": "3efcc21f-01f3-4298-9d28-dd27db4ddefc",
   "metadata": {},
   "outputs": [
    {
     "data": {
      "image/png": "[encoded data removed]",
      "text/plain": [
       "<Figure size 432x288 with 1 Axes>"
      ]
     },
     "metadata": {
      "needs_background": "light"
     },
     "output_type": "display_data"
    }
   ],
   "source": [
    "plt.figure()\n",
    "for i in range(low_idx, high_idx, jump_idx):\n",
    "    plt.plot(\n",
    "        d_high[list(d_high.keys())[i]][\"time\"][:dx_limit:skipper],\n",
    "        d_high[list(d_high.keys())[i]][\"true\"]['avg'][:dx_limit:skipper] - 1,\n",
    "        color=\"C0\"\n",
    "    )\n",
    "    module = compute_block(\n",
    "        list(d_high.keys())[i],\n",
    "        list(d_high.keys())[i] + all_data[0][\"step_size\"],\n",
    "        fit.params[\"I_star\"].value, fit.params[\"exponent\"].value, fit.params[\"c\"].value\n",
    "    )\n",
    "\n",
    "    current_unitary = nt.current_generic(\n",
    "        sampled_time,\n",
    "        lambda x : module,\n",
    "        list(d_high.keys())[i],\n",
    "        list(d_high.keys())[i] - 4.0,\n",
    "        fit.params[\"I_star\"].value, fit.params[\"exponent\"].value, fit.params[\"c\"].value\n",
    "    )\n",
    "    \n",
    "    plt.plot(sampled_time, current_unitary, c=\"C1\")\n",
    "\n",
    "plt.yscale(\"log\")"
   ]
  },
  {
   "cell_type": "code",
   "execution_count": 54,
   "id": "b58622ea-eab1-403b-bbc6-4669cb9d76f8",
   "metadata": {},
   "outputs": [
    {
     "data": {
      "application/vnd.jupyter.widget-view+json": {
       "model_id": "1914cf30fc5841c4bef13f8f2bf0bb07",
       "version_major": 2,
       "version_minor": 0
      },
      "text/plain": [
       "Canvas(toolbar=Toolbar(toolitems=[('Home', 'Reset original view', 'home', 'home'), ('Back', 'Back to previous …"
      ]
     },
     "metadata": {},
     "output_type": "display_data"
    }
   ],
   "source": [
    "val = preliminary_fit(current_approx, d_high[list(d_high.keys())[idx1]][\"true\"]['avg'][:dx_limit:skipper] - 1)\n",
    "\n",
    "plt.figure()\n",
    "plt.plot(np.asarray(current_approx) * val)\n",
    "plt.plot(d_high[list(d_high.keys())[idx1]][\"true\"]['avg'][:dx_limit:skipper] - 1)\n",
    "plt.yscale(\"log\")"
   ]
  },
  {
   "cell_type": "code",
   "execution_count": 85,
   "id": "520b27a4-4c0e-425c-b772-59073026b1a9",
   "metadata": {},
   "outputs": [
    {
     "data": {
      "application/vnd.jupyter.widget-view+json": {
       "model_id": "60aa438c6382420a8e7bc45080859b76",
       "version_major": 2,
       "version_minor": 0
      },
      "text/plain": [
       "Canvas(toolbar=Toolbar(toolitems=[('Home', 'Reset original view', 'home', 'home'), ('Back', 'Back to previous …"
      ]
     },
     "metadata": {},
     "output_type": "display_data"
    },
    {
     "data": {
      "text/plain": [
       "Text(0.5, 1.0, 'Recover current analysis')"
      ]
     },
     "execution_count": 85,
     "metadata": {},
     "output_type": "execute_result"
    }
   ],
   "source": [
    "plt.figure()\n",
    "\n",
    "cmap = matplotlib.cm.get_cmap('viridis')\n",
    "for i, key in list(enumerate(d_high)):\n",
    "    idx = i / len(d_high)\n",
    "    plt.plot(d_high[key]['time'], d_high[key]['true']['avg'] - 1.0, c=cmap(idx))\n",
    "\n",
    "#plt.xscale(\"log\")\n",
    "plt.yscale(\"log\")\n",
    "plt.xlim(0, 0.2)\n",
    "plt.axhline(0.01, c=\"grey\", label=\"0.01\")\n",
    "\n",
    "plt.legend()\n",
    "plt.xlabel(\"Time\")\n",
    "plt.ylabel(\"Recover current\\n[(real current / immovable current) - 1]\")\n",
    "\n",
    "plt.title(\"Recover current analysis\")"
   ]
  },
  {
   "cell_type": "markdown",
   "id": "ea096f41-09b2-4747-a4d7-48c5bd531deb",
   "metadata": {},
   "source": [
    "# USELESS STUFF"
   ]
  },
  {
   "cell_type": "markdown",
   "id": "34fa35bb-59bb-4aef-a8b6-771b7c8a195b",
   "metadata": {},
   "source": [
    "## 3 - Semi-ideal reconstruction\n",
    "\n",
    "This is the **core experiment** I will discuss most in the paper, so everything must be perfect!"
   ]
  },
  {
   "cell_type": "markdown",
   "id": "4e53a60d-84a4-4058-9d11-d030022bc477",
   "metadata": {},
   "source": [
    "### First, we need to define a realistic initial distribution"
   ]
  },
  {
   "cell_type": "markdown",
   "id": "227a2807-40ec-4df1-8dee-304a3e264dea",
   "metadata": {},
   "source": [
    "It's very simple and direct: if we decide to work in normalized emittance variables, and we work with a gaussian beam distribution with it's characteristic emittance, we have that\n",
    "$$\\rho_0(I) = e^{-I}$$\n",
    "Where $I$, from now on, is expessed in sigma units."
   ]
  },
  {
   "cell_type": "code",
   "execution_count": null,
   "id": "33a6280a-d054-4f46-9a5e-7f711777868e",
   "metadata": {},
   "outputs": [],
   "source": [
    "def rho_0(I, damping_position=np.nan, l=np.nan):\n",
    "    if np.isnan(damping_position) or np.isnan(l):\n",
    "        return np.exp(-I)\n",
    "    else:\n",
    "        return np.exp(-I) / (1 + np.exp((I - damping_position)/l))"
   ]
  },
  {
   "cell_type": "markdown",
   "id": "c4d31e52-8b23-4055-911a-6086d675ddd4",
   "metadata": {},
   "source": [
    "### Setting up the scenario"
   ]
  },
  {
   "cell_type": "code",
   "execution_count": null,
   "id": "f0188445-f8c5-4b7a-86de-90693acb60b1",
   "metadata": {},
   "outputs": [],
   "source": [
    "I_damping = 1.9\n",
    "I_max = 2.0\n",
    "I_star = 10.0\n",
    "k = 0.33\n",
    "exponent = 1/(2*k)\n",
    "\n",
    "# As for the time scaling... we go with this one.\n",
    "# REMEMBER TO SPECIFY IT PROPERLY IN THE PAPER!!!\n",
    "c = nt.standard_c(0.0, I_max, I_star, exponent)"
   ]
  },
  {
   "cell_type": "code",
   "execution_count": null,
   "id": "30148838-d4ae-45eb-8a11-db114535ef16",
   "metadata": {},
   "outputs": [],
   "source": [
    "cn_sampling = 10000\n",
    "I_list, dI = np.linspace(0.0, I_max, cn_sampling, retstep=True)\n",
    "\n",
    "cn_time_steps = 100\n",
    "dt = nt.current_peak_time(I_damping, I_max, I_star, exponent, c)/cn_time_steps"
   ]
  },
  {
   "cell_type": "code",
   "execution_count": null,
   "id": "e05dffd2-0551-4a6e-bbb4-a839f99a3070",
   "metadata": {},
   "outputs": [],
   "source": [
    "steps_per_sample = 5\n",
    "\n",
    "steps_per_iteration = 10000\n",
    "iterations = 10\n",
    "macro_iterations = 5\n",
    "long_track_steps = steps_per_iteration * iterations * (macro_iterations + 1)"
   ]
  },
  {
   "cell_type": "code",
   "execution_count": null,
   "id": "e0ce316d-d85e-412b-a61f-07cbd6b2ed90",
   "metadata": {},
   "outputs": [],
   "source": [
    "engine = cn.cn_generic(0, I_max, rho_0(I_list, I_damping, dI*5), dt, lambda x: nt.D(x, I_star, exponent, c, True))\n",
    "data_0 = engine.get_data_with_x()\n",
    "\n",
    "times_long, current_long = engine.current(long_track_steps, steps_per_sample, False)\n",
    "data_long = engine.get_data_with_x()"
   ]
  },
  {
   "cell_type": "code",
   "execution_count": null,
   "id": "c68d23bc-b30f-4c9a-ab0a-8cbe0eff49cc",
   "metadata": {},
   "outputs": [],
   "source": [
    "plt.figure()\n",
    "plt.plot(data_0[0], data_0[1], label=\"Initial condition\")\n",
    "plt.plot(data_long[0], data_long[1], label=\"After iterations\")\n",
    "plt.axvline(I_max, color=\"black\", label=\"$I_a$\")\n",
    "plt.xlabel(\"$I$\")\n",
    "plt.ylabel(\"$\\\\rho$\")\n",
    "plt.legend()"
   ]
  },
  {
   "cell_type": "markdown",
   "id": "32e08ad4-2aae-4e60-99f8-3543127ad0d2",
   "metadata": {},
   "source": [
    "**And here's the current!**"
   ]
  },
  {
   "cell_type": "code",
   "execution_count": null,
   "id": "d6cb5454-3f30-4e14-812e-b45754c6d14f",
   "metadata": {},
   "outputs": [],
   "source": [
    "plt.figure()\n",
    "plt.plot(times_long, current_long)\n",
    "plt.xlabel(\"$t$\")\n",
    "plt.ylabel(\"$J$\")\n",
    "plt.yscale(\"log\")"
   ]
  },
  {
   "cell_type": "code",
   "execution_count": null,
   "id": "836d8019-24d7-4ff2-9c88-0b565c330bc3",
   "metadata": {
    "scrolled": true,
    "tags": []
   },
   "outputs": [],
   "source": [
    "engine = cn.cn_generic(0, I_max, rho_0(I_list, I_damping, dI*5), dt, lambda x: nt.D(x, I_star, exponent, c, True))\n",
    "\n",
    "t_absolute_out = []\n",
    "t_relative_out = []\n",
    "c_out = []\n",
    "I_max_list = []\n",
    "set_list = []\n",
    "\n",
    "t_absolute_out_partial = []\n",
    "t_relative_out_partial = []\n",
    "c_out_partial = []\n",
    "I_max_list_partial = []\n",
    "set_list_partial = []\n",
    "\n",
    "for j in tqdm(range(macro_iterations + 1)):\n",
    "    if j != 0:\n",
    "        engine.move_barrier_backward(0.1 * iterations)\n",
    "\n",
    "    for i in tqdm(range(iterations)):\n",
    "        time, current = engine.current(steps_per_iteration, steps_per_sample)\n",
    "        if len(t_absolute_out) > 0:\n",
    "            absolute_time = time + t_absolute_out[-1][-1]\n",
    "        else:\n",
    "            absolute_time = time.copy()\n",
    "        t_relative_out.append(time)\n",
    "        t_absolute_out.append(absolute_time)\n",
    "        c_out.append(current)\n",
    "        I_max_list.append(engine.I_max)\n",
    "        set_list.append(i)\n",
    "        if i != 0:\n",
    "            t_relative_out_partial.append(time)\n",
    "            t_absolute_out_partial.append(absolute_time)\n",
    "            c_out_partial.append(current)\n",
    "            I_max_list_partial.append(engine.I_max)\n",
    "            set_list_partial.append(i)\n",
    "        engine.move_barrier_forward(0.1)"
   ]
  },
  {
   "cell_type": "code",
   "execution_count": null,
   "id": "00bc946b-35a2-4d65-927b-ed045ff1060b",
   "metadata": {},
   "outputs": [],
   "source": [
    "fig, ax1 = plt.subplots()\n",
    "ax2 = ax1.twinx()\n",
    "for i in range(len(t_absolute_out)):\n",
    "    ax2.plot(\n",
    "        [t_absolute_out[i][0],t_absolute_out[i][-1], t_absolute_out[i][-1]],\n",
    "        [I_max_list[i],I_max_list[i],(I_max_list[i+1] if i+1 != len(I_max_list) else I_max_list[i])],\n",
    "        c=\"black\", alpha=0.5\n",
    "    )\n",
    "    ax1.plot(t_absolute_out[i], c_out[i])\n",
    "    if i != len(t_absolute_out) - 1:\n",
    "        ax1.plot(\n",
    "            [t_absolute_out[i][-1], t_absolute_out[i][-1]],\n",
    "            [c_out[i][-1], c_out[i+1][0]],\n",
    "            c=\"black\"\n",
    "        )\n",
    "\n",
    "ax1.plot(times_long, current_long, c=\"C0\", linestyle=\"dashed\")\n",
    "\n",
    "ax1.set_yscale(\"log\")\n",
    "ax1.set_ylabel(\"Current\")\n",
    "ax1.set_xlabel(\"time\")\n",
    "ax2.set_ylabel(\"Barrier position\")"
   ]
  },
  {
   "cell_type": "code",
   "execution_count": null,
   "id": "68bde04e-4c28-464b-b7c8-fa0ecd10b6bc",
   "metadata": {},
   "outputs": [],
   "source": [
    "fig, ax1 = plt.subplots()\n",
    "\n",
    "slice_size = len(current_long) // len(t_absolute_out)\n",
    "\n",
    "c_normalized_out = []\n",
    "c_normalized_out_partial = []\n",
    "\n",
    "ax2 = ax1.twinx()\n",
    "for i in range(len(t_absolute_out)):\n",
    "    ax2.plot(\n",
    "        [t_absolute_out[i][0],t_absolute_out[i][-1], t_absolute_out[i][-1]],\n",
    "        [I_max_list[i],I_max_list[i],(I_max_list[i+1] if i+1 != len(I_max_list) else I_max_list[i])],\n",
    "        c=\"black\", alpha=0.5\n",
    "    )\n",
    "    ax1.plot(t_absolute_out[i], c_out[i]/(current_long[slice_size * i:slice_size * (i+1)]))\n",
    "    c_normalized_out.append(c_out[i]/(current_long[slice_size * i:slice_size * (i+1)]))\n",
    "    if i != len(t_absolute_out) - 1:\n",
    "        ax1.plot(\n",
    "            [t_absolute_out[i][-1], t_absolute_out[i][-1]],\n",
    "            np.array([c_out[i][-1], c_out[i+1][0]])/current_long[slice_size*(i+1)],\n",
    "            c=\"black\"\n",
    "        )\n",
    "\n",
    "#ax1.plot(times_long, current_long, c=\"C0\", linestyle=\"dashed\")\n",
    "\n",
    "#ax1.set_yscale(\"log\")\n",
    "ax1.set_ylabel(\"`Normalized` Current\")\n",
    "ax1.set_xlabel(\"time\")\n",
    "ax2.set_ylabel(\"Barrier position\")"
   ]
  },
  {
   "cell_type": "code",
   "execution_count": null,
   "id": "25c253ba-0005-47ca-aa9d-c69cb580b2ea",
   "metadata": {},
   "outputs": [],
   "source": [
    "plt.figure()\n",
    "for i in range(1, len(c_normalized_out)):\n",
    "    if i%iterations==1 and i != 1:\n",
    "        plt.plot(t_absolute_out[0], c_out[i], c=\"C0\")\n",
    "    elif i%iterations==2 and i != 2:\n",
    "        plt.plot(t_absolute_out[0], c_out[i], c=\"C1\")\n",
    "    elif i%iterations==3 and i != 3:\n",
    "        plt.plot(t_absolute_out[0], c_out[i], c=\"C2\")\n",
    "    elif i%iterations==4 and i != 4:\n",
    "        plt.plot(t_absolute_out[0], c_out[i], c=\"C3\")\n",
    "    elif i%iterations==5 and i != 5:\n",
    "        plt.plot(t_absolute_out[0], c_out[i], c=\"C4\")\n",
    "    else:\n",
    "        pass\n",
    "    \n",
    "plt.xscale(\"log\")"
   ]
  },
  {
   "cell_type": "code",
   "execution_count": null,
   "id": "f4f63fac-1e70-4e3f-9305-9f4ffc89b02d",
   "metadata": {},
   "outputs": [],
   "source": [
    "plt.figure()\n",
    "for i in range(1, len(c_normalized_out)):\n",
    "    if i%iterations==1:# and i != 1:\n",
    "        plt.plot(t_absolute_out[0], c_normalized_out[i], c=\"C0\")\n",
    "    elif i%iterations==2:# and i != 2:\n",
    "        plt.plot(t_absolute_out[0], c_normalized_out[i], c=\"C1\")\n",
    "    elif i%iterations==3:# and i != 3:\n",
    "        plt.plot(t_absolute_out[0], c_normalized_out[i], c=\"C2\")\n",
    "    elif i%iterations==4:# and i != 4:\n",
    "        plt.plot(t_absolute_out[0], c_normalized_out[i], c=\"C3\")\n",
    "    elif i%iterations==5:# and i != 5:\n",
    "        plt.plot(t_absolute_out[0], c_normalized_out[i], c=\"C4\")\n",
    "    else:\n",
    "        pass\n",
    "    \n",
    "plt.axvline(afpt(I_max_list[0], I_max_list[1], I_star, exponent, c), c=\"C0\")\n",
    "plt.axvline(afpt(I_max_list[1], I_max_list[2], I_star, exponent, c), c=\"C1\")\n",
    "plt.axvline(afpt(I_max_list[2], I_max_list[3], I_star, exponent, c), c=\"C2\")\n",
    "plt.axvline(afpt(I_max_list[3], I_max_list[4], I_star, exponent, c), c=\"C3\")\n",
    "plt.axvline(afpt(I_max_list[4], I_max_list[5], I_star, exponent, c), c=\"C4\")\n",
    "\n",
    "plt.xscale(\"log\")\n",
    "plt.ylim(0.8,1.0)"
   ]
  },
  {
   "cell_type": "markdown",
   "id": "c4be1471-edc1-49e2-9116-a57027e701b8",
   "metadata": {},
   "source": [
    "fit!"
   ]
  },
  {
   "cell_type": "code",
   "execution_count": null,
   "id": "b343cb07-09fc-4f95-8c23-ab8f635f8f4c",
   "metadata": {},
   "outputs": [],
   "source": [
    "def the_func(x_list, I_star, exponent):\n",
    "    print(I_star, exponent)\n",
    "    I_start  = [x[0] for x in x_list]\n",
    "    I_end = [x[1] for x in x_list]\n",
    "    \n",
    "    t_list = np.array([afpt(I_start[i], I_end[i], I_star, exponent, c) for i in range(len(I_start))])\n",
    "    return t_list"
   ]
  },
  {
   "cell_type": "code",
   "execution_count": null,
   "id": "624484c3-e74b-41a2-a3cd-9f48e1bf8eef",
   "metadata": {},
   "outputs": [],
   "source": [
    "selected_times = []\n",
    "x_list = []\n",
    "\n",
    "for i in range(len(c_normalized_out)):\n",
    "    if i%iterations!=0:\n",
    "        selected_times.append(\n",
    "            t_absolute_out[0][\n",
    "                np.argmin(np.absolute(c_normalized_out[i] - 0.96))\n",
    "            ]\n",
    "        )\n",
    "        x_list.append(\n",
    "            (I_max_list[i-1], I_max_list[i])\n",
    "        )"
   ]
  },
  {
   "cell_type": "code",
   "execution_count": null,
   "id": "f1c2d8e0-7cdb-4b12-8b4f-744473d0b08e",
   "metadata": {},
   "outputs": [],
   "source": [
    "plt.plot(selected_times)\n",
    "plt.yscale(\"log\")"
   ]
  },
  {
   "cell_type": "code",
   "execution_count": null,
   "id": "15eb32fd-83c6-4be5-93b0-5cfa4197b506",
   "metadata": {},
   "outputs": [],
   "source": [
    "plt.plot(x_list)"
   ]
  },
  {
   "cell_type": "code",
   "execution_count": null,
   "id": "3c442dc3-038d-40b1-91f0-c0bee580490d",
   "metadata": {
    "scrolled": true,
    "tags": []
   },
   "outputs": [],
   "source": [
    "popt, pcov = scipy.optimize.curve_fit(\n",
    "    the_func,\n",
    "    x_list,\n",
    "    np.asarray(selected_times),\n",
    "    p0=(I_star, exponent)\n",
    ")"
   ]
  },
  {
   "cell_type": "markdown",
   "id": "924cec8d-9753-4ad7-9ade-66fba2a59174",
   "metadata": {},
   "source": [
    "others..."
   ]
  },
  {
   "cell_type": "code",
   "execution_count": null,
   "id": "0801e335-1972-41a1-8879-0b257ad06858",
   "metadata": {
    "scrolled": true,
    "tags": []
   },
   "outputs": [],
   "source": [
    "engine = cn.cn_generic(0, I_max, rho_0(I_list, I_damping, dI*5), dt, lambda x: nt.D(x, I_star, exponent, c, True))\n",
    "\n",
    "t_absolute_out = []\n",
    "t_relative_out = []\n",
    "c_out = []\n",
    "I_max_list = []\n",
    "set_list = []\n",
    "\n",
    "t_absolute_out_partial = []\n",
    "t_relative_out_partial = []\n",
    "c_out_partial = []\n",
    "I_max_list_partial = []\n",
    "set_list_partial = []\n",
    "\n",
    "for j in tqdm(range(macro_iterations + 1)):\n",
    "    if j != 0:\n",
    "        engine.move_barrier_backward(0.1 * iterations)\n",
    "\n",
    "    for i in tqdm(range(iterations)):\n",
    "        print(engine.I_max)\n",
    "        time, current = engine.current(steps_per_iteration, steps_per_sample)\n",
    "        if len(t_absolute_out) > 0:\n",
    "            absolute_time = time + t_absolute_out[-1][-1]\n",
    "        else:\n",
    "            absolute_time = time.copy()\n",
    "        t_relative_out.append(time)\n",
    "        t_absolute_out.append(absolute_time)\n",
    "        c_out.append(current)\n",
    "        I_max_list.append(engine.I_max)\n",
    "        set_list.append(i)\n",
    "        if i != 0:\n",
    "            t_relative_out_partial.append(time)\n",
    "            t_absolute_out_partial.append(absolute_time)\n",
    "            c_out_partial.append(current)\n",
    "            I_max_list_partial.append(engine.I_max)\n",
    "            set_list_partial.append(i)\n",
    "        if i != 0:\n",
    "            engine.move_barrier_backward(0.1 * i)\n",
    "            print(engine.I_max)\n",
    "            \n",
    "        engine.move_barrier_forward(0.1 * (i+1))\n",
    "        print(engine.I_max)\n",
    "        "
   ]
  },
  {
   "cell_type": "code",
   "execution_count": null,
   "id": "2df208b6-6cf5-4eb5-b820-f82142a6d6d3",
   "metadata": {},
   "outputs": [],
   "source": [
    "fig, ax1 = plt.subplots()\n",
    "ax2 = ax1.twinx()\n",
    "for i in range(len(t_absolute_out)):\n",
    "    ax2.plot(\n",
    "        [t_absolute_out[i][0],t_absolute_out[i][-1], t_absolute_out[i][-1]],\n",
    "        [I_max_list[i],I_max_list[i],(I_max_list[i+1] if i+1 != len(I_max_list) else I_max_list[i])],\n",
    "        c=\"black\", alpha=0.5\n",
    "    )\n",
    "    ax1.plot(t_absolute_out[i], c_out[i])\n",
    "    if i != len(t_absolute_out) - 1:\n",
    "        ax1.plot(\n",
    "            [t_absolute_out[i][-1], t_absolute_out[i][-1]],\n",
    "            [c_out[i][-1], c_out[i+1][0]],\n",
    "            c=\"black\"\n",
    "        )\n",
    "\n",
    "ax1.plot(times_long, current_long, c=\"C0\", linestyle=\"dashed\")\n",
    "\n",
    "ax1.set_yscale(\"log\")\n",
    "ax1.set_ylabel(\"Current\")\n",
    "ax1.set_xlabel(\"time\")\n",
    "ax2.set_ylabel(\"Barrier position\")"
   ]
  },
  {
   "cell_type": "code",
   "execution_count": null,
   "id": "d80c89c4-4f33-43ab-87d5-fbbc98ff644e",
   "metadata": {},
   "outputs": [],
   "source": [
    "fig, ax1 = plt.subplots()\n",
    "\n",
    "slice_size = len(current_long) // len(t_absolute_out)\n",
    "\n",
    "c_normalized_out = []\n",
    "c_normalized_out_partial = []\n",
    "\n",
    "ax2 = ax1.twinx()\n",
    "for i in range(len(t_absolute_out)):\n",
    "    ax2.plot(\n",
    "        [t_absolute_out[i][0],t_absolute_out[i][-1], t_absolute_out[i][-1]],\n",
    "        [I_max_list[i],I_max_list[i],(I_max_list[i+1] if i+1 != len(I_max_list) else I_max_list[i])],\n",
    "        c=\"black\", alpha=0.5\n",
    "    )\n",
    "    ax1.plot(t_absolute_out[i], c_out[i]/(current_long[slice_size * i:slice_size * (i+1)]))\n",
    "    c_normalized_out.append(c_out[i]/(current_long[slice_size * i:slice_size * (i+1)]))\n",
    "    if i != len(t_absolute_out) - 1:\n",
    "        ax1.plot(\n",
    "            [t_absolute_out[i][-1], t_absolute_out[i][-1]],\n",
    "            np.array([c_out[i][-1], c_out[i+1][0]])/current_long[slice_size*(i+1)],\n",
    "            c=\"black\"\n",
    "        )\n",
    "\n",
    "#ax1.plot(times_long, current_long, c=\"C0\", linestyle=\"dashed\")\n",
    "\n",
    "#ax1.set_yscale(\"log\")\n",
    "ax1.set_ylabel(\"`Normalized` Current\")\n",
    "ax1.set_xlabel(\"time\")\n",
    "ax2.set_ylabel(\"Barrier position\")"
   ]
  },
  {
   "cell_type": "code",
   "execution_count": null,
   "id": "98e0b038-46f5-42eb-b9b5-3cd9d7e26a25",
   "metadata": {},
   "outputs": [],
   "source": [
    "plt.figure()\n",
    "for i in range(1, len(c_normalized_out)):\n",
    "    if i%iterations==1 and i != 1:\n",
    "        plt.plot(t_absolute_out[0], c_out[i], c=\"C0\")\n",
    "    elif i%iterations==2 and i != 2:\n",
    "        plt.plot(t_absolute_out[0], c_out[i], c=\"C1\")\n",
    "    elif i%iterations==3 and i != 3:\n",
    "        plt.plot(t_absolute_out[0], c_out[i], c=\"C2\")\n",
    "    elif i%iterations==4 and i != 4:\n",
    "        plt.plot(t_absolute_out[0], c_out[i], c=\"C3\")\n",
    "    elif i%iterations==5 and i != 5:\n",
    "        plt.plot(t_absolute_out[0], c_out[i], c=\"C4\")\n",
    "    else:\n",
    "        pass\n",
    "    \n",
    "plt.xscale(\"log\")"
   ]
  },
  {
   "cell_type": "code",
   "execution_count": null,
   "id": "f4c7c384-b436-4066-8518-29c7dd53ea5f",
   "metadata": {},
   "outputs": [],
   "source": [
    "plt.figure()\n",
    "for i in range(1, len(c_normalized_out)):\n",
    "    if i%iterations==1:# and i != 1:\n",
    "        plt.plot(t_absolute_out[0], c_normalized_out[i], c=\"C0\")\n",
    "    elif i%iterations==2:# and i != 2:\n",
    "        plt.plot(t_absolute_out[0], c_normalized_out[i], c=\"C1\")\n",
    "    elif i%iterations==3:# and i != 3:\n",
    "        plt.plot(t_absolute_out[0], c_normalized_out[i], c=\"C2\")\n",
    "    elif i%iterations==4:# and i != 4:\n",
    "        plt.plot(t_absolute_out[0], c_normalized_out[i], c=\"C3\")\n",
    "    elif i%iterations==5:# and i != 5:\n",
    "        plt.plot(t_absolute_out[0], c_normalized_out[i], c=\"C4\")\n",
    "    else:\n",
    "        pass\n",
    "    \n",
    "plt.axvline(afpt(I_max_list[0], I_max_list[1], I_star, exponent, c), c=\"C0\")\n",
    "plt.axvline(afpt(I_max_list[0], I_max_list[2], I_star, exponent, c), c=\"C1\")\n",
    "plt.axvline(afpt(I_max_list[0], I_max_list[3], I_star, exponent, c), c=\"C2\")\n",
    "plt.axvline(afpt(I_max_list[0], I_max_list[4], I_star, exponent, c), c=\"C3\")\n",
    "plt.axvline(afpt(I_max_list[0], I_max_list[5], I_star, exponent, c), c=\"C4\")\n",
    "\n",
    "plt.xscale(\"log\")\n",
    "plt.ylim(0.8,1.0)"
   ]
  },
  {
   "cell_type": "code",
   "execution_count": null,
   "id": "d3dc7360-05ad-42e8-b9c6-e0114bc06c42",
   "metadata": {},
   "outputs": [],
   "source": [
    "engine = cn.cn_generic(0, I_max, rho_0(I_list, I_damping, dI*5), dt, lambda x: nt.D(x, I_star, exponent, c, True))\n",
    "data_0 = engine.get_data_with_x()\n",
    "\n",
    "times_long, current_long = engine.current(long_track_steps*2, steps_per_sample, False)\n",
    "data_long = engine.get_data_with_x()"
   ]
  },
  {
   "cell_type": "code",
   "execution_count": null,
   "id": "50cc4a83-8bbd-4616-b4a9-6e5fa0dfec9d",
   "metadata": {},
   "outputs": [],
   "source": [
    "plt.figure()\n",
    "plt.plot(data_0[0], data_0[1], label=\"Initial condition\")\n",
    "plt.plot(data_long[0], data_long[1], label=\"After iterations\")\n",
    "plt.axvline(I_max, color=\"black\", label=\"$I_a$\")\n",
    "plt.xlabel(\"$I$\")\n",
    "plt.ylabel(\"$\\\\rho$\")\n",
    "plt.legend()"
   ]
  },
  {
   "cell_type": "markdown",
   "id": "8a794606-2e41-4587-b355-bb95eabcb50e",
   "metadata": {},
   "source": [
    "**And here's the current!**"
   ]
  },
  {
   "cell_type": "code",
   "execution_count": null,
   "id": "75e9439a-9221-4916-9cf6-d37e276d061f",
   "metadata": {},
   "outputs": [],
   "source": [
    "plt.figure()\n",
    "plt.plot(times_long, current_long)\n",
    "plt.xlabel(\"$t$\")\n",
    "plt.ylabel(\"$J$\")\n",
    "plt.yscale(\"log\")"
   ]
  },
  {
   "cell_type": "code",
   "execution_count": null,
   "id": "e6a01229-2f02-44d2-9239-f49d03cfddfc",
   "metadata": {
    "scrolled": true,
    "tags": []
   },
   "outputs": [],
   "source": [
    "engine = cn.cn_generic(0, I_max, rho_0(I_list, I_damping, dI*5), dt, lambda x: nt.D(x, I_star, exponent, c, True))\n",
    "\n",
    "t_absolute_out = []\n",
    "t_relative_out = []\n",
    "c_out = []\n",
    "I_max_list = []\n",
    "set_list = []\n",
    "\n",
    "t_absolute_out_partial = []\n",
    "t_relative_out_partial = []\n",
    "c_out_partial = []\n",
    "I_max_list_partial = []\n",
    "set_list_partial = []\n",
    "\n",
    "for j in tqdm(range(macro_iterations + 1)):\n",
    "    if j != 0:\n",
    "        engine.move_barrier_backward(0.1 * iterations)\n",
    "\n",
    "    for i in tqdm(range(iterations)):\n",
    "        time, current = engine.current(steps_per_iteration, steps_per_sample)\n",
    "        if len(t_absolute_out) > 0:\n",
    "            absolute_time = time + t_absolute_out[-1][-1]\n",
    "        else:\n",
    "            absolute_time = time.copy()\n",
    "        t_relative_out.append(time)\n",
    "        t_absolute_out.append(absolute_time)\n",
    "        c_out.append(current)\n",
    "        I_max_list.append(engine.I_max)\n",
    "        set_list.append(i)\n",
    "        if i != 0:\n",
    "            t_relative_out_partial.append(time)\n",
    "            t_absolute_out_partial.append(absolute_time)\n",
    "            c_out_partial.append(current)\n",
    "            I_max_list_partial.append(engine.I_max)\n",
    "            set_list_partial.append(i)\n",
    "        if i != 0:\n",
    "            engine.move_barrier_backward(0.1 * i)\n",
    "        time, current = engine.current(steps_per_iteration, steps_per_sample)\n",
    "        if len(t_absolute_out) > 0:\n",
    "            absolute_time = time + t_absolute_out[-1][-1]\n",
    "        else:\n",
    "            absolute_time = time.copy()\n",
    "        t_relative_out.append(time)\n",
    "        t_absolute_out.append(absolute_time)\n",
    "        c_out.append(current)\n",
    "        I_max_list.append(engine.I_max)\n",
    "        set_list.append(i)\n",
    "        t_relative_out_partial.append(time)\n",
    "        t_absolute_out_partial.append(absolute_time)\n",
    "        c_out_partial.append(current)\n",
    "        I_max_list_partial.append(engine.I_max)\n",
    "        set_list_partial.append(i)\n",
    "\n",
    "            \n",
    "        engine.move_barrier_forward(0.1 * (i+1))\n",
    "        "
   ]
  },
  {
   "cell_type": "code",
   "execution_count": null,
   "id": "feb643e4-5a99-4672-b7c1-7759d8fa353f",
   "metadata": {},
   "outputs": [],
   "source": [
    "fig, ax1 = plt.subplots()\n",
    "ax2 = ax1.twinx()\n",
    "for i in range(len(t_absolute_out)):\n",
    "    ax2.plot(\n",
    "        [t_absolute_out[i][0],t_absolute_out[i][-1], t_absolute_out[i][-1]],\n",
    "        [I_max_list[i],I_max_list[i],(I_max_list[i+1] if i+1 != len(I_max_list) else I_max_list[i])],\n",
    "        c=\"black\", alpha=0.5\n",
    "    )\n",
    "    ax1.plot(t_absolute_out[i], c_out[i])\n",
    "    if i != len(t_absolute_out) - 1:\n",
    "        ax1.plot(\n",
    "            [t_absolute_out[i][-1], t_absolute_out[i][-1]],\n",
    "            [c_out[i][-1], c_out[i+1][0]],\n",
    "            c=\"black\"\n",
    "        )\n",
    "\n",
    "ax1.plot(times_long, current_long, c=\"C0\", linestyle=\"dashed\")\n",
    "\n",
    "ax1.set_yscale(\"log\")\n",
    "ax1.set_ylabel(\"Current\")\n",
    "ax1.set_xlabel(\"time\")\n",
    "ax2.set_ylabel(\"Barrier position\")"
   ]
  },
  {
   "cell_type": "code",
   "execution_count": null,
   "id": "368b60d0-c756-4083-bf37-3507927c8824",
   "metadata": {},
   "outputs": [],
   "source": [
    "fig, ax1 = plt.subplots()\n",
    "\n",
    "slice_size = len(current_long) // len(t_absolute_out)\n",
    "\n",
    "c_normalized_out = []\n",
    "c_normalized_out_partial = []\n",
    "\n",
    "ax2 = ax1.twinx()\n",
    "for i in range(len(t_absolute_out)):\n",
    "    ax2.plot(\n",
    "        [t_absolute_out[i][0],t_absolute_out[i][-1], t_absolute_out[i][-1]],\n",
    "        [I_max_list[i],I_max_list[i],(I_max_list[i+1] if i+1 != len(I_max_list) else I_max_list[i])],\n",
    "        c=\"black\", alpha=0.5\n",
    "    )\n",
    "    ax1.plot(t_absolute_out[i], c_out[i]/(current_long[slice_size * i:slice_size * (i+1)]))\n",
    "    c_normalized_out.append(c_out[i]/(current_long[slice_size * i:slice_size * (i+1)]))\n",
    "    if i != len(t_absolute_out) - 1:\n",
    "        ax1.plot(\n",
    "            [t_absolute_out[i][-1], t_absolute_out[i][-1]],\n",
    "            np.array([c_out[i][-1], c_out[i+1][0]])/current_long[slice_size*(i+1)],\n",
    "            c=\"black\"\n",
    "        )\n",
    "\n",
    "#ax1.plot(times_long, current_long, c=\"C0\", linestyle=\"dashed\")\n",
    "\n",
    "#ax1.set_yscale(\"log\")\n",
    "ax1.set_ylabel(\"`Normalized` Current\")\n",
    "ax1.set_xlabel(\"time\")\n",
    "ax2.set_ylabel(\"Barrier position\")"
   ]
  },
  {
   "cell_type": "code",
   "execution_count": null,
   "id": "cd2b37de-cd88-4b36-afb0-3fdf498f1ffd",
   "metadata": {},
   "outputs": [],
   "source": [
    "plt.figure()\n",
    "for i in range(1, len(c_normalized_out)):\n",
    "    if i%(iterations*2)==2 and i != 2:\n",
    "        plt.plot(t_absolute_out[0], c_out[i], c=\"C0\")\n",
    "    elif i%(iterations*2)==4 and i != 4:\n",
    "        plt.plot(t_absolute_out[0], c_out[i], c=\"C1\")\n",
    "    elif i%(iterations*2)==6 and i != 6:\n",
    "        plt.plot(t_absolute_out[0], c_out[i], c=\"C2\")\n",
    "    elif i%(iterations*2)==8 and i != 8:\n",
    "        plt.plot(t_absolute_out[0], c_out[i], c=\"C3\")\n",
    "    elif i%(iterations*2)==10 and i != 10:\n",
    "        plt.plot(t_absolute_out[0], c_out[i], c=\"C4\")\n",
    "    else:\n",
    "        pass\n",
    "    \n",
    "plt.xscale(\"log\")"
   ]
  },
  {
   "cell_type": "code",
   "execution_count": null,
   "id": "18400566-b068-4a08-acb2-9c68eca8aada",
   "metadata": {},
   "outputs": [],
   "source": [
    "plt.figure()\n",
    "for i in range(1, len(c_normalized_out)):\n",
    "    if i%(iterations*2)==2:# and i != 1:\n",
    "        plt.plot(t_absolute_out[0], c_normalized_out[i], c=\"C0\")\n",
    "    elif i%(iterations*2)==4:# and i != 2:\n",
    "        plt.plot(t_absolute_out[0], c_normalized_out[i], c=\"C1\")\n",
    "    elif i%(iterations*2)==6:# and i != 3:\n",
    "        plt.plot(t_absolute_out[0], c_normalized_out[i], c=\"C2\")\n",
    "    elif i%(iterations*2)==8:# and i != 4:\n",
    "        plt.plot(t_absolute_out[0], c_normalized_out[i], c=\"C3\")\n",
    "    elif i%(iterations*2)==10:# and i != 5:\n",
    "        plt.plot(t_absolute_out[0], c_normalized_out[i], c=\"C4\")\n",
    "    else:\n",
    "        pass\n",
    "    \n",
    "plt.axvline(afpt(I_max_list[0], I_max_list[2], I_star, exponent, c), c=\"C0\")\n",
    "plt.axvline(afpt(I_max_list[0], I_max_list[4], I_star, exponent, c), c=\"C1\")\n",
    "plt.axvline(afpt(I_max_list[0], I_max_list[6], I_star, exponent, c), c=\"C2\")\n",
    "plt.axvline(afpt(I_max_list[0], I_max_list[8], I_star, exponent, c), c=\"C3\")\n",
    "plt.axvline(afpt(I_max_list[0], I_max_list[10], I_star, exponent, c), c=\"C4\")\n",
    "\n",
    "#plt.xscale(\"log\")\n",
    "plt.ylim(0.9,1.0)\n",
    "plt.xlim(5e-3, 2e-2)"
   ]
  }
 ],
 "metadata": {
  "interpreter": {
   "hash": "871aeb43e99df445217f8150e40694afb64d0600c0573b6bac502dee120165de"
  },
  "kernelspec": {
   "display_name": "Python 3.8.12 64-bit ('base': conda)",
   "name": "python3"
  },
  "language_info": {
   "codemirror_mode": {
    "name": "ipython",
    "version": 3
   },
   "file_extension": ".py",
   "mimetype": "text/x-python",
   "name": "python",
   "nbconvert_exporter": "python",
   "pygments_lexer": "ipython3",
   "version": "3.8.12"
  }
 },
 "nbformat": 4,
 "nbformat_minor": 5
}
