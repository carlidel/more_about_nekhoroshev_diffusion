{
 "cells": [
  {
   "cell_type": "markdown",
   "id": "f25a69f6-a778-48cb-a55a-951898242624",
   "metadata": {},
   "source": [
    "# General Overview of the Reconstruction Performances for a Moving Absorbing Boundary Condition"
   ]
  },
  {
   "cell_type": "markdown",
   "id": "e530a7f5-0864-4d78-a11f-9b8765d8e9cf",
   "metadata": {},
   "source": [
    "**Are we in SWAN?**"
   ]
  },
  {
   "cell_type": "code",
   "execution_count": null,
   "id": "06dec19f-f558-4da0-ab1c-118c9094a30e",
   "metadata": {},
   "outputs": [],
   "source": [
    "%pip install --user crank-nicolson-numba"
   ]
  },
  {
   "cell_type": "markdown",
   "id": "1fdcc0d6-6aa2-49fd-a2e0-ba3d307080d3",
   "metadata": {},
   "source": [
    "**Do we want the matplotlib interactive magicness?**"
   ]
  },
  {
   "cell_type": "code",
   "execution_count": 1,
   "id": "5cd3d3b8-704b-421f-a2c4-4bc60d69ec41",
   "metadata": {},
   "outputs": [],
   "source": [
    "%matplotlib widget"
   ]
  },
  {
   "cell_type": "markdown",
   "id": "ade8f005-cdea-4295-a5dd-8e4987114109",
   "metadata": {},
   "source": [
    "**Library Import**"
   ]
  },
  {
   "cell_type": "code",
   "execution_count": 2,
   "id": "322196e2-237f-430b-b16c-83af57f12600",
   "metadata": {},
   "outputs": [],
   "source": [
    "import numpy as np\n",
    "import matplotlib.pyplot as plt\n",
    "import scipy\n",
    "import scipy.integrate\n",
    "from tqdm.notebook import tqdm\n",
    "import crank_nicolson_numba.generic as cn\n",
    "import itertools\n",
    "# For parallelization\n",
    "from joblib import Parallel, delayed\n",
    "\n",
    "import nekhoroshev_tools as nt"
   ]
  },
  {
   "cell_type": "markdown",
   "id": "6b8f1a5d-713d-4e78-954c-b6fb440f8b73",
   "metadata": {},
   "source": [
    "## First, we need to define a realistic initial distribution"
   ]
  },
  {
   "cell_type": "markdown",
   "id": "6f410905-f238-466b-9fc3-e7566ac64c4a",
   "metadata": {},
   "source": [
    "It's very simple and direct: if we decide to work in normalized emittance variables, and we work with a gaussian beam distribution with it's characteristic emittance, we have that\n",
    "$$\\rho_0(I) = e^{-I}$$\n",
    "Where $I$, from now on, is expessed in sigma units."
   ]
  },
  {
   "cell_type": "code",
   "execution_count": 3,
   "id": "98037b06-8510-4979-8d35-f4099e248adf",
   "metadata": {},
   "outputs": [],
   "source": [
    "def rho_0(I, damping_position=np.nan, l=np.nan):\n",
    "    if np.isnan(damping_position) or np.isnan(l):\n",
    "        return np.exp(-I)\n",
    "    else:\n",
    "        return np.exp(-I) / (1 + np.exp((I - damping_position)/l))"
   ]
  },
  {
   "cell_type": "markdown",
   "id": "9c4ba8ef-e7bb-44a9-9f1b-cb7b9a798de1",
   "metadata": {},
   "source": [
    "## Setting up a regular scenario"
   ]
  },
  {
   "cell_type": "code",
   "execution_count": 4,
   "id": "c3db045b-4b7a-43d1-9b10-08183d96415f",
   "metadata": {},
   "outputs": [],
   "source": [
    "I_damping = 9.8\n",
    "I_max = 5.0\n",
    "I_star = 10.0\n",
    "k = 0.33\n",
    "exponent = 1/(2*k)\n",
    "\n",
    "c = nt.standard_c(0.0, I_max, I_star, exponent)"
   ]
  },
  {
   "cell_type": "code",
   "execution_count": 5,
   "id": "5cc9220f-6f93-480a-9f7f-d664b04083c0",
   "metadata": {},
   "outputs": [],
   "source": [
    "cn_sampling = 50000\n",
    "I_list, dI = np.linspace(0.0, I_max, cn_sampling, retstep=True)\n",
    "\n",
    "cn_time_steps = 200\n",
    "dt = nt.current_peak_time(I_damping, I_max, I_star, exponent, c)/cn_time_steps"
   ]
  },
  {
   "cell_type": "markdown",
   "id": "d5074aec-d3dd-428b-bec6-2cc28ab78747",
   "metadata": {},
   "source": [
    "# \"Very fast\" tracking"
   ]
  },
  {
   "cell_type": "code",
   "execution_count": null,
   "id": "e14a3280-30bf-4a4f-ba7d-7b8b978c833f",
   "metadata": {},
   "outputs": [],
   "source": []
  },
  {
   "cell_type": "markdown",
   "id": "d9579642-f794-4524-860d-0eeb493560cb",
   "metadata": {},
   "source": [
    "# \"Long enough\" tracking"
   ]
  },
  {
   "cell_type": "markdown",
   "id": "b0e56fc6-a86d-4aad-b07a-d0306fc802f3",
   "metadata": {},
   "source": [
    "## Working in the semi-stable region"
   ]
  },
  {
   "cell_type": "markdown",
   "id": "930b28da-aa62-4b7d-a774-90e9b7dc45f7",
   "metadata": {},
   "source": [
    "Given $I_*=10.0$, we will firstly analyze the semi-stable region $[5.0-8.0]$ where we have the beginning of the saturation phase for $D(I)$."
   ]
  },
  {
   "cell_type": "code",
   "execution_count": 6,
   "id": "e4da484c-67b9-45e4-aa25-3605d62004d8",
   "metadata": {},
   "outputs": [],
   "source": [
    "steps_per_sample = 20\n",
    "\n",
    "steps_per_iteration = 100\n",
    "iterations = 20\n",
    "macro_iterations = 5\n",
    "long_track_steps = steps_per_iteration * iterations * (macro_iterations + 1)"
   ]
  },
  {
   "cell_type": "markdown",
   "id": "9737d9b6-f360-4a25-ab6d-c663e6c60392",
   "metadata": {},
   "source": [
    "## How's the regular current for a single, constant $I_a$?"
   ]
  },
  {
   "cell_type": "code",
   "execution_count": null,
   "id": "036ffb0d-dec0-4434-9ea4-6b9023c65e99",
   "metadata": {},
   "outputs": [
    {
     "name": "stderr",
     "output_type": "stream",
     "text": [
      "/home/camontan/Insync/carlo.montanari3@studio.unibo.it/OneDrive_Biz/projects/new_games_with_diffusion/nekhoroshev_tools.py:37: RuntimeWarning: divide by zero encountered in double_scalars\n",
      "  return c * np.exp(-2*np.power(I_star/I, exponent)) * (0.5 if halved else 1.0)\n",
      " 19%|█▉        | 2254/12000 [01:30<05:44, 28.26it/s]"
     ]
    }
   ],
   "source": [
    "engine = cn.cn_generic(0, I_max, rho_0(I_list, I_damping, dI*5), dt, lambda x: nt.D(x, I_star, exponent, c, True))\n",
    "data_0 = engine.get_data_with_x()\n",
    "\n",
    "times_long, current_long = engine.current(long_track_steps, steps_per_sample, False)\n",
    "data_long = engine.get_data_with_x()"
   ]
  },
  {
   "cell_type": "markdown",
   "id": "81413f86-0579-4b7e-b69d-240710da1dc6",
   "metadata": {},
   "source": [
    "**That's how our distribution (slowly) evolves...**\n",
    "\n",
    "(In order to see things it's necessary to work with matplotlib interactive mode and zoom a lot)"
   ]
  },
  {
   "cell_type": "code",
   "execution_count": null,
   "id": "a0513ec9-42db-4771-962a-179ee53fe361",
   "metadata": {},
   "outputs": [],
   "source": [
    "plt.figure()\n",
    "plt.plot(data_0[0], data_0[1], label=\"Initial condition\")\n",
    "plt.plot(data_long[0], data_long[1], label=\"After iterations\")\n",
    "plt.axvline(I_max, color=\"black\", label=\"$I_a$\")\n",
    "plt.xlabel(\"$I$\")\n",
    "plt.ylabel(\"$\\\\rho$\")\n",
    "plt.legend()"
   ]
  },
  {
   "cell_type": "markdown",
   "id": "10044f30-abd7-4312-a0dc-9fafaf9efc7c",
   "metadata": {},
   "source": [
    "**And here's the current!**"
   ]
  },
  {
   "cell_type": "code",
   "execution_count": null,
   "id": "8f1865c6-789e-4d64-86c1-3f033230f67a",
   "metadata": {},
   "outputs": [],
   "source": [
    "plt.figure()\n",
    "plt.plot(times_long, current_long)\n",
    "plt.xlabel(\"$t$\")\n",
    "plt.ylabel(\"$J$\")\n",
    "plt.yscale(\"log\")"
   ]
  },
  {
   "cell_type": "markdown",
   "id": "51aa4a8c-4cc1-47c6-8a32-c0761030142e",
   "metadata": {},
   "source": [
    "## Experimenting with a bit of dancing!"
   ]
  },
  {
   "cell_type": "code",
   "execution_count": null,
   "id": "852c069d-19e0-4cf2-ba27-b9db37082355",
   "metadata": {
    "scrolled": true,
    "tags": []
   },
   "outputs": [],
   "source": [
    "engine = cn.cn_generic(0, I_max, rho_0(I_list, I_damping, dI*5), dt, lambda x: nt.D(x, I_star, exponent, c, True))\n",
    "\n",
    "t_absolute_out = []\n",
    "t_relative_out = []\n",
    "c_out = []\n",
    "I_max_list = []\n",
    "set_list = []\n",
    "\n",
    "t_absolute_out_partial = []\n",
    "t_relative_out_partial = []\n",
    "c_out_partial = []\n",
    "I_max_list_partial = []\n",
    "set_list_partial = []\n",
    "\n",
    "for j in tqdm(range(macro_iterations + 1)):\n",
    "    if j != 0:\n",
    "        engine.move_barrier_backward(0.2 * iterations)\n",
    "\n",
    "    for i in tqdm(range(iterations)):\n",
    "        time, current = engine.current(steps_per_iteration, steps_per_sample)\n",
    "        if len(t_absolute_out) > 0:\n",
    "            absolute_time = time + t_absolute_out[-1][-1]\n",
    "        else:\n",
    "            absolute_time = time.copy()\n",
    "        t_relative_out.append(time)\n",
    "        t_absolute_out.append(absolute_time)\n",
    "        c_out.append(current)\n",
    "        I_max_list.append(engine.I_max)\n",
    "        set_list.append(i)\n",
    "        if i != 0:\n",
    "            t_relative_out_partial.append(time)\n",
    "            t_absolute_out_partial.append(absolute_time)\n",
    "            c_out_partial.append(current)\n",
    "            I_max_list_partial.append(engine.I_max)\n",
    "            set_list_partial.append(i)\n",
    "        engine.move_barrier_forward(0.2)"
   ]
  },
  {
   "cell_type": "code",
   "execution_count": null,
   "id": "b85f9ff5-7b0f-4a7a-aa59-3ba5292c74f6",
   "metadata": {},
   "outputs": [],
   "source": [
    "fig, ax1 = plt.subplots()\n",
    "ax2 = ax1.twinx()\n",
    "for i in range(len(t_absolute_out)):\n",
    "    ax2.plot(\n",
    "        [t_absolute_out[i][0],t_absolute_out[i][-1], t_absolute_out[i][-1]],\n",
    "        [I_max_list[i],I_max_list[i],(I_max_list[i+1] if i+1 != len(I_max_list) else I_max_list[i])],\n",
    "        c=\"black\", alpha=0.5\n",
    "    )\n",
    "    ax1.plot(t_absolute_out[i], c_out[i])\n",
    "    if i != len(t_absolute_out) - 1:\n",
    "        ax1.plot(\n",
    "            [t_absolute_out[i][-1], t_absolute_out[i][-1]],\n",
    "            [c_out[i][-1], c_out[i+1][0]],\n",
    "            c=\"black\"\n",
    "        )\n",
    "\n",
    "ax1.plot(times_long, current_long, c=\"C0\", linestyle=\"dashed\")\n",
    "\n",
    "ax1.set_yscale(\"log\")\n",
    "ax1.set_ylabel(\"Current\")\n",
    "ax1.set_xlabel(\"time\")\n",
    "ax2.set_ylabel(\"Barrier position\")"
   ]
  },
  {
   "cell_type": "code",
   "execution_count": null,
   "id": "e28dd8be-139f-4a2f-9f5d-01c59595582a",
   "metadata": {},
   "outputs": [],
   "source": [
    "fig, ax1 = plt.subplots()\n",
    "\n",
    "slice_size = len(current_long) // len(t_absolute_out)\n",
    "\n",
    "ax2 = ax1.twinx()\n",
    "for i in range(len(t_absolute_out)):\n",
    "    ax2.plot(\n",
    "        [t_absolute_out[i][0],t_absolute_out[i][-1], t_absolute_out[i][-1]],\n",
    "        [I_max_list[i],I_max_list[i],(I_max_list[i+1] if i+1 != len(I_max_list) else I_max_list[i])],\n",
    "        c=\"black\", alpha=0.5\n",
    "    )\n",
    "    ax1.plot(t_absolute_out[i], c_out[i]/(current_long[slice_size * i:slice_size * (i+1)]))\n",
    "    if i != len(t_absolute_out) - 1:\n",
    "        ax1.plot(\n",
    "            [t_absolute_out[i][-1], t_absolute_out[i][-1]],\n",
    "            np.array([c_out[i][-1], c_out[i+1][0]])/current_long[slice_size*(i+1)],\n",
    "            c=\"black\"\n",
    "        )\n",
    "\n",
    "#ax1.plot(times_long, current_long, c=\"C0\", linestyle=\"dashed\")\n",
    "\n",
    "#ax1.set_yscale(\"log\")\n",
    "ax1.set_ylabel(\"`Normalized` Current\")\n",
    "ax1.set_xlabel(\"time\")\n",
    "ax2.set_ylabel(\"Barrier position\")"
   ]
  },
  {
   "cell_type": "code",
   "execution_count": null,
   "id": "330fedba-02c3-4777-8cad-ac778266e91b",
   "metadata": {},
   "outputs": [],
   "source": [
    "plt.figure()\n",
    "plt.scatter(\n",
    "    I_max_list_partial,\n",
    "    [t_absolute_out_partial[i][np.argmax(c_out_partial[i])] - (t_absolute_out[i-1][-1] if i != 0 else 0) for i in range(len(t_absolute_out_partial))]\n",
    ")"
   ]
  },
  {
   "cell_type": "code",
   "execution_count": null,
   "id": "8776b0e0-09e6-4a04-b4b3-582ecbd9cfdf",
   "metadata": {},
   "outputs": [],
   "source": []
  },
  {
   "cell_type": "code",
   "execution_count": null,
   "id": "84473c7c-b182-4f0f-8bd7-2b3806163402",
   "metadata": {},
   "outputs": [],
   "source": []
  },
  {
   "cell_type": "code",
   "execution_count": null,
   "id": "a69d667b-c7f6-4b2d-a25e-06920827328e",
   "metadata": {},
   "outputs": [],
   "source": []
  }
 ],
 "metadata": {
  "kernelspec": {
   "display_name": "Python 3",
   "language": "python",
   "name": "python3"
  },
  "language_info": {
   "codemirror_mode": {
    "name": "ipython",
    "version": 3
   },
   "file_extension": ".py",
   "mimetype": "text/x-python",
   "name": "python",
   "nbconvert_exporter": "python",
   "pygments_lexer": "ipython3",
   "version": "3.8.8"
  }
 },
 "nbformat": 4,
 "nbformat_minor": 5
}
