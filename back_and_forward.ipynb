{
 "cells": [
  {
   "cell_type": "markdown",
   "id": "1a33845b",
   "metadata": {},
   "source": [
    "# Let's play with the moving boundary condition!"
   ]
  },
  {
   "cell_type": "markdown",
   "id": "3f0e2627",
   "metadata": {},
   "source": [
    "**Are we in SWAN?**"
   ]
  },
  {
   "cell_type": "code",
   "execution_count": null,
   "id": "0bfa1ff2",
   "metadata": {},
   "outputs": [],
   "source": [
    "%pip install --user crank-nicolson-numba"
   ]
  },
  {
   "cell_type": "markdown",
   "id": "f598af3f",
   "metadata": {},
   "source": [
    "**Do we want the matplotlib interactive magicness?**"
   ]
  },
  {
   "cell_type": "code",
   "execution_count": 1,
   "id": "ecf43073",
   "metadata": {},
   "outputs": [],
   "source": [
    "%matplotlib widget"
   ]
  },
  {
   "cell_type": "markdown",
   "id": "bf2c8653",
   "metadata": {},
   "source": [
    "**Library Import**"
   ]
  },
  {
   "cell_type": "code",
   "execution_count": 1,
   "id": "1f047d8d",
   "metadata": {},
   "outputs": [],
   "source": [
    "import numpy as np\n",
    "import matplotlib.pyplot as plt\n",
    "import scipy\n",
    "import scipy.integrate\n",
    "from tqdm.notebook import tqdm\n",
    "import crank_nicolson_numba.generic as cn\n",
    "import itertools\n",
    "# For parallelization\n",
    "from joblib import Parallel, delayed\n",
    "\n",
    "import nekhoroshev_tools as nt"
   ]
  },
  {
   "cell_type": "markdown",
   "id": "1aef5813",
   "metadata": {},
   "source": [
    "## First, we need to define a realistic initial distribution"
   ]
  },
  {
   "cell_type": "markdown",
   "id": "b159a831",
   "metadata": {},
   "source": [
    "It's very simple and direct: if we decide to work in normalized emittance variables, and we work with a gaussian beam distribution with it's characteristic emittance, we have that\n",
    "$$\\rho_0(I) = e^{-I}$$\n",
    "Where $I$, from now on, is expessed in sigma units."
   ]
  },
  {
   "cell_type": "code",
   "execution_count": 2,
   "id": "3fcc46a4",
   "metadata": {},
   "outputs": [],
   "source": [
    "def rho_0(I, damping_position=np.nan, l=np.nan):\n",
    "    if np.isnan(damping_position) or np.isnan(l):\n",
    "        return np.exp(-I)\n",
    "    else:\n",
    "        return np.exp(-I) / (1 + np.exp((I - damping_position)/l))"
   ]
  },
  {
   "cell_type": "markdown",
   "id": "49083448",
   "metadata": {},
   "source": [
    "## Working constants"
   ]
  },
  {
   "cell_type": "code",
   "execution_count": 3,
   "id": "49b39e5d",
   "metadata": {},
   "outputs": [],
   "source": [
    "I_damping = 9.8\n",
    "I_max = 10.0\n",
    "I_star = 20.0\n",
    "k = 0.33\n",
    "exponent = 1/(2*k)\n",
    "\n",
    "c = nt.standard_c(0.0, I_max, I_star, exponent)"
   ]
  },
  {
   "cell_type": "code",
   "execution_count": 4,
   "id": "1b639956",
   "metadata": {},
   "outputs": [],
   "source": [
    "cn_sampling = 50000\n",
    "I_list, dI = np.linspace(0.0, I_max, cn_sampling, retstep=True)\n",
    "\n",
    "cn_time_steps = 100\n",
    "dt = nt.current_peak_time(I_damping, I_max, I_star, exponent, c)/cn_time_steps"
   ]
  },
  {
   "cell_type": "markdown",
   "id": "a6469cd3",
   "metadata": {},
   "source": [
    "**Values our specific analysis**"
   ]
  },
  {
   "cell_type": "code",
   "execution_count": 5,
   "id": "6fd6b920",
   "metadata": {},
   "outputs": [],
   "source": [
    "steps_per_sample = 100\n",
    "\n",
    "steps_per_iteration = 500\n",
    "iterations = 4\n",
    "long_track_steps = steps_per_iteration * iterations"
   ]
  },
  {
   "cell_type": "markdown",
   "id": "7e7c86d7",
   "metadata": {},
   "source": [
    "## How's the regular current for a single, constant $I_a$?"
   ]
  },
  {
   "cell_type": "code",
   "execution_count": 6,
   "id": "f6bf7359",
   "metadata": {},
   "outputs": [
    {
     "name": "stderr",
     "output_type": "stream",
     "text": [
      "/home/camontan/Insync/carlo.montanari3@studio.unibo.it/OneDrive_Biz/projects/new_games_with_diffusion/nekhoroshev_tools.py:37: RuntimeWarning: divide by zero encountered in double_scalars\n",
      "  return c * np.exp(-2*np.power(I_star/I, exponent)) * (0.5 if halved else 1.0)\n",
      "100%|██████████| 2000/2000 [03:37<00:00,  9.21it/s]\n"
     ]
    }
   ],
   "source": [
    "engine = cn.cn_generic(0, I_max, rho_0(I_list, I_damping, dI*5), dt, lambda x: nt.D(x, I_star, exponent, c, True))\n",
    "data_0 = engine.get_data_with_x()\n",
    "\n",
    "times_long, current_long = engine.current(long_track_steps, steps_per_sample, False)\n",
    "data_long = engine.get_data_with_x()"
   ]
  },
  {
   "cell_type": "markdown",
   "id": "273688df",
   "metadata": {},
   "source": [
    "**That's how our distribution (slowly) evolves...**\n",
    "\n",
    "(In order to see things it's necessary to work with matplotlib interactive mode and zoom a lot)"
   ]
  },
  {
   "cell_type": "code",
   "execution_count": 7,
   "id": "af0233f6",
   "metadata": {},
   "outputs": [
    {
     "data": {
      "text/plain": [
       "<matplotlib.legend.Legend at 0x7fccac129ee0>"
      ]
     },
     "execution_count": 7,
     "metadata": {},
     "output_type": "execute_result"
    },
    {
     "data": {
      "image/png": "[encoded data removed]",
      "text/plain": [
       "<Figure size 432x288 with 1 Axes>"
      ]
     },
     "metadata": {
      "needs_background": "light"
     },
     "output_type": "display_data"
    }
   ],
   "source": [
    "plt.figure()\n",
    "plt.plot(data_0[0], data_0[1], label=\"Initial condition\")\n",
    "plt.plot(data_long[0], data_long[1], label=\"After iterations\")\n",
    "plt.axvline(I_max, color=\"black\", label=\"$I_a$\")\n",
    "plt.xlabel(\"$I$\")\n",
    "plt.ylabel(\"$\\\\rho$\")\n",
    "plt.legend()"
   ]
  },
  {
   "cell_type": "markdown",
   "id": "06cba3e8",
   "metadata": {},
   "source": [
    "**And here's the current!**"
   ]
  },
  {
   "cell_type": "code",
   "execution_count": 8,
   "id": "525f900e",
   "metadata": {},
   "outputs": [
    {
     "data": {
      "text/plain": [
       "Text(0, 0.5, '$J$')"
      ]
     },
     "execution_count": 8,
     "metadata": {},
     "output_type": "execute_result"
    },
    {
     "data": {
      "image/png": "[encoded data removed]",
      "text/plain": [
       "<Figure size 432x288 with 1 Axes>"
      ]
     },
     "metadata": {
      "needs_background": "light"
     },
     "output_type": "display_data"
    }
   ],
   "source": [
    "plt.figure()\n",
    "plt.plot(times_long, current_long)\n",
    "plt.xlabel(\"$t$\")\n",
    "plt.ylabel(\"$J$\")"
   ]
  },
  {
   "cell_type": "markdown",
   "id": "e1e36a69",
   "metadata": {},
   "source": [
    "## And what happens when we have $I_a$ moving outwards?"
   ]
  },
  {
   "cell_type": "code",
   "execution_count": 9,
   "id": "5919ef51",
   "metadata": {
    "scrolled": true,
    "tags": []
   },
   "outputs": [
    {
     "name": "stderr",
     "output_type": "stream",
     "text": [
      "/home/camontan/Insync/carlo.montanari3@studio.unibo.it/OneDrive_Biz/projects/new_games_with_diffusion/nekhoroshev_tools.py:37: RuntimeWarning: divide by zero encountered in double_scalars\n",
      "  return c * np.exp(-2*np.power(I_star/I, exponent)) * (0.5 if halved else 1.0)\n"
     ]
    },
    {
     "data": {
      "application/vnd.jupyter.widget-view+json": {
       "model_id": "f718e412151447d98d23315348cc9550",
       "version_major": 2,
       "version_minor": 0
      },
      "text/plain": [
       "  0%|          | 0/4 [00:00<?, ?it/s]"
      ]
     },
     "metadata": {},
     "output_type": "display_data"
    }
   ],
   "source": [
    "engine = cn.cn_generic(0, I_max, rho_0(I_list, I_damping, dI*5), dt, lambda x: nt.D(x, I_star, exponent, c, True))\n",
    "\n",
    "t_out = []\n",
    "c_out = []\n",
    "\n",
    "for i in tqdm(range(iterations)):\n",
    "    time, current = engine.current(steps_per_iteration, steps_per_sample)\n",
    "    if len(t_out) > 0:\n",
    "        time += t_out[-1][-1]\n",
    "    t_out.append(time)\n",
    "    c_out.append(current)\n",
    "    engine.move_barrier_forward(0.1)"
   ]
  },
  {
   "cell_type": "code",
   "execution_count": 10,
   "id": "268deeac",
   "metadata": {},
   "outputs": [
    {
     "data": {
      "text/plain": [
       "[<matplotlib.lines.Line2D at 0x7fccac535e20>]"
      ]
     },
     "execution_count": 10,
     "metadata": {},
     "output_type": "execute_result"
    },
    {
     "data": {
      "image/png": "[encoded data removed]",
      "text/plain": [
       "<Figure size 432x288 with 1 Axes>"
      ]
     },
     "metadata": {
      "needs_background": "light"
     },
     "output_type": "display_data"
    }
   ],
   "source": [
    "plt.figure()\n",
    "\n",
    "for i in range(iterations):\n",
    "    plt.plot(t_out[i], c_out[i])\n",
    "    if i != iterations - 1:\n",
    "        plt.plot([t_out[i][-1], t_out[i][-1]], [c_out[i][-1], c_out[i+1][0]], c=\"black\")\n",
    "\n",
    "plt.plot(times_long, current_long, c=\"C0\", linestyle=\"dashed\")"
   ]
  },
  {
   "cell_type": "markdown",
   "id": "ad947524",
   "metadata": {},
   "source": [
    "## And what happens when we have $I_a$ moving inwards?"
   ]
  },
  {
   "cell_type": "code",
   "execution_count": 11,
   "id": "7a2ec396",
   "metadata": {},
   "outputs": [
    {
     "name": "stderr",
     "output_type": "stream",
     "text": [
      "/home/camontan/Insync/carlo.montanari3@studio.unibo.it/OneDrive_Biz/projects/new_games_with_diffusion/nekhoroshev_tools.py:37: RuntimeWarning: divide by zero encountered in double_scalars\n",
      "  return c * np.exp(-2*np.power(I_star/I, exponent)) * (0.5 if halved else 1.0)\n"
     ]
    },
    {
     "data": {
      "application/vnd.jupyter.widget-view+json": {
       "model_id": "7f651ce464bf465b9e73fc37c4605c5e",
       "version_major": 2,
       "version_minor": 0
      },
      "text/plain": [
       "  0%|          | 0/4 [00:00<?, ?it/s]"
      ]
     },
     "metadata": {},
     "output_type": "display_data"
    }
   ],
   "source": [
    "engine = cn.cn_generic(0, I_max, rho_0(I_list, I_damping, dI*5), dt, lambda x: nt.D(x, I_star, exponent, c, True))\n",
    "\n",
    "t_in = []\n",
    "c_in = []\n",
    "\n",
    "for i in tqdm(range(iterations)):\n",
    "    time, current = engine.current(steps_per_iteration, steps_per_sample)\n",
    "    if len(t_in) > 0:\n",
    "        time += t_in[-1][-1]\n",
    "    t_in.append(time)\n",
    "    c_in.append(current)\n",
    "    engine.move_barrier_backward(0.1)"
   ]
  },
  {
   "cell_type": "code",
   "execution_count": 12,
   "id": "46384b60",
   "metadata": {},
   "outputs": [
    {
     "data": {
      "text/plain": [
       "[<matplotlib.lines.Line2D at 0x7fccabfdf0d0>]"
      ]
     },
     "execution_count": 12,
     "metadata": {},
     "output_type": "execute_result"
    },
    {
     "data": {
      "image/png": "[encoded data removed]",
      "text/plain": [
       "<Figure size 432x288 with 1 Axes>"
      ]
     },
     "metadata": {
      "needs_background": "light"
     },
     "output_type": "display_data"
    }
   ],
   "source": [
    "plt.figure()\n",
    "\n",
    "for i in range(iterations):\n",
    "    plt.plot(t_in[i], c_in[i])\n",
    "    if i != iterations - 1:\n",
    "        plt.plot([t_in[i][-1], t_in[i][-1]], [c_in[i][-1], c_in[i+1][0]], color=\"black\")\n",
    "\n",
    "plt.plot(times_long, current_long, c=\"C0\", linestyle=\"dashed\")"
   ]
  },
  {
   "cell_type": "markdown",
   "id": "a7dd351f",
   "metadata": {},
   "source": [
    "## How's the known and observed behaviour in experimental literature?"
   ]
  },
  {
   "cell_type": "markdown",
   "id": "d52a9e30",
   "metadata": {},
   "source": [
    "### From LHC beam halo dynamics paper:\n",
    "![scheme](./ext_figs/literature_1.png)"
   ]
  },
  {
   "cell_type": "markdown",
   "id": "623ab3a3",
   "metadata": {},
   "source": [
    "### From Stancari's paper:\n",
    "![scheme2](./ext_figs/literature_2.png)"
   ]
  },
  {
   "cell_type": "markdown",
   "id": "a04e7a62",
   "metadata": {},
   "source": [
    "### Quick basic remarks\n",
    "\n",
    "* We can observe good similarities with the behaviour in our model and the established experimental data:\n",
    "    1. When we have an outward step, the current has a big dip and then a fast recover to the original current;\n",
    "    2. When we have an inward step, the current has a big peak (N.B. here we are neglecting the beam part cutted away in the process, but it can be considered and included in the plot), and then a fast relaxation to the original current;\n",
    "* There is just an element that extremely differs from the experimental data, the big change in module in the signal depending on the jaw position. Can this be related to the different closure of the jaws at the different positions?"
   ]
  },
  {
   "cell_type": "code",
   "execution_count": null,
   "id": "4e16dfa2",
   "metadata": {},
   "outputs": [],
   "source": []
  }
 ],
 "metadata": {
  "kernelspec": {
   "display_name": "Python 3",
   "language": "python",
   "name": "python3"
  },
  "language_info": {
   "codemirror_mode": {
    "name": "ipython",
    "version": 3
   },
   "file_extension": ".py",
   "mimetype": "text/x-python",
   "name": "python",
   "nbconvert_exporter": "python",
   "pygments_lexer": "ipython3",
   "version": "3.8.8"
  }
 },
 "nbformat": 4,
 "nbformat_minor": 5
}
