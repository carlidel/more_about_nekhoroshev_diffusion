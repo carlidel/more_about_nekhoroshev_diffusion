{
 "cells": [
  {
   "cell_type": "markdown",
   "id": "3e245ba8",
   "metadata": {},
   "source": [
    "# Let's play with the moving boundary condition!"
   ]
  },
  {
   "cell_type": "markdown",
   "id": "58d5edd0",
   "metadata": {},
   "source": [
    "**Are we in SWAN?**"
   ]
  },
  {
   "cell_type": "code",
   "execution_count": null,
   "id": "53e68336",
   "metadata": {},
   "outputs": [],
   "source": [
    "%pip install --user crank-nicolson-numba"
   ]
  },
  {
   "cell_type": "markdown",
   "id": "9674604f",
   "metadata": {},
   "source": [
    "**Do we want the matplotlib interactive magicness?**"
   ]
  },
  {
   "cell_type": "code",
   "execution_count": 1,
   "id": "5e3c8465",
   "metadata": {},
   "outputs": [],
   "source": [
    "%matplotlib widget"
   ]
  },
  {
   "cell_type": "markdown",
   "id": "ee217e39",
   "metadata": {},
   "source": [
    "**Library Import**"
   ]
  },
  {
   "cell_type": "code",
   "execution_count": 2,
   "id": "b5a243e9",
   "metadata": {},
   "outputs": [],
   "source": [
    "import numpy as np\n",
    "import matplotlib.pyplot as plt\n",
    "import scipy\n",
    "import scipy.integrate\n",
    "from tqdm.notebook import tqdm\n",
    "import crank_nicolson_numba.generic as cn\n",
    "import itertools\n",
    "# For parallelization\n",
    "from joblib import Parallel, delayed\n",
    "\n",
    "import nekhoroshev_tools as nt"
   ]
  },
  {
   "cell_type": "markdown",
   "id": "36638b2f",
   "metadata": {},
   "source": [
    "## First, we need to define a realistic initial distribution"
   ]
  },
  {
   "cell_type": "markdown",
   "id": "498884a0",
   "metadata": {},
   "source": [
    "It's very simple and direct: if we decide to work in normalized emittance variables, and we work with a gaussian beam distribution with it's characteristic emittance, we have that\n",
    "$$\\rho_0(I) = e^{-I}$$\n",
    "Where $I$, from now on, is expessed in sigma units."
   ]
  },
  {
   "cell_type": "code",
   "execution_count": 3,
   "id": "cfff1a35",
   "metadata": {},
   "outputs": [],
   "source": [
    "def rho_0(I, damping_position=np.nan, l=np.nan):\n",
    "    if np.isnan(damping_position) or np.isnan(l):\n",
    "        return np.exp(-I)\n",
    "    else:\n",
    "        return np.exp(-I) / (1 + np.exp((I - damping_position)/l))"
   ]
  },
  {
   "cell_type": "markdown",
   "id": "d869cdfa",
   "metadata": {},
   "source": [
    "## Working constants"
   ]
  },
  {
   "cell_type": "code",
   "execution_count": 4,
   "id": "01bf2b0b",
   "metadata": {},
   "outputs": [],
   "source": [
    "I_damping = 9.8\n",
    "I_max = 5.0\n",
    "I_star = 10.0\n",
    "k = 0.33\n",
    "exponent = 1/(2*k)\n",
    "\n",
    "c = nt.standard_c(0.0, I_max, I_star, exponent)"
   ]
  },
  {
   "cell_type": "code",
   "execution_count": 5,
   "id": "67b0a7b6",
   "metadata": {},
   "outputs": [],
   "source": [
    "cn_sampling = 50000\n",
    "I_list, dI = np.linspace(0.0, I_max, cn_sampling, retstep=True)\n",
    "\n",
    "cn_time_steps = 200\n",
    "dt = nt.current_peak_time(I_damping, I_max, I_star, exponent, c)/cn_time_steps"
   ]
  },
  {
   "cell_type": "markdown",
   "id": "022864d5",
   "metadata": {},
   "source": [
    "**Values our specific analysis**"
   ]
  },
  {
   "cell_type": "code",
   "execution_count": 6,
   "id": "8e431089",
   "metadata": {},
   "outputs": [],
   "source": [
    "steps_per_sample = 100\n",
    "\n",
    "steps_per_iteration = 100\n",
    "iterations = 4\n",
    "long_track_steps = steps_per_iteration * iterations"
   ]
  },
  {
   "cell_type": "markdown",
   "id": "f3e4650d",
   "metadata": {},
   "source": [
    "## How's the regular current for a single, constant $I_a$?"
   ]
  },
  {
   "cell_type": "code",
   "execution_count": 7,
   "id": "7fa8bc01",
   "metadata": {},
   "outputs": [
    {
     "name": "stderr",
     "output_type": "stream",
     "text": [
      "/home/camontan/Insync/carlo.montanari3@studio.unibo.it/OneDrive_Biz/projects/new_games_with_diffusion/nekhoroshev_tools.py:37: RuntimeWarning: divide by zero encountered in double_scalars\n",
      "  return c * np.exp(-2*np.power(I_star/I, exponent)) * (0.5 if halved else 1.0)\n",
      "100%|██████████| 400/400 [00:40<00:00,  9.94it/s]\n"
     ]
    }
   ],
   "source": [
    "engine = cn.cn_generic(0, I_max, rho_0(I_list, I_damping, dI*5), dt, lambda x: nt.D(x, I_star, exponent, c, True))\n",
    "data_0 = engine.get_data_with_x()\n",
    "\n",
    "times_long, current_long = engine.current(long_track_steps, steps_per_sample, False)\n",
    "data_long = engine.get_data_with_x()"
   ]
  },
  {
   "cell_type": "markdown",
   "id": "287a7fa1",
   "metadata": {},
   "source": [
    "**That's how our distribution (slowly) evolves...**\n",
    "\n",
    "(In order to see things it's necessary to work with matplotlib interactive mode and zoom a lot)"
   ]
  },
  {
   "cell_type": "code",
   "execution_count": 8,
   "id": "89389b46",
   "metadata": {},
   "outputs": [
    {
     "data": {
      "application/vnd.jupyter.widget-view+json": {
       "model_id": "67efe8615382443a8bc8063804077166",
       "version_major": 2,
       "version_minor": 0
      },
      "text/plain": [
       "Canvas(toolbar=Toolbar(toolitems=[('Home', 'Reset original view', 'home', 'home'), ('Back', 'Back to previous …"
      ]
     },
     "metadata": {},
     "output_type": "display_data"
    },
    {
     "data": {
      "text/plain": [
       "<matplotlib.legend.Legend at 0x7f18fee87850>"
      ]
     },
     "execution_count": 8,
     "metadata": {},
     "output_type": "execute_result"
    }
   ],
   "source": [
    "plt.figure()\n",
    "plt.plot(data_0[0], data_0[1], label=\"Initial condition\")\n",
    "plt.plot(data_long[0], data_long[1], label=\"After iterations\")\n",
    "plt.axvline(I_max, color=\"black\", label=\"$I_a$\")\n",
    "plt.xlabel(\"$I$\")\n",
    "plt.ylabel(\"$\\\\rho$\")\n",
    "plt.legend()"
   ]
  },
  {
   "cell_type": "markdown",
   "id": "489a1067",
   "metadata": {},
   "source": [
    "**And here's the current!**"
   ]
  },
  {
   "cell_type": "code",
   "execution_count": 177,
   "id": "f73527fd",
   "metadata": {},
   "outputs": [
    {
     "data": {
      "application/vnd.jupyter.widget-view+json": {
       "model_id": "284bf115d06f419aafa6b3f5b340ea61",
       "version_major": 2,
       "version_minor": 0
      },
      "text/plain": [
       "Canvas(toolbar=Toolbar(toolitems=[('Home', 'Reset original view', 'home', 'home'), ('Back', 'Back to previous …"
      ]
     },
     "metadata": {},
     "output_type": "display_data"
    },
    {
     "data": {
      "text/plain": [
       "Text(0, 0.5, '$J$')"
      ]
     },
     "execution_count": 177,
     "metadata": {},
     "output_type": "execute_result"
    }
   ],
   "source": [
    "plt.figure()\n",
    "plt.plot(times_long, current_long)\n",
    "plt.xlabel(\"$t$\")\n",
    "plt.ylabel(\"$J$\")"
   ]
  },
  {
   "cell_type": "markdown",
   "id": "460fee84",
   "metadata": {},
   "source": [
    "## And what happens when we have $I_a$ moving outwards?"
   ]
  },
  {
   "cell_type": "code",
   "execution_count": 178,
   "id": "e984a763",
   "metadata": {
    "scrolled": true,
    "tags": []
   },
   "outputs": [
    {
     "name": "stderr",
     "output_type": "stream",
     "text": [
      "/home/camontan/Insync/carlo.montanari3@studio.unibo.it/OneDrive_Biz/projects/new_games_with_diffusion/nekhoroshev_tools.py:37: RuntimeWarning: divide by zero encountered in double_scalars\n",
      "  return c * np.exp(-2*np.power(I_star/I, exponent)) * (0.5 if halved else 1.0)\n"
     ]
    },
    {
     "data": {
      "application/vnd.jupyter.widget-view+json": {
       "model_id": "c5e61a9e20e841debb2a603268df421f",
       "version_major": 2,
       "version_minor": 0
      },
      "text/plain": [
       "  0%|          | 0/4 [00:00<?, ?it/s]"
      ]
     },
     "metadata": {},
     "output_type": "display_data"
    }
   ],
   "source": [
    "engine = cn.cn_generic(0, I_max, rho_0(I_list, I_damping, dI*5), dt, lambda x: nt.D(x, I_star, exponent, c, True))\n",
    "\n",
    "t_out = []\n",
    "c_out = []\n",
    "\n",
    "for i in tqdm(range(iterations)):\n",
    "    time, current = engine.current(steps_per_iteration, steps_per_sample)\n",
    "    if len(t_out) > 0:\n",
    "        time += t_out[-1][-1]\n",
    "    t_out.append(time)\n",
    "    c_out.append(current)\n",
    "    engine.move_barrier_forward(1.0)"
   ]
  },
  {
   "cell_type": "code",
   "execution_count": 179,
   "id": "caf95574",
   "metadata": {},
   "outputs": [
    {
     "data": {
      "application/vnd.jupyter.widget-view+json": {
       "model_id": "b3f3d670d62e42fcb5527f8d00e1c8fc",
       "version_major": 2,
       "version_minor": 0
      },
      "text/plain": [
       "Canvas(toolbar=Toolbar(toolitems=[('Home', 'Reset original view', 'home', 'home'), ('Back', 'Back to previous …"
      ]
     },
     "metadata": {},
     "output_type": "display_data"
    },
    {
     "data": {
      "text/plain": [
       "[<matplotlib.lines.Line2D at 0x7f162ee370d0>]"
      ]
     },
     "execution_count": 179,
     "metadata": {},
     "output_type": "execute_result"
    }
   ],
   "source": [
    "plt.figure()\n",
    "\n",
    "for i in range(iterations):\n",
    "    plt.plot(t_out[i], c_out[i])\n",
    "    if i != iterations - 1:\n",
    "        plt.plot([t_out[i][-1], t_out[i][-1]], [c_out[i][-1], c_out[i+1][0]], c=\"black\")\n",
    "\n",
    "plt.plot(times_long, current_long, c=\"C0\", linestyle=\"dashed\")\n",
    "#plt.yscale(\"log\")"
   ]
  },
  {
   "cell_type": "markdown",
   "id": "bbf5b4a7",
   "metadata": {},
   "source": [
    "## And what happens when we have $I_a$ moving inwards?"
   ]
  },
  {
   "cell_type": "code",
   "execution_count": 180,
   "id": "8ae14e19",
   "metadata": {},
   "outputs": [
    {
     "name": "stderr",
     "output_type": "stream",
     "text": [
      "/home/camontan/Insync/carlo.montanari3@studio.unibo.it/OneDrive_Biz/projects/new_games_with_diffusion/nekhoroshev_tools.py:37: RuntimeWarning: divide by zero encountered in double_scalars\n",
      "  return c * np.exp(-2*np.power(I_star/I, exponent)) * (0.5 if halved else 1.0)\n"
     ]
    },
    {
     "data": {
      "application/vnd.jupyter.widget-view+json": {
       "model_id": "fc4f536e523c45e2983925bc911defbc",
       "version_major": 2,
       "version_minor": 0
      },
      "text/plain": [
       "  0%|          | 0/4 [00:00<?, ?it/s]"
      ]
     },
     "metadata": {},
     "output_type": "display_data"
    }
   ],
   "source": [
    "engine = cn.cn_generic(0, I_max, rho_0(I_list, I_damping, dI*5), dt, lambda x: nt.D(x, I_star, exponent, c, True))\n",
    "\n",
    "t_in = []\n",
    "c_in = []\n",
    "\n",
    "for i in tqdm(range(iterations)):\n",
    "    time, current = engine.current(steps_per_iteration, steps_per_sample)\n",
    "    if len(t_in) > 0:\n",
    "        time += t_in[-1][-1]\n",
    "    t_in.append(time)\n",
    "    c_in.append(current)\n",
    "    engine.move_barrier_backward(0.5)"
   ]
  },
  {
   "cell_type": "code",
   "execution_count": 181,
   "id": "56e79c0c-5459-4072-8b9e-151f123e0279",
   "metadata": {},
   "outputs": [
    {
     "data": {
      "application/vnd.jupyter.widget-view+json": {
       "model_id": "eb97fb36fef445d1ab7c6d79c3b412bb",
       "version_major": 2,
       "version_minor": 0
      },
      "text/plain": [
       "Canvas(toolbar=Toolbar(toolitems=[('Home', 'Reset original view', 'home', 'home'), ('Back', 'Back to previous …"
      ]
     },
     "metadata": {},
     "output_type": "display_data"
    },
    {
     "data": {
      "text/plain": [
       "[<matplotlib.lines.Line2D at 0x7f162ed860a0>]"
      ]
     },
     "execution_count": 181,
     "metadata": {},
     "output_type": "execute_result"
    }
   ],
   "source": [
    "plt.figure()\n",
    "data = engine.get_data_with_x()\n",
    "plt.plot(data[0], data[1])"
   ]
  },
  {
   "cell_type": "code",
   "execution_count": 182,
   "id": "1fed3fa0",
   "metadata": {},
   "outputs": [
    {
     "data": {
      "application/vnd.jupyter.widget-view+json": {
       "model_id": "22e93956f29042bc9c9070c0120d4d3f",
       "version_major": 2,
       "version_minor": 0
      },
      "text/plain": [
       "Canvas(toolbar=Toolbar(toolitems=[('Home', 'Reset original view', 'home', 'home'), ('Back', 'Back to previous …"
      ]
     },
     "metadata": {},
     "output_type": "display_data"
    },
    {
     "data": {
      "text/plain": [
       "[<matplotlib.lines.Line2D at 0x7f162ed54700>]"
      ]
     },
     "execution_count": 182,
     "metadata": {},
     "output_type": "execute_result"
    }
   ],
   "source": [
    "plt.figure()\n",
    "\n",
    "for i in range(iterations):\n",
    "    plt.plot(t_in[i], c_in[i])\n",
    "    if i != iterations - 1:\n",
    "        plt.plot([t_in[i][-1], t_in[i][-1]], [c_in[i][-1], c_in[i+1][0]], color=\"black\")\n",
    "\n",
    "plt.plot(times_long, current_long, c=\"C0\", linestyle=\"dashed\")"
   ]
  },
  {
   "cell_type": "markdown",
   "id": "c8ff6993-ff96-40b0-9994-98331fbb01ed",
   "metadata": {},
   "source": [
    "# A couple of attempts in fitting an exponential law"
   ]
  },
  {
   "cell_type": "code",
   "execution_count": 103,
   "id": "a16ce0a9-1463-4ebc-9994-f7a229624523",
   "metadata": {},
   "outputs": [],
   "source": [
    "def basic_exponential(x, k, c, a):\n",
    "    return c * np.exp(-k*(x+a)**2)/(x+a)**(3/2)"
   ]
  },
  {
   "cell_type": "code",
   "execution_count": 104,
   "id": "dbeaccb5-2547-4af8-87d3-6b60946c28b3",
   "metadata": {},
   "outputs": [],
   "source": [
    "popts = []\n",
    "pcovs = []\n",
    "\n",
    "for i in range(iterations):\n",
    "    t = t_in[i] if i == 0 else t_in[i] - t_in[i-1][-1]\n",
    "    current = c_in[i]\n",
    "    popt, pcov = scipy.optimize.curve_fit(\n",
    "        basic_exponential,\n",
    "        t,\n",
    "        current\n",
    "    )\n",
    "    popts.append(popt)\n",
    "    pcovs.append(pcov)"
   ]
  },
  {
   "cell_type": "code",
   "execution_count": 105,
   "id": "755012c2-605c-4e66-898d-f52b47d25247",
   "metadata": {},
   "outputs": [],
   "source": [
    "long_popt, long_pcov = scipy.optimize.curve_fit(\n",
    "    basic_exponential,\n",
    "    times_long,\n",
    "    current_long\n",
    ")"
   ]
  },
  {
   "cell_type": "code",
   "execution_count": 106,
   "id": "db29c47d-9f0e-4e4b-b277-78c44a4190c4",
   "metadata": {},
   "outputs": [
    {
     "data": {
      "application/vnd.jupyter.widget-view+json": {
       "model_id": "333cc31e78cd4c5fb544b111d175bbb3",
       "version_major": 2,
       "version_minor": 0
      },
      "text/plain": [
       "Canvas(toolbar=Toolbar(toolitems=[('Home', 'Reset original view', 'home', 'home'), ('Back', 'Back to previous …"
      ]
     },
     "metadata": {},
     "output_type": "display_data"
    },
    {
     "data": {
      "text/plain": [
       "[<matplotlib.lines.Line2D at 0x7f1634800ee0>]"
      ]
     },
     "execution_count": 106,
     "metadata": {},
     "output_type": "execute_result"
    }
   ],
   "source": [
    "plt.figure()\n",
    "\n",
    "for i in range(iterations):\n",
    "    plt.plot(t_in[i], c_in[i])\n",
    "    t = t_in[i] if i == 0 else t_in[i] - t_in[i-1][-1]\n",
    "    plt.plot(\n",
    "        t_in[i],\n",
    "        basic_exponential(t, popts[i][0], popts[i][1], popts[i][2]),\n",
    "        color=\"grey\",\n",
    "        linestyle=\"dashed\"\n",
    "    )\n",
    "    if i != iterations - 1:\n",
    "        plt.plot([t_in[i][-1], t_in[i][-1]], [c_in[i][-1], c_in[i+1][0]], color=\"black\")\n",
    "\n",
    "plt.plot(times_long, current_long, c=\"C0\", linestyle=\"dashed\")\n",
    "plt.plot(\n",
    "    times_long,\n",
    "    basic_exponential(\n",
    "        times_long,\n",
    "        long_popt[0],\n",
    "        long_popt[1],\n",
    "        long_popt[2]\n",
    "    ),\n",
    "    color=\"black\",\n",
    "    linestyle=\"dashed\"\n",
    ")"
   ]
  },
  {
   "cell_type": "markdown",
   "id": "88e69138",
   "metadata": {},
   "source": [
    "## How's the known and observed behaviour in experimental literature?"
   ]
  },
  {
   "cell_type": "markdown",
   "id": "e583a448",
   "metadata": {},
   "source": [
    "### From LHC beam halo dynamics paper:\n",
    "![scheme](literature_1.png)"
   ]
  },
  {
   "cell_type": "markdown",
   "id": "6bebdcd9",
   "metadata": {},
   "source": [
    "### From Stancari's paper:\n",
    "![scheme2](literature_2.png)"
   ]
  },
  {
   "cell_type": "markdown",
   "id": "caeb18bc",
   "metadata": {},
   "source": [
    "### Quick basic remarks\n",
    "\n",
    "* We can observe good similarities with the behaviour in our model and the established experimental data:\n",
    "    1. When we have an outward step, the current has a big dip and then a fast recover to the original current;\n",
    "    2. When we have an inward step, the current has a big peak (N.B. here we are neglecting the beam part cutted away in the process, but it can be considered and included in the plot), and then a fast relaxation to the original current;\n",
    "* There is just an element that extremely differs from the experimental data, the big change in module in the signal depending on the jaw position. Can this be related to the different closure of the jaws at the different positions?"
   ]
  }
 ],
 "metadata": {
  "kernelspec": {
   "display_name": "Python 3",
   "language": "python",
   "name": "python3"
  },
  "language_info": {
   "codemirror_mode": {
    "name": "ipython",
    "version": 3
   },
   "file_extension": ".py",
   "mimetype": "text/x-python",
   "name": "python",
   "nbconvert_exporter": "python",
   "pygments_lexer": "ipython3",
   "version": "3.8.8"
  }
 },
 "nbformat": 4,
 "nbformat_minor": 5
}
