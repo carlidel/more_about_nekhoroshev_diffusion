{
 "cells": [
  {
   "cell_type": "code",
   "execution_count": 1,
   "source": [
    "import pickle\n",
    "import numpy as np\n",
    "import matplotlib\n",
    "import matplotlib.pyplot as plt\n",
    "from matplotlib import gridspec\n",
    "import scipy\n",
    "import scipy.integrate\n",
    "import scipy.interpolate\n",
    "from tqdm import tqdm\n",
    "import crank_nicolson_numba.generic as cn\n",
    "import itertools\n",
    "import os\n",
    "import multiprocessing\n",
    "# For parallelization\n",
    "from joblib import Parallel, delayed\n",
    "import json\n",
    "\n",
    "import lmfit\n",
    "import nekhoroshev_tools as nt"
   ],
   "outputs": [],
   "metadata": {}
  },
  {
   "cell_type": "code",
   "execution_count": 2,
   "source": [
    "def current_estimate_backward(I_min, I_max, I_star, exponent, c, t):\n",
    "    module = nt.stationary_dist(I_min, I_max, I_star, exponent, c) * 2\n",
    "    ana_current = np.asarray(\n",
    "        nt.current_generic(\n",
    "            t, lambda x: module, I_max,\n",
    "            (I_max / 3) * 2, I_star, exponent, c\n",
    "        )\n",
    "    )\n",
    "    return ana_current\n"
   ],
   "outputs": [],
   "metadata": {}
  },
  {
   "cell_type": "code",
   "execution_count": 3,
   "source": [
    "def current_estimate_forward(I_min, I_max, I_star, exponent, c, t):\n",
    "    module = nt.stationary_dist(\n",
    "        I_min, I_max, I_star, exponent, c) * 2\n",
    "\n",
    "    def dist(x):\n",
    "        if hasattr(x, \"__iter__\"):\n",
    "            y = np.empty_like(x)\n",
    "            for i, e in enumerate(x):\n",
    "                y[i] = -module if e <= I_min else module * \\\n",
    "                    (((e - I_min) / (I_max - I_min)) - 1)\n",
    "            return y\n",
    "        if x <= I_min:\n",
    "            return - module\n",
    "        else:\n",
    "            return module * (((x - I_min) / (I_max - I_min)) - 1)\n",
    "    ana_current = np.asarray(\n",
    "        nt.current_generic(\n",
    "            t, dist, I_max,\n",
    "            (I_max / 3) * 2, I_star, exponent, c\n",
    "        )\n",
    "    )\n",
    "    return ana_current\n"
   ],
   "outputs": [],
   "metadata": {}
  },
  {
   "cell_type": "markdown",
   "source": [
    "## Experiment Parameters"
   ],
   "metadata": {}
  },
  {
   "cell_type": "code",
   "execution_count": 4,
   "source": [
    "I_star = 20.0\n",
    "kappa = 0.33\n",
    "exponent = 1 / (2 * kappa)\n",
    "\n",
    "I_max_list = np.arange(0.2, 1.5, 0.1) * I_star\n",
    "I_step_list = np.array([0.01, 0.005, 0.02]) * I_star\n",
    "fraction_list = np.array([1.0, 0.5, 0.01, 0.001])\n",
    "\n",
    "I_step = I_step_list[0]\n",
    "\n",
    "I_sampling = 2500\n",
    "t_sampling = 1000000\n",
    "\n",
    "n_0_step = t_sampling\n",
    "n_0_samp = 10\n",
    "n_1_step = t_sampling\n",
    "n_1_samp = 1\n",
    "ana_samples = 500\n"
   ],
   "outputs": [],
   "metadata": {}
  },
  {
   "cell_type": "code",
   "execution_count": 5,
   "source": [
    "def f(x, I_max):\n",
    "    c = nt.standard_c(0.0, I_max, I_star, exponent)\n",
    "    cur = np.absolute(\n",
    "        current_estimate_forward(\n",
    "            I_max - I_step, I_max, I_star, exponent, c, x\n",
    "        )\n",
    "    )\n",
    "    return np.absolute(cur - 2e-3)\n"
   ],
   "outputs": [],
   "metadata": {}
  },
  {
   "cell_type": "code",
   "execution_count": 6,
   "source": [
    "point = 2e-3\n",
    "\n",
    "times = []\n",
    "for I_max in tqdm(I_max_list):\n",
    "    sol = scipy.optimize.minimize(f, 1.0, I_max)\n",
    "    times.append(sol.x[0])\n"
   ],
   "outputs": [
    {
     "output_type": "stream",
     "name": "stderr",
     "text": [
      "100%|██████████| 13/13 [01:36<00:00,  7.43s/it]\n"
     ]
    }
   ],
   "metadata": {}
  },
  {
   "cell_type": "code",
   "execution_count": 7,
   "source": [
    "t = np.logspace(-5, 5, 21)\n",
    "curs = []\n",
    "for I_max in tqdm(I_max_list):\n",
    "    c = nt.standard_c(0.0, I_max, I_star, exponent)\n",
    "    curs.append(np.absolute(current_estimate_forward(\n",
    "        I_max - I_step, I_max, I_star, exponent, c, t\n",
    "    )))\n",
    "\n"
   ],
   "outputs": [
    {
     "output_type": "stream",
     "name": "stderr",
     "text": [
      "100%|██████████| 13/13 [00:36<00:00,  2.81s/it]\n"
     ]
    }
   ],
   "metadata": {}
  },
  {
   "cell_type": "code",
   "execution_count": 8,
   "source": [
    "with open(\"base_experiment.sub\", 'r') as f:\n",
    "    base_experiment = f.read()\n",
    "\n",
    "base_experiment += \"\\n\\n\"\n",
    "block = (\n",
    "    \"queue\\n\\n\"\n",
    ")\n",
    "\n",
    "for I_max, t_max in zip(I_max_list, times):\n",
    "    for I_step in I_step_list:\n",
    "        for fraction in fraction_list:\n",
    "            parameters = {}\n",
    "            parameters[\"I_min\"] = 3.5\n",
    "            parameters[\"I_max\"] = I_max\n",
    "            parameters[\"movement_list\"] = [\n",
    "                {\"kind\": \"still\"},\n",
    "                {\"kind\": \"forward\", \"mov\": I_step},\n",
    "                {\"kind\": \"backward\", \"mov\": I_step},\n",
    "                {\"kind\": \"forward\", \"mov\": I_step},\n",
    "                {\"kind\": \"forward\", \"mov\": I_step},\n",
    "                {\"kind\": \"backward\", \"mov\": I_step},\n",
    "                {\"kind\": \"forward\", \"mov\": I_step},\n",
    "                {\"kind\": \"forward\", \"mov\": I_step},\n",
    "                {\"kind\": \"backward\", \"mov\": I_step},\n",
    "                {\"kind\": \"forward\", \"mov\": I_step},\n",
    "                {\"kind\": \"forward\", \"mov\": I_step},\n",
    "                {\"kind\": \"backward\", \"mov\": I_step},\n",
    "                {\"kind\": \"forward\", \"mov\": I_step},\n",
    "                {\"kind\": \"forward\", \"mov\": I_step},\n",
    "                {\"kind\": \"backward\", \"mov\": I_step},\n",
    "                {\"kind\": \"forward\", \"mov\": I_step},\n",
    "                {\"kind\": \"forward\", \"mov\": I_step},\n",
    "                {\"kind\": \"backward\", \"mov\": I_step},\n",
    "                {\"kind\": \"forward\", \"mov\": I_step},\n",
    "                {\"kind\": \"forward\", \"mov\": I_step},\n",
    "                {\"kind\": \"backward\", \"mov\": I_step},\n",
    "                {\"kind\": \"forward\", \"mov\": I_step},\n",
    "                {\"kind\": \"forward\", \"mov\": I_step},\n",
    "                {\"kind\": \"backward\", \"mov\": I_step},\n",
    "                {\"kind\": \"forward\", \"mov\": I_step},\n",
    "                {\"kind\": \"forward\", \"mov\": I_step},\n",
    "                {\"kind\": \"backward\", \"mov\": I_step},\n",
    "                {\"kind\": \"forward\", \"mov\": I_step},\n",
    "                {\"kind\": \"forward\", \"mov\": I_step},\n",
    "                {\"kind\": \"backward\", \"mov\": I_step},\n",
    "                {\"kind\": \"forward\", \"mov\": I_step},\n",
    "            ]\n",
    "            parameters[\"I_sampling\"] = I_sampling\n",
    "            parameters[\"t_sampling\"] = t_sampling\n",
    "            parameters[\"time_interval\"] = t_max\n",
    "            parameters[\"I_star\"] = I_star\n",
    "            parameters[\"exponent\"] = exponent\n",
    "            parameters[\"c\"] = nt.standard_c(0.0, I_max, I_star, exponent)\n",
    "            parameters[\"n_0_step\"] = n_0_step\n",
    "            parameters[\"n_0_samp\"] = n_0_samp\n",
    "            parameters[\"n_1_step\"] = n_1_step\n",
    "            parameters[\"n_1_samp\"] = n_1_samp\n",
    "            parameters[\"ana_samples\"] = ana_samples\n",
    "\n",
    "            name = \"Imax_{:.2f}_Istep_{:.2f}_fraction_{:.3f}\".format(\n",
    "                I_max, I_step, fraction)\n",
    "            #print(name)\n",
    "            parameters[\"name\"] = name\n",
    "\n",
    "            with open(\"parameters/param_{}.json\".format(name), 'w') as f:\n",
    "                json.dump(parameters, f, indent=4)\n",
    "            \n",
    "            base_experiment += \"file=\" + \"param_{}.json\".format(name) + \"\\n\" + block\n",
    "\n",
    "with open(\"execute_experiment.sub\", 'w') as f:\n",
    "    f.write(base_experiment)"
   ],
   "outputs": [],
   "metadata": {}
  }
 ],
 "metadata": {
  "orig_nbformat": 4,
  "language_info": {
   "name": "python",
   "version": "3.8.11",
   "mimetype": "text/x-python",
   "codemirror_mode": {
    "name": "ipython",
    "version": 3
   },
   "pygments_lexer": "ipython3",
   "nbconvert_exporter": "python",
   "file_extension": ".py"
  },
  "kernelspec": {
   "name": "python3",
   "display_name": "Python 3.8.11 64-bit ('base': conda)"
  },
  "interpreter": {
   "hash": "db96e1c30160ee3c0d45061069670da7ba0ae7a01aed96792813dc9f239e4180"
  }
 },
 "nbformat": 4,
 "nbformat_minor": 2
}